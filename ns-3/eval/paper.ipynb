{
 "cells": [
  {
   "cell_type": "code",
   "execution_count": 1,
   "metadata": {},
   "outputs": [],
   "source": [
    "import pandas\n",
    "import numpy as np\n",
    "import os\n",
    "import glob\n",
    "import plotly.express as px\n",
    "import plotly.subplots as sp\n",
    "import statsmodels\n",
    "\n",
    "from load import *\n",
    "\n",
    "pandas.set_option('display.max_columns', 200)\n",
    "pandas.set_option('display.max_rows', 80)"
   ]
  },
  {
   "cell_type": "code",
   "execution_count": 2,
   "metadata": {
    "tags": []
   },
   "outputs": [],
   "source": [
    "btp_raw = pandas.concat([load_csv(path) for path in glob.glob(\"../results/ns-3/*_*_true_*_*_*_*_*.csv\")])"
   ]
  },
  {
   "cell_type": "code",
   "execution_count": 3,
   "metadata": {},
   "outputs": [],
   "source": [
    "sbp_raw = pandas.concat([load_data(path) for path in glob.glob(\"../results/ns-3/*_*_false_*_*_*_*_*.log\")])"
   ]
  },
  {
   "cell_type": "code",
   "execution_count": 4,
   "metadata": {},
   "outputs": [],
   "source": [
    "raw = pandas.concat([btp_raw, sbp_raw])\n",
    "raw[\"Construction Time (s)\"] = raw[\"Time to Build (ms)\"] / 1000"
   ]
  },
  {
   "cell_type": "code",
   "execution_count": 5,
   "metadata": {},
   "outputs": [],
   "source": [
    "raw.reset_index(inplace=True)"
   ]
  },
  {
   "cell_type": "code",
   "execution_count": 6,
   "metadata": {},
   "outputs": [],
   "source": [
    "cycle_color_map = {\n",
    "    \"Mutex\": \"#636EFA\",\n",
    "    \"Path to Source\": \"#EF553B\",\n",
    "    \"Ping to Source\": \"#00CC96\",\n",
    "}"
   ]
  },
  {
   "cell_type": "markdown",
   "metadata": {},
   "source": [
    "## Filter & Present Invalid Runs"
   ]
  },
  {
   "cell_type": "code",
   "execution_count": 7,
   "metadata": {
    "tags": []
   },
   "outputs": [],
   "source": [
    "invalid = raw[\n",
    "    (raw[\"Unconnected Nodes\"] > 1)\n",
    "    | (raw[\"Cycles Lasted\"] > 0.0)\n",
    "]"
   ]
  },
  {
   "cell_type": "code",
   "execution_count": 8,
   "metadata": {},
   "outputs": [],
   "source": [
    "df = raw.loc[\n",
    "    (raw[\"Unconnected Nodes\"] <= 1)\n",
    "    & (raw['Cycles Lasted'] == 0)\n",
    "]"
   ]
  },
  {
   "cell_type": "code",
   "execution_count": 20,
   "metadata": {
    "tags": []
   },
   "outputs": [
    {
     "data": {
      "application/vnd.plotly.v1+json": {
       "config": {
        "plotlyServerURL": "https://plot.ly"
       },
       "data": [
        {
         "alignmentgroup": "True",
         "hovertemplate": "Cycle Handling=Mutex<br>Area Conf.=300<br>Number of Nodes=%{x}<br>Run=%{y}<extra></extra>",
         "legendgroup": "Mutex",
         "marker": {
          "color": "#636EFA",
          "pattern": {
           "shape": ""
          }
         },
         "name": "Mutex",
         "offsetgroup": "Mutex",
         "orientation": "v",
         "showlegend": true,
         "textposition": "auto",
         "type": "bar",
         "x": [
          "250",
          "200",
          "150",
          "50",
          "100"
         ],
         "xaxis": "x3",
         "y": [
          1,
          1,
          1,
          2,
          2
         ],
         "yaxis": "y3"
        },
        {
         "alignmentgroup": "True",
         "hovertemplate": "Cycle Handling=Mutex<br>Area Conf.=400<br>Number of Nodes=%{x}<br>Run=%{y}<extra></extra>",
         "legendgroup": "Mutex",
         "marker": {
          "color": "#636EFA",
          "pattern": {
           "shape": ""
          }
         },
         "name": "Mutex",
         "offsetgroup": "Mutex",
         "orientation": "v",
         "showlegend": false,
         "textposition": "auto",
         "type": "bar",
         "x": [
          "50",
          "200",
          "150",
          "100",
          "250",
          "300"
         ],
         "xaxis": "x4",
         "y": [
          5,
          8,
          9,
          8,
          1,
          8
         ],
         "yaxis": "y4"
        },
        {
         "alignmentgroup": "True",
         "hovertemplate": "Cycle Handling=Mutex<br>Area Conf.=500<br>Number of Nodes=%{x}<br>Run=%{y}<extra></extra>",
         "legendgroup": "Mutex",
         "marker": {
          "color": "#636EFA",
          "pattern": {
           "shape": ""
          }
         },
         "name": "Mutex",
         "offsetgroup": "Mutex",
         "orientation": "v",
         "showlegend": false,
         "textposition": "auto",
         "type": "bar",
         "x": [
          "300",
          "200",
          "150",
          "100",
          "50",
          "250"
         ],
         "xaxis": "x5",
         "y": [
          18,
          18,
          20,
          13,
          16,
          22
         ],
         "yaxis": "y5"
        },
        {
         "alignmentgroup": "True",
         "hovertemplate": "Cycle Handling=Path-to-Source<br>Area Conf.=100<br>Number of Nodes=%{x}<br>Run=%{y}<extra></extra>",
         "legendgroup": "Path-to-Source",
         "marker": {
          "color": "#EF553B",
          "pattern": {
           "shape": ""
          }
         },
         "name": "Path-to-Source",
         "offsetgroup": "Path to Source",
         "orientation": "v",
         "showlegend": true,
         "textposition": "auto",
         "type": "bar",
         "x": [
          "300"
         ],
         "xaxis": "x",
         "y": [
          1
         ],
         "yaxis": "y"
        },
        {
         "alignmentgroup": "True",
         "hovertemplate": "Cycle Handling=Path-to-Source<br>Area Conf.=200<br>Number of Nodes=%{x}<br>Run=%{y}<extra></extra>",
         "legendgroup": "Path-to-Source",
         "marker": {
          "color": "#EF553B",
          "pattern": {
           "shape": ""
          }
         },
         "name": "Path-to-Source",
         "offsetgroup": "Path to Source",
         "orientation": "v",
         "showlegend": false,
         "textposition": "auto",
         "type": "bar",
         "x": [
          "250",
          "200",
          "150",
          "100"
         ],
         "xaxis": "x2",
         "y": [
          1,
          1,
          1,
          2
         ],
         "yaxis": "y2"
        },
        {
         "alignmentgroup": "True",
         "hovertemplate": "Cycle Handling=Path-to-Source<br>Area Conf.=300<br>Number of Nodes=%{x}<br>Run=%{y}<extra></extra>",
         "legendgroup": "Path-to-Source",
         "marker": {
          "color": "#EF553B",
          "pattern": {
           "shape": ""
          }
         },
         "name": "Path-to-Source",
         "offsetgroup": "Path to Source",
         "orientation": "v",
         "showlegend": false,
         "textposition": "auto",
         "type": "bar",
         "x": [
          "250",
          "200",
          "150",
          "300",
          "50",
          "100"
         ],
         "xaxis": "x3",
         "y": [
          4,
          3,
          7,
          6,
          2,
          3
         ],
         "yaxis": "y3"
        },
        {
         "alignmentgroup": "True",
         "hovertemplate": "Cycle Handling=Path-to-Source<br>Area Conf.=400<br>Number of Nodes=%{x}<br>Run=%{y}<extra></extra>",
         "legendgroup": "Path-to-Source",
         "marker": {
          "color": "#EF553B",
          "pattern": {
           "shape": ""
          }
         },
         "name": "Path-to-Source",
         "offsetgroup": "Path to Source",
         "orientation": "v",
         "showlegend": false,
         "textposition": "auto",
         "type": "bar",
         "x": [
          "100",
          "200",
          "50",
          "250",
          "150",
          "300"
         ],
         "xaxis": "x4",
         "y": [
          3,
          7,
          3,
          7,
          5,
          4
         ],
         "yaxis": "y4"
        },
        {
         "alignmentgroup": "True",
         "hovertemplate": "Cycle Handling=Path-to-Source<br>Area Conf.=500<br>Number of Nodes=%{x}<br>Run=%{y}<extra></extra>",
         "legendgroup": "Path-to-Source",
         "marker": {
          "color": "#EF553B",
          "pattern": {
           "shape": ""
          }
         },
         "name": "Path-to-Source",
         "offsetgroup": "Path to Source",
         "orientation": "v",
         "showlegend": false,
         "textposition": "auto",
         "type": "bar",
         "x": [
          "250",
          "150",
          "200",
          "100",
          "50",
          "300"
         ],
         "xaxis": "x5",
         "y": [
          5,
          4,
          4,
          5,
          2,
          4
         ],
         "yaxis": "y5"
        },
        {
         "alignmentgroup": "True",
         "hovertemplate": "Cycle Handling=Ping-to-Source<br>Area Conf.=500<br>Number of Nodes=%{x}<br>Run=%{y}<extra></extra>",
         "legendgroup": "Ping-to-Source",
         "marker": {
          "color": "#00CC96",
          "pattern": {
           "shape": ""
          }
         },
         "name": "Ping-to-Source",
         "offsetgroup": "Ping to Source",
         "orientation": "v",
         "showlegend": true,
         "textposition": "auto",
         "type": "bar",
         "x": [
          "250",
          "50"
         ],
         "xaxis": "x5",
         "y": [
          1,
          2
         ],
         "yaxis": "y5"
        }
       ],
       "layout": {
        "annotations": [
         {
          "font": {},
          "showarrow": false,
          "text": "Area Conf. (1)",
          "x": 0.09200000000000001,
          "xanchor": "center",
          "xref": "paper",
          "y": 1,
          "yanchor": "bottom",
          "yref": "paper"
         },
         {
          "font": {},
          "showarrow": false,
          "text": "Area Conf. (2)",
          "x": 0.29600000000000004,
          "xanchor": "center",
          "xref": "paper",
          "y": 1,
          "yanchor": "bottom",
          "yref": "paper"
         },
         {
          "font": {},
          "showarrow": false,
          "text": "Area Conf. (3)",
          "x": 0.5,
          "xanchor": "center",
          "xref": "paper",
          "y": 1,
          "yanchor": "bottom",
          "yref": "paper"
         },
         {
          "font": {},
          "showarrow": false,
          "text": "Area Conf. (4)",
          "x": 0.7040000000000002,
          "xanchor": "center",
          "xref": "paper",
          "y": 1,
          "yanchor": "bottom",
          "yref": "paper"
         },
         {
          "font": {},
          "showarrow": false,
          "text": "Area Conf. (5)",
          "x": 0.908,
          "xanchor": "center",
          "xref": "paper",
          "y": 1,
          "yanchor": "bottom",
          "yref": "paper"
         }
        ],
        "barmode": "group",
        "legend": {
         "title": {
          "text": "Cycle Handling"
         },
         "tracegroupgap": 0
        },
        "margin": {
         "t": 60
        },
        "template": {
         "data": {
          "bar": [
           {
            "error_x": {
             "color": "#2a3f5f"
            },
            "error_y": {
             "color": "#2a3f5f"
            },
            "marker": {
             "line": {
              "color": "#E5ECF6",
              "width": 0.5
             },
             "pattern": {
              "fillmode": "overlay",
              "size": 10,
              "solidity": 0.2
             }
            },
            "type": "bar"
           }
          ],
          "barpolar": [
           {
            "marker": {
             "line": {
              "color": "#E5ECF6",
              "width": 0.5
             },
             "pattern": {
              "fillmode": "overlay",
              "size": 10,
              "solidity": 0.2
             }
            },
            "type": "barpolar"
           }
          ],
          "carpet": [
           {
            "aaxis": {
             "endlinecolor": "#2a3f5f",
             "gridcolor": "white",
             "linecolor": "white",
             "minorgridcolor": "white",
             "startlinecolor": "#2a3f5f"
            },
            "baxis": {
             "endlinecolor": "#2a3f5f",
             "gridcolor": "white",
             "linecolor": "white",
             "minorgridcolor": "white",
             "startlinecolor": "#2a3f5f"
            },
            "type": "carpet"
           }
          ],
          "choropleth": [
           {
            "colorbar": {
             "outlinewidth": 0,
             "ticks": ""
            },
            "type": "choropleth"
           }
          ],
          "contour": [
           {
            "colorbar": {
             "outlinewidth": 0,
             "ticks": ""
            },
            "colorscale": [
             [
              0,
              "#0d0887"
             ],
             [
              0.1111111111111111,
              "#46039f"
             ],
             [
              0.2222222222222222,
              "#7201a8"
             ],
             [
              0.3333333333333333,
              "#9c179e"
             ],
             [
              0.4444444444444444,
              "#bd3786"
             ],
             [
              0.5555555555555556,
              "#d8576b"
             ],
             [
              0.6666666666666666,
              "#ed7953"
             ],
             [
              0.7777777777777778,
              "#fb9f3a"
             ],
             [
              0.8888888888888888,
              "#fdca26"
             ],
             [
              1,
              "#f0f921"
             ]
            ],
            "type": "contour"
           }
          ],
          "contourcarpet": [
           {
            "colorbar": {
             "outlinewidth": 0,
             "ticks": ""
            },
            "type": "contourcarpet"
           }
          ],
          "heatmap": [
           {
            "colorbar": {
             "outlinewidth": 0,
             "ticks": ""
            },
            "colorscale": [
             [
              0,
              "#0d0887"
             ],
             [
              0.1111111111111111,
              "#46039f"
             ],
             [
              0.2222222222222222,
              "#7201a8"
             ],
             [
              0.3333333333333333,
              "#9c179e"
             ],
             [
              0.4444444444444444,
              "#bd3786"
             ],
             [
              0.5555555555555556,
              "#d8576b"
             ],
             [
              0.6666666666666666,
              "#ed7953"
             ],
             [
              0.7777777777777778,
              "#fb9f3a"
             ],
             [
              0.8888888888888888,
              "#fdca26"
             ],
             [
              1,
              "#f0f921"
             ]
            ],
            "type": "heatmap"
           }
          ],
          "heatmapgl": [
           {
            "colorbar": {
             "outlinewidth": 0,
             "ticks": ""
            },
            "colorscale": [
             [
              0,
              "#0d0887"
             ],
             [
              0.1111111111111111,
              "#46039f"
             ],
             [
              0.2222222222222222,
              "#7201a8"
             ],
             [
              0.3333333333333333,
              "#9c179e"
             ],
             [
              0.4444444444444444,
              "#bd3786"
             ],
             [
              0.5555555555555556,
              "#d8576b"
             ],
             [
              0.6666666666666666,
              "#ed7953"
             ],
             [
              0.7777777777777778,
              "#fb9f3a"
             ],
             [
              0.8888888888888888,
              "#fdca26"
             ],
             [
              1,
              "#f0f921"
             ]
            ],
            "type": "heatmapgl"
           }
          ],
          "histogram": [
           {
            "marker": {
             "pattern": {
              "fillmode": "overlay",
              "size": 10,
              "solidity": 0.2
             }
            },
            "type": "histogram"
           }
          ],
          "histogram2d": [
           {
            "colorbar": {
             "outlinewidth": 0,
             "ticks": ""
            },
            "colorscale": [
             [
              0,
              "#0d0887"
             ],
             [
              0.1111111111111111,
              "#46039f"
             ],
             [
              0.2222222222222222,
              "#7201a8"
             ],
             [
              0.3333333333333333,
              "#9c179e"
             ],
             [
              0.4444444444444444,
              "#bd3786"
             ],
             [
              0.5555555555555556,
              "#d8576b"
             ],
             [
              0.6666666666666666,
              "#ed7953"
             ],
             [
              0.7777777777777778,
              "#fb9f3a"
             ],
             [
              0.8888888888888888,
              "#fdca26"
             ],
             [
              1,
              "#f0f921"
             ]
            ],
            "type": "histogram2d"
           }
          ],
          "histogram2dcontour": [
           {
            "colorbar": {
             "outlinewidth": 0,
             "ticks": ""
            },
            "colorscale": [
             [
              0,
              "#0d0887"
             ],
             [
              0.1111111111111111,
              "#46039f"
             ],
             [
              0.2222222222222222,
              "#7201a8"
             ],
             [
              0.3333333333333333,
              "#9c179e"
             ],
             [
              0.4444444444444444,
              "#bd3786"
             ],
             [
              0.5555555555555556,
              "#d8576b"
             ],
             [
              0.6666666666666666,
              "#ed7953"
             ],
             [
              0.7777777777777778,
              "#fb9f3a"
             ],
             [
              0.8888888888888888,
              "#fdca26"
             ],
             [
              1,
              "#f0f921"
             ]
            ],
            "type": "histogram2dcontour"
           }
          ],
          "mesh3d": [
           {
            "colorbar": {
             "outlinewidth": 0,
             "ticks": ""
            },
            "type": "mesh3d"
           }
          ],
          "parcoords": [
           {
            "line": {
             "colorbar": {
              "outlinewidth": 0,
              "ticks": ""
             }
            },
            "type": "parcoords"
           }
          ],
          "pie": [
           {
            "automargin": true,
            "type": "pie"
           }
          ],
          "scatter": [
           {
            "fillpattern": {
             "fillmode": "overlay",
             "size": 10,
             "solidity": 0.2
            },
            "type": "scatter"
           }
          ],
          "scatter3d": [
           {
            "line": {
             "colorbar": {
              "outlinewidth": 0,
              "ticks": ""
             }
            },
            "marker": {
             "colorbar": {
              "outlinewidth": 0,
              "ticks": ""
             }
            },
            "type": "scatter3d"
           }
          ],
          "scattercarpet": [
           {
            "marker": {
             "colorbar": {
              "outlinewidth": 0,
              "ticks": ""
             }
            },
            "type": "scattercarpet"
           }
          ],
          "scattergeo": [
           {
            "marker": {
             "colorbar": {
              "outlinewidth": 0,
              "ticks": ""
             }
            },
            "type": "scattergeo"
           }
          ],
          "scattergl": [
           {
            "marker": {
             "colorbar": {
              "outlinewidth": 0,
              "ticks": ""
             }
            },
            "type": "scattergl"
           }
          ],
          "scattermapbox": [
           {
            "marker": {
             "colorbar": {
              "outlinewidth": 0,
              "ticks": ""
             }
            },
            "type": "scattermapbox"
           }
          ],
          "scatterpolar": [
           {
            "marker": {
             "colorbar": {
              "outlinewidth": 0,
              "ticks": ""
             }
            },
            "type": "scatterpolar"
           }
          ],
          "scatterpolargl": [
           {
            "marker": {
             "colorbar": {
              "outlinewidth": 0,
              "ticks": ""
             }
            },
            "type": "scatterpolargl"
           }
          ],
          "scatterternary": [
           {
            "marker": {
             "colorbar": {
              "outlinewidth": 0,
              "ticks": ""
             }
            },
            "type": "scatterternary"
           }
          ],
          "surface": [
           {
            "colorbar": {
             "outlinewidth": 0,
             "ticks": ""
            },
            "colorscale": [
             [
              0,
              "#0d0887"
             ],
             [
              0.1111111111111111,
              "#46039f"
             ],
             [
              0.2222222222222222,
              "#7201a8"
             ],
             [
              0.3333333333333333,
              "#9c179e"
             ],
             [
              0.4444444444444444,
              "#bd3786"
             ],
             [
              0.5555555555555556,
              "#d8576b"
             ],
             [
              0.6666666666666666,
              "#ed7953"
             ],
             [
              0.7777777777777778,
              "#fb9f3a"
             ],
             [
              0.8888888888888888,
              "#fdca26"
             ],
             [
              1,
              "#f0f921"
             ]
            ],
            "type": "surface"
           }
          ],
          "table": [
           {
            "cells": {
             "fill": {
              "color": "#EBF0F8"
             },
             "line": {
              "color": "white"
             }
            },
            "header": {
             "fill": {
              "color": "#C8D4E3"
             },
             "line": {
              "color": "white"
             }
            },
            "type": "table"
           }
          ]
         },
         "layout": {
          "annotationdefaults": {
           "arrowcolor": "#2a3f5f",
           "arrowhead": 0,
           "arrowwidth": 1
          },
          "autotypenumbers": "strict",
          "coloraxis": {
           "colorbar": {
            "outlinewidth": 0,
            "ticks": ""
           }
          },
          "colorscale": {
           "diverging": [
            [
             0,
             "#8e0152"
            ],
            [
             0.1,
             "#c51b7d"
            ],
            [
             0.2,
             "#de77ae"
            ],
            [
             0.3,
             "#f1b6da"
            ],
            [
             0.4,
             "#fde0ef"
            ],
            [
             0.5,
             "#f7f7f7"
            ],
            [
             0.6,
             "#e6f5d0"
            ],
            [
             0.7,
             "#b8e186"
            ],
            [
             0.8,
             "#7fbc41"
            ],
            [
             0.9,
             "#4d9221"
            ],
            [
             1,
             "#276419"
            ]
           ],
           "sequential": [
            [
             0,
             "#0d0887"
            ],
            [
             0.1111111111111111,
             "#46039f"
            ],
            [
             0.2222222222222222,
             "#7201a8"
            ],
            [
             0.3333333333333333,
             "#9c179e"
            ],
            [
             0.4444444444444444,
             "#bd3786"
            ],
            [
             0.5555555555555556,
             "#d8576b"
            ],
            [
             0.6666666666666666,
             "#ed7953"
            ],
            [
             0.7777777777777778,
             "#fb9f3a"
            ],
            [
             0.8888888888888888,
             "#fdca26"
            ],
            [
             1,
             "#f0f921"
            ]
           ],
           "sequentialminus": [
            [
             0,
             "#0d0887"
            ],
            [
             0.1111111111111111,
             "#46039f"
            ],
            [
             0.2222222222222222,
             "#7201a8"
            ],
            [
             0.3333333333333333,
             "#9c179e"
            ],
            [
             0.4444444444444444,
             "#bd3786"
            ],
            [
             0.5555555555555556,
             "#d8576b"
            ],
            [
             0.6666666666666666,
             "#ed7953"
            ],
            [
             0.7777777777777778,
             "#fb9f3a"
            ],
            [
             0.8888888888888888,
             "#fdca26"
            ],
            [
             1,
             "#f0f921"
            ]
           ]
          },
          "colorway": [
           "#636efa",
           "#EF553B",
           "#00cc96",
           "#ab63fa",
           "#FFA15A",
           "#19d3f3",
           "#FF6692",
           "#B6E880",
           "#FF97FF",
           "#FECB52"
          ],
          "font": {
           "color": "#2a3f5f"
          },
          "geo": {
           "bgcolor": "white",
           "lakecolor": "white",
           "landcolor": "#E5ECF6",
           "showlakes": true,
           "showland": true,
           "subunitcolor": "white"
          },
          "hoverlabel": {
           "align": "left"
          },
          "hovermode": "closest",
          "mapbox": {
           "style": "light"
          },
          "paper_bgcolor": "white",
          "plot_bgcolor": "#E5ECF6",
          "polar": {
           "angularaxis": {
            "gridcolor": "white",
            "linecolor": "white",
            "ticks": ""
           },
           "bgcolor": "#E5ECF6",
           "radialaxis": {
            "gridcolor": "white",
            "linecolor": "white",
            "ticks": ""
           }
          },
          "scene": {
           "xaxis": {
            "backgroundcolor": "#E5ECF6",
            "gridcolor": "white",
            "gridwidth": 2,
            "linecolor": "white",
            "showbackground": true,
            "ticks": "",
            "zerolinecolor": "white"
           },
           "yaxis": {
            "backgroundcolor": "#E5ECF6",
            "gridcolor": "white",
            "gridwidth": 2,
            "linecolor": "white",
            "showbackground": true,
            "ticks": "",
            "zerolinecolor": "white"
           },
           "zaxis": {
            "backgroundcolor": "#E5ECF6",
            "gridcolor": "white",
            "gridwidth": 2,
            "linecolor": "white",
            "showbackground": true,
            "ticks": "",
            "zerolinecolor": "white"
           }
          },
          "shapedefaults": {
           "line": {
            "color": "#2a3f5f"
           }
          },
          "ternary": {
           "aaxis": {
            "gridcolor": "white",
            "linecolor": "white",
            "ticks": ""
           },
           "baxis": {
            "gridcolor": "white",
            "linecolor": "white",
            "ticks": ""
           },
           "bgcolor": "#E5ECF6",
           "caxis": {
            "gridcolor": "white",
            "linecolor": "white",
            "ticks": ""
           }
          },
          "title": {
           "x": 0.05
          },
          "xaxis": {
           "automargin": true,
           "gridcolor": "white",
           "linecolor": "white",
           "ticks": "",
           "title": {
            "standoff": 15
           },
           "zerolinecolor": "white",
           "zerolinewidth": 2
          },
          "yaxis": {
           "automargin": true,
           "gridcolor": "white",
           "linecolor": "white",
           "ticks": "",
           "title": {
            "standoff": 15
           },
           "zerolinecolor": "white",
           "zerolinewidth": 2
          }
         }
        },
        "xaxis": {
         "anchor": "y",
         "categoryarray": [
          "50",
          "100",
          "150",
          "200",
          "250",
          "300"
         ],
         "categoryorder": "array",
         "domain": [
          0,
          0.18400000000000002
         ],
         "tickangle": 90,
         "title": {
          "text": "Number of Nodes"
         }
        },
        "xaxis2": {
         "anchor": "y2",
         "categoryarray": [
          "50",
          "100",
          "150",
          "200",
          "250",
          "300"
         ],
         "categoryorder": "array",
         "domain": [
          0.20400000000000001,
          0.388
         ],
         "matches": "x",
         "tickangle": 90,
         "title": {
          "text": "Number of Nodes"
         }
        },
        "xaxis3": {
         "anchor": "y3",
         "categoryarray": [
          "50",
          "100",
          "150",
          "200",
          "250",
          "300"
         ],
         "categoryorder": "array",
         "domain": [
          0.40800000000000003,
          0.5920000000000001
         ],
         "matches": "x",
         "tickangle": 90,
         "title": {
          "text": "Number of Nodes"
         }
        },
        "xaxis4": {
         "anchor": "y4",
         "categoryarray": [
          "50",
          "100",
          "150",
          "200",
          "250",
          "300"
         ],
         "categoryorder": "array",
         "domain": [
          0.6120000000000001,
          0.7960000000000002
         ],
         "matches": "x",
         "tickangle": 90,
         "title": {
          "text": "Number of Nodes"
         }
        },
        "xaxis5": {
         "anchor": "y5",
         "categoryarray": [
          "50",
          "100",
          "150",
          "200",
          "250",
          "300"
         ],
         "categoryorder": "array",
         "domain": [
          0.8160000000000001,
          1
         ],
         "matches": "x",
         "tickangle": 90,
         "title": {
          "text": "Number of Nodes"
         }
        },
        "yaxis": {
         "anchor": "x",
         "domain": [
          0,
          1
         ],
         "title": {
          "text": "Run"
         }
        },
        "yaxis2": {
         "anchor": "x2",
         "domain": [
          0,
          1
         ],
         "matches": "y",
         "showticklabels": false
        },
        "yaxis3": {
         "anchor": "x3",
         "domain": [
          0,
          1
         ],
         "matches": "y",
         "showticklabels": false
        },
        "yaxis4": {
         "anchor": "x4",
         "domain": [
          0,
          1
         ],
         "matches": "y",
         "showticklabels": false
        },
        "yaxis5": {
         "anchor": "x5",
         "domain": [
          0,
          1
         ],
         "matches": "y",
         "showticklabels": false
        }
       }
      }
     },
     "metadata": {},
     "output_type": "display_data"
    }
   ],
   "source": [
    "means = invalid.groupby([\"Node Count\", \"Cycle Prevention\", \"Width\"]).count().sort_values(\"Width\")\n",
    "means\n",
    "fig = px.bar(\n",
    "    means, \n",
    "    x=means.index.get_level_values(0).astype(str), \n",
    "    color=means.index.get_level_values(1),\n",
    "    color_discrete_map=cycle_color_map,\n",
    "    y=\"Run\",\n",
    "    barmode='group',\n",
    "    facet_col=means.index.get_level_values(2),\n",
    "    labels={\n",
    "        \"x\": \"Number of Nodes\",\n",
    "        \"y\": \"Unfinished Experiments\",\n",
    "        \"color\": \"Cycle Handling\",\n",
    "        \"facet_col\": \"Area Conf.\",\n",
    "    },\n",
    "    category_orders={\n",
    "        \"color\": [\"Mutex\", \"Path to Source\", \"Ping to Source\"]\n",
    "    }\n",
    ")\n",
    "\n",
    "fig.for_each_annotation(lambda a: a.update(text=a.text.replace(\"=\", ' ')))\n",
    "fig.for_each_annotation(lambda a: a.update(text=a.text.replace(\"100\", \"(1)\")))\n",
    "fig.for_each_annotation(lambda a: a.update(text=a.text.replace(\"200\", \"(2)\")))\n",
    "fig.for_each_annotation(lambda a: a.update(text=a.text.replace(\"300\", \"(3)\")))\n",
    "fig.for_each_annotation(lambda a: a.update(text=a.text.replace(\"400\", \"(4)\")))\n",
    "fig.for_each_annotation(lambda a: a.update(text=a.text.replace(\"500\", \"(5)\")))\n",
    "\n",
    "fig.update_xaxes(categoryorder='array', categoryarray= ['50','100','150','200', '250', '300'])\n",
    "fig.update_xaxes(tickangle=90)\n",
    "\n",
    "area_labels = {\n",
    "    'Path to Source':'Path-to-Source',\n",
    "    'Mutex':'Mutex',\n",
    "    'Ping to Source':'Ping-to-Source',\n",
    "}\n",
    "fig.for_each_trace(lambda t: t.update(name = area_labels[t.name], legendgroup = area_labels[t.name], hovertemplate = t.hovertemplate.replace(t.name, area_labels[t.name])))\n",
    "\n",
    "\n",
    "fig.write_image(\"unfinished_experiments.pdf\", width=1000, height=300)\n",
    "fig.show()"
   ]
  },
  {
   "cell_type": "code",
   "execution_count": 21,
   "metadata": {},
   "outputs": [
    {
     "data": {
      "application/vnd.plotly.v1+json": {
       "config": {
        "plotlyServerURL": "https://plot.ly"
       },
       "data": [
        {
         "alignmentgroup": "True",
         "hovertemplate": "Area Conf.=(1)<br>Number of Nodes=%{x}<br>Cycles Lasted=%{y}<extra></extra>",
         "legendgroup": "(1)",
         "marker": {
          "color": "#636efa",
          "pattern": {
           "shape": ""
          }
         },
         "name": "(1)",
         "offsetgroup": "100",
         "orientation": "v",
         "showlegend": true,
         "textposition": "auto",
         "type": "bar",
         "x": [
          300
         ],
         "xaxis": "x",
         "y": [
          1
         ],
         "yaxis": "y"
        },
        {
         "alignmentgroup": "True",
         "hovertemplate": "Area Conf.=(2)<br>Number of Nodes=%{x}<br>Cycles Lasted=%{y}<extra></extra>",
         "legendgroup": "(2)",
         "marker": {
          "color": "#EF553B",
          "pattern": {
           "shape": ""
          }
         },
         "name": "(2)",
         "offsetgroup": "200",
         "orientation": "v",
         "showlegend": true,
         "textposition": "auto",
         "type": "bar",
         "x": [
          200,
          100,
          250,
          150
         ],
         "xaxis": "x",
         "y": [
          1,
          2,
          1,
          1
         ],
         "yaxis": "y"
        },
        {
         "alignmentgroup": "True",
         "hovertemplate": "Area Conf.=(3)<br>Number of Nodes=%{x}<br>Cycles Lasted=%{y}<extra></extra>",
         "legendgroup": "(3)",
         "marker": {
          "color": "#00cc96",
          "pattern": {
           "shape": ""
          }
         },
         "name": "(3)",
         "offsetgroup": "300",
         "orientation": "v",
         "showlegend": true,
         "textposition": "auto",
         "type": "bar",
         "x": [
          300,
          250,
          200,
          50,
          150,
          100
         ],
         "xaxis": "x",
         "y": [
          6,
          4,
          3,
          2,
          7,
          3
         ],
         "yaxis": "y"
        },
        {
         "alignmentgroup": "True",
         "hovertemplate": "Area Conf.=(4)<br>Number of Nodes=%{x}<br>Cycles Lasted=%{y}<extra></extra>",
         "legendgroup": "(4)",
         "marker": {
          "color": "#ab63fa",
          "pattern": {
           "shape": ""
          }
         },
         "name": "(4)",
         "offsetgroup": "400",
         "orientation": "v",
         "showlegend": true,
         "textposition": "auto",
         "type": "bar",
         "x": [
          300,
          200,
          100,
          250,
          50,
          150
         ],
         "xaxis": "x",
         "y": [
          4,
          7,
          3,
          7,
          3,
          5
         ],
         "yaxis": "y"
        },
        {
         "alignmentgroup": "True",
         "hovertemplate": "Area Conf.=(5)<br>Number of Nodes=%{x}<br>Cycles Lasted=%{y}<extra></extra>",
         "legendgroup": "(5)",
         "marker": {
          "color": "#FFA15A",
          "pattern": {
           "shape": ""
          }
         },
         "name": "(5)",
         "offsetgroup": "500",
         "orientation": "v",
         "showlegend": true,
         "textposition": "auto",
         "type": "bar",
         "x": [
          150,
          200,
          100,
          250,
          300
         ],
         "xaxis": "x",
         "y": [
          4,
          4,
          5,
          5,
          4
         ],
         "yaxis": "y"
        }
       ],
       "layout": {
        "barmode": "group",
        "legend": {
         "title": {
          "text": "Area Conf."
         },
         "tracegroupgap": 0
        },
        "margin": {
         "t": 60
        },
        "template": {
         "data": {
          "bar": [
           {
            "error_x": {
             "color": "#2a3f5f"
            },
            "error_y": {
             "color": "#2a3f5f"
            },
            "marker": {
             "line": {
              "color": "#E5ECF6",
              "width": 0.5
             },
             "pattern": {
              "fillmode": "overlay",
              "size": 10,
              "solidity": 0.2
             }
            },
            "type": "bar"
           }
          ],
          "barpolar": [
           {
            "marker": {
             "line": {
              "color": "#E5ECF6",
              "width": 0.5
             },
             "pattern": {
              "fillmode": "overlay",
              "size": 10,
              "solidity": 0.2
             }
            },
            "type": "barpolar"
           }
          ],
          "carpet": [
           {
            "aaxis": {
             "endlinecolor": "#2a3f5f",
             "gridcolor": "white",
             "linecolor": "white",
             "minorgridcolor": "white",
             "startlinecolor": "#2a3f5f"
            },
            "baxis": {
             "endlinecolor": "#2a3f5f",
             "gridcolor": "white",
             "linecolor": "white",
             "minorgridcolor": "white",
             "startlinecolor": "#2a3f5f"
            },
            "type": "carpet"
           }
          ],
          "choropleth": [
           {
            "colorbar": {
             "outlinewidth": 0,
             "ticks": ""
            },
            "type": "choropleth"
           }
          ],
          "contour": [
           {
            "colorbar": {
             "outlinewidth": 0,
             "ticks": ""
            },
            "colorscale": [
             [
              0,
              "#0d0887"
             ],
             [
              0.1111111111111111,
              "#46039f"
             ],
             [
              0.2222222222222222,
              "#7201a8"
             ],
             [
              0.3333333333333333,
              "#9c179e"
             ],
             [
              0.4444444444444444,
              "#bd3786"
             ],
             [
              0.5555555555555556,
              "#d8576b"
             ],
             [
              0.6666666666666666,
              "#ed7953"
             ],
             [
              0.7777777777777778,
              "#fb9f3a"
             ],
             [
              0.8888888888888888,
              "#fdca26"
             ],
             [
              1,
              "#f0f921"
             ]
            ],
            "type": "contour"
           }
          ],
          "contourcarpet": [
           {
            "colorbar": {
             "outlinewidth": 0,
             "ticks": ""
            },
            "type": "contourcarpet"
           }
          ],
          "heatmap": [
           {
            "colorbar": {
             "outlinewidth": 0,
             "ticks": ""
            },
            "colorscale": [
             [
              0,
              "#0d0887"
             ],
             [
              0.1111111111111111,
              "#46039f"
             ],
             [
              0.2222222222222222,
              "#7201a8"
             ],
             [
              0.3333333333333333,
              "#9c179e"
             ],
             [
              0.4444444444444444,
              "#bd3786"
             ],
             [
              0.5555555555555556,
              "#d8576b"
             ],
             [
              0.6666666666666666,
              "#ed7953"
             ],
             [
              0.7777777777777778,
              "#fb9f3a"
             ],
             [
              0.8888888888888888,
              "#fdca26"
             ],
             [
              1,
              "#f0f921"
             ]
            ],
            "type": "heatmap"
           }
          ],
          "heatmapgl": [
           {
            "colorbar": {
             "outlinewidth": 0,
             "ticks": ""
            },
            "colorscale": [
             [
              0,
              "#0d0887"
             ],
             [
              0.1111111111111111,
              "#46039f"
             ],
             [
              0.2222222222222222,
              "#7201a8"
             ],
             [
              0.3333333333333333,
              "#9c179e"
             ],
             [
              0.4444444444444444,
              "#bd3786"
             ],
             [
              0.5555555555555556,
              "#d8576b"
             ],
             [
              0.6666666666666666,
              "#ed7953"
             ],
             [
              0.7777777777777778,
              "#fb9f3a"
             ],
             [
              0.8888888888888888,
              "#fdca26"
             ],
             [
              1,
              "#f0f921"
             ]
            ],
            "type": "heatmapgl"
           }
          ],
          "histogram": [
           {
            "marker": {
             "pattern": {
              "fillmode": "overlay",
              "size": 10,
              "solidity": 0.2
             }
            },
            "type": "histogram"
           }
          ],
          "histogram2d": [
           {
            "colorbar": {
             "outlinewidth": 0,
             "ticks": ""
            },
            "colorscale": [
             [
              0,
              "#0d0887"
             ],
             [
              0.1111111111111111,
              "#46039f"
             ],
             [
              0.2222222222222222,
              "#7201a8"
             ],
             [
              0.3333333333333333,
              "#9c179e"
             ],
             [
              0.4444444444444444,
              "#bd3786"
             ],
             [
              0.5555555555555556,
              "#d8576b"
             ],
             [
              0.6666666666666666,
              "#ed7953"
             ],
             [
              0.7777777777777778,
              "#fb9f3a"
             ],
             [
              0.8888888888888888,
              "#fdca26"
             ],
             [
              1,
              "#f0f921"
             ]
            ],
            "type": "histogram2d"
           }
          ],
          "histogram2dcontour": [
           {
            "colorbar": {
             "outlinewidth": 0,
             "ticks": ""
            },
            "colorscale": [
             [
              0,
              "#0d0887"
             ],
             [
              0.1111111111111111,
              "#46039f"
             ],
             [
              0.2222222222222222,
              "#7201a8"
             ],
             [
              0.3333333333333333,
              "#9c179e"
             ],
             [
              0.4444444444444444,
              "#bd3786"
             ],
             [
              0.5555555555555556,
              "#d8576b"
             ],
             [
              0.6666666666666666,
              "#ed7953"
             ],
             [
              0.7777777777777778,
              "#fb9f3a"
             ],
             [
              0.8888888888888888,
              "#fdca26"
             ],
             [
              1,
              "#f0f921"
             ]
            ],
            "type": "histogram2dcontour"
           }
          ],
          "mesh3d": [
           {
            "colorbar": {
             "outlinewidth": 0,
             "ticks": ""
            },
            "type": "mesh3d"
           }
          ],
          "parcoords": [
           {
            "line": {
             "colorbar": {
              "outlinewidth": 0,
              "ticks": ""
             }
            },
            "type": "parcoords"
           }
          ],
          "pie": [
           {
            "automargin": true,
            "type": "pie"
           }
          ],
          "scatter": [
           {
            "fillpattern": {
             "fillmode": "overlay",
             "size": 10,
             "solidity": 0.2
            },
            "type": "scatter"
           }
          ],
          "scatter3d": [
           {
            "line": {
             "colorbar": {
              "outlinewidth": 0,
              "ticks": ""
             }
            },
            "marker": {
             "colorbar": {
              "outlinewidth": 0,
              "ticks": ""
             }
            },
            "type": "scatter3d"
           }
          ],
          "scattercarpet": [
           {
            "marker": {
             "colorbar": {
              "outlinewidth": 0,
              "ticks": ""
             }
            },
            "type": "scattercarpet"
           }
          ],
          "scattergeo": [
           {
            "marker": {
             "colorbar": {
              "outlinewidth": 0,
              "ticks": ""
             }
            },
            "type": "scattergeo"
           }
          ],
          "scattergl": [
           {
            "marker": {
             "colorbar": {
              "outlinewidth": 0,
              "ticks": ""
             }
            },
            "type": "scattergl"
           }
          ],
          "scattermapbox": [
           {
            "marker": {
             "colorbar": {
              "outlinewidth": 0,
              "ticks": ""
             }
            },
            "type": "scattermapbox"
           }
          ],
          "scatterpolar": [
           {
            "marker": {
             "colorbar": {
              "outlinewidth": 0,
              "ticks": ""
             }
            },
            "type": "scatterpolar"
           }
          ],
          "scatterpolargl": [
           {
            "marker": {
             "colorbar": {
              "outlinewidth": 0,
              "ticks": ""
             }
            },
            "type": "scatterpolargl"
           }
          ],
          "scatterternary": [
           {
            "marker": {
             "colorbar": {
              "outlinewidth": 0,
              "ticks": ""
             }
            },
            "type": "scatterternary"
           }
          ],
          "surface": [
           {
            "colorbar": {
             "outlinewidth": 0,
             "ticks": ""
            },
            "colorscale": [
             [
              0,
              "#0d0887"
             ],
             [
              0.1111111111111111,
              "#46039f"
             ],
             [
              0.2222222222222222,
              "#7201a8"
             ],
             [
              0.3333333333333333,
              "#9c179e"
             ],
             [
              0.4444444444444444,
              "#bd3786"
             ],
             [
              0.5555555555555556,
              "#d8576b"
             ],
             [
              0.6666666666666666,
              "#ed7953"
             ],
             [
              0.7777777777777778,
              "#fb9f3a"
             ],
             [
              0.8888888888888888,
              "#fdca26"
             ],
             [
              1,
              "#f0f921"
             ]
            ],
            "type": "surface"
           }
          ],
          "table": [
           {
            "cells": {
             "fill": {
              "color": "#EBF0F8"
             },
             "line": {
              "color": "white"
             }
            },
            "header": {
             "fill": {
              "color": "#C8D4E3"
             },
             "line": {
              "color": "white"
             }
            },
            "type": "table"
           }
          ]
         },
         "layout": {
          "annotationdefaults": {
           "arrowcolor": "#2a3f5f",
           "arrowhead": 0,
           "arrowwidth": 1
          },
          "autotypenumbers": "strict",
          "coloraxis": {
           "colorbar": {
            "outlinewidth": 0,
            "ticks": ""
           }
          },
          "colorscale": {
           "diverging": [
            [
             0,
             "#8e0152"
            ],
            [
             0.1,
             "#c51b7d"
            ],
            [
             0.2,
             "#de77ae"
            ],
            [
             0.3,
             "#f1b6da"
            ],
            [
             0.4,
             "#fde0ef"
            ],
            [
             0.5,
             "#f7f7f7"
            ],
            [
             0.6,
             "#e6f5d0"
            ],
            [
             0.7,
             "#b8e186"
            ],
            [
             0.8,
             "#7fbc41"
            ],
            [
             0.9,
             "#4d9221"
            ],
            [
             1,
             "#276419"
            ]
           ],
           "sequential": [
            [
             0,
             "#0d0887"
            ],
            [
             0.1111111111111111,
             "#46039f"
            ],
            [
             0.2222222222222222,
             "#7201a8"
            ],
            [
             0.3333333333333333,
             "#9c179e"
            ],
            [
             0.4444444444444444,
             "#bd3786"
            ],
            [
             0.5555555555555556,
             "#d8576b"
            ],
            [
             0.6666666666666666,
             "#ed7953"
            ],
            [
             0.7777777777777778,
             "#fb9f3a"
            ],
            [
             0.8888888888888888,
             "#fdca26"
            ],
            [
             1,
             "#f0f921"
            ]
           ],
           "sequentialminus": [
            [
             0,
             "#0d0887"
            ],
            [
             0.1111111111111111,
             "#46039f"
            ],
            [
             0.2222222222222222,
             "#7201a8"
            ],
            [
             0.3333333333333333,
             "#9c179e"
            ],
            [
             0.4444444444444444,
             "#bd3786"
            ],
            [
             0.5555555555555556,
             "#d8576b"
            ],
            [
             0.6666666666666666,
             "#ed7953"
            ],
            [
             0.7777777777777778,
             "#fb9f3a"
            ],
            [
             0.8888888888888888,
             "#fdca26"
            ],
            [
             1,
             "#f0f921"
            ]
           ]
          },
          "colorway": [
           "#636efa",
           "#EF553B",
           "#00cc96",
           "#ab63fa",
           "#FFA15A",
           "#19d3f3",
           "#FF6692",
           "#B6E880",
           "#FF97FF",
           "#FECB52"
          ],
          "font": {
           "color": "#2a3f5f"
          },
          "geo": {
           "bgcolor": "white",
           "lakecolor": "white",
           "landcolor": "#E5ECF6",
           "showlakes": true,
           "showland": true,
           "subunitcolor": "white"
          },
          "hoverlabel": {
           "align": "left"
          },
          "hovermode": "closest",
          "mapbox": {
           "style": "light"
          },
          "paper_bgcolor": "white",
          "plot_bgcolor": "#E5ECF6",
          "polar": {
           "angularaxis": {
            "gridcolor": "white",
            "linecolor": "white",
            "ticks": ""
           },
           "bgcolor": "#E5ECF6",
           "radialaxis": {
            "gridcolor": "white",
            "linecolor": "white",
            "ticks": ""
           }
          },
          "scene": {
           "xaxis": {
            "backgroundcolor": "#E5ECF6",
            "gridcolor": "white",
            "gridwidth": 2,
            "linecolor": "white",
            "showbackground": true,
            "ticks": "",
            "zerolinecolor": "white"
           },
           "yaxis": {
            "backgroundcolor": "#E5ECF6",
            "gridcolor": "white",
            "gridwidth": 2,
            "linecolor": "white",
            "showbackground": true,
            "ticks": "",
            "zerolinecolor": "white"
           },
           "zaxis": {
            "backgroundcolor": "#E5ECF6",
            "gridcolor": "white",
            "gridwidth": 2,
            "linecolor": "white",
            "showbackground": true,
            "ticks": "",
            "zerolinecolor": "white"
           }
          },
          "shapedefaults": {
           "line": {
            "color": "#2a3f5f"
           }
          },
          "ternary": {
           "aaxis": {
            "gridcolor": "white",
            "linecolor": "white",
            "ticks": ""
           },
           "baxis": {
            "gridcolor": "white",
            "linecolor": "white",
            "ticks": ""
           },
           "bgcolor": "#E5ECF6",
           "caxis": {
            "gridcolor": "white",
            "linecolor": "white",
            "ticks": ""
           }
          },
          "title": {
           "x": 0.05
          },
          "xaxis": {
           "automargin": true,
           "gridcolor": "white",
           "linecolor": "white",
           "ticks": "",
           "title": {
            "standoff": 15
           },
           "zerolinecolor": "white",
           "zerolinewidth": 2
          },
          "yaxis": {
           "automargin": true,
           "gridcolor": "white",
           "linecolor": "white",
           "ticks": "",
           "title": {
            "standoff": 15
           },
           "zerolinecolor": "white",
           "zerolinewidth": 2
          }
         }
        },
        "xaxis": {
         "anchor": "y",
         "domain": [
          0,
          1
         ],
         "title": {
          "text": "Number of Nodes"
         }
        },
        "yaxis": {
         "anchor": "x",
         "domain": [
          0,
          1
         ],
         "title": {
          "text": "Cycles Lasted"
         }
        }
       }
      }
     },
     "metadata": {},
     "output_type": "display_data"
    }
   ],
   "source": [
    "counts = raw[(raw['Cycles Lasted'] > 0) & (raw['Cycle Prevention'] == \"Path to Source\")].groupby([\"Node Count\", \"Cycle Prevention\", \"Width\"]).count().sort_values(\"Width\")\n",
    "\n",
    "fig = px.bar(\n",
    "    counts, \n",
    "    x=counts.index.get_level_values(0), \n",
    "    y=\"Cycles Lasted\",\n",
    "    color=counts.index.get_level_values(2).astype(str),\n",
    "    barmode='group',    \n",
    "    labels={\n",
    "        \"x\": \"Number of Nodes\",\n",
    "        \"y\": \"Unresolved Cycles\",\n",
    "        \"color\": \"Area Conf.\",\n",
    "    },\n",
    ")\n",
    "\n",
    "area_labels = {\n",
    "    '100':'(1)',\n",
    "    '200':'(2)',\n",
    "    '300':'(3)',\n",
    "    '400':'(4)',\n",
    "    '500':'(5)',\n",
    "}\n",
    "\n",
    "fig.for_each_trace(lambda t: t.update(name = area_labels[t.name], legendgroup = area_labels[t.name], hovertemplate = t.hovertemplate.replace(t.name, area_labels[t.name])))\n",
    "\n",
    "fig.write_image(\"path_to_source_cycles.pdf\", width=500, height=300)\n",
    "fig.show()"
   ]
  },
  {
   "cell_type": "markdown",
   "metadata": {},
   "source": [
    "Number of experiements where at least one cycle could not be resolved."
   ]
  },
  {
   "cell_type": "code",
   "execution_count": 22,
   "metadata": {},
   "outputs": [
    {
     "data": {
      "application/vnd.plotly.v1+json": {
       "config": {
        "plotlyServerURL": "https://plot.ly"
       },
       "data": [
        {
         "hovertemplate": "Area Conf.=(1)<br>Cycle Handling=Mutex<br>Number of Nodes=%{x}<br>Unconnected Nodes (%)=%{y}<extra></extra>",
         "legendgroup": "(1)",
         "line": {
          "color": "#636efa",
          "dash": "solid"
         },
         "marker": {
          "symbol": "circle"
         },
         "mode": "lines",
         "name": "(1)",
         "orientation": "v",
         "showlegend": true,
         "type": "scatter",
         "x": [
          50,
          100,
          150,
          200,
          250,
          300
         ],
         "xaxis": "x",
         "y": [
          1,
          0.5,
          0.33333333333333337,
          0.25,
          0.2,
          0.16666666666666669
         ],
         "yaxis": "y"
        },
        {
         "hovertemplate": "Area Conf.=(1)<br>Cycle Handling=Path to Source<br>Number of Nodes=%{x}<br>Unconnected Nodes (%)=%{y}<extra></extra>",
         "legendgroup": "(1)",
         "line": {
          "color": "#636efa",
          "dash": "solid"
         },
         "marker": {
          "symbol": "circle"
         },
         "mode": "lines",
         "name": "(1)",
         "orientation": "v",
         "showlegend": false,
         "type": "scatter",
         "x": [
          50,
          100,
          150,
          200,
          250,
          300
         ],
         "xaxis": "x2",
         "y": [
          1,
          0.5,
          0.33333333333333337,
          0.25,
          0.2,
          0.2277777777777778
         ],
         "yaxis": "y2"
        },
        {
         "hovertemplate": "Area Conf.=(1)<br>Cycle Handling=Ping to Source<br>Number of Nodes=%{x}<br>Unconnected Nodes (%)=%{y}<extra></extra>",
         "legendgroup": "(1)",
         "line": {
          "color": "#636efa",
          "dash": "solid"
         },
         "marker": {
          "symbol": "circle"
         },
         "mode": "lines",
         "name": "(1)",
         "orientation": "v",
         "showlegend": false,
         "type": "scatter",
         "x": [
          50,
          100,
          150,
          200,
          250,
          300
         ],
         "xaxis": "x3",
         "y": [
          1,
          0.5,
          0.33333333333333337,
          0.25,
          0.2,
          0.16666666666666669
         ],
         "yaxis": "y3"
        },
        {
         "hovertemplate": "Area Conf.=(2)<br>Cycle Handling=Mutex<br>Number of Nodes=%{x}<br>Unconnected Nodes (%)=%{y}<extra></extra>",
         "legendgroup": "(2)",
         "line": {
          "color": "#EF553B",
          "dash": "solid"
         },
         "marker": {
          "symbol": "circle"
         },
         "mode": "lines",
         "name": "(2)",
         "orientation": "v",
         "showlegend": true,
         "type": "scatter",
         "x": [
          50,
          100,
          150,
          200,
          250,
          300
         ],
         "xaxis": "x",
         "y": [
          1,
          0.5,
          0.33333333333333337,
          0.25,
          0.2,
          0.16666666666666669
         ],
         "yaxis": "y"
        },
        {
         "hovertemplate": "Area Conf.=(2)<br>Cycle Handling=Path to Source<br>Number of Nodes=%{x}<br>Unconnected Nodes (%)=%{y}<extra></extra>",
         "legendgroup": "(2)",
         "line": {
          "color": "#EF553B",
          "dash": "solid"
         },
         "marker": {
          "symbol": "circle"
         },
         "mode": "lines",
         "name": "(2)",
         "orientation": "v",
         "showlegend": false,
         "type": "scatter",
         "x": [
          50,
          100,
          150,
          200,
          250,
          300
         ],
         "xaxis": "x2",
         "y": [
          1,
          2.433333333333333,
          0.8111111111111111,
          1.55,
          0.2733333333333333,
          0.16666666666666669
         ],
         "yaxis": "y2"
        },
        {
         "hovertemplate": "Area Conf.=(2)<br>Cycle Handling=Ping to Source<br>Number of Nodes=%{x}<br>Unconnected Nodes (%)=%{y}<extra></extra>",
         "legendgroup": "(2)",
         "line": {
          "color": "#EF553B",
          "dash": "solid"
         },
         "marker": {
          "symbol": "circle"
         },
         "mode": "lines",
         "name": "(2)",
         "orientation": "v",
         "showlegend": false,
         "type": "scatter",
         "x": [
          50,
          100,
          150,
          200,
          250,
          300
         ],
         "xaxis": "x3",
         "y": [
          1,
          0.5,
          0.33333333333333337,
          0.25,
          0.2,
          0.16666666666666669
         ],
         "yaxis": "y3"
        },
        {
         "hovertemplate": "Area Conf.=(3)<br>Cycle Handling=Mutex<br>Number of Nodes=%{x}<br>Unconnected Nodes (%)=%{y}<extra></extra>",
         "legendgroup": "(3)",
         "line": {
          "color": "#00cc96",
          "dash": "solid"
         },
         "marker": {
          "symbol": "circle"
         },
         "mode": "lines",
         "name": "(3)",
         "orientation": "v",
         "showlegend": true,
         "type": "scatter",
         "x": [
          50,
          100,
          150,
          200,
          250,
          300
         ],
         "xaxis": "x",
         "y": [
          1.2333333333333334,
          0.5333333333333333,
          0.3444444444444445,
          0.26666666666666666,
          0.22,
          0.06306306306306307
         ],
         "yaxis": "y"
        },
        {
         "hovertemplate": "Area Conf.=(3)<br>Cycle Handling=Path to Source<br>Number of Nodes=%{x}<br>Unconnected Nodes (%)=%{y}<extra></extra>",
         "legendgroup": "(3)",
         "line": {
          "color": "#00cc96",
          "dash": "solid"
         },
         "marker": {
          "symbol": "circle"
         },
         "mode": "lines",
         "name": "(3)",
         "orientation": "v",
         "showlegend": false,
         "type": "scatter",
         "x": [
          50,
          100,
          150,
          200,
          250,
          300
         ],
         "xaxis": "x2",
         "y": [
          2.966666666666667,
          3.183333333333333,
          6.466666666666667,
          2.841666666666667,
          2.2933333333333334,
          2.844444444444444
         ],
         "yaxis": "y2"
        },
        {
         "hovertemplate": "Area Conf.=(3)<br>Cycle Handling=Ping to Source<br>Number of Nodes=%{x}<br>Unconnected Nodes (%)=%{y}<extra></extra>",
         "legendgroup": "(3)",
         "line": {
          "color": "#00cc96",
          "dash": "solid"
         },
         "marker": {
          "symbol": "circle"
         },
         "mode": "lines",
         "name": "(3)",
         "orientation": "v",
         "showlegend": false,
         "type": "scatter",
         "x": [
          50,
          100,
          150,
          200,
          250,
          300
         ],
         "xaxis": "x3",
         "y": [
          1,
          0.5,
          0.33333333333333337,
          0.25,
          0.2,
          0.16666666666666669
         ],
         "yaxis": "y3"
        },
        {
         "hovertemplate": "Area Conf.=(4)<br>Cycle Handling=Mutex<br>Number of Nodes=%{x}<br>Unconnected Nodes (%)=%{y}<extra></extra>",
         "legendgroup": "(4)",
         "line": {
          "color": "#ab63fa",
          "dash": "solid"
         },
         "marker": {
          "symbol": "circle"
         },
         "mode": "lines",
         "name": "(4)",
         "orientation": "v",
         "showlegend": true,
         "type": "scatter",
         "x": [
          50,
          100,
          150,
          200,
          250,
          300
         ],
         "xaxis": "x",
         "y": [
          1.3333333333333333,
          0.8500000000000001,
          1.1222222222222222,
          0.48333333333333334,
          0.07058823529411765,
          0.3666666666666667
         ],
         "yaxis": "y"
        },
        {
         "hovertemplate": "Area Conf.=(4)<br>Cycle Handling=Path to Source<br>Number of Nodes=%{x}<br>Unconnected Nodes (%)=%{y}<extra></extra>",
         "legendgroup": "(4)",
         "line": {
          "color": "#ab63fa",
          "dash": "solid"
         },
         "marker": {
          "symbol": "circle"
         },
         "mode": "lines",
         "name": "(4)",
         "orientation": "v",
         "showlegend": false,
         "type": "scatter",
         "x": [
          50,
          100,
          150,
          200,
          250,
          300
         ],
         "xaxis": "x2",
         "y": [
          3.6666666666666665,
          2.55,
          5.711111111111111,
          5.9,
          5.286666666666666,
          3.5055555555555555
         ],
         "yaxis": "y2"
        },
        {
         "hovertemplate": "Area Conf.=(4)<br>Cycle Handling=Ping to Source<br>Number of Nodes=%{x}<br>Unconnected Nodes (%)=%{y}<extra></extra>",
         "legendgroup": "(4)",
         "line": {
          "color": "#ab63fa",
          "dash": "solid"
         },
         "marker": {
          "symbol": "circle"
         },
         "mode": "lines",
         "name": "(4)",
         "orientation": "v",
         "showlegend": false,
         "type": "scatter",
         "x": [
          50,
          100,
          150,
          200,
          250,
          300
         ],
         "xaxis": "x3",
         "y": [
          1,
          0.5,
          0.33333333333333337,
          0.25,
          0.2,
          0.16666666666666669
         ],
         "yaxis": "y3"
        },
        {
         "hovertemplate": "Area Conf.=(5)<br>Cycle Handling=Mutex<br>Number of Nodes=%{x}<br>Unconnected Nodes (%)=%{y}<extra></extra>",
         "legendgroup": "(5)",
         "line": {
          "color": "#FFA15A",
          "dash": "solid"
         },
         "marker": {
          "symbol": "circle"
         },
         "mode": "lines",
         "name": "(5)",
         "orientation": "v",
         "showlegend": true,
         "type": "scatter",
         "x": [
          50,
          100,
          150,
          200,
          250,
          300
         ],
         "xaxis": "x",
         "y": [
          5.066666666666666,
          1.8166666666666669,
          1.5555555555555556,
          2.1333333333333333,
          1.3066666666666666,
          1.3399999999999999
         ],
         "yaxis": "y"
        },
        {
         "hovertemplate": "Area Conf.=(5)<br>Cycle Handling=Path to Source<br>Number of Nodes=%{x}<br>Unconnected Nodes (%)=%{y}<extra></extra>",
         "legendgroup": "(5)",
         "line": {
          "color": "#FFA15A",
          "dash": "solid"
         },
         "marker": {
          "symbol": "circle"
         },
         "mode": "lines",
         "name": "(5)",
         "orientation": "v",
         "showlegend": false,
         "type": "scatter",
         "x": [
          50,
          100,
          150,
          200,
          250,
          300
         ],
         "xaxis": "x2",
         "y": [
          1.1,
          2.9833333333333334,
          2.422222222222222,
          2.2916666666666665,
          2.8466666666666662,
          1.4777777777777779
         ],
         "yaxis": "y2"
        },
        {
         "hovertemplate": "Area Conf.=(5)<br>Cycle Handling=Ping to Source<br>Number of Nodes=%{x}<br>Unconnected Nodes (%)=%{y}<extra></extra>",
         "legendgroup": "(5)",
         "line": {
          "color": "#FFA15A",
          "dash": "solid"
         },
         "marker": {
          "symbol": "circle"
         },
         "mode": "lines",
         "name": "(5)",
         "orientation": "v",
         "showlegend": false,
         "type": "scatter",
         "x": [
          50,
          100,
          150,
          200,
          250,
          300
         ],
         "xaxis": "x3",
         "y": [
          1.1,
          0.5,
          0.33333333333333337,
          0.25,
          0.20666666666666667,
          0.16666666666666669
         ],
         "yaxis": "y3"
        }
       ],
       "layout": {
        "annotations": [
         {
          "font": {},
          "showarrow": false,
          "text": "Mutex",
          "x": 0.15999999999999998,
          "xanchor": "center",
          "xref": "paper",
          "y": 1,
          "yanchor": "bottom",
          "yref": "paper"
         },
         {
          "font": {},
          "showarrow": false,
          "text": "Path-to-Source",
          "x": 0.49999999999999994,
          "xanchor": "center",
          "xref": "paper",
          "y": 1,
          "yanchor": "bottom",
          "yref": "paper"
         },
         {
          "font": {},
          "showarrow": false,
          "text": "Ping-to-Source",
          "x": 0.8399999999999999,
          "xanchor": "center",
          "xref": "paper",
          "y": 1,
          "yanchor": "bottom",
          "yref": "paper"
         }
        ],
        "legend": {
         "title": {
          "text": "Area Conf."
         },
         "tracegroupgap": 0
        },
        "margin": {
         "t": 60
        },
        "template": {
         "data": {
          "bar": [
           {
            "error_x": {
             "color": "#2a3f5f"
            },
            "error_y": {
             "color": "#2a3f5f"
            },
            "marker": {
             "line": {
              "color": "#E5ECF6",
              "width": 0.5
             },
             "pattern": {
              "fillmode": "overlay",
              "size": 10,
              "solidity": 0.2
             }
            },
            "type": "bar"
           }
          ],
          "barpolar": [
           {
            "marker": {
             "line": {
              "color": "#E5ECF6",
              "width": 0.5
             },
             "pattern": {
              "fillmode": "overlay",
              "size": 10,
              "solidity": 0.2
             }
            },
            "type": "barpolar"
           }
          ],
          "carpet": [
           {
            "aaxis": {
             "endlinecolor": "#2a3f5f",
             "gridcolor": "white",
             "linecolor": "white",
             "minorgridcolor": "white",
             "startlinecolor": "#2a3f5f"
            },
            "baxis": {
             "endlinecolor": "#2a3f5f",
             "gridcolor": "white",
             "linecolor": "white",
             "minorgridcolor": "white",
             "startlinecolor": "#2a3f5f"
            },
            "type": "carpet"
           }
          ],
          "choropleth": [
           {
            "colorbar": {
             "outlinewidth": 0,
             "ticks": ""
            },
            "type": "choropleth"
           }
          ],
          "contour": [
           {
            "colorbar": {
             "outlinewidth": 0,
             "ticks": ""
            },
            "colorscale": [
             [
              0,
              "#0d0887"
             ],
             [
              0.1111111111111111,
              "#46039f"
             ],
             [
              0.2222222222222222,
              "#7201a8"
             ],
             [
              0.3333333333333333,
              "#9c179e"
             ],
             [
              0.4444444444444444,
              "#bd3786"
             ],
             [
              0.5555555555555556,
              "#d8576b"
             ],
             [
              0.6666666666666666,
              "#ed7953"
             ],
             [
              0.7777777777777778,
              "#fb9f3a"
             ],
             [
              0.8888888888888888,
              "#fdca26"
             ],
             [
              1,
              "#f0f921"
             ]
            ],
            "type": "contour"
           }
          ],
          "contourcarpet": [
           {
            "colorbar": {
             "outlinewidth": 0,
             "ticks": ""
            },
            "type": "contourcarpet"
           }
          ],
          "heatmap": [
           {
            "colorbar": {
             "outlinewidth": 0,
             "ticks": ""
            },
            "colorscale": [
             [
              0,
              "#0d0887"
             ],
             [
              0.1111111111111111,
              "#46039f"
             ],
             [
              0.2222222222222222,
              "#7201a8"
             ],
             [
              0.3333333333333333,
              "#9c179e"
             ],
             [
              0.4444444444444444,
              "#bd3786"
             ],
             [
              0.5555555555555556,
              "#d8576b"
             ],
             [
              0.6666666666666666,
              "#ed7953"
             ],
             [
              0.7777777777777778,
              "#fb9f3a"
             ],
             [
              0.8888888888888888,
              "#fdca26"
             ],
             [
              1,
              "#f0f921"
             ]
            ],
            "type": "heatmap"
           }
          ],
          "heatmapgl": [
           {
            "colorbar": {
             "outlinewidth": 0,
             "ticks": ""
            },
            "colorscale": [
             [
              0,
              "#0d0887"
             ],
             [
              0.1111111111111111,
              "#46039f"
             ],
             [
              0.2222222222222222,
              "#7201a8"
             ],
             [
              0.3333333333333333,
              "#9c179e"
             ],
             [
              0.4444444444444444,
              "#bd3786"
             ],
             [
              0.5555555555555556,
              "#d8576b"
             ],
             [
              0.6666666666666666,
              "#ed7953"
             ],
             [
              0.7777777777777778,
              "#fb9f3a"
             ],
             [
              0.8888888888888888,
              "#fdca26"
             ],
             [
              1,
              "#f0f921"
             ]
            ],
            "type": "heatmapgl"
           }
          ],
          "histogram": [
           {
            "marker": {
             "pattern": {
              "fillmode": "overlay",
              "size": 10,
              "solidity": 0.2
             }
            },
            "type": "histogram"
           }
          ],
          "histogram2d": [
           {
            "colorbar": {
             "outlinewidth": 0,
             "ticks": ""
            },
            "colorscale": [
             [
              0,
              "#0d0887"
             ],
             [
              0.1111111111111111,
              "#46039f"
             ],
             [
              0.2222222222222222,
              "#7201a8"
             ],
             [
              0.3333333333333333,
              "#9c179e"
             ],
             [
              0.4444444444444444,
              "#bd3786"
             ],
             [
              0.5555555555555556,
              "#d8576b"
             ],
             [
              0.6666666666666666,
              "#ed7953"
             ],
             [
              0.7777777777777778,
              "#fb9f3a"
             ],
             [
              0.8888888888888888,
              "#fdca26"
             ],
             [
              1,
              "#f0f921"
             ]
            ],
            "type": "histogram2d"
           }
          ],
          "histogram2dcontour": [
           {
            "colorbar": {
             "outlinewidth": 0,
             "ticks": ""
            },
            "colorscale": [
             [
              0,
              "#0d0887"
             ],
             [
              0.1111111111111111,
              "#46039f"
             ],
             [
              0.2222222222222222,
              "#7201a8"
             ],
             [
              0.3333333333333333,
              "#9c179e"
             ],
             [
              0.4444444444444444,
              "#bd3786"
             ],
             [
              0.5555555555555556,
              "#d8576b"
             ],
             [
              0.6666666666666666,
              "#ed7953"
             ],
             [
              0.7777777777777778,
              "#fb9f3a"
             ],
             [
              0.8888888888888888,
              "#fdca26"
             ],
             [
              1,
              "#f0f921"
             ]
            ],
            "type": "histogram2dcontour"
           }
          ],
          "mesh3d": [
           {
            "colorbar": {
             "outlinewidth": 0,
             "ticks": ""
            },
            "type": "mesh3d"
           }
          ],
          "parcoords": [
           {
            "line": {
             "colorbar": {
              "outlinewidth": 0,
              "ticks": ""
             }
            },
            "type": "parcoords"
           }
          ],
          "pie": [
           {
            "automargin": true,
            "type": "pie"
           }
          ],
          "scatter": [
           {
            "fillpattern": {
             "fillmode": "overlay",
             "size": 10,
             "solidity": 0.2
            },
            "type": "scatter"
           }
          ],
          "scatter3d": [
           {
            "line": {
             "colorbar": {
              "outlinewidth": 0,
              "ticks": ""
             }
            },
            "marker": {
             "colorbar": {
              "outlinewidth": 0,
              "ticks": ""
             }
            },
            "type": "scatter3d"
           }
          ],
          "scattercarpet": [
           {
            "marker": {
             "colorbar": {
              "outlinewidth": 0,
              "ticks": ""
             }
            },
            "type": "scattercarpet"
           }
          ],
          "scattergeo": [
           {
            "marker": {
             "colorbar": {
              "outlinewidth": 0,
              "ticks": ""
             }
            },
            "type": "scattergeo"
           }
          ],
          "scattergl": [
           {
            "marker": {
             "colorbar": {
              "outlinewidth": 0,
              "ticks": ""
             }
            },
            "type": "scattergl"
           }
          ],
          "scattermapbox": [
           {
            "marker": {
             "colorbar": {
              "outlinewidth": 0,
              "ticks": ""
             }
            },
            "type": "scattermapbox"
           }
          ],
          "scatterpolar": [
           {
            "marker": {
             "colorbar": {
              "outlinewidth": 0,
              "ticks": ""
             }
            },
            "type": "scatterpolar"
           }
          ],
          "scatterpolargl": [
           {
            "marker": {
             "colorbar": {
              "outlinewidth": 0,
              "ticks": ""
             }
            },
            "type": "scatterpolargl"
           }
          ],
          "scatterternary": [
           {
            "marker": {
             "colorbar": {
              "outlinewidth": 0,
              "ticks": ""
             }
            },
            "type": "scatterternary"
           }
          ],
          "surface": [
           {
            "colorbar": {
             "outlinewidth": 0,
             "ticks": ""
            },
            "colorscale": [
             [
              0,
              "#0d0887"
             ],
             [
              0.1111111111111111,
              "#46039f"
             ],
             [
              0.2222222222222222,
              "#7201a8"
             ],
             [
              0.3333333333333333,
              "#9c179e"
             ],
             [
              0.4444444444444444,
              "#bd3786"
             ],
             [
              0.5555555555555556,
              "#d8576b"
             ],
             [
              0.6666666666666666,
              "#ed7953"
             ],
             [
              0.7777777777777778,
              "#fb9f3a"
             ],
             [
              0.8888888888888888,
              "#fdca26"
             ],
             [
              1,
              "#f0f921"
             ]
            ],
            "type": "surface"
           }
          ],
          "table": [
           {
            "cells": {
             "fill": {
              "color": "#EBF0F8"
             },
             "line": {
              "color": "white"
             }
            },
            "header": {
             "fill": {
              "color": "#C8D4E3"
             },
             "line": {
              "color": "white"
             }
            },
            "type": "table"
           }
          ]
         },
         "layout": {
          "annotationdefaults": {
           "arrowcolor": "#2a3f5f",
           "arrowhead": 0,
           "arrowwidth": 1
          },
          "autotypenumbers": "strict",
          "coloraxis": {
           "colorbar": {
            "outlinewidth": 0,
            "ticks": ""
           }
          },
          "colorscale": {
           "diverging": [
            [
             0,
             "#8e0152"
            ],
            [
             0.1,
             "#c51b7d"
            ],
            [
             0.2,
             "#de77ae"
            ],
            [
             0.3,
             "#f1b6da"
            ],
            [
             0.4,
             "#fde0ef"
            ],
            [
             0.5,
             "#f7f7f7"
            ],
            [
             0.6,
             "#e6f5d0"
            ],
            [
             0.7,
             "#b8e186"
            ],
            [
             0.8,
             "#7fbc41"
            ],
            [
             0.9,
             "#4d9221"
            ],
            [
             1,
             "#276419"
            ]
           ],
           "sequential": [
            [
             0,
             "#0d0887"
            ],
            [
             0.1111111111111111,
             "#46039f"
            ],
            [
             0.2222222222222222,
             "#7201a8"
            ],
            [
             0.3333333333333333,
             "#9c179e"
            ],
            [
             0.4444444444444444,
             "#bd3786"
            ],
            [
             0.5555555555555556,
             "#d8576b"
            ],
            [
             0.6666666666666666,
             "#ed7953"
            ],
            [
             0.7777777777777778,
             "#fb9f3a"
            ],
            [
             0.8888888888888888,
             "#fdca26"
            ],
            [
             1,
             "#f0f921"
            ]
           ],
           "sequentialminus": [
            [
             0,
             "#0d0887"
            ],
            [
             0.1111111111111111,
             "#46039f"
            ],
            [
             0.2222222222222222,
             "#7201a8"
            ],
            [
             0.3333333333333333,
             "#9c179e"
            ],
            [
             0.4444444444444444,
             "#bd3786"
            ],
            [
             0.5555555555555556,
             "#d8576b"
            ],
            [
             0.6666666666666666,
             "#ed7953"
            ],
            [
             0.7777777777777778,
             "#fb9f3a"
            ],
            [
             0.8888888888888888,
             "#fdca26"
            ],
            [
             1,
             "#f0f921"
            ]
           ]
          },
          "colorway": [
           "#636efa",
           "#EF553B",
           "#00cc96",
           "#ab63fa",
           "#FFA15A",
           "#19d3f3",
           "#FF6692",
           "#B6E880",
           "#FF97FF",
           "#FECB52"
          ],
          "font": {
           "color": "#2a3f5f"
          },
          "geo": {
           "bgcolor": "white",
           "lakecolor": "white",
           "landcolor": "#E5ECF6",
           "showlakes": true,
           "showland": true,
           "subunitcolor": "white"
          },
          "hoverlabel": {
           "align": "left"
          },
          "hovermode": "closest",
          "mapbox": {
           "style": "light"
          },
          "paper_bgcolor": "white",
          "plot_bgcolor": "#E5ECF6",
          "polar": {
           "angularaxis": {
            "gridcolor": "white",
            "linecolor": "white",
            "ticks": ""
           },
           "bgcolor": "#E5ECF6",
           "radialaxis": {
            "gridcolor": "white",
            "linecolor": "white",
            "ticks": ""
           }
          },
          "scene": {
           "xaxis": {
            "backgroundcolor": "#E5ECF6",
            "gridcolor": "white",
            "gridwidth": 2,
            "linecolor": "white",
            "showbackground": true,
            "ticks": "",
            "zerolinecolor": "white"
           },
           "yaxis": {
            "backgroundcolor": "#E5ECF6",
            "gridcolor": "white",
            "gridwidth": 2,
            "linecolor": "white",
            "showbackground": true,
            "ticks": "",
            "zerolinecolor": "white"
           },
           "zaxis": {
            "backgroundcolor": "#E5ECF6",
            "gridcolor": "white",
            "gridwidth": 2,
            "linecolor": "white",
            "showbackground": true,
            "ticks": "",
            "zerolinecolor": "white"
           }
          },
          "shapedefaults": {
           "line": {
            "color": "#2a3f5f"
           }
          },
          "ternary": {
           "aaxis": {
            "gridcolor": "white",
            "linecolor": "white",
            "ticks": ""
           },
           "baxis": {
            "gridcolor": "white",
            "linecolor": "white",
            "ticks": ""
           },
           "bgcolor": "#E5ECF6",
           "caxis": {
            "gridcolor": "white",
            "linecolor": "white",
            "ticks": ""
           }
          },
          "title": {
           "x": 0.05
          },
          "xaxis": {
           "automargin": true,
           "gridcolor": "white",
           "linecolor": "white",
           "ticks": "",
           "title": {
            "standoff": 15
           },
           "zerolinecolor": "white",
           "zerolinewidth": 2
          },
          "yaxis": {
           "automargin": true,
           "gridcolor": "white",
           "linecolor": "white",
           "ticks": "",
           "title": {
            "standoff": 15
           },
           "zerolinecolor": "white",
           "zerolinewidth": 2
          }
         }
        },
        "xaxis": {
         "anchor": "y",
         "categoryarray": [
          "50",
          "100",
          "150",
          "200",
          "250",
          "300"
         ],
         "categoryorder": "array",
         "domain": [
          0,
          0.31999999999999995
         ],
         "tickangle": 90,
         "title": {
          "text": "Number of Nodes"
         }
        },
        "xaxis2": {
         "anchor": "y2",
         "categoryarray": [
          "50",
          "100",
          "150",
          "200",
          "250",
          "300"
         ],
         "categoryorder": "array",
         "domain": [
          0.33999999999999997,
          0.6599999999999999
         ],
         "matches": "x",
         "tickangle": 90,
         "title": {
          "text": "Number of Nodes"
         }
        },
        "xaxis3": {
         "anchor": "y3",
         "categoryarray": [
          "50",
          "100",
          "150",
          "200",
          "250",
          "300"
         ],
         "categoryorder": "array",
         "domain": [
          0.6799999999999999,
          0.9999999999999999
         ],
         "matches": "x",
         "tickangle": 90,
         "title": {
          "text": "Number of Nodes"
         }
        },
        "yaxis": {
         "anchor": "x",
         "domain": [
          0,
          1
         ],
         "title": {
          "text": "Unconnected Nodes (%)"
         }
        },
        "yaxis2": {
         "anchor": "x2",
         "domain": [
          0,
          1
         ],
         "matches": "y",
         "showticklabels": false
        },
        "yaxis3": {
         "anchor": "x3",
         "domain": [
          0,
          1
         ],
         "matches": "y",
         "showticklabels": false
        }
       }
      }
     },
     "metadata": {},
     "output_type": "display_data"
    }
   ],
   "source": [
    "means = raw.groupby([\"Node Count\", \"Cycle Prevention\", \"Width\"]).mean()\n",
    "\n",
    "means['Unconnected Nodes (%)'] = means['Unconnected Nodes'] / means.index.get_level_values(0) * 100\n",
    "\n",
    "fig = px.line(\n",
    "    means, \n",
    "    x=means.index.get_level_values(0), \n",
    "    y=\"Unconnected Nodes (%)\", \n",
    "    color=means.index.get_level_values(2), \n",
    "    labels={\n",
    "        \"x\": \"Number of Nodes\",\n",
    "        \"color\": \"Area Conf.\",\n",
    "        \"facet_col\": \"Cycle Handling\",\n",
    "    },\n",
    "    facet_col=means.index.get_level_values(1),\n",
    ")\n",
    "\n",
    "area_labels = {\n",
    "    '100':'(1)',\n",
    "    '200':'(2)',\n",
    "    '300':'(3)',\n",
    "    '400':'(4)',\n",
    "    '500':'(5)',\n",
    "}\n",
    "\n",
    "fig.for_each_trace(lambda t: t.update(name = area_labels[t.name], legendgroup = area_labels[t.name], hovertemplate = t.hovertemplate.replace(t.name, area_labels[t.name])))\n",
    "\n",
    "fig.for_each_annotation(lambda a: a.update(text=a.text.split(\"=\")[1]))\n",
    "fig.for_each_annotation(lambda a: a.update(text=a.text.replace(\"Mutex\", \"Mutex\")))\n",
    "fig.for_each_annotation(lambda a: a.update(text=a.text.replace(\"Path to Source\", \"Path-to-Source\")))\n",
    "fig.for_each_annotation(lambda a: a.update(text=a.text.replace(\"Ping to Source\", \"Ping-to-Source\")))\n",
    "\n",
    "fig.update_xaxes(categoryorder='array', categoryarray= ['50','100','150','200', '250', '300'])\n",
    "fig.update_xaxes(tickangle=90)\n",
    "\n",
    "fig.write_image(\"unconnected_nodes.pdf\", width=1000, height=300)\n",
    "fig"
   ]
  },
  {
   "cell_type": "markdown",
   "metadata": {},
   "source": [
    "Percentage of unconnected nodes for differenet CPMs, node counts and area sizes."
   ]
  },
  {
   "cell_type": "markdown",
   "metadata": {
    "tags": []
   },
   "source": [
    "## Create plots: Performance Analysis"
   ]
  },
  {
   "cell_type": "code",
   "execution_count": 23,
   "metadata": {},
   "outputs": [
    {
     "data": {
      "application/vnd.plotly.v1+json": {
       "config": {
        "plotlyServerURL": "https://plot.ly"
       },
       "data": [
        {
         "hovertemplate": "Cycle Handling=Mutex<br>Area Conf.=100<br>Number of Nodes=%{x}<br>Construction Time (s)=%{y}<extra></extra>",
         "legendgroup": "Mutex",
         "line": {
          "color": "#636EFA",
          "dash": "solid"
         },
         "marker": {
          "symbol": "circle"
         },
         "mode": "lines",
         "name": "Mutex",
         "orientation": "v",
         "showlegend": true,
         "type": "scatter",
         "x": [
          "50",
          "100",
          "150",
          "200",
          "250",
          "300"
         ],
         "xaxis": "x",
         "y": [
          0.6186927322,
          0.7633806528333333,
          1.0189286394666666,
          1.1284811318,
          1.4106390502333332,
          1.6147968693333332
         ],
         "yaxis": "y"
        },
        {
         "hovertemplate": "Cycle Handling=Mutex<br>Area Conf.=200<br>Number of Nodes=%{x}<br>Construction Time (s)=%{y}<extra></extra>",
         "legendgroup": "Mutex",
         "line": {
          "color": "#636EFA",
          "dash": "solid"
         },
         "marker": {
          "symbol": "circle"
         },
         "mode": "lines",
         "name": "Mutex",
         "orientation": "v",
         "showlegend": false,
         "type": "scatter",
         "x": [
          "50",
          "100",
          "150",
          "200",
          "250",
          "300"
         ],
         "xaxis": "x2",
         "y": [
          0.9169595374333334,
          1.3857941829333333,
          1.6984314598666665,
          2.0086526631,
          2.3991438930333335,
          3.064145738766667
         ],
         "yaxis": "y2"
        },
        {
         "hovertemplate": "Cycle Handling=Mutex<br>Area Conf.=300<br>Number of Nodes=%{x}<br>Construction Time (s)=%{y}<extra></extra>",
         "legendgroup": "Mutex",
         "line": {
          "color": "#636EFA",
          "dash": "solid"
         },
         "marker": {
          "symbol": "circle"
         },
         "mode": "lines",
         "name": "Mutex",
         "orientation": "v",
         "showlegend": false,
         "type": "scatter",
         "x": [
          "50",
          "100",
          "150",
          "200",
          "250",
          "300"
         ],
         "xaxis": "x3",
         "y": [
          0.9337392321785715,
          1.4748006004285714,
          2.0836005070689656,
          2.504449466551724,
          2.884547035103448,
          3.46917391
         ],
         "yaxis": "y3"
        },
        {
         "hovertemplate": "Cycle Handling=Mutex<br>Area Conf.=400<br>Number of Nodes=%{x}<br>Construction Time (s)=%{y}<extra></extra>",
         "legendgroup": "Mutex",
         "line": {
          "color": "#636EFA",
          "dash": "solid"
         },
         "marker": {
          "symbol": "circle"
         },
         "mode": "lines",
         "name": "Mutex",
         "orientation": "v",
         "showlegend": false,
         "type": "scatter",
         "x": [
          "50",
          "100",
          "150",
          "200",
          "250",
          "300"
         ],
         "xaxis": "x4",
         "y": [
          1.10828821828,
          1.5201545046363636,
          2.0399788061904762,
          2.4563959326363634,
          3.2546713043333333,
          3.4332008169545456
         ],
         "yaxis": "y4"
        },
        {
         "hovertemplate": "Cycle Handling=Mutex<br>Area Conf.=500<br>Number of Nodes=%{x}<br>Construction Time (s)=%{y}<extra></extra>",
         "legendgroup": "Mutex",
         "line": {
          "color": "#636EFA",
          "dash": "solid"
         },
         "marker": {
          "symbol": "circle"
         },
         "mode": "lines",
         "name": "Mutex",
         "orientation": "v",
         "showlegend": false,
         "type": "scatter",
         "x": [
          "50",
          "100",
          "150",
          "200",
          "250",
          "300"
         ],
         "xaxis": "x5",
         "y": [
          1.456935635642857,
          1.615650384882353,
          2.0476102885,
          2.1920817168333335,
          2.60714890025,
          2.635987729
         ],
         "yaxis": "y5"
        },
        {
         "hovertemplate": "Cycle Handling=Path-to-Source<br>Area Conf.=100<br>Number of Nodes=%{x}<br>Construction Time (s)=%{y}<extra></extra>",
         "legendgroup": "Path-to-Source",
         "line": {
          "color": "#EF553B",
          "dash": "solid"
         },
         "marker": {
          "symbol": "circle"
         },
         "mode": "lines",
         "name": "Path-to-Source",
         "orientation": "v",
         "showlegend": true,
         "type": "scatter",
         "x": [
          "50",
          "100",
          "150",
          "200",
          "250",
          "300"
         ],
         "xaxis": "x",
         "y": [
          0.7449443039333333,
          0.7527638170333333,
          0.7253369926666667,
          0.8907790176,
          1.0621003684666668,
          1.2917720891379312
         ],
         "yaxis": "y"
        },
        {
         "hovertemplate": "Cycle Handling=Path-to-Source<br>Area Conf.=200<br>Number of Nodes=%{x}<br>Construction Time (s)=%{y}<extra></extra>",
         "legendgroup": "Path-to-Source",
         "line": {
          "color": "#EF553B",
          "dash": "solid"
         },
         "marker": {
          "symbol": "circle"
         },
         "mode": "lines",
         "name": "Path-to-Source",
         "orientation": "v",
         "showlegend": false,
         "type": "scatter",
         "x": [
          "50",
          "100",
          "150",
          "200",
          "250",
          "300"
         ],
         "xaxis": "x2",
         "y": [
          0.7827794591666667,
          0.9363282188571428,
          1.609610752724138,
          1.4521328566551726,
          1.8332157240344829,
          2.5300862063
         ],
         "yaxis": "y2"
        },
        {
         "hovertemplate": "Cycle Handling=Path-to-Source<br>Area Conf.=300<br>Number of Nodes=%{x}<br>Construction Time (s)=%{y}<extra></extra>",
         "legendgroup": "Path-to-Source",
         "line": {
          "color": "#EF553B",
          "dash": "solid"
         },
         "marker": {
          "symbol": "circle"
         },
         "mode": "lines",
         "name": "Path-to-Source",
         "orientation": "v",
         "showlegend": false,
         "type": "scatter",
         "x": [
          "50",
          "100",
          "150",
          "200",
          "250",
          "300"
         ],
         "xaxis": "x3",
         "y": [
          0.7536697679642858,
          1.0016984202962964,
          1.8051555758695652,
          1.6674041575555554,
          1.9330501391538464,
          2.270737630333333
         ],
         "yaxis": "y3"
        },
        {
         "hovertemplate": "Cycle Handling=Path-to-Source<br>Area Conf.=400<br>Number of Nodes=%{x}<br>Construction Time (s)=%{y}<extra></extra>",
         "legendgroup": "Path-to-Source",
         "line": {
          "color": "#EF553B",
          "dash": "solid"
         },
         "marker": {
          "symbol": "circle"
         },
         "mode": "lines",
         "name": "Path-to-Source",
         "orientation": "v",
         "showlegend": false,
         "type": "scatter",
         "x": [
          "50",
          "100",
          "150",
          "200",
          "250",
          "300"
         ],
         "xaxis": "x4",
         "y": [
          0.790370570148148,
          1.0102909058518519,
          1.132595181,
          1.4851436861739131,
          1.7898652837391302,
          2.1373007346923076
         ],
         "yaxis": "y4"
        },
        {
         "hovertemplate": "Cycle Handling=Path-to-Source<br>Area Conf.=500<br>Number of Nodes=%{x}<br>Construction Time (s)=%{y}<extra></extra>",
         "legendgroup": "Path-to-Source",
         "line": {
          "color": "#EF553B",
          "dash": "solid"
         },
         "marker": {
          "symbol": "circle"
         },
         "mode": "lines",
         "name": "Path-to-Source",
         "orientation": "v",
         "showlegend": false,
         "type": "scatter",
         "x": [
          "50",
          "100",
          "150",
          "200",
          "250",
          "300"
         ],
         "xaxis": "x5",
         "y": [
          0.7281539708214285,
          0.96653360604,
          1.088366638076923,
          1.2152756782692307,
          1.61204656344,
          1.8374512483461538
         ],
         "yaxis": "y5"
        },
        {
         "hovertemplate": "Cycle Handling=Ping-to-Source<br>Area Conf.=100<br>Number of Nodes=%{x}<br>Construction Time (s)=%{y}<extra></extra>",
         "legendgroup": "Ping-to-Source",
         "line": {
          "color": "#00CC96",
          "dash": "solid"
         },
         "marker": {
          "symbol": "circle"
         },
         "mode": "lines",
         "name": "Ping-to-Source",
         "orientation": "v",
         "showlegend": true,
         "type": "scatter",
         "x": [
          "50",
          "100",
          "150",
          "200",
          "250",
          "300"
         ],
         "xaxis": "x",
         "y": [
          0.7343598468333333,
          0.7942531153333333,
          0.8458847843666667,
          0.9626534091333333,
          1.0959026902333333,
          1.3116870066666666
         ],
         "yaxis": "y"
        },
        {
         "hovertemplate": "Cycle Handling=Ping-to-Source<br>Area Conf.=200<br>Number of Nodes=%{x}<br>Construction Time (s)=%{y}<extra></extra>",
         "legendgroup": "Ping-to-Source",
         "line": {
          "color": "#00CC96",
          "dash": "solid"
         },
         "marker": {
          "symbol": "circle"
         },
         "mode": "lines",
         "name": "Ping-to-Source",
         "orientation": "v",
         "showlegend": false,
         "type": "scatter",
         "x": [
          "50",
          "100",
          "150",
          "200",
          "250",
          "300"
         ],
         "xaxis": "x2",
         "y": [
          0.7942924612333333,
          1.0265663024666667,
          1.2015363757666668,
          1.5327925996333331,
          1.7515482237333333,
          2.1080002716666666
         ],
         "yaxis": "y2"
        },
        {
         "hovertemplate": "Cycle Handling=Ping-to-Source<br>Area Conf.=300<br>Number of Nodes=%{x}<br>Construction Time (s)=%{y}<extra></extra>",
         "legendgroup": "Ping-to-Source",
         "line": {
          "color": "#00CC96",
          "dash": "solid"
         },
         "marker": {
          "symbol": "circle"
         },
         "mode": "lines",
         "name": "Ping-to-Source",
         "orientation": "v",
         "showlegend": false,
         "type": "scatter",
         "x": [
          "50",
          "100",
          "150",
          "200",
          "250",
          "300"
         ],
         "xaxis": "x3",
         "y": [
          1.0511648781666667,
          1.0371385147333334,
          1.4132026712333332,
          1.6347825237333333,
          1.9118569162,
          2.2718863945666663
         ],
         "yaxis": "y3"
        },
        {
         "hovertemplate": "Cycle Handling=Ping-to-Source<br>Area Conf.=400<br>Number of Nodes=%{x}<br>Construction Time (s)=%{y}<extra></extra>",
         "legendgroup": "Ping-to-Source",
         "line": {
          "color": "#00CC96",
          "dash": "solid"
         },
         "marker": {
          "symbol": "circle"
         },
         "mode": "lines",
         "name": "Ping-to-Source",
         "orientation": "v",
         "showlegend": false,
         "type": "scatter",
         "x": [
          "50",
          "100",
          "150",
          "200",
          "250",
          "300"
         ],
         "xaxis": "x4",
         "y": [
          0.7731723117333333,
          1.0134691438999999,
          1.2322364489666666,
          1.6112780077333333,
          1.8653800849,
          2.212056497
         ],
         "yaxis": "y4"
        },
        {
         "hovertemplate": "Cycle Handling=Ping-to-Source<br>Area Conf.=500<br>Number of Nodes=%{x}<br>Construction Time (s)=%{y}<extra></extra>",
         "legendgroup": "Ping-to-Source",
         "line": {
          "color": "#00CC96",
          "dash": "solid"
         },
         "marker": {
          "symbol": "circle"
         },
         "mode": "lines",
         "name": "Ping-to-Source",
         "orientation": "v",
         "showlegend": false,
         "type": "scatter",
         "x": [
          "50",
          "100",
          "150",
          "200",
          "250",
          "300"
         ],
         "xaxis": "x5",
         "y": [
          0.8517985822142856,
          1.0037832329333334,
          1.1270683482666668,
          1.3612841051,
          1.685804213,
          2.059868186966667
         ],
         "yaxis": "y5"
        }
       ],
       "layout": {
        "annotations": [
         {
          "font": {},
          "showarrow": false,
          "text": "Area Conf. (1)",
          "x": 0.09200000000000001,
          "xanchor": "center",
          "xref": "paper",
          "y": 1,
          "yanchor": "bottom",
          "yref": "paper"
         },
         {
          "font": {},
          "showarrow": false,
          "text": "Area Conf. (2)",
          "x": 0.29600000000000004,
          "xanchor": "center",
          "xref": "paper",
          "y": 1,
          "yanchor": "bottom",
          "yref": "paper"
         },
         {
          "font": {},
          "showarrow": false,
          "text": "Area Conf. (3)",
          "x": 0.5,
          "xanchor": "center",
          "xref": "paper",
          "y": 1,
          "yanchor": "bottom",
          "yref": "paper"
         },
         {
          "font": {},
          "showarrow": false,
          "text": "Area Conf. (4)",
          "x": 0.7040000000000002,
          "xanchor": "center",
          "xref": "paper",
          "y": 1,
          "yanchor": "bottom",
          "yref": "paper"
         },
         {
          "font": {},
          "showarrow": false,
          "text": "Area Conf. (5)",
          "x": 0.908,
          "xanchor": "center",
          "xref": "paper",
          "y": 1,
          "yanchor": "bottom",
          "yref": "paper"
         }
        ],
        "legend": {
         "title": {
          "text": "Cycle Handling"
         },
         "tracegroupgap": 0
        },
        "margin": {
         "t": 60
        },
        "template": {
         "data": {
          "bar": [
           {
            "error_x": {
             "color": "#2a3f5f"
            },
            "error_y": {
             "color": "#2a3f5f"
            },
            "marker": {
             "line": {
              "color": "#E5ECF6",
              "width": 0.5
             },
             "pattern": {
              "fillmode": "overlay",
              "size": 10,
              "solidity": 0.2
             }
            },
            "type": "bar"
           }
          ],
          "barpolar": [
           {
            "marker": {
             "line": {
              "color": "#E5ECF6",
              "width": 0.5
             },
             "pattern": {
              "fillmode": "overlay",
              "size": 10,
              "solidity": 0.2
             }
            },
            "type": "barpolar"
           }
          ],
          "carpet": [
           {
            "aaxis": {
             "endlinecolor": "#2a3f5f",
             "gridcolor": "white",
             "linecolor": "white",
             "minorgridcolor": "white",
             "startlinecolor": "#2a3f5f"
            },
            "baxis": {
             "endlinecolor": "#2a3f5f",
             "gridcolor": "white",
             "linecolor": "white",
             "minorgridcolor": "white",
             "startlinecolor": "#2a3f5f"
            },
            "type": "carpet"
           }
          ],
          "choropleth": [
           {
            "colorbar": {
             "outlinewidth": 0,
             "ticks": ""
            },
            "type": "choropleth"
           }
          ],
          "contour": [
           {
            "colorbar": {
             "outlinewidth": 0,
             "ticks": ""
            },
            "colorscale": [
             [
              0,
              "#0d0887"
             ],
             [
              0.1111111111111111,
              "#46039f"
             ],
             [
              0.2222222222222222,
              "#7201a8"
             ],
             [
              0.3333333333333333,
              "#9c179e"
             ],
             [
              0.4444444444444444,
              "#bd3786"
             ],
             [
              0.5555555555555556,
              "#d8576b"
             ],
             [
              0.6666666666666666,
              "#ed7953"
             ],
             [
              0.7777777777777778,
              "#fb9f3a"
             ],
             [
              0.8888888888888888,
              "#fdca26"
             ],
             [
              1,
              "#f0f921"
             ]
            ],
            "type": "contour"
           }
          ],
          "contourcarpet": [
           {
            "colorbar": {
             "outlinewidth": 0,
             "ticks": ""
            },
            "type": "contourcarpet"
           }
          ],
          "heatmap": [
           {
            "colorbar": {
             "outlinewidth": 0,
             "ticks": ""
            },
            "colorscale": [
             [
              0,
              "#0d0887"
             ],
             [
              0.1111111111111111,
              "#46039f"
             ],
             [
              0.2222222222222222,
              "#7201a8"
             ],
             [
              0.3333333333333333,
              "#9c179e"
             ],
             [
              0.4444444444444444,
              "#bd3786"
             ],
             [
              0.5555555555555556,
              "#d8576b"
             ],
             [
              0.6666666666666666,
              "#ed7953"
             ],
             [
              0.7777777777777778,
              "#fb9f3a"
             ],
             [
              0.8888888888888888,
              "#fdca26"
             ],
             [
              1,
              "#f0f921"
             ]
            ],
            "type": "heatmap"
           }
          ],
          "heatmapgl": [
           {
            "colorbar": {
             "outlinewidth": 0,
             "ticks": ""
            },
            "colorscale": [
             [
              0,
              "#0d0887"
             ],
             [
              0.1111111111111111,
              "#46039f"
             ],
             [
              0.2222222222222222,
              "#7201a8"
             ],
             [
              0.3333333333333333,
              "#9c179e"
             ],
             [
              0.4444444444444444,
              "#bd3786"
             ],
             [
              0.5555555555555556,
              "#d8576b"
             ],
             [
              0.6666666666666666,
              "#ed7953"
             ],
             [
              0.7777777777777778,
              "#fb9f3a"
             ],
             [
              0.8888888888888888,
              "#fdca26"
             ],
             [
              1,
              "#f0f921"
             ]
            ],
            "type": "heatmapgl"
           }
          ],
          "histogram": [
           {
            "marker": {
             "pattern": {
              "fillmode": "overlay",
              "size": 10,
              "solidity": 0.2
             }
            },
            "type": "histogram"
           }
          ],
          "histogram2d": [
           {
            "colorbar": {
             "outlinewidth": 0,
             "ticks": ""
            },
            "colorscale": [
             [
              0,
              "#0d0887"
             ],
             [
              0.1111111111111111,
              "#46039f"
             ],
             [
              0.2222222222222222,
              "#7201a8"
             ],
             [
              0.3333333333333333,
              "#9c179e"
             ],
             [
              0.4444444444444444,
              "#bd3786"
             ],
             [
              0.5555555555555556,
              "#d8576b"
             ],
             [
              0.6666666666666666,
              "#ed7953"
             ],
             [
              0.7777777777777778,
              "#fb9f3a"
             ],
             [
              0.8888888888888888,
              "#fdca26"
             ],
             [
              1,
              "#f0f921"
             ]
            ],
            "type": "histogram2d"
           }
          ],
          "histogram2dcontour": [
           {
            "colorbar": {
             "outlinewidth": 0,
             "ticks": ""
            },
            "colorscale": [
             [
              0,
              "#0d0887"
             ],
             [
              0.1111111111111111,
              "#46039f"
             ],
             [
              0.2222222222222222,
              "#7201a8"
             ],
             [
              0.3333333333333333,
              "#9c179e"
             ],
             [
              0.4444444444444444,
              "#bd3786"
             ],
             [
              0.5555555555555556,
              "#d8576b"
             ],
             [
              0.6666666666666666,
              "#ed7953"
             ],
             [
              0.7777777777777778,
              "#fb9f3a"
             ],
             [
              0.8888888888888888,
              "#fdca26"
             ],
             [
              1,
              "#f0f921"
             ]
            ],
            "type": "histogram2dcontour"
           }
          ],
          "mesh3d": [
           {
            "colorbar": {
             "outlinewidth": 0,
             "ticks": ""
            },
            "type": "mesh3d"
           }
          ],
          "parcoords": [
           {
            "line": {
             "colorbar": {
              "outlinewidth": 0,
              "ticks": ""
             }
            },
            "type": "parcoords"
           }
          ],
          "pie": [
           {
            "automargin": true,
            "type": "pie"
           }
          ],
          "scatter": [
           {
            "fillpattern": {
             "fillmode": "overlay",
             "size": 10,
             "solidity": 0.2
            },
            "type": "scatter"
           }
          ],
          "scatter3d": [
           {
            "line": {
             "colorbar": {
              "outlinewidth": 0,
              "ticks": ""
             }
            },
            "marker": {
             "colorbar": {
              "outlinewidth": 0,
              "ticks": ""
             }
            },
            "type": "scatter3d"
           }
          ],
          "scattercarpet": [
           {
            "marker": {
             "colorbar": {
              "outlinewidth": 0,
              "ticks": ""
             }
            },
            "type": "scattercarpet"
           }
          ],
          "scattergeo": [
           {
            "marker": {
             "colorbar": {
              "outlinewidth": 0,
              "ticks": ""
             }
            },
            "type": "scattergeo"
           }
          ],
          "scattergl": [
           {
            "marker": {
             "colorbar": {
              "outlinewidth": 0,
              "ticks": ""
             }
            },
            "type": "scattergl"
           }
          ],
          "scattermapbox": [
           {
            "marker": {
             "colorbar": {
              "outlinewidth": 0,
              "ticks": ""
             }
            },
            "type": "scattermapbox"
           }
          ],
          "scatterpolar": [
           {
            "marker": {
             "colorbar": {
              "outlinewidth": 0,
              "ticks": ""
             }
            },
            "type": "scatterpolar"
           }
          ],
          "scatterpolargl": [
           {
            "marker": {
             "colorbar": {
              "outlinewidth": 0,
              "ticks": ""
             }
            },
            "type": "scatterpolargl"
           }
          ],
          "scatterternary": [
           {
            "marker": {
             "colorbar": {
              "outlinewidth": 0,
              "ticks": ""
             }
            },
            "type": "scatterternary"
           }
          ],
          "surface": [
           {
            "colorbar": {
             "outlinewidth": 0,
             "ticks": ""
            },
            "colorscale": [
             [
              0,
              "#0d0887"
             ],
             [
              0.1111111111111111,
              "#46039f"
             ],
             [
              0.2222222222222222,
              "#7201a8"
             ],
             [
              0.3333333333333333,
              "#9c179e"
             ],
             [
              0.4444444444444444,
              "#bd3786"
             ],
             [
              0.5555555555555556,
              "#d8576b"
             ],
             [
              0.6666666666666666,
              "#ed7953"
             ],
             [
              0.7777777777777778,
              "#fb9f3a"
             ],
             [
              0.8888888888888888,
              "#fdca26"
             ],
             [
              1,
              "#f0f921"
             ]
            ],
            "type": "surface"
           }
          ],
          "table": [
           {
            "cells": {
             "fill": {
              "color": "#EBF0F8"
             },
             "line": {
              "color": "white"
             }
            },
            "header": {
             "fill": {
              "color": "#C8D4E3"
             },
             "line": {
              "color": "white"
             }
            },
            "type": "table"
           }
          ]
         },
         "layout": {
          "annotationdefaults": {
           "arrowcolor": "#2a3f5f",
           "arrowhead": 0,
           "arrowwidth": 1
          },
          "autotypenumbers": "strict",
          "coloraxis": {
           "colorbar": {
            "outlinewidth": 0,
            "ticks": ""
           }
          },
          "colorscale": {
           "diverging": [
            [
             0,
             "#8e0152"
            ],
            [
             0.1,
             "#c51b7d"
            ],
            [
             0.2,
             "#de77ae"
            ],
            [
             0.3,
             "#f1b6da"
            ],
            [
             0.4,
             "#fde0ef"
            ],
            [
             0.5,
             "#f7f7f7"
            ],
            [
             0.6,
             "#e6f5d0"
            ],
            [
             0.7,
             "#b8e186"
            ],
            [
             0.8,
             "#7fbc41"
            ],
            [
             0.9,
             "#4d9221"
            ],
            [
             1,
             "#276419"
            ]
           ],
           "sequential": [
            [
             0,
             "#0d0887"
            ],
            [
             0.1111111111111111,
             "#46039f"
            ],
            [
             0.2222222222222222,
             "#7201a8"
            ],
            [
             0.3333333333333333,
             "#9c179e"
            ],
            [
             0.4444444444444444,
             "#bd3786"
            ],
            [
             0.5555555555555556,
             "#d8576b"
            ],
            [
             0.6666666666666666,
             "#ed7953"
            ],
            [
             0.7777777777777778,
             "#fb9f3a"
            ],
            [
             0.8888888888888888,
             "#fdca26"
            ],
            [
             1,
             "#f0f921"
            ]
           ],
           "sequentialminus": [
            [
             0,
             "#0d0887"
            ],
            [
             0.1111111111111111,
             "#46039f"
            ],
            [
             0.2222222222222222,
             "#7201a8"
            ],
            [
             0.3333333333333333,
             "#9c179e"
            ],
            [
             0.4444444444444444,
             "#bd3786"
            ],
            [
             0.5555555555555556,
             "#d8576b"
            ],
            [
             0.6666666666666666,
             "#ed7953"
            ],
            [
             0.7777777777777778,
             "#fb9f3a"
            ],
            [
             0.8888888888888888,
             "#fdca26"
            ],
            [
             1,
             "#f0f921"
            ]
           ]
          },
          "colorway": [
           "#636efa",
           "#EF553B",
           "#00cc96",
           "#ab63fa",
           "#FFA15A",
           "#19d3f3",
           "#FF6692",
           "#B6E880",
           "#FF97FF",
           "#FECB52"
          ],
          "font": {
           "color": "#2a3f5f"
          },
          "geo": {
           "bgcolor": "white",
           "lakecolor": "white",
           "landcolor": "#E5ECF6",
           "showlakes": true,
           "showland": true,
           "subunitcolor": "white"
          },
          "hoverlabel": {
           "align": "left"
          },
          "hovermode": "closest",
          "mapbox": {
           "style": "light"
          },
          "paper_bgcolor": "white",
          "plot_bgcolor": "#E5ECF6",
          "polar": {
           "angularaxis": {
            "gridcolor": "white",
            "linecolor": "white",
            "ticks": ""
           },
           "bgcolor": "#E5ECF6",
           "radialaxis": {
            "gridcolor": "white",
            "linecolor": "white",
            "ticks": ""
           }
          },
          "scene": {
           "xaxis": {
            "backgroundcolor": "#E5ECF6",
            "gridcolor": "white",
            "gridwidth": 2,
            "linecolor": "white",
            "showbackground": true,
            "ticks": "",
            "zerolinecolor": "white"
           },
           "yaxis": {
            "backgroundcolor": "#E5ECF6",
            "gridcolor": "white",
            "gridwidth": 2,
            "linecolor": "white",
            "showbackground": true,
            "ticks": "",
            "zerolinecolor": "white"
           },
           "zaxis": {
            "backgroundcolor": "#E5ECF6",
            "gridcolor": "white",
            "gridwidth": 2,
            "linecolor": "white",
            "showbackground": true,
            "ticks": "",
            "zerolinecolor": "white"
           }
          },
          "shapedefaults": {
           "line": {
            "color": "#2a3f5f"
           }
          },
          "ternary": {
           "aaxis": {
            "gridcolor": "white",
            "linecolor": "white",
            "ticks": ""
           },
           "baxis": {
            "gridcolor": "white",
            "linecolor": "white",
            "ticks": ""
           },
           "bgcolor": "#E5ECF6",
           "caxis": {
            "gridcolor": "white",
            "linecolor": "white",
            "ticks": ""
           }
          },
          "title": {
           "x": 0.05
          },
          "xaxis": {
           "automargin": true,
           "gridcolor": "white",
           "linecolor": "white",
           "ticks": "",
           "title": {
            "standoff": 15
           },
           "zerolinecolor": "white",
           "zerolinewidth": 2
          },
          "yaxis": {
           "automargin": true,
           "gridcolor": "white",
           "linecolor": "white",
           "ticks": "",
           "title": {
            "standoff": 15
           },
           "zerolinecolor": "white",
           "zerolinewidth": 2
          }
         }
        },
        "xaxis": {
         "anchor": "y",
         "categoryarray": [
          "50",
          "100",
          "150",
          "200",
          "250",
          "300"
         ],
         "categoryorder": "array",
         "domain": [
          0,
          0.18400000000000002
         ],
         "tickangle": 90,
         "title": {
          "text": "Number of Nodes"
         }
        },
        "xaxis2": {
         "anchor": "y2",
         "categoryarray": [
          "50",
          "100",
          "150",
          "200",
          "250",
          "300"
         ],
         "categoryorder": "array",
         "domain": [
          0.20400000000000001,
          0.388
         ],
         "matches": "x",
         "tickangle": 90,
         "title": {
          "text": "Number of Nodes"
         }
        },
        "xaxis3": {
         "anchor": "y3",
         "categoryarray": [
          "50",
          "100",
          "150",
          "200",
          "250",
          "300"
         ],
         "categoryorder": "array",
         "domain": [
          0.40800000000000003,
          0.5920000000000001
         ],
         "matches": "x",
         "tickangle": 90,
         "title": {
          "text": "Number of Nodes"
         }
        },
        "xaxis4": {
         "anchor": "y4",
         "categoryarray": [
          "50",
          "100",
          "150",
          "200",
          "250",
          "300"
         ],
         "categoryorder": "array",
         "domain": [
          0.6120000000000001,
          0.7960000000000002
         ],
         "matches": "x",
         "tickangle": 90,
         "title": {
          "text": "Number of Nodes"
         }
        },
        "xaxis5": {
         "anchor": "y5",
         "categoryarray": [
          "50",
          "100",
          "150",
          "200",
          "250",
          "300"
         ],
         "categoryorder": "array",
         "domain": [
          0.8160000000000001,
          1
         ],
         "matches": "x",
         "tickangle": 90,
         "title": {
          "text": "Number of Nodes"
         }
        },
        "yaxis": {
         "anchor": "x",
         "domain": [
          0,
          1
         ],
         "title": {
          "text": "Construction Time (s)"
         }
        },
        "yaxis2": {
         "anchor": "x2",
         "domain": [
          0,
          1
         ],
         "matches": "y",
         "showticklabels": false
        },
        "yaxis3": {
         "anchor": "x3",
         "domain": [
          0,
          1
         ],
         "matches": "y",
         "showticklabels": false
        },
        "yaxis4": {
         "anchor": "x4",
         "domain": [
          0,
          1
         ],
         "matches": "y",
         "showticklabels": false
        },
        "yaxis5": {
         "anchor": "x5",
         "domain": [
          0,
          1
         ],
         "matches": "y",
         "showticklabels": false
        }
       }
      }
     },
     "metadata": {},
     "output_type": "display_data"
    }
   ],
   "source": [
    "means = df[df[\"BTP\"] == True].groupby([\"Node Count\", \"Cycle Prevention\", \"Width\"]).mean()\n",
    "\n",
    "fig = px.line(\n",
    "    means, \n",
    "    x=means.index.get_level_values(0).astype(str), \n",
    "    y='Construction Time (s)',\n",
    "    color=means.index.get_level_values(1),\n",
    "    color_discrete_map=cycle_color_map,\n",
    "    labels={\n",
    "        \"x\": \"Number of Nodes\",\n",
    "        \"color\": \"Cycle Handling\",\n",
    "        \"facet_col\": \"Area Conf.\",\n",
    "    },\n",
    "    facet_col=means.index.get_level_values(2),\n",
    "    category_orders={\n",
    "        \"color\": [\"Mutex\", \"Path to Source\", \"Ping to Source\"]\n",
    "    }\n",
    ")\n",
    "\n",
    "fig.for_each_annotation(lambda a: a.update(text=a.text.replace(\"=\", ' ')))\n",
    "fig.for_each_annotation(lambda a: a.update(text=a.text.replace(\"100\", \"(1)\")))\n",
    "fig.for_each_annotation(lambda a: a.update(text=a.text.replace(\"200\", \"(2)\")))\n",
    "fig.for_each_annotation(lambda a: a.update(text=a.text.replace(\"300\", \"(3)\")))\n",
    "fig.for_each_annotation(lambda a: a.update(text=a.text.replace(\"400\", \"(4)\")))\n",
    "fig.for_each_annotation(lambda a: a.update(text=a.text.replace(\"500\", \"(5)\")))\n",
    "\n",
    "fig.update_xaxes(categoryorder='array', categoryarray= ['50','100','150','200', '250', '300'])\n",
    "fig.update_xaxes(tickangle=90)\n",
    "\n",
    "area_labels = {\n",
    "    'Path to Source':'Path-to-Source',\n",
    "    'Mutex':'Mutex',\n",
    "    'Ping to Source':'Ping-to-Source',\n",
    "}\n",
    "fig.for_each_trace(lambda t: t.update(name = area_labels[t.name], legendgroup = area_labels[t.name], hovertemplate = t.hovertemplate.replace(t.name, area_labels[t.name])))\n",
    "\n",
    "fig.write_image(\"time_to_build.pdf\", width=1000, height=300)\n",
    "fig"
   ]
  },
  {
   "cell_type": "markdown",
   "metadata": {},
   "source": [
    "Time to Build for different cycle prevention methods, number of nodes and area sizes."
   ]
  },
  {
   "cell_type": "code",
   "execution_count": 24,
   "metadata": {},
   "outputs": [
    {
     "data": {
      "application/vnd.plotly.v1+json": {
       "config": {
        "plotlyServerURL": "https://plot.ly"
       },
       "data": [
        {
         "hovertemplate": "Area Conf.=(1)<br>Cycle Handling=Mutex<br>Number of Nodes=%{x}<br>Cumulative Transmission Power (W)=%{y}<extra></extra>",
         "legendgroup": "(1)",
         "line": {
          "color": "#636efa",
          "dash": "solid"
         },
         "marker": {
          "symbol": "circle"
         },
         "mode": "lines",
         "name": "(1)",
         "orientation": "v",
         "showlegend": true,
         "type": "scatter",
         "x": [
          "50",
          "100",
          "150",
          "200",
          "250",
          "300"
         ],
         "xaxis": "x",
         "y": [
          0.0431780090495523,
          0.09733017697784513,
          0.1314640224947538,
          0.13987336175832984,
          0.1791895742308573,
          0.15709012300325706
         ],
         "yaxis": "y"
        },
        {
         "hovertemplate": "Area Conf.=(1)<br>Cycle Handling=Path to Source<br>Number of Nodes=%{x}<br>Cumulative Transmission Power (W)=%{y}<extra></extra>",
         "legendgroup": "(1)",
         "line": {
          "color": "#636efa",
          "dash": "solid"
         },
         "marker": {
          "symbol": "circle"
         },
         "mode": "lines",
         "name": "(1)",
         "orientation": "v",
         "showlegend": false,
         "type": "scatter",
         "x": [
          "50",
          "100",
          "150",
          "200",
          "250",
          "300"
         ],
         "xaxis": "x2",
         "y": [
          0.05693580044902862,
          0.16364055262779054,
          0.25541574860673044,
          0.3472321013074374,
          0.4516323192434348,
          0.47195270274218204
         ],
         "yaxis": "y2"
        },
        {
         "hovertemplate": "Area Conf.=(1)<br>Cycle Handling=Ping to Source<br>Number of Nodes=%{x}<br>Cumulative Transmission Power (W)=%{y}<extra></extra>",
         "legendgroup": "(1)",
         "line": {
          "color": "#636efa",
          "dash": "solid"
         },
         "marker": {
          "symbol": "circle"
         },
         "mode": "lines",
         "name": "(1)",
         "orientation": "v",
         "showlegend": false,
         "type": "scatter",
         "x": [
          "50",
          "100",
          "150",
          "200",
          "250",
          "300"
         ],
         "xaxis": "x3",
         "y": [
          0.09431500087330118,
          0.10662388178003537,
          0.14324052140755222,
          0.15156438412030182,
          0.16754611261209992,
          0.17126699054984487
         ],
         "yaxis": "y3"
        },
        {
         "hovertemplate": "Area Conf.=(2)<br>Cycle Handling=Mutex<br>Number of Nodes=%{x}<br>Cumulative Transmission Power (W)=%{y}<extra></extra>",
         "legendgroup": "(2)",
         "line": {
          "color": "#EF553B",
          "dash": "solid"
         },
         "marker": {
          "symbol": "circle"
         },
         "mode": "lines",
         "name": "(2)",
         "orientation": "v",
         "showlegend": true,
         "type": "scatter",
         "x": [
          "50",
          "100",
          "150",
          "200",
          "250",
          "300"
         ],
         "xaxis": "x",
         "y": [
          0.23331972978029333,
          0.38835932978173837,
          0.49191740769637465,
          0.5095153099053491,
          0.5679775138926255,
          0.5620473964193966
         ],
         "yaxis": "y"
        },
        {
         "hovertemplate": "Area Conf.=(2)<br>Cycle Handling=Path to Source<br>Number of Nodes=%{x}<br>Cumulative Transmission Power (W)=%{y}<extra></extra>",
         "legendgroup": "(2)",
         "line": {
          "color": "#EF553B",
          "dash": "solid"
         },
         "marker": {
          "symbol": "circle"
         },
         "mode": "lines",
         "name": "(2)",
         "orientation": "v",
         "showlegend": false,
         "type": "scatter",
         "x": [
          "50",
          "100",
          "150",
          "200",
          "250",
          "300"
         ],
         "xaxis": "x2",
         "y": [
          0.2702624395356102,
          0.652253661073155,
          0.911822138361234,
          0.9352661569776559,
          1.0254857283191745,
          1.1939339178329456
         ],
         "yaxis": "y2"
        },
        {
         "hovertemplate": "Area Conf.=(2)<br>Cycle Handling=Ping to Source<br>Number of Nodes=%{x}<br>Cumulative Transmission Power (W)=%{y}<extra></extra>",
         "legendgroup": "(2)",
         "line": {
          "color": "#EF553B",
          "dash": "solid"
         },
         "marker": {
          "symbol": "circle"
         },
         "mode": "lines",
         "name": "(2)",
         "orientation": "v",
         "showlegend": false,
         "type": "scatter",
         "x": [
          "50",
          "100",
          "150",
          "200",
          "250",
          "300"
         ],
         "xaxis": "x3",
         "y": [
          0.36351420029474135,
          0.5690316624903888,
          0.7063494580859777,
          0.6985522586102809,
          0.8250389963619305,
          0.8358215748571919
         ],
         "yaxis": "y3"
        },
        {
         "hovertemplate": "Area Conf.=(3)<br>Cycle Handling=Mutex<br>Number of Nodes=%{x}<br>Cumulative Transmission Power (W)=%{y}<extra></extra>",
         "legendgroup": "(3)",
         "line": {
          "color": "#00cc96",
          "dash": "solid"
         },
         "marker": {
          "symbol": "circle"
         },
         "mode": "lines",
         "name": "(3)",
         "orientation": "v",
         "showlegend": true,
         "type": "scatter",
         "x": [
          "50",
          "100",
          "150",
          "200",
          "250",
          "300"
         ],
         "xaxis": "x",
         "y": [
          0.4837188419983118,
          0.7047671291398798,
          0.8119560958813083,
          0.9599083883122715,
          1.1559460393552259,
          1.1725952221131
         ],
         "yaxis": "y"
        },
        {
         "hovertemplate": "Area Conf.=(3)<br>Cycle Handling=Path to Source<br>Number of Nodes=%{x}<br>Cumulative Transmission Power (W)=%{y}<extra></extra>",
         "legendgroup": "(3)",
         "line": {
          "color": "#00cc96",
          "dash": "solid"
         },
         "marker": {
          "symbol": "circle"
         },
         "mode": "lines",
         "name": "(3)",
         "orientation": "v",
         "showlegend": false,
         "type": "scatter",
         "x": [
          "50",
          "100",
          "150",
          "200",
          "250",
          "300"
         ],
         "xaxis": "x2",
         "y": [
          0.4648438733987622,
          0.8589171312916218,
          1.069221051044667,
          1.2420986350436019,
          1.4500853281277557,
          1.558663860519584
         ],
         "yaxis": "y2"
        },
        {
         "hovertemplate": "Area Conf.=(3)<br>Cycle Handling=Ping to Source<br>Number of Nodes=%{x}<br>Cumulative Transmission Power (W)=%{y}<extra></extra>",
         "legendgroup": "(3)",
         "line": {
          "color": "#00cc96",
          "dash": "solid"
         },
         "marker": {
          "symbol": "circle"
         },
         "mode": "lines",
         "name": "(3)",
         "orientation": "v",
         "showlegend": false,
         "type": "scatter",
         "x": [
          "50",
          "100",
          "150",
          "200",
          "250",
          "300"
         ],
         "xaxis": "x3",
         "y": [
          0.7191391253493719,
          1.0455441271357548,
          1.1916889769551609,
          1.3610529971288974,
          1.518081015978049,
          1.6918342779286488
         ],
         "yaxis": "y3"
        },
        {
         "hovertemplate": "Area Conf.=(4)<br>Cycle Handling=Mutex<br>Number of Nodes=%{x}<br>Cumulative Transmission Power (W)=%{y}<extra></extra>",
         "legendgroup": "(4)",
         "line": {
          "color": "#ab63fa",
          "dash": "solid"
         },
         "marker": {
          "symbol": "circle"
         },
         "mode": "lines",
         "name": "(4)",
         "orientation": "v",
         "showlegend": true,
         "type": "scatter",
         "x": [
          "50",
          "100",
          "150",
          "200",
          "250",
          "300"
         ],
         "xaxis": "x",
         "y": [
          0.8386521286208475,
          1.0242185800044021,
          1.2994239220384254,
          1.7019599715304912,
          1.556514188841004,
          1.8165733086416511
         ],
         "yaxis": "y"
        },
        {
         "hovertemplate": "Area Conf.=(4)<br>Cycle Handling=Path to Source<br>Number of Nodes=%{x}<br>Cumulative Transmission Power (W)=%{y}<extra></extra>",
         "legendgroup": "(4)",
         "line": {
          "color": "#ab63fa",
          "dash": "solid"
         },
         "marker": {
          "symbol": "circle"
         },
         "mode": "lines",
         "name": "(4)",
         "orientation": "v",
         "showlegend": false,
         "type": "scatter",
         "x": [
          "50",
          "100",
          "150",
          "200",
          "250",
          "300"
         ],
         "xaxis": "x2",
         "y": [
          0.8872441394695711,
          1.1044870130398612,
          1.390058345868279,
          1.697373925431359,
          2.1189250735655776,
          2.278099298223044
         ],
         "yaxis": "y2"
        },
        {
         "hovertemplate": "Area Conf.=(4)<br>Cycle Handling=Ping to Source<br>Number of Nodes=%{x}<br>Cumulative Transmission Power (W)=%{y}<extra></extra>",
         "legendgroup": "(4)",
         "line": {
          "color": "#ab63fa",
          "dash": "solid"
         },
         "marker": {
          "symbol": "circle"
         },
         "mode": "lines",
         "name": "(4)",
         "orientation": "v",
         "showlegend": false,
         "type": "scatter",
         "x": [
          "50",
          "100",
          "150",
          "200",
          "250",
          "300"
         ],
         "xaxis": "x3",
         "y": [
          1.2211288479003441,
          1.61212817982817,
          1.870570633789655,
          2.0846936216891936,
          2.2477546339212013,
          2.5438006440308585
         ],
         "yaxis": "y3"
        },
        {
         "hovertemplate": "Area Conf.=(5)<br>Cycle Handling=Mutex<br>Number of Nodes=%{x}<br>Cumulative Transmission Power (W)=%{y}<extra></extra>",
         "legendgroup": "(5)",
         "line": {
          "color": "#FFA15A",
          "dash": "solid"
         },
         "marker": {
          "symbol": "circle"
         },
         "mode": "lines",
         "name": "(5)",
         "orientation": "v",
         "showlegend": true,
         "type": "scatter",
         "x": [
          "50",
          "100",
          "150",
          "200",
          "250",
          "300"
         ],
         "xaxis": "x",
         "y": [
          1.2672649782582244,
          1.5011333448169792,
          1.98884836572241,
          2.1416433635437127,
          2.6225253300821625,
          2.671407620886356
         ],
         "yaxis": "y"
        },
        {
         "hovertemplate": "Area Conf.=(5)<br>Cycle Handling=Path to Source<br>Number of Nodes=%{x}<br>Cumulative Transmission Power (W)=%{y}<extra></extra>",
         "legendgroup": "(5)",
         "line": {
          "color": "#FFA15A",
          "dash": "solid"
         },
         "marker": {
          "symbol": "circle"
         },
         "mode": "lines",
         "name": "(5)",
         "orientation": "v",
         "showlegend": false,
         "type": "scatter",
         "x": [
          "50",
          "100",
          "150",
          "200",
          "250",
          "300"
         ],
         "xaxis": "x2",
         "y": [
          1.4903863895494704,
          1.4586552299015458,
          1.7971774727962417,
          2.1677046191908143,
          2.436215096544056,
          2.8228502913464366
         ],
         "yaxis": "y2"
        },
        {
         "hovertemplate": "Area Conf.=(5)<br>Cycle Handling=Ping to Source<br>Number of Nodes=%{x}<br>Cumulative Transmission Power (W)=%{y}<extra></extra>",
         "legendgroup": "(5)",
         "line": {
          "color": "#FFA15A",
          "dash": "solid"
         },
         "marker": {
          "symbol": "circle"
         },
         "mode": "lines",
         "name": "(5)",
         "orientation": "v",
         "showlegend": false,
         "type": "scatter",
         "x": [
          "50",
          "100",
          "150",
          "200",
          "250",
          "300"
         ],
         "xaxis": "x3",
         "y": [
          1.727853951326879,
          2.042235717924123,
          2.375350123078243,
          2.8221034056684444,
          2.980904971650136,
          3.312796527666649
         ],
         "yaxis": "y3"
        }
       ],
       "layout": {
        "annotations": [
         {
          "font": {},
          "showarrow": false,
          "text": "Mutex",
          "x": 0.15999999999999998,
          "xanchor": "center",
          "xref": "paper",
          "y": 1,
          "yanchor": "bottom",
          "yref": "paper"
         },
         {
          "font": {},
          "showarrow": false,
          "text": "Path-to-Source",
          "x": 0.49999999999999994,
          "xanchor": "center",
          "xref": "paper",
          "y": 1,
          "yanchor": "bottom",
          "yref": "paper"
         },
         {
          "font": {},
          "showarrow": false,
          "text": "Ping-to-Source",
          "x": 0.8399999999999999,
          "xanchor": "center",
          "xref": "paper",
          "y": 1,
          "yanchor": "bottom",
          "yref": "paper"
         }
        ],
        "legend": {
         "title": {
          "text": "Area Conf."
         },
         "tracegroupgap": 0
        },
        "margin": {
         "t": 60
        },
        "template": {
         "data": {
          "bar": [
           {
            "error_x": {
             "color": "#2a3f5f"
            },
            "error_y": {
             "color": "#2a3f5f"
            },
            "marker": {
             "line": {
              "color": "#E5ECF6",
              "width": 0.5
             },
             "pattern": {
              "fillmode": "overlay",
              "size": 10,
              "solidity": 0.2
             }
            },
            "type": "bar"
           }
          ],
          "barpolar": [
           {
            "marker": {
             "line": {
              "color": "#E5ECF6",
              "width": 0.5
             },
             "pattern": {
              "fillmode": "overlay",
              "size": 10,
              "solidity": 0.2
             }
            },
            "type": "barpolar"
           }
          ],
          "carpet": [
           {
            "aaxis": {
             "endlinecolor": "#2a3f5f",
             "gridcolor": "white",
             "linecolor": "white",
             "minorgridcolor": "white",
             "startlinecolor": "#2a3f5f"
            },
            "baxis": {
             "endlinecolor": "#2a3f5f",
             "gridcolor": "white",
             "linecolor": "white",
             "minorgridcolor": "white",
             "startlinecolor": "#2a3f5f"
            },
            "type": "carpet"
           }
          ],
          "choropleth": [
           {
            "colorbar": {
             "outlinewidth": 0,
             "ticks": ""
            },
            "type": "choropleth"
           }
          ],
          "contour": [
           {
            "colorbar": {
             "outlinewidth": 0,
             "ticks": ""
            },
            "colorscale": [
             [
              0,
              "#0d0887"
             ],
             [
              0.1111111111111111,
              "#46039f"
             ],
             [
              0.2222222222222222,
              "#7201a8"
             ],
             [
              0.3333333333333333,
              "#9c179e"
             ],
             [
              0.4444444444444444,
              "#bd3786"
             ],
             [
              0.5555555555555556,
              "#d8576b"
             ],
             [
              0.6666666666666666,
              "#ed7953"
             ],
             [
              0.7777777777777778,
              "#fb9f3a"
             ],
             [
              0.8888888888888888,
              "#fdca26"
             ],
             [
              1,
              "#f0f921"
             ]
            ],
            "type": "contour"
           }
          ],
          "contourcarpet": [
           {
            "colorbar": {
             "outlinewidth": 0,
             "ticks": ""
            },
            "type": "contourcarpet"
           }
          ],
          "heatmap": [
           {
            "colorbar": {
             "outlinewidth": 0,
             "ticks": ""
            },
            "colorscale": [
             [
              0,
              "#0d0887"
             ],
             [
              0.1111111111111111,
              "#46039f"
             ],
             [
              0.2222222222222222,
              "#7201a8"
             ],
             [
              0.3333333333333333,
              "#9c179e"
             ],
             [
              0.4444444444444444,
              "#bd3786"
             ],
             [
              0.5555555555555556,
              "#d8576b"
             ],
             [
              0.6666666666666666,
              "#ed7953"
             ],
             [
              0.7777777777777778,
              "#fb9f3a"
             ],
             [
              0.8888888888888888,
              "#fdca26"
             ],
             [
              1,
              "#f0f921"
             ]
            ],
            "type": "heatmap"
           }
          ],
          "heatmapgl": [
           {
            "colorbar": {
             "outlinewidth": 0,
             "ticks": ""
            },
            "colorscale": [
             [
              0,
              "#0d0887"
             ],
             [
              0.1111111111111111,
              "#46039f"
             ],
             [
              0.2222222222222222,
              "#7201a8"
             ],
             [
              0.3333333333333333,
              "#9c179e"
             ],
             [
              0.4444444444444444,
              "#bd3786"
             ],
             [
              0.5555555555555556,
              "#d8576b"
             ],
             [
              0.6666666666666666,
              "#ed7953"
             ],
             [
              0.7777777777777778,
              "#fb9f3a"
             ],
             [
              0.8888888888888888,
              "#fdca26"
             ],
             [
              1,
              "#f0f921"
             ]
            ],
            "type": "heatmapgl"
           }
          ],
          "histogram": [
           {
            "marker": {
             "pattern": {
              "fillmode": "overlay",
              "size": 10,
              "solidity": 0.2
             }
            },
            "type": "histogram"
           }
          ],
          "histogram2d": [
           {
            "colorbar": {
             "outlinewidth": 0,
             "ticks": ""
            },
            "colorscale": [
             [
              0,
              "#0d0887"
             ],
             [
              0.1111111111111111,
              "#46039f"
             ],
             [
              0.2222222222222222,
              "#7201a8"
             ],
             [
              0.3333333333333333,
              "#9c179e"
             ],
             [
              0.4444444444444444,
              "#bd3786"
             ],
             [
              0.5555555555555556,
              "#d8576b"
             ],
             [
              0.6666666666666666,
              "#ed7953"
             ],
             [
              0.7777777777777778,
              "#fb9f3a"
             ],
             [
              0.8888888888888888,
              "#fdca26"
             ],
             [
              1,
              "#f0f921"
             ]
            ],
            "type": "histogram2d"
           }
          ],
          "histogram2dcontour": [
           {
            "colorbar": {
             "outlinewidth": 0,
             "ticks": ""
            },
            "colorscale": [
             [
              0,
              "#0d0887"
             ],
             [
              0.1111111111111111,
              "#46039f"
             ],
             [
              0.2222222222222222,
              "#7201a8"
             ],
             [
              0.3333333333333333,
              "#9c179e"
             ],
             [
              0.4444444444444444,
              "#bd3786"
             ],
             [
              0.5555555555555556,
              "#d8576b"
             ],
             [
              0.6666666666666666,
              "#ed7953"
             ],
             [
              0.7777777777777778,
              "#fb9f3a"
             ],
             [
              0.8888888888888888,
              "#fdca26"
             ],
             [
              1,
              "#f0f921"
             ]
            ],
            "type": "histogram2dcontour"
           }
          ],
          "mesh3d": [
           {
            "colorbar": {
             "outlinewidth": 0,
             "ticks": ""
            },
            "type": "mesh3d"
           }
          ],
          "parcoords": [
           {
            "line": {
             "colorbar": {
              "outlinewidth": 0,
              "ticks": ""
             }
            },
            "type": "parcoords"
           }
          ],
          "pie": [
           {
            "automargin": true,
            "type": "pie"
           }
          ],
          "scatter": [
           {
            "fillpattern": {
             "fillmode": "overlay",
             "size": 10,
             "solidity": 0.2
            },
            "type": "scatter"
           }
          ],
          "scatter3d": [
           {
            "line": {
             "colorbar": {
              "outlinewidth": 0,
              "ticks": ""
             }
            },
            "marker": {
             "colorbar": {
              "outlinewidth": 0,
              "ticks": ""
             }
            },
            "type": "scatter3d"
           }
          ],
          "scattercarpet": [
           {
            "marker": {
             "colorbar": {
              "outlinewidth": 0,
              "ticks": ""
             }
            },
            "type": "scattercarpet"
           }
          ],
          "scattergeo": [
           {
            "marker": {
             "colorbar": {
              "outlinewidth": 0,
              "ticks": ""
             }
            },
            "type": "scattergeo"
           }
          ],
          "scattergl": [
           {
            "marker": {
             "colorbar": {
              "outlinewidth": 0,
              "ticks": ""
             }
            },
            "type": "scattergl"
           }
          ],
          "scattermapbox": [
           {
            "marker": {
             "colorbar": {
              "outlinewidth": 0,
              "ticks": ""
             }
            },
            "type": "scattermapbox"
           }
          ],
          "scatterpolar": [
           {
            "marker": {
             "colorbar": {
              "outlinewidth": 0,
              "ticks": ""
             }
            },
            "type": "scatterpolar"
           }
          ],
          "scatterpolargl": [
           {
            "marker": {
             "colorbar": {
              "outlinewidth": 0,
              "ticks": ""
             }
            },
            "type": "scatterpolargl"
           }
          ],
          "scatterternary": [
           {
            "marker": {
             "colorbar": {
              "outlinewidth": 0,
              "ticks": ""
             }
            },
            "type": "scatterternary"
           }
          ],
          "surface": [
           {
            "colorbar": {
             "outlinewidth": 0,
             "ticks": ""
            },
            "colorscale": [
             [
              0,
              "#0d0887"
             ],
             [
              0.1111111111111111,
              "#46039f"
             ],
             [
              0.2222222222222222,
              "#7201a8"
             ],
             [
              0.3333333333333333,
              "#9c179e"
             ],
             [
              0.4444444444444444,
              "#bd3786"
             ],
             [
              0.5555555555555556,
              "#d8576b"
             ],
             [
              0.6666666666666666,
              "#ed7953"
             ],
             [
              0.7777777777777778,
              "#fb9f3a"
             ],
             [
              0.8888888888888888,
              "#fdca26"
             ],
             [
              1,
              "#f0f921"
             ]
            ],
            "type": "surface"
           }
          ],
          "table": [
           {
            "cells": {
             "fill": {
              "color": "#EBF0F8"
             },
             "line": {
              "color": "white"
             }
            },
            "header": {
             "fill": {
              "color": "#C8D4E3"
             },
             "line": {
              "color": "white"
             }
            },
            "type": "table"
           }
          ]
         },
         "layout": {
          "annotationdefaults": {
           "arrowcolor": "#2a3f5f",
           "arrowhead": 0,
           "arrowwidth": 1
          },
          "autotypenumbers": "strict",
          "coloraxis": {
           "colorbar": {
            "outlinewidth": 0,
            "ticks": ""
           }
          },
          "colorscale": {
           "diverging": [
            [
             0,
             "#8e0152"
            ],
            [
             0.1,
             "#c51b7d"
            ],
            [
             0.2,
             "#de77ae"
            ],
            [
             0.3,
             "#f1b6da"
            ],
            [
             0.4,
             "#fde0ef"
            ],
            [
             0.5,
             "#f7f7f7"
            ],
            [
             0.6,
             "#e6f5d0"
            ],
            [
             0.7,
             "#b8e186"
            ],
            [
             0.8,
             "#7fbc41"
            ],
            [
             0.9,
             "#4d9221"
            ],
            [
             1,
             "#276419"
            ]
           ],
           "sequential": [
            [
             0,
             "#0d0887"
            ],
            [
             0.1111111111111111,
             "#46039f"
            ],
            [
             0.2222222222222222,
             "#7201a8"
            ],
            [
             0.3333333333333333,
             "#9c179e"
            ],
            [
             0.4444444444444444,
             "#bd3786"
            ],
            [
             0.5555555555555556,
             "#d8576b"
            ],
            [
             0.6666666666666666,
             "#ed7953"
            ],
            [
             0.7777777777777778,
             "#fb9f3a"
            ],
            [
             0.8888888888888888,
             "#fdca26"
            ],
            [
             1,
             "#f0f921"
            ]
           ],
           "sequentialminus": [
            [
             0,
             "#0d0887"
            ],
            [
             0.1111111111111111,
             "#46039f"
            ],
            [
             0.2222222222222222,
             "#7201a8"
            ],
            [
             0.3333333333333333,
             "#9c179e"
            ],
            [
             0.4444444444444444,
             "#bd3786"
            ],
            [
             0.5555555555555556,
             "#d8576b"
            ],
            [
             0.6666666666666666,
             "#ed7953"
            ],
            [
             0.7777777777777778,
             "#fb9f3a"
            ],
            [
             0.8888888888888888,
             "#fdca26"
            ],
            [
             1,
             "#f0f921"
            ]
           ]
          },
          "colorway": [
           "#636efa",
           "#EF553B",
           "#00cc96",
           "#ab63fa",
           "#FFA15A",
           "#19d3f3",
           "#FF6692",
           "#B6E880",
           "#FF97FF",
           "#FECB52"
          ],
          "font": {
           "color": "#2a3f5f"
          },
          "geo": {
           "bgcolor": "white",
           "lakecolor": "white",
           "landcolor": "#E5ECF6",
           "showlakes": true,
           "showland": true,
           "subunitcolor": "white"
          },
          "hoverlabel": {
           "align": "left"
          },
          "hovermode": "closest",
          "mapbox": {
           "style": "light"
          },
          "paper_bgcolor": "white",
          "plot_bgcolor": "#E5ECF6",
          "polar": {
           "angularaxis": {
            "gridcolor": "white",
            "linecolor": "white",
            "ticks": ""
           },
           "bgcolor": "#E5ECF6",
           "radialaxis": {
            "gridcolor": "white",
            "linecolor": "white",
            "ticks": ""
           }
          },
          "scene": {
           "xaxis": {
            "backgroundcolor": "#E5ECF6",
            "gridcolor": "white",
            "gridwidth": 2,
            "linecolor": "white",
            "showbackground": true,
            "ticks": "",
            "zerolinecolor": "white"
           },
           "yaxis": {
            "backgroundcolor": "#E5ECF6",
            "gridcolor": "white",
            "gridwidth": 2,
            "linecolor": "white",
            "showbackground": true,
            "ticks": "",
            "zerolinecolor": "white"
           },
           "zaxis": {
            "backgroundcolor": "#E5ECF6",
            "gridcolor": "white",
            "gridwidth": 2,
            "linecolor": "white",
            "showbackground": true,
            "ticks": "",
            "zerolinecolor": "white"
           }
          },
          "shapedefaults": {
           "line": {
            "color": "#2a3f5f"
           }
          },
          "ternary": {
           "aaxis": {
            "gridcolor": "white",
            "linecolor": "white",
            "ticks": ""
           },
           "baxis": {
            "gridcolor": "white",
            "linecolor": "white",
            "ticks": ""
           },
           "bgcolor": "#E5ECF6",
           "caxis": {
            "gridcolor": "white",
            "linecolor": "white",
            "ticks": ""
           }
          },
          "title": {
           "x": 0.05
          },
          "xaxis": {
           "automargin": true,
           "gridcolor": "white",
           "linecolor": "white",
           "ticks": "",
           "title": {
            "standoff": 15
           },
           "zerolinecolor": "white",
           "zerolinewidth": 2
          },
          "yaxis": {
           "automargin": true,
           "gridcolor": "white",
           "linecolor": "white",
           "ticks": "",
           "title": {
            "standoff": 15
           },
           "zerolinecolor": "white",
           "zerolinewidth": 2
          }
         }
        },
        "xaxis": {
         "anchor": "y",
         "categoryarray": [
          "50",
          "100",
          "150",
          "200",
          "250",
          "300"
         ],
         "categoryorder": "array",
         "domain": [
          0,
          0.31999999999999995
         ],
         "tickangle": 90,
         "title": {
          "text": "Number of Nodes"
         }
        },
        "xaxis2": {
         "anchor": "y2",
         "categoryarray": [
          "50",
          "100",
          "150",
          "200",
          "250",
          "300"
         ],
         "categoryorder": "array",
         "domain": [
          0.33999999999999997,
          0.6599999999999999
         ],
         "matches": "x",
         "tickangle": 90,
         "title": {
          "text": "Number of Nodes"
         }
        },
        "xaxis3": {
         "anchor": "y3",
         "categoryarray": [
          "50",
          "100",
          "150",
          "200",
          "250",
          "300"
         ],
         "categoryorder": "array",
         "domain": [
          0.6799999999999999,
          0.9999999999999999
         ],
         "matches": "x",
         "tickangle": 90,
         "title": {
          "text": "Number of Nodes"
         }
        },
        "yaxis": {
         "anchor": "x",
         "domain": [
          0,
          1
         ],
         "title": {
          "text": "Cumulative Transmission Power (W)"
         }
        },
        "yaxis2": {
         "anchor": "x2",
         "domain": [
          0,
          1
         ],
         "matches": "y",
         "showticklabels": false
        },
        "yaxis3": {
         "anchor": "x3",
         "domain": [
          0,
          1
         ],
         "matches": "y",
         "showticklabels": false
        }
       }
      }
     },
     "metadata": {},
     "output_type": "display_data"
    }
   ],
   "source": [
    "means = df[df[\"BTP\"] == True].groupby([\"Node Count\", \"Cycle Prevention\", \"Width\"]).mean()\n",
    "\n",
    "fig = px.line(\n",
    "    means, \n",
    "    x=means.index.get_level_values(0).astype(str), \n",
    "    y=\"Total TX Power\", \n",
    "    color=means.index.get_level_values(2), \n",
    "    labels={\n",
    "        \"x\": \"Number of Nodes\",\n",
    "        \"Total TX Power\": \"Cumulative Transmission Power (W)\",\n",
    "        \"color\": \"Area Conf.\",\n",
    "        \"facet_col\": \"Cycle Handling\",\n",
    "    },\n",
    "    facet_col=means.index.get_level_values(1),\n",
    ")\n",
    "\n",
    "area_labels = {\n",
    "    '100':'(1)',\n",
    "    '200':'(2)',\n",
    "    '300':'(3)',\n",
    "    '400':'(4)',\n",
    "    '500':'(5)',\n",
    "}\n",
    "\n",
    "fig.for_each_trace(lambda t: t.update(name = area_labels[t.name], legendgroup = area_labels[t.name], hovertemplate = t.hovertemplate.replace(t.name, area_labels[t.name])))\n",
    "\n",
    "fig.for_each_annotation(lambda a: a.update(text=a.text.split(\"=\")[1]))\n",
    "fig.for_each_annotation(lambda a: a.update(text=a.text.replace(\"Mutex\", \"Mutex\")))\n",
    "fig.for_each_annotation(lambda a: a.update(text=a.text.replace(\"Path to Source\", \"Path-to-Source\")))\n",
    "fig.for_each_annotation(lambda a: a.update(text=a.text.replace(\"Ping to Source\", \"Ping-to-Source\")))\n",
    "\n",
    "fig.update_xaxes(categoryorder='array', categoryarray= ['50','100','150','200', '250', '300'])\n",
    "fig.update_xaxes(tickangle=90)\n",
    "\n",
    "fig.write_image(\"cumulative_tx_power.pdf\", width=1000, height=300)\n",
    "fig"
   ]
  },
  {
   "cell_type": "markdown",
   "metadata": {},
   "source": [
    "Cumulative transmission power for different CPMs, number of nodes and area sizes."
   ]
  },
  {
   "cell_type": "code",
   "execution_count": 25,
   "metadata": {},
   "outputs": [
    {
     "data": {
      "application/vnd.plotly.v1+json": {
       "config": {
        "plotlyServerURL": "https://plot.ly"
       },
       "data": [
        {
         "hovertemplate": "Area Conf.=100<br>Category=Construction<br>facet_col=Mutex<br>Number of Nodes=%{x}<br>Energy (J)=%{y}<extra></extra>",
         "legendgroup": "(1), Construction",
         "line": {
          "color": "#636efa",
          "dash": "4px"
         },
         "marker": {
          "symbol": "circle"
         },
         "mode": "lines",
         "name": "(1), Construction",
         "orientation": "v",
         "showlegend": true,
         "type": "scatter",
         "x": [
          "50",
          "100",
          "150",
          "200",
          "250",
          "300"
         ],
         "xaxis": "x",
         "y": [
          1.423472400756683,
          4.375665582623329,
          9.230884953433197,
          14.542574312179733,
          23.959960425493072,
          36.05581233781648
         ],
         "yaxis": "y"
        },
        {
         "hovertemplate": "Area Conf.=100<br>Category=Construction<br>facet_col=Path to Source<br>Number of Nodes=%{x}<br>Energy (J)=%{y}<extra></extra>",
         "legendgroup": "(1), Construction",
         "line": {
          "color": "#636efa",
          "dash": "4px"
         },
         "marker": {
          "symbol": "circle"
         },
         "mode": "lines",
         "name": "(1), Construction",
         "orientation": "v",
         "showlegend": false,
         "type": "scatter",
         "x": [
          "50",
          "100",
          "150",
          "200",
          "250",
          "300"
         ],
         "xaxis": "x2",
         "y": [
          2.0990885960766774,
          5.655026337483298,
          9.080286375916524,
          15.79004494716645,
          25.190056224573162,
          37.64670877232734
         ],
         "yaxis": "y2"
        },
        {
         "hovertemplate": "Area Conf.=100<br>Category=Construction<br>facet_col=Ping to Source<br>Number of Nodes=%{x}<br>Energy (J)=%{y}<extra></extra>",
         "legendgroup": "(1), Construction",
         "line": {
          "color": "#636efa",
          "dash": "4px"
         },
         "marker": {
          "symbol": "circle"
         },
         "mode": "lines",
         "name": "(1), Construction",
         "orientation": "v",
         "showlegend": false,
         "type": "scatter",
         "x": [
          "50",
          "100",
          "150",
          "200",
          "250",
          "300"
         ],
         "xaxis": "x3",
         "y": [
          2.1088602908500134,
          5.302558572059976,
          9.329021983983184,
          15.678343327649788,
          24.235296730299783,
          35.69485170646981
         ],
         "yaxis": "y3"
        },
        {
         "hovertemplate": "Area Conf.=100<br>Category=Data<br>facet_col=Mutex<br>Number of Nodes=%{x}<br>Energy (J)=%{y}<extra></extra>",
         "legendgroup": "(1), Data",
         "line": {
          "color": "#636efa",
          "dash": "solid"
         },
         "marker": {
          "symbol": "circle"
         },
         "mode": "lines",
         "name": "(1), Data",
         "orientation": "v",
         "showlegend": true,
         "type": "scatter",
         "x": [
          "50",
          "100",
          "150",
          "200",
          "250",
          "300"
         ],
         "xaxis": "x",
         "y": [
          24.34315725086666,
          42.92724140000004,
          61.97419099033347,
          75.55423410000016,
          97.05079707933332,
          117.68841456666641
         ],
         "yaxis": "y"
        },
        {
         "hovertemplate": "Area Conf.=100<br>Category=Data<br>facet_col=Path to Source<br>Number of Nodes=%{x}<br>Energy (J)=%{y}<extra></extra>",
         "legendgroup": "(1), Data",
         "line": {
          "color": "#636efa",
          "dash": "solid"
         },
         "marker": {
          "symbol": "circle"
         },
         "mode": "lines",
         "name": "(1), Data",
         "orientation": "v",
         "showlegend": false,
         "type": "scatter",
         "x": [
          "50",
          "100",
          "150",
          "200",
          "250",
          "300"
         ],
         "xaxis": "x2",
         "y": [
          24.907496649899993,
          44.162720433333384,
          62.02901101520015,
          81.72134166666676,
          99.48311316083327,
          116.24850162475848
         ],
         "yaxis": "y2"
        },
        {
         "hovertemplate": "Area Conf.=100<br>Category=Data<br>facet_col=Ping to Source<br>Number of Nodes=%{x}<br>Energy (J)=%{y}<extra></extra>",
         "legendgroup": "(1), Data",
         "line": {
          "color": "#636efa",
          "dash": "solid"
         },
         "marker": {
          "symbol": "circle"
         },
         "mode": "lines",
         "name": "(1), Data",
         "orientation": "v",
         "showlegend": false,
         "type": "scatter",
         "x": [
          "50",
          "100",
          "150",
          "200",
          "250",
          "300"
         ],
         "xaxis": "x3",
         "y": [
          25.49544313419999,
          43.974024900000046,
          62.200775133333494,
          79.25680673333343,
          96.43271739999997,
          113.77771769999981
         ],
         "yaxis": "y3"
        },
        {
         "hovertemplate": "Area Conf.=200<br>Category=Construction<br>facet_col=Mutex<br>Number of Nodes=%{x}<br>Energy (J)=%{y}<extra></extra>",
         "legendgroup": "(2), Construction",
         "line": {
          "color": "#EF553B",
          "dash": "4px"
         },
         "marker": {
          "symbol": "circle"
         },
         "mode": "lines",
         "name": "(2), Construction",
         "orientation": "v",
         "showlegend": true,
         "type": "scatter",
         "x": [
          "50",
          "100",
          "150",
          "200",
          "250",
          "300"
         ],
         "xaxis": "x",
         "y": [
          2.1693372913533344,
          8.329116029666631,
          16.431978911046567,
          26.323938805279877,
          41.61715117393658,
          66.18358792896663
         ],
         "yaxis": "y"
        },
        {
         "hovertemplate": "Area Conf.=200<br>Category=Construction<br>facet_col=Path to Source<br>Number of Nodes=%{x}<br>Energy (J)=%{y}<extra></extra>",
         "legendgroup": "(2), Construction",
         "line": {
          "color": "#EF553B",
          "dash": "4px"
         },
         "marker": {
          "symbol": "circle"
         },
         "mode": "lines",
         "name": "(2), Construction",
         "orientation": "v",
         "showlegend": false,
         "type": "scatter",
         "x": [
          "50",
          "100",
          "150",
          "200",
          "250",
          "300"
         ],
         "xaxis": "x2",
         "y": [
          2.2988365505433372,
          6.49689093808566,
          14.921893629620582,
          23.139393509979218,
          36.949318172182664,
          56.4844951758699
         ],
         "yaxis": "y2"
        },
        {
         "hovertemplate": "Area Conf.=200<br>Category=Construction<br>facet_col=Ping to Source<br>Number of Nodes=%{x}<br>Energy (J)=%{y}<extra></extra>",
         "legendgroup": "(2), Construction",
         "line": {
          "color": "#EF553B",
          "dash": "4px"
         },
         "marker": {
          "symbol": "circle"
         },
         "mode": "lines",
         "name": "(2), Construction",
         "orientation": "v",
         "showlegend": false,
         "type": "scatter",
         "x": [
          "50",
          "100",
          "150",
          "200",
          "250",
          "300"
         ],
         "xaxis": "x3",
         "y": [
          2.06385115157667,
          6.480543392226618,
          12.60743856782989,
          22.41049550052325,
          32.49991744113991,
          48.0360058547366
         ],
         "yaxis": "y3"
        },
        {
         "hovertemplate": "Area Conf.=200<br>Category=Data<br>facet_col=Mutex<br>Number of Nodes=%{x}<br>Energy (J)=%{y}<extra></extra>",
         "legendgroup": "(2), Data",
         "line": {
          "color": "#EF553B",
          "dash": "solid"
         },
         "marker": {
          "symbol": "circle"
         },
         "mode": "lines",
         "name": "(2), Data",
         "orientation": "v",
         "showlegend": true,
         "type": "scatter",
         "x": [
          "50",
          "100",
          "150",
          "200",
          "250",
          "300"
         ],
         "xaxis": "x",
         "y": [
          28.568830465266668,
          47.983881262300045,
          61.57565371153341,
          81.41889855846672,
          100.36037446843332,
          117.16156432839995
         ],
         "yaxis": "y"
        },
        {
         "hovertemplate": "Area Conf.=200<br>Category=Data<br>facet_col=Path to Source<br>Number of Nodes=%{x}<br>Energy (J)=%{y}<extra></extra>",
         "legendgroup": "(2), Data",
         "line": {
          "color": "#EF553B",
          "dash": "solid"
         },
         "marker": {
          "symbol": "circle"
         },
         "mode": "lines",
         "name": "(2), Data",
         "orientation": "v",
         "showlegend": false,
         "type": "scatter",
         "x": [
          "50",
          "100",
          "150",
          "200",
          "250",
          "300"
         ],
         "xaxis": "x2",
         "y": [
          28.690009708066665,
          52.046033060571496,
          70.01848601893113,
          100.88925170220695,
          102.09225419124137,
          117.67907438666663
         ],
         "yaxis": "y2"
        },
        {
         "hovertemplate": "Area Conf.=200<br>Category=Data<br>facet_col=Ping to Source<br>Number of Nodes=%{x}<br>Energy (J)=%{y}<extra></extra>",
         "legendgroup": "(2), Data",
         "line": {
          "color": "#EF553B",
          "dash": "solid"
         },
         "marker": {
          "symbol": "circle"
         },
         "mode": "lines",
         "name": "(2), Data",
         "orientation": "v",
         "showlegend": false,
         "type": "scatter",
         "x": [
          "50",
          "100",
          "150",
          "200",
          "250",
          "300"
         ],
         "xaxis": "x3",
         "y": [
          27.760266321000003,
          52.46923142166673,
          67.24657462466676,
          92.38099433513337,
          106.40799216286663,
          119.21384171739996
         ],
         "yaxis": "y3"
        },
        {
         "hovertemplate": "Area Conf.=300<br>Category=Construction<br>facet_col=Mutex<br>Number of Nodes=%{x}<br>Energy (J)=%{y}<extra></extra>",
         "legendgroup": "(3), Construction",
         "line": {
          "color": "#00cc96",
          "dash": "4px"
         },
         "marker": {
          "symbol": "circle"
         },
         "mode": "lines",
         "name": "(3), Construction",
         "orientation": "v",
         "showlegend": true,
         "type": "scatter",
         "x": [
          "50",
          "100",
          "150",
          "200",
          "250",
          "300"
         ],
         "xaxis": "x",
         "y": [
          1.8475450211035696,
          6.75783612302856,
          13.922424383675828,
          22.93119660150342,
          33.42544436499991,
          46.198502913799985
         ],
         "yaxis": "y"
        },
        {
         "hovertemplate": "Area Conf.=300<br>Category=Construction<br>facet_col=Path to Source<br>Number of Nodes=%{x}<br>Energy (J)=%{y}<extra></extra>",
         "legendgroup": "(3), Construction",
         "line": {
          "color": "#00cc96",
          "dash": "4px"
         },
         "marker": {
          "symbol": "circle"
         },
         "mode": "lines",
         "name": "(3), Construction",
         "orientation": "v",
         "showlegend": false,
         "type": "scatter",
         "x": [
          "50",
          "100",
          "150",
          "200",
          "250",
          "300"
         ],
         "xaxis": "x2",
         "y": [
          1.6238647199071392,
          5.104953543799986,
          10.768594404712992,
          18.16243095431476,
          26.511471730784557,
          36.78811189150405
         ],
         "yaxis": "y2"
        },
        {
         "hovertemplate": "Area Conf.=300<br>Category=Construction<br>facet_col=Ping to Source<br>Number of Nodes=%{x}<br>Energy (J)=%{y}<extra></extra>",
         "legendgroup": "(3), Construction",
         "line": {
          "color": "#00cc96",
          "dash": "4px"
         },
         "marker": {
          "symbol": "circle"
         },
         "mode": "lines",
         "name": "(3), Construction",
         "orientation": "v",
         "showlegend": false,
         "type": "scatter",
         "x": [
          "50",
          "100",
          "150",
          "200",
          "250",
          "300"
         ],
         "xaxis": "x3",
         "y": [
          2.547760375630001,
          4.465555824026647,
          9.627424966846606,
          15.34346053222326,
          22.027996730416557,
          32.56180150062989
         ],
         "yaxis": "y3"
        },
        {
         "hovertemplate": "Area Conf.=300<br>Category=Data<br>facet_col=Mutex<br>Number of Nodes=%{x}<br>Energy (J)=%{y}<extra></extra>",
         "legendgroup": "(3), Data",
         "line": {
          "color": "#00cc96",
          "dash": "solid"
         },
         "marker": {
          "symbol": "circle"
         },
         "mode": "lines",
         "name": "(3), Data",
         "orientation": "v",
         "showlegend": true,
         "type": "scatter",
         "x": [
          "50",
          "100",
          "150",
          "200",
          "250",
          "300"
         ],
         "xaxis": "x",
         "y": [
          24.966028477607146,
          52.67049689917859,
          59.10080490889659,
          66.72841939851727,
          81.36798445082765,
          115.28445418714288
         ],
         "yaxis": "y"
        },
        {
         "hovertemplate": "Area Conf.=300<br>Category=Data<br>facet_col=Path to Source<br>Number of Nodes=%{x}<br>Energy (J)=%{y}<extra></extra>",
         "legendgroup": "(3), Data",
         "line": {
          "color": "#00cc96",
          "dash": "solid"
         },
         "marker": {
          "symbol": "circle"
         },
         "mode": "lines",
         "name": "(3), Data",
         "orientation": "v",
         "showlegend": false,
         "type": "scatter",
         "x": [
          "50",
          "100",
          "150",
          "200",
          "250",
          "300"
         ],
         "xaxis": "x2",
         "y": [
          25.721475987250006,
          44.522403482592615,
          66.34711522330439,
          67.75905296051857,
          113.91198023480773,
          97.4492312985834
         ],
         "yaxis": "y2"
        },
        {
         "hovertemplate": "Area Conf.=300<br>Category=Data<br>facet_col=Ping to Source<br>Number of Nodes=%{x}<br>Energy (J)=%{y}<extra></extra>",
         "legendgroup": "(3), Data",
         "line": {
          "color": "#00cc96",
          "dash": "solid"
         },
         "marker": {
          "symbol": "circle"
         },
         "mode": "lines",
         "name": "(3), Data",
         "orientation": "v",
         "showlegend": false,
         "type": "scatter",
         "x": [
          "50",
          "100",
          "150",
          "200",
          "250",
          "300"
         ],
         "xaxis": "x3",
         "y": [
          24.248682971466668,
          45.19390594840002,
          59.4047950757334,
          69.71516282256673,
          93.44057298273339,
          96.34535112796672
         ],
         "yaxis": "y3"
        },
        {
         "hovertemplate": "Area Conf.=400<br>Category=Construction<br>facet_col=Mutex<br>Number of Nodes=%{x}<br>Energy (J)=%{y}<extra></extra>",
         "legendgroup": "(4), Construction",
         "line": {
          "color": "#ab63fa",
          "dash": "4px"
         },
         "marker": {
          "symbol": "circle"
         },
         "mode": "lines",
         "name": "(4), Construction",
         "orientation": "v",
         "showlegend": true,
         "type": "scatter",
         "x": [
          "50",
          "100",
          "150",
          "200",
          "250",
          "300"
         ],
         "xaxis": "x",
         "y": [
          1.7389766959439994,
          4.918331030331814,
          10.466949029866653,
          17.235232613745442,
          27.724923321466672,
          34.618362054481814
         ],
         "yaxis": "y"
        },
        {
         "hovertemplate": "Area Conf.=400<br>Category=Construction<br>facet_col=Path to Source<br>Number of Nodes=%{x}<br>Energy (J)=%{y}<extra></extra>",
         "legendgroup": "(4), Construction",
         "line": {
          "color": "#ab63fa",
          "dash": "4px"
         },
         "marker": {
          "symbol": "circle"
         },
         "mode": "lines",
         "name": "(4), Construction",
         "orientation": "v",
         "showlegend": false,
         "type": "scatter",
         "x": [
          "50",
          "100",
          "150",
          "200",
          "250",
          "300"
         ],
         "xaxis": "x2",
         "y": [
          1.2779679985962977,
          3.6271048056074027,
          6.875899465055989,
          11.755308023612999,
          18.191177493091296,
          25.210415352892234
         ],
         "yaxis": "y2"
        },
        {
         "hovertemplate": "Area Conf.=400<br>Category=Construction<br>facet_col=Ping to Source<br>Number of Nodes=%{x}<br>Energy (J)=%{y}<extra></extra>",
         "legendgroup": "(4), Construction",
         "line": {
          "color": "#ab63fa",
          "dash": "4px"
         },
         "marker": {
          "symbol": "circle"
         },
         "mode": "lines",
         "name": "(4), Construction",
         "orientation": "v",
         "showlegend": false,
         "type": "scatter",
         "x": [
          "50",
          "100",
          "150",
          "200",
          "250",
          "300"
         ],
         "xaxis": "x3",
         "y": [
          1.2851763248366663,
          3.1317998900299933,
          6.828696123919988,
          11.16294320982663,
          15.873735526393274,
          22.489026056379924
         ],
         "yaxis": "y3"
        },
        {
         "hovertemplate": "Area Conf.=400<br>Category=Data<br>facet_col=Mutex<br>Number of Nodes=%{x}<br>Energy (J)=%{y}<extra></extra>",
         "legendgroup": "(4), Data",
         "line": {
          "color": "#ab63fa",
          "dash": "solid"
         },
         "marker": {
          "symbol": "circle"
         },
         "mode": "lines",
         "name": "(4), Data",
         "orientation": "v",
         "showlegend": true,
         "type": "scatter",
         "x": [
          "50",
          "100",
          "150",
          "200",
          "250",
          "300"
         ],
         "xaxis": "x",
         "y": [
          24.380250021520002,
          36.44872803463637,
          57.483705405857165,
          54.48529195050002,
          73.09703372399997,
          74.3996276657273
         ],
         "yaxis": "y"
        },
        {
         "hovertemplate": "Area Conf.=400<br>Category=Data<br>facet_col=Path to Source<br>Number of Nodes=%{x}<br>Energy (J)=%{y}<extra></extra>",
         "legendgroup": "(4), Data",
         "line": {
          "color": "#ab63fa",
          "dash": "solid"
         },
         "marker": {
          "symbol": "circle"
         },
         "mode": "lines",
         "name": "(4), Data",
         "orientation": "v",
         "showlegend": false,
         "type": "scatter",
         "x": [
          "50",
          "100",
          "150",
          "200",
          "250",
          "300"
         ],
         "xaxis": "x2",
         "y": [
          24.055067238703707,
          38.74547953337038,
          40.77559911004002,
          58.132575040695684,
          63.8880215438261,
          72.34769316550006
         ],
         "yaxis": "y2"
        },
        {
         "hovertemplate": "Area Conf.=400<br>Category=Data<br>facet_col=Ping to Source<br>Number of Nodes=%{x}<br>Energy (J)=%{y}<extra></extra>",
         "legendgroup": "(4), Data",
         "line": {
          "color": "#ab63fa",
          "dash": "solid"
         },
         "marker": {
          "symbol": "circle"
         },
         "mode": "lines",
         "name": "(4), Data",
         "orientation": "v",
         "showlegend": false,
         "type": "scatter",
         "x": [
          "50",
          "100",
          "150",
          "200",
          "250",
          "300"
         ],
         "xaxis": "x3",
         "y": [
          21.460510329533335,
          36.51118005136667,
          42.70980112693334,
          54.52677474723337,
          63.333623693466706,
          76.43795258803338
         ],
         "yaxis": "y3"
        },
        {
         "hovertemplate": "Area Conf.=500<br>Category=Construction<br>facet_col=Mutex<br>Number of Nodes=%{x}<br>Energy (J)=%{y}<extra></extra>",
         "legendgroup": "(5), Construction",
         "line": {
          "color": "#FFA15A",
          "dash": "4px"
         },
         "marker": {
          "symbol": "circle"
         },
         "mode": "lines",
         "name": "(5), Construction",
         "orientation": "v",
         "showlegend": true,
         "type": "scatter",
         "x": [
          "50",
          "100",
          "150",
          "200",
          "250",
          "300"
         ],
         "xaxis": "x",
         "y": [
          2.0402473945642807,
          4.852676251576463,
          8.91559663944,
          12.445498688116666,
          19.492833341474988,
          24.458462116500016
         ],
         "yaxis": "y"
        },
        {
         "hovertemplate": "Area Conf.=500<br>Category=Construction<br>facet_col=Path to Source<br>Number of Nodes=%{x}<br>Energy (J)=%{y}<extra></extra>",
         "legendgroup": "(5), Construction",
         "line": {
          "color": "#FFA15A",
          "dash": "4px"
         },
         "marker": {
          "symbol": "circle"
         },
         "mode": "lines",
         "name": "(5), Construction",
         "orientation": "v",
         "showlegend": false,
         "type": "scatter",
         "x": [
          "50",
          "100",
          "150",
          "200",
          "250",
          "300"
         ],
         "xaxis": "x2",
         "y": [
          0.99461601440714,
          2.8851609245520002,
          5.370442668603848,
          8.506119402249968,
          13.399715922439977,
          18.58858498107305
         ],
         "yaxis": "y2"
        },
        {
         "hovertemplate": "Area Conf.=500<br>Category=Construction<br>facet_col=Ping to Source<br>Number of Nodes=%{x}<br>Energy (J)=%{y}<extra></extra>",
         "legendgroup": "(5), Construction",
         "line": {
          "color": "#FFA15A",
          "dash": "4px"
         },
         "marker": {
          "symbol": "circle"
         },
         "mode": "lines",
         "name": "(5), Construction",
         "orientation": "v",
         "showlegend": false,
         "type": "scatter",
         "x": [
          "50",
          "100",
          "150",
          "200",
          "250",
          "300"
         ],
         "xaxis": "x3",
         "y": [
          1.150302423124998,
          2.7403540105533284,
          5.546148412426662,
          8.461440873863323,
          12.328983548313753,
          20.12117204864658
         ],
         "yaxis": "y3"
        },
        {
         "hovertemplate": "Area Conf.=500<br>Category=Data<br>facet_col=Mutex<br>Number of Nodes=%{x}<br>Energy (J)=%{y}<extra></extra>",
         "legendgroup": "(5), Data",
         "line": {
          "color": "#FFA15A",
          "dash": "solid"
         },
         "marker": {
          "symbol": "circle"
         },
         "mode": "lines",
         "name": "(5), Data",
         "orientation": "v",
         "showlegend": true,
         "type": "scatter",
         "x": [
          "50",
          "100",
          "150",
          "200",
          "250",
          "300"
         ],
         "xaxis": "x",
         "y": [
          18.71206575107143,
          36.62147613229413,
          38.80593084280001,
          40.59870915741667,
          73.11329089075002,
          73.08060443549999
         ],
         "yaxis": "y"
        },
        {
         "hovertemplate": "Area Conf.=500<br>Category=Data<br>facet_col=Path to Source<br>Number of Nodes=%{x}<br>Energy (J)=%{y}<extra></extra>",
         "legendgroup": "(5), Data",
         "line": {
          "color": "#FFA15A",
          "dash": "solid"
         },
         "marker": {
          "symbol": "circle"
         },
         "mode": "lines",
         "name": "(5), Data",
         "orientation": "v",
         "showlegend": false,
         "type": "scatter",
         "x": [
          "50",
          "100",
          "150",
          "200",
          "250",
          "300"
         ],
         "xaxis": "x2",
         "y": [
          20.481872956785715,
          36.129033293720006,
          37.841387790653854,
          46.9984310069231,
          56.58272120308003,
          62.61259104703849
         ],
         "yaxis": "y2"
        },
        {
         "hovertemplate": "Area Conf.=500<br>Category=Data<br>facet_col=Ping to Source<br>Number of Nodes=%{x}<br>Energy (J)=%{y}<extra></extra>",
         "legendgroup": "(5), Data",
         "line": {
          "color": "#FFA15A",
          "dash": "solid"
         },
         "marker": {
          "symbol": "circle"
         },
         "mode": "lines",
         "name": "(5), Data",
         "orientation": "v",
         "showlegend": false,
         "type": "scatter",
         "x": [
          "50",
          "100",
          "150",
          "200",
          "250",
          "300"
         ],
         "xaxis": "x3",
         "y": [
          20.411790270928574,
          31.376115926400004,
          41.555871816733344,
          44.20481104263334,
          56.00215229713796,
          64.68758002800006
         ],
         "yaxis": "y3"
        }
       ],
       "layout": {
        "annotations": [
         {
          "font": {},
          "showarrow": false,
          "text": "Mutex",
          "x": 0.15999999999999998,
          "xanchor": "center",
          "xref": "paper",
          "y": 1,
          "yanchor": "bottom",
          "yref": "paper"
         },
         {
          "font": {},
          "showarrow": false,
          "text": "Path-to-Source",
          "x": 0.49999999999999994,
          "xanchor": "center",
          "xref": "paper",
          "y": 1,
          "yanchor": "bottom",
          "yref": "paper"
         },
         {
          "font": {},
          "showarrow": false,
          "text": "Ping-to-Source",
          "x": 0.8399999999999999,
          "xanchor": "center",
          "xref": "paper",
          "y": 1,
          "yanchor": "bottom",
          "yref": "paper"
         }
        ],
        "legend": {
         "title": {
          "text": "Area Conf., Category"
         },
         "tracegroupgap": 0
        },
        "margin": {
         "t": 60
        },
        "template": {
         "data": {
          "bar": [
           {
            "error_x": {
             "color": "#2a3f5f"
            },
            "error_y": {
             "color": "#2a3f5f"
            },
            "marker": {
             "line": {
              "color": "#E5ECF6",
              "width": 0.5
             },
             "pattern": {
              "fillmode": "overlay",
              "size": 10,
              "solidity": 0.2
             }
            },
            "type": "bar"
           }
          ],
          "barpolar": [
           {
            "marker": {
             "line": {
              "color": "#E5ECF6",
              "width": 0.5
             },
             "pattern": {
              "fillmode": "overlay",
              "size": 10,
              "solidity": 0.2
             }
            },
            "type": "barpolar"
           }
          ],
          "carpet": [
           {
            "aaxis": {
             "endlinecolor": "#2a3f5f",
             "gridcolor": "white",
             "linecolor": "white",
             "minorgridcolor": "white",
             "startlinecolor": "#2a3f5f"
            },
            "baxis": {
             "endlinecolor": "#2a3f5f",
             "gridcolor": "white",
             "linecolor": "white",
             "minorgridcolor": "white",
             "startlinecolor": "#2a3f5f"
            },
            "type": "carpet"
           }
          ],
          "choropleth": [
           {
            "colorbar": {
             "outlinewidth": 0,
             "ticks": ""
            },
            "type": "choropleth"
           }
          ],
          "contour": [
           {
            "colorbar": {
             "outlinewidth": 0,
             "ticks": ""
            },
            "colorscale": [
             [
              0,
              "#0d0887"
             ],
             [
              0.1111111111111111,
              "#46039f"
             ],
             [
              0.2222222222222222,
              "#7201a8"
             ],
             [
              0.3333333333333333,
              "#9c179e"
             ],
             [
              0.4444444444444444,
              "#bd3786"
             ],
             [
              0.5555555555555556,
              "#d8576b"
             ],
             [
              0.6666666666666666,
              "#ed7953"
             ],
             [
              0.7777777777777778,
              "#fb9f3a"
             ],
             [
              0.8888888888888888,
              "#fdca26"
             ],
             [
              1,
              "#f0f921"
             ]
            ],
            "type": "contour"
           }
          ],
          "contourcarpet": [
           {
            "colorbar": {
             "outlinewidth": 0,
             "ticks": ""
            },
            "type": "contourcarpet"
           }
          ],
          "heatmap": [
           {
            "colorbar": {
             "outlinewidth": 0,
             "ticks": ""
            },
            "colorscale": [
             [
              0,
              "#0d0887"
             ],
             [
              0.1111111111111111,
              "#46039f"
             ],
             [
              0.2222222222222222,
              "#7201a8"
             ],
             [
              0.3333333333333333,
              "#9c179e"
             ],
             [
              0.4444444444444444,
              "#bd3786"
             ],
             [
              0.5555555555555556,
              "#d8576b"
             ],
             [
              0.6666666666666666,
              "#ed7953"
             ],
             [
              0.7777777777777778,
              "#fb9f3a"
             ],
             [
              0.8888888888888888,
              "#fdca26"
             ],
             [
              1,
              "#f0f921"
             ]
            ],
            "type": "heatmap"
           }
          ],
          "heatmapgl": [
           {
            "colorbar": {
             "outlinewidth": 0,
             "ticks": ""
            },
            "colorscale": [
             [
              0,
              "#0d0887"
             ],
             [
              0.1111111111111111,
              "#46039f"
             ],
             [
              0.2222222222222222,
              "#7201a8"
             ],
             [
              0.3333333333333333,
              "#9c179e"
             ],
             [
              0.4444444444444444,
              "#bd3786"
             ],
             [
              0.5555555555555556,
              "#d8576b"
             ],
             [
              0.6666666666666666,
              "#ed7953"
             ],
             [
              0.7777777777777778,
              "#fb9f3a"
             ],
             [
              0.8888888888888888,
              "#fdca26"
             ],
             [
              1,
              "#f0f921"
             ]
            ],
            "type": "heatmapgl"
           }
          ],
          "histogram": [
           {
            "marker": {
             "pattern": {
              "fillmode": "overlay",
              "size": 10,
              "solidity": 0.2
             }
            },
            "type": "histogram"
           }
          ],
          "histogram2d": [
           {
            "colorbar": {
             "outlinewidth": 0,
             "ticks": ""
            },
            "colorscale": [
             [
              0,
              "#0d0887"
             ],
             [
              0.1111111111111111,
              "#46039f"
             ],
             [
              0.2222222222222222,
              "#7201a8"
             ],
             [
              0.3333333333333333,
              "#9c179e"
             ],
             [
              0.4444444444444444,
              "#bd3786"
             ],
             [
              0.5555555555555556,
              "#d8576b"
             ],
             [
              0.6666666666666666,
              "#ed7953"
             ],
             [
              0.7777777777777778,
              "#fb9f3a"
             ],
             [
              0.8888888888888888,
              "#fdca26"
             ],
             [
              1,
              "#f0f921"
             ]
            ],
            "type": "histogram2d"
           }
          ],
          "histogram2dcontour": [
           {
            "colorbar": {
             "outlinewidth": 0,
             "ticks": ""
            },
            "colorscale": [
             [
              0,
              "#0d0887"
             ],
             [
              0.1111111111111111,
              "#46039f"
             ],
             [
              0.2222222222222222,
              "#7201a8"
             ],
             [
              0.3333333333333333,
              "#9c179e"
             ],
             [
              0.4444444444444444,
              "#bd3786"
             ],
             [
              0.5555555555555556,
              "#d8576b"
             ],
             [
              0.6666666666666666,
              "#ed7953"
             ],
             [
              0.7777777777777778,
              "#fb9f3a"
             ],
             [
              0.8888888888888888,
              "#fdca26"
             ],
             [
              1,
              "#f0f921"
             ]
            ],
            "type": "histogram2dcontour"
           }
          ],
          "mesh3d": [
           {
            "colorbar": {
             "outlinewidth": 0,
             "ticks": ""
            },
            "type": "mesh3d"
           }
          ],
          "parcoords": [
           {
            "line": {
             "colorbar": {
              "outlinewidth": 0,
              "ticks": ""
             }
            },
            "type": "parcoords"
           }
          ],
          "pie": [
           {
            "automargin": true,
            "type": "pie"
           }
          ],
          "scatter": [
           {
            "fillpattern": {
             "fillmode": "overlay",
             "size": 10,
             "solidity": 0.2
            },
            "type": "scatter"
           }
          ],
          "scatter3d": [
           {
            "line": {
             "colorbar": {
              "outlinewidth": 0,
              "ticks": ""
             }
            },
            "marker": {
             "colorbar": {
              "outlinewidth": 0,
              "ticks": ""
             }
            },
            "type": "scatter3d"
           }
          ],
          "scattercarpet": [
           {
            "marker": {
             "colorbar": {
              "outlinewidth": 0,
              "ticks": ""
             }
            },
            "type": "scattercarpet"
           }
          ],
          "scattergeo": [
           {
            "marker": {
             "colorbar": {
              "outlinewidth": 0,
              "ticks": ""
             }
            },
            "type": "scattergeo"
           }
          ],
          "scattergl": [
           {
            "marker": {
             "colorbar": {
              "outlinewidth": 0,
              "ticks": ""
             }
            },
            "type": "scattergl"
           }
          ],
          "scattermapbox": [
           {
            "marker": {
             "colorbar": {
              "outlinewidth": 0,
              "ticks": ""
             }
            },
            "type": "scattermapbox"
           }
          ],
          "scatterpolar": [
           {
            "marker": {
             "colorbar": {
              "outlinewidth": 0,
              "ticks": ""
             }
            },
            "type": "scatterpolar"
           }
          ],
          "scatterpolargl": [
           {
            "marker": {
             "colorbar": {
              "outlinewidth": 0,
              "ticks": ""
             }
            },
            "type": "scatterpolargl"
           }
          ],
          "scatterternary": [
           {
            "marker": {
             "colorbar": {
              "outlinewidth": 0,
              "ticks": ""
             }
            },
            "type": "scatterternary"
           }
          ],
          "surface": [
           {
            "colorbar": {
             "outlinewidth": 0,
             "ticks": ""
            },
            "colorscale": [
             [
              0,
              "#0d0887"
             ],
             [
              0.1111111111111111,
              "#46039f"
             ],
             [
              0.2222222222222222,
              "#7201a8"
             ],
             [
              0.3333333333333333,
              "#9c179e"
             ],
             [
              0.4444444444444444,
              "#bd3786"
             ],
             [
              0.5555555555555556,
              "#d8576b"
             ],
             [
              0.6666666666666666,
              "#ed7953"
             ],
             [
              0.7777777777777778,
              "#fb9f3a"
             ],
             [
              0.8888888888888888,
              "#fdca26"
             ],
             [
              1,
              "#f0f921"
             ]
            ],
            "type": "surface"
           }
          ],
          "table": [
           {
            "cells": {
             "fill": {
              "color": "#EBF0F8"
             },
             "line": {
              "color": "white"
             }
            },
            "header": {
             "fill": {
              "color": "#C8D4E3"
             },
             "line": {
              "color": "white"
             }
            },
            "type": "table"
           }
          ]
         },
         "layout": {
          "annotationdefaults": {
           "arrowcolor": "#2a3f5f",
           "arrowhead": 0,
           "arrowwidth": 1
          },
          "autotypenumbers": "strict",
          "coloraxis": {
           "colorbar": {
            "outlinewidth": 0,
            "ticks": ""
           }
          },
          "colorscale": {
           "diverging": [
            [
             0,
             "#8e0152"
            ],
            [
             0.1,
             "#c51b7d"
            ],
            [
             0.2,
             "#de77ae"
            ],
            [
             0.3,
             "#f1b6da"
            ],
            [
             0.4,
             "#fde0ef"
            ],
            [
             0.5,
             "#f7f7f7"
            ],
            [
             0.6,
             "#e6f5d0"
            ],
            [
             0.7,
             "#b8e186"
            ],
            [
             0.8,
             "#7fbc41"
            ],
            [
             0.9,
             "#4d9221"
            ],
            [
             1,
             "#276419"
            ]
           ],
           "sequential": [
            [
             0,
             "#0d0887"
            ],
            [
             0.1111111111111111,
             "#46039f"
            ],
            [
             0.2222222222222222,
             "#7201a8"
            ],
            [
             0.3333333333333333,
             "#9c179e"
            ],
            [
             0.4444444444444444,
             "#bd3786"
            ],
            [
             0.5555555555555556,
             "#d8576b"
            ],
            [
             0.6666666666666666,
             "#ed7953"
            ],
            [
             0.7777777777777778,
             "#fb9f3a"
            ],
            [
             0.8888888888888888,
             "#fdca26"
            ],
            [
             1,
             "#f0f921"
            ]
           ],
           "sequentialminus": [
            [
             0,
             "#0d0887"
            ],
            [
             0.1111111111111111,
             "#46039f"
            ],
            [
             0.2222222222222222,
             "#7201a8"
            ],
            [
             0.3333333333333333,
             "#9c179e"
            ],
            [
             0.4444444444444444,
             "#bd3786"
            ],
            [
             0.5555555555555556,
             "#d8576b"
            ],
            [
             0.6666666666666666,
             "#ed7953"
            ],
            [
             0.7777777777777778,
             "#fb9f3a"
            ],
            [
             0.8888888888888888,
             "#fdca26"
            ],
            [
             1,
             "#f0f921"
            ]
           ]
          },
          "colorway": [
           "#636efa",
           "#EF553B",
           "#00cc96",
           "#ab63fa",
           "#FFA15A",
           "#19d3f3",
           "#FF6692",
           "#B6E880",
           "#FF97FF",
           "#FECB52"
          ],
          "font": {
           "color": "#2a3f5f"
          },
          "geo": {
           "bgcolor": "white",
           "lakecolor": "white",
           "landcolor": "#E5ECF6",
           "showlakes": true,
           "showland": true,
           "subunitcolor": "white"
          },
          "hoverlabel": {
           "align": "left"
          },
          "hovermode": "closest",
          "mapbox": {
           "style": "light"
          },
          "paper_bgcolor": "white",
          "plot_bgcolor": "#E5ECF6",
          "polar": {
           "angularaxis": {
            "gridcolor": "white",
            "linecolor": "white",
            "ticks": ""
           },
           "bgcolor": "#E5ECF6",
           "radialaxis": {
            "gridcolor": "white",
            "linecolor": "white",
            "ticks": ""
           }
          },
          "scene": {
           "xaxis": {
            "backgroundcolor": "#E5ECF6",
            "gridcolor": "white",
            "gridwidth": 2,
            "linecolor": "white",
            "showbackground": true,
            "ticks": "",
            "zerolinecolor": "white"
           },
           "yaxis": {
            "backgroundcolor": "#E5ECF6",
            "gridcolor": "white",
            "gridwidth": 2,
            "linecolor": "white",
            "showbackground": true,
            "ticks": "",
            "zerolinecolor": "white"
           },
           "zaxis": {
            "backgroundcolor": "#E5ECF6",
            "gridcolor": "white",
            "gridwidth": 2,
            "linecolor": "white",
            "showbackground": true,
            "ticks": "",
            "zerolinecolor": "white"
           }
          },
          "shapedefaults": {
           "line": {
            "color": "#2a3f5f"
           }
          },
          "ternary": {
           "aaxis": {
            "gridcolor": "white",
            "linecolor": "white",
            "ticks": ""
           },
           "baxis": {
            "gridcolor": "white",
            "linecolor": "white",
            "ticks": ""
           },
           "bgcolor": "#E5ECF6",
           "caxis": {
            "gridcolor": "white",
            "linecolor": "white",
            "ticks": ""
           }
          },
          "title": {
           "x": 0.05
          },
          "xaxis": {
           "automargin": true,
           "gridcolor": "white",
           "linecolor": "white",
           "ticks": "",
           "title": {
            "standoff": 15
           },
           "zerolinecolor": "white",
           "zerolinewidth": 2
          },
          "yaxis": {
           "automargin": true,
           "gridcolor": "white",
           "linecolor": "white",
           "ticks": "",
           "title": {
            "standoff": 15
           },
           "zerolinecolor": "white",
           "zerolinewidth": 2
          }
         }
        },
        "xaxis": {
         "anchor": "y",
         "categoryarray": [
          "50",
          "100",
          "150",
          "200",
          "250",
          "300"
         ],
         "categoryorder": "array",
         "domain": [
          0,
          0.31999999999999995
         ],
         "tickangle": 90,
         "title": {
          "text": "Number of Nodes"
         }
        },
        "xaxis2": {
         "anchor": "y2",
         "categoryarray": [
          "50",
          "100",
          "150",
          "200",
          "250",
          "300"
         ],
         "categoryorder": "array",
         "domain": [
          0.33999999999999997,
          0.6599999999999999
         ],
         "matches": "x",
         "tickangle": 90,
         "title": {
          "text": "Number of Nodes"
         }
        },
        "xaxis3": {
         "anchor": "y3",
         "categoryarray": [
          "50",
          "100",
          "150",
          "200",
          "250",
          "300"
         ],
         "categoryorder": "array",
         "domain": [
          0.6799999999999999,
          0.9999999999999999
         ],
         "matches": "x",
         "tickangle": 90,
         "title": {
          "text": "Number of Nodes"
         }
        },
        "yaxis": {
         "anchor": "x",
         "domain": [
          0,
          1
         ],
         "title": {
          "text": "Energy (J)"
         }
        },
        "yaxis2": {
         "anchor": "x2",
         "domain": [
          0,
          1
         ],
         "matches": "y",
         "showticklabels": false
        },
        "yaxis3": {
         "anchor": "x3",
         "domain": [
          0,
          1
         ],
         "matches": "y",
         "showticklabels": false
        }
       }
      }
     },
     "metadata": {},
     "output_type": "display_data"
    }
   ],
   "source": [
    "groups = [\"Energy Overhead\", \"Energy ApplicationData\"]\n",
    "id_vars = [col for col in df if col not in groups]\n",
    "\n",
    "melted = pandas.melt(df[df[\"BTP\"] == True], id_vars=id_vars, var_name=\"Energy Type\", value_name=\"Energy\")\n",
    "melted[\"Energy Type\"].replace(\"Energy Overhead\", \"Construction\", inplace=True)\n",
    "melted[\"Energy Type\"].replace(\"Energy ApplicationData\", \"Data\", inplace=True)\n",
    "\n",
    "means = melted.groupby([\"Node Count\", \"Cycle Prevention\", \"Width\", \"Energy Type\"]).mean()\n",
    "\n",
    "fig = px.line(\n",
    "    means, \n",
    "    x=means.index.get_level_values(0).astype(str), \n",
    "    y=means[\"Energy\"],\n",
    "    facet_col=means.index.get_level_values(1),\n",
    "    color=means.index.get_level_values(2), \n",
    "    line_dash=means.index.get_level_values(3), \n",
    "    line_dash_sequence=[\"4px\", \"solid\"],\n",
    "    labels={\n",
    "        \"x\": \"Number of Nodes\",\n",
    "        \"Energy\": \"Energy (J)\",\n",
    "        \"color\": \"Area Conf.\",\n",
    "        \"line_dash\": \"Category\",\n",
    "    },\n",
    ")\n",
    "\n",
    "area_labels = {\n",
    "    '100, Construction':'(1), Construction',\n",
    "    '100, Data':'(1), Data',\n",
    "    '200, Construction':'(2), Construction',\n",
    "    '200, Data':'(2), Data',\n",
    "    '300, Construction':'(3), Construction',\n",
    "    '300, Data':'(3), Data',\n",
    "    '400, Construction':'(4), Construction',\n",
    "    '400, Data':'(4), Data',\n",
    "    '500, Construction':'(5), Construction',\n",
    "    '500, Data':'(5), Data',\n",
    "}\n",
    "\n",
    "fig.for_each_trace(lambda t: t.update(name = area_labels[t.name], legendgroup = area_labels[t.name], hovertemplate = t.hovertemplate.replace(t.name, area_labels[t.name])))\n",
    "\n",
    "fig.for_each_annotation(lambda a: a.update(text=a.text.split(\"=\")[1]))\n",
    "fig.for_each_annotation(lambda a: a.update(text=a.text.replace(\"Mutex\", \"Mutex\")))\n",
    "fig.for_each_annotation(lambda a: a.update(text=a.text.replace(\"Path to Source\", \"Path-to-Source\")))\n",
    "fig.for_each_annotation(lambda a: a.update(text=a.text.replace(\"Ping to Source\", \"Ping-to-Source\")))\n",
    "\n",
    "fig.update_xaxes(categoryorder='array', categoryarray= ['50','100','150','200', '250', '300'])\n",
    "fig.update_xaxes(tickangle=90)\n",
    "\n",
    "fig.write_image(\"energy_overhead.pdf\", width=1000, height=300)\n",
    "fig"
   ]
  },
  {
   "cell_type": "code",
   "execution_count": 26,
   "metadata": {},
   "outputs": [
    {
     "data": {
      "application/vnd.plotly.v1+json": {
       "config": {
        "plotlyServerURL": "https://plot.ly"
       },
       "data": [
        {
         "hovertemplate": "Area Conf.=(1)<br>CPM=Mutex<br>Number of Nodes=%{x}<br>Tree Depth=%{y}<extra></extra>",
         "legendgroup": "(1)",
         "line": {
          "color": "#636efa",
          "dash": "solid"
         },
         "marker": {
          "symbol": "circle"
         },
         "mode": "lines",
         "name": "(1)",
         "orientation": "v",
         "showlegend": true,
         "type": "scatter",
         "x": [
          50,
          100,
          150,
          200,
          250,
          300
         ],
         "xaxis": "x",
         "y": [
          5.133333333333334,
          3.1666666666666665,
          3,
          3.1333333333333333,
          3.033333333333333,
          2.8
         ],
         "yaxis": "y"
        },
        {
         "hovertemplate": "Area Conf.=(1)<br>CPM=Path to Source<br>Number of Nodes=%{x}<br>Tree Depth=%{y}<extra></extra>",
         "legendgroup": "(1)",
         "line": {
          "color": "#636efa",
          "dash": "solid"
         },
         "marker": {
          "symbol": "circle"
         },
         "mode": "lines",
         "name": "(1)",
         "orientation": "v",
         "showlegend": false,
         "type": "scatter",
         "x": [
          50,
          100,
          150,
          200,
          250,
          300
         ],
         "xaxis": "x2",
         "y": [
          5.3,
          3.6,
          3.9,
          3.966666666666667,
          4.266666666666667,
          4.758620689655173
         ],
         "yaxis": "y2"
        },
        {
         "hovertemplate": "Area Conf.=(1)<br>CPM=Ping to Source<br>Number of Nodes=%{x}<br>Tree Depth=%{y}<extra></extra>",
         "legendgroup": "(1)",
         "line": {
          "color": "#636efa",
          "dash": "solid"
         },
         "marker": {
          "symbol": "circle"
         },
         "mode": "lines",
         "name": "(1)",
         "orientation": "v",
         "showlegend": false,
         "type": "scatter",
         "x": [
          50,
          100,
          150,
          200,
          250,
          300
         ],
         "xaxis": "x3",
         "y": [
          5.533333333333333,
          3.3333333333333335,
          3.3666666666666667,
          3.4,
          3.2,
          3.2333333333333334
         ],
         "yaxis": "y3"
        },
        {
         "hovertemplate": "Area Conf.=(2)<br>CPM=Mutex<br>Number of Nodes=%{x}<br>Tree Depth=%{y}<extra></extra>",
         "legendgroup": "(2)",
         "line": {
          "color": "#EF553B",
          "dash": "solid"
         },
         "marker": {
          "symbol": "circle"
         },
         "mode": "lines",
         "name": "(2)",
         "orientation": "v",
         "showlegend": true,
         "type": "scatter",
         "x": [
          50,
          100,
          150,
          200,
          250,
          300
         ],
         "xaxis": "x",
         "y": [
          5.533333333333333,
          5.666666666666667,
          5.666666666666667,
          6.1,
          5.933333333333334,
          5.766666666666667
         ],
         "yaxis": "y"
        },
        {
         "hovertemplate": "Area Conf.=(2)<br>CPM=Path to Source<br>Number of Nodes=%{x}<br>Tree Depth=%{y}<extra></extra>",
         "legendgroup": "(2)",
         "line": {
          "color": "#EF553B",
          "dash": "solid"
         },
         "marker": {
          "symbol": "circle"
         },
         "mode": "lines",
         "name": "(2)",
         "orientation": "v",
         "showlegend": false,
         "type": "scatter",
         "x": [
          50,
          100,
          150,
          200,
          250,
          300
         ],
         "xaxis": "x2",
         "y": [
          6.733333333333333,
          6.571428571428571,
          7,
          7.586206896551724,
          7.586206896551724,
          7.366666666666666
         ],
         "yaxis": "y2"
        },
        {
         "hovertemplate": "Area Conf.=(2)<br>CPM=Ping to Source<br>Number of Nodes=%{x}<br>Tree Depth=%{y}<extra></extra>",
         "legendgroup": "(2)",
         "line": {
          "color": "#EF553B",
          "dash": "solid"
         },
         "marker": {
          "symbol": "circle"
         },
         "mode": "lines",
         "name": "(2)",
         "orientation": "v",
         "showlegend": false,
         "type": "scatter",
         "x": [
          50,
          100,
          150,
          200,
          250,
          300
         ],
         "xaxis": "x3",
         "y": [
          6.033333333333333,
          7.433333333333334,
          6.9,
          7.2,
          7.1,
          7.766666666666667
         ],
         "yaxis": "y3"
        },
        {
         "hovertemplate": "Area Conf.=(3)<br>CPM=Mutex<br>Number of Nodes=%{x}<br>Tree Depth=%{y}<extra></extra>",
         "legendgroup": "(3)",
         "line": {
          "color": "#00cc96",
          "dash": "solid"
         },
         "marker": {
          "symbol": "circle"
         },
         "mode": "lines",
         "name": "(3)",
         "orientation": "v",
         "showlegend": true,
         "type": "scatter",
         "x": [
          50,
          100,
          150,
          200,
          250,
          300
         ],
         "xaxis": "x",
         "y": [
          8.214285714285714,
          8.714285714285714,
          9.310344827586206,
          9.241379310344827,
          9.413793103448276,
          8.857142857142858
         ],
         "yaxis": "y"
        },
        {
         "hovertemplate": "Area Conf.=(3)<br>CPM=Path to Source<br>Number of Nodes=%{x}<br>Tree Depth=%{y}<extra></extra>",
         "legendgroup": "(3)",
         "line": {
          "color": "#00cc96",
          "dash": "solid"
         },
         "marker": {
          "symbol": "circle"
         },
         "mode": "lines",
         "name": "(3)",
         "orientation": "v",
         "showlegend": false,
         "type": "scatter",
         "x": [
          50,
          100,
          150,
          200,
          250,
          300
         ],
         "xaxis": "x2",
         "y": [
          9.464285714285714,
          9.962962962962964,
          10.478260869565217,
          11.703703703703704,
          11.923076923076923,
          13.25
         ],
         "yaxis": "y2"
        },
        {
         "hovertemplate": "Area Conf.=(3)<br>CPM=Ping to Source<br>Number of Nodes=%{x}<br>Tree Depth=%{y}<extra></extra>",
         "legendgroup": "(3)",
         "line": {
          "color": "#00cc96",
          "dash": "solid"
         },
         "marker": {
          "symbol": "circle"
         },
         "mode": "lines",
         "name": "(3)",
         "orientation": "v",
         "showlegend": false,
         "type": "scatter",
         "x": [
          50,
          100,
          150,
          200,
          250,
          300
         ],
         "xaxis": "x3",
         "y": [
          9.833333333333334,
          11.266666666666667,
          11.166666666666666,
          12.566666666666666,
          12.266666666666667,
          12.7
         ],
         "yaxis": "y3"
        },
        {
         "hovertemplate": "Area Conf.=(4)<br>CPM=Mutex<br>Number of Nodes=%{x}<br>Tree Depth=%{y}<extra></extra>",
         "legendgroup": "(4)",
         "line": {
          "color": "#ab63fa",
          "dash": "solid"
         },
         "marker": {
          "symbol": "circle"
         },
         "mode": "lines",
         "name": "(4)",
         "orientation": "v",
         "showlegend": true,
         "type": "scatter",
         "x": [
          50,
          100,
          150,
          200,
          250,
          300
         ],
         "xaxis": "x",
         "y": [
          10.32,
          12.409090909090908,
          11.666666666666666,
          11.681818181818182,
          14.333333333333334,
          11.227272727272727
         ],
         "yaxis": "y"
        },
        {
         "hovertemplate": "Area Conf.=(4)<br>CPM=Path to Source<br>Number of Nodes=%{x}<br>Tree Depth=%{y}<extra></extra>",
         "legendgroup": "(4)",
         "line": {
          "color": "#ab63fa",
          "dash": "solid"
         },
         "marker": {
          "symbol": "circle"
         },
         "mode": "lines",
         "name": "(4)",
         "orientation": "v",
         "showlegend": false,
         "type": "scatter",
         "x": [
          50,
          100,
          150,
          200,
          250,
          300
         ],
         "xaxis": "x2",
         "y": [
          11.074074074074074,
          13.407407407407407,
          14.52,
          16.391304347826086,
          18.695652173913043,
          16.884615384615383
         ],
         "yaxis": "y2"
        },
        {
         "hovertemplate": "Area Conf.=(4)<br>CPM=Ping to Source<br>Number of Nodes=%{x}<br>Tree Depth=%{y}<extra></extra>",
         "legendgroup": "(4)",
         "line": {
          "color": "#ab63fa",
          "dash": "solid"
         },
         "marker": {
          "symbol": "circle"
         },
         "mode": "lines",
         "name": "(4)",
         "orientation": "v",
         "showlegend": false,
         "type": "scatter",
         "x": [
          50,
          100,
          150,
          200,
          250,
          300
         ],
         "xaxis": "x3",
         "y": [
          11.633333333333333,
          14.066666666666666,
          16.733333333333334,
          16.566666666666666,
          18.1,
          15.933333333333334
         ],
         "yaxis": "y3"
        },
        {
         "hovertemplate": "Area Conf.=(5)<br>CPM=Mutex<br>Number of Nodes=%{x}<br>Tree Depth=%{y}<extra></extra>",
         "legendgroup": "(5)",
         "line": {
          "color": "#FFA15A",
          "dash": "solid"
         },
         "marker": {
          "symbol": "circle"
         },
         "mode": "lines",
         "name": "(5)",
         "orientation": "v",
         "showlegend": true,
         "type": "scatter",
         "x": [
          50,
          100,
          150,
          200,
          250,
          300
         ],
         "xaxis": "x",
         "y": [
          10.857142857142858,
          13.176470588235293,
          14,
          14.916666666666666,
          15.625,
          17.5
         ],
         "yaxis": "y"
        },
        {
         "hovertemplate": "Area Conf.=(5)<br>CPM=Path to Source<br>Number of Nodes=%{x}<br>Tree Depth=%{y}<extra></extra>",
         "legendgroup": "(5)",
         "line": {
          "color": "#FFA15A",
          "dash": "solid"
         },
         "marker": {
          "symbol": "circle"
         },
         "mode": "lines",
         "name": "(5)",
         "orientation": "v",
         "showlegend": false,
         "type": "scatter",
         "x": [
          50,
          100,
          150,
          200,
          250,
          300
         ],
         "xaxis": "x2",
         "y": [
          11.892857142857142,
          16.04,
          17.615384615384617,
          20.346153846153847,
          20.4,
          21.115384615384617
         ],
         "yaxis": "y2"
        },
        {
         "hovertemplate": "Area Conf.=(5)<br>CPM=Ping to Source<br>Number of Nodes=%{x}<br>Tree Depth=%{y}<extra></extra>",
         "legendgroup": "(5)",
         "line": {
          "color": "#FFA15A",
          "dash": "solid"
         },
         "marker": {
          "symbol": "circle"
         },
         "mode": "lines",
         "name": "(5)",
         "orientation": "v",
         "showlegend": false,
         "type": "scatter",
         "x": [
          50,
          100,
          150,
          200,
          250,
          300
         ],
         "xaxis": "x3",
         "y": [
          12.107142857142858,
          16.633333333333333,
          17.266666666666666,
          21.9,
          21.310344827586206,
          21.5
         ],
         "yaxis": "y3"
        }
       ],
       "layout": {
        "annotations": [
         {
          "font": {},
          "showarrow": false,
          "text": "Mutex",
          "x": 0.15999999999999998,
          "xanchor": "center",
          "xref": "paper",
          "y": 1,
          "yanchor": "bottom",
          "yref": "paper"
         },
         {
          "font": {},
          "showarrow": false,
          "text": "Path-to-Source",
          "x": 0.49999999999999994,
          "xanchor": "center",
          "xref": "paper",
          "y": 1,
          "yanchor": "bottom",
          "yref": "paper"
         },
         {
          "font": {},
          "showarrow": false,
          "text": "Ping-to-Source",
          "x": 0.8399999999999999,
          "xanchor": "center",
          "xref": "paper",
          "y": 1,
          "yanchor": "bottom",
          "yref": "paper"
         }
        ],
        "legend": {
         "title": {
          "text": "Area Conf."
         },
         "tracegroupgap": 0
        },
        "margin": {
         "t": 60
        },
        "template": {
         "data": {
          "bar": [
           {
            "error_x": {
             "color": "#2a3f5f"
            },
            "error_y": {
             "color": "#2a3f5f"
            },
            "marker": {
             "line": {
              "color": "#E5ECF6",
              "width": 0.5
             },
             "pattern": {
              "fillmode": "overlay",
              "size": 10,
              "solidity": 0.2
             }
            },
            "type": "bar"
           }
          ],
          "barpolar": [
           {
            "marker": {
             "line": {
              "color": "#E5ECF6",
              "width": 0.5
             },
             "pattern": {
              "fillmode": "overlay",
              "size": 10,
              "solidity": 0.2
             }
            },
            "type": "barpolar"
           }
          ],
          "carpet": [
           {
            "aaxis": {
             "endlinecolor": "#2a3f5f",
             "gridcolor": "white",
             "linecolor": "white",
             "minorgridcolor": "white",
             "startlinecolor": "#2a3f5f"
            },
            "baxis": {
             "endlinecolor": "#2a3f5f",
             "gridcolor": "white",
             "linecolor": "white",
             "minorgridcolor": "white",
             "startlinecolor": "#2a3f5f"
            },
            "type": "carpet"
           }
          ],
          "choropleth": [
           {
            "colorbar": {
             "outlinewidth": 0,
             "ticks": ""
            },
            "type": "choropleth"
           }
          ],
          "contour": [
           {
            "colorbar": {
             "outlinewidth": 0,
             "ticks": ""
            },
            "colorscale": [
             [
              0,
              "#0d0887"
             ],
             [
              0.1111111111111111,
              "#46039f"
             ],
             [
              0.2222222222222222,
              "#7201a8"
             ],
             [
              0.3333333333333333,
              "#9c179e"
             ],
             [
              0.4444444444444444,
              "#bd3786"
             ],
             [
              0.5555555555555556,
              "#d8576b"
             ],
             [
              0.6666666666666666,
              "#ed7953"
             ],
             [
              0.7777777777777778,
              "#fb9f3a"
             ],
             [
              0.8888888888888888,
              "#fdca26"
             ],
             [
              1,
              "#f0f921"
             ]
            ],
            "type": "contour"
           }
          ],
          "contourcarpet": [
           {
            "colorbar": {
             "outlinewidth": 0,
             "ticks": ""
            },
            "type": "contourcarpet"
           }
          ],
          "heatmap": [
           {
            "colorbar": {
             "outlinewidth": 0,
             "ticks": ""
            },
            "colorscale": [
             [
              0,
              "#0d0887"
             ],
             [
              0.1111111111111111,
              "#46039f"
             ],
             [
              0.2222222222222222,
              "#7201a8"
             ],
             [
              0.3333333333333333,
              "#9c179e"
             ],
             [
              0.4444444444444444,
              "#bd3786"
             ],
             [
              0.5555555555555556,
              "#d8576b"
             ],
             [
              0.6666666666666666,
              "#ed7953"
             ],
             [
              0.7777777777777778,
              "#fb9f3a"
             ],
             [
              0.8888888888888888,
              "#fdca26"
             ],
             [
              1,
              "#f0f921"
             ]
            ],
            "type": "heatmap"
           }
          ],
          "heatmapgl": [
           {
            "colorbar": {
             "outlinewidth": 0,
             "ticks": ""
            },
            "colorscale": [
             [
              0,
              "#0d0887"
             ],
             [
              0.1111111111111111,
              "#46039f"
             ],
             [
              0.2222222222222222,
              "#7201a8"
             ],
             [
              0.3333333333333333,
              "#9c179e"
             ],
             [
              0.4444444444444444,
              "#bd3786"
             ],
             [
              0.5555555555555556,
              "#d8576b"
             ],
             [
              0.6666666666666666,
              "#ed7953"
             ],
             [
              0.7777777777777778,
              "#fb9f3a"
             ],
             [
              0.8888888888888888,
              "#fdca26"
             ],
             [
              1,
              "#f0f921"
             ]
            ],
            "type": "heatmapgl"
           }
          ],
          "histogram": [
           {
            "marker": {
             "pattern": {
              "fillmode": "overlay",
              "size": 10,
              "solidity": 0.2
             }
            },
            "type": "histogram"
           }
          ],
          "histogram2d": [
           {
            "colorbar": {
             "outlinewidth": 0,
             "ticks": ""
            },
            "colorscale": [
             [
              0,
              "#0d0887"
             ],
             [
              0.1111111111111111,
              "#46039f"
             ],
             [
              0.2222222222222222,
              "#7201a8"
             ],
             [
              0.3333333333333333,
              "#9c179e"
             ],
             [
              0.4444444444444444,
              "#bd3786"
             ],
             [
              0.5555555555555556,
              "#d8576b"
             ],
             [
              0.6666666666666666,
              "#ed7953"
             ],
             [
              0.7777777777777778,
              "#fb9f3a"
             ],
             [
              0.8888888888888888,
              "#fdca26"
             ],
             [
              1,
              "#f0f921"
             ]
            ],
            "type": "histogram2d"
           }
          ],
          "histogram2dcontour": [
           {
            "colorbar": {
             "outlinewidth": 0,
             "ticks": ""
            },
            "colorscale": [
             [
              0,
              "#0d0887"
             ],
             [
              0.1111111111111111,
              "#46039f"
             ],
             [
              0.2222222222222222,
              "#7201a8"
             ],
             [
              0.3333333333333333,
              "#9c179e"
             ],
             [
              0.4444444444444444,
              "#bd3786"
             ],
             [
              0.5555555555555556,
              "#d8576b"
             ],
             [
              0.6666666666666666,
              "#ed7953"
             ],
             [
              0.7777777777777778,
              "#fb9f3a"
             ],
             [
              0.8888888888888888,
              "#fdca26"
             ],
             [
              1,
              "#f0f921"
             ]
            ],
            "type": "histogram2dcontour"
           }
          ],
          "mesh3d": [
           {
            "colorbar": {
             "outlinewidth": 0,
             "ticks": ""
            },
            "type": "mesh3d"
           }
          ],
          "parcoords": [
           {
            "line": {
             "colorbar": {
              "outlinewidth": 0,
              "ticks": ""
             }
            },
            "type": "parcoords"
           }
          ],
          "pie": [
           {
            "automargin": true,
            "type": "pie"
           }
          ],
          "scatter": [
           {
            "fillpattern": {
             "fillmode": "overlay",
             "size": 10,
             "solidity": 0.2
            },
            "type": "scatter"
           }
          ],
          "scatter3d": [
           {
            "line": {
             "colorbar": {
              "outlinewidth": 0,
              "ticks": ""
             }
            },
            "marker": {
             "colorbar": {
              "outlinewidth": 0,
              "ticks": ""
             }
            },
            "type": "scatter3d"
           }
          ],
          "scattercarpet": [
           {
            "marker": {
             "colorbar": {
              "outlinewidth": 0,
              "ticks": ""
             }
            },
            "type": "scattercarpet"
           }
          ],
          "scattergeo": [
           {
            "marker": {
             "colorbar": {
              "outlinewidth": 0,
              "ticks": ""
             }
            },
            "type": "scattergeo"
           }
          ],
          "scattergl": [
           {
            "marker": {
             "colorbar": {
              "outlinewidth": 0,
              "ticks": ""
             }
            },
            "type": "scattergl"
           }
          ],
          "scattermapbox": [
           {
            "marker": {
             "colorbar": {
              "outlinewidth": 0,
              "ticks": ""
             }
            },
            "type": "scattermapbox"
           }
          ],
          "scatterpolar": [
           {
            "marker": {
             "colorbar": {
              "outlinewidth": 0,
              "ticks": ""
             }
            },
            "type": "scatterpolar"
           }
          ],
          "scatterpolargl": [
           {
            "marker": {
             "colorbar": {
              "outlinewidth": 0,
              "ticks": ""
             }
            },
            "type": "scatterpolargl"
           }
          ],
          "scatterternary": [
           {
            "marker": {
             "colorbar": {
              "outlinewidth": 0,
              "ticks": ""
             }
            },
            "type": "scatterternary"
           }
          ],
          "surface": [
           {
            "colorbar": {
             "outlinewidth": 0,
             "ticks": ""
            },
            "colorscale": [
             [
              0,
              "#0d0887"
             ],
             [
              0.1111111111111111,
              "#46039f"
             ],
             [
              0.2222222222222222,
              "#7201a8"
             ],
             [
              0.3333333333333333,
              "#9c179e"
             ],
             [
              0.4444444444444444,
              "#bd3786"
             ],
             [
              0.5555555555555556,
              "#d8576b"
             ],
             [
              0.6666666666666666,
              "#ed7953"
             ],
             [
              0.7777777777777778,
              "#fb9f3a"
             ],
             [
              0.8888888888888888,
              "#fdca26"
             ],
             [
              1,
              "#f0f921"
             ]
            ],
            "type": "surface"
           }
          ],
          "table": [
           {
            "cells": {
             "fill": {
              "color": "#EBF0F8"
             },
             "line": {
              "color": "white"
             }
            },
            "header": {
             "fill": {
              "color": "#C8D4E3"
             },
             "line": {
              "color": "white"
             }
            },
            "type": "table"
           }
          ]
         },
         "layout": {
          "annotationdefaults": {
           "arrowcolor": "#2a3f5f",
           "arrowhead": 0,
           "arrowwidth": 1
          },
          "autotypenumbers": "strict",
          "coloraxis": {
           "colorbar": {
            "outlinewidth": 0,
            "ticks": ""
           }
          },
          "colorscale": {
           "diverging": [
            [
             0,
             "#8e0152"
            ],
            [
             0.1,
             "#c51b7d"
            ],
            [
             0.2,
             "#de77ae"
            ],
            [
             0.3,
             "#f1b6da"
            ],
            [
             0.4,
             "#fde0ef"
            ],
            [
             0.5,
             "#f7f7f7"
            ],
            [
             0.6,
             "#e6f5d0"
            ],
            [
             0.7,
             "#b8e186"
            ],
            [
             0.8,
             "#7fbc41"
            ],
            [
             0.9,
             "#4d9221"
            ],
            [
             1,
             "#276419"
            ]
           ],
           "sequential": [
            [
             0,
             "#0d0887"
            ],
            [
             0.1111111111111111,
             "#46039f"
            ],
            [
             0.2222222222222222,
             "#7201a8"
            ],
            [
             0.3333333333333333,
             "#9c179e"
            ],
            [
             0.4444444444444444,
             "#bd3786"
            ],
            [
             0.5555555555555556,
             "#d8576b"
            ],
            [
             0.6666666666666666,
             "#ed7953"
            ],
            [
             0.7777777777777778,
             "#fb9f3a"
            ],
            [
             0.8888888888888888,
             "#fdca26"
            ],
            [
             1,
             "#f0f921"
            ]
           ],
           "sequentialminus": [
            [
             0,
             "#0d0887"
            ],
            [
             0.1111111111111111,
             "#46039f"
            ],
            [
             0.2222222222222222,
             "#7201a8"
            ],
            [
             0.3333333333333333,
             "#9c179e"
            ],
            [
             0.4444444444444444,
             "#bd3786"
            ],
            [
             0.5555555555555556,
             "#d8576b"
            ],
            [
             0.6666666666666666,
             "#ed7953"
            ],
            [
             0.7777777777777778,
             "#fb9f3a"
            ],
            [
             0.8888888888888888,
             "#fdca26"
            ],
            [
             1,
             "#f0f921"
            ]
           ]
          },
          "colorway": [
           "#636efa",
           "#EF553B",
           "#00cc96",
           "#ab63fa",
           "#FFA15A",
           "#19d3f3",
           "#FF6692",
           "#B6E880",
           "#FF97FF",
           "#FECB52"
          ],
          "font": {
           "color": "#2a3f5f"
          },
          "geo": {
           "bgcolor": "white",
           "lakecolor": "white",
           "landcolor": "#E5ECF6",
           "showlakes": true,
           "showland": true,
           "subunitcolor": "white"
          },
          "hoverlabel": {
           "align": "left"
          },
          "hovermode": "closest",
          "mapbox": {
           "style": "light"
          },
          "paper_bgcolor": "white",
          "plot_bgcolor": "#E5ECF6",
          "polar": {
           "angularaxis": {
            "gridcolor": "white",
            "linecolor": "white",
            "ticks": ""
           },
           "bgcolor": "#E5ECF6",
           "radialaxis": {
            "gridcolor": "white",
            "linecolor": "white",
            "ticks": ""
           }
          },
          "scene": {
           "xaxis": {
            "backgroundcolor": "#E5ECF6",
            "gridcolor": "white",
            "gridwidth": 2,
            "linecolor": "white",
            "showbackground": true,
            "ticks": "",
            "zerolinecolor": "white"
           },
           "yaxis": {
            "backgroundcolor": "#E5ECF6",
            "gridcolor": "white",
            "gridwidth": 2,
            "linecolor": "white",
            "showbackground": true,
            "ticks": "",
            "zerolinecolor": "white"
           },
           "zaxis": {
            "backgroundcolor": "#E5ECF6",
            "gridcolor": "white",
            "gridwidth": 2,
            "linecolor": "white",
            "showbackground": true,
            "ticks": "",
            "zerolinecolor": "white"
           }
          },
          "shapedefaults": {
           "line": {
            "color": "#2a3f5f"
           }
          },
          "ternary": {
           "aaxis": {
            "gridcolor": "white",
            "linecolor": "white",
            "ticks": ""
           },
           "baxis": {
            "gridcolor": "white",
            "linecolor": "white",
            "ticks": ""
           },
           "bgcolor": "#E5ECF6",
           "caxis": {
            "gridcolor": "white",
            "linecolor": "white",
            "ticks": ""
           }
          },
          "title": {
           "x": 0.05
          },
          "xaxis": {
           "automargin": true,
           "gridcolor": "white",
           "linecolor": "white",
           "ticks": "",
           "title": {
            "standoff": 15
           },
           "zerolinecolor": "white",
           "zerolinewidth": 2
          },
          "yaxis": {
           "automargin": true,
           "gridcolor": "white",
           "linecolor": "white",
           "ticks": "",
           "title": {
            "standoff": 15
           },
           "zerolinecolor": "white",
           "zerolinewidth": 2
          }
         }
        },
        "xaxis": {
         "anchor": "y",
         "domain": [
          0,
          0.31999999999999995
         ],
         "title": {
          "text": "Number of Nodes"
         }
        },
        "xaxis2": {
         "anchor": "y2",
         "domain": [
          0.33999999999999997,
          0.6599999999999999
         ],
         "matches": "x",
         "title": {
          "text": "Number of Nodes"
         }
        },
        "xaxis3": {
         "anchor": "y3",
         "domain": [
          0.6799999999999999,
          0.9999999999999999
         ],
         "matches": "x",
         "title": {
          "text": "Number of Nodes"
         }
        },
        "yaxis": {
         "anchor": "x",
         "domain": [
          0,
          1
         ],
         "title": {
          "text": "Tree Depth"
         }
        },
        "yaxis2": {
         "anchor": "x2",
         "domain": [
          0,
          1
         ],
         "matches": "y",
         "showticklabels": false
        },
        "yaxis3": {
         "anchor": "x3",
         "domain": [
          0,
          1
         ],
         "matches": "y",
         "showticklabels": false
        }
       }
      }
     },
     "metadata": {},
     "output_type": "display_data"
    }
   ],
   "source": [
    "means = df[df[\"BTP\"] == True].groupby([\"Node Count\", \"Cycle Prevention\", \"Width\"]).mean()\n",
    "\n",
    "fig = px.line(\n",
    "    means, \n",
    "    x=means.index.get_level_values(0), \n",
    "    y=\"Tree Depth\", \n",
    "    color=means.index.get_level_values(2), \n",
    "    labels={\n",
    "        \"x\": \"Number of Nodes\",\n",
    "        \"color\": \"Area Conf.\",\n",
    "        \"facet_col\": \"CPM\",\n",
    "    },\n",
    "    facet_col=means.index.get_level_values(1),\n",
    ")\n",
    "\n",
    "area_labels = {\n",
    "    '100':'(1)',\n",
    "    '200':'(2)',\n",
    "    '300':'(3)',\n",
    "    '400':'(4)',\n",
    "    '500':'(5)',\n",
    "}\n",
    "\n",
    "fig.for_each_trace(lambda t: t.update(name = area_labels[t.name], legendgroup = area_labels[t.name], hovertemplate = t.hovertemplate.replace(t.name, area_labels[t.name])))\n",
    "\n",
    "fig.for_each_annotation(lambda a: a.update(text=a.text.split(\"=\")[1]))\n",
    "fig.for_each_annotation(lambda a: a.update(text=a.text.replace(\"Mutex\", \"Mutex\")))\n",
    "fig.for_each_annotation(lambda a: a.update(text=a.text.replace(\"Path to Source\", \"Path-to-Source\")))\n",
    "fig.for_each_annotation(lambda a: a.update(text=a.text.replace(\"Ping to Source\", \"Ping-to-Source\")))\n",
    "\n",
    "fig"
   ]
  },
  {
   "cell_type": "code",
   "execution_count": 27,
   "metadata": {},
   "outputs": [
    {
     "data": {
      "application/vnd.plotly.v1+json": {
       "config": {
        "plotlyServerURL": "https://plot.ly"
       },
       "data": [
        {
         "alignmentgroup": "True",
         "hovertemplate": "Number of Nodes=50<br>BTP=True<br>Area Conf.=%{x}<br>Total Energy (J)=%{y}<extra></extra>",
         "legendgroup": "50",
         "marker": {
          "color": "#636efa"
         },
         "name": "50",
         "notched": false,
         "offsetgroup": "50",
         "orientation": "v",
         "showlegend": true,
         "type": "box",
         "x": [
          100,
          300,
          300,
          300,
          300,
          300,
          300,
          300,
          300,
          200,
          200,
          200,
          200,
          200,
          200,
          300,
          300,
          300,
          300,
          300,
          300,
          300,
          300,
          300,
          300,
          300,
          300,
          300,
          300,
          300,
          300,
          300,
          300,
          300,
          200,
          200,
          200,
          200,
          200,
          200,
          200,
          200,
          200,
          200,
          200,
          200,
          200,
          200,
          200,
          200,
          200,
          200,
          200,
          200,
          200,
          200,
          200,
          200,
          300,
          400,
          400,
          400,
          400,
          400,
          400,
          400,
          400,
          400,
          400,
          400,
          400,
          400,
          400,
          400,
          400,
          400,
          400,
          400,
          400,
          400,
          400,
          400,
          400,
          400,
          400,
          400,
          400,
          400,
          400,
          300,
          100,
          300,
          300,
          300,
          300,
          300,
          300,
          300,
          300,
          300,
          300,
          300,
          300,
          300,
          300,
          300,
          300,
          300,
          300,
          500,
          500,
          500,
          500,
          500,
          500,
          500,
          500,
          500,
          500,
          500,
          500,
          300,
          300,
          300,
          300,
          300,
          300,
          200,
          200,
          200,
          200,
          200,
          200,
          200,
          200,
          200,
          200,
          200,
          200,
          200,
          200,
          200,
          200,
          500,
          200,
          200,
          300,
          300,
          300,
          300,
          300,
          300,
          200,
          200,
          200,
          200,
          200,
          200,
          200,
          200,
          200,
          200,
          200,
          500,
          500,
          400,
          400,
          400,
          400,
          400,
          400,
          400,
          400,
          400,
          400,
          400,
          400,
          400,
          400,
          400,
          400,
          400,
          400,
          400,
          400,
          400,
          400,
          400,
          400,
          400,
          400,
          400,
          400,
          400,
          400,
          500,
          500,
          500,
          500,
          500,
          500,
          500,
          500,
          500,
          500,
          500,
          500,
          500,
          500,
          500,
          300,
          200,
          100,
          400,
          400,
          400,
          400,
          400,
          400,
          400,
          400,
          400,
          400,
          400,
          400,
          400,
          100,
          100,
          100,
          100,
          100,
          100,
          100,
          100,
          100,
          100,
          100,
          100,
          100,
          100,
          100,
          100,
          400,
          100,
          100,
          100,
          100,
          100,
          100,
          100,
          100,
          100,
          100,
          100,
          100,
          100,
          400,
          400,
          100,
          100,
          100,
          100,
          100,
          100,
          100,
          100,
          100,
          500,
          500,
          500,
          500,
          500,
          100,
          100,
          100,
          100,
          100,
          100,
          100,
          100,
          100,
          100,
          100,
          100,
          100,
          100,
          100,
          100,
          100,
          100,
          100,
          500,
          500,
          500,
          500,
          500,
          500,
          400,
          400,
          400,
          400,
          400,
          400,
          400,
          400,
          400,
          400,
          400,
          400,
          400,
          500,
          400,
          500,
          500,
          500,
          500,
          500,
          500,
          500,
          500,
          500,
          500,
          500,
          500,
          500,
          500,
          500,
          500,
          500,
          500,
          200,
          200,
          200,
          200,
          200,
          200,
          200,
          500,
          200,
          200,
          200,
          200,
          100,
          100,
          100,
          100,
          100,
          100,
          100,
          100,
          100,
          100,
          100,
          100,
          100,
          100,
          100,
          100,
          100,
          200,
          200,
          200,
          200,
          200,
          200,
          200,
          200,
          200,
          200,
          200,
          200,
          200,
          200,
          200,
          200,
          200,
          200,
          200,
          100,
          100,
          100,
          100,
          100,
          100,
          100,
          100,
          100,
          100,
          100,
          100,
          100,
          300,
          300,
          300,
          300,
          300,
          300,
          300,
          300,
          300,
          300,
          300,
          300,
          300,
          300,
          300,
          300,
          300,
          300,
          300,
          300,
          300,
          300,
          500,
          500,
          500,
          500,
          500,
          500,
          500,
          500,
          500,
          500,
          500,
          500,
          500,
          500,
          500,
          500,
          500,
          300,
          500,
          500,
          300,
          300,
          300,
          300,
          500,
          500,
          500,
          500,
          500,
          500,
          500,
          500,
          500,
          500,
          300,
          300,
          300
         ],
         "x0": " ",
         "xaxis": "x",
         "y": [
          25.27141102020001,
          12.6458293369,
          28.122443936199996,
          32.3848635737,
          31.7371588922,
          21.9710728476,
          50.234705899400026,
          19.997293398200007,
          43.4044780143,
          27.1632960956,
          26.353188794,
          26.050274555799994,
          28.787331314600003,
          31.334461549400007,
          24.537944101799997,
          21.2644647474,
          19.281183733300008,
          23.5755967334,
          27.443564730399988,
          20.623397541799992,
          28.91042284239999,
          46.38024030159998,
          15.317475389600002,
          32.61766704069999,
          18.78440567200001,
          23.04277748120001,
          36.2878783066,
          17.064726860799997,
          24.348293126600005,
          17.360353236599998,
          13.614642446200005,
          16.944753606000003,
          35.55734458640002,
          18.86059937080001,
          26.345531964400006,
          25.879046585799998,
          22.78720304820001,
          28.028933473399988,
          21.71430471359999,
          23.499761703200008,
          30.2366817472,
          30.794446665,
          26.62267465680001,
          33.204549451599995,
          29.89965517080001,
          30.649203824199997,
          45.13927745199999,
          25.594968031000004,
          46.1002761712,
          48.21129273120002,
          30.45500939780001,
          45.20186027200001,
          41.30031754260001,
          25.9516359824,
          23.98754907499999,
          34.37718902599998,
          33.43770435500001,
          28.499463247,
          41.2899734918,
          16.96162989939999,
          17.740842215200004,
          28.277802895400026,
          16.80238484109999,
          8.491058578800004,
          26.88349359839999,
          31.533597052000008,
          13.165131360699997,
          39.261697737200016,
          15.4205828553,
          39.7452454358,
          48.54920336190002,
          42.64642234890001,
          36.558914275500015,
          34.91083038969999,
          8.9993959673,
          16.120161069300003,
          44.48594303420002,
          13.086963820299998,
          23.1239602287,
          15.121374607399996,
          17.3133865369,
          40.99523795740001,
          13.3315398775,
          9.7284028125,
          20.086738168600007,
          28.432659394599995,
          19.969256983899992,
          22.059806854500007,
          27.92155897309999,
          24.189875964600017,
          27.73400576560002,
          12.345116721099991,
          16.697836048299997,
          15.999883708300004,
          20.91510072969999,
          48.68373795930003,
          38.27274288110001,
          22.922570210000007,
          30.35687335499999,
          46.60764555390001,
          20.8607505806,
          15.149641453999998,
          21.6548002273,
          23.995584254799997,
          26.49928328450001,
          17.76621426590001,
          27.72845585160001,
          22.06825189739999,
          22.0856334413,
          24.5949631235,
          48.901408226400015,
          15.550442073299998,
          51.31249271070001,
          7.0457622669000015,
          13.783853880900004,
          23.3355261662,
          14.246348261699996,
          11.1759165417,
          11.789369283600005,
          26.874413982899995,
          28.573817022400004,
          34.54560822640001,
          39.5947423821,
          23.2115339665,
          14.975743499600004,
          36.325945583000006,
          33.84003391859999,
          24.0165544124,
          20.63610697330001,
          48.42638608219999,
          27.0911309768,
          27.281502872399997,
          31.039125290400012,
          28.32825785200001,
          24.638254840400013,
          40.57635653999999,
          28.280756199800003,
          20.7302013406,
          33.4069183005,
          38.93286199420002,
          27.16790114700001,
          27.809075912799997,
          44.61199506980001,
          24.56946485430001,
          29.963751283100013,
          33.58062533360001,
          35.352421337100004,
          26.901787867700005,
          23.7479169972,
          20.451802128600004,
          31.635411708899998,
          32.70023037309999,
          34.60234620690001,
          26.13035842360001,
          29.1110793805,
          29.74583260100001,
          32.967860892599994,
          23.0273881086,
          21.81350367989999,
          28.859733337599994,
          27.480875769299992,
          27.079691996500024,
          29.3910496994,
          25.835107679199982,
          11.670719812699998,
          24.4393640248,
          19.8390570182,
          39.2040431281,
          10.8680522423,
          10.535032722599995,
          43.2254628054,
          19.302814731,
          22.6707191618,
          17.4464010718,
          22.563274229700017,
          16.121155555700007,
          45.96905961569999,
          20.2969297861,
          9.9620567617,
          12.859612808399994,
          39.76415585060002,
          18.284807446599995,
          20.3600750596,
          30.809994963900007,
          26.557160149,
          17.9810754708,
          12.591045852799995,
          27.8755041882,
          13.6183972437,
          22.776992292700008,
          38.8963399838,
          15.543520639800004,
          22.219987749599994,
          12.828125171899991,
          26.960381904799995,
          28.7227862262,
          20.181761917600014,
          12.8501114655,
          22.948473139799997,
          18.6378388504,
          17.100029425199992,
          12.723184204099994,
          9.6637522082,
          8.242499020699995,
          32.283364063699985,
          22.27734728209999,
          15.653356339600004,
          16.608075572500006,
          42.205756529400006,
          8.290753772000002,
          33.00537202800001,
          27.99604166010001,
          28.80130090800001,
          16.726006966099995,
          21.169263886199992,
          23.6417996948,
          18.86153498320001,
          18.2377289894,
          13.117383522999996,
          30.284292657200005,
          27.8973652398,
          30.00250448180001,
          36.2704664816,
          15.3956358502,
          24.748917919799997,
          14.611840618400006,
          25.40639077899999,
          28.42336132820001,
          22.4522237776,
          27.159303212600005,
          23.2749971321,
          23.326985658600005,
          25.8699024384,
          28.851744839400013,
          26.556018582800004,
          26.786984950399997,
          24.629942967199995,
          26.911298878200014,
          29.345879873600012,
          20.6503717698,
          24.093553942800003,
          24.29081101420001,
          31.958816723399995,
          20.7660631986,
          19.72782002050001,
          30.63224546720001,
          27.762819823700013,
          22.82176808300001,
          27.840420356500005,
          26.9194482952,
          27.731143288000027,
          25.940115397700005,
          29.41560943320001,
          23.35364926700002,
          29.05259898740001,
          16.2963499318,
          30.890769116799994,
          38.29544129800001,
          28.3721804725,
          28.0435371559,
          26.541013513300005,
          26.2545059008,
          27.104560685200017,
          26.44021702,
          26.27413599110001,
          24.1243624264,
          35.53022855759998,
          40.26089704299998,
          25.549153865199997,
          10.1440030843,
          12.5968119198,
          22.30709536950001,
          23.113282228200006,
          31.097536941200005,
          32.034155105900005,
          26.621105914500003,
          33.83940709560001,
          23.3280985189,
          28.640758992000016,
          27.273493399499998,
          25.762782772400016,
          23.1039832456,
          28.0278735495,
          32.353118453,
          23.676326945000024,
          28.279932229500005,
          29.361015779999995,
          31.915182328100013,
          29.27860711070001,
          31.476330453600017,
          25.163719125700016,
          11.742804820099996,
          12.527610567299996,
          22.786056927000004,
          8.767765980500002,
          22.5184649414,
          25.145753979100007,
          26.160591916700003,
          43.253921715200015,
          11.00681809,
          19.1943749905,
          37.8212840676,
          14.446240457599998,
          36.657744685200015,
          13.177670666600005,
          15.288079211199998,
          22.760562505200003,
          21.9804594181,
          47.5863801078,
          42.01323874439999,
          29.02657998710001,
          12.5377743238,
          25.605498766,
          20.7655598356,
          23.320228791399995,
          25.648676172399995,
          16.8170053404,
          25.29114124079999,
          8.581677956499998,
          10.7157269868,
          10.797137764799992,
          11.442055803399995,
          17.927142006799993,
          17.249626875,
          30.8358177527,
          12.894547064799994,
          21.6294320872,
          15.281703663000002,
          13.548574823000006,
          24.641977541199992,
          38.228256555000016,
          28.7035912508,
          25.265495799400007,
          34.297401105300004,
          29.2981191518,
          29.428255149300004,
          28.162032843700004,
          9.7395162926,
          63.19648119589999,
          29.70419717980001,
          28.92922732179998,
          26.823568598500007,
          23.887802788400013,
          21.8476357416,
          28.61386477550001,
          21.503666334600005,
          19.0956541564,
          28.4487372215,
          32.433209440400006,
          27.885710101399997,
          31.283884673199992,
          30.856095277600016,
          26.6846104922,
          30.67760890280001,
          29.03693750070001,
          30.7984768743,
          33.080277815200006,
          25.70738278970001,
          26.823082864800003,
          27.550328950200004,
          36.93369445909998,
          35.0542449812,
          29.15772690250001,
          33.670466211800004,
          25.00920869180001,
          43.85310517920001,
          21.9896091736,
          26.212268462099985,
          24.83653988930001,
          36.62369225230001,
          24.0819601863,
          33.43867367889999,
          29.238225306399997,
          26.3038064295,
          31.15976727400001,
          29.83557517280001,
          27.87572908690001,
          24.804139319100017,
          22.327123063500007,
          24.15967823670001,
          31.261984689900007,
          23.0835420607,
          26.2691005282,
          27.8388254887,
          25.09110498799999,
          21.6273389135,
          25.7731524604,
          26.68299294820001,
          33.9324741481,
          31.80579666940002,
          21.679805433699997,
          32.168492950399994,
          19.1159227206,
          28.304897143499996,
          25.7980012037,
          36.9916874078,
          23.39086924999999,
          36.18246712490001,
          22.94006474110001,
          28.963966278599987,
          16.784815035699992,
          24.5271501164,
          18.1103382575,
          41.50643407519997,
          22.5081854432,
          43.2399447174,
          22.598366384100004,
          46.3301454787,
          30.1874118423,
          21.4322113145,
          24.2165920371,
          15.3046027685,
          25.361988256799997,
          8.086404024199997,
          48.0315670325,
          16.643617618399997,
          8.590722823000004,
          13.4581093453,
          16.029774297200003,
          20.015866336,
          26.346225509100005,
          32.399961081099995,
          24.1459291237,
          9.941822706999996,
          31.40928741980001,
          18.9217448187,
          41.23623594709999,
          24.6446493149,
          30.949089446500007,
          55.901828988299975,
          17.472226338699997,
          12.321315340700004,
          16.308004646000004,
          19.03642268230001,
          24.08543713009999,
          45.951037462800016,
          36.18558515139999,
          16.0835897635,
          15.864855550499996,
          10.3279563235,
          13.032563038899996,
          39.306799095,
          19.3397050241,
          12.540374625499997,
          8.8514265143,
          37.47091685470001,
          26.854560509999995,
          17.122152365299986,
          41.35855819700001,
          17.875123226600003
         ],
         "y0": " ",
         "yaxis": "y"
        },
        {
         "alignmentgroup": "True",
         "hovertemplate": "Number of Nodes=50<br>BTP=False<br>Area Conf.=%{x}<br>Total Energy (J)=%{y}<extra></extra>",
         "legendgroup": "50",
         "marker": {
          "color": "#636efa"
         },
         "name": "50",
         "notched": false,
         "offsetgroup": "50",
         "orientation": "v",
         "showlegend": false,
         "type": "box",
         "x": [
          400,
          400,
          400,
          400,
          400,
          400,
          400,
          400,
          400,
          400,
          400,
          400,
          400,
          400,
          400,
          400,
          400,
          400,
          200,
          200,
          200,
          200,
          200,
          200,
          200,
          200,
          200,
          200,
          200,
          200,
          400,
          400,
          400,
          400,
          400,
          400,
          400,
          100,
          100,
          100,
          100,
          100,
          100,
          100,
          100,
          100,
          100,
          100,
          100,
          100,
          100,
          100,
          100,
          200,
          100,
          100,
          400,
          400,
          400,
          400,
          400,
          100,
          100,
          100,
          100,
          100,
          100,
          100,
          100,
          100,
          100,
          100,
          500,
          200,
          200,
          200,
          200,
          200,
          200,
          200,
          200,
          200,
          200,
          200,
          200,
          200,
          200,
          200,
          200,
          200,
          500,
          500,
          500,
          500,
          500,
          500,
          500,
          500,
          500,
          500,
          500,
          500,
          300,
          300,
          300,
          300,
          300,
          300,
          300,
          300,
          300,
          300,
          300,
          300,
          300,
          300,
          100,
          300,
          500,
          300,
          300,
          300,
          300,
          300,
          300,
          300,
          300,
          300,
          300,
          300,
          300,
          300,
          300,
          300,
          500,
          500,
          500,
          500,
          500,
          500,
          500,
          500,
          500,
          500,
          500,
          200,
          200,
          200,
          200,
          200,
          200,
          200,
          500,
          500,
          500,
          500,
          500,
          500,
          500,
          500,
          500,
          500,
          500,
          500,
          500,
          500,
          500,
          500,
          500,
          500,
          200,
          200,
          200,
          200,
          400,
          500,
          500,
          500,
          500,
          500,
          500,
          500,
          500,
          500,
          500,
          500,
          500,
          500,
          500,
          200,
          500,
          200,
          200,
          200,
          200,
          200,
          200,
          200,
          200,
          200,
          200,
          200,
          200,
          200,
          200,
          200,
          200,
          200,
          200,
          500,
          400,
          400,
          400,
          400,
          400,
          400,
          400,
          400,
          400,
          400,
          400,
          400,
          400,
          400,
          400,
          400,
          400,
          400,
          400,
          400,
          400,
          400,
          400,
          400,
          400,
          400,
          400,
          400,
          300,
          300,
          300,
          300,
          300,
          300,
          300,
          300,
          300,
          300,
          300,
          300,
          300,
          300,
          300,
          300,
          300,
          300,
          300,
          300,
          300,
          300,
          300,
          300,
          300,
          300,
          300,
          300,
          300,
          300,
          500,
          400,
          500,
          500,
          500,
          500,
          500,
          500,
          500,
          500,
          500,
          500,
          500,
          500,
          500,
          500,
          500,
          200,
          200,
          200,
          500,
          200,
          500,
          500,
          200,
          500,
          500,
          500,
          500,
          500,
          500,
          500,
          500,
          500,
          500,
          500,
          500,
          200,
          200,
          200,
          300,
          300,
          300,
          300,
          300,
          100,
          300,
          300,
          300,
          300,
          300,
          300,
          300,
          300,
          300,
          300,
          300,
          300,
          200,
          200,
          200,
          200,
          200,
          200,
          200,
          200,
          200,
          200,
          200,
          200,
          200,
          200,
          200,
          200,
          200,
          200,
          200,
          200,
          200,
          200,
          100,
          100,
          100,
          100,
          100,
          100,
          100,
          100,
          100,
          100,
          100,
          100,
          100,
          100,
          100,
          100,
          100,
          100,
          100,
          100,
          100,
          100,
          100,
          100,
          100,
          100,
          100,
          300,
          300,
          300,
          300,
          300,
          100,
          300,
          300,
          300,
          300,
          300,
          300,
          300,
          400,
          300,
          100,
          100,
          100,
          100,
          100,
          100,
          100,
          100,
          100,
          100,
          100,
          100,
          100,
          100,
          100,
          100,
          100,
          100,
          100,
          100,
          100,
          100,
          400,
          400,
          100,
          400,
          400,
          400,
          400,
          400,
          400,
          400,
          400,
          400,
          400,
          400,
          400,
          400,
          400,
          400,
          400,
          400,
          400,
          400,
          400,
          400,
          400,
          400,
          400,
          400,
          400,
          400,
          100,
          100,
          100,
          100,
          100,
          100,
          100,
          100
         ],
         "x0": " ",
         "xaxis": "x2",
         "y": [
          154.914,
          138.943,
          145.644,
          139.639,
          135.02,
          122.358,
          122.193,
          105.589,
          129.644,
          141.932,
          146.673,
          149.649,
          117.356,
          141.421,
          135.398,
          147.07,
          117.128,
          105.563,
          196.023,
          189.741,
          200.886,
          201.808,
          203.183,
          185.13,
          198.407,
          165.109,
          154.507,
          187.627,
          187.978,
          200.908,
          150.717,
          117.614,
          136.65,
          158.624,
          129.11,
          157.992,
          124.44,
          202.125,
          203.099,
          203.012,
          202.168,
          203.081,
          203.317,
          203.046,
          203.021,
          202.174,
          203.003,
          203.054,
          203.119,
          203.139,
          202.117,
          202.178,
          203.128,
          178.134,
          202.199,
          203.003,
          153.854,
          147.755,
          146.455,
          158.138,
          120.352,
          203.081,
          202.235,
          202.184,
          203.17,
          203.009,
          202.967,
          203.074,
          203.161,
          203.028,
          203.121,
          203.014,
          126.171,
          162.187,
          204.528,
          170.846,
          199.838,
          202.213,
          200.736,
          203.251,
          184.958,
          203.378,
          166.418,
          203.171,
          200.409,
          171.353,
          203.198,
          202.215,
          182.61,
          179.53,
          113.466,
          95.9283,
          128.426,
          110.323,
          122.95,
          136.309,
          122.016,
          135.353,
          110.264,
          143.815,
          129.275,
          125.698,
          147.747,
          173.133,
          175.367,
          135.625,
          171.674,
          185.899,
          133.849,
          180.821,
          146.188,
          176.36,
          173.85,
          176.632,
          176.534,
          134.144,
          203.045,
          152.641,
          124.839,
          147.959,
          144.705,
          177.58,
          140.994,
          153.834,
          125.751,
          133.526,
          184.805,
          142.094,
          156.148,
          148.399,
          168.13,
          164.682,
          161.033,
          124.684,
          119.914,
          126.555,
          107.958,
          135.353,
          110.264,
          143.815,
          129.275,
          125.698,
          136.723,
          122.016,
          108.095,
          187.978,
          187.627,
          154.507,
          165.109,
          198.407,
          185.13,
          200.908,
          136.309,
          122.95,
          110.323,
          107.68,
          124.576,
          117.336,
          131.911,
          115.171,
          118.416,
          129.292,
          122.232,
          113.461,
          102.574,
          107.958,
          117.675,
          126.555,
          124.839,
          128.426,
          203.183,
          201.808,
          200.886,
          189.741,
          158.138,
          126.171,
          113.466,
          119.914,
          95.9283,
          107.68,
          124.576,
          117.336,
          131.911,
          115.171,
          118.416,
          129.292,
          122.232,
          113.461,
          102.574,
          170.846,
          117.675,
          199.838,
          200.736,
          196.023,
          178.134,
          162.187,
          179.53,
          204.528,
          182.61,
          202.215,
          203.198,
          171.353,
          200.409,
          203.171,
          166.418,
          203.378,
          184.958,
          203.251,
          202.213,
          136.723,
          150.717,
          146.455,
          147.755,
          153.854,
          124.44,
          157.992,
          129.11,
          158.624,
          117.614,
          136.65,
          105.563,
          147.07,
          141.421,
          117.356,
          149.649,
          146.673,
          141.932,
          129.644,
          135.398,
          105.589,
          122.358,
          135.02,
          139.639,
          145.644,
          138.943,
          154.914,
          122.193,
          117.128,
          180.821,
          133.849,
          185.899,
          171.674,
          135.625,
          175.367,
          146.188,
          173.133,
          152.641,
          147.959,
          124.684,
          144.705,
          161.033,
          164.682,
          147.747,
          176.36,
          173.85,
          176.632,
          134.144,
          176.534,
          168.13,
          148.399,
          156.148,
          142.094,
          184.805,
          133.526,
          125.751,
          153.834,
          140.994,
          177.58,
          108.095,
          120.352,
          107.958,
          102.574,
          113.461,
          122.232,
          129.292,
          118.416,
          115.171,
          131.911,
          117.675,
          117.336,
          107.68,
          95.9283,
          119.914,
          113.466,
          126.171,
          187.978,
          187.627,
          154.507,
          124.576,
          165.109,
          126.555,
          128.426,
          200.908,
          108.095,
          124.839,
          136.723,
          129.275,
          143.815,
          110.264,
          135.353,
          122.016,
          136.309,
          122.95,
          110.323,
          125.698,
          198.407,
          185.13,
          203.183,
          171.674,
          135.625,
          175.367,
          173.133,
          147.747,
          202.235,
          147.959,
          124.684,
          144.705,
          164.682,
          168.13,
          148.399,
          156.148,
          142.094,
          184.805,
          133.526,
          125.751,
          161.033,
          170.846,
          199.838,
          202.213,
          201.808,
          200.886,
          189.741,
          196.023,
          178.134,
          162.187,
          179.53,
          204.528,
          182.61,
          202.215,
          203.198,
          171.353,
          200.409,
          203.171,
          166.418,
          203.378,
          184.958,
          203.251,
          200.736,
          203.119,
          203.139,
          202.117,
          202.178,
          203.054,
          203.003,
          202.174,
          203.021,
          202.184,
          203.17,
          203.009,
          202.967,
          203.074,
          203.161,
          203.028,
          203.121,
          203.003,
          203.014,
          202.199,
          203.128,
          202.125,
          203.099,
          203.012,
          202.168,
          203.081,
          203.317,
          203.046,
          153.834,
          185.899,
          133.849,
          180.821,
          134.144,
          203.045,
          176.534,
          176.632,
          173.85,
          176.36,
          146.188,
          140.994,
          152.641,
          120.352,
          177.58,
          203.014,
          202.199,
          203.128,
          202.125,
          203.099,
          203.012,
          202.168,
          203.081,
          203.046,
          203.021,
          202.174,
          203.003,
          203.054,
          203.119,
          203.139,
          203.317,
          203.003,
          202.117,
          202.178,
          203.045,
          203.121,
          203.161,
          136.65,
          105.563,
          203.028,
          147.07,
          122.193,
          154.914,
          138.943,
          145.644,
          139.639,
          135.02,
          122.358,
          105.589,
          135.398,
          129.644,
          141.932,
          146.673,
          149.649,
          117.356,
          141.421,
          158.624,
          129.11,
          157.992,
          124.44,
          153.854,
          147.755,
          146.455,
          158.138,
          117.614,
          150.717,
          117.128,
          203.081,
          203.074,
          202.967,
          203.009,
          203.17,
          202.184,
          202.235,
          203.081
         ],
         "y0": " ",
         "yaxis": "y2"
        },
        {
         "alignmentgroup": "True",
         "hovertemplate": "Number of Nodes=100<br>BTP=True<br>Area Conf.=%{x}<br>Total Energy (J)=%{y}<extra></extra>",
         "legendgroup": "100",
         "marker": {
          "color": "#EF553B"
         },
         "name": "100",
         "notched": false,
         "offsetgroup": "100",
         "orientation": "v",
         "showlegend": true,
         "type": "box",
         "x": [
          400,
          300,
          400,
          400,
          400,
          400,
          300,
          400,
          400,
          300,
          300,
          500,
          300,
          300,
          300,
          300,
          300,
          300,
          300,
          300,
          300,
          300,
          300,
          300,
          300,
          300,
          300,
          300,
          300,
          300,
          300,
          300,
          300,
          300,
          300,
          300,
          400,
          400,
          400,
          500,
          500,
          500,
          500,
          500,
          500,
          500,
          500,
          500,
          500,
          500,
          500,
          500,
          500,
          400,
          400,
          400,
          400,
          400,
          400,
          400,
          400,
          500,
          400,
          500,
          500,
          500,
          500,
          500,
          500,
          500,
          500,
          400,
          500,
          400,
          400,
          400,
          400,
          400,
          400,
          400,
          400,
          400,
          400,
          500,
          500,
          500,
          500,
          500,
          300,
          300,
          100,
          100,
          100,
          100,
          100,
          100,
          200,
          200,
          200,
          100,
          200,
          200,
          200,
          200,
          200,
          200,
          200,
          200,
          200,
          200,
          100,
          100,
          100,
          100,
          100,
          100,
          100,
          100,
          100,
          100,
          100,
          100,
          100,
          100,
          100,
          100,
          100,
          100,
          100,
          100,
          100,
          100,
          200,
          100,
          200,
          200,
          200,
          200,
          200,
          200,
          200,
          200,
          200,
          200,
          200,
          200,
          200,
          200,
          200,
          200,
          500,
          100,
          100,
          100,
          100,
          100,
          100,
          100,
          100,
          100,
          100,
          100,
          100,
          100,
          200,
          200,
          200,
          200,
          200,
          200,
          200,
          200,
          200,
          100,
          100,
          100,
          100,
          300,
          300,
          300,
          300,
          300,
          300,
          300,
          200,
          200,
          200,
          200,
          100,
          100,
          100,
          100,
          100,
          100,
          100,
          100,
          100,
          100,
          100,
          100,
          200,
          300,
          200,
          200,
          300,
          300,
          300,
          300,
          300,
          300,
          300,
          300,
          300,
          300,
          300,
          300,
          300,
          300,
          300,
          300,
          300,
          300,
          300,
          300,
          300,
          200,
          300,
          300,
          300,
          300,
          200,
          200,
          200,
          200,
          200,
          200,
          200,
          200,
          200,
          200,
          200,
          200,
          200,
          200,
          200,
          200,
          200,
          200,
          200,
          300,
          300,
          300,
          300,
          200,
          300,
          300,
          300,
          500,
          500,
          500,
          400,
          400,
          400,
          400,
          400,
          400,
          400,
          500,
          400,
          400,
          400,
          400,
          400,
          400,
          400,
          400,
          400,
          400,
          400,
          400,
          500,
          500,
          500,
          500,
          500,
          500,
          500,
          500,
          500,
          500,
          500,
          500,
          500,
          500,
          500,
          500,
          500,
          500,
          500,
          500,
          500,
          500,
          500,
          500,
          500,
          500,
          400,
          400,
          400,
          400,
          200,
          200,
          200,
          200,
          200,
          200,
          200,
          200,
          200,
          200,
          300,
          300,
          300,
          300,
          300,
          300,
          300,
          300,
          300,
          300,
          300,
          300,
          300,
          200,
          100,
          200,
          200,
          400,
          400,
          400,
          400,
          400,
          400,
          300,
          300,
          300,
          300,
          300,
          400,
          100,
          300,
          200,
          200,
          200,
          200,
          200,
          200,
          200,
          200,
          200,
          200,
          100,
          300,
          500,
          400,
          400,
          100,
          100,
          400,
          100,
          100,
          100,
          100,
          500,
          500,
          500,
          500,
          500,
          100,
          100,
          100,
          100,
          100,
          400,
          100,
          400,
          400,
          400,
          400,
          400,
          400,
          400,
          400,
          400,
          400,
          400,
          400,
          400,
          400,
          400,
          400,
          400,
          400,
          400,
          400,
          500,
          400,
          500,
          100,
          100,
          500,
          500,
          500,
          500,
          500,
          500,
          500,
          500,
          500,
          500,
          500,
          500,
          500,
          500,
          100,
          500,
          500,
          100,
          500,
          500,
          400,
          100,
          100,
          100,
          100,
          500,
          100,
          500,
          100,
          500,
          100,
          100,
          100,
          100,
          100,
          400,
          400,
          400,
          400,
          100
         ],
         "x0": " ",
         "xaxis": "x",
         "y": [
          83.4410934631,
          20.602986018000003,
          61.602667248899984,
          46.08063374549997,
          30.61716576639999,
          38.0428205731,
          46.516222585700014,
          34.50953107780003,
          34.186776954699994,
          28.512629402100018,
          39.999909023400015,
          33.834168094999995,
          35.2310044796,
          71.88843338499998,
          64.52165525459999,
          57.43206910099997,
          33.113485609600005,
          43.206251654,
          56.49390755690001,
          29.338924238000008,
          47.88746005109999,
          75.23883837740004,
          53.568908597700016,
          26.17418555240001,
          53.74856577270002,
          40.87676533950005,
          62.492644099700016,
          77.7632745099,
          69.32283952149996,
          69.72929559030001,
          44.0231169922,
          36.8430439367,
          70.08957882440002,
          40.74682762070001,
          40.37597658470001,
          25.0586929216,
          34.372706001099985,
          35.59131780699998,
          41.048511789099976,
          55.408748160600005,
          48.43332031210001,
          65.80370582090002,
          35.44287674030003,
          50.47739670420003,
          19.6014978348,
          28.151619589099983,
          26.560603696900003,
          26.6866065211,
          46.547559787100006,
          21.3381269749,
          25.3604611044,
          46.46964309060001,
          15.8418222914,
          44.35685684730002,
          26.6157224992,
          60.68915368190002,
          65.91416254980001,
          57.15611983370001,
          32.27393002300003,
          25.57177542490001,
          45.76945067309999,
          54.197966050500014,
          27.689844457700005,
          18.8254618197,
          32.468158718700025,
          61.46450448760002,
          44.01323857719997,
          22.592052049600003,
          31.02227648450002,
          47.38525782630001,
          39.31601107560002,
          51.4786208025,
          19.153384835699995,
          43.05178732690002,
          50.8331223661,
          28.0977846074,
          26.8672693725,
          38.126174355900005,
          39.08851085000002,
          45.458605012699984,
          38.25200865360001,
          37.9889713658,
          36.20570462910001,
          54.70447557079999,
          26.7905926825,
          24.871470589900007,
          60.09657767299999,
          30.913575669,
          56.55757862250001,
          55.99346969099997,
          57.064735516,
          54.5391678744,
          49.09603416840003,
          49.74983515780001,
          44.26562600170004,
          44.459169828100045,
          67.06564794370001,
          56.45256076830001,
          58.5253394999,
          44.33035177530002,
          46.762960406900014,
          50.87123529680002,
          43.95212930740001,
          48.35766202309999,
          57.09915143360002,
          70.05989153040002,
          52.855429347,
          63.3046345583,
          44.4284237823,
          67.85896111100001,
          50.22934373390001,
          47.93978062560004,
          45.83443554760003,
          42.50706811360004,
          47.806025582100006,
          44.86684411340004,
          52.10455758989997,
          48.714814941700034,
          62.29935607120005,
          51.809645456400055,
          55.54069639529999,
          38.417552380000025,
          43.31756644500005,
          51.65789263230006,
          43.99735836450001,
          60.652788994199966,
          55.77275521100001,
          51.17433570009998,
          52.9633372967,
          49.81174851440002,
          56.28989545049997,
          44.99352645810004,
          83.20662801070004,
          52.32615718530002,
          60.5085489351,
          61.32406468300002,
          54.983281082200016,
          39.761635246600015,
          69.70023105349998,
          53.85809322120005,
          52.8760866725,
          96.13762732619998,
          45.1300556775,
          57.89288649489999,
          56.24319754870002,
          39.34512696980001,
          57.07794783190003,
          51.79141768660003,
          67.97411777319999,
          61.03491220480003,
          26.86434501419999,
          54.414087319,
          40.29124785350003,
          42.069996959200026,
          62.460243169200034,
          47.44711503710003,
          42.89419903140004,
          44.90633938530004,
          61.92548044520003,
          52.93274058510005,
          53.61760945010003,
          47.561527731800034,
          45.882356459200025,
          52.512297724999975,
          61.101264096400016,
          70.91229690580006,
          65.56640287679998,
          63.752701848000015,
          66.87133306349999,
          57.964989839400026,
          49.29990171840001,
          64.39525370340003,
          51.01953253720002,
          48.79148626140003,
          51.0887522959,
          53.39971320600003,
          47.43060412500001,
          85.57255649740003,
          61.16859127879998,
          58.4428888604,
          64.46151221480002,
          47.0320715436,
          31.124696253600007,
          48.25693055060001,
          53.5458158122,
          55.02681770239997,
          56.92607546600001,
          36.998515510600015,
          54.34206893690003,
          53.931289926000034,
          48.080022284900025,
          46.70308605290004,
          54.31319846939997,
          50.39158460730003,
          45.84631145060004,
          46.08232317520004,
          50.10075624890005,
          40.38796570860005,
          49.23766348720003,
          53.06148153010003,
          62.22076215560002,
          80.36253952160004,
          48.63759059259998,
          72.27060608290004,
          71.1266588754,
          24.25665619870002,
          71.00548646800002,
          38.84432678309998,
          76.16796649439996,
          95.88313302889998,
          55.756934918100015,
          76.6683376156,
          67.21360948280001,
          34.59879911270002,
          43.72839731639999,
          63.084172385199984,
          42.516156636400005,
          19.077141007399995,
          40.26239430039999,
          32.3324954351,
          74.08892796570001,
          20.857733328099997,
          40.463346210800005,
          42.76430156880002,
          60.03511409000001,
          57.743214579800025,
          39.642949253400005,
          45.3082104637,
          25.69448162580002,
          56.85134768880003,
          52.214632241400025,
          77.70277202939995,
          83.82757867020004,
          61.62642225420004,
          56.835835262,
          64.84035301180006,
          59.28482062340002,
          50.751113128000014,
          64.70284841440001,
          62.30704778340004,
          54.26644998060003,
          37.3159446204,
          72.44056032719998,
          52.521426941199984,
          51.01489617960002,
          36.284990706,
          53.23452970559998,
          55.26808741979999,
          55.49412614920003,
          54.95033656570001,
          48.7334826716,
          56.93875796880001,
          32.3401983428,
          64.5597345512,
          43.30161954640002,
          86.76273924259996,
          76.87446926180003,
          33.3075140286,
          32.11908865749998,
          36.588033868800025,
          77.2546978889,
          26.755906005800007,
          25.11378553859999,
          13.425944829800004,
          26.8623355713,
          53.7919727113,
          37.204647596600005,
          19.490893794900003,
          26.790529378399995,
          69.70647706280002,
          48.862886753200016,
          29.315559979999996,
          29.522522695400003,
          40.50246383289999,
          35.096613984200005,
          39.61299835639999,
          53.50661973539999,
          27.2300562085,
          39.09156974130002,
          37.72799764370001,
          41.548347986,
          32.89230040760002,
          14.648840174299997,
          27.604920790499992,
          49.77206177519999,
          49.63054904830002,
          12.122046648200005,
          18.8280868855,
          23.450332006499995,
          50.43490532929996,
          13.960794049700002,
          53.38137089179996,
          41.98643815900002,
          34.729211996,
          40.80161411809999,
          25.6035377347,
          32.893372142100006,
          36.07794014420002,
          63.0620672013,
          22.683163024399988,
          43.3766092922,
          44.619334340300014,
          15.178730584599997,
          43.59831215819997,
          27.63213723579999,
          41.471543635,
          19.733015157399983,
          35.45824384280002,
          32.9687334923,
          33.89845413090001,
          60.10610930500005,
          52.1774575382,
          60.30041566620002,
          54.60030742259998,
          76.07472127199998,
          52.32860191060002,
          103.46638172739998,
          57.97280939220001,
          42.78656649560004,
          48.43113114959999,
          55.3935517056,
          36.67917522300001,
          74.821073439,
          68.1854167034,
          51.72369151719998,
          76.69642405020004,
          56.51921871440002,
          43.80817778239998,
          45.4919952556,
          77.34444288119998,
          84.33527689259998,
          74.31424329220003,
          42.35892241579997,
          51.80882742620004,
          38.28296738390005,
          51.51368591359999,
          95.51404789719994,
          58.61175968939999,
          36.85529647520004,
          36.59279156420001,
          28.67064379840001,
          60.44139991779997,
          49.01363566779998,
          52.70471095600003,
          88.74947331919998,
          31.09801346900002,
          44.57113508080003,
          47.329736157,
          59.6698389912,
          36.193955244400016,
          65.8042790102,
          58.08070096700003,
          48.236577824800015,
          51.71181302480001,
          40.388070956,
          40.18530249280003,
          55.44993524760002,
          46.217664134600014,
          39.79346570480001,
          55.320825620800015,
          54.6704995962,
          61.34021703210007,
          38.59199937020004,
          26.98030066360001,
          31.3678393739,
          30.277582865200007,
          50.21206564260002,
          43.90167290050004,
          35.33132621040001,
          62.33766731680001,
          48.441578443400026,
          41.76944205500005,
          47.45657924590007,
          37.563227549,
          24.795102378400017,
          21.0658828828,
          42.410385638400015,
          40.6886093684,
          53.57935254040005,
          45.70722633720004,
          62.71886714200006,
          33.09250650050001,
          42.00075295550004,
          25.246581559200017,
          62.49997399620004,
          40.02069150960003,
          47.60620203500002,
          58.73992763630004,
          37.54666568080001,
          51.337195833,
          32.28627789899999,
          56.53936800539995,
          72.00348872319998,
          32.24635015520003,
          28.003420515800023,
          33.20632302260002,
          24.12030516239998,
          61.04842687419994,
          27.830453026400004,
          29.371454521999997,
          44.761398477399965,
          35.9739339146,
          48.690656087,
          70.36224407520001,
          28.548227967600013,
          75.99834106019999,
          69.30779239900002,
          54.488563415,
          50.801661046,
          41.62532958100003,
          53.0349464077,
          57.73598496879997,
          21.51372689059999,
          9.899206854899996,
          17.9769298271,
          27.150648691600004,
          37.59237138360002,
          42.6214740292,
          32.01812163259999,
          22.938286567200013,
          36.8131449802,
          62.2013966722,
          27.7507613664,
          46.0548517058,
          41.939220666500056,
          54.68796358299999,
          41.156316278600016,
          48.28181923440003,
          27.87343519239999,
          13.8714145108,
          36.5731172364,
          51.67115192620003,
          47.16787222350003,
          48.09498599480001,
          47.681907805800016,
          62.174191399599984,
          37.68208723500005,
          29.6803108432,
          37.96705905120005,
          51.12713094500002,
          44.750483329400026,
          47.73253172200005,
          38.05437828760003,
          42.46159903280001,
          61.69653198010005,
          10.92690627419999,
          33.1291094398,
          42.41236422779998,
          26.9727141204,
          38.13772087040002
         ],
         "y0": " ",
         "yaxis": "y"
        },
        {
         "alignmentgroup": "True",
         "hovertemplate": "Number of Nodes=100<br>BTP=False<br>Area Conf.=%{x}<br>Total Energy (J)=%{y}<extra></extra>",
         "legendgroup": "100",
         "marker": {
          "color": "#EF553B"
         },
         "name": "100",
         "notched": false,
         "offsetgroup": "100",
         "orientation": "v",
         "showlegend": false,
         "type": "box",
         "x": [
          100,
          200,
          100,
          100,
          100,
          100,
          100,
          100,
          100,
          100,
          100,
          100,
          100,
          100,
          100,
          100,
          100,
          100,
          100,
          100,
          500,
          500,
          500,
          500,
          500,
          500,
          500,
          500,
          500,
          500,
          500,
          500,
          100,
          100,
          100,
          100,
          100,
          100,
          100,
          400,
          400,
          400,
          400,
          400,
          400,
          400,
          400,
          400,
          400,
          400,
          400,
          400,
          400,
          400,
          400,
          500,
          400,
          400,
          100,
          100,
          100,
          100,
          100,
          500,
          400,
          400,
          400,
          400,
          400,
          400,
          400,
          400,
          400,
          400,
          500,
          500,
          500,
          200,
          200,
          200,
          200,
          200,
          200,
          200,
          200,
          200,
          300,
          300,
          300,
          300,
          300,
          200,
          300,
          200,
          200,
          200,
          200,
          200,
          200,
          200,
          200,
          200,
          200,
          200,
          200,
          200,
          200,
          200,
          200,
          200,
          200,
          200,
          300,
          300,
          300,
          300,
          500,
          500,
          500,
          500,
          500,
          500,
          500,
          500,
          500,
          500,
          500,
          500,
          500,
          300,
          300,
          300,
          300,
          300,
          300,
          300,
          300,
          300,
          300,
          300,
          300,
          300,
          300,
          300,
          300,
          300,
          300,
          300,
          300,
          300,
          200,
          200,
          200,
          200,
          200,
          200,
          200,
          500,
          200,
          500,
          500,
          500,
          500,
          500,
          500,
          500,
          500,
          500,
          500,
          200,
          200,
          200,
          200,
          200,
          200,
          200,
          200,
          200,
          200,
          200,
          200,
          200,
          200,
          200,
          200,
          200,
          200,
          200,
          200,
          200,
          200,
          500,
          500,
          500,
          500,
          500,
          500,
          500,
          500,
          500,
          500,
          500,
          500,
          500,
          500,
          500,
          500,
          500,
          500,
          500,
          500,
          500,
          500,
          500,
          500,
          500,
          500,
          500,
          500,
          500,
          500,
          500,
          500,
          500,
          500,
          500,
          500,
          500,
          500,
          500,
          100,
          500,
          500,
          500,
          500,
          500,
          500,
          500,
          500,
          400,
          100,
          100,
          100,
          100,
          100,
          100,
          300,
          300,
          100,
          300,
          300,
          300,
          300,
          300,
          300,
          300,
          300,
          300,
          300,
          100,
          100,
          100,
          100,
          100,
          100,
          100,
          100,
          100,
          100,
          100,
          100,
          100,
          100,
          100,
          100,
          100,
          100,
          100,
          100,
          100,
          100,
          300,
          300,
          300,
          300,
          400,
          400,
          400,
          400,
          400,
          400,
          400,
          400,
          400,
          400,
          400,
          400,
          400,
          400,
          400,
          400,
          400,
          400,
          400,
          400,
          400,
          400,
          300,
          300,
          300,
          300,
          300,
          300,
          300,
          300,
          300,
          300,
          300,
          300,
          400,
          400,
          400,
          400,
          400,
          400,
          400,
          300,
          300,
          500,
          100,
          300,
          300,
          300,
          300,
          300,
          300,
          300,
          300,
          300,
          300,
          300,
          400,
          300,
          300,
          300,
          300,
          300,
          300,
          300,
          300,
          300,
          300,
          300,
          300,
          300,
          300,
          300,
          300,
          500,
          300,
          200,
          100,
          100,
          100,
          100,
          100,
          400,
          400,
          400,
          100,
          400,
          400,
          400,
          400,
          400,
          400,
          400,
          400,
          400,
          400,
          100,
          100,
          100,
          100,
          100,
          100,
          100,
          100,
          100,
          100,
          100,
          100,
          100,
          100,
          100,
          100,
          100,
          100,
          100,
          100,
          100,
          100,
          400,
          200,
          400,
          400,
          200,
          200,
          200,
          200,
          200,
          200,
          200,
          200,
          200,
          200,
          200,
          200,
          200,
          200,
          200,
          200,
          200,
          200,
          200,
          200,
          200,
          200,
          400,
          400,
          400,
          400,
          400,
          400,
          400,
          400,
          400,
          400,
          400,
          400,
          400,
          200,
          200,
          200,
          200,
          200,
          200,
          400,
          300,
          400
         ],
         "x0": " ",
         "xaxis": "x2",
         "y": [
          405.238,
          330.522,
          405.427,
          404.69,
          405.208,
          404.2,
          406.313,
          404.467,
          405.305,
          404.258,
          405.165,
          404.579,
          405.122,
          406.11,
          405.197,
          405.123,
          405.514,
          405.757,
          405.657,
          406.264,
          234.405,
          246.705,
          200.123,
          223.919,
          211.888,
          265.952,
          229.813,
          260.322,
          258.155,
          242.525,
          204.339,
          196.839,
          405.221,
          404.266,
          404.378,
          405.246,
          405.175,
          404.495,
          405.156,
          241.759,
          286.318,
          242.983,
          236.015,
          221.478,
          310.774,
          289.482,
          221.381,
          215.429,
          239.434,
          239.19,
          294.318,
          211.127,
          235.001,
          215.5,
          253.877,
          229.701,
          260.125,
          247.06,
          404.45,
          404.323,
          405.245,
          405.238,
          405.466,
          252.022,
          292.187,
          211.484,
          219.882,
          264.681,
          281.429,
          293.716,
          257.722,
          282.7,
          228.778,
          222.074,
          267.793,
          225.436,
          215.972,
          330.66,
          391.974,
          354.299,
          405.169,
          322.29,
          373.798,
          336.774,
          397.433,
          332.447,
          337.495,
          234.216,
          247.082,
          319.021,
          347.854,
          364.091,
          334.227,
          402.74,
          365.93,
          349.279,
          390.354,
          405.244,
          402.81,
          375.606,
          397.279,
          369.639,
          376.54,
          316.703,
          392.717,
          373.876,
          346.817,
          398.836,
          372.3,
          362.804,
          405.255,
          400.084,
          299.967,
          267.408,
          313.846,
          236.018,
          194.173,
          244.273,
          196.627,
          218.401,
          196.304,
          259.304,
          210.876,
          225.223,
          196.576,
          209.346,
          250.825,
          265.486,
          206.137,
          239.952,
          322.922,
          274.322,
          364.42,
          289.523,
          253.676,
          310.377,
          284.995,
          267.451,
          331.45,
          301.76,
          272.641,
          254.322,
          367.916,
          339.017,
          271.272,
          247.894,
          283.616,
          271.863,
          231.426,
          313.846,
          375.606,
          402.81,
          405.244,
          390.354,
          349.279,
          330.522,
          400.084,
          204.339,
          397.279,
          242.525,
          260.322,
          229.813,
          265.952,
          211.888,
          223.919,
          200.123,
          246.705,
          234.405,
          258.155,
          369.639,
          376.54,
          316.703,
          332.447,
          397.433,
          336.774,
          373.798,
          322.29,
          405.169,
          354.299,
          391.974,
          330.66,
          364.091,
          402.74,
          405.255,
          365.93,
          362.804,
          372.3,
          398.836,
          346.817,
          373.876,
          392.717,
          229.701,
          196.839,
          267.793,
          215.972,
          209.346,
          250.825,
          265.486,
          206.137,
          215.972,
          225.436,
          267.793,
          229.701,
          196.576,
          234.405,
          200.123,
          223.919,
          211.888,
          265.952,
          229.813,
          260.322,
          258.155,
          242.525,
          246.705,
          225.223,
          210.876,
          259.304,
          206.137,
          265.486,
          250.825,
          209.346,
          196.576,
          225.223,
          210.876,
          259.304,
          196.304,
          218.401,
          196.627,
          244.273,
          194.173,
          405.221,
          194.173,
          244.273,
          196.627,
          218.401,
          196.304,
          225.436,
          204.339,
          252.022,
          223.98,
          405.657,
          406.264,
          404.378,
          404.266,
          405.221,
          405.466,
          236.018,
          313.846,
          405.757,
          239.952,
          231.426,
          364.42,
          271.863,
          283.616,
          247.894,
          271.272,
          339.017,
          367.916,
          274.322,
          405.305,
          405.427,
          404.69,
          405.245,
          404.323,
          404.45,
          405.156,
          404.495,
          405.175,
          405.246,
          405.123,
          405.197,
          406.11,
          405.122,
          404.579,
          405.165,
          405.514,
          404.258,
          404.467,
          406.313,
          404.2,
          405.208,
          254.322,
          234.216,
          272.641,
          331.45,
          260.125,
          253.877,
          241.759,
          286.318,
          242.983,
          236.015,
          221.478,
          310.774,
          222.074,
          289.482,
          215.429,
          239.434,
          239.19,
          294.318,
          211.127,
          235.001,
          215.5,
          269.716,
          221.381,
          247.06,
          228.778,
          282.7,
          267.451,
          284.995,
          310.377,
          253.676,
          289.523,
          267.408,
          322.922,
          299.967,
          334.227,
          347.854,
          319.021,
          247.082,
          292.187,
          211.484,
          219.882,
          264.681,
          281.429,
          293.716,
          257.722,
          301.76,
          236.018,
          196.839,
          404.266,
          310.377,
          284.995,
          267.451,
          331.45,
          301.76,
          272.641,
          254.322,
          367.916,
          253.676,
          339.017,
          247.894,
          269.716,
          283.616,
          271.863,
          364.42,
          231.426,
          274.322,
          239.952,
          271.272,
          289.523,
          267.408,
          322.922,
          234.216,
          247.082,
          319.021,
          347.854,
          334.227,
          299.967,
          252.022,
          337.495,
          397.433,
          404.45,
          404.323,
          405.245,
          405.238,
          405.466,
          223.98,
          269.716,
          215.5,
          405.156,
          235.001,
          294.318,
          239.19,
          239.434,
          215.429,
          221.381,
          289.482,
          310.774,
          221.478,
          211.127,
          404.495,
          405.175,
          405.246,
          404.378,
          406.264,
          405.657,
          405.757,
          405.305,
          405.427,
          404.69,
          405.208,
          404.2,
          406.313,
          404.467,
          404.258,
          405.514,
          405.165,
          404.579,
          405.122,
          406.11,
          405.197,
          405.123,
          236.015,
          332.447,
          242.983,
          241.759,
          316.703,
          392.717,
          373.876,
          346.817,
          398.836,
          372.3,
          362.804,
          365.93,
          376.54,
          405.255,
          364.091,
          330.66,
          391.974,
          354.299,
          405.169,
          322.29,
          373.798,
          336.774,
          402.74,
          369.639,
          397.279,
          375.606,
          253.877,
          260.125,
          222.074,
          247.06,
          228.778,
          282.7,
          257.722,
          293.716,
          281.429,
          264.681,
          219.882,
          211.484,
          292.187,
          400.084,
          330.522,
          349.279,
          390.354,
          405.244,
          402.81,
          286.318,
          337.495,
          223.98
         ],
         "y0": " ",
         "yaxis": "y2"
        },
        {
         "alignmentgroup": "True",
         "hovertemplate": "Number of Nodes=150<br>BTP=True<br>Area Conf.=%{x}<br>Total Energy (J)=%{y}<extra></extra>",
         "legendgroup": "150",
         "marker": {
          "color": "#00cc96"
         },
         "name": "150",
         "notched": false,
         "offsetgroup": "150",
         "orientation": "v",
         "showlegend": true,
         "type": "box",
         "x": [
          300,
          200,
          400,
          400,
          400,
          400,
          400,
          400,
          400,
          400,
          400,
          400,
          400,
          400,
          400,
          400,
          400,
          400,
          400,
          400,
          400,
          400,
          400,
          400,
          400,
          400,
          400,
          400,
          400,
          400,
          400,
          400,
          400,
          100,
          100,
          100,
          100,
          100,
          100,
          100,
          100,
          100,
          100,
          100,
          100,
          100,
          100,
          100,
          100,
          100,
          200,
          200,
          200,
          200,
          200,
          200,
          200,
          200,
          200,
          200,
          200,
          200,
          100,
          100,
          100,
          100,
          100,
          100,
          100,
          100,
          100,
          100,
          100,
          200,
          200,
          200,
          400,
          400,
          400,
          400,
          400,
          400,
          400,
          400,
          400,
          400,
          400,
          400,
          400,
          400,
          400,
          400,
          400,
          400,
          400,
          400,
          400,
          400,
          400,
          400,
          400,
          400,
          400,
          400,
          200,
          200,
          200,
          200,
          200,
          200,
          200,
          200,
          200,
          200,
          200,
          200,
          200,
          200,
          400,
          100,
          100,
          100,
          100,
          100,
          100,
          100,
          100,
          100,
          100,
          100,
          100,
          100,
          100,
          100,
          100,
          100,
          100,
          100,
          100,
          100,
          100,
          100,
          100,
          100,
          100,
          100,
          100,
          100,
          300,
          300,
          300,
          300,
          300,
          300,
          300,
          300,
          300,
          300,
          300,
          300,
          300,
          300,
          300,
          300,
          300,
          300,
          300,
          300,
          300,
          300,
          300,
          300,
          300,
          300,
          300,
          300,
          300,
          100,
          500,
          500,
          500,
          500,
          500,
          500,
          500,
          500,
          500,
          500,
          500,
          500,
          500,
          500,
          500,
          500,
          500,
          500,
          500,
          500,
          500,
          500,
          500,
          500,
          500,
          500,
          500,
          500,
          500,
          100,
          500,
          100,
          500,
          500,
          500,
          500,
          500,
          500,
          500,
          500,
          500,
          500,
          500,
          500,
          500,
          500,
          500,
          500,
          500,
          500,
          200,
          200,
          200,
          200,
          200,
          200,
          200,
          200,
          200,
          200,
          200,
          200,
          200,
          200,
          200,
          200,
          200,
          200,
          200,
          200,
          200,
          500,
          500,
          500,
          500,
          500,
          500,
          500,
          500,
          500,
          500,
          500,
          500,
          500,
          500,
          500,
          500,
          500,
          500,
          500,
          500,
          500,
          500,
          500,
          500,
          500,
          200,
          200,
          200,
          200,
          500,
          200,
          200,
          200,
          200,
          200,
          200,
          200,
          200,
          200,
          300,
          300,
          300,
          300,
          300,
          300,
          300,
          300,
          300,
          300,
          300,
          300,
          300,
          200,
          300,
          300,
          300,
          300,
          500,
          500,
          500,
          500,
          300,
          300,
          300,
          300,
          300,
          300,
          300,
          300,
          300,
          300,
          300,
          300,
          300,
          500,
          200,
          200,
          200,
          200,
          200,
          200,
          200,
          200,
          200,
          200,
          200,
          200,
          200,
          200,
          200,
          200,
          500,
          500,
          500,
          400,
          400,
          400,
          400,
          400,
          400,
          400,
          400,
          400,
          400,
          400,
          400,
          400,
          400,
          400,
          400,
          400,
          400,
          400,
          100,
          100,
          100,
          100,
          100,
          100,
          500,
          100,
          400,
          100,
          100,
          100,
          100,
          100,
          100,
          100,
          100,
          100,
          100,
          400,
          400,
          100,
          200,
          200,
          200,
          400,
          400,
          400,
          400,
          400,
          400,
          400,
          400,
          100,
          100,
          300,
          100,
          100,
          100,
          100,
          100,
          100,
          100,
          100,
          500,
          100,
          200,
          200,
          200,
          200,
          200,
          500,
          500,
          500,
          500,
          500,
          300,
          300,
          200,
          300,
          300,
          300,
          300,
          300,
          300,
          300,
          300,
          300,
          300,
          300,
          300,
          300,
          300,
          300,
          500,
          300,
          300,
          300,
          300,
          300,
          300,
          300,
          300,
          300,
          100,
          300,
          300,
          300
         ],
         "x0": " ",
         "xaxis": "x",
         "y": [
          60.7131482598,
          87.43363021499995,
          37.413623216,
          35.750280576800016,
          93.05224490759996,
          29.850199136000008,
          59.59838223600001,
          95.41026639019996,
          49.82088902400002,
          31.1423308416,
          73.94865696080002,
          77.70373064419994,
          53.15461656720007,
          57.63722862819996,
          80.8864274038,
          43.76395758059997,
          89.50255165340006,
          38.579794357600015,
          48.34520931399996,
          36.57659912580002,
          86.68116649220005,
          27.74848829880001,
          53.90574010039999,
          72.08314367160001,
          86.75475148980003,
          58.767185259199984,
          106.49326325840002,
          64.76109478500007,
          26.2018671688,
          51.167943864999984,
          24.778187325099992,
          95.3544234564,
          27.5729728471,
          66.21180013180006,
          76.72087390020003,
          60.76232716350005,
          92.83150756989986,
          59.18724710400007,
          75.80444425839993,
          57.36994107200008,
          70.34333772630002,
          76.1030881035,
          57.01695427010005,
          94.80180167539989,
          74.21858223299989,
          66.36333312510004,
          62.41945128580004,
          53.4714965211001,
          76.0142083598,
          86.9949764363999,
          89.53028807059995,
          87.04020309420004,
          86.67723075599994,
          69.4945483238,
          58.34496478519998,
          79.11558934840004,
          80.61605546259996,
          85.21694126579997,
          68.1651471466,
          87.57147161739998,
          77.0113223082,
          85.17679932220001,
          61.72217523360006,
          67.13737540160001,
          68.58958124729998,
          58.885907637300086,
          76.78058532309996,
          94.39172538649991,
          63.9286879082,
          72.2499798375,
          72.37499653219999,
          77.33937269719998,
          75.51012016480003,
          54.02352328879999,
          91.48330178039996,
          86.49834042319996,
          20.924749345400016,
          48.67423500349999,
          30.91273865960002,
          38.201511416900026,
          56.81914279469999,
          44.777888050800016,
          53.702401476699976,
          78.17066622170005,
          45.64689181600001,
          84.82425896099993,
          40.71637012580003,
          35.65040060340004,
          51.41052839760001,
          24.8652875609,
          54.20475172080001,
          28.09614604409998,
          42.83543003799999,
          111.24283888459992,
          43.25698082200002,
          57.94936877679996,
          45.15136534769997,
          46.32117182560005,
          15.795774860000003,
          27.775900384200032,
          33.674065418400026,
          69.42758014229996,
          89.21892272259994,
          87.93918237719998,
          83.26640939719992,
          79.02954164329998,
          82.03331880920001,
          58.49658193639998,
          87.87518286739999,
          79.45761940680002,
          74.17821977660003,
          129.65905710180007,
          85.70712624340003,
          89.19369517720003,
          74.52016880680006,
          89.55261766640002,
          58.52333850520002,
          50.72816122880002,
          50.39539488020004,
          62.34064208490008,
          82.1821495602,
          73.79777757959998,
          71.39193774150004,
          67.58054477950004,
          67.51381897009999,
          72.63665888029998,
          68.38117360540006,
          72.93570634739999,
          77.31910252979993,
          70.84526522640002,
          59.32252738200007,
          67.17181518380005,
          70.2097367325,
          73.88404584059997,
          64.42397489440005,
          69.64774011459998,
          72.2391477826,
          70.44085689740001,
          75.19603063219996,
          66.70559917680004,
          74.32241702259994,
          77.02365181480006,
          72.63506228260009,
          70.153284862,
          69.31189762319995,
          72.08654026820003,
          80.93837762659994,
          76.29972468370002,
          81.0690930242,
          59.76115658180002,
          104.01775553010002,
          99.88025924929993,
          120.1861688271999,
          43.87740993360003,
          106.57560990389992,
          80.72940886520001,
          67.62793133359999,
          61.315072073000046,
          64.36135091700004,
          51.02821291749999,
          74.71622875720001,
          39.07086054000001,
          48.79851936839998,
          43.53709650459996,
          46.175144172600014,
          76.43585717289996,
          65.36690785980004,
          55.796586182800034,
          68.47749315259999,
          46.43469557040002,
          91.132149207,
          77.5927534363,
          48.01692462390004,
          86.46312652319995,
          59.37887228459997,
          75.29068267100006,
          67.14012583390003,
          76.9567053938,
          36.829189503400016,
          40.10227684880002,
          26.91803227840001,
          61.32419998039995,
          34.7671463182,
          27.33035646719999,
          30.295656832400024,
          22.58685567179999,
          26.161166101200003,
          41.02964481180001,
          42.01480577559998,
          48.999559642600026,
          50.48021018839997,
          26.80562611679999,
          47.25884007060005,
          22.733609234200006,
          46.9960300306,
          72.39854532300004,
          37.40222213720001,
          53.07571698419999,
          51.85392689579997,
          48.176948865,
          26.19839767280001,
          23.048554878100013,
          37.6619345967,
          29.819403227000013,
          30.463545807800013,
          94.13478597280005,
          33.213251158799984,
          60.226868123800095,
          78.29752671579995,
          80.37953188359998,
          32.33759798280001,
          62.759391198900005,
          48.11363878090002,
          37.75691529650001,
          62.39669495780003,
          51.27959116729999,
          28.778188781100024,
          34.65014129680002,
          70.42787634139998,
          34.6033535098,
          42.67923989590003,
          29.56919856769999,
          57.75552451749997,
          59.92387117360007,
          71.5211972376,
          21.794825646300005,
          25.524862128499983,
          27.24056717039998,
          73.20597625710005,
          73.97512432309995,
          85.01806224990001,
          85.72431241769999,
          87.4573328746999,
          55.59293984980002,
          42.44391404830002,
          80.5169177361999,
          76.56149217980001,
          81.8802198672,
          76.06236583339998,
          83.1073684543999,
          63.81328257439999,
          78.51106254759995,
          76.8060355633999,
          71.04106456940004,
          62.76366702040001,
          75.61769941740002,
          75.4595544086,
          83.60482885890004,
          65.80442192939998,
          78.34294767679997,
          63.32445527430001,
          78.10673335199998,
          31.22408170279999,
          37.84031542820001,
          20.557714157800024,
          26.66654449420001,
          40.55995068380001,
          98.34614754690004,
          68.73350803310001,
          42.6872353277,
          24.21470587240001,
          20.962444001,
          45.15699066599998,
          59.40758238380006,
          64.77483538659999,
          28.747618022300006,
          56.182753562,
          44.95777958230004,
          61.315369125600014,
          59.0105569707,
          59.440225693600055,
          51.41413792600002,
          67.92911945059998,
          32.465493099699984,
          89.01614384920003,
          93.86221069290002,
          102.3281445242,
          73.20664847869999,
          53.539029504300025,
          91.84304270700002,
          70.21634753780002,
          60.95030358510003,
          74.97906100059998,
          95.42772992500008,
          83.38731504940006,
          136.1571521675999,
          103.26858720169996,
          108.2882428064,
          85.41941000659996,
          89.62655785230004,
          139.72522045399995,
          67.13929505519995,
          76.14822019179992,
          49.0975411424,
          36.9482872188,
          120.60431095429992,
          64.2624455516,
          49.913748863600006,
          55.710698436899975,
          73.5553956249,
          64.36509028569998,
          81.83881977379997,
          51.18746736579998,
          42.51534400319999,
          108.98012186009998,
          84.07941113700002,
          71.13044102699999,
          50.3392048911,
          22.8216685599,
          56.771309030800026,
          63.36060936279999,
          46.1774143107,
          101.82685550669994,
          67.01632344720002,
          31.62269113979997,
          123.960466152,
          45.10000408130002,
          51.94301924900001,
          57.520228391100005,
          129.6366791295999,
          106.0332163262,
          57.34797659369998,
          54.63839289420003,
          39.34593317370001,
          62.73829311560004,
          107.91080552119988,
          84.91579365219992,
          84.6012494868,
          59.83359886100003,
          113.01260799819995,
          72.33636722780005,
          72.43798173240002,
          90.90424198479992,
          80.82146968819997,
          66.83439284360006,
          84.80982045699999,
          75.60186880199996,
          65.23703028919998,
          111.59436006279996,
          77.32455106279991,
          28.791989010399995,
          29.0688649649,
          102.6697403586,
          44.52448115230005,
          77.89910759169994,
          95.98695338150004,
          21.96034742049998,
          31.708908971300023,
          108.62063164770004,
          55.1526875378,
          33.43656679080001,
          51.27684794519999,
          68.1164038807,
          31.85439236420001,
          30.389068448699994,
          23.873848917200007,
          82.58354757810005,
          40.29295095399999,
          55.31337293199999,
          54.47725340819999,
          46.683886758600025,
          45.16073421090001,
          70.78782489709995,
          80.16815856479997,
          70.2573730341,
          67.34989124340004,
          62.19311166390002,
          73.14427112559997,
          28.2861087925,
          70.502461096,
          94.67462215130008,
          71.07427497199998,
          72.39651945929994,
          66.78362345810004,
          74.0334997278,
          68.57819742200004,
          76.19285719029997,
          64.76955972700004,
          77.16214805260006,
          74.7472637118,
          60.96222708810004,
          51.90423295790003,
          39.58501698310003,
          78.18373898279997,
          90.42632596469991,
          76.8366019741,
          65.82552456430003,
          37.229381870800026,
          56.61418341660002,
          24.001237941299998,
          79.77235732799998,
          60.270426280200034,
          108.85706916160004,
          26.9634552735,
          40.8895681528,
          77.07601153059996,
          76.00074813329998,
          78.80137190840006,
          62.88200659900001,
          68.75918985909999,
          80.89582113349996,
          68.14650523360005,
          71.78119995470001,
          78.27594606019998,
          70.9540641031001,
          66.48927536020007,
          53.67858965989999,
          49.73210003420003,
          91.72468757569992,
          80.72081475359997,
          90.71998145319998,
          89.35406979889994,
          97.06345120080002,
          21.889264354600005,
          31.523100287799995,
          35.62032655620001,
          54.18861254349997,
          41.753030651500005,
          74.43396770619998,
          67.2578228416,
          73.7815349929,
          58.08034557839997,
          46.79166361659999,
          57.13363596920002,
          59.96934679940003,
          66.150410264,
          39.02155945419999,
          66.92352602460001,
          49.49121376280002,
          70.92757607760004,
          127.7102276112,
          60.47208076940005,
          79.06378225840005,
          76.0527651076,
          78.84086490900009,
          47.74270238220002,
          37.584015991,
          71.32068145759997,
          115.3220927409999,
          29.884583383600003,
          54.74818291520002,
          119.39613652779992,
          47.115186514400015,
          56.77977179699999,
          103.2282157618,
          126.657126296,
          82.99905231529993,
          82.09830301920002,
          61.13761282479997,
          75.00547658900003
         ],
         "y0": " ",
         "yaxis": "y"
        },
        {
         "alignmentgroup": "True",
         "hovertemplate": "Number of Nodes=150<br>BTP=False<br>Area Conf.=%{x}<br>Total Energy (J)=%{y}<extra></extra>",
         "legendgroup": "150",
         "marker": {
          "color": "#00cc96"
         },
         "name": "150",
         "notched": false,
         "offsetgroup": "150",
         "orientation": "v",
         "showlegend": false,
         "type": "box",
         "x": [
          500,
          100,
          500,
          100,
          500,
          500,
          500,
          500,
          500,
          500,
          500,
          500,
          500,
          500,
          400,
          500,
          500,
          500,
          500,
          500,
          500,
          500,
          500,
          500,
          500,
          500,
          500,
          500,
          500,
          500,
          500,
          500,
          500,
          500,
          500,
          500,
          500,
          500,
          500,
          500,
          500,
          500,
          500,
          500,
          500,
          500,
          500,
          500,
          500,
          500,
          500,
          500,
          500,
          500,
          500,
          500,
          500,
          500,
          500,
          500,
          500,
          500,
          500,
          400,
          300,
          300,
          300,
          300,
          300,
          300,
          300,
          300,
          300,
          300,
          300,
          400,
          400,
          400,
          400,
          400,
          400,
          400,
          400,
          400,
          400,
          400,
          400,
          400,
          400,
          400,
          400,
          400,
          400,
          400,
          400,
          400,
          400,
          400,
          400,
          400,
          400,
          400,
          400,
          400,
          400,
          200,
          200,
          200,
          200,
          200,
          200,
          200,
          200,
          200,
          200,
          200,
          200,
          200,
          200,
          300,
          300,
          300,
          300,
          300,
          300,
          300,
          300,
          200,
          200,
          200,
          200,
          200,
          200,
          200,
          200,
          200,
          200,
          200,
          200,
          200,
          200,
          300,
          300,
          200,
          400,
          400,
          400,
          200,
          100,
          200,
          200,
          100,
          100,
          100,
          100,
          100,
          100,
          200,
          200,
          200,
          200,
          200,
          200,
          400,
          400,
          400,
          200,
          400,
          400,
          400,
          400,
          400,
          400,
          400,
          400,
          400,
          200,
          200,
          200,
          200,
          200,
          200,
          200,
          200,
          200,
          200,
          200,
          200,
          200,
          200,
          200,
          200,
          200,
          200,
          200,
          200,
          100,
          100,
          100,
          100,
          100,
          100,
          100,
          100,
          100,
          100,
          100,
          100,
          100,
          100,
          100,
          100,
          100,
          100,
          100,
          100,
          100,
          100,
          100,
          100,
          100,
          100,
          100,
          100,
          100,
          100,
          100,
          100,
          100,
          100,
          100,
          100,
          100,
          100,
          100,
          100,
          100,
          100,
          100,
          100,
          100,
          100,
          100,
          100,
          100,
          400,
          400,
          400,
          400,
          100,
          100,
          100,
          100,
          100,
          100,
          100,
          100,
          100,
          100,
          100,
          100,
          100,
          100,
          100,
          100,
          400,
          400,
          400,
          100,
          400,
          400,
          400,
          400,
          400,
          400,
          400,
          400,
          400,
          400,
          400,
          400,
          400,
          400,
          400,
          400,
          100,
          100,
          100,
          100,
          100,
          100,
          100,
          100,
          100,
          100,
          100,
          100,
          400,
          400,
          400,
          400,
          400,
          400,
          300,
          300,
          300,
          300,
          300,
          300,
          300,
          300,
          300,
          300,
          300,
          300,
          300,
          300,
          300,
          300,
          300,
          300,
          300,
          300,
          400,
          400,
          400,
          400,
          400,
          400,
          400,
          300,
          400,
          400,
          400,
          400,
          300,
          300,
          300,
          300,
          400,
          300,
          300,
          300,
          300,
          300,
          300,
          300,
          300,
          300,
          300,
          300,
          300,
          300,
          300,
          300,
          300,
          300,
          300,
          300,
          300,
          300,
          300,
          300,
          100,
          100,
          300,
          300,
          300,
          300,
          300,
          300,
          300,
          300,
          300,
          300,
          300,
          300,
          200,
          400,
          200,
          200,
          100,
          200,
          400,
          200,
          200,
          200,
          300,
          300,
          300,
          500,
          300,
          300,
          300,
          300,
          200,
          200,
          200,
          200,
          200,
          200,
          200,
          200,
          200,
          200,
          200,
          200,
          200,
          200,
          200,
          200,
          200,
          200,
          200,
          200,
          200,
          300,
          300,
          200,
          500,
          500,
          500,
          500,
          500,
          500,
          500,
          500,
          500,
          500,
          500,
          500,
          500,
          500,
          500,
          500,
          500,
          500,
          500,
          500,
          500,
          500,
          500,
          500,
          500,
          500,
          500,
          500,
          500,
          200,
          200
         ],
         "x0": " ",
         "xaxis": "x2",
         "y": [
          329.923,
          607.737,
          370.439,
          607.443,
          360.638,
          330.108,
          329.923,
          370.439,
          358.529,
          288.82,
          360.638,
          335.743,
          353.74,
          371.073,
          419.544,
          364.292,
          333.897,
          358.529,
          352.353,
          316.429,
          360.833,
          323.311,
          285.399,
          355.941,
          369.03,
          373.494,
          366.754,
          362.816,
          379.531,
          320.012,
          352.23,
          302.93,
          316.429,
          340.15,
          352.353,
          333.897,
          353.74,
          335.743,
          349.262,
          330.883,
          370.261,
          311.296,
          302.93,
          352.23,
          349.262,
          320.012,
          362.816,
          366.754,
          373.494,
          369.03,
          355.941,
          285.399,
          323.311,
          360.833,
          379.531,
          330.883,
          370.261,
          311.296,
          371.073,
          330.108,
          364.292,
          340.15,
          288.82,
          364.129,
          447.877,
          430.293,
          377.341,
          418.864,
          434.19,
          481.177,
          520.306,
          429.004,
          476.95,
          414.348,
          448.682,
          419.544,
          360.763,
          377.068,
          364.368,
          434.723,
          324.165,
          385.148,
          442.7,
          355.588,
          407.274,
          370.141,
          335.536,
          364.129,
          410.568,
          326.529,
          390.288,
          358.903,
          452.477,
          405.316,
          383.977,
          302.1,
          378.225,
          404.006,
          452.275,
          395.48,
          400.505,
          341.265,
          375.936,
          382.709,
          363.019,
          596.909,
          567.941,
          527.349,
          599.582,
          559.06,
          607.071,
          599.328,
          561.214,
          498.382,
          566.259,
          592.902,
          605.74,
          574.309,
          591.389,
          538.834,
          481.399,
          445.082,
          349.932,
          429.79,
          470.603,
          368.061,
          483.944,
          530.687,
          550.132,
          594.067,
          525.068,
          579.889,
          583.156,
          587.225,
          556.793,
          577.869,
          602.264,
          513.118,
          597.894,
          592.763,
          567.643,
          499.161,
          430.296,
          571.475,
          410.568,
          382.709,
          390.288,
          567.643,
          609.44,
          592.763,
          597.894,
          606.554,
          607.613,
          609.44,
          607.229,
          607.737,
          607.443,
          513.118,
          577.869,
          527.349,
          593.326,
          567.941,
          596.909,
          419.544,
          364.129,
          410.568,
          599.582,
          326.529,
          358.903,
          452.477,
          405.316,
          383.977,
          302.1,
          378.225,
          404.006,
          390.288,
          602.264,
          559.06,
          599.328,
          571.475,
          556.793,
          587.225,
          583.156,
          579.889,
          525.068,
          594.067,
          607.071,
          550.132,
          591.389,
          574.309,
          605.74,
          592.902,
          566.259,
          498.382,
          561.214,
          530.687,
          633.711,
          607.375,
          607.263,
          607.776,
          608.216,
          720.974,
          607.139,
          607.613,
          606.25,
          607.481,
          606.829,
          633.711,
          607.375,
          607.263,
          606.571,
          607.14,
          607.394,
          653.5,
          606.869,
          607.25,
          608.917,
          606.489,
          607.416,
          606.254,
          606.437,
          609.314,
          608.012,
          607.544,
          607.481,
          606.869,
          606.829,
          608.012,
          609.314,
          606.437,
          606.254,
          606.25,
          607.416,
          608.917,
          607.544,
          607.25,
          653.5,
          607.394,
          607.14,
          606.571,
          606.489,
          607.776,
          608.216,
          720.974,
          607.139,
          452.275,
          395.48,
          400.505,
          341.265,
          720.974,
          608.216,
          607.776,
          606.25,
          606.869,
          606.829,
          608.012,
          609.314,
          606.437,
          606.254,
          607.416,
          607.481,
          606.489,
          608.917,
          607.544,
          607.25,
          370.141,
          363.019,
          335.536,
          606.554,
          375.936,
          341.265,
          400.505,
          407.274,
          395.48,
          404.006,
          378.225,
          302.1,
          383.977,
          405.316,
          452.477,
          358.903,
          452.275,
          360.763,
          377.068,
          364.368,
          653.5,
          607.394,
          607.14,
          606.571,
          607.263,
          607.375,
          633.711,
          607.443,
          606.554,
          607.613,
          609.44,
          607.229,
          355.588,
          442.7,
          385.148,
          324.165,
          434.723,
          326.529,
          445.082,
          349.932,
          434.19,
          481.177,
          520.306,
          429.004,
          476.95,
          481.399,
          414.348,
          448.682,
          377.341,
          430.293,
          447.877,
          477.552,
          414.409,
          446.915,
          418.864,
          448.611,
          538.834,
          470.603,
          375.936,
          382.709,
          335.536,
          363.019,
          370.141,
          407.274,
          360.763,
          429.79,
          377.068,
          434.723,
          324.165,
          385.148,
          499.161,
          430.296,
          483.944,
          368.061,
          364.368,
          537.129,
          356.525,
          481.948,
          429.004,
          520.306,
          481.177,
          434.19,
          349.932,
          445.082,
          481.399,
          476.95,
          538.834,
          470.603,
          368.061,
          483.944,
          430.296,
          499.161,
          429.79,
          414.348,
          418.864,
          448.682,
          502.98,
          427.35,
          607.229,
          607.139,
          427.35,
          502.98,
          481.948,
          356.525,
          537.129,
          448.611,
          446.915,
          414.409,
          477.552,
          447.877,
          430.293,
          377.341,
          593.326,
          442.7,
          597.894,
          513.118,
          607.737,
          596.909,
          355.588,
          602.264,
          577.869,
          571.475,
          427.35,
          502.98,
          481.948,
          329.923,
          356.525,
          537.129,
          448.611,
          446.915,
          559.06,
          607.071,
          599.328,
          561.214,
          498.382,
          566.259,
          592.902,
          605.74,
          599.582,
          574.309,
          530.687,
          550.132,
          594.067,
          525.068,
          579.889,
          583.156,
          587.225,
          556.793,
          591.389,
          527.349,
          567.941,
          414.409,
          477.552,
          593.326,
          349.262,
          352.23,
          302.93,
          316.429,
          340.15,
          352.353,
          333.897,
          320.012,
          353.74,
          360.638,
          288.82,
          358.529,
          335.743,
          362.816,
          373.494,
          311.296,
          366.754,
          330.883,
          379.531,
          360.833,
          323.311,
          285.399,
          355.941,
          369.03,
          370.261,
          371.073,
          330.108,
          364.292,
          370.439,
          567.643,
          592.763
         ],
         "y0": " ",
         "yaxis": "y2"
        },
        {
         "alignmentgroup": "True",
         "hovertemplate": "Number of Nodes=200<br>BTP=True<br>Area Conf.=%{x}<br>Total Energy (J)=%{y}<extra></extra>",
         "legendgroup": "200",
         "marker": {
          "color": "#ab63fa"
         },
         "name": "200",
         "notched": false,
         "offsetgroup": "200",
         "orientation": "v",
         "showlegend": true,
         "type": "box",
         "x": [
          300,
          300,
          300,
          300,
          300,
          300,
          300,
          300,
          100,
          100,
          100,
          100,
          100,
          100,
          100,
          100,
          100,
          100,
          100,
          100,
          100,
          100,
          100,
          100,
          100,
          100,
          100,
          100,
          100,
          100,
          100,
          100,
          100,
          100,
          100,
          100,
          100,
          100,
          300,
          300,
          100,
          300,
          200,
          200,
          200,
          200,
          200,
          200,
          200,
          200,
          200,
          400,
          200,
          500,
          500,
          500,
          500,
          500,
          500,
          500,
          500,
          500,
          500,
          500,
          500,
          500,
          500,
          500,
          500,
          500,
          500,
          500,
          500,
          500,
          500,
          500,
          500,
          500,
          500,
          500,
          500,
          500,
          500,
          200,
          200,
          200,
          400,
          400,
          400,
          400,
          400,
          400,
          400,
          400,
          400,
          400,
          300,
          300,
          300,
          300,
          300,
          300,
          300,
          300,
          300,
          300,
          300,
          300,
          300,
          300,
          300,
          300,
          300,
          300,
          400,
          400,
          400,
          400,
          200,
          200,
          200,
          200,
          200,
          200,
          200,
          200,
          200,
          200,
          200,
          200,
          200,
          200,
          200,
          200,
          200,
          400,
          400,
          400,
          400,
          400,
          400,
          400,
          400,
          400,
          400,
          400,
          400,
          400,
          400,
          300,
          400,
          500,
          500,
          500,
          500,
          500,
          500,
          200,
          500,
          500,
          500,
          500,
          500,
          500,
          500,
          500,
          500,
          500,
          500,
          500,
          500,
          500,
          500,
          500,
          500,
          500,
          500,
          500,
          500,
          500,
          500,
          500,
          500,
          300,
          300,
          500,
          500,
          500,
          300,
          300,
          500,
          300,
          300,
          300,
          300,
          300,
          300,
          300,
          300,
          300,
          300,
          300,
          300,
          300,
          300,
          300,
          300,
          300,
          300,
          300,
          300,
          300,
          300,
          300,
          300,
          300,
          500,
          500,
          500,
          200,
          200,
          200,
          200,
          200,
          200,
          200,
          200,
          200,
          500,
          500,
          500,
          500,
          500,
          500,
          500,
          500,
          500,
          500,
          500,
          500,
          500,
          100,
          100,
          100,
          100,
          500,
          100,
          100,
          100,
          100,
          100,
          100,
          100,
          100,
          500,
          500,
          500,
          200,
          200,
          200,
          200,
          200,
          200,
          200,
          200,
          200,
          200,
          200,
          200,
          200,
          200,
          200,
          200,
          200,
          200,
          200,
          200,
          200,
          200,
          200,
          200,
          200,
          200,
          200,
          400,
          500,
          100,
          100,
          100,
          100,
          100,
          100,
          100,
          100,
          100,
          200,
          400,
          300,
          300,
          300,
          300,
          300,
          300,
          300,
          300,
          300,
          300,
          300,
          300,
          300,
          300,
          300,
          300,
          300,
          300,
          300,
          300,
          300,
          300,
          300,
          200,
          100,
          500,
          500,
          500,
          500,
          300,
          300,
          300,
          300,
          400,
          400,
          400,
          400,
          400,
          400,
          400,
          400,
          400,
          400,
          400,
          400,
          400,
          400,
          400,
          400,
          400,
          300,
          300,
          300,
          300,
          400,
          400,
          400,
          400,
          400,
          400,
          400,
          400,
          400,
          400,
          400,
          200,
          200,
          200,
          100,
          100,
          100,
          100,
          100,
          100,
          100,
          100,
          100,
          100,
          100,
          100,
          100,
          100,
          400,
          400,
          400,
          400,
          400,
          400,
          400,
          400,
          400,
          400,
          400,
          400,
          100,
          100,
          100,
          100,
          400,
          200,
          100,
          100,
          100,
          100,
          100,
          100,
          100,
          100,
          100,
          100,
          100,
          100,
          400,
          400,
          400,
          100,
          400,
          400,
          400,
          400,
          400,
          400,
          400,
          400,
          400,
          400,
          400,
          400,
          400,
          400,
          200,
          200,
          200,
          200,
          200,
          200,
          200,
          200,
          200,
          200,
          200,
          200,
          200,
          200,
          200,
          200,
          100,
          100,
          100,
          100,
          100,
          100,
          200
         ],
         "x0": " ",
         "xaxis": "x",
         "y": [
          61.56270983820007,
          152.0185104644001,
          69.16047978939999,
          82.8374560284,
          49.36294407620005,
          60.30837300220006,
          51.75772112179998,
          115.26216865520004,
          74.26607809219995,
          94.57633490119991,
          76.59325429059993,
          94.03027874829974,
          74.31890339,
          95.89244651799986,
          92.66828662879992,
          100.3752564583999,
          76.47716105259995,
          83.88920081759987,
          105.13269589399984,
          88.16022456859994,
          82.10965740499981,
          97.7444466933998,
          83.22348299779988,
          90.65540324529992,
          94.24615059179996,
          76.9648842406,
          92.90170241619984,
          98.34148656739993,
          91.94350381119985,
          100.87338736299976,
          97.20098048759992,
          92.5044408717998,
          94.18009195339984,
          79.8561625966,
          78.56560729019999,
          92.61271112259983,
          75.37793065900009,
          127.22210069219967,
          63.733025487400006,
          59.29777571980005,
          99.03425538959983,
          51.19344386439997,
          108.0176105294,
          129.65832629399992,
          107.57180427399996,
          113.69175215119992,
          93.4593920527999,
          113.61015848599996,
          83.69529509859993,
          106.96161686559988,
          113.88889409339988,
          75.46561672220005,
          100.16912661099998,
          43.9216146118,
          58.21576512420005,
          50.97692030599999,
          22.56816158080003,
          42.51933982319999,
          66.58698848079999,
          53.87547252360003,
          128.89912169939998,
          43.22971228259999,
          56.73288580200001,
          62.81987748120001,
          57.28251918039999,
          84.23088712780006,
          32.14422197239999,
          44.012266746400016,
          91.77121754019994,
          47.17418269119998,
          39.95566379339999,
          88.84298176820009,
          47.82813506140002,
          104.59881745279996,
          84.76036592219997,
          42.72775286859999,
          43.1142371866,
          52.33960771240002,
          52.830123332999975,
          52.479485515599976,
          39.48042455280003,
          69.5656476166,
          31.006198929399982,
          96.15699681380002,
          115.57510171599992,
          204.7766634781999,
          66.40238845719999,
          73.37855121359999,
          39.1558219894,
          111.3325215918,
          64.15677658580002,
          56.6019094712,
          60.87731124180004,
          52.7335830354,
          88.033363438,
          61.40052848779999,
          117.11292844279994,
          83.66796281859996,
          103.41710500580004,
          58.09521742440003,
          143.03156876480008,
          127.93918069659996,
          66.76340995360005,
          76.23860255399995,
          88.09630668979996,
          88.0045914846,
          131.8131669154,
          133.5455428516002,
          78.13267725899995,
          20.00369464119998,
          149.2350342468,
          63.95154161539996,
          146.30970617919996,
          116.70331699619992,
          62.2052738198,
          100.26980451339996,
          58.6944093428,
          25.914469872799987,
          87.7948759963999,
          71.20901496680003,
          114.97636578499991,
          93.67239703799984,
          109.38717685559996,
          107.46340365459989,
          77.18762718219999,
          106.36712308859984,
          97.4857619345999,
          102.33917251979992,
          86.86512416500001,
          81.15472940920006,
          152.47771742679993,
          104.15227627979996,
          100.29087068919996,
          141.77910516959992,
          110.44964028719986,
          82.88185419779992,
          42.368332622100034,
          97.05707406799992,
          98.91234350360004,
          42.0455123106,
          38.02837246839999,
          35.41943482420002,
          42.38279802819999,
          53.24683892180005,
          87.34524028859994,
          40.334850374800055,
          128.3769442936,
          61.8741398626,
          49.54426311299995,
          51.88107441560005,
          100.9299042118001,
          68.59855271820007,
          34.505704808,
          34.9346432757,
          39.68054724919996,
          101.99389661299996,
          38.57422170279999,
          143.9714232718999,
          48.0482532018,
          55.17079109110005,
          27.546687655599992,
          24.69912898480001,
          34.945277205800025,
          25.5487899038,
          52.242993327,
          37.935658821,
          32.78454385099998,
          48.65582006499999,
          75.4300801404001,
          39.64658789039999,
          52.20562063180004,
          42.0094812809,
          43.98563775539998,
          31.745328066599985,
          79.00480766439995,
          83.9667976073,
          36.71261021980001,
          75.03361804309998,
          29.977270597799997,
          120.66524051639998,
          127.39104571059995,
          36.34792089620002,
          106.18253270409998,
          144.83571652760003,
          63.53713535999997,
          47.98500381069997,
          41.85428459249997,
          74.5757352489,
          119.17015245199994,
          73.30813180319994,
          34.933779086600005,
          60.1286163711,
          122.76955090199988,
          116.2610720251,
          59.51648973559999,
          67.91671516930002,
          71.96701366019997,
          51.89491730490005,
          110.9204829537,
          86.24091201560002,
          51.281313697,
          104.26886812779998,
          126.81655122869994,
          82.90007119930004,
          101.92371476100004,
          69.34276863979998,
          82.52155883970005,
          64.68545454299998,
          100.06680293559997,
          64.34753458740003,
          144.38743906830007,
          65.0885269784,
          75.38086228969996,
          64.96098101080004,
          97.55277034399988,
          47.58320236890001,
          62.67856401939999,
          42.22696119359999,
          42.17741081710003,
          66.26664133850004,
          99.85250166650002,
          164.1370849999998,
          115.34735526730005,
          129.9919372304001,
          141.1974403604001,
          112.21852003079994,
          151.5354340118999,
          155.75549094619998,
          52.80740651510002,
          27.86989043540002,
          84.2338813412999,
          28.409896271,
          22.191194841000023,
          84.14677403360001,
          41.081061133399984,
          36.65534502890002,
          78.06352318119995,
          43.96161266299998,
          61.93846415750004,
          34.68195474780001,
          26.54573520810002,
          90.48586926519997,
          86.0017415887999,
          92.6217376653998,
          95.28750841439984,
          36.88748044179996,
          77.52058752730002,
          95.07661253779978,
          98.20768217479986,
          86.54401681459986,
          93.84896382539988,
          98.54384063400002,
          95.6994903633999,
          89.16470576019992,
          42.16643563270002,
          86.20311732889996,
          65.3669780127,
          139.7861391673,
          77.31314017179992,
          113.2657501667999,
          97.66758320419991,
          113.4612502523999,
          94.48534400819987,
          148.50787413599977,
          119.13737154719986,
          99.9781860005999,
          220.8669523298002,
          119.28388509459992,
          81.57887161219999,
          79.97144417740002,
          81.30257804340003,
          96.39018958039996,
          99.32922230890004,
          101.41979549219992,
          150.09547975399985,
          128.230931989,
          115.40810695519993,
          90.05337042939999,
          99.40233575610009,
          153.11223163199995,
          74.67221928019998,
          155.42284256159988,
          113.91756851879984,
          100.0287941122,
          54.06151529199998,
          41.5477039619,
          102.57610942419996,
          100.50393540079992,
          107.12955157349988,
          89.63063307639993,
          89.63432538159994,
          90.88707461999994,
          102.98604903099988,
          97.5224041453998,
          88.58420682979988,
          157.79551372729978,
          110.9514510847,
          114.3224805805999,
          74.2427026872,
          79.08753171800001,
          61.14786554809998,
          124.55808521259988,
          89.98058883099995,
          88.01033035919998,
          66.82560590140005,
          68.09402324900009,
          97.67325743079996,
          56.93913897880002,
          89.00236716499997,
          45.7049470552,
          57.29181776580005,
          98.00905443159996,
          70.59733665579991,
          61.432228409200064,
          98.94118416319996,
          131.58972065660006,
          118.0474499773999,
          66.3384557112,
          114.86460671919988,
          57.36314374580001,
          107.5989367882,
          91.08193475059991,
          75.74201708490001,
          81.86424672349993,
          69.7818632083,
          41.424283757000026,
          88.3111335402,
          70.40515043270001,
          67.97019053240005,
          127.71316075249996,
          47.14613381189998,
          57.292135388899936,
          64.988254327,
          47.32358281150002,
          114.5804460148,
          49.489475503,
          34.489879499,
          37.22102274989999,
          40.929125026199976,
          45.29153588100001,
          67.32400985260001,
          138.80419414480002,
          84.02784491519989,
          64.47048107169998,
          102.8876331329,
          118.5646817645,
          93.76711553450004,
          54.9642735142,
          85.71752877079999,
          126.61334014819988,
          117.91186394209994,
          63.977350873400056,
          67.85626776230002,
          40.9699010858,
          44.99206433469998,
          56.0869711495,
          138.0669296081,
          54.153978237500006,
          75.99098157349997,
          49.93588731260001,
          64.92547911939998,
          139.3675927713998,
          136.73275405919998,
          103.15285246820002,
          128.21178452869995,
          112.09147185869996,
          101.76345069449992,
          97.00620850959982,
          91.19398901599992,
          109.29687944279972,
          94.58690316639984,
          96.2197352476999,
          89.16534218579984,
          91.37539134640004,
          95.82179717899994,
          87.73424498299987,
          113.08182857279968,
          96.75450147259986,
          97.86438419309988,
          50.00022598300002,
          48.10942726439998,
          128.18091638409987,
          64.79167410099998,
          87.26563977099995,
          54.2799788438,
          88.59971302399993,
          33.4728341477,
          30.92320098890002,
          37.093764418900015,
          78.99847477919998,
          58.83770911480005,
          110.22550195439987,
          105.15865872639976,
          99.77462672769984,
          94.40542085949984,
          58.28646516839997,
          90.55689885059986,
          91.83995012469984,
          88.94965656409997,
          92.94585052399988,
          95.3008194569998,
          100.11133395639996,
          112.21671900739992,
          95.79839983139986,
          101.18760914369985,
          92.33095691839992,
          87.85684994049981,
          89.38373755269997,
          93.89937925829992,
          46.86593709199999,
          90.58324023849994,
          45.86349180790001,
          99.1775402936,
          56.291268460900056,
          55.02603136070002,
          99.33493662979996,
          75.55945256770002,
          71.77966107040001,
          65.01060334620001,
          54.144638567500095,
          40.70727586,
          66.79058645620005,
          32.880477676800005,
          126.36776427509996,
          67.13941826400003,
          98.64613695129992,
          58.86059409760005,
          153.4297958186,
          102.09070735349992,
          139.0479607780999,
          167.67210321969998,
          101.8787973197999,
          175.42369352379978,
          109.05195583199986,
          170.63552417159997,
          105.7156544642,
          119.6511617039,
          109.70400390130004,
          113.55987609189984,
          114.99982440549992,
          86.33668160419998,
          120.67439099679991,
          123.78595188409996,
          101.42451644689976,
          102.72934963559992,
          96.4349854613998,
          92.35729098479985,
          104.32305213659993,
          93.03453067639984,
          116.30080905339987
         ],
         "y0": " ",
         "yaxis": "y"
        },
        {
         "alignmentgroup": "True",
         "hovertemplate": "Number of Nodes=200<br>BTP=False<br>Area Conf.=%{x}<br>Total Energy (J)=%{y}<extra></extra>",
         "legendgroup": "200",
         "marker": {
          "color": "#ab63fa"
         },
         "name": "200",
         "notched": false,
         "offsetgroup": "200",
         "orientation": "v",
         "showlegend": false,
         "type": "box",
         "x": [
          100,
          100,
          100,
          100,
          100,
          100,
          100,
          100,
          100,
          100,
          100,
          100,
          100,
          100,
          100,
          100,
          100,
          100,
          100,
          100,
          100,
          100,
          100,
          100,
          100,
          100,
          100,
          100,
          300,
          200,
          200,
          200,
          200,
          200,
          200,
          300,
          300,
          300,
          300,
          300,
          300,
          300,
          300,
          300,
          300,
          300,
          300,
          200,
          200,
          200,
          200,
          100,
          100,
          100,
          100,
          100,
          100,
          100,
          100,
          100,
          100,
          100,
          100,
          100,
          100,
          100,
          100,
          100,
          100,
          100,
          100,
          100,
          100,
          100,
          100,
          100,
          100,
          200,
          200,
          200,
          200,
          200,
          200,
          200,
          200,
          200,
          200,
          200,
          200,
          200,
          200,
          200,
          200,
          200,
          200,
          200,
          200,
          100,
          100,
          100,
          100,
          400,
          400,
          400,
          400,
          400,
          500,
          500,
          500,
          500,
          500,
          500,
          500,
          500,
          500,
          500,
          500,
          500,
          500,
          500,
          500,
          500,
          500,
          500,
          500,
          500,
          500,
          500,
          500,
          500,
          400,
          500,
          400,
          400,
          400,
          400,
          400,
          400,
          400,
          400,
          400,
          400,
          400,
          400,
          400,
          400,
          400,
          400,
          400,
          400,
          400,
          400,
          400,
          400,
          500,
          500,
          400,
          400,
          400,
          400,
          400,
          400,
          400,
          400,
          400,
          400,
          400,
          400,
          400,
          400,
          400,
          400,
          400,
          400,
          400,
          400,
          400,
          400,
          400,
          400,
          400,
          400,
          400,
          500,
          400,
          500,
          400,
          500,
          400,
          100,
          100,
          100,
          100,
          100,
          100,
          100,
          100,
          100,
          100,
          100,
          100,
          100,
          100,
          100,
          100,
          100,
          300,
          400,
          400,
          100,
          100,
          100,
          100,
          100,
          100,
          100,
          100,
          100,
          100,
          100,
          100,
          100,
          100,
          100,
          500,
          500,
          500,
          500,
          500,
          500,
          500,
          500,
          500,
          500,
          500,
          500,
          500,
          500,
          500,
          500,
          500,
          500,
          500,
          500,
          500,
          500,
          500,
          500,
          500,
          500,
          500,
          500,
          500,
          500,
          300,
          300,
          300,
          500,
          500,
          500,
          500,
          500,
          500,
          500,
          500,
          500,
          500,
          500,
          500,
          500,
          500,
          500,
          500,
          500,
          500,
          500,
          500,
          500,
          500,
          500,
          500,
          500,
          300,
          500,
          500,
          500,
          500,
          500,
          200,
          200,
          200,
          200,
          200,
          200,
          200,
          200,
          200,
          200,
          200,
          200,
          200,
          200,
          200,
          200,
          200,
          200,
          200,
          200,
          200,
          200,
          200,
          200,
          200,
          200,
          200,
          200,
          200,
          200,
          200,
          200,
          200,
          200,
          200,
          200,
          200,
          200,
          200,
          200,
          200,
          200,
          200,
          200,
          300,
          300,
          300,
          300,
          300,
          300,
          300,
          300,
          300,
          300,
          300,
          300,
          300,
          300,
          300,
          300,
          300,
          300,
          300,
          300,
          300,
          300,
          300,
          300,
          300,
          300,
          300,
          300,
          300,
          200,
          200,
          300,
          300,
          300,
          300,
          300,
          300,
          300,
          300,
          300,
          300,
          300,
          300,
          300,
          200,
          200,
          300,
          300,
          300,
          300,
          300,
          300,
          300,
          300,
          300,
          300,
          300,
          300,
          300,
          300,
          300,
          300,
          300,
          300,
          300,
          300,
          300,
          300,
          300,
          200,
          300,
          300,
          300,
          300,
          300,
          300,
          300,
          400,
          400,
          400,
          400,
          400,
          400,
          400,
          400,
          400,
          400,
          400,
          200,
          200,
          200,
          200,
          200,
          200,
          200,
          200,
          200,
          200,
          400,
          400,
          400,
          400,
          400,
          400,
          400,
          400,
          400,
          400,
          400,
          400,
          400,
          400,
          400,
          400,
          200,
          400,
          400,
          400
         ],
         "x0": " ",
         "xaxis": "x2",
         "y": [
          810.817,
          958.737,
          949.888,
          935.65,
          914.363,
          812.212,
          811.131,
          809.751,
          809.98,
          811.319,
          809.857,
          815.436,
          809.584,
          810.677,
          809.702,
          809.131,
          810.068,
          809.337,
          809.2,
          809.313,
          809.4,
          810.546,
          809.298,
          979.594,
          809.991,
          812.068,
          809.472,
          856.491,
          668.955,
          798.732,
          772.673,
          733.313,
          756.151,
          808.525,
          686.13,
          709.577,
          605.616,
          665.938,
          520.526,
          592.016,
          586.287,
          629.13,
          676.231,
          648.297,
          671.459,
          571.575,
          620.644,
          806.715,
          809.311,
          802.514,
          700.507,
          979.594,
          809.298,
          810.546,
          809.4,
          809.313,
          809.2,
          809.337,
          812.068,
          810.068,
          809.131,
          809.702,
          810.677,
          809.584,
          815.436,
          809.857,
          811.131,
          811.319,
          810.817,
          958.737,
          949.888,
          935.65,
          810.176,
          809.751,
          809.923,
          809.98,
          809.923,
          809.186,
          770.927,
          736.687,
          690.805,
          747.638,
          759.882,
          801.503,
          806.622,
          803.863,
          771.943,
          798.857,
          732.398,
          755.682,
          799.962,
          778.596,
          807.269,
          778.182,
          803.297,
          734.315,
          789.983,
          809.472,
          810.176,
          856.491,
          809.991,
          613.234,
          471.18,
          466.316,
          530.215,
          558.705,
          489.56,
          485.182,
          428.515,
          427.509,
          509.516,
          392.813,
          500.51,
          521.472,
          478.037,
          406.712,
          519.301,
          470.516,
          419.506,
          419.992,
          446.539,
          449.492,
          467.503,
          495.826,
          501.096,
          477.392,
          506.805,
          397.85,
          436.903,
          455.345,
          428.425,
          458.237,
          567.366,
          551.069,
          570.095,
          546.621,
          556.704,
          541.124,
          488.367,
          481.237,
          442.933,
          548.744,
          512.964,
          582.823,
          618.389,
          518.931,
          494.726,
          479.828,
          450.458,
          453.568,
          493.488,
          578.063,
          432.259,
          603.667,
          507.026,
          486.121,
          471.18,
          613.234,
          428.425,
          567.366,
          603.667,
          551.069,
          432.259,
          578.063,
          493.488,
          453.568,
          450.458,
          479.828,
          494.726,
          518.931,
          618.389,
          582.823,
          512.964,
          548.744,
          442.933,
          481.237,
          488.367,
          541.124,
          556.704,
          546.621,
          570.095,
          475.669,
          517.633,
          456.777,
          466.316,
          493.586,
          530.215,
          443.397,
          558.705,
          809.131,
          810.068,
          812.068,
          809.337,
          809.2,
          809.313,
          809.4,
          810.546,
          809.298,
          979.594,
          809.751,
          809.98,
          809.991,
          809.923,
          856.491,
          810.176,
          809.472,
          729.419,
          517.633,
          475.669,
          809.702,
          810.677,
          815.436,
          914.363,
          812.212,
          812.212,
          914.363,
          935.65,
          949.888,
          958.737,
          810.817,
          811.319,
          811.131,
          809.857,
          809.584,
          477.392,
          506.805,
          397.85,
          436.903,
          455.345,
          458.237,
          507.026,
          493.586,
          486.121,
          443.397,
          456.777,
          501.096,
          495.826,
          467.503,
          449.492,
          485.182,
          428.515,
          427.509,
          509.516,
          392.813,
          500.51,
          521.472,
          478.037,
          406.712,
          519.301,
          470.516,
          419.506,
          419.992,
          446.539,
          489.56,
          620.263,
          748.47,
          568.397,
          406.712,
          519.301,
          470.516,
          419.506,
          419.992,
          446.539,
          449.492,
          467.503,
          495.826,
          501.096,
          477.392,
          506.805,
          397.85,
          436.903,
          478.037,
          455.345,
          507.026,
          493.586,
          486.121,
          443.397,
          456.777,
          458.237,
          521.472,
          500.51,
          392.813,
          603.721,
          509.516,
          427.509,
          428.515,
          485.182,
          489.56,
          789.983,
          734.315,
          803.297,
          778.182,
          807.269,
          778.596,
          799.962,
          755.682,
          732.398,
          798.857,
          771.943,
          803.863,
          801.503,
          759.882,
          747.638,
          690.805,
          736.687,
          770.927,
          809.186,
          700.507,
          802.514,
          809.311,
          806.715,
          686.13,
          808.525,
          756.151,
          806.622,
          733.313,
          772.673,
          798.732,
          759.882,
          801.503,
          806.622,
          803.863,
          771.943,
          798.857,
          732.398,
          755.682,
          799.962,
          778.596,
          807.269,
          778.182,
          803.297,
          747.638,
          565.342,
          553.317,
          679.896,
          475.215,
          634.724,
          698.795,
          485.831,
          698.935,
          577.758,
          530.732,
          593.424,
          516.5,
          668.955,
          530.732,
          577.758,
          698.935,
          485.831,
          698.795,
          748.47,
          634.724,
          475.215,
          679.896,
          553.317,
          565.342,
          516.5,
          593.424,
          568.397,
          603.721,
          620.263,
          734.315,
          789.983,
          620.644,
          571.575,
          671.459,
          648.297,
          676.231,
          629.13,
          586.287,
          592.016,
          520.526,
          665.938,
          605.616,
          709.577,
          729.419,
          690.805,
          770.927,
          485.831,
          698.795,
          748.47,
          634.724,
          475.215,
          679.896,
          553.317,
          565.342,
          516.5,
          568.397,
          698.935,
          603.721,
          729.419,
          709.577,
          605.616,
          665.938,
          520.526,
          592.016,
          586.287,
          629.13,
          676.231,
          648.297,
          620.263,
          736.687,
          530.732,
          593.424,
          668.955,
          671.459,
          571.575,
          577.758,
          620.644,
          548.744,
          442.933,
          481.237,
          488.367,
          541.124,
          556.704,
          546.621,
          570.095,
          475.669,
          512.964,
          517.633,
          733.313,
          756.151,
          808.525,
          686.13,
          806.715,
          809.311,
          802.514,
          700.507,
          809.186,
          772.673,
          582.823,
          518.931,
          432.259,
          551.069,
          453.568,
          603.667,
          567.366,
          450.458,
          428.425,
          613.234,
          471.18,
          466.316,
          530.215,
          558.705,
          479.828,
          618.389,
          798.732,
          494.726,
          578.063,
          493.488
         ],
         "y0": " ",
         "yaxis": "y2"
        },
        {
         "alignmentgroup": "True",
         "hovertemplate": "Number of Nodes=250<br>BTP=True<br>Area Conf.=%{x}<br>Total Energy (J)=%{y}<extra></extra>",
         "legendgroup": "250",
         "marker": {
          "color": "#FFA15A"
         },
         "name": "250",
         "notched": false,
         "offsetgroup": "250",
         "orientation": "v",
         "showlegend": true,
         "type": "box",
         "x": [
          400,
          400,
          400,
          400,
          400,
          400,
          400,
          400,
          400,
          400,
          400,
          400,
          400,
          400,
          400,
          400,
          400,
          400,
          400,
          400,
          400,
          400,
          400,
          400,
          400,
          400,
          400,
          400,
          500,
          500,
          500,
          500,
          500,
          500,
          500,
          500,
          500,
          500,
          500,
          500,
          500,
          500,
          500,
          500,
          500,
          500,
          500,
          500,
          500,
          500,
          500,
          500,
          500,
          500,
          500,
          500,
          500,
          500,
          400,
          100,
          300,
          300,
          300,
          300,
          300,
          300,
          300,
          300,
          300,
          300,
          300,
          300,
          300,
          300,
          300,
          300,
          300,
          300,
          300,
          300,
          300,
          300,
          300,
          300,
          100,
          100,
          100,
          100,
          100,
          100,
          100,
          100,
          100,
          100,
          100,
          100,
          100,
          100,
          100,
          100,
          100,
          100,
          100,
          100,
          100,
          100,
          300,
          300,
          300,
          300,
          300,
          100,
          100,
          100,
          100,
          100,
          100,
          100,
          300,
          100,
          100,
          100,
          500,
          500,
          500,
          500,
          500,
          500,
          500,
          500,
          500,
          500,
          500,
          500,
          500,
          500,
          500,
          500,
          500,
          500,
          500,
          100,
          100,
          100,
          100,
          100,
          100,
          100,
          100,
          100,
          100,
          100,
          100,
          100,
          100,
          100,
          100,
          100,
          100,
          100,
          200,
          100,
          100,
          500,
          500,
          500,
          500,
          500,
          500,
          500,
          500,
          500,
          500,
          500,
          400,
          400,
          400,
          400,
          100,
          100,
          100,
          100,
          100,
          200,
          200,
          200,
          200,
          200,
          200,
          300,
          300,
          300,
          300,
          200,
          300,
          300,
          300,
          300,
          300,
          300,
          300,
          300,
          300,
          300,
          200,
          200,
          200,
          200,
          200,
          200,
          200,
          200,
          200,
          200,
          200,
          200,
          200,
          200,
          200,
          200,
          200,
          200,
          200,
          200,
          200,
          200,
          300,
          300,
          300,
          300,
          300,
          300,
          300,
          300,
          300,
          300,
          300,
          300,
          300,
          300,
          300,
          200,
          200,
          200,
          300,
          400,
          400,
          400,
          200,
          200,
          200,
          100,
          500,
          500,
          500,
          500,
          200,
          500,
          500,
          500,
          500,
          500,
          500,
          500,
          500,
          500,
          500,
          200,
          200,
          200,
          200,
          200,
          200,
          200,
          200,
          200,
          200,
          200,
          200,
          200,
          200,
          200,
          200,
          200,
          200,
          200,
          200,
          200,
          200,
          500,
          500,
          500,
          500,
          400,
          400,
          400,
          400,
          400,
          400,
          400,
          400,
          400,
          400,
          400,
          400,
          400,
          400,
          400,
          400,
          400,
          400,
          400,
          400,
          200,
          400,
          400,
          500,
          500,
          500,
          500,
          500,
          500,
          500,
          500,
          500,
          500,
          500,
          500,
          400,
          400,
          400,
          400,
          400,
          100,
          200,
          300,
          300,
          100,
          100,
          100,
          100,
          100,
          100,
          100,
          100,
          100,
          100,
          100,
          100,
          100,
          100,
          100,
          100,
          100,
          100,
          100,
          100,
          100,
          100,
          100,
          100,
          100,
          100,
          100,
          100,
          100,
          200,
          200,
          200,
          200,
          200,
          200,
          200,
          200,
          200,
          200,
          200,
          200,
          200,
          200,
          200,
          200,
          200,
          200,
          200,
          200,
          200,
          200,
          200,
          200,
          200,
          200,
          200,
          200,
          200,
          300,
          400,
          300,
          300,
          300,
          300,
          300,
          300,
          300,
          300,
          300,
          300,
          300,
          300,
          300,
          300,
          300,
          300,
          300,
          300,
          300,
          300,
          300,
          300,
          300,
          300,
          300,
          300,
          300
         ],
         "x0": " ",
         "xaxis": "x",
         "y": [
          131.57712199609992,
          61.10059580640002,
          160.97593505930007,
          55.863862461300016,
          63.27246249379997,
          47.595346767899976,
          63.00270165059996,
          64.89709152849998,
          53.64815002169993,
          94.52846044400007,
          113.55068125080004,
          56.5406675544,
          59.67050283750007,
          88.63014294030002,
          99.55840413369984,
          72.84171367280005,
          48.85279209049998,
          109.08137093590004,
          133.79695837460005,
          61.905037640500026,
          91.79057614850004,
          52.81574491940003,
          143.9347132330999,
          94.69582687079992,
          91.00699062989987,
          155.20432618949988,
          72.41842722239997,
          75.28866512590001,
          42.58239356689994,
          117.41868603820004,
          69.38614729090007,
          56.87097429290003,
          37.698911093800014,
          61.620490246500026,
          53.482760598700025,
          103.4115222166,
          88.64473389930009,
          75.11787720730007,
          62.861127013,
          51.84635496679997,
          53.266293582500055,
          55.74970936330002,
          47.28359096680003,
          101.84059899060004,
          36.55058000969997,
          78.68850469419996,
          86.94196968689991,
          68.04222105810008,
          78.72673189639995,
          27.523681668600005,
          43.48157015259996,
          124.99399229899996,
          57.413123464500025,
          36.87381058349999,
          80.75334483719996,
          41.853410277099954,
          133.67653576689997,
          40.00086965699997,
          48.00579703190006,
          124.4044269521998,
          95.6636917166,
          77.45625337280005,
          123.84019632899992,
          124.69035610139991,
          115.26229015159994,
          175.8598835964,
          64.5366607072,
          227.70172314140007,
          97.06190902999988,
          125.53245942999996,
          88.20864512600005,
          82.31063521059997,
          82.63352037200005,
          99.45816698859991,
          118.38647396119993,
          92.34439669519996,
          136.3832296829999,
          80.39866538540011,
          84.07434622619999,
          82.56233279580002,
          119.52524866339988,
          165.97316161419997,
          91.13391058599991,
          134.94701699459995,
          111.72394592329972,
          128.41494363149982,
          122.78501256729982,
          114.46302030819967,
          107.79856413179986,
          124.9403407295997,
          120.0073166732998,
          118.76812708819958,
          116.67336653759963,
          113.85589908109974,
          118.10364225769985,
          122.75783740059973,
          117.57464123139962,
          134.73593214560017,
          117.74068314419966,
          125.05688707399968,
          110.91497094699972,
          115.24445802519983,
          128.74571400009955,
          121.41862318659966,
          129.44584032239993,
          125.47953428579967,
          167.74545032599977,
          134.69308463239997,
          106.96740845880004,
          184.60737649819987,
          103.80165700760004,
          119.05383402039972,
          122.51265355259967,
          129.76973133470003,
          118.56830131200005,
          112.94821971389965,
          129.60162317079957,
          120.12678221909972,
          60.511575009000005,
          139.27349487259957,
          127.40575443579964,
          135.57999977299974,
          40.70541353879998,
          107.92114004439998,
          44.6029893476,
          59.157296335000055,
          52.65095831780004,
          148.49706820959997,
          80.9313040382001,
          83.0569512258,
          85.21566767820005,
          55.488753602400045,
          51.10792067000002,
          52.565931353,
          32.7581798766,
          50.200071923200014,
          88.0252487232,
          51.159771856800006,
          54.18879209980003,
          72.47191496580001,
          87.3043465630001,
          113.79863585919968,
          126.21479634859966,
          127.97560656519984,
          119.10238201379973,
          98.81522622599978,
          100.72263988719985,
          97.48147882329972,
          118.5107793198997,
          123.05096103819972,
          129.73881187969965,
          101.92465288639976,
          118.0341450055998,
          127.89067780279971,
          166.78071515329958,
          106.44475985899976,
          133.7137252269997,
          99.01393665419984,
          107.92422251299986,
          94.90039546639984,
          139.0951612752001,
          96.1999333841998,
          123.48537537879972,
          41.5337413302,
          52.88487869559996,
          72.93420011119993,
          61.98696259739995,
          49.40075109440004,
          71.37209934339995,
          69.65384385560002,
          76.26061372679993,
          135.67438536360007,
          54.55260587820003,
          72.31128892579997,
          72.05139653080002,
          80.47310448140001,
          134.96670606779986,
          87.02606058720004,
          104.14767190189966,
          128.1305923799997,
          127.74251360939974,
          111.0041379649998,
          164.8897018140995,
          131.19270213859983,
          126.71125519119992,
          128.76659714319985,
          151.6750561099998,
          116.44739141579984,
          127.94518878499976,
          186.6111329958,
          75.44860234999996,
          121.41609370059994,
          83.72546907539993,
          135.16988057239973,
          144.23215603779985,
          80.30571095299996,
          80.69873642979994,
          107.5993140083999,
          157.93367850409984,
          114.43472726129998,
          65.9634182724,
          145.06853391999996,
          71.04930200100006,
          123.56649646059986,
          145.46934853459993,
          179.21080928200004,
          123.9269724131999,
          136.20688415419977,
          141.4467461205997,
          141.2695902122001,
          153.4393113131998,
          193.9708164319998,
          143.65415539949993,
          145.28559462040008,
          157.0641942148,
          149.32910387439995,
          102.68984610619984,
          179.73426494139983,
          108.01211327049988,
          144.78265673419995,
          123.44084303679996,
          127.69153757959974,
          109.02149146179984,
          92.91622920079983,
          141.48189749759993,
          209.31219060660024,
          102.37005976939986,
          171.20920039860005,
          102.16481401779993,
          68.1296485432,
          129.3418677273999,
          73.33703660540004,
          207.3173491249998,
          99.31061999959992,
          127.31025284660004,
          180.40769156440012,
          106.17744047079998,
          163.85782799519993,
          98.09450900159987,
          101.77481638059987,
          95.14668525409996,
          127.31189830759996,
          128.69678225079963,
          101.86789652879996,
          80.05389972459984,
          104.43322450360004,
          157.20774381319998,
          73.36814817850008,
          143.1869383551999,
          160.9492254102,
          156.4080374403999,
          120.80997789299973,
          37.55243879920003,
          95.0985550221,
          41.131659749700034,
          50.506606008800006,
          148.7452599186,
          46.98126480980003,
          87.70737461380001,
          123.4271851554,
          80.05289890989997,
          56.55780711500002,
          71.43024933599996,
          75.75754746179999,
          76.80531291589992,
          36.10293788260002,
          75.97397050939999,
          125.15264934579992,
          205.15901885339997,
          102.15747486759992,
          186.9349884611999,
          130.26343920899993,
          209.9445877005998,
          143.68118059959988,
          141.6848406367999,
          111.06589868139976,
          139.0950759266,
          142.99587471239997,
          148.41861182059986,
          114.9122673829998,
          119.71030334589985,
          133.46732972199987,
          219.92552556840016,
          135.75873521099967,
          135.41735654339976,
          97.40799075799993,
          105.4109540582,
          152.09406178699987,
          132.02084794279983,
          44.40006643640002,
          79.31893513819995,
          86.355680052,
          61.90506004440003,
          70.09462830439996,
          118.21406301909992,
          64.60095522599998,
          105.93112829479992,
          73.99447272999998,
          46.82847666140005,
          51.09477902639995,
          55.94693393909997,
          121.97099817520004,
          72.87569301089998,
          58.92365456579999,
          114.68894485149993,
          49.9235790232,
          93.19991343169994,
          69.75668462970002,
          14.161009541799997,
          111.95149527020006,
          51.41303478799996,
          83.6716561465999,
          67.14523722040002,
          120.35817640699987,
          59.53275154770007,
          50.589312357000026,
          67.84895815459991,
          71.10130860700005,
          76.72608880119996,
          90.3556144354999,
          33.044729541200034,
          38.26643556370003,
          55.91524585040002,
          73.61953495600007,
          61.279758614599935,
          56.47050552499998,
          59.004519053100026,
          103.9494199965999,
          50.12706859269996,
          63.947449141,
          120.09991033959984,
          69.69502963069999,
          130.83280063559988,
          160.42500110119968,
          109.21751230499986,
          213.79674691329976,
          129.5738784846,
          152.29626140499974,
          117.12739153779962,
          126.5456779802998,
          125.15525764899964,
          127.02711382619977,
          114.82865309189977,
          114.39413371629968,
          123.30352651319978,
          123.47352674649969,
          129.1865784459999,
          123.86842491149974,
          143.0820523323999,
          112.90414559149978,
          135.01337199159977,
          133.59445636129985,
          126.17475538929985,
          123.85726929239996,
          122.35391791489975,
          123.94086605899984,
          115.65765475209994,
          133.52784900979975,
          126.69244489729968,
          112.47690928219971,
          124.1318612527998,
          122.9459439222997,
          135.6091984980998,
          114.54928314009972,
          111.39711472999969,
          120.67501436919984,
          118.93482789970008,
          127.90255509999982,
          151.44468173499993,
          120.96508995459996,
          129.13003264839998,
          131.60084092669996,
          107.76354498109995,
          150.4928567678998,
          133.8428372249,
          147.62868454370007,
          114.35473338309976,
          147.82042423329992,
          146.94787030239982,
          193.58464247539976,
          179.7677667828,
          110.1719921785998,
          147.87731768649985,
          142.76488049300008,
          142.47537398909986,
          126.3229198844998,
          152.2188615650999,
          110.34808258989976,
          168.09491310689978,
          143.17992307889983,
          149.77681310059987,
          159.64728575359985,
          130.36949560549996,
          150.63614972669987,
          139.14155008149982,
          117.06037125469996,
          79.01981362849993,
          177.72891801119994,
          165.8332897670999,
          123.52583255860002,
          70.32075905330001,
          82.69186760949998,
          138.43761572999998,
          164.90904915230004,
          168.7564048102,
          83.58667891770001,
          123.23452035199998,
          173.05965304969996,
          112.93187224609991,
          178.63448472919995,
          72.88030923440006,
          99.795093835,
          163.41697059429993,
          139.76331335340004,
          135.35076682679986,
          85.74189889430002,
          168.37507751200008,
          163.60182961849986,
          126.83527841969996,
          130.81767520210002,
          211.23588144609997,
          87.08890816610001,
          101.05875950320006,
          164.15796389869996
         ],
         "y0": " ",
         "yaxis": "y"
        },
        {
         "alignmentgroup": "True",
         "hovertemplate": "Number of Nodes=250<br>BTP=False<br>Area Conf.=%{x}<br>Total Energy (J)=%{y}<extra></extra>",
         "legendgroup": "250",
         "marker": {
          "color": "#FFA15A"
         },
         "name": "250",
         "notched": false,
         "offsetgroup": "250",
         "orientation": "v",
         "showlegend": false,
         "type": "box",
         "x": [
          500,
          500,
          500,
          500,
          500,
          500,
          500,
          500,
          500,
          500,
          500,
          500,
          500,
          500,
          500,
          500,
          500,
          500,
          500,
          500,
          500,
          500,
          300,
          300,
          500,
          500,
          500,
          500,
          500,
          500,
          300,
          300,
          100,
          300,
          200,
          500,
          500,
          200,
          200,
          200,
          200,
          200,
          200,
          200,
          200,
          200,
          200,
          200,
          200,
          200,
          200,
          200,
          200,
          200,
          200,
          200,
          200,
          200,
          200,
          200,
          200,
          200,
          200,
          200,
          500,
          300,
          300,
          300,
          300,
          300,
          300,
          300,
          300,
          300,
          300,
          100,
          300,
          300,
          300,
          300,
          300,
          300,
          300,
          300,
          300,
          300,
          300,
          300,
          300,
          300,
          100,
          100,
          100,
          200,
          200,
          100,
          100,
          100,
          100,
          100,
          100,
          100,
          100,
          100,
          100,
          100,
          100,
          100,
          100,
          100,
          100,
          100,
          100,
          100,
          100,
          100,
          100,
          100,
          100,
          100,
          300,
          400,
          200,
          300,
          300,
          300,
          300,
          300,
          300,
          300,
          300,
          300,
          300,
          300,
          300,
          300,
          300,
          300,
          300,
          300,
          300,
          300,
          300,
          300,
          300,
          300,
          300,
          300,
          300,
          300,
          300,
          200,
          200,
          200,
          200,
          200,
          200,
          200,
          200,
          200,
          200,
          200,
          200,
          200,
          200,
          200,
          200,
          200,
          200,
          200,
          200,
          200,
          200,
          200,
          200,
          200,
          200,
          500,
          200,
          400,
          400,
          400,
          400,
          400,
          400,
          400,
          400,
          400,
          400,
          400,
          400,
          400,
          400,
          400,
          400,
          400,
          400,
          400,
          400,
          400,
          400,
          400,
          400,
          400,
          400,
          400,
          400,
          300,
          300,
          200,
          200,
          100,
          100,
          100,
          500,
          500,
          500,
          500,
          100,
          500,
          500,
          500,
          500,
          500,
          500,
          500,
          500,
          500,
          500,
          100,
          100,
          100,
          100,
          100,
          100,
          100,
          100,
          100,
          100,
          100,
          100,
          100,
          100,
          100,
          100,
          100,
          100,
          100,
          100,
          100,
          100,
          500,
          500,
          500,
          500,
          300,
          300,
          300,
          300,
          300,
          300,
          300,
          300,
          300,
          300,
          300,
          300,
          300,
          300,
          300,
          300,
          300,
          300,
          300,
          300,
          100,
          300,
          300,
          500,
          500,
          500,
          500,
          500,
          500,
          500,
          500,
          500,
          500,
          200,
          300,
          300,
          300,
          300,
          300,
          300,
          300,
          100,
          100,
          100,
          400,
          400,
          400,
          400,
          400,
          400,
          400,
          400,
          400,
          400,
          400,
          400,
          400,
          400,
          300,
          400,
          400,
          400,
          400,
          400,
          400,
          400,
          400,
          400,
          400,
          400,
          400,
          400,
          400,
          400,
          400,
          400,
          500,
          500,
          500,
          500,
          500,
          500,
          500,
          500,
          200,
          200,
          200,
          200,
          200,
          200,
          200,
          500,
          200,
          100,
          400,
          400,
          400,
          500,
          400,
          400,
          400,
          400,
          400,
          400,
          400,
          500,
          500,
          500,
          500,
          200,
          400,
          200,
          200,
          400,
          500,
          500,
          500,
          500,
          500,
          500,
          500,
          500,
          500,
          500,
          500,
          500,
          500,
          500,
          500,
          200,
          200,
          200,
          200,
          200,
          400,
          200,
          200,
          200,
          200,
          200,
          200,
          200,
          200,
          200,
          200,
          200,
          200,
          400,
          500,
          400,
          100,
          100,
          100,
          100,
          100,
          100,
          100,
          100,
          100,
          100,
          100,
          100,
          100,
          100,
          100,
          100,
          100,
          100,
          100,
          100,
          100,
          100,
          100,
          100,
          100,
          100,
          400,
          400,
          400,
          400,
          400,
          400,
          400,
          400,
          400,
          200,
          400,
          400,
          400,
          400,
          100,
          100,
          100,
          400,
          400
         ],
         "x0": " ",
         "xaxis": "x2",
         "y": [
          545.969,
          525.985,
          599.151,
          602.61,
          634.133,
          547.333,
          604.566,
          568.788,
          661.479,
          484.868,
          549.762,
          496.441,
          563.148,
          612.887,
          607.155,
          635.866,
          572.163,
          513.86,
          621.211,
          653.604,
          641.917,
          663.624,
          622.353,
          954.418,
          527.278,
          618.33,
          610.451,
          611.043,
          505.937,
          607.034,
          818.097,
          753.632,
          1011.8,
          768.692,
          1011.51,
          607.034,
          505.937,
          883.349,
          964.361,
          999.428,
          997.374,
          979.725,
          965.149,
          937.267,
          960.29,
          835.125,
          999.191,
          1006.58,
          981.873,
          932.131,
          951.172,
          930.786,
          982.623,
          999.699,
          878.873,
          1012.3,
          897.985,
          1011.28,
          988.749,
          1010.9,
          999.58,
          982.59,
          1009.12,
          1006.76,
          633.181,
          867.204,
          633.365,
          879.88,
          868.208,
          809.099,
          906.566,
          910.96,
          655.744,
          917.902,
          630.95,
          1011.75,
          811.703,
          707.994,
          770.674,
          686.79,
          791.912,
          835.414,
          866.895,
          854.991,
          817.09,
          569.767,
          739.661,
          742.132,
          764.98,
          756.145,
          1012.12,
          1013.13,
          1011.66,
          825.762,
          1006.32,
          1073.45,
          1011.45,
          1176.3,
          1219.65,
          1161.82,
          1013.48,
          1242.3,
          1137.46,
          1224.42,
          1010.77,
          1023.56,
          1212.16,
          1014.15,
          1197.38,
          1096.37,
          1153.96,
          1016.59,
          1011.45,
          1202.4,
          1039.06,
          1016.35,
          1143.87,
          1134.07,
          1211.17,
          1219.19,
          828.222,
          752.745,
          981.873,
          630.95,
          954.418,
          622.353,
          753.632,
          818.097,
          828.222,
          768.692,
          764.98,
          742.132,
          739.661,
          569.767,
          817.09,
          854.991,
          866.895,
          791.912,
          686.79,
          770.674,
          707.994,
          756.145,
          811.703,
          835.414,
          917.902,
          655.744,
          910.96,
          906.566,
          809.099,
          868.208,
          879.88,
          1006.76,
          825.762,
          1006.32,
          1009.12,
          982.59,
          1010.9,
          1011.28,
          999.428,
          997.374,
          979.725,
          965.149,
          937.267,
          960.29,
          835.125,
          988.749,
          999.191,
          1006.58,
          981.873,
          932.131,
          951.172,
          930.786,
          982.623,
          999.699,
          878.873,
          1012.3,
          897.985,
          587.542,
          964.361,
          554.223,
          696.64,
          639.715,
          584.088,
          647.071,
          599.907,
          674.054,
          678.93,
          690.711,
          534.981,
          708.821,
          614.149,
          641.593,
          643.981,
          643.966,
          689.777,
          715.431,
          647.813,
          541.408,
          515.652,
          783.922,
          574.211,
          758.121,
          702.107,
          752.465,
          687.615,
          710.191,
          697.657,
          633.365,
          867.204,
          883.349,
          999.58,
          1013.13,
          1012.12,
          1011.75,
          611.043,
          641.917,
          610.451,
          618.33,
          1011.66,
          663.624,
          653.604,
          496.441,
          634.133,
          602.61,
          525.985,
          547.333,
          545.969,
          599.151,
          527.278,
          1219.19,
          1211.17,
          1134.07,
          1161.82,
          1013.48,
          1242.3,
          1137.46,
          1224.42,
          1010.77,
          1023.56,
          1212.16,
          1014.15,
          1197.38,
          1096.37,
          1153.96,
          1016.59,
          1011.45,
          1202.4,
          1039.06,
          1016.35,
          1011.8,
          1143.87,
          604.566,
          621.211,
          661.479,
          484.868,
          811.703,
          756.145,
          707.994,
          770.674,
          686.79,
          791.912,
          866.895,
          854.991,
          817.09,
          569.767,
          739.661,
          742.132,
          764.98,
          768.692,
          828.222,
          818.097,
          753.632,
          622.353,
          954.418,
          630.95,
          1219.65,
          917.902,
          910.96,
          549.762,
          568.788,
          563.148,
          612.887,
          607.155,
          635.866,
          572.163,
          513.86,
          633.181,
          587.542,
          1011.51,
          867.204,
          633.365,
          879.88,
          868.208,
          809.099,
          906.566,
          655.744,
          1176.3,
          1011.45,
          1073.45,
          697.657,
          554.223,
          702.107,
          752.465,
          687.615,
          710.191,
          758.121,
          574.211,
          783.922,
          534.981,
          696.64,
          639.715,
          584.088,
          647.071,
          835.414,
          599.907,
          678.93,
          674.054,
          690.711,
          708.821,
          515.652,
          614.149,
          641.593,
          643.981,
          643.966,
          689.777,
          715.431,
          647.813,
          541.408,
          752.745,
          693.641,
          783.922,
          663.624,
          527.278,
          653.604,
          496.441,
          634.133,
          602.61,
          618.33,
          525.985,
          1006.76,
          1009.12,
          982.59,
          1010.9,
          1011.28,
          897.985,
          825.762,
          610.451,
          999.58,
          1011.75,
          639.715,
          696.64,
          534.981,
          604.566,
          574.211,
          758.121,
          710.191,
          687.615,
          752.465,
          702.107,
          554.223,
          505.937,
          611.043,
          641.917,
          607.034,
          1012.3,
          584.088,
          878.873,
          982.623,
          697.657,
          587.542,
          633.181,
          513.86,
          572.163,
          635.866,
          545.969,
          607.155,
          563.148,
          568.788,
          549.762,
          484.868,
          661.479,
          621.211,
          612.887,
          547.333,
          1011.51,
          883.349,
          930.786,
          951.172,
          932.131,
          693.641,
          1006.58,
          999.191,
          988.749,
          835.125,
          960.29,
          937.267,
          965.149,
          979.725,
          997.374,
          999.428,
          964.361,
          999.699,
          647.071,
          599.151,
          674.054,
          1143.87,
          1134.07,
          1211.17,
          1219.19,
          1011.8,
          1016.35,
          1039.06,
          1202.4,
          1073.45,
          1011.45,
          1176.3,
          1219.65,
          1161.82,
          1013.48,
          1242.3,
          1137.46,
          1224.42,
          1023.56,
          1212.16,
          1014.15,
          1197.38,
          1096.37,
          1153.96,
          1016.59,
          1011.45,
          1010.77,
          689.777,
          643.966,
          643.981,
          641.593,
          614.149,
          515.652,
          599.907,
          708.821,
          690.711,
          1006.32,
          678.93,
          541.408,
          752.745,
          693.641,
          1012.12,
          1013.13,
          1011.66,
          715.431,
          647.813
         ],
         "y0": " ",
         "yaxis": "y2"
        },
        {
         "alignmentgroup": "True",
         "hovertemplate": "Number of Nodes=300<br>BTP=True<br>Area Conf.=%{x}<br>Total Energy (J)=%{y}<extra></extra>",
         "legendgroup": "300",
         "marker": {
          "color": "#19d3f3"
         },
         "name": "300",
         "notched": false,
         "offsetgroup": "300",
         "orientation": "v",
         "showlegend": true,
         "type": "box",
         "x": [
          200,
          200,
          200,
          200,
          200,
          200,
          200,
          200,
          200,
          200,
          200,
          200,
          200,
          200,
          200,
          200,
          200,
          200,
          200,
          200,
          200,
          500,
          500,
          500,
          500,
          500,
          500,
          500,
          500,
          200,
          500,
          500,
          500,
          500,
          500,
          500,
          200,
          200,
          200,
          500,
          500,
          200,
          200,
          300,
          300,
          300,
          300,
          300,
          300,
          300,
          300,
          300,
          300,
          100,
          100,
          100,
          100,
          100,
          100,
          100,
          300,
          300,
          300,
          300,
          200,
          200,
          300,
          300,
          300,
          300,
          300,
          300,
          200,
          300,
          300,
          300,
          300,
          300,
          300,
          300,
          300,
          300,
          300,
          100,
          500,
          500,
          200,
          200,
          200,
          200,
          200,
          200,
          200,
          200,
          200,
          200,
          200,
          200,
          300,
          300,
          300,
          300,
          300,
          200,
          200,
          200,
          200,
          100,
          100,
          100,
          100,
          200,
          200,
          200,
          200,
          300,
          200,
          200,
          200,
          200,
          200,
          200,
          200,
          200,
          200,
          200,
          500,
          300,
          400,
          400,
          400,
          400,
          400,
          400,
          400,
          500,
          500,
          500,
          500,
          500,
          500,
          500,
          500,
          500,
          500,
          500,
          400,
          400,
          400,
          400,
          400,
          400,
          400,
          400,
          400,
          400,
          400,
          400,
          400,
          400,
          400,
          400,
          400,
          400,
          400,
          400,
          400,
          400,
          400,
          100,
          100,
          100,
          400,
          400,
          400,
          400,
          400,
          400,
          400,
          400,
          400,
          400,
          400,
          400,
          400,
          400,
          400,
          400,
          400,
          100,
          100,
          100,
          100,
          100,
          100,
          100,
          100,
          100,
          100,
          100,
          100,
          400,
          100,
          100,
          100,
          100,
          100,
          100,
          100,
          100,
          100,
          100,
          100,
          400,
          400,
          500,
          500,
          500,
          500,
          500,
          500,
          500,
          500,
          500,
          500,
          500,
          500,
          500,
          500,
          500,
          500,
          500,
          500,
          500,
          500,
          500,
          400,
          400,
          400,
          400,
          400,
          400,
          400,
          400,
          400,
          400,
          500,
          500,
          500,
          500,
          500,
          500,
          500,
          500,
          500,
          100,
          100,
          100,
          200,
          200,
          200,
          200,
          200,
          200,
          200,
          200,
          200,
          200,
          200,
          200,
          200,
          200,
          200,
          200,
          200,
          200,
          200,
          200,
          100,
          100,
          100,
          100,
          100,
          100,
          100,
          100,
          100,
          200,
          100,
          100,
          100,
          100,
          100,
          100,
          100,
          100,
          100,
          100,
          200,
          200,
          200,
          300,
          300,
          300,
          300,
          300,
          300,
          300,
          300,
          300,
          300,
          300,
          300,
          300,
          300,
          100,
          100,
          100,
          100,
          300,
          100,
          300,
          300,
          200,
          200,
          200,
          200,
          200,
          200,
          300,
          300,
          300,
          300,
          300,
          300,
          300,
          300,
          300,
          300,
          300,
          300,
          300,
          100,
          100,
          400,
          400,
          400,
          400,
          400,
          400,
          400,
          400,
          400,
          400,
          400,
          400,
          400,
          400,
          400,
          400,
          400,
          400,
          400,
          400,
          400,
          400,
          400,
          400,
          400,
          400,
          400,
          400,
          400,
          400,
          500,
          500,
          100,
          100,
          100,
          100,
          100,
          100,
          100,
          100,
          100,
          100,
          100,
          100,
          100,
          100,
          100,
          100,
          100,
          100,
          100,
          100,
          100,
          500,
          500,
          500,
          500,
          500,
          500,
          500,
          500,
          500,
          500,
          500,
          500,
          500,
          500,
          500,
          500,
          500,
          100,
          500,
          100
         ],
         "x0": " ",
         "xaxis": "x",
         "y": [
          123.22147417569975,
          164.32823146919986,
          121.91893721979976,
          174.8562092255998,
          156.4731535726,
          164.41151591219986,
          151.83154906319984,
          162.0393031113999,
          163.3333852531999,
          189.0898758134001,
          183.1510140082001,
          148.68772401019982,
          173.72304325279976,
          204.7005819542001,
          197.92541114399992,
          171.95658535700005,
          208.14667748840003,
          132.6373301697999,
          228.5440994326,
          185.66744119319995,
          130.42637315379972,
          115.57642223619992,
          94.48049313920004,
          70.49768246839994,
          47.47408369519996,
          76.84263620699996,
          78.27751374260002,
          144.16690490019985,
          65.89872137260001,
          211.78763525759973,
          90.16471696579984,
          34.3671285958,
          83.60711492139991,
          105.05375577580004,
          97.85164909040004,
          73.9306244066999,
          166.2981108757998,
          197.3099928604,
          133.76012892279994,
          92.65124034020002,
          44.75031609090003,
          108.01333282119992,
          185.80767533759976,
          201.1537980962,
          124.6715984523999,
          166.62443411800004,
          155.78218864659982,
          99.2959091606,
          74.5705705262,
          77.93491718119996,
          171.17412002760005,
          106.88939085379984,
          157.4095880393999,
          151.0302050578999,
          154.30052422469956,
          143.40144071849966,
          141.59463518329974,
          144.60962275299948,
          148.86607986929943,
          145.04924128579964,
          173.42446213020003,
          109.310306552,
          109.19445790379984,
          115.1735365089998,
          179.4422302321998,
          180.95714001799996,
          171.5366479562001,
          127.18736193019988,
          75.47373919579998,
          79.23044433829996,
          115.54349315859986,
          113.34505932909993,
          117.0492648579997,
          198.96722762619973,
          115.48208842859988,
          95.08554094740012,
          117.87041605520017,
          103.75586596759996,
          96.6026562919,
          113.49656771259976,
          205.494929916,
          218.13199086799992,
          77.40127093919992,
          144.49068266159964,
          59.107467035000006,
          78.79690906799996,
          196.1384281582,
          182.1371406887999,
          198.30459671539975,
          196.54263367860003,
          176.14012024299998,
          171.74184900939989,
          133.7454058505998,
          158.65970092579997,
          159.72690589239986,
          173.9532098303998,
          234.0175193012001,
          180.72005292339975,
          161.1720865410002,
          98.56480195279984,
          216.70004611220008,
          82.7111962679999,
          205.41606477640005,
          197.6917950085999,
          237.2533546452002,
          169.94571344059997,
          189.594900921,
          200.88206858539925,
          147.8038116382997,
          115.17718503369954,
          171.00849764299943,
          191.12981876439997,
          216.18167630160016,
          136.07204466019996,
          134.75387024139985,
          227.5813358174,
          180.0413891109998,
          139.54513144679962,
          124.4460642453998,
          270.3587604741998,
          249.52588561160005,
          189.20117353500024,
          148.7936325427998,
          188.2745183551998,
          199.15458783899973,
          176.5626873597998,
          76.0537640066,
          138.23516823880004,
          139.0548275913998,
          136.38523896239997,
          49.462917359199984,
          61.63770312580002,
          91.47161441040012,
          65.99141501140001,
          138.47210802160015,
          69.821069701,
          76.54125890599995,
          76.66813783099998,
          84.45191708879999,
          108.05556469629992,
          122.8196775664,
          66.28913226610001,
          131.27879085939995,
          83.88822878359998,
          62.11471643099998,
          132.78492411179994,
          118.74271010379998,
          88.21102563339996,
          125.97024039489988,
          102.7434569633,
          57.45529980439997,
          59.93328230459996,
          90.89316833790004,
          104.10954177940005,
          72.42586433400008,
          49.37385016100004,
          150.53127468019983,
          120.50471624519982,
          126.86101546250003,
          99.5357835039999,
          85.78500973139997,
          156.9492456286001,
          72.51537747959995,
          129.3715685982,
          93.38103486889992,
          135.94377524339987,
          69.41198062059996,
          90.3158426066999,
          84.36847036420006,
          148.55899836279949,
          145.4127593800996,
          164.46763681849976,
          71.5756722081,
          155.05281226910003,
          66.67512412059997,
          73.3821149597,
          116.198555312,
          80.87153724479992,
          71.38698224679997,
          55.36388553299995,
          82.09674738190003,
          81.89873622860001,
          105.42504598799997,
          92.15900853289996,
          80.00313090760002,
          88.20826723909994,
          71.28374567490002,
          71.89840812930004,
          142.82416607460004,
          155.38068642319973,
          154.78861904699943,
          173.5279765560998,
          154.49971821559947,
          151.9533129586996,
          135.13771477799952,
          155.0591434743994,
          156.0169454760995,
          153.6432022223996,
          148.64040110409962,
          146.28547928049954,
          148.85741854509948,
          102.17975080589996,
          150.13019992949958,
          148.0272978281995,
          176.3388344102001,
          155.91679075040005,
          168.53289087189964,
          164.61638682589964,
          161.65541848149948,
          140.26147291449945,
          147.27405665789954,
          169.19684674939955,
          152.20731584889947,
          73.31110274699996,
          104.7458768958,
          120.10348288640002,
          48.07552708440007,
          63.52840141749999,
          80.31507212029999,
          100.75875144830005,
          59.30171005019997,
          162.38771940130016,
          104.5382523432,
          140.95847788579997,
          68.99931797560001,
          72.52427094799997,
          59.67849288289997,
          35.76161214529999,
          81.3123792433999,
          102.92789674429996,
          61.7228576087,
          90.00643497060007,
          74.125057409,
          105.38882468219992,
          87.18404080419997,
          54.811500116200015,
          107.91416635299991,
          154.93177682060005,
          228.32500777579995,
          81.68870668699998,
          48.168557369699975,
          64.99220265779995,
          88.51476718729997,
          90.31308263710004,
          103.18143532790003,
          119.06777979939986,
          119.64740811780004,
          67.24876874959999,
          98.49679509610004,
          124.63838345859988,
          73.66852927190004,
          51.02716182980003,
          39.768208439200045,
          109.3119507786,
          103.73111437360004,
          146.16928699489955,
          151.0001506678998,
          146.60796552839955,
          158.97795080209983,
          181.4955794751997,
          166.9405788489999,
          154.03965657959992,
          125.38946523219994,
          164.50655560389987,
          144.24196552639984,
          161.18287852629996,
          173.8279312939001,
          169.91729724709987,
          232.06715494879973,
          152.6397022591998,
          139.50287415469973,
          189.60492443400025,
          162.90932823909992,
          211.49488100289983,
          203.8665902492,
          138.48026384360006,
          180.81255933049985,
          245.97399163409972,
          153.5235089258999,
          135.6041535895995,
          147.98985268219943,
          150.4819118295997,
          147.56735837499951,
          140.19372340179947,
          158.17680953449985,
          152.66969204289947,
          146.63659291879972,
          202.3289440257999,
          151.47830333579947,
          157.93559841279958,
          173.1617632586999,
          151.34803569879952,
          142.84346803899948,
          144.76579850009952,
          152.3216950949996,
          147.04224365039985,
          146.53107029429958,
          152.12367629339985,
          182.22809375369985,
          149.15179753479998,
          192.87392846929964,
          227.1937579663,
          112.38214097049988,
          218.90607762849996,
          216.48233176259987,
          147.43586142949985,
          212.35410832109983,
          137.57595102899992,
          158.70787550550006,
          113.77731340099996,
          109.40772295649997,
          89.86257701179997,
          128.25801306429997,
          111.0771057728,
          130.8402254098,
          135.20142624389956,
          158.9103777880997,
          170.06979169169938,
          157.12376494279977,
          82.95741814910004,
          171.12348249799928,
          93.6958784333001,
          187.32595637789984,
          135.55437002329984,
          125.8232116721,
          238.983925982,
          196.82297396989964,
          159.38811255499976,
          183.87959965839968,
          130.4014238315999,
          132.73722082639998,
          209.77209707709991,
          79.79102491409996,
          191.27118345979963,
          133.68028131489984,
          103.73511906619989,
          88.77196739619998,
          130.49421302659994,
          103.5140593047,
          129.7032088399999,
          104.04595976780004,
          95.34883567060012,
          143.8470453693996,
          151.4217574186997,
          105.99798437460012,
          126.91708170480008,
          92.36657642000006,
          104.34849427440015,
          96.98232793560004,
          94.91463498439995,
          66.6681824448,
          101.80318471960015,
          146.98841759759995,
          107.92037994439998,
          184.28817666820007,
          96.91656715240002,
          158.14986468060005,
          62.1857526536,
          66.1138531607,
          144.0838876064,
          68.66352116180003,
          81.12713510199995,
          111.93123339559986,
          86.50070499240009,
          92.6329276787999,
          215.81528843080008,
          72.15294991579998,
          116.14511534719996,
          52.46780626340001,
          73.36255371920012,
          103.4670452302,
          93.8974425961999,
          83.09734851240007,
          56.5624675756,
          128.96697421559995,
          77.12238238660002,
          200.6068754088995,
          141.00081873379958,
          134.76744274499958,
          152.27779234979943,
          130.32496947829966,
          136.68949001329966,
          199.0722229969993,
          157.8230109974998,
          206.1492736228996,
          128.9715646395996,
          201.45198403799924,
          146.3040583164996,
          124.3584000013999,
          137.7189140365995,
          145.2827297401995,
          143.5271162109996,
          160.1390713465998,
          120.08991899279953,
          127.48898796259958,
          180.22085150969951,
          160.35121855949953,
          28.93935293299999,
          63.52412482179991,
          77.78256358650005,
          89.63593502540004,
          136.49091908219998,
          59.88709722,
          95.14372222600008,
          107.99172038199995,
          88.17743953760001,
          81.2630561052001,
          109.05493491459993,
          64.8012173964,
          62.33584584599994,
          33.24853903,
          154.54978673039986,
          109.16607684279992,
          128.51953007490005,
          117.66254732839953,
          85.91205626120009,
          158.7836999185999
         ],
         "y0": " ",
         "yaxis": "y"
        },
        {
         "alignmentgroup": "True",
         "hovertemplate": "Number of Nodes=300<br>BTP=False<br>Area Conf.=%{x}<br>Total Energy (J)=%{y}<extra></extra>",
         "legendgroup": "300",
         "marker": {
          "color": "#19d3f3"
         },
         "name": "300",
         "notched": false,
         "offsetgroup": "300",
         "orientation": "v",
         "showlegend": false,
         "type": "box",
         "x": [
          300,
          300,
          300,
          300,
          300,
          300,
          300,
          300,
          300,
          300,
          500,
          300,
          200,
          100,
          100,
          100,
          100,
          100,
          100,
          100,
          100,
          100,
          100,
          300,
          100,
          100,
          100,
          100,
          100,
          100,
          100,
          100,
          100,
          100,
          100,
          100,
          100,
          100,
          100,
          100,
          100,
          100,
          100,
          300,
          100,
          300,
          500,
          500,
          500,
          500,
          500,
          500,
          500,
          500,
          500,
          500,
          500,
          500,
          500,
          500,
          500,
          500,
          500,
          500,
          500,
          500,
          500,
          500,
          500,
          400,
          400,
          400,
          400,
          400,
          400,
          500,
          400,
          500,
          500,
          200,
          200,
          200,
          200,
          200,
          200,
          200,
          200,
          200,
          200,
          200,
          200,
          200,
          200,
          200,
          200,
          200,
          200,
          200,
          200,
          200,
          200,
          200,
          200,
          200,
          200,
          100,
          100,
          500,
          500,
          400,
          400,
          400,
          100,
          100,
          100,
          100,
          200,
          100,
          100,
          100,
          100,
          100,
          100,
          100,
          100,
          100,
          200,
          200,
          300,
          300,
          300,
          300,
          300,
          300,
          300,
          300,
          300,
          300,
          300,
          300,
          300,
          100,
          100,
          100,
          100,
          400,
          400,
          400,
          400,
          400,
          400,
          400,
          400,
          400,
          400,
          400,
          400,
          400,
          400,
          300,
          400,
          400,
          400,
          400,
          100,
          100,
          400,
          100,
          100,
          100,
          100,
          100,
          100,
          100,
          100,
          400,
          500,
          200,
          300,
          100,
          400,
          400,
          400,
          400,
          400,
          400,
          400,
          400,
          400,
          400,
          400,
          500,
          500,
          500,
          500,
          500,
          500,
          400,
          400,
          400,
          400,
          500,
          500,
          500,
          400,
          400,
          400,
          400,
          400,
          500,
          400,
          400,
          400,
          400,
          400,
          400,
          400,
          400,
          400,
          400,
          500,
          500,
          500,
          400,
          400,
          400,
          400,
          400,
          400,
          400,
          400,
          400,
          400,
          400,
          400,
          400,
          400,
          400,
          400,
          400,
          400,
          400,
          500,
          500,
          500,
          500,
          500,
          500,
          500,
          500,
          500,
          500,
          500,
          500,
          500,
          500,
          500,
          500,
          500,
          500,
          500,
          500,
          500,
          400,
          500,
          500,
          300,
          300,
          300,
          300,
          300,
          300,
          300,
          200,
          200,
          200,
          200,
          200,
          200,
          200,
          200,
          200,
          200,
          300,
          300,
          300,
          300,
          300,
          300,
          300,
          300,
          300,
          300,
          300,
          300,
          200,
          300,
          300,
          300,
          300,
          300,
          300,
          300,
          300,
          300,
          300,
          500,
          200,
          200,
          500,
          500,
          500,
          500,
          500,
          500,
          500,
          500,
          500,
          500,
          500,
          500,
          500,
          500,
          500,
          500,
          500,
          500,
          500,
          500,
          500,
          200,
          200,
          200,
          200,
          200,
          200,
          200,
          200,
          200,
          200,
          200,
          200,
          200,
          200,
          200,
          200,
          500,
          500,
          200,
          400,
          400,
          400,
          200,
          200,
          200,
          200,
          200,
          200,
          200,
          200,
          200,
          200,
          200,
          200,
          200,
          200,
          100,
          100,
          100,
          100,
          100,
          100,
          100,
          100,
          100,
          100,
          100,
          100,
          100,
          100,
          100,
          300,
          300,
          100,
          100,
          100,
          100,
          400,
          400,
          400,
          400,
          400,
          400,
          400,
          100,
          300,
          100,
          100,
          100,
          100,
          100,
          100,
          100,
          100,
          100,
          100,
          300,
          300,
          300,
          300,
          300,
          300,
          200,
          200,
          200,
          200,
          200,
          300,
          200,
          200,
          200,
          200,
          200,
          200,
          200,
          200,
          200,
          200,
          300,
          300,
          300,
          300,
          300,
          300,
          300,
          300,
          300,
          300,
          300,
          300,
          300,
          300,
          300,
          300,
          300,
          300,
          300,
          300,
          300,
          300
         ],
         "x0": " ",
         "xaxis": "x2",
         "y": [
          854.059,
          929.822,
          1079.48,
          751.222,
          840.819,
          828.872,
          815.35,
          886.923,
          1117.44,
          846.18,
          698.496,
          990.636,
          1159.32,
          1383.59,
          1315.89,
          1213.8,
          1214.65,
          1214.59,
          1459.33,
          1214.08,
          1213.32,
          1213.8,
          1212.69,
          1081.47,
          1214.05,
          1217.27,
          1214.61,
          1214.91,
          1212.67,
          1226.59,
          1213.54,
          1213.5,
          1214.59,
          1218.39,
          1213.15,
          1215.78,
          1215.25,
          1214.66,
          1299.4,
          1218.57,
          1463.37,
          1215.33,
          1213.97,
          832.636,
          1214.59,
          938.378,
          681.651,
          616.787,
          617.677,
          639.68,
          594.398,
          755.9,
          666.838,
          730.509,
          781.61,
          695.203,
          706.806,
          726.454,
          589.802,
          728.449,
          706.617,
          633.317,
          635.751,
          678.821,
          709.461,
          753.768,
          610.891,
          711.361,
          659.091,
          698.367,
          689.928,
          707.94,
          921.073,
          702.407,
          736.238,
          673.871,
          690.867,
          761.175,
          650.143,
          1164.13,
          1092.47,
          1051.17,
          1159.72,
          1185.7,
          1051.41,
          1213.74,
          1173.63,
          1155.55,
          1054.82,
          1210.69,
          1200.36,
          1170.83,
          1213.57,
          1027.21,
          1104.52,
          1078.22,
          1127.38,
          1170.01,
          1130.86,
          1213.08,
          1137.54,
          1079.94,
          1177.85,
          1149.45,
          1194.75,
          1213.97,
          1315.89,
          616.571,
          665.965,
          691.463,
          685.404,
          652.313,
          1212.67,
          1226.59,
          1213.54,
          1213.5,
          1200.49,
          1218.39,
          1213.15,
          1215.78,
          1215.25,
          1214.66,
          1299.4,
          1218.57,
          1463.37,
          1215.33,
          1112.52,
          1088.43,
          988.247,
          892.483,
          928.718,
          788.895,
          1006.57,
          886.69,
          944.628,
          789.25,
          760.555,
          943.622,
          938.118,
          703.485,
          1148.68,
          1214.91,
          1214.61,
          1217.27,
          1214.05,
          870.337,
          779.403,
          809.405,
          898.256,
          674.314,
          755.476,
          770.501,
          888.223,
          623.294,
          822.762,
          792.897,
          675.667,
          681.923,
          777.84,
          881.154,
          752.321,
          685.5,
          774.758,
          725.605,
          1214.71,
          1213.8,
          830.025,
          1214.65,
          1214.59,
          1459.33,
          1214.08,
          1213.32,
          1213.8,
          1212.69,
          1383.59,
          848.312,
          616.578,
          1088.43,
          828.368,
          1214.71,
          822.762,
          792.897,
          675.667,
          681.923,
          777.84,
          752.321,
          848.312,
          685.5,
          774.758,
          725.605,
          830.025,
          616.571,
          650.143,
          665.965,
          761.175,
          673.871,
          681.651,
          623.294,
          888.223,
          770.501,
          755.476,
          711.361,
          659.091,
          698.496,
          698.367,
          689.928,
          707.94,
          921.073,
          702.407,
          616.787,
          736.238,
          691.463,
          685.404,
          652.313,
          870.337,
          779.403,
          809.405,
          898.256,
          674.314,
          690.867,
          610.891,
          617.677,
          594.398,
          707.94,
          921.073,
          702.407,
          736.238,
          690.867,
          691.463,
          685.404,
          652.313,
          870.337,
          779.403,
          809.405,
          898.256,
          674.314,
          755.476,
          770.501,
          888.223,
          623.294,
          689.928,
          698.367,
          698.496,
          659.091,
          755.9,
          666.838,
          730.509,
          781.61,
          616.578,
          695.203,
          706.806,
          726.454,
          639.68,
          589.802,
          706.617,
          633.317,
          635.751,
          678.821,
          709.461,
          753.768,
          610.891,
          711.361,
          728.449,
          822.762,
          753.768,
          678.821,
          944.628,
          886.69,
          1006.57,
          788.895,
          928.718,
          892.483,
          988.247,
          1088.43,
          1112.52,
          1137.54,
          1213.08,
          1130.86,
          1170.01,
          1127.38,
          1078.22,
          1104.52,
          1027.21,
          789.25,
          760.555,
          943.622,
          938.118,
          809.838,
          846.18,
          1117.44,
          886.923,
          854.059,
          815.35,
          828.872,
          840.819,
          1213.57,
          751.222,
          929.822,
          990.636,
          1081.47,
          832.636,
          881.154,
          938.378,
          1148.68,
          703.485,
          1079.48,
          709.461,
          1170.83,
          1210.69,
          616.787,
          617.677,
          639.68,
          594.398,
          755.9,
          666.838,
          730.509,
          781.61,
          616.578,
          695.203,
          706.806,
          726.454,
          589.802,
          728.449,
          706.617,
          633.317,
          635.751,
          681.651,
          673.871,
          761.175,
          665.965,
          1054.82,
          1155.55,
          1173.63,
          1213.74,
          1051.41,
          1185.7,
          1159.72,
          1051.17,
          1200.36,
          1092.47,
          1159.32,
          1200.49,
          1079.94,
          1177.85,
          1149.45,
          1194.75,
          616.571,
          650.143,
          1164.13,
          792.897,
          675.667,
          681.923,
          1159.72,
          1051.17,
          1092.47,
          1164.13,
          1159.32,
          1200.49,
          1079.94,
          1177.85,
          1149.45,
          1194.75,
          1185.7,
          1051.41,
          1213.74,
          1173.63,
          1212.67,
          1214.91,
          1214.61,
          1217.27,
          1214.05,
          1383.59,
          1212.69,
          1213.8,
          1213.32,
          1214.08,
          1459.33,
          1214.59,
          1214.65,
          1213.8,
          1214.71,
          828.368,
          809.838,
          1226.59,
          1213.54,
          1213.5,
          1214.59,
          777.84,
          752.321,
          848.312,
          685.5,
          774.758,
          725.605,
          830.025,
          1213.97,
          846.18,
          1315.89,
          1463.37,
          1218.57,
          1299.4,
          1214.66,
          1215.25,
          1215.78,
          1213.15,
          1218.39,
          1215.33,
          1117.44,
          886.923,
          854.059,
          892.483,
          988.247,
          809.838,
          1112.52,
          1137.54,
          1213.08,
          1130.86,
          1170.01,
          928.718,
          1127.38,
          1104.52,
          1027.21,
          1213.57,
          1170.83,
          1200.36,
          1210.69,
          1054.82,
          1155.55,
          1078.22,
          788.895,
          886.69,
          815.35,
          828.872,
          840.819,
          751.222,
          1079.48,
          929.822,
          990.636,
          1081.47,
          1006.57,
          832.636,
          938.378,
          1148.68,
          703.485,
          938.118,
          943.622,
          760.555,
          789.25,
          944.628,
          881.154,
          828.368
         ],
         "y0": " ",
         "yaxis": "y2"
        }
       ],
       "layout": {
        "annotations": [
         {
          "font": {},
          "showarrow": false,
          "text": "BTP",
          "x": 0.245,
          "xanchor": "center",
          "xref": "paper",
          "y": 1,
          "yanchor": "bottom",
          "yref": "paper"
         },
         {
          "font": {},
          "showarrow": false,
          "text": "SBP",
          "x": 0.755,
          "xanchor": "center",
          "xref": "paper",
          "y": 1,
          "yanchor": "bottom",
          "yref": "paper"
         }
        ],
        "boxmode": "group",
        "legend": {
         "title": {
          "text": "Number of Nodes"
         },
         "tracegroupgap": 0
        },
        "margin": {
         "t": 60
        },
        "template": {
         "data": {
          "bar": [
           {
            "error_x": {
             "color": "#2a3f5f"
            },
            "error_y": {
             "color": "#2a3f5f"
            },
            "marker": {
             "line": {
              "color": "#E5ECF6",
              "width": 0.5
             },
             "pattern": {
              "fillmode": "overlay",
              "size": 10,
              "solidity": 0.2
             }
            },
            "type": "bar"
           }
          ],
          "barpolar": [
           {
            "marker": {
             "line": {
              "color": "#E5ECF6",
              "width": 0.5
             },
             "pattern": {
              "fillmode": "overlay",
              "size": 10,
              "solidity": 0.2
             }
            },
            "type": "barpolar"
           }
          ],
          "carpet": [
           {
            "aaxis": {
             "endlinecolor": "#2a3f5f",
             "gridcolor": "white",
             "linecolor": "white",
             "minorgridcolor": "white",
             "startlinecolor": "#2a3f5f"
            },
            "baxis": {
             "endlinecolor": "#2a3f5f",
             "gridcolor": "white",
             "linecolor": "white",
             "minorgridcolor": "white",
             "startlinecolor": "#2a3f5f"
            },
            "type": "carpet"
           }
          ],
          "choropleth": [
           {
            "colorbar": {
             "outlinewidth": 0,
             "ticks": ""
            },
            "type": "choropleth"
           }
          ],
          "contour": [
           {
            "colorbar": {
             "outlinewidth": 0,
             "ticks": ""
            },
            "colorscale": [
             [
              0,
              "#0d0887"
             ],
             [
              0.1111111111111111,
              "#46039f"
             ],
             [
              0.2222222222222222,
              "#7201a8"
             ],
             [
              0.3333333333333333,
              "#9c179e"
             ],
             [
              0.4444444444444444,
              "#bd3786"
             ],
             [
              0.5555555555555556,
              "#d8576b"
             ],
             [
              0.6666666666666666,
              "#ed7953"
             ],
             [
              0.7777777777777778,
              "#fb9f3a"
             ],
             [
              0.8888888888888888,
              "#fdca26"
             ],
             [
              1,
              "#f0f921"
             ]
            ],
            "type": "contour"
           }
          ],
          "contourcarpet": [
           {
            "colorbar": {
             "outlinewidth": 0,
             "ticks": ""
            },
            "type": "contourcarpet"
           }
          ],
          "heatmap": [
           {
            "colorbar": {
             "outlinewidth": 0,
             "ticks": ""
            },
            "colorscale": [
             [
              0,
              "#0d0887"
             ],
             [
              0.1111111111111111,
              "#46039f"
             ],
             [
              0.2222222222222222,
              "#7201a8"
             ],
             [
              0.3333333333333333,
              "#9c179e"
             ],
             [
              0.4444444444444444,
              "#bd3786"
             ],
             [
              0.5555555555555556,
              "#d8576b"
             ],
             [
              0.6666666666666666,
              "#ed7953"
             ],
             [
              0.7777777777777778,
              "#fb9f3a"
             ],
             [
              0.8888888888888888,
              "#fdca26"
             ],
             [
              1,
              "#f0f921"
             ]
            ],
            "type": "heatmap"
           }
          ],
          "heatmapgl": [
           {
            "colorbar": {
             "outlinewidth": 0,
             "ticks": ""
            },
            "colorscale": [
             [
              0,
              "#0d0887"
             ],
             [
              0.1111111111111111,
              "#46039f"
             ],
             [
              0.2222222222222222,
              "#7201a8"
             ],
             [
              0.3333333333333333,
              "#9c179e"
             ],
             [
              0.4444444444444444,
              "#bd3786"
             ],
             [
              0.5555555555555556,
              "#d8576b"
             ],
             [
              0.6666666666666666,
              "#ed7953"
             ],
             [
              0.7777777777777778,
              "#fb9f3a"
             ],
             [
              0.8888888888888888,
              "#fdca26"
             ],
             [
              1,
              "#f0f921"
             ]
            ],
            "type": "heatmapgl"
           }
          ],
          "histogram": [
           {
            "marker": {
             "pattern": {
              "fillmode": "overlay",
              "size": 10,
              "solidity": 0.2
             }
            },
            "type": "histogram"
           }
          ],
          "histogram2d": [
           {
            "colorbar": {
             "outlinewidth": 0,
             "ticks": ""
            },
            "colorscale": [
             [
              0,
              "#0d0887"
             ],
             [
              0.1111111111111111,
              "#46039f"
             ],
             [
              0.2222222222222222,
              "#7201a8"
             ],
             [
              0.3333333333333333,
              "#9c179e"
             ],
             [
              0.4444444444444444,
              "#bd3786"
             ],
             [
              0.5555555555555556,
              "#d8576b"
             ],
             [
              0.6666666666666666,
              "#ed7953"
             ],
             [
              0.7777777777777778,
              "#fb9f3a"
             ],
             [
              0.8888888888888888,
              "#fdca26"
             ],
             [
              1,
              "#f0f921"
             ]
            ],
            "type": "histogram2d"
           }
          ],
          "histogram2dcontour": [
           {
            "colorbar": {
             "outlinewidth": 0,
             "ticks": ""
            },
            "colorscale": [
             [
              0,
              "#0d0887"
             ],
             [
              0.1111111111111111,
              "#46039f"
             ],
             [
              0.2222222222222222,
              "#7201a8"
             ],
             [
              0.3333333333333333,
              "#9c179e"
             ],
             [
              0.4444444444444444,
              "#bd3786"
             ],
             [
              0.5555555555555556,
              "#d8576b"
             ],
             [
              0.6666666666666666,
              "#ed7953"
             ],
             [
              0.7777777777777778,
              "#fb9f3a"
             ],
             [
              0.8888888888888888,
              "#fdca26"
             ],
             [
              1,
              "#f0f921"
             ]
            ],
            "type": "histogram2dcontour"
           }
          ],
          "mesh3d": [
           {
            "colorbar": {
             "outlinewidth": 0,
             "ticks": ""
            },
            "type": "mesh3d"
           }
          ],
          "parcoords": [
           {
            "line": {
             "colorbar": {
              "outlinewidth": 0,
              "ticks": ""
             }
            },
            "type": "parcoords"
           }
          ],
          "pie": [
           {
            "automargin": true,
            "type": "pie"
           }
          ],
          "scatter": [
           {
            "fillpattern": {
             "fillmode": "overlay",
             "size": 10,
             "solidity": 0.2
            },
            "type": "scatter"
           }
          ],
          "scatter3d": [
           {
            "line": {
             "colorbar": {
              "outlinewidth": 0,
              "ticks": ""
             }
            },
            "marker": {
             "colorbar": {
              "outlinewidth": 0,
              "ticks": ""
             }
            },
            "type": "scatter3d"
           }
          ],
          "scattercarpet": [
           {
            "marker": {
             "colorbar": {
              "outlinewidth": 0,
              "ticks": ""
             }
            },
            "type": "scattercarpet"
           }
          ],
          "scattergeo": [
           {
            "marker": {
             "colorbar": {
              "outlinewidth": 0,
              "ticks": ""
             }
            },
            "type": "scattergeo"
           }
          ],
          "scattergl": [
           {
            "marker": {
             "colorbar": {
              "outlinewidth": 0,
              "ticks": ""
             }
            },
            "type": "scattergl"
           }
          ],
          "scattermapbox": [
           {
            "marker": {
             "colorbar": {
              "outlinewidth": 0,
              "ticks": ""
             }
            },
            "type": "scattermapbox"
           }
          ],
          "scatterpolar": [
           {
            "marker": {
             "colorbar": {
              "outlinewidth": 0,
              "ticks": ""
             }
            },
            "type": "scatterpolar"
           }
          ],
          "scatterpolargl": [
           {
            "marker": {
             "colorbar": {
              "outlinewidth": 0,
              "ticks": ""
             }
            },
            "type": "scatterpolargl"
           }
          ],
          "scatterternary": [
           {
            "marker": {
             "colorbar": {
              "outlinewidth": 0,
              "ticks": ""
             }
            },
            "type": "scatterternary"
           }
          ],
          "surface": [
           {
            "colorbar": {
             "outlinewidth": 0,
             "ticks": ""
            },
            "colorscale": [
             [
              0,
              "#0d0887"
             ],
             [
              0.1111111111111111,
              "#46039f"
             ],
             [
              0.2222222222222222,
              "#7201a8"
             ],
             [
              0.3333333333333333,
              "#9c179e"
             ],
             [
              0.4444444444444444,
              "#bd3786"
             ],
             [
              0.5555555555555556,
              "#d8576b"
             ],
             [
              0.6666666666666666,
              "#ed7953"
             ],
             [
              0.7777777777777778,
              "#fb9f3a"
             ],
             [
              0.8888888888888888,
              "#fdca26"
             ],
             [
              1,
              "#f0f921"
             ]
            ],
            "type": "surface"
           }
          ],
          "table": [
           {
            "cells": {
             "fill": {
              "color": "#EBF0F8"
             },
             "line": {
              "color": "white"
             }
            },
            "header": {
             "fill": {
              "color": "#C8D4E3"
             },
             "line": {
              "color": "white"
             }
            },
            "type": "table"
           }
          ]
         },
         "layout": {
          "annotationdefaults": {
           "arrowcolor": "#2a3f5f",
           "arrowhead": 0,
           "arrowwidth": 1
          },
          "autotypenumbers": "strict",
          "coloraxis": {
           "colorbar": {
            "outlinewidth": 0,
            "ticks": ""
           }
          },
          "colorscale": {
           "diverging": [
            [
             0,
             "#8e0152"
            ],
            [
             0.1,
             "#c51b7d"
            ],
            [
             0.2,
             "#de77ae"
            ],
            [
             0.3,
             "#f1b6da"
            ],
            [
             0.4,
             "#fde0ef"
            ],
            [
             0.5,
             "#f7f7f7"
            ],
            [
             0.6,
             "#e6f5d0"
            ],
            [
             0.7,
             "#b8e186"
            ],
            [
             0.8,
             "#7fbc41"
            ],
            [
             0.9,
             "#4d9221"
            ],
            [
             1,
             "#276419"
            ]
           ],
           "sequential": [
            [
             0,
             "#0d0887"
            ],
            [
             0.1111111111111111,
             "#46039f"
            ],
            [
             0.2222222222222222,
             "#7201a8"
            ],
            [
             0.3333333333333333,
             "#9c179e"
            ],
            [
             0.4444444444444444,
             "#bd3786"
            ],
            [
             0.5555555555555556,
             "#d8576b"
            ],
            [
             0.6666666666666666,
             "#ed7953"
            ],
            [
             0.7777777777777778,
             "#fb9f3a"
            ],
            [
             0.8888888888888888,
             "#fdca26"
            ],
            [
             1,
             "#f0f921"
            ]
           ],
           "sequentialminus": [
            [
             0,
             "#0d0887"
            ],
            [
             0.1111111111111111,
             "#46039f"
            ],
            [
             0.2222222222222222,
             "#7201a8"
            ],
            [
             0.3333333333333333,
             "#9c179e"
            ],
            [
             0.4444444444444444,
             "#bd3786"
            ],
            [
             0.5555555555555556,
             "#d8576b"
            ],
            [
             0.6666666666666666,
             "#ed7953"
            ],
            [
             0.7777777777777778,
             "#fb9f3a"
            ],
            [
             0.8888888888888888,
             "#fdca26"
            ],
            [
             1,
             "#f0f921"
            ]
           ]
          },
          "colorway": [
           "#636efa",
           "#EF553B",
           "#00cc96",
           "#ab63fa",
           "#FFA15A",
           "#19d3f3",
           "#FF6692",
           "#B6E880",
           "#FF97FF",
           "#FECB52"
          ],
          "font": {
           "color": "#2a3f5f"
          },
          "geo": {
           "bgcolor": "white",
           "lakecolor": "white",
           "landcolor": "#E5ECF6",
           "showlakes": true,
           "showland": true,
           "subunitcolor": "white"
          },
          "hoverlabel": {
           "align": "left"
          },
          "hovermode": "closest",
          "mapbox": {
           "style": "light"
          },
          "paper_bgcolor": "white",
          "plot_bgcolor": "#E5ECF6",
          "polar": {
           "angularaxis": {
            "gridcolor": "white",
            "linecolor": "white",
            "ticks": ""
           },
           "bgcolor": "#E5ECF6",
           "radialaxis": {
            "gridcolor": "white",
            "linecolor": "white",
            "ticks": ""
           }
          },
          "scene": {
           "xaxis": {
            "backgroundcolor": "#E5ECF6",
            "gridcolor": "white",
            "gridwidth": 2,
            "linecolor": "white",
            "showbackground": true,
            "ticks": "",
            "zerolinecolor": "white"
           },
           "yaxis": {
            "backgroundcolor": "#E5ECF6",
            "gridcolor": "white",
            "gridwidth": 2,
            "linecolor": "white",
            "showbackground": true,
            "ticks": "",
            "zerolinecolor": "white"
           },
           "zaxis": {
            "backgroundcolor": "#E5ECF6",
            "gridcolor": "white",
            "gridwidth": 2,
            "linecolor": "white",
            "showbackground": true,
            "ticks": "",
            "zerolinecolor": "white"
           }
          },
          "shapedefaults": {
           "line": {
            "color": "#2a3f5f"
           }
          },
          "ternary": {
           "aaxis": {
            "gridcolor": "white",
            "linecolor": "white",
            "ticks": ""
           },
           "baxis": {
            "gridcolor": "white",
            "linecolor": "white",
            "ticks": ""
           },
           "bgcolor": "#E5ECF6",
           "caxis": {
            "gridcolor": "white",
            "linecolor": "white",
            "ticks": ""
           }
          },
          "title": {
           "x": 0.05
          },
          "xaxis": {
           "automargin": true,
           "gridcolor": "white",
           "linecolor": "white",
           "ticks": "",
           "title": {
            "standoff": 15
           },
           "zerolinecolor": "white",
           "zerolinewidth": 2
          },
          "yaxis": {
           "automargin": true,
           "gridcolor": "white",
           "linecolor": "white",
           "ticks": "",
           "title": {
            "standoff": 15
           },
           "zerolinecolor": "white",
           "zerolinewidth": 2
          }
         }
        },
        "xaxis": {
         "anchor": "y",
         "domain": [
          0,
          0.49
         ],
         "tickmode": "array",
         "ticktext": [
          "(1)",
          "(2)",
          "(3)",
          "(4)",
          "(5)"
         ],
         "tickvals": [
          100,
          200,
          300,
          400,
          500
         ],
         "title": {
          "text": "Area Conf."
         }
        },
        "xaxis2": {
         "anchor": "y2",
         "domain": [
          0.51,
          1
         ],
         "matches": "x",
         "tickmode": "array",
         "ticktext": [
          "(1)",
          "(2)",
          "(3)",
          "(4)",
          "(5)"
         ],
         "tickvals": [
          100,
          200,
          300,
          400,
          500
         ],
         "title": {
          "text": "Area Conf."
         }
        },
        "yaxis": {
         "anchor": "x",
         "domain": [
          0,
          1
         ],
         "title": {
          "text": "Total Energy (J)"
         }
        },
        "yaxis2": {
         "anchor": "x2",
         "domain": [
          0,
          1
         ],
         "matches": "y",
         "showticklabels": false
        }
       }
      }
     },
     "metadata": {},
     "output_type": "display_data"
    }
   ],
   "source": [
    "total_energy_df = raw[raw[\"Node Count\"] >= 50].sort_values(\"Node Count\")\n",
    "fig = px.box(\n",
    "    total_energy_df, \n",
    "    facet_col=\"BTP\", \n",
    "    y=total_energy_df[\"Total Energy\"], \n",
    "    color=\"Node Count\",\n",
    "    x=\"Width\",\n",
    "    labels={\n",
    "        \"Width\": \"Area Conf.\",\n",
    "        \"Total Energy\": \"Total Energy (J)\",\n",
    "        \"Node Count\": \"Number of Nodes\",\n",
    "    },\n",
    ")\n",
    "\n",
    "fig.for_each_annotation(lambda a: a.update(text=a.text.split(\"=\")[1]))\n",
    "fig.for_each_annotation(lambda a: a.update(text=a.text.replace(\"True\", 'BTP')))\n",
    "fig.for_each_annotation(lambda a: a.update(text=a.text.replace(\"False\", 'SBP')))\n",
    "\n",
    "fig.update_layout(\n",
    "    xaxis1 = dict(\n",
    "        tickmode = 'array',\n",
    "        tickvals = [100, 200, 300, 400, 500],\n",
    "        ticktext = [\"(1)\", \"(2)\", \"(3)\", \"(4)\", \"(5)\"]\n",
    "    ),\n",
    "    xaxis2 = dict(\n",
    "        tickmode = 'array',\n",
    "        tickvals = [100, 200, 300, 400, 500],\n",
    "        ticktext = [\"(1)\", \"(2)\", \"(3)\", \"(4)\", \"(5)\"]\n",
    "    )\n",
    ")\n",
    "\n",
    "fig.write_image(\"energy_comparison_sbp.pdf\", width=1000, height=300)\n",
    "fig"
   ]
  },
  {
   "cell_type": "code",
   "execution_count": 28,
   "metadata": {},
   "outputs": [
    {
     "data": {
      "application/vnd.plotly.v1+json": {
       "config": {
        "plotlyServerURL": "https://plot.ly"
       },
       "data": [
        {
         "alignmentgroup": "True",
         "hovertemplate": "Nuber of Nodes=50<br>Area Conf.=%{x}<br>Energy compared to SBP (%)=%{y}<extra></extra>",
         "legendgroup": "50",
         "marker": {
          "color": "#636efa"
         },
         "name": "50",
         "notched": false,
         "offsetgroup": "50",
         "orientation": "v",
         "showlegend": true,
         "type": "box",
         "x": [
          400,
          300,
          300,
          300,
          300,
          300,
          300,
          300,
          300,
          300,
          300,
          300,
          300,
          500,
          100,
          100,
          300,
          500,
          500,
          500,
          500,
          500,
          100,
          500,
          500,
          500,
          500,
          300,
          300,
          200,
          200,
          200,
          200,
          200,
          500,
          500,
          500,
          500,
          300,
          300,
          300,
          300,
          300,
          300,
          300,
          300,
          300,
          300,
          300,
          300,
          300,
          300,
          300,
          300,
          500,
          500,
          500,
          500,
          500,
          500,
          500,
          500,
          500,
          500,
          500,
          500,
          500,
          500,
          500,
          500,
          100,
          100,
          100,
          100,
          100,
          100,
          100,
          100,
          100,
          100,
          100,
          500,
          500,
          500,
          500,
          500,
          500,
          500,
          500,
          500,
          500,
          500,
          500,
          500,
          500,
          500,
          500,
          400,
          400,
          400,
          400,
          400,
          400,
          500,
          500,
          500,
          500,
          500,
          500,
          500,
          200,
          200,
          200,
          200,
          400,
          400,
          400,
          400,
          400,
          400,
          400,
          400,
          400,
          400,
          400,
          400,
          400,
          400,
          400,
          400,
          400,
          400,
          400,
          400,
          400,
          400,
          400,
          400,
          400,
          400,
          400,
          400,
          100,
          100,
          100,
          100,
          100,
          100,
          100,
          100,
          100,
          100,
          100,
          100,
          100,
          100,
          100,
          100,
          100,
          100,
          100,
          100,
          100,
          100,
          100,
          400,
          400,
          100,
          100,
          100,
          100,
          500,
          500,
          500,
          200,
          200,
          200,
          200,
          200,
          200,
          200,
          200,
          500,
          200,
          200,
          200,
          200,
          200,
          200,
          200,
          200,
          200,
          200,
          200,
          200,
          200,
          500,
          500,
          500,
          100,
          400,
          500,
          500,
          500,
          500,
          500,
          500,
          500,
          500,
          500,
          500,
          500,
          500,
          500,
          500,
          500,
          500,
          500,
          500,
          500,
          500,
          500,
          500,
          500,
          100,
          100,
          500,
          100,
          400,
          400,
          400,
          400,
          400,
          400,
          400,
          400,
          400,
          400,
          400,
          400,
          400,
          400,
          400,
          400,
          500,
          400,
          400,
          200,
          200,
          200,
          200,
          200,
          200,
          200,
          200,
          200,
          200,
          200,
          200,
          400,
          400,
          400,
          400,
          500,
          500,
          500,
          100,
          100,
          100,
          100,
          100,
          100,
          100,
          100,
          100,
          100,
          100,
          200,
          200,
          200,
          200,
          100,
          100,
          100,
          100,
          100,
          200,
          500,
          500,
          100,
          100,
          100,
          200,
          100,
          100,
          100,
          100,
          100,
          100,
          100,
          100,
          100,
          200,
          200,
          200,
          400,
          400,
          400,
          400,
          400,
          400,
          400,
          400,
          400,
          400,
          300,
          300,
          300,
          300,
          300,
          400,
          300,
          400,
          400,
          400,
          400,
          400,
          400,
          400,
          400,
          400,
          400,
          400,
          400,
          400,
          400,
          400,
          400,
          400,
          400,
          300,
          300,
          300,
          300,
          400,
          200,
          200,
          200,
          200,
          200,
          200,
          200,
          200,
          200,
          200,
          200,
          200,
          200,
          300,
          300,
          300,
          300,
          300,
          300,
          300,
          300,
          300,
          300,
          300,
          200,
          300,
          300,
          300,
          300,
          300,
          300,
          300,
          300,
          300,
          200,
          100,
          200,
          300,
          300,
          200,
          200,
          200,
          200,
          200,
          200,
          200,
          200,
          300,
          200,
          200,
          200,
          200,
          100,
          200,
          200,
          200,
          200,
          200,
          200,
          200,
          300,
          200,
          300,
          300,
          300,
          300,
          200,
          200,
          300,
          300,
          200,
          300,
          100,
          300,
          100,
          100,
          100,
          100,
          100,
          100,
          100,
          100,
          100,
          100,
          100,
          100,
          100,
          300,
          100,
          300,
          300,
          300,
          300,
          300,
          300,
          300,
          300,
          300,
          300,
          300,
          300,
          300,
          300,
          300,
          300
         ],
         "x0": " ",
         "xaxis": "x",
         "y": [
          29.999872893864637,
          29.56227029019567,
          12.439838654434062,
          10.781665448082537,
          10.693595850283064,
          8.687992963179298,
          12.403652612212875,
          20.7663345352965,
          17.549166127824023,
          14.356795923722974,
          28.082572579045916,
          19.45354669805159,
          23.767018487577086,
          20.716098968703577,
          8.025979429092073,
          14.245516776306033,
          18.58619891203965,
          10.676698172172221,
          17.273811074891405,
          7.612824391991041,
          19.693477901128222,
          19.83779056121028,
          14.549650020873115,
          22.29060315068613,
          8.36632865687211,
          9.426217586132157,
          9.92582947701884,
          20.97845503265263,
          31.500378857588927,
          19.967331213077415,
          19.252093821639154,
          15.515399905397413,
          13.900753504984632,
          17.222980770750798,
          31.90978675210625,
          22.517012907126364,
          8.459398472488616,
          13.131486662225852,
          24.37696085780951,
          17.920293942753236,
          14.248992866686994,
          11.578763830223291,
          15.253905572522116,
          24.182847659931053,
          18.714659203632316,
          27.139497181899014,
          8.055849412638047,
          13.520704338746695,
          19.538642053087564,
          13.683067084913352,
          12.507609887947416,
          10.253772634300525,
          13.666544755734044,
          13.660004024849009,
          9.175387945442951,
          9.041172457350555,
          14.36020955534728,
          20.12154192314615,
          21.654546367738703,
          25.186799461071992,
          7.679610378110008,
          9.917756373656255,
          33.34973452601636,
          13.303595488989824,
          12.188619391400499,
          20.192840370638933,
          26.257311153883677,
          6.046922081960836,
          37.82245477399995,
          7.920069669715447,
          15.661630910523398,
          11.811903373995603,
          10.805818334586318,
          14.083705653147616,
          10.592469464210948,
          9.408255606280823,
          15.166134943074939,
          14.003050399190789,
          15.974747049865046,
          13.728619936589517,
          15.410552885031253,
          9.400001628408674,
          13.132044718027968,
          44.55331004393468,
          5.341300018118278,
          13.431569055331478,
          27.95048879444903,
          10.487634863603086,
          15.86794128575516,
          12.524344072088908,
          10.009807557276163,
          18.832583468403108,
          17.13449747328164,
          19.806999625604334,
          23.092316494375417,
          16.470136656890208,
          23.262643026134423,
          17.357426114306946,
          36.776167561004655,
          8.05475162092938,
          18.182862357549517,
          13.395004283850708,
          14.268091306137688,
          22.64689748230576,
          23.68499284622706,
          9.831520325900232,
          11.650281034585207,
          13.230263987462848,
          18.731959740399436,
          11.747335754499902,
          11.606136934987173,
          11.782803262518227,
          14.20381298514147,
          13.617337156752951,
          10.910232073441195,
          23.599490217475513,
          30.693465916886787,
          33.33415956846833,
          28.462854529035585,
          11.420961972522587,
          32.08756087644454,
          33.0629425316084,
          9.723283475900676,
          20.736396283977655,
          5.9824835687512365,
          6.614811186849801,
          11.455676805615205,
          15.117115626981157,
          11.993713733745338,
          19.879461526629015,
          6.970332249477189,
          10.20315020336473,
          35.74890954210866,
          26.645545749476778,
          11.71763157720551,
          10.324928891058684,
          14.622646187949764,
          10.873906391501594,
          18.896085436855593,
          17.149390554436177,
          26.93430405975578,
          14.6134335776802,
          12.447683254540177,
          11.501654436433133,
          9.702985987644913,
          14.305916844707289,
          10.271686517450833,
          11.965209452741716,
          12.509362812716947,
          14.062269055386523,
          11.053239227285259,
          13.431967127730605,
          11.464725157920142,
          11.490956123111484,
          12.73620277489772,
          14.210722087298311,
          13.071415568342351,
          13.190750637895544,
          12.13494950765395,
          13.256209763212476,
          14.444002497219085,
          10.213652796363707,
          11.913642021806316,
          13.656622611470311,
          13.657028814010081,
          18.52581923280054,
          18.756106292193113,
          13.253042942905392,
          15.198998727969506,
          13.705108500337209,
          13.731869849192302,
          8.612802778241074,
          23.66749555814076,
          12.574090361889812,
          16.38671181069502,
          14.707437874378245,
          13.75236800443097,
          13.534144920193691,
          19.155065408878684,
          18.06189421409185,
          10.192941881914466,
          16.993808482135346,
          13.58573334344505,
          19.971529667127687,
          16.532104983280135,
          15.27531043140189,
          13.491334902158592,
          14.835513376485403,
          23.677142534127352,
          11.49451733598842,
          14.807940471431124,
          25.044065181155766,
          15.285834459782787,
          14.27192435820409,
          16.716259636609824,
          12.293986218383413,
          36.503342398774144,
          15.524422861626638,
          10.687576383633324,
          15.086431809303363,
          8.506442714409289,
          9.010145050742402,
          22.636344613927434,
          19.606238217712296,
          31.898074606149674,
          13.157003663526057,
          28.485532376659663,
          7.345107021639709,
          19.789149885015078,
          41.01110637470745,
          26.352144026921508,
          18.14296777281256,
          12.481720443835364,
          10.780372596143833,
          6.788133873019639,
          14.143715843127255,
          44.49097522416125,
          7.883483167469336,
          23.22051234265519,
          10.080269766264156,
          12.439740868344524,
          13.771791519727067,
          32.5350277888531,
          6.7101504152799984,
          11.291364943572292,
          13.19720201000005,
          13.758267344394268,
          14.365831787606684,
          12.14911133915464,
          19.9119498846364,
          9.919173126716235,
          7.018894091325424,
          13.838218203827562,
          12.898726173245395,
          20.824980422645627,
          14.028367087066277,
          24.7150766139424,
          8.417668842305009,
          6.668079853790062,
          34.735987468177434,
          14.735215959156081,
          31.111677855707075,
          11.912465311392577,
          18.159816072181627,
          26.57179908987465,
          11.512013508961637,
          15.63881264775755,
          16.78492324362559,
          16.93910890640384,
          14.031060580897122,
          13.952656468544342,
          11.291526127903754,
          12.736816852689447,
          14.23082804753417,
          12.367479021304689,
          18.978045745174406,
          18.631732746477507,
          13.884075615876176,
          14.019294169530477,
          10.304228435998786,
          17.994180118130064,
          9.801427379357001,
          27.854925904510914,
          14.761058430256805,
          10.22300391851899,
          17.751671351614775,
          15.720835383179327,
          14.523077727434606,
          13.925444640069728,
          11.645030639346452,
          15.933886140578982,
          13.805406115377227,
          11.427771743943335,
          12.69083844691951,
          13.431645473371615,
          14.100482471851484,
          11.483810848187694,
          19.027742327333915,
          14.981557865122516,
          15.684445814994644,
          18.962324782566487,
          14.415928739530973,
          15.57270523369203,
          12.388109529803875,
          13.165795040776661,
          15.102599790673867,
          13.520266039978498,
          12.959593123387686,
          15.508261468112886,
          17.495594643319652,
          11.42892290068485,
          11.931885028686741,
          18.897447899153445,
          13.013839159324704,
          12.935356930338429,
          13.069626595871458,
          13.803602638252421,
          13.974516063055342,
          12.935213981370714,
          15.318757329300556,
          15.779283746884454,
          13.351408403174252,
          20.77258120714195,
          25.14302760095805,
          25.24520900892612,
          10.51219545266464,
          15.650202936549087,
          12.140920481919707,
          9.822696986197048,
          32.29055739669421,
          26.38332494051767,
          15.54645488343224,
          14.899432901280644,
          29.18635787529722,
          22.67362214756506,
          20.377061128167583,
          32.59077511298354,
          15.656771019475531,
          15.138187912859546,
          18.994044797867076,
          24.547708356130084,
          9.454412131002947,
          19.50063338086758,
          19.168244377690012,
          11.003130212533195,
          15.627531862074648,
          15.74091723522798,
          35.243949124426,
          34.33632352964251,
          36.26840039966285,
          9.25994056322841,
          23.827380454783864,
          22.5169917449201,
          11.40360323038323,
          14.145944099993981,
          20.1453693844371,
          13.337152886205025,
          11.497458763743191,
          10.159850920145608,
          22.418326293635488,
          10.770759334313906,
          29.670662114596407,
          29.137625400036388,
          13.325324447310354,
          12.226202128782214,
          12.709870124907804,
          11.759405970436058,
          14.952887176986643,
          14.197484879144747,
          15.150944725979206,
          18.078539103472142,
          16.903101134832667,
          14.414035185496754,
          12.773297361532896,
          20.60801537984822,
          26.379380735674314,
          14.987848993494035,
          23.841600638528305,
          23.42809781515176,
          12.133821342961639,
          13.929589897670406,
          17.116926651338172,
          13.387370155950752,
          25.203989552713697,
          11.246352149869903,
          16.9497599366988,
          13.461883670478967,
          19.575670475334373,
          14.804912431194767,
          12.514163357095365,
          15.526585812977595,
          21.093870230887227,
          19.021567707797235,
          16.487585274124207,
          9.210459639535438,
          14.281707536552386,
          17.790241703341973,
          24.75064104091992,
          13.510347103094148,
          12.734175608421078,
          12.7781931290178,
          15.504559634202991,
          9.44783251044087,
          15.552642633433061,
          14.475462535876241,
          18.02364799471452,
          11.909086955122024,
          18.31152383708449,
          26.351179066687504,
          12.296909543706798,
          18.204384893759666,
          14.345674512056524,
          22.15288777033683,
          17.462859168858603,
          18.264747795196147,
          13.786331403536867,
          15.34262930481251,
          16.74248435094525,
          12.392926410141266,
          14.29546336266917,
          14.651482442767225,
          19.212247143112585,
          16.748950325485314,
          14.22064200981518,
          14.136938562830387,
          10.75707421675211,
          14.4008180369961,
          12.637948143572045,
          28.440319930363707,
          24.58703593319134,
          15.851968591513598,
          14.71903848202252,
          31.10323265032015,
          17.99566732376956,
          11.231277731805637,
          10.823202707866773,
          15.649218342333501,
          13.19777272908032,
          17.382928467023042,
          10.64657151679392,
          12.352908880016143,
          13.710060126222581,
          12.94025237469397,
          16.71179992026398,
          11.417661054685569,
          11.898623088708968,
          10.981434441537111,
          13.20807109714843,
          10.723658261297533,
          12.662986813439602,
          16.287760065386834,
          15.398399520197422,
          17.15667047150944,
          12.751600538499977,
          16.40018571764836,
          9.201631834629866,
          13.923481149626255,
          16.826158824228603,
          26.840603177321004,
          24.066373318172293,
          10.5970371667919,
          10.893705631393212,
          13.705333659192299,
          12.658040601351766,
          20.88894320817429,
          10.779818563486145,
          25.096853603311587,
          21.651530669981867,
          22.035121207296488,
          11.101049918436072
         ],
         "y0": " ",
         "yaxis": "y"
        },
        {
         "alignmentgroup": "True",
         "hovertemplate": "Nuber of Nodes=100<br>Area Conf.=%{x}<br>Energy compared to SBP (%)=%{y}<extra></extra>",
         "legendgroup": "100",
         "marker": {
          "color": "#EF553B"
         },
         "name": "100",
         "notched": false,
         "offsetgroup": "100",
         "orientation": "v",
         "showlegend": true,
         "type": "box",
         "x": [
          400,
          400,
          400,
          400,
          400,
          400,
          400,
          400,
          400,
          400,
          400,
          400,
          300,
          300,
          300,
          300,
          300,
          300,
          300,
          300,
          300,
          300,
          300,
          300,
          300,
          300,
          300,
          300,
          300,
          300,
          400,
          400,
          400,
          400,
          400,
          400,
          400,
          400,
          400,
          400,
          400,
          300,
          400,
          300,
          300,
          300,
          300,
          300,
          500,
          500,
          500,
          500,
          500,
          500,
          500,
          500,
          500,
          500,
          500,
          500,
          500,
          500,
          500,
          500,
          500,
          500,
          500,
          500,
          300,
          300,
          300,
          300,
          400,
          500,
          500,
          500,
          500,
          500,
          300,
          300,
          300,
          300,
          300,
          500,
          400,
          300,
          300,
          300,
          300,
          300,
          300,
          300,
          300,
          300,
          300,
          300,
          300,
          300,
          300,
          300,
          200,
          300,
          500,
          400,
          400,
          400,
          400,
          400,
          400,
          400,
          400,
          400,
          400,
          400,
          400,
          400,
          500,
          400,
          400,
          400,
          400,
          400,
          400,
          400,
          400,
          300,
          300,
          300,
          300,
          300,
          100,
          100,
          400,
          500,
          500,
          500,
          400,
          400,
          400,
          400,
          400,
          400,
          500,
          500,
          500,
          500,
          500,
          500,
          500,
          500,
          500,
          500,
          500,
          500,
          500,
          500,
          500,
          500,
          500,
          100,
          500,
          500,
          500,
          500,
          500,
          500,
          500,
          500,
          100,
          100,
          100,
          200,
          200,
          200,
          200,
          200,
          200,
          200,
          200,
          200,
          200,
          200,
          200,
          200,
          200,
          200,
          200,
          200,
          300,
          300,
          300,
          300,
          400,
          400,
          200,
          400,
          400,
          200,
          200,
          200,
          400,
          200,
          400,
          300,
          200,
          200,
          100,
          100,
          100,
          100,
          100,
          100,
          100,
          100,
          100,
          100,
          100,
          100,
          100,
          100,
          100,
          100,
          100,
          200,
          200,
          200,
          200,
          500,
          500,
          200,
          500,
          100,
          100,
          100,
          100,
          100,
          100,
          500,
          100,
          300,
          200,
          400,
          400,
          400,
          400,
          400,
          400,
          400,
          400,
          400,
          400,
          400,
          300,
          300,
          300,
          300,
          300,
          300,
          200,
          200,
          200,
          200,
          200,
          200,
          200,
          200,
          200,
          200,
          200,
          200,
          400,
          200,
          400,
          400,
          300,
          300,
          300,
          300,
          300,
          300,
          300,
          300,
          300,
          300,
          100,
          100,
          100,
          100,
          500,
          400,
          400,
          400,
          400,
          400,
          400,
          400,
          400,
          400,
          400,
          400,
          400,
          400,
          400,
          400,
          200,
          200,
          200,
          100,
          100,
          100,
          500,
          500,
          500,
          500,
          500,
          500,
          500,
          500,
          500,
          500,
          500,
          500,
          500,
          500,
          500,
          500,
          500,
          500,
          500,
          500,
          500,
          500,
          500,
          500,
          500,
          500,
          100,
          100,
          100,
          100,
          200,
          200,
          200,
          200,
          200,
          200,
          200,
          200,
          200,
          500,
          500,
          500,
          100,
          100,
          300,
          100,
          100,
          100,
          100,
          100,
          100,
          100,
          100,
          100,
          100,
          100,
          100,
          100,
          100,
          100,
          100,
          300,
          400,
          300,
          200,
          200,
          200,
          200,
          200,
          200,
          200,
          200,
          200,
          200,
          200,
          200,
          200,
          200,
          200,
          200,
          200,
          200,
          200,
          200,
          200,
          200,
          200,
          200,
          100,
          100,
          100,
          100,
          100,
          100,
          100,
          100,
          100,
          100,
          100,
          100,
          100,
          100,
          100,
          100,
          100,
          100,
          100,
          100,
          100,
          300,
          200,
          100,
          100,
          100,
          100,
          200,
          300,
          300,
          300,
          300,
          300,
          300,
          300,
          300,
          300,
          300,
          200,
          200,
          200,
          100,
          200,
          100,
          200,
          100,
          100,
          100,
          200,
          200,
          100,
          200
         ],
         "x0": " ",
         "xaxis": "x",
         "y": [
          14.604121620682363,
          19.97390817803976,
          11.207740815065169,
          16.190113432295718,
          17.942508365795653,
          9.922232259915727,
          10.988141614008098,
          20.309250231390514,
          15.067142219893888,
          18.803273099532998,
          14.435961073016665,
          15.69088140153838,
          17.639957932180685,
          26.21968315026984,
          7.154997005666389,
          19.29937444090499,
          15.273679344728327,
          27.937091814657357,
          31.774633161751055,
          16.82212548441696,
          28.666311816220535,
          23.584136382322498,
          11.14734632807844,
          24.86800973887951,
          13.692504309985736,
          15.899358521958955,
          5.907662224128425,
          13.422274550333867,
          9.673813137508342,
          21.29885755681982,
          12.925753971248788,
          14.427664650612495,
          14.278163065688245,
          15.955468391488603,
          16.07695231614275,
          17.78301269249901,
          16.356941818202294,
          12.686490128771254,
          11.383712633730909,
          13.652131842915926,
          24.90324675734186,
          20.915021729220083,
          12.585218030300164,
          18.66957543836907,
          12.071028065412182,
          23.934815755234368,
          18.0208059438387,
          23.72423700353362,
          22.470673678512494,
          17.456481387602516,
          9.743501157669296,
          16.16184120785685,
          6.31588649113924,
          17.503613407335983,
          12.302721541693145,
          9.880043234724871,
          20.647793514389896,
          9.965386145679684,
          11.563120620676447,
          12.009820434333731,
          7.945318430838451,
          25.223186092653037,
          15.828436506191984,
          31.05589076346939,
          18.211301404802374,
          23.583507482387862,
          7.231606172240533,
          23.279261557204002,
          15.502416869793098,
          10.791804783291587,
          16.884611605515907,
          30.351213977506532,
          12.391278403590855,
          15.920635551286738,
          22.683124275134787,
          31.259442745706345,
          20.152489492813665,
          11.508706928845058,
          6.538043993373475,
          16.376484815081636,
          18.25848856132801,
          17.788445485118302,
          21.50886474910764,
          11.963670627718825,
          27.600783002655977,
          7.759983191482772,
          14.073779154229547,
          27.629566385625772,
          11.870416924159972,
          15.446978716188003,
          26.071802158264507,
          15.975195498032551,
          25.769908042782347,
          22.921220249228842,
          16.072838896949555,
          14.608923170696578,
          7.720611518714405,
          19.74730477074671,
          15.09901595490786,
          9.451260975491339,
          9.29540640188137,
          16.675740569426097,
          10.953377399790492,
          16.491095141884276,
          28.21439207593298,
          22.002975023280534,
          11.269797205189812,
          11.62867163839182,
          16.753239313903514,
          12.257913922352072,
          16.302785938275512,
          22.67085555384191,
          12.294700244945322,
          12.57877742066583,
          6.816663957482668,
          16.016841482692744,
          25.28567091643424,
          15.303758311230148,
          24.504268443245948,
          12.522270630814306,
          17.332123112723625,
          12.20022204092749,
          28.047053326125276,
          18.172312976538276,
          26.640699612108225,
          10.128101007779126,
          6.458191159202686,
          16.188920691673218,
          12.173647147120615,
          13.782788659298662,
          8.926508078211247,
          13.409914405090348,
          14.15774456881646,
          24.288339009342327,
          4.998266837728071,
          7.29332644554628,
          18.314280703570795,
          9.54497779948051,
          5.072500417408127,
          11.421483131224926,
          12.651503662593862,
          26.44015575261733,
          18.843007971654156,
          13.148849302829205,
          16.93944068139167,
          8.9243610582827,
          21.165308901499717,
          12.684841116064549,
          6.946660679404008,
          18.41354729978732,
          14.056719658452707,
          20.82595901435899,
          6.051522210545199,
          9.008202152142344,
          21.94606281163379,
          5.249366069704308,
          25.19320154600542,
          18.750726003152934,
          17.353933329002665,
          13.308317172574624,
          16.538624721063613,
          14.320082255671506,
          13.472323826313614,
          27.97337923015845,
          10.502825840571921,
          21.042612093995743,
          16.806661873055457,
          10.922777984556644,
          11.547307714896784,
          13.40550268770547,
          12.457900495012307,
          14.709245325288808,
          17.731757871301404,
          17.944730119407073,
          12.88438939467743,
          21.23432679184542,
          23.105472560997136,
          16.552893433843686,
          14.250427559698723,
          18.695840461050082,
          15.856813655704038,
          12.923075173216342,
          20.430134357552664,
          16.547258666648972,
          14.680931931046246,
          9.392881229664795,
          19.28631606715547,
          13.038759450162605,
          11.789137707803238,
          23.729228332666537,
          15.52783297273185,
          23.28226515168335,
          14.501776545112651,
          19.60869687597073,
          15.87369625424136,
          28.58592447744779,
          19.221264098089126,
          13.87061870737146,
          16.721454977217853,
          15.24126263119168,
          9.47666408857446,
          12.58868636663344,
          30.936649462063805,
          15.600501533615068,
          14.400134501423945,
          15.296751906171464,
          11.31518762278029,
          11.371444301782137,
          12.366801255149683,
          9.96748882854514,
          12.124218435202293,
          13.097654911384726,
          11.723446873169395,
          13.179744846173788,
          12.598517510098295,
          11.765141996398349,
          13.453282299668452,
          9.9163078349696,
          10.408213003265717,
          15.414365750231987,
          11.724311210333845,
          10.580005532783963,
          11.079641106154634,
          15.507035842727898,
          19.856441727538346,
          16.041119345399103,
          19.722362625260562,
          21.706230238153807,
          13.610408853174421,
          15.893430569317996,
          12.171670894885462,
          12.958928023226827,
          12.069154037539647,
          11.346402736845237,
          13.19772597377568,
          13.048644688764167,
          15.261715865702879,
          13.387551270466972,
          11.891488311300625,
          21.509584472491973,
          15.669582565336054,
          21.437089454416103,
          28.0530204804501,
          17.493243017073333,
          8.930520537389466,
          12.171191971930996,
          10.308455400863421,
          12.554259230711834,
          4.128330433314061,
          15.066767375137571,
          12.754021164910819,
          12.517024110039118,
          12.987688973437242,
          19.25934643505917,
          11.336317710209178,
          36.98634448523037,
          16.793175938517628,
          27.881042551924008,
          13.581201351139887,
          15.113171590154078,
          12.355699906014173,
          12.939746717353184,
          15.922615333034877,
          25.69061472101107,
          12.912512346695296,
          20.78941908889678,
          15.049532922073622,
          16.196727280741342,
          13.082434268270667,
          17.33078519939912,
          10.97481132824604,
          13.8572220271427,
          27.715091983598363,
          12.564328444107604,
          23.335176612219033,
          15.075555161585367,
          16.068081389959683,
          22.22348782818632,
          20.84617794556367,
          15.25696101292855,
          25.135442177371786,
          30.18268834219465,
          12.932688996036898,
          20.37553904194392,
          10.949628710230403,
          12.302804593177672,
          12.084761181990043,
          13.4446509919464,
          13.835262891442163,
          21.77843644288809,
          17.423046719628775,
          21.845522288415793,
          15.292349106935632,
          19.21029906611215,
          30.103051433253892,
          13.467740653040098,
          12.998909392792996,
          14.999626446081649,
          8.332229693866969,
          19.643994309112067,
          12.565786681476265,
          12.444740597843357,
          18.421617346645636,
          20.140162760021347,
          13.1172538783908,
          17.262387661689345,
          25.366242071811744,
          10.48922703885305,
          12.912450753705235,
          14.073864520329693,
          4.08172636012782,
          6.96361868919835,
          10.429640480481867,
          16.357808907067927,
          16.026002447509324,
          15.110870664030049,
          10.244010810694943,
          18.39525940556558,
          25.212864219290243,
          11.838809482050298,
          20.049913455230932,
          20.42173006127867,
          18.256319433719554,
          12.492499334913788,
          26.433179591727836,
          10.499022619799158,
          5.5303157623043955,
          24.422310884850926,
          15.098644210483478,
          27.60561372488599,
          19.29504038790569,
          16.355469116712438,
          10.731255034436385,
          11.353016871900778,
          19.10379935054697,
          31.11205129514928,
          11.82372152514203,
          11.093298087130682,
          12.860369237997208,
          12.043366405443834,
          14.966176626600552,
          10.016503692568703,
          12.304825837340196,
          13.765779212929177,
          9.916322633475147,
          10.346524169343724,
          14.80530264481976,
          14.594059646498575,
          14.517126645154525,
          21.043776498758046,
          29.331578075889414,
          10.52844874967578,
          10.925344917105562,
          12.392974114284307,
          31.532982450093648,
          11.824516035093872,
          11.10381000821801,
          13.926248255937649,
          12.259452322322945,
          13.09460037449285,
          12.65883067251606,
          13.753595488935034,
          14.96989843500795,
          10.874849748627588,
          12.751194117401688,
          10.666461413163933,
          9.481203557775606,
          13.709588543553435,
          12.78473950548557,
          15.37591314153145,
          11.325813721021035,
          26.075630552185135,
          18.93578186793463,
          30.304194824027515,
          17.378223823662157,
          12.510222207422196,
          21.055248723509884,
          12.555559605201786,
          12.405377748003806,
          12.336956538724506,
          17.268236688320336,
          19.242412344825887,
          13.123958222922976,
          15.620938559252817,
          14.20429626334502,
          12.141235695980106,
          16.25263199975826,
          15.303260539369573,
          17.681966190526996,
          14.70628793562572,
          10.124755293659305,
          22.008074143124627,
          14.303418819036503,
          14.304791072505877,
          24.199020669655326,
          12.01526484600885,
          22.934319359957456,
          14.372256521660335,
          15.259218985835595,
          9.392524925608909,
          11.695812825385655,
          13.219514326346838,
          11.273848642838301,
          15.498002703797983,
          8.166794954813332,
          10.391081879143998,
          15.3822235557809,
          12.560149788734309,
          11.943318186504666,
          10.264831690397873,
          10.498602802027447,
          12.75311340471167,
          11.87172900874305,
          11.741131172785702,
          9.299695514774307,
          9.371736250768299,
          11.042794581414753,
          9.412654006392303,
          15.415692079391066,
          13.647571313531598,
          20.173335281623842,
          11.800524536026415,
          11.658507293631164,
          10.296738884081885,
          10.859600584887188,
          17.84257897703514,
          29.96747727904172,
          16.1930905382038,
          24.88605283059068,
          28.527323504718865,
          18.3015110325617,
          16.80098226853795,
          20.206040422041188,
          19.03500519811237,
          13.288885581514501,
          14.298561623312942,
          16.341648891545162,
          10.079345150760595,
          13.878847693907872,
          12.391279238390906,
          16.989961551374208,
          11.923669939595934,
          17.369148940974057,
          10.349102559315982,
          15.13683737263042,
          9.44172073216991,
          18.1431060878809,
          9.897997183130999,
          10.971585832940555,
          17.66299775543765
         ],
         "y0": " ",
         "yaxis": "y"
        },
        {
         "alignmentgroup": "True",
         "hovertemplate": "Nuber of Nodes=150<br>Area Conf.=%{x}<br>Energy compared to SBP (%)=%{y}<extra></extra>",
         "legendgroup": "150",
         "marker": {
          "color": "#00cc96"
         },
         "name": "150",
         "notched": false,
         "offsetgroup": "150",
         "orientation": "v",
         "showlegend": true,
         "type": "box",
         "x": [
          500,
          500,
          500,
          500,
          500,
          500,
          300,
          500,
          500,
          500,
          500,
          500,
          500,
          500,
          500,
          500,
          500,
          500,
          500,
          500,
          500,
          500,
          500,
          500,
          500,
          500,
          300,
          300,
          200,
          200,
          200,
          200,
          200,
          200,
          200,
          200,
          200,
          200,
          200,
          200,
          200,
          200,
          200,
          200,
          200,
          200,
          200,
          200,
          200,
          200,
          200,
          200,
          200,
          200,
          200,
          200,
          200,
          200,
          300,
          300,
          300,
          300,
          300,
          300,
          300,
          300,
          300,
          300,
          300,
          300,
          300,
          300,
          300,
          300,
          300,
          300,
          300,
          300,
          300,
          300,
          300,
          300,
          300,
          300,
          300,
          300,
          400,
          400,
          400,
          500,
          500,
          500,
          500,
          500,
          500,
          500,
          500,
          500,
          500,
          500,
          500,
          500,
          500,
          500,
          500,
          500,
          500,
          100,
          100,
          100,
          100,
          100,
          100,
          100,
          100,
          100,
          100,
          100,
          500,
          500,
          500,
          500,
          500,
          500,
          500,
          500,
          400,
          400,
          400,
          400,
          400,
          400,
          400,
          400,
          400,
          400,
          400,
          400,
          400,
          400,
          400,
          400,
          100,
          400,
          400,
          500,
          500,
          500,
          500,
          400,
          400,
          400,
          400,
          400,
          400,
          400,
          400,
          400,
          400,
          400,
          400,
          400,
          100,
          100,
          200,
          200,
          200,
          200,
          200,
          200,
          200,
          200,
          200,
          200,
          200,
          200,
          200,
          400,
          200,
          200,
          200,
          200,
          400,
          400,
          200,
          200,
          200,
          200,
          200,
          200,
          200,
          200,
          200,
          200,
          200,
          200,
          200,
          400,
          400,
          400,
          400,
          400,
          100,
          100,
          100,
          100,
          100,
          100,
          100,
          100,
          100,
          100,
          100,
          100,
          100,
          100,
          400,
          100,
          400,
          400,
          400,
          400,
          400,
          400,
          400,
          400,
          400,
          400,
          400,
          300,
          400,
          400,
          400,
          400,
          400,
          400,
          300,
          300,
          300,
          400,
          400,
          400,
          400,
          400,
          400,
          400,
          400,
          400,
          400,
          400,
          400,
          400,
          400,
          400,
          400,
          400,
          400,
          400,
          400,
          400,
          400,
          400,
          400,
          400,
          200,
          400,
          400,
          400,
          400,
          200,
          200,
          200,
          200,
          200,
          200,
          200,
          200,
          200,
          200,
          200,
          200,
          200,
          200,
          200,
          200,
          200,
          200,
          200,
          200,
          200,
          200,
          200,
          300,
          200,
          200,
          400,
          200,
          200,
          500,
          500,
          100,
          100,
          100,
          100,
          100,
          100,
          100,
          100,
          100,
          100,
          100,
          100,
          100,
          100,
          100,
          100,
          100,
          100,
          100,
          100,
          100,
          100,
          100,
          100,
          100,
          100,
          100,
          100,
          100,
          100,
          500,
          500,
          500,
          500,
          500,
          500,
          500,
          500,
          500,
          500,
          500,
          500,
          500,
          500,
          500,
          500,
          500,
          500,
          500,
          500,
          500,
          500,
          500,
          500,
          500,
          500,
          500,
          500,
          200,
          200,
          100,
          300,
          300,
          100,
          100,
          100,
          100,
          100,
          100,
          100,
          300,
          100,
          100,
          100,
          100,
          100,
          100,
          100,
          100,
          100,
          100,
          100,
          100,
          300,
          300,
          300,
          300,
          300,
          300,
          300,
          300,
          300,
          300,
          300,
          300,
          300,
          300,
          300,
          300,
          300,
          300,
          300,
          300,
          300,
          300,
          300,
          100,
          100,
          100,
          300,
          300,
          300,
          300,
          300,
          300,
          300,
          300,
          300,
          300,
          300,
          300,
          100,
          300,
          300,
          300,
          300,
          500,
          500,
          300,
          300,
          300,
          300,
          300,
          300,
          500,
          300,
          500,
          300,
          300,
          300,
          500,
          300,
          300,
          100,
          100,
          100,
          100,
          100,
          100,
          100
         ],
         "x0": " ",
         "xaxis": "x",
         "y": [
          8.171347770673158,
          16.270035632526376,
          5.9090064368492525,
          8.79234323800864,
          12.333053997714845,
          15.025763381424026,
          15.738346283280682,
          11.4361618542506,
          5.416610015466464,
          7.390273199568778,
          11.567230096633843,
          14.207856922816822,
          29.02406862627919,
          18.54644754959892,
          8.161604071856459,
          18.546201816000593,
          8.705937748736886,
          18.564173338437328,
          5.715668813700737,
          6.483291799172145,
          11.567416017044687,
          19.310365491219052,
          34.459177343613696,
          12.545181167297127,
          12.436009284333554,
          12.446251175802606,
          9.18076549976142,
          21.12818302113505,
          10.578276869781538,
          13.471356647950413,
          12.80993017859107,
          14.043405456945578,
          10.511667098971946,
          10.979700919930318,
          14.808498799816094,
          16.429208893419105,
          13.520578424325267,
          13.58013933773202,
          9.177690073265762,
          19.43106586572733,
          13.314358255065228,
          11.031153824166493,
          15.416267451629789,
          11.250312312180286,
          15.392571950337855,
          15.67614525966175,
          12.421715927196157,
          13.167789358899896,
          12.99160859202613,
          19.775599632214874,
          10.354180421687273,
          14.047203466718914,
          16.54897969905556,
          18.048484433896288,
          14.246037457484348,
          12.64171832031348,
          10.584043389280376,
          14.417304498390706,
          18.797089530103086,
          10.172303654094273,
          7.04902268107558,
          27.73692226754528,
          10.882969260151208,
          10.876934710565553,
          12.84286274827687,
          30.127536150855327,
          28.100104766298916,
          12.781430187460158,
          20.07320064197449,
          26.30159234751947,
          8.914004403648178,
          11.931699323502807,
          16.41714875603971,
          18.626525759190493,
          32.18066294801814,
          19.186383370254777,
          17.108806959571478,
          10.198928776835848,
          6.857081627885398,
          28.061218491426025,
          13.655341243383488,
          13.56127078489707,
          11.511806828248718,
          17.094138831153437,
          12.894655288714457,
          14.826397417292615,
          14.172411577499814,
          22.426930784850267,
          10.571616657960064,
          9.833928275564567,
          20.70494674155519,
          10.93558223481413,
          14.088812562605233,
          8.394855227465005,
          16.536446712639787,
          8.618882104690975,
          18.72550753521745,
          5.94262793215616,
          6.834075548335443,
          8.762864261116986,
          22.010093716880036,
          18.759361281679343,
          19.586235938245224,
          19.71280132011819,
          14.496407295556054,
          11.194281337511132,
          7.843352279155274,
          13.686343728252057,
          8.161982169160733,
          10.342231172904484,
          11.330900444622785,
          13.330030226210262,
          11.217882573051677,
          11.840197930672167,
          12.879078157117094,
          11.665931856955439,
          9.222146063547376,
          12.877403524201206,
          17.207442048841706,
          6.160708931807936,
          14.040483445160643,
          24.62794855861782,
          14.248734989870664,
          17.89817418092329,
          9.811774282661844,
          7.357125695225794,
          6.995692179743017,
          21.967448602448307,
          10.528352077949563,
          16.48507848099757,
          12.859901756822653,
          14.022827235539978,
          9.141114304080306,
          10.972582272322837,
          15.014316626337962,
          6.587087214382163,
          18.350157992100712,
          18.592515009393374,
          28.263698412454442,
          6.0906833687598825,
          11.49914174629065,
          7.587687656508657,
          12.713485029476088,
          8.054615243299285,
          13.484268403984098,
          20.16068025252493,
          12.96608451191545,
          11.437746221388155,
          17.128208952653377,
          22.56607701487808,
          12.402399756926807,
          8.143977804115277,
          13.63568967910968,
          19.95939090920037,
          26.74453916002375,
          4.85336214227463,
          7.823256168347665,
          28.288317177252814,
          18.25643414028467,
          13.557233907118773,
          15.060837738256595,
          6.2283652241021015,
          10.036322238482365,
          11.538086969833326,
          12.322961632054968,
          19.488550916109915,
          16.186237485605005,
          15.264550797591045,
          12.952848709336282,
          15.396082999911995,
          16.694728302843686,
          15.303789820149593,
          13.881757644305493,
          16.568910513741482,
          12.372615266769687,
          12.349957108844519,
          14.690098362773796,
          6.824223741080446,
          7.344902399730738,
          20.40529404458749,
          11.873123703315418,
          10.61280662241059,
          10.997609428346685,
          11.826042881927114,
          16.2610131863986,
          15.73298455277924,
          15.290073493020696,
          15.306905816375865,
          12.30549532722797,
          16.406948731030646,
          10.843134421558602,
          12.820459243369243,
          16.112628331563343,
          20.720769851579703,
          24.045031013652743,
          16.09502580949298,
          12.378093076336379,
          14.375325331452155,
          7.787978823798444,
          10.517595043631559,
          30.054179051928838,
          12.80018340786663,
          12.70725674376554,
          10.627717203826471,
          12.53970161769086,
          11.306198198676466,
          12.18772785723105,
          10.53849837829863,
          11.919575132216496,
          12.308878313317294,
          11.71738757243587,
          11.612224708633924,
          12.512594482872727,
          11.192696423198159,
          10.241763962766575,
          11.08559894318766,
          12.297259501660129,
          13.218402735218604,
          13.83915521782019,
          7.920494265670484,
          11.915899945181938,
          17.27068594034618,
          11.79783212511333,
          12.321557878362288,
          4.628595039045904,
          6.935219381580763,
          8.51473283564277,
          15.35074460058592,
          22.083563789300147,
          13.305404991172612,
          29.109295722343585,
          11.88792344749816,
          19.28635095128247,
          4.624489055885717,
          13.56194710088798,
          11.6992706365744,
          12.051164353498713,
          10.231370032162697,
          22.228577590820812,
          8.192321810916438,
          24.677841903211082,
          9.909630582071891,
          9.186351993007163,
          19.97851007070279,
          14.642378654340426,
          17.177658620297066,
          21.13523000603592,
          25.364536372254854,
          7.260688123628263,
          12.775856447485046,
          6.625333055729746,
          13.709507487756575,
          14.31896407827098,
          15.537625820397908,
          28.71722988738829,
          18.772776408899496,
          13.299682248023762,
          6.132574318429447,
          24.15169739238737,
          9.371694524504987,
          14.805793456017676,
          9.396688090060604,
          24.57990208233897,
          10.431315328213483,
          8.557916271562162,
          26.3593271531611,
          29.432624246972978,
          12.935518040857025,
          7.034635383239214,
          11.488649940606008,
          16.15949613364204,
          13.445376189178454,
          14.151538179873366,
          9.61089638365199,
          11.595411581604733,
          15.444595244594742,
          17.464555921802962,
          15.810837102915794,
          14.366083994015874,
          8.918599281672003,
          15.929282281907467,
          14.626301879676484,
          11.027844756928287,
          16.27838730820967,
          12.544068060807966,
          16.987075041175626,
          14.779919302383737,
          22.23402607566416,
          12.631992809672617,
          14.270585191767859,
          15.376907628050219,
          10.122810176077964,
          20.004398417390078,
          15.401826021168613,
          13.926617326348806,
          21.85218023223504,
          15.402925820454044,
          15.419114242042742,
          18.58742796967776,
          11.185225420760947,
          12.39725245109256,
          13.324439927137188,
          10.526186096943249,
          12.236660551158664,
          12.683738646154971,
          11.974700782365145,
          11.554713058273217,
          11.41135698133336,
          11.030840132853868,
          10.609135429296014,
          11.594363025130692,
          12.133680918844435,
          11.889006288970116,
          11.27492396488643,
          13.555729044294965,
          12.16907569617289,
          11.716772918642942,
          11.115001805803184,
          11.125674443723026,
          11.969083752885709,
          12.00625309226132,
          11.580987502268043,
          12.721644574613006,
          11.648043659883992,
          8.228109111008171,
          11.063663375899102,
          10.263253204541876,
          11.42815373368994,
          12.673423929654215,
          12.554727568619326,
          12.751606365002429,
          9.640455614272483,
          8.140260993438432,
          13.359767080511123,
          9.073354008092323,
          7.43527021844571,
          14.163442265177128,
          16.387223325232508,
          17.520785984947015,
          10.618692938477704,
          20.729007256157278,
          14.685708670487355,
          6.35268424713905,
          6.198598852146127,
          7.1769897553374316,
          13.679161636831688,
          13.76620272533932,
          14.721427116282811,
          12.69045742699754,
          7.2502143931403165,
          5.951254488249969,
          11.382251308377885,
          8.053617104420939,
          25.15211461624947,
          8.209582968256923,
          10.06132876476789,
          25.84047576471623,
          7.266522228599043,
          12.901685568185433,
          13.620823892711503,
          11.647772786106483,
          10.203276354783126,
          23.491520841164903,
          8.353542308571473,
          12.715774115971954,
          11.908169544733585,
          11.917522447422682,
          10.523569940162737,
          15.553888135083504,
          12.652754783159665,
          18.053643276088323,
          9.684991026048843,
          11.07079142624873,
          12.45519537434805,
          10.161433882808495,
          14.344032032963483,
          12.483508977381153,
          8.801254974306405,
          10.2790368523343,
          10.155062452195875,
          12.21918264470836,
          11.256852993251423,
          15.614487873538211,
          16.912843140373475,
          15.385365652306765,
          14.2068908996841,
          16.117756774464194,
          12.399917954177635,
          17.19797267316459,
          19.365507267360357,
          22.264335749524626,
          26.892399858407057,
          10.587948122169168,
          22.31706911580308,
          9.645781476571413,
          18.02490613833709,
          17.05654856403095,
          11.372912868690964,
          17.837825345983426,
          9.429479698224684,
          10.14841271983477,
          8.874613049359418,
          15.885185113357444,
          15.054908648241561,
          15.944979648274533,
          15.716716593948771,
          9.399881344492243,
          13.239065829011146,
          11.581533274550322,
          28.34031668124811,
          11.369247896257082,
          11.46433957248635,
          12.677536867711444,
          23.990214984161955,
          21.757058739760595,
          13.626045356131952,
          17.90688065553498,
          27.832182788622102,
          10.010001547793275,
          6.661580608500461,
          18.37765263470739,
          12.532146385256471,
          16.43133031262925,
          13.92756184375505,
          36.49572705874284,
          15.935844648312006,
          17.876136588843654,
          16.316643158125917,
          15.522871472174456,
          12.743086380537317,
          15.3913330379953,
          14.61693025019892,
          7.241851749184349,
          10.280705560834157,
          25.09082460166529,
          13.450595265635743,
          8.432992322388797,
          14.911815567762702,
          18.31329408323574,
          9.668817800530638,
          16.523802358457775,
          17.497416353161558,
          12.269781686434786,
          12.634586605745119,
          9.970190201414422,
          15.278064750079384,
          9.757951823580434,
          12.479268714661282,
          9.053013293441344,
          10.894811428594945
         ],
         "y0": " ",
         "yaxis": "y"
        },
        {
         "alignmentgroup": "True",
         "hovertemplate": "Nuber of Nodes=200<br>Area Conf.=%{x}<br>Energy compared to SBP (%)=%{y}<extra></extra>",
         "legendgroup": "200",
         "marker": {
          "color": "#ab63fa"
         },
         "name": "200",
         "notched": false,
         "offsetgroup": "200",
         "orientation": "v",
         "showlegend": true,
         "type": "box",
         "x": [
          500,
          500,
          500,
          500,
          500,
          500,
          500,
          500,
          100,
          100,
          500,
          500,
          500,
          100,
          100,
          300,
          300,
          500,
          300,
          300,
          300,
          300,
          100,
          100,
          100,
          100,
          100,
          100,
          100,
          100,
          100,
          100,
          100,
          100,
          100,
          100,
          100,
          100,
          100,
          100,
          100,
          100,
          100,
          100,
          500,
          400,
          500,
          400,
          400,
          400,
          500,
          500,
          400,
          200,
          200,
          200,
          200,
          200,
          200,
          200,
          200,
          200,
          200,
          200,
          200,
          200,
          200,
          200,
          400,
          400,
          100,
          100,
          400,
          400,
          400,
          400,
          400,
          400,
          400,
          400,
          400,
          400,
          200,
          400,
          400,
          400,
          400,
          400,
          400,
          400,
          400,
          400,
          400,
          400,
          400,
          200,
          200,
          200,
          300,
          300,
          300,
          300,
          300,
          200,
          200,
          400,
          200,
          500,
          300,
          500,
          500,
          500,
          500,
          500,
          500,
          500,
          500,
          500,
          500,
          500,
          500,
          500,
          300,
          300,
          200,
          200,
          200,
          200,
          200,
          200,
          200,
          300,
          300,
          300,
          300,
          300,
          300,
          300,
          300,
          300,
          300,
          300,
          300,
          300,
          300,
          300,
          300,
          200,
          300,
          500,
          100,
          100,
          100,
          100,
          100,
          100,
          200,
          200,
          100,
          200,
          200,
          200,
          200,
          200,
          200,
          200,
          200,
          200,
          200,
          100,
          100,
          100,
          100,
          100,
          100,
          100,
          100,
          100,
          100,
          100,
          100,
          100,
          100,
          100,
          100,
          100,
          100,
          100,
          100,
          100,
          100,
          200,
          100,
          200,
          200,
          300,
          300,
          300,
          300,
          300,
          300,
          300,
          300,
          300,
          300,
          300,
          300,
          300,
          300,
          300,
          300,
          300,
          300,
          300,
          300,
          300,
          300,
          200,
          200,
          200,
          200,
          200,
          200,
          200,
          200,
          200,
          200,
          500,
          200,
          200,
          200,
          300,
          100,
          300,
          300,
          300,
          200,
          100,
          100,
          100,
          300,
          300,
          300,
          300,
          300,
          300,
          300,
          200,
          300,
          200,
          200,
          200,
          200,
          200,
          200,
          200,
          200,
          200,
          200,
          300,
          300,
          300,
          300,
          300,
          300,
          300,
          300,
          300,
          300,
          300,
          300,
          300,
          300,
          300,
          300,
          300,
          300,
          300,
          300,
          300,
          300,
          200,
          200,
          200,
          200,
          100,
          100,
          100,
          100,
          100,
          100,
          100,
          100,
          100,
          100,
          100,
          100,
          100,
          100,
          100,
          100,
          100,
          100,
          100,
          100,
          300,
          100,
          100,
          200,
          200,
          200,
          200,
          200,
          200,
          200,
          200,
          200,
          200,
          200,
          200,
          200,
          200,
          200,
          100,
          100,
          100,
          100,
          100,
          300,
          200,
          400,
          400,
          400,
          400,
          400,
          400,
          400,
          400,
          400,
          400,
          400,
          400,
          400,
          400,
          400,
          400,
          400,
          400,
          400,
          500,
          500,
          500,
          500,
          500,
          500,
          500,
          500,
          500,
          500,
          500,
          300,
          400,
          400,
          400,
          400,
          500,
          400,
          400,
          500,
          500,
          500,
          500,
          500,
          500,
          500,
          500,
          500,
          500,
          500,
          500,
          500,
          500,
          500,
          500,
          500,
          500,
          400,
          400,
          400,
          400,
          400,
          500,
          500,
          500,
          500,
          500,
          500,
          500,
          500,
          500,
          500,
          400,
          500,
          100,
          500,
          400,
          400,
          400,
          400,
          400,
          400,
          400,
          400,
          400,
          400,
          400,
          400,
          400,
          400,
          400,
          500,
          500,
          500,
          500,
          500,
          400,
          400,
          400,
          400,
          500,
          500,
          500,
          500,
          400,
          500,
          500,
          500,
          500,
          500,
          500,
          400,
          400,
          400,
          400,
          400,
          500,
          400,
          400,
          400,
          400
         ],
         "x0": " ",
         "xaxis": "x",
         "y": [
          10.505653353872026,
          16.32201091894681,
          11.998747918142067,
          9.01901676786525,
          10.036897036159184,
          10.555258303130802,
          13.359915663585467,
          7.748613302192675,
          10.281205896905622,
          12.064594198470429,
          16.27232353391391,
          7.235732454966566,
          8.971650995138491,
          9.181974720780826,
          10.246618135513273,
          12.24987556447427,
          18.32088259265971,
          22.230661115201176,
          9.49606582140594,
          8.981691064115614,
          8.636302160906276,
          11.143341398515089,
          12.107859347978104,
          10.055470727840019,
          10.78110269470419,
          10.232888560293416,
          9.648573161544803,
          11.615456009605106,
          9.4445281392181,
          9.84275760787064,
          11.435686932705384,
          9.243880655134195,
          15.714502842472145,
          11.459767875022955,
          9.505334584896666,
          11.647823478744476,
          12.97825563952654,
          9.145302867764762,
          11.68565565409711,
          9.465305769970332,
          11.618530623911854,
          11.83059894416848,
          11.450452939312825,
          9.685933257414646,
          11.401061024490716,
          12.374275829957398,
          8.947855348222662,
          14.175174340209695,
          7.051115054340835,
          23.833306163556284,
          11.160132910807679,
          5.089831816814284,
          12.016971078476123,
          11.11351459416214,
          9.697339012113334,
          14.313058032707692,
          12.037337928402332,
          13.550275912440583,
          13.80220340903368,
          9.64891172108175,
          14.075645984501396,
          13.310489915947327,
          12.81069985238909,
          11.252789929437796,
          10.095592085865384,
          18.903243083724462,
          12.994620890976075,
          13.198216392703074,
          6.638130935336266,
          12.63806700531017,
          10.884099276238866,
          10.356947186053961,
          8.770507719415189,
          8.801240212944615,
          23.024967735834462,
          11.973535474493827,
          17.86886496651083,
          11.279261329407339,
          20.002960498314625,
          6.099899798029681,
          6.028337464013073,
          6.364499070712723,
          18.9636033975801,
          12.774883573155405,
          9.473109780363268,
          18.878273097547442,
          21.8990753746853,
          10.111712424134863,
          11.406816064605433,
          9.519037087774173,
          22.980420680610454,
          13.711432246724097,
          11.890605428224504,
          11.458318500967632,
          11.338252891964451,
          15.98854094675051,
          27.79696987705768,
          14.99170501435284,
          8.56666178165703,
          8.90439886593047,
          12.243965812927694,
          25.678108440380008,
          8.8280519816745,
          15.024797756797248,
          11.413311246166362,
          11.260191133177361,
          14.258711819909543,
          8.746657688764731,
          7.214642507352968,
          13.490453230196964,
          28.12935701381599,
          9.493837042813688,
          12.985236036831976,
          15.78983975900465,
          11.302674436992529,
          17.643967039204693,
          6.414783189728114,
          8.876554828992433,
          19.630080992036405,
          10.494999397364131,
          10.62578102969079,
          21.153493820882325,
          16.05564544422341,
          17.129949928162187,
          11.883176032926919,
          14.299518293321837,
          13.45990356920876,
          16.020828370552227,
          13.334548666381554,
          16.57000162523136,
          11.559245793611812,
          17.4456154743144,
          24.6551717118283,
          12.04968639829518,
          13.489110718936958,
          25.830024724330947,
          16.082274959605282,
          19.110832626392607,
          17.611015393455983,
          13.865017154637291,
          18.538199907368234,
          11.213274170461359,
          12.066032663662972,
          22.630404374095676,
          27.69246249076478,
          10.220887412213651,
          2.8620250296808694,
          13.84306386603387,
          14.532764434131417,
          24.87009833761351,
          13.839956365912395,
          10.4420017122944,
          10.032848025977778,
          9.933826807460042,
          9.728046362779331,
          11.307386510504628,
          15.497808011210262,
          15.617782813272873,
          11.807735284320946,
          11.773510302449292,
          14.045314132760254,
          15.988807354480935,
          14.831899952759029,
          13.062426491694787,
          21.26262272952247,
          15.56757546063064,
          21.679032203201707,
          13.215103027887192,
          15.208579292429677,
          12.474878798085618,
          11.40089632100481,
          10.774217711813042,
          12.079398080552851,
          13.202920821444671,
          10.832418017885635,
          11.829982947835216,
          11.281191059828641,
          11.011451938410678,
          9.822409615381464,
          11.687524640663865,
          13.484352454123483,
          11.26686298690387,
          11.986241232946934,
          12.575809527249124,
          13.849789625174674,
          11.9145812262766,
          12.981460658413832,
          12.331084426094147,
          11.659279692961094,
          11.582834995725785,
          11.040699612727026,
          22.760290763879365,
          13.616962903522282,
          20.128395245850843,
          20.191265988482428,
          21.057164217375288,
          9.514021930265802,
          14.913974961857315,
          12.265631890041778,
          19.73353625575993,
          14.584888941936716,
          21.005820772956373,
          16.81042850013623,
          10.137876397835914,
          6.523438842270357,
          18.315315803033606,
          7.792755077034205,
          13.825824965554071,
          11.472108045948087,
          10.151425792419069,
          18.479657944319936,
          18.15497232484164,
          9.274856488785233,
          7.227025917835555,
          19.291012207342987,
          9.314395062700791,
          15.515860924827763,
          15.996419792402516,
          11.226683483787928,
          17.009459828254315,
          20.441342654483527,
          12.912555372012765,
          20.69031237276725,
          14.849965995061407,
          17.650518444676134,
          16.69568521163737,
          14.288589710158577,
          26.02153887380504,
          12.430334193517469,
          9.024279953221715,
          18.22462296934237,
          21.651040283367344,
          9.586750754532133,
          11.971604380365227,
          16.884711305425434,
          9.294280728651454,
          13.655098771531133,
          12.671977464841275,
          12.405197808969891,
          10.342689745694921,
          14.025437278686878,
          14.491695761015663,
          9.724822842238558,
          22.10495756917255,
          10.356314206454483,
          14.444567252217638,
          18.92703397810015,
          9.452383061432966,
          15.274156690395058,
          20.851028731811272,
          11.572276206517241,
          14.296115291829603,
          16.46950819025528,
          18.762826203494647,
          13.420962189412997,
          13.562191910532256,
          12.066013013643238,
          10.53219966285076,
          12.374294408680734,
          11.69684818711755,
          16.64247376829435,
          8.993708677224161,
          9.24251966438087,
          20.096156535747692,
          9.879747789693786,
          18.20885334613609,
          19.45928545964324,
          15.72666764630521,
          10.478183621536903,
          14.917018043465044,
          13.562691711038433,
          8.603175936168238,
          7.546852635201184,
          12.543017482951106,
          7.806094847926914,
          15.747071392425466,
          11.279054935806455,
          11.756854082868145,
          17.039754183775408,
          15.9161337439992,
          22.51116181368002,
          9.948392223227094,
          10.113643269362848,
          14.882525092806878,
          29.065953967826612,
          11.739926003948819,
          10.934605016236702,
          9.575360620676795,
          11.754065850443498,
          12.526153627742028,
          12.696256803360633,
          11.904554365979129,
          11.373098186949843,
          12.889939807101358,
          11.49709968813641,
          12.236829927308698,
          12.253217234198173,
          11.237108658928662,
          12.050246527904406,
          10.513135955406003,
          11.224076860664567,
          11.066239336971275,
          11.065633207825758,
          13.22712795827503,
          12.10749954998636,
          10.91773761364431,
          10.667076305941297,
          10.278506058908754,
          13.372539384113688,
          17.24616520540527,
          21.142695737294126,
          15.085839392497588,
          12.361656542772613,
          16.262159909722506,
          19.366994539858478,
          18.349914203069,
          11.712357401089587,
          16.536407131651423,
          12.07972334859156,
          18.486537631676743,
          10.542993260967679,
          14.658950185498899,
          13.471218980609267,
          11.140671310593781,
          9.405645415310977,
          9.899186412162647,
          10.074818332624467,
          11.574617185554802,
          20.849434011634507,
          21.09237749009869,
          11.451007396282483,
          8.735541786349096,
          15.975016456741354,
          14.204569132811576,
          10.760985190160934,
          20.318590221727774,
          12.940597516315083,
          10.72981307336006,
          18.399463256907396,
          19.618349160545417,
          19.060789103676605,
          6.799201200312425,
          6.524857884537844,
          6.904857811503344,
          7.723601174354525,
          8.82990001044125,
          13.211626182225594,
          10.462038403904547,
          23.628448064815995,
          5.951062496020042,
          4.378645601562735,
          21.150376783611915,
          9.402787605807235,
          8.050015928340054,
          17.0356219993584,
          8.670484879079176,
          12.548667133488397,
          7.134428413460848,
          5.986900048511835,
          9.095839755920284,
          18.99830884405552,
          11.885053553700072,
          13.839395568514657,
          8.39684291111607,
          12.02142060352244,
          16.80992890410219,
          18.150150609491774,
          23.724126871770608,
          7.293687952399592,
          8.139920789942206,
          11.584939728613875,
          17.980691608797038,
          8.426193347388821,
          10.05305605646822,
          11.174900124063376,
          10.329048880018293,
          6.08763808346373,
          15.78486097468581,
          21.375768522757646,
          7.205389079008316,
          17.55135401666397,
          6.995617562465724,
          9.201304031989151,
          5.152773332540044,
          6.973768939644305,
          5.173762648892317,
          11.114369550533139,
          9.063732112926498,
          17.70405006390165,
          5.448004783326218,
          14.578981000477182,
          8.305072020044792,
          15.471135961271742,
          7.098172020546325,
          7.077721668706162,
          7.826136578636985,
          22.25789201068442,
          8.471427533584421,
          10.997464700814596,
          13.867234156365477,
          5.435362250885448,
          8.25912692192553,
          5.6209013717312155,
          11.193089126410772,
          9.383350719723605,
          17.512076184632804,
          28.056781762996085,
          12.97359569048679,
          7.324117324370261,
          7.022565174366828,
          7.256069188071675,
          6.285240385134052,
          23.80956701475572,
          9.690168011249739,
          14.312206925329326,
          12.009863603721143,
          8.625013274627207,
          19.46192320309773,
          8.613111446362911,
          10.443985466923472,
          15.471447235252064,
          11.295629443041012,
          9.689686943900602,
          16.284578884823166,
          16.87289444445588,
          10.291310173611102,
          22.684059089904935,
          11.173129006644347,
          16.220916324777757,
          25.311326346726865,
          14.923751885607341,
          9.456500147489914,
          7.424567727048603,
          24.025849010411598,
          14.360791766027795,
          10.290890013695188,
          10.037926731759251,
          8.424693938722507,
          21.94507751242957,
          7.073722163759504,
          12.797877797176621,
          15.020041021563458,
          9.06163970620739,
          12.588228538830176,
          9.544804982586198,
          12.829229702835631,
          32.226627673011606,
          9.146096131248429,
          29.578418602529776,
          9.648406731636912
         ],
         "y0": " ",
         "yaxis": "y"
        },
        {
         "alignmentgroup": "True",
         "hovertemplate": "Nuber of Nodes=250<br>Area Conf.=%{x}<br>Energy compared to SBP (%)=%{y}<extra></extra>",
         "legendgroup": "250",
         "marker": {
          "color": "#FFA15A"
         },
         "name": "250",
         "notched": false,
         "offsetgroup": "250",
         "orientation": "v",
         "showlegend": true,
         "type": "box",
         "x": [
          500,
          500,
          500,
          500,
          200,
          500,
          200,
          200,
          200,
          200,
          200,
          200,
          200,
          200,
          200,
          200,
          500,
          200,
          500,
          500,
          500,
          500,
          500,
          200,
          500,
          500,
          500,
          500,
          500,
          500,
          500,
          500,
          500,
          500,
          500,
          500,
          500,
          500,
          500,
          500,
          500,
          500,
          500,
          200,
          200,
          200,
          100,
          100,
          100,
          100,
          300,
          300,
          300,
          100,
          300,
          300,
          300,
          300,
          300,
          300,
          200,
          200,
          300,
          200,
          100,
          100,
          100,
          100,
          100,
          100,
          100,
          100,
          100,
          100,
          100,
          100,
          100,
          100,
          100,
          100,
          100,
          100,
          100,
          200,
          200,
          300,
          100,
          100,
          400,
          400,
          400,
          400,
          100,
          100,
          100,
          200,
          200,
          200,
          200,
          200,
          200,
          200,
          200,
          300,
          100,
          300,
          300,
          300,
          300,
          300,
          300,
          300,
          300,
          300,
          300,
          300,
          300,
          300,
          300,
          300,
          300,
          300,
          300,
          200,
          400,
          500,
          100,
          100,
          100,
          100,
          100,
          100,
          100,
          100,
          100,
          100,
          200,
          200,
          200,
          500,
          500,
          500,
          500,
          500,
          200,
          500,
          100,
          100,
          100,
          100,
          100,
          100,
          100,
          100,
          100,
          100,
          100,
          100,
          100,
          100,
          100,
          100,
          100,
          100,
          100,
          100,
          100,
          500,
          500,
          500,
          200,
          200,
          200,
          200,
          200,
          200,
          200,
          200,
          200,
          200,
          200,
          200,
          200,
          500,
          500,
          500,
          500,
          500,
          200,
          200,
          200,
          200,
          500,
          500,
          500,
          500,
          500,
          500,
          500,
          500,
          500,
          500,
          200,
          200,
          200,
          200,
          200,
          200,
          200,
          200,
          200,
          100,
          100,
          100,
          100,
          300,
          300,
          300,
          300,
          300,
          300,
          300,
          300,
          300,
          300,
          300,
          300,
          300,
          300,
          300,
          300,
          300,
          200,
          300,
          300,
          300,
          300,
          200,
          200,
          200,
          200,
          200,
          200,
          200,
          200,
          200,
          200,
          300,
          300,
          300,
          300,
          300,
          300,
          300,
          300,
          300,
          200,
          500,
          200,
          200,
          100,
          100,
          100,
          100,
          100,
          100,
          100,
          100,
          100,
          100,
          100,
          500,
          100,
          100,
          100,
          100,
          100,
          100,
          100,
          100,
          100,
          100,
          200,
          200,
          200,
          200,
          200,
          200,
          200,
          200,
          200,
          200,
          200,
          200,
          200,
          200,
          200,
          100,
          100,
          100,
          100,
          200,
          500,
          500,
          500,
          400,
          400,
          500,
          400,
          400,
          400,
          400,
          400,
          400,
          400,
          400,
          400,
          400,
          400,
          400,
          400,
          400,
          400,
          400,
          400,
          500,
          500,
          500,
          500,
          500,
          500,
          400,
          400,
          400,
          400,
          400,
          400,
          400,
          400,
          400,
          400,
          400,
          400,
          400,
          400,
          400,
          400,
          400,
          400,
          400,
          400,
          400,
          400,
          400,
          400,
          400,
          400,
          400,
          400,
          400,
          400,
          400,
          400,
          500,
          500,
          500,
          300,
          300,
          300,
          300,
          300,
          300,
          300,
          500,
          500,
          500,
          500,
          500,
          500,
          500,
          500,
          500,
          500,
          500,
          500,
          400,
          400,
          400,
          400,
          400,
          400,
          400,
          500,
          300,
          500,
          300,
          300,
          500,
          500,
          500,
          500,
          500,
          300,
          300,
          300,
          300,
          300,
          300,
          300,
          300,
          300,
          300,
          300,
          300,
          300,
          300,
          300,
          300,
          300,
          300,
          300,
          300,
          500,
          400
         ],
         "x0": " ",
         "xaxis": "x",
         "y": [
          26.402986292686737,
          8.615641637730764,
          12.307424648076216,
          10.954170195544346,
          13.822160075840696,
          13.328476977155098,
          15.887471467396155,
          12.637309222310817,
          12.556609242825425,
          19.024719207522963,
          12.885887744485105,
          20.760282780298215,
          16.000398737128112,
          13.996329214343564,
          13.913695615040128,
          14.55246566713785,
          11.755169494346577,
          11.955001828340405,
          8.0603359337692,
          7.29948454488473,
          12.822738895897931,
          6.705623332268042,
          21.33094437536689,
          15.94551398716782,
          9.21572358030712,
          8.624927851342703,
          24.01582782811767,
          13.264325690933418,
          15.348886932168625,
          12.707534107165808,
          17.1653162567556,
          8.750333700091312,
          8.481094019349168,
          9.99380806543913,
          5.9850547795583315,
          9.194674408840065,
          8.538710918750033,
          8.963254979572127,
          11.66623175793732,
          13.198354983756111,
          8.565989368281677,
          9.61959515128364,
          11.007224139551228,
          12.081123853835036,
          10.976991748138584,
          13.593135743828363,
          11.613533232213292,
          12.639916762482676,
          14.580390704651716,
          9.386083739010799,
          12.42517566231833,
          19.34240306639228,
          17.187578184535152,
          9.809313503204798,
          17.872527258980508,
          16.29358034374841,
          7.872018312796284,
          11.913240945645626,
          22.364372054324562,
          10.869663992748045,
          15.424230129443227,
          12.522427763260577,
          20.50434732385032,
          15.911777976510367,
          10.78998768127908,
          11.657677069408482,
          9.7021446645768,
          12.668010517573752,
          10.859688311604161,
          9.101310865002239,
          10.628615050420867,
          16.269655228924055,
          7.743695837092473,
          12.16579771992681,
          8.34318529586973,
          12.486994701920286,
          15.673238608503622,
          10.557649696838688,
          11.744059755834908,
          8.252620406721324,
          9.186920463639087,
          8.447561338633898,
          9.294085024681047,
          12.842648012554015,
          15.64737564180955,
          11.30161875622024,
          10.668032986675351,
          13.382290502995641,
          12.5462682550772,
          17.92993723874617,
          14.863671109662215,
          11.122252336831774,
          12.588008777200296,
          8.12128845005289,
          13.765603644437812,
          10.427158117594214,
          13.678804821100144,
          16.227399640337264,
          11.66388154563687,
          13.695827408513159,
          13.586865295123724,
          21.848787534860634,
          20.569918491298147,
          23.936667038105032,
          11.040046007331728,
          13.035506034561434,
          13.846516976342432,
          11.47291967177108,
          10.434684708907056,
          11.98483309462863,
          11.445649538715468,
          11.875008294731309,
          16.60163849922964,
          13.782829491492185,
          28.0523446557916,
          19.15889535009184,
          17.577330505746136,
          13.687797060397813,
          13.660361885290195,
          9.573149067394725,
          11.018522256947644,
          11.03126665340727,
          10.22849048374673,
          16.209554587733717,
          11.392033289338425,
          18.796521112727476,
          9.645680588172347,
          10.792277302111698,
          9.464271209160398,
          13.294384906026776,
          10.134158746122434,
          10.253506093879365,
          9.42913975575956,
          11.393984677957372,
          12.737389712803065,
          11.25436470194231,
          13.983721972160405,
          15.992500157038734,
          15.910982641687067,
          7.014828422608938,
          11.24072251938483,
          6.169600354443143,
          9.599448253668312,
          8.761188137737513,
          13.626411508253442,
          16.72432555700031,
          11.123519782044994,
          11.833290605265473,
          12.295965105233487,
          11.767119745035801,
          12.10455811095519,
          12.80879367254943,
          11.720172915010977,
          9.264201618607407,
          10.700531153413605,
          10.59253681158127,
          9.798056946954162,
          10.96973732030735,
          11.946536447739426,
          11.228741991569269,
          9.291745336269104,
          12.696123746255358,
          12.078125160320267,
          9.919149737269894,
          9.832316109689236,
          10.434477002254896,
          12.793619324214264,
          13.357674511364884,
          14.246351489593737,
          10.443608599370313,
          15.200260585956379,
          21.301373019621995,
          12.396428566318454,
          20.390979047257115,
          14.370181619539657,
          15.052576665801737,
          12.733031123249727,
          15.003962420615272,
          9.76860433242356,
          11.85106620419502,
          12.645704865866737,
          15.585214898578482,
          10.122813471738608,
          7.909162538080107,
          21.975497425930214,
          10.195032826983319,
          6.0164125823357315,
          13.300284908664173,
          12.678887425182314,
          11.695940963426796,
          13.004893461740952,
          12.263391189652086,
          8.399861477403013,
          9.25137474706693,
          8.989532204682646,
          6.677941949361718,
          7.32658258197809,
          13.133334450614282,
          14.380889710453435,
          10.953157793100909,
          11.901622258061096,
          5.676530863781484,
          19.408183123946877,
          14.403238444104211,
          14.829221936808807,
          16.273569595451065,
          15.932397478455973,
          10.69362860242217,
          21.521839837317746,
          10.924118585252666,
          14.489988073771675,
          12.763958665573243,
          12.226311027360728,
          14.143294420299302,
          9.260586585478865,
          19.963161980366706,
          14.260659296247551,
          26.010059076165927,
          9.456697544538944,
          14.095471689731834,
          21.61185627019949,
          17.218528618645003,
          26.01758679747998,
          14.413545914752316,
          11.009754799880604,
          23.188271872101954,
          14.430022215933535,
          15.676113605343717,
          18.843621530612463,
          19.13614100922854,
          13.53751768637358,
          15.607719386303554,
          14.767313415708136,
          13.280930998392668,
          10.229800746270303,
          29.61849401776515,
          22.29522026337742,
          10.85315926395181,
          17.253806059021834,
          14.180627010707624,
          14.654086499772065,
          11.212407227694134,
          17.78294260389752,
          19.142536436535853,
          16.364178722628978,
          14.602432503536495,
          13.011519682946199,
          25.591712242468972,
          13.576219065922896,
          18.809320635507497,
          23.582984535051583,
          20.27061458080153,
          14.914579974765221,
          9.14810601037867,
          10.8096770646945,
          18.654042101674634,
          13.62097541222829,
          6.582111683452167,
          16.16836273513996,
          14.118277466010676,
          9.855687947697673,
          12.215788631093098,
          10.883300903708594,
          9.45001345862755,
          13.371710151170912,
          10.267913604895664,
          11.322077515145416,
          9.747037096797092,
          10.840251658361593,
          12.462491751571399,
          9.618900095816695,
          6.186216719195306,
          11.928172199776707,
          12.038561314005976,
          12.241279827278115,
          11.030515302377006,
          11.780089091616906,
          11.147351073061564,
          13.201626280073137,
          9.20825353910486,
          15.027061353455395,
          10.081371601263504,
          13.151398668503969,
          12.017434277911338,
          15.156729968044141,
          12.935796152511891,
          14.24155999397696,
          13.154663683314393,
          16.240714925960255,
          14.416587499080432,
          11.263169010681544,
          15.10327617590792,
          13.044410963621186,
          16.554722324274813,
          16.955564912690214,
          14.155067481181582,
          16.81655426348064,
          10.697158981964671,
          12.558911842028747,
          10.63973966241602,
          10.37557315461811,
          11.32955395881081,
          23.363365993064907,
          9.617616632242152,
          16.08396319387348,
          8.540389751967698,
          23.337388034002302,
          13.50292828608961,
          6.881002703606508,
          13.58454360896246,
          7.52246380101609,
          19.128426336520622,
          13.771634835016677,
          12.814438739705217,
          20.472236778759576,
          12.611814685263772,
          17.0676366238733,
          20.31097276468671,
          11.571446021540957,
          17.750198330631616,
          10.83269344581638,
          7.355506083242794,
          10.502078097205061,
          9.62787722178045,
          7.901867647872378,
          17.692253489384573,
          9.318744411645332,
          10.98947291577472,
          10.710192482666642,
          11.577837933778511,
          9.209385717057428,
          15.658212410412844,
          15.055803290693609,
          20.884594891125147,
          13.5513601901893,
          10.832102908269036,
          14.526329531603361,
          8.1289034132108,
          22.241539808145788,
          8.312910391452847,
          10.55082270456095,
          17.9651802358417,
          8.300067047907136,
          8.5171166574819,
          7.236992024275551,
          12.66837749277506,
          16.559112775970537,
          9.27321934227147,
          22.096871294326327,
          8.941530956447192,
          11.693478045596482,
          7.8526714795791275,
          18.422199188049397,
          7.357214772365353,
          9.262228758905728,
          17.105642065895918,
          11.53821641126406,
          7.185059218598819,
          16.95404873007049,
          13.226046554105286,
          7.18630235312699,
          12.91601992343468,
          2.199030623014258,
          5.86785881175109,
          6.243636357713581,
          13.95623720831923,
          16.56193284782462,
          21.782528303329315,
          12.978588171182635,
          21.742419111078075,
          15.761876138075962,
          10.66354745830442,
          11.389165761418884,
          6.596155883639397,
          14.602186928505551,
          12.5715715739533,
          11.2642378390653,
          11.392654336567693,
          12.247920592575927,
          23.408369997496575,
          13.216425960152137,
          12.286961737163,
          7.696156580921324,
          7.868089801142515,
          6.731385475277523,
          13.68567468072755,
          7.976720152817143,
          9.473984797983908,
          9.715965154628611,
          13.814075736533912,
          11.311158818785035,
          8.674970799902482,
          19.984730630014543,
          12.982119793929241,
          15.885640068971199,
          27.935373912592343,
          22.70083520586483,
          14.664054671993213,
          10.25715981226916,
          9.965222773646962,
          14.283912765851866,
          13.23855507846936,
          21.5187122056402,
          11.912341596078084,
          13.799165079397186,
          9.643480488016689,
          17.826267989183012,
          13.63017104773396,
          8.815503529573194,
          9.914952472200108,
          12.306439163728518,
          11.722309572089385,
          25.031092559489633,
          14.098103279315216,
          8.723646691097608,
          20.49007956564603,
          9.219112361517329,
          14.905583914937589,
          21.61972547437089,
          9.234555479567867,
          11.949226836048558,
          8.338083753711341,
          8.132342026085732,
          16.230099767055155
         ],
         "y0": " ",
         "yaxis": "y"
        },
        {
         "alignmentgroup": "True",
         "hovertemplate": "Nuber of Nodes=300<br>Area Conf.=%{x}<br>Energy compared to SBP (%)=%{y}<extra></extra>",
         "legendgroup": "300",
         "marker": {
          "color": "#19d3f3"
         },
         "name": "300",
         "notched": false,
         "offsetgroup": "300",
         "orientation": "v",
         "showlegend": true,
         "type": "box",
         "x": [
          100,
          100,
          100,
          400,
          400,
          400,
          400,
          400,
          400,
          400,
          400,
          400,
          300,
          300,
          300,
          300,
          300,
          300,
          300,
          300,
          400,
          400,
          400,
          400,
          400,
          400,
          400,
          400,
          400,
          400,
          400,
          400,
          400,
          400,
          400,
          400,
          400,
          100,
          400,
          400,
          100,
          500,
          100,
          500,
          500,
          500,
          500,
          500,
          500,
          500,
          500,
          500,
          500,
          500,
          500,
          500,
          500,
          500,
          500,
          500,
          500,
          500,
          400,
          400,
          400,
          500,
          500,
          500,
          500,
          500,
          500,
          500,
          500,
          500,
          500,
          500,
          500,
          500,
          500,
          500,
          500,
          500,
          500,
          500,
          500,
          500,
          500,
          500,
          500,
          300,
          400,
          500,
          400,
          400,
          400,
          400,
          100,
          100,
          100,
          100,
          100,
          100,
          100,
          100,
          100,
          100,
          100,
          100,
          100,
          100,
          100,
          100,
          500,
          500,
          500,
          500,
          500,
          100,
          100,
          100,
          100,
          100,
          100,
          400,
          400,
          400,
          400,
          400,
          400,
          400,
          400,
          400,
          400,
          400,
          400,
          400,
          400,
          400,
          400,
          400,
          400,
          400,
          400,
          400,
          400,
          100,
          100,
          300,
          100,
          300,
          200,
          200,
          200,
          200,
          200,
          200,
          200,
          200,
          200,
          200,
          200,
          200,
          200,
          200,
          200,
          200,
          200,
          200,
          200,
          200,
          200,
          200,
          200,
          200,
          200,
          200,
          200,
          200,
          200,
          200,
          200,
          200,
          200,
          300,
          300,
          300,
          200,
          200,
          200,
          200,
          200,
          200,
          200,
          200,
          200,
          200,
          200,
          500,
          200,
          200,
          200,
          200,
          200,
          200,
          200,
          200,
          200,
          200,
          200,
          200,
          200,
          200,
          200,
          200,
          300,
          500,
          500,
          400,
          400,
          400,
          400,
          400,
          400,
          400,
          400,
          400,
          400,
          400,
          400,
          400,
          400,
          400,
          400,
          400,
          400,
          400,
          400,
          400,
          400,
          400,
          400,
          400,
          400,
          400,
          400,
          400,
          400,
          500,
          500,
          500,
          300,
          300,
          300,
          300,
          300,
          300,
          300,
          500,
          500,
          500,
          500,
          500,
          500,
          500,
          500,
          500,
          500,
          500,
          500,
          500,
          500,
          500,
          500,
          500,
          500,
          500,
          500,
          500,
          500,
          500,
          500,
          300,
          300,
          300,
          200,
          200,
          200,
          200,
          200,
          200,
          200,
          200,
          200,
          200,
          200,
          200,
          200,
          200,
          100,
          100,
          100,
          100,
          100,
          100,
          100,
          100,
          100,
          100,
          100,
          100,
          100,
          100,
          100,
          200,
          200,
          200,
          200,
          300,
          300,
          300,
          300,
          300,
          300,
          300,
          300,
          300,
          300,
          300,
          300,
          300,
          300,
          100,
          300,
          300,
          300,
          200,
          200,
          200,
          200,
          200,
          200,
          200,
          200,
          200,
          200,
          200,
          200,
          300,
          100,
          100,
          100,
          100,
          100,
          100,
          100,
          100,
          100,
          100,
          100,
          100,
          100,
          100,
          300,
          300,
          300,
          100,
          300,
          300,
          300,
          300,
          300,
          300,
          300,
          300,
          300,
          300,
          300,
          300,
          300,
          300,
          300,
          300,
          300,
          100,
          100,
          100,
          100,
          100,
          100,
          100,
          100,
          100,
          100,
          100,
          100,
          400,
          300,
          300,
          300,
          100,
          300,
          100,
          100,
          100,
          100,
          100,
          100,
          100,
          100,
          100,
          100,
          100,
          100,
          100,
          100,
          100,
          400
         ],
         "x0": " ",
         "xaxis": "x",
         "y": [
          12.07626608516667,
          11.137130756435461,
          13.993712957937298,
          13.697858330095483,
          9.46293384993213,
          13.515084195423416,
          8.18011485438845,
          12.027980568242524,
          12.753680548436765,
          14.730355083334876,
          7.964901122842612,
          7.411335178602707,
          13.239627887542285,
          12.44585115602202,
          13.810221516574458,
          11.390942649123136,
          8.241594538790151,
          12.338892167104621,
          16.80109794601685,
          17.431225977700336,
          13.260613385353365,
          26.001058815192323,
          12.86067734631526,
          13.095790657903041,
          18.597276518138568,
          9.644617528913201,
          7.330528467544959,
          21.02159379847167,
          12.459704714645687,
          27.024777968802937,
          15.972421317660915,
          18.53814777929541,
          12.373345477744495,
          10.696105280140673,
          10.685901511714958,
          12.586917854175406,
          13.812284476859643,
          10.73711808652629,
          14.129277366897641,
          10.408881554471813,
          12.031148438612435,
          12.885748088836596,
          12.033761463693505,
          11.188467769342198,
          12.681829954103394,
          18.78865269957905,
          10.153762995039013,
          14.794188696733876,
          22.257175772290964,
          10.853198496832881,
          10.68385788713077,
          13.061137049539512,
          15.282921353717779,
          10.30269079042715,
          12.831339772215195,
          16.065344901616175,
          9.133866047097728,
          8.269898144521914,
          5.4426303595895185,
          21.72592913167855,
          16.563126615717696,
          18.39946543357443,
          12.446590450327664,
          11.42482777684128,
          9.48099236437636,
          13.513475599912558,
          3.7025310491165664,
          10.557348696128319,
          13.223217563726125,
          16.823871763933113,
          18.40324484271922,
          10.097943397866253,
          12.940098544500286,
          18.495881772416364,
          10.807367593079164,
          8.273060526535096,
          6.438350212036395,
          17.088536577444973,
          9.221346659342732,
          11.533806165392244,
          15.804262006994191,
          10.147042323776983,
          15.366165080590067,
          7.797152523184427,
          9.138108065917436,
          11.363099934112045,
          13.869942411811353,
          10.054511522544848,
          22.292256479355476,
          27.92094040813614,
          14.345083557651861,
          17.061380369837273,
          5.678165270525464,
          10.85822497138854,
          29.353724130386706,
          22.71983447113531,
          11.552902025772557,
          13.323395186883879,
          13.562068448335776,
          13.89744212221587,
          11.269002432107781,
          14.52484118530539,
          12.160596895364176,
          13.93013780138477,
          12.357310412252724,
          12.275179442478123,
          11.926192067479723,
          12.248496226255387,
          12.661162111446197,
          12.845235468437869,
          12.726560746099311,
          11.139406897580638,
          8.41180739785555,
          4.744379191647827,
          13.31045624234109,
          14.469150929598326,
          9.364846069617093,
          12.49842183279044,
          12.524773984686236,
          10.09189536690807,
          11.620759632745866,
          12.72031864378922,
          12.752398998764164,
          15.97150169432574,
          13.210527583759301,
          12.540860580325786,
          11.761881671731151,
          11.503839779638668,
          18.53653221405294,
          9.516967862552885,
          10.571298486298671,
          9.819947458085439,
          9.884190350640289,
          11.824307647378822,
          12.113129280726886,
          12.555128631285903,
          11.977862309222012,
          8.006774843050165,
          10.332955872374853,
          10.984428574020889,
          16.54290963956794,
          7.967024867703213,
          9.418188564087346,
          22.4737671567323,
          10.249005495405711,
          12.791586997983034,
          14.286253369785518,
          15.624462065265526,
          10.994852253442122,
          31.117376721394198,
          15.611138390725982,
          15.775156033246999,
          10.838497032983286,
          8.997437114944724,
          18.268263745781987,
          17.880020056900864,
          15.740165437677927,
          18.829058205999022,
          17.65086244560757,
          14.651517521531563,
          14.1417452763622,
          15.089806219470406,
          16.111540759302343,
          14.134687832910728,
          15.36179662040916,
          12.540910477760603,
          13.69685060416874,
          13.364293157213261,
          14.40841560236326,
          11.868939868167146,
          14.877795917611259,
          11.428231175057016,
          11.76509519148822,
          19.53351675905334,
          16.418251701642994,
          10.75167121325879,
          11.758718719587877,
          17.735410856469997,
          15.278714375366334,
          15.1460255298598,
          15.126181454145199,
          20.359086458845542,
          14.768706527180864,
          8.919348034200759,
          15.705284505073841,
          20.70778300902499,
          17.56013880216458,
          19.43171145701652,
          11.961956912301982,
          11.10840754454775,
          15.920749616309696,
          15.090698999136743,
          12.37782570622147,
          11.541806333160189,
          24.477488906873557,
          24.29161375099542,
          15.59046231655366,
          10.584258808454152,
          12.708389137859452,
          16.4496764521884,
          17.97414733518515,
          14.706911292510059,
          20.215345095575284,
          16.287820703659754,
          18.654799569929903,
          15.361148746630674,
          17.09935128439621,
          18.697511694454754,
          16.123108208280318,
          14.752806732014454,
          11.536539165252028,
          13.216245110396585,
          14.790350009481996,
          15.68483774494317,
          7.09035333783469,
          14.846455055584137,
          13.686093741993238,
          9.094674790195768,
          11.806475623407582,
          8.991641593843912,
          5.830745923575287,
          18.128596564817407,
          15.2656986145994,
          12.935628455617417,
          18.643834965286135,
          12.957982810289357,
          10.977152883421926,
          11.136314583583342,
          15.305140178018345,
          12.119521566993413,
          17.124510718831573,
          10.753948083474457,
          17.47266320832815,
          10.598527280088456,
          10.824755660961026,
          11.436464668743245,
          18.473450053149303,
          21.962415550565773,
          7.140490548445838,
          10.483329545918401,
          14.14074548982802,
          12.940242386237614,
          6.506898183379597,
          8.115843122920015,
          20.154976691973626,
          18.165379444117498,
          16.682884012120137,
          11.324092391792671,
          11.772988235818882,
          11.512337409773783,
          17.061963708571014,
          11.116038519978778,
          21.5285619591484,
          10.48443661932195,
          22.11823877392277,
          25.499795045664737,
          13.987916810149695,
          4.559377500212267,
          13.059384566621704,
          13.282546793013156,
          10.365492366130766,
          22.763782576529582,
          11.077785241877852,
          10.548801111265162,
          14.767994840285038,
          8.049156105811774,
          13.367245487333163,
          16.624845151157277,
          7.257851576102299,
          7.562271085963588,
          10.411064614754919,
          11.8164995198234,
          17.5664670077788,
          10.450021102190783,
          13.114092793834416,
          21.25363108216753,
          10.74749180285901,
          18.01797071615827,
          16.035051915915645,
          11.094940991073011,
          9.704356018192472,
          13.027454825120092,
          13.27133831844169,
          24.4026770866744,
          19.16817310366813,
          14.155528112158008,
          14.846555972592101,
          13.281712511540327,
          14.042110719950141,
          14.893940861541655,
          11.629302482999753,
          13.663508007912142,
          14.268303591336817,
          16.049341162937917,
          13.105314637295137,
          12.173661044323723,
          16.252522141669353,
          22.598972063807476,
          12.63869639057058,
          12.072093449851671,
          12.105729522940752,
          12.54099696975931,
          9.920017987713507,
          11.765572947334563,
          12.473876281508549,
          14.266086938433013,
          13.023575556226206,
          12.477105830550594,
          12.046349036680418,
          12.569441388009277,
          13.019631868574614,
          11.560748051967927,
          12.030699612339863,
          14.470687156026601,
          12.072422150032429,
          16.15542585261115,
          13.422094372691015,
          9.783589944153277,
          24.211326135768317,
          12.912307428780888,
          11.252921857005955,
          19.396940930132125,
          18.90966574785288,
          11.18987932828004,
          12.015341538518536,
          13.779423300262772,
          15.519893464181939,
          10.709972998991399,
          12.722771701257116,
          15.652347357138071,
          21.565703387982907,
          12.40024324122812,
          8.532792424702903,
          16.390589331002,
          15.741967800735893,
          15.390633995262581,
          13.86646766323022,
          16.710359890469896,
          22.12937070411319,
          10.480987902614766,
          11.692575822318242,
          16.56807473987438,
          13.652713350005033,
          17.33573958100972,
          17.446361537767725,
          17.193775006257905,
          20.115357567732836,
          9.429556939906398,
          12.19529070310667,
          11.164603165644332,
          13.498767785232952,
          11.966783060022198,
          10.373529456775461,
          13.205276809951414,
          12.475017088375328,
          13.086712484637186,
          11.848234496029884,
          11.726167658994147,
          16.53908467757838,
          12.168428077083908,
          9.488975534165393,
          14.078133681537109,
          7.40838396993751,
          11.198492050276872,
          16.49137953211209,
          11.313752416193573,
          21.111743315552744,
          21.3172009656621,
          18.486423043817517,
          15.538399049304532,
          9.50608158092766,
          12.273682514828756,
          24.755263083184087,
          24.680043850614194,
          10.494657060537948,
          9.751579418868284,
          11.1586804751447,
          10.919184797791544,
          12.65744892287501,
          13.73447655542987,
          9.338145206883562,
          16.392187080802824,
          23.076236866001917,
          10.238545706144352,
          16.612267479033804,
          11.98637920950415,
          12.21923360828435,
          11.88979079708699,
          11.941550827869497,
          11.456524539733678,
          11.867157631732235,
          9.67592852001201,
          11.799382942780944,
          11.725943978957174,
          12.441016257230402,
          16.834382043807462,
          15.928162497776356,
          11.976630462854738,
          18.431226704726306,
          12.042378309216287,
          9.878997481439225,
          12.185761618334324,
          14.828964273876192,
          8.712013227181068,
          9.854987320613468,
          15.438423534623633,
          11.608254057415209,
          11.08968876733179,
          12.525110821842722,
          10.742692122021156,
          11.21886177769841,
          16.39007591014246,
          13.005604532138426,
          16.98743128556946,
          10.514643413006759,
          9.692376856792139,
          10.331666575854813
         ],
         "y0": " ",
         "yaxis": "y"
        }
       ],
       "layout": {
        "boxmode": "group",
        "legend": {
         "title": {
          "text": "Nuber of Nodes"
         },
         "tracegroupgap": 0
        },
        "margin": {
         "t": 60
        },
        "template": {
         "data": {
          "bar": [
           {
            "error_x": {
             "color": "#2a3f5f"
            },
            "error_y": {
             "color": "#2a3f5f"
            },
            "marker": {
             "line": {
              "color": "#E5ECF6",
              "width": 0.5
             },
             "pattern": {
              "fillmode": "overlay",
              "size": 10,
              "solidity": 0.2
             }
            },
            "type": "bar"
           }
          ],
          "barpolar": [
           {
            "marker": {
             "line": {
              "color": "#E5ECF6",
              "width": 0.5
             },
             "pattern": {
              "fillmode": "overlay",
              "size": 10,
              "solidity": 0.2
             }
            },
            "type": "barpolar"
           }
          ],
          "carpet": [
           {
            "aaxis": {
             "endlinecolor": "#2a3f5f",
             "gridcolor": "white",
             "linecolor": "white",
             "minorgridcolor": "white",
             "startlinecolor": "#2a3f5f"
            },
            "baxis": {
             "endlinecolor": "#2a3f5f",
             "gridcolor": "white",
             "linecolor": "white",
             "minorgridcolor": "white",
             "startlinecolor": "#2a3f5f"
            },
            "type": "carpet"
           }
          ],
          "choropleth": [
           {
            "colorbar": {
             "outlinewidth": 0,
             "ticks": ""
            },
            "type": "choropleth"
           }
          ],
          "contour": [
           {
            "colorbar": {
             "outlinewidth": 0,
             "ticks": ""
            },
            "colorscale": [
             [
              0,
              "#0d0887"
             ],
             [
              0.1111111111111111,
              "#46039f"
             ],
             [
              0.2222222222222222,
              "#7201a8"
             ],
             [
              0.3333333333333333,
              "#9c179e"
             ],
             [
              0.4444444444444444,
              "#bd3786"
             ],
             [
              0.5555555555555556,
              "#d8576b"
             ],
             [
              0.6666666666666666,
              "#ed7953"
             ],
             [
              0.7777777777777778,
              "#fb9f3a"
             ],
             [
              0.8888888888888888,
              "#fdca26"
             ],
             [
              1,
              "#f0f921"
             ]
            ],
            "type": "contour"
           }
          ],
          "contourcarpet": [
           {
            "colorbar": {
             "outlinewidth": 0,
             "ticks": ""
            },
            "type": "contourcarpet"
           }
          ],
          "heatmap": [
           {
            "colorbar": {
             "outlinewidth": 0,
             "ticks": ""
            },
            "colorscale": [
             [
              0,
              "#0d0887"
             ],
             [
              0.1111111111111111,
              "#46039f"
             ],
             [
              0.2222222222222222,
              "#7201a8"
             ],
             [
              0.3333333333333333,
              "#9c179e"
             ],
             [
              0.4444444444444444,
              "#bd3786"
             ],
             [
              0.5555555555555556,
              "#d8576b"
             ],
             [
              0.6666666666666666,
              "#ed7953"
             ],
             [
              0.7777777777777778,
              "#fb9f3a"
             ],
             [
              0.8888888888888888,
              "#fdca26"
             ],
             [
              1,
              "#f0f921"
             ]
            ],
            "type": "heatmap"
           }
          ],
          "heatmapgl": [
           {
            "colorbar": {
             "outlinewidth": 0,
             "ticks": ""
            },
            "colorscale": [
             [
              0,
              "#0d0887"
             ],
             [
              0.1111111111111111,
              "#46039f"
             ],
             [
              0.2222222222222222,
              "#7201a8"
             ],
             [
              0.3333333333333333,
              "#9c179e"
             ],
             [
              0.4444444444444444,
              "#bd3786"
             ],
             [
              0.5555555555555556,
              "#d8576b"
             ],
             [
              0.6666666666666666,
              "#ed7953"
             ],
             [
              0.7777777777777778,
              "#fb9f3a"
             ],
             [
              0.8888888888888888,
              "#fdca26"
             ],
             [
              1,
              "#f0f921"
             ]
            ],
            "type": "heatmapgl"
           }
          ],
          "histogram": [
           {
            "marker": {
             "pattern": {
              "fillmode": "overlay",
              "size": 10,
              "solidity": 0.2
             }
            },
            "type": "histogram"
           }
          ],
          "histogram2d": [
           {
            "colorbar": {
             "outlinewidth": 0,
             "ticks": ""
            },
            "colorscale": [
             [
              0,
              "#0d0887"
             ],
             [
              0.1111111111111111,
              "#46039f"
             ],
             [
              0.2222222222222222,
              "#7201a8"
             ],
             [
              0.3333333333333333,
              "#9c179e"
             ],
             [
              0.4444444444444444,
              "#bd3786"
             ],
             [
              0.5555555555555556,
              "#d8576b"
             ],
             [
              0.6666666666666666,
              "#ed7953"
             ],
             [
              0.7777777777777778,
              "#fb9f3a"
             ],
             [
              0.8888888888888888,
              "#fdca26"
             ],
             [
              1,
              "#f0f921"
             ]
            ],
            "type": "histogram2d"
           }
          ],
          "histogram2dcontour": [
           {
            "colorbar": {
             "outlinewidth": 0,
             "ticks": ""
            },
            "colorscale": [
             [
              0,
              "#0d0887"
             ],
             [
              0.1111111111111111,
              "#46039f"
             ],
             [
              0.2222222222222222,
              "#7201a8"
             ],
             [
              0.3333333333333333,
              "#9c179e"
             ],
             [
              0.4444444444444444,
              "#bd3786"
             ],
             [
              0.5555555555555556,
              "#d8576b"
             ],
             [
              0.6666666666666666,
              "#ed7953"
             ],
             [
              0.7777777777777778,
              "#fb9f3a"
             ],
             [
              0.8888888888888888,
              "#fdca26"
             ],
             [
              1,
              "#f0f921"
             ]
            ],
            "type": "histogram2dcontour"
           }
          ],
          "mesh3d": [
           {
            "colorbar": {
             "outlinewidth": 0,
             "ticks": ""
            },
            "type": "mesh3d"
           }
          ],
          "parcoords": [
           {
            "line": {
             "colorbar": {
              "outlinewidth": 0,
              "ticks": ""
             }
            },
            "type": "parcoords"
           }
          ],
          "pie": [
           {
            "automargin": true,
            "type": "pie"
           }
          ],
          "scatter": [
           {
            "fillpattern": {
             "fillmode": "overlay",
             "size": 10,
             "solidity": 0.2
            },
            "type": "scatter"
           }
          ],
          "scatter3d": [
           {
            "line": {
             "colorbar": {
              "outlinewidth": 0,
              "ticks": ""
             }
            },
            "marker": {
             "colorbar": {
              "outlinewidth": 0,
              "ticks": ""
             }
            },
            "type": "scatter3d"
           }
          ],
          "scattercarpet": [
           {
            "marker": {
             "colorbar": {
              "outlinewidth": 0,
              "ticks": ""
             }
            },
            "type": "scattercarpet"
           }
          ],
          "scattergeo": [
           {
            "marker": {
             "colorbar": {
              "outlinewidth": 0,
              "ticks": ""
             }
            },
            "type": "scattergeo"
           }
          ],
          "scattergl": [
           {
            "marker": {
             "colorbar": {
              "outlinewidth": 0,
              "ticks": ""
             }
            },
            "type": "scattergl"
           }
          ],
          "scattermapbox": [
           {
            "marker": {
             "colorbar": {
              "outlinewidth": 0,
              "ticks": ""
             }
            },
            "type": "scattermapbox"
           }
          ],
          "scatterpolar": [
           {
            "marker": {
             "colorbar": {
              "outlinewidth": 0,
              "ticks": ""
             }
            },
            "type": "scatterpolar"
           }
          ],
          "scatterpolargl": [
           {
            "marker": {
             "colorbar": {
              "outlinewidth": 0,
              "ticks": ""
             }
            },
            "type": "scatterpolargl"
           }
          ],
          "scatterternary": [
           {
            "marker": {
             "colorbar": {
              "outlinewidth": 0,
              "ticks": ""
             }
            },
            "type": "scatterternary"
           }
          ],
          "surface": [
           {
            "colorbar": {
             "outlinewidth": 0,
             "ticks": ""
            },
            "colorscale": [
             [
              0,
              "#0d0887"
             ],
             [
              0.1111111111111111,
              "#46039f"
             ],
             [
              0.2222222222222222,
              "#7201a8"
             ],
             [
              0.3333333333333333,
              "#9c179e"
             ],
             [
              0.4444444444444444,
              "#bd3786"
             ],
             [
              0.5555555555555556,
              "#d8576b"
             ],
             [
              0.6666666666666666,
              "#ed7953"
             ],
             [
              0.7777777777777778,
              "#fb9f3a"
             ],
             [
              0.8888888888888888,
              "#fdca26"
             ],
             [
              1,
              "#f0f921"
             ]
            ],
            "type": "surface"
           }
          ],
          "table": [
           {
            "cells": {
             "fill": {
              "color": "#EBF0F8"
             },
             "line": {
              "color": "white"
             }
            },
            "header": {
             "fill": {
              "color": "#C8D4E3"
             },
             "line": {
              "color": "white"
             }
            },
            "type": "table"
           }
          ]
         },
         "layout": {
          "annotationdefaults": {
           "arrowcolor": "#2a3f5f",
           "arrowhead": 0,
           "arrowwidth": 1
          },
          "autotypenumbers": "strict",
          "coloraxis": {
           "colorbar": {
            "outlinewidth": 0,
            "ticks": ""
           }
          },
          "colorscale": {
           "diverging": [
            [
             0,
             "#8e0152"
            ],
            [
             0.1,
             "#c51b7d"
            ],
            [
             0.2,
             "#de77ae"
            ],
            [
             0.3,
             "#f1b6da"
            ],
            [
             0.4,
             "#fde0ef"
            ],
            [
             0.5,
             "#f7f7f7"
            ],
            [
             0.6,
             "#e6f5d0"
            ],
            [
             0.7,
             "#b8e186"
            ],
            [
             0.8,
             "#7fbc41"
            ],
            [
             0.9,
             "#4d9221"
            ],
            [
             1,
             "#276419"
            ]
           ],
           "sequential": [
            [
             0,
             "#0d0887"
            ],
            [
             0.1111111111111111,
             "#46039f"
            ],
            [
             0.2222222222222222,
             "#7201a8"
            ],
            [
             0.3333333333333333,
             "#9c179e"
            ],
            [
             0.4444444444444444,
             "#bd3786"
            ],
            [
             0.5555555555555556,
             "#d8576b"
            ],
            [
             0.6666666666666666,
             "#ed7953"
            ],
            [
             0.7777777777777778,
             "#fb9f3a"
            ],
            [
             0.8888888888888888,
             "#fdca26"
            ],
            [
             1,
             "#f0f921"
            ]
           ],
           "sequentialminus": [
            [
             0,
             "#0d0887"
            ],
            [
             0.1111111111111111,
             "#46039f"
            ],
            [
             0.2222222222222222,
             "#7201a8"
            ],
            [
             0.3333333333333333,
             "#9c179e"
            ],
            [
             0.4444444444444444,
             "#bd3786"
            ],
            [
             0.5555555555555556,
             "#d8576b"
            ],
            [
             0.6666666666666666,
             "#ed7953"
            ],
            [
             0.7777777777777778,
             "#fb9f3a"
            ],
            [
             0.8888888888888888,
             "#fdca26"
            ],
            [
             1,
             "#f0f921"
            ]
           ]
          },
          "colorway": [
           "#636efa",
           "#EF553B",
           "#00cc96",
           "#ab63fa",
           "#FFA15A",
           "#19d3f3",
           "#FF6692",
           "#B6E880",
           "#FF97FF",
           "#FECB52"
          ],
          "font": {
           "color": "#2a3f5f"
          },
          "geo": {
           "bgcolor": "white",
           "lakecolor": "white",
           "landcolor": "#E5ECF6",
           "showlakes": true,
           "showland": true,
           "subunitcolor": "white"
          },
          "hoverlabel": {
           "align": "left"
          },
          "hovermode": "closest",
          "mapbox": {
           "style": "light"
          },
          "paper_bgcolor": "white",
          "plot_bgcolor": "#E5ECF6",
          "polar": {
           "angularaxis": {
            "gridcolor": "white",
            "linecolor": "white",
            "ticks": ""
           },
           "bgcolor": "#E5ECF6",
           "radialaxis": {
            "gridcolor": "white",
            "linecolor": "white",
            "ticks": ""
           }
          },
          "scene": {
           "xaxis": {
            "backgroundcolor": "#E5ECF6",
            "gridcolor": "white",
            "gridwidth": 2,
            "linecolor": "white",
            "showbackground": true,
            "ticks": "",
            "zerolinecolor": "white"
           },
           "yaxis": {
            "backgroundcolor": "#E5ECF6",
            "gridcolor": "white",
            "gridwidth": 2,
            "linecolor": "white",
            "showbackground": true,
            "ticks": "",
            "zerolinecolor": "white"
           },
           "zaxis": {
            "backgroundcolor": "#E5ECF6",
            "gridcolor": "white",
            "gridwidth": 2,
            "linecolor": "white",
            "showbackground": true,
            "ticks": "",
            "zerolinecolor": "white"
           }
          },
          "shapedefaults": {
           "line": {
            "color": "#2a3f5f"
           }
          },
          "ternary": {
           "aaxis": {
            "gridcolor": "white",
            "linecolor": "white",
            "ticks": ""
           },
           "baxis": {
            "gridcolor": "white",
            "linecolor": "white",
            "ticks": ""
           },
           "bgcolor": "#E5ECF6",
           "caxis": {
            "gridcolor": "white",
            "linecolor": "white",
            "ticks": ""
           }
          },
          "title": {
           "x": 0.05
          },
          "xaxis": {
           "automargin": true,
           "gridcolor": "white",
           "linecolor": "white",
           "ticks": "",
           "title": {
            "standoff": 15
           },
           "zerolinecolor": "white",
           "zerolinewidth": 2
          },
          "yaxis": {
           "automargin": true,
           "gridcolor": "white",
           "linecolor": "white",
           "ticks": "",
           "title": {
            "standoff": 15
           },
           "zerolinecolor": "white",
           "zerolinewidth": 2
          }
         }
        },
        "xaxis": {
         "anchor": "y",
         "domain": [
          0,
          1
         ],
         "tickmode": "array",
         "ticktext": [
          "(1)",
          "(2)",
          "(3)",
          "(4)",
          "(5)"
         ],
         "tickvals": [
          100,
          200,
          300,
          400,
          500
         ],
         "title": {
          "text": "Area Conf."
         }
        },
        "yaxis": {
         "anchor": "x",
         "domain": [
          0,
          1
         ],
         "title": {
          "text": "Energy compared to SBP (%)"
         }
        }
       }
      }
     },
     "metadata": {},
     "output_type": "display_data"
    }
   ],
   "source": [
    "merged = pandas.merge(\n",
    "    btp_raw, \n",
    "    sbp_raw, \n",
    "    left_on=[\"Node Count\", \"Width\", \"Seed\", \"Cycle Prevention\"], \n",
    "    right_on=[\"Node Count\", \"Width\", \"Seed\", \"Cycle Prevention\"],\n",
    "    suffixes=[\" BTP\", \" SBP\"],\n",
    ")\n",
    "merged[\"Energy Proportion\"] = merged[\"Total Energy BTP\"] / merged[\"Total Energy SBP\"]\n",
    "merged[\"Energy Savings (%)\"] = (merged[\"Energy Proportion\"]) * 100\n",
    "\n",
    "fig = px.box(\n",
    "    merged.sort_values(\"Node Count\"), \n",
    "    x=\"Width\",\n",
    "    y=\"Energy Savings (%)\", \n",
    "    color=\"Node Count\",    \n",
    "    labels={\n",
    "        \"Width\": \"Area Conf.\",\n",
    "        \"Node Count\": \"Nuber of Nodes\",\n",
    "        \"Energy Savings (%)\": \"Energy compared to SBP (%)\",\n",
    "        \"100\": \"(1)\"\n",
    "    },\n",
    ")\n",
    "\n",
    "fig.update_layout(\n",
    "    xaxis = dict(\n",
    "        tickmode = 'array',\n",
    "        tickvals = [100, 200, 300, 400, 500],\n",
    "        ticktext = [\"(1)\", \"(2)\", \"(3)\", \"(4)\", \"(5)\"]\n",
    "    )\n",
    ")\n",
    "\n",
    "fig.write_image(\"energy_savings.pdf\", width=700, height=400)\n",
    "fig"
   ]
  }
 ],
 "metadata": {
  "kernelspec": {
   "display_name": "Python 3.10.6 64-bit",
   "language": "python",
   "name": "python3"
  },
  "language_info": {
   "codemirror_mode": {
    "name": "ipython",
    "version": 3
   },
   "file_extension": ".py",
   "mimetype": "text/x-python",
   "name": "python",
   "nbconvert_exporter": "python",
   "pygments_lexer": "ipython3",
   "version": "3.10.8"
  },
  "vscode": {
   "interpreter": {
    "hash": "aee8b7b246df8f9039afb4144a1f6fd8d2ca17a180786b69acc140d282b71a49"
   }
  }
 },
 "nbformat": 4,
 "nbformat_minor": 4
}
