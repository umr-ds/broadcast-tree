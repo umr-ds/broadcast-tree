{
 "cells": [
  {
   "cell_type": "code",
   "execution_count": 1,
   "metadata": {},
   "outputs": [],
   "source": [
    "import glob\n",
    "import pathlib\n",
    "\n",
    "import pandas as pd\n",
    "pd.get_option(\"display.max_columns\")\n",
    "import plotly.express as px\n",
    "\n",
    "from btree_analysis.log_parser import parse_experiment"
   ]
  },
  {
   "cell_type": "code",
   "execution_count": 33,
   "metadata": {},
   "outputs": [],
   "source": [
    "EXPERIMENT_PATH = \"/Users/artur/Documents/broadcast-tree/experiments/results/*\"\n",
    "EXPERIMENT_IDENTIFIER = [\"payload_size\", \"flood\", \"unchanged_counter\", \"source_id\", \"iteration\"]"
   ]
  },
  {
   "cell_type": "code",
   "execution_count": 34,
   "metadata": {},
   "outputs": [
    {
     "name": "stdout",
     "output_type": "stream",
     "text": [
      "Parsing experiment /Users/artur/Documents/broadcast-tree/experiments/results/2022-07-28_14-28-12 (1/1)\n"
     ]
    }
   ],
   "source": [
    "events = []\n",
    "dirs = glob.glob(EXPERIMENT_PATH)\n",
    "num_dirs = len(dirs)\n",
    "for count, experiment in zip(range(0, num_dirs), dirs):\n",
    "    print(f\"Parsing experiment {experiment} ({count + 1}/{num_dirs})\")\n",
    "    _events, _, _ = parse_experiment(pathlib.Path(experiment))\n",
    "    events += _events\n",
    "    \n",
    "df = pd.DataFrame(events)"
   ]
  },
  {
   "cell_type": "markdown",
   "metadata": {},
   "source": [
    "# Evaluation Metrics\n",
    "- [x] Table: How many nodes have received the entire payload?\n",
    "- [x] Plot: Percentage comparison of BTP vs. flood w.r.t. to received payloads\n",
    "- [X] Plot: How many percent more or less energy does BTP need compared to flood\n",
    "- [X] Plot: What is the overhead of the BTP protocol (i.e. payload energy vs. protocol energy)?\n",
    "- [X] Plot: How are individual nodes strained?"
   ]
  },
  {
   "cell_type": "markdown",
   "metadata": {},
   "source": [
    "# Absolute Values of Received Payloads"
   ]
  },
  {
   "cell_type": "code",
   "execution_count": 35,
   "metadata": {},
   "outputs": [],
   "source": [
    "reception_df = df.groupby(EXPERIMENT_IDENTIFIER)[\"event\"].apply(lambda x: (x == 'receive').sum()).reset_index(name='count')"
   ]
  },
  {
   "cell_type": "code",
   "execution_count": 36,
   "metadata": {},
   "outputs": [
    {
     "data": {
      "text/html": [
       "<div>\n",
       "<style scoped>\n",
       "    .dataframe tbody tr th:only-of-type {\n",
       "        vertical-align: middle;\n",
       "    }\n",
       "\n",
       "    .dataframe tbody tr th {\n",
       "        vertical-align: top;\n",
       "    }\n",
       "\n",
       "    .dataframe thead th {\n",
       "        text-align: right;\n",
       "    }\n",
       "</style>\n",
       "<table border=\"1\" class=\"dataframe\">\n",
       "  <thead>\n",
       "    <tr style=\"text-align: right;\">\n",
       "      <th></th>\n",
       "      <th>payload_size</th>\n",
       "      <th>flood</th>\n",
       "      <th>unchanged_counter</th>\n",
       "      <th>source_id</th>\n",
       "      <th>iteration</th>\n",
       "      <th>count</th>\n",
       "    </tr>\n",
       "  </thead>\n",
       "  <tbody>\n",
       "  </tbody>\n",
       "</table>\n",
       "</div>"
      ],
      "text/plain": [
       "Empty DataFrame\n",
       "Columns: [payload_size, flood, unchanged_counter, source_id, iteration, count]\n",
       "Index: []"
      ]
     },
     "execution_count": 36,
     "metadata": {},
     "output_type": "execute_result"
    }
   ],
   "source": [
    "reception_df[reception_df[\"count\"] == 0]"
   ]
  },
  {
   "cell_type": "code",
   "execution_count": 37,
   "metadata": {},
   "outputs": [
    {
     "data": {
      "application/vnd.plotly.v1+json": {
       "config": {
        "plotlyServerURL": "https://plot.ly"
       },
       "data": [
        {
         "alignmentgroup": "True",
         "hovertemplate": "unchanged_counter=5<br>source_id=0<br>flood=False<br>payload_size=%{x}<br>count=%{y}<extra></extra>",
         "legendgroup": "5",
         "marker": {
          "color": "#636efa"
         },
         "name": "5",
         "notched": false,
         "offsetgroup": "5",
         "orientation": "v",
         "showlegend": true,
         "type": "box",
         "x": [
          "1K"
         ],
         "x0": " ",
         "xaxis": "x",
         "y": [
          1
         ],
         "y0": " ",
         "yaxis": "y"
        }
       ],
       "layout": {
        "annotations": [
         {
          "font": {},
          "showarrow": false,
          "text": "flood=False",
          "x": 0.49,
          "xanchor": "center",
          "xref": "paper",
          "y": 1,
          "yanchor": "bottom",
          "yref": "paper"
         },
         {
          "font": {},
          "showarrow": false,
          "text": "source_id=0",
          "textangle": 90,
          "x": 0.98,
          "xanchor": "left",
          "xref": "paper",
          "y": 0.5,
          "yanchor": "middle",
          "yref": "paper"
         }
        ],
        "boxmode": "group",
        "legend": {
         "title": {
          "text": "unchanged_counter"
         },
         "tracegroupgap": 0
        },
        "margin": {
         "t": 60
        },
        "template": {
         "data": {
          "bar": [
           {
            "error_x": {
             "color": "#2a3f5f"
            },
            "error_y": {
             "color": "#2a3f5f"
            },
            "marker": {
             "line": {
              "color": "#E5ECF6",
              "width": 0.5
             },
             "pattern": {
              "fillmode": "overlay",
              "size": 10,
              "solidity": 0.2
             }
            },
            "type": "bar"
           }
          ],
          "barpolar": [
           {
            "marker": {
             "line": {
              "color": "#E5ECF6",
              "width": 0.5
             },
             "pattern": {
              "fillmode": "overlay",
              "size": 10,
              "solidity": 0.2
             }
            },
            "type": "barpolar"
           }
          ],
          "carpet": [
           {
            "aaxis": {
             "endlinecolor": "#2a3f5f",
             "gridcolor": "white",
             "linecolor": "white",
             "minorgridcolor": "white",
             "startlinecolor": "#2a3f5f"
            },
            "baxis": {
             "endlinecolor": "#2a3f5f",
             "gridcolor": "white",
             "linecolor": "white",
             "minorgridcolor": "white",
             "startlinecolor": "#2a3f5f"
            },
            "type": "carpet"
           }
          ],
          "choropleth": [
           {
            "colorbar": {
             "outlinewidth": 0,
             "ticks": ""
            },
            "type": "choropleth"
           }
          ],
          "contour": [
           {
            "colorbar": {
             "outlinewidth": 0,
             "ticks": ""
            },
            "colorscale": [
             [
              0,
              "#0d0887"
             ],
             [
              0.1111111111111111,
              "#46039f"
             ],
             [
              0.2222222222222222,
              "#7201a8"
             ],
             [
              0.3333333333333333,
              "#9c179e"
             ],
             [
              0.4444444444444444,
              "#bd3786"
             ],
             [
              0.5555555555555556,
              "#d8576b"
             ],
             [
              0.6666666666666666,
              "#ed7953"
             ],
             [
              0.7777777777777778,
              "#fb9f3a"
             ],
             [
              0.8888888888888888,
              "#fdca26"
             ],
             [
              1,
              "#f0f921"
             ]
            ],
            "type": "contour"
           }
          ],
          "contourcarpet": [
           {
            "colorbar": {
             "outlinewidth": 0,
             "ticks": ""
            },
            "type": "contourcarpet"
           }
          ],
          "heatmap": [
           {
            "colorbar": {
             "outlinewidth": 0,
             "ticks": ""
            },
            "colorscale": [
             [
              0,
              "#0d0887"
             ],
             [
              0.1111111111111111,
              "#46039f"
             ],
             [
              0.2222222222222222,
              "#7201a8"
             ],
             [
              0.3333333333333333,
              "#9c179e"
             ],
             [
              0.4444444444444444,
              "#bd3786"
             ],
             [
              0.5555555555555556,
              "#d8576b"
             ],
             [
              0.6666666666666666,
              "#ed7953"
             ],
             [
              0.7777777777777778,
              "#fb9f3a"
             ],
             [
              0.8888888888888888,
              "#fdca26"
             ],
             [
              1,
              "#f0f921"
             ]
            ],
            "type": "heatmap"
           }
          ],
          "heatmapgl": [
           {
            "colorbar": {
             "outlinewidth": 0,
             "ticks": ""
            },
            "colorscale": [
             [
              0,
              "#0d0887"
             ],
             [
              0.1111111111111111,
              "#46039f"
             ],
             [
              0.2222222222222222,
              "#7201a8"
             ],
             [
              0.3333333333333333,
              "#9c179e"
             ],
             [
              0.4444444444444444,
              "#bd3786"
             ],
             [
              0.5555555555555556,
              "#d8576b"
             ],
             [
              0.6666666666666666,
              "#ed7953"
             ],
             [
              0.7777777777777778,
              "#fb9f3a"
             ],
             [
              0.8888888888888888,
              "#fdca26"
             ],
             [
              1,
              "#f0f921"
             ]
            ],
            "type": "heatmapgl"
           }
          ],
          "histogram": [
           {
            "marker": {
             "pattern": {
              "fillmode": "overlay",
              "size": 10,
              "solidity": 0.2
             }
            },
            "type": "histogram"
           }
          ],
          "histogram2d": [
           {
            "colorbar": {
             "outlinewidth": 0,
             "ticks": ""
            },
            "colorscale": [
             [
              0,
              "#0d0887"
             ],
             [
              0.1111111111111111,
              "#46039f"
             ],
             [
              0.2222222222222222,
              "#7201a8"
             ],
             [
              0.3333333333333333,
              "#9c179e"
             ],
             [
              0.4444444444444444,
              "#bd3786"
             ],
             [
              0.5555555555555556,
              "#d8576b"
             ],
             [
              0.6666666666666666,
              "#ed7953"
             ],
             [
              0.7777777777777778,
              "#fb9f3a"
             ],
             [
              0.8888888888888888,
              "#fdca26"
             ],
             [
              1,
              "#f0f921"
             ]
            ],
            "type": "histogram2d"
           }
          ],
          "histogram2dcontour": [
           {
            "colorbar": {
             "outlinewidth": 0,
             "ticks": ""
            },
            "colorscale": [
             [
              0,
              "#0d0887"
             ],
             [
              0.1111111111111111,
              "#46039f"
             ],
             [
              0.2222222222222222,
              "#7201a8"
             ],
             [
              0.3333333333333333,
              "#9c179e"
             ],
             [
              0.4444444444444444,
              "#bd3786"
             ],
             [
              0.5555555555555556,
              "#d8576b"
             ],
             [
              0.6666666666666666,
              "#ed7953"
             ],
             [
              0.7777777777777778,
              "#fb9f3a"
             ],
             [
              0.8888888888888888,
              "#fdca26"
             ],
             [
              1,
              "#f0f921"
             ]
            ],
            "type": "histogram2dcontour"
           }
          ],
          "mesh3d": [
           {
            "colorbar": {
             "outlinewidth": 0,
             "ticks": ""
            },
            "type": "mesh3d"
           }
          ],
          "parcoords": [
           {
            "line": {
             "colorbar": {
              "outlinewidth": 0,
              "ticks": ""
             }
            },
            "type": "parcoords"
           }
          ],
          "pie": [
           {
            "automargin": true,
            "type": "pie"
           }
          ],
          "scatter": [
           {
            "fillpattern": {
             "fillmode": "overlay",
             "size": 10,
             "solidity": 0.2
            },
            "type": "scatter"
           }
          ],
          "scatter3d": [
           {
            "line": {
             "colorbar": {
              "outlinewidth": 0,
              "ticks": ""
             }
            },
            "marker": {
             "colorbar": {
              "outlinewidth": 0,
              "ticks": ""
             }
            },
            "type": "scatter3d"
           }
          ],
          "scattercarpet": [
           {
            "marker": {
             "colorbar": {
              "outlinewidth": 0,
              "ticks": ""
             }
            },
            "type": "scattercarpet"
           }
          ],
          "scattergeo": [
           {
            "marker": {
             "colorbar": {
              "outlinewidth": 0,
              "ticks": ""
             }
            },
            "type": "scattergeo"
           }
          ],
          "scattergl": [
           {
            "marker": {
             "colorbar": {
              "outlinewidth": 0,
              "ticks": ""
             }
            },
            "type": "scattergl"
           }
          ],
          "scattermapbox": [
           {
            "marker": {
             "colorbar": {
              "outlinewidth": 0,
              "ticks": ""
             }
            },
            "type": "scattermapbox"
           }
          ],
          "scatterpolar": [
           {
            "marker": {
             "colorbar": {
              "outlinewidth": 0,
              "ticks": ""
             }
            },
            "type": "scatterpolar"
           }
          ],
          "scatterpolargl": [
           {
            "marker": {
             "colorbar": {
              "outlinewidth": 0,
              "ticks": ""
             }
            },
            "type": "scatterpolargl"
           }
          ],
          "scatterternary": [
           {
            "marker": {
             "colorbar": {
              "outlinewidth": 0,
              "ticks": ""
             }
            },
            "type": "scatterternary"
           }
          ],
          "surface": [
           {
            "colorbar": {
             "outlinewidth": 0,
             "ticks": ""
            },
            "colorscale": [
             [
              0,
              "#0d0887"
             ],
             [
              0.1111111111111111,
              "#46039f"
             ],
             [
              0.2222222222222222,
              "#7201a8"
             ],
             [
              0.3333333333333333,
              "#9c179e"
             ],
             [
              0.4444444444444444,
              "#bd3786"
             ],
             [
              0.5555555555555556,
              "#d8576b"
             ],
             [
              0.6666666666666666,
              "#ed7953"
             ],
             [
              0.7777777777777778,
              "#fb9f3a"
             ],
             [
              0.8888888888888888,
              "#fdca26"
             ],
             [
              1,
              "#f0f921"
             ]
            ],
            "type": "surface"
           }
          ],
          "table": [
           {
            "cells": {
             "fill": {
              "color": "#EBF0F8"
             },
             "line": {
              "color": "white"
             }
            },
            "header": {
             "fill": {
              "color": "#C8D4E3"
             },
             "line": {
              "color": "white"
             }
            },
            "type": "table"
           }
          ]
         },
         "layout": {
          "annotationdefaults": {
           "arrowcolor": "#2a3f5f",
           "arrowhead": 0,
           "arrowwidth": 1
          },
          "autotypenumbers": "strict",
          "coloraxis": {
           "colorbar": {
            "outlinewidth": 0,
            "ticks": ""
           }
          },
          "colorscale": {
           "diverging": [
            [
             0,
             "#8e0152"
            ],
            [
             0.1,
             "#c51b7d"
            ],
            [
             0.2,
             "#de77ae"
            ],
            [
             0.3,
             "#f1b6da"
            ],
            [
             0.4,
             "#fde0ef"
            ],
            [
             0.5,
             "#f7f7f7"
            ],
            [
             0.6,
             "#e6f5d0"
            ],
            [
             0.7,
             "#b8e186"
            ],
            [
             0.8,
             "#7fbc41"
            ],
            [
             0.9,
             "#4d9221"
            ],
            [
             1,
             "#276419"
            ]
           ],
           "sequential": [
            [
             0,
             "#0d0887"
            ],
            [
             0.1111111111111111,
             "#46039f"
            ],
            [
             0.2222222222222222,
             "#7201a8"
            ],
            [
             0.3333333333333333,
             "#9c179e"
            ],
            [
             0.4444444444444444,
             "#bd3786"
            ],
            [
             0.5555555555555556,
             "#d8576b"
            ],
            [
             0.6666666666666666,
             "#ed7953"
            ],
            [
             0.7777777777777778,
             "#fb9f3a"
            ],
            [
             0.8888888888888888,
             "#fdca26"
            ],
            [
             1,
             "#f0f921"
            ]
           ],
           "sequentialminus": [
            [
             0,
             "#0d0887"
            ],
            [
             0.1111111111111111,
             "#46039f"
            ],
            [
             0.2222222222222222,
             "#7201a8"
            ],
            [
             0.3333333333333333,
             "#9c179e"
            ],
            [
             0.4444444444444444,
             "#bd3786"
            ],
            [
             0.5555555555555556,
             "#d8576b"
            ],
            [
             0.6666666666666666,
             "#ed7953"
            ],
            [
             0.7777777777777778,
             "#fb9f3a"
            ],
            [
             0.8888888888888888,
             "#fdca26"
            ],
            [
             1,
             "#f0f921"
            ]
           ]
          },
          "colorway": [
           "#636efa",
           "#EF553B",
           "#00cc96",
           "#ab63fa",
           "#FFA15A",
           "#19d3f3",
           "#FF6692",
           "#B6E880",
           "#FF97FF",
           "#FECB52"
          ],
          "font": {
           "color": "#2a3f5f"
          },
          "geo": {
           "bgcolor": "white",
           "lakecolor": "white",
           "landcolor": "#E5ECF6",
           "showlakes": true,
           "showland": true,
           "subunitcolor": "white"
          },
          "hoverlabel": {
           "align": "left"
          },
          "hovermode": "closest",
          "mapbox": {
           "style": "light"
          },
          "paper_bgcolor": "white",
          "plot_bgcolor": "#E5ECF6",
          "polar": {
           "angularaxis": {
            "gridcolor": "white",
            "linecolor": "white",
            "ticks": ""
           },
           "bgcolor": "#E5ECF6",
           "radialaxis": {
            "gridcolor": "white",
            "linecolor": "white",
            "ticks": ""
           }
          },
          "scene": {
           "xaxis": {
            "backgroundcolor": "#E5ECF6",
            "gridcolor": "white",
            "gridwidth": 2,
            "linecolor": "white",
            "showbackground": true,
            "ticks": "",
            "zerolinecolor": "white"
           },
           "yaxis": {
            "backgroundcolor": "#E5ECF6",
            "gridcolor": "white",
            "gridwidth": 2,
            "linecolor": "white",
            "showbackground": true,
            "ticks": "",
            "zerolinecolor": "white"
           },
           "zaxis": {
            "backgroundcolor": "#E5ECF6",
            "gridcolor": "white",
            "gridwidth": 2,
            "linecolor": "white",
            "showbackground": true,
            "ticks": "",
            "zerolinecolor": "white"
           }
          },
          "shapedefaults": {
           "line": {
            "color": "#2a3f5f"
           }
          },
          "ternary": {
           "aaxis": {
            "gridcolor": "white",
            "linecolor": "white",
            "ticks": ""
           },
           "baxis": {
            "gridcolor": "white",
            "linecolor": "white",
            "ticks": ""
           },
           "bgcolor": "#E5ECF6",
           "caxis": {
            "gridcolor": "white",
            "linecolor": "white",
            "ticks": ""
           }
          },
          "title": {
           "x": 0.05
          },
          "xaxis": {
           "automargin": true,
           "gridcolor": "white",
           "linecolor": "white",
           "ticks": "",
           "title": {
            "standoff": 15
           },
           "zerolinecolor": "white",
           "zerolinewidth": 2
          },
          "yaxis": {
           "automargin": true,
           "gridcolor": "white",
           "linecolor": "white",
           "ticks": "",
           "title": {
            "standoff": 15
           },
           "zerolinecolor": "white",
           "zerolinewidth": 2
          }
         }
        },
        "xaxis": {
         "anchor": "y",
         "domain": [
          0,
          0.98
         ],
         "title": {
          "text": "payload_size"
         }
        },
        "yaxis": {
         "anchor": "x",
         "domain": [
          0,
          1
         ],
         "title": {
          "text": "count"
         }
        }
       }
      }
     },
     "metadata": {},
     "output_type": "display_data"
    }
   ],
   "source": [
    "fig = px.box(\n",
    "    reception_df,\n",
    "    x=\"payload_size\",\n",
    "    y=\"count\", \n",
    "    color=\"unchanged_counter\",\n",
    "    facet_col=\"flood\",\n",
    "    facet_row=\"source_id\"\n",
    ")\n",
    "fig"
   ]
  },
  {
   "cell_type": "markdown",
   "metadata": {},
   "source": [
    "# Relative Values of Received Payloads"
   ]
  },
  {
   "cell_type": "code",
   "execution_count": 7,
   "metadata": {},
   "outputs": [],
   "source": [
    "def reception_ratio(x):\n",
    "    flooding = x[x[\"flood\"] == True]\n",
    "    btp = x[x[\"flood\"] == False]\n",
    "    \n",
    "    return float(btp[\"count\"]) / flooding[\"count\"]\n",
    "\n",
    "count_df = reception_df.groupby([\"payload_size\", \"source_id\", \"unchanged_counter\", \"iteration\"]).apply(reception_ratio).reset_index(name='ratio')"
   ]
  },
  {
   "cell_type": "code",
   "execution_count": 8,
   "metadata": {},
   "outputs": [
    {
     "data": {
      "application/vnd.plotly.v1+json": {
       "config": {
        "plotlyServerURL": "https://plot.ly"
       },
       "data": [
        {
         "alignmentgroup": "True",
         "hovertemplate": "unchanged_counter=5<br>source_id=0<br>payload_size=%{x}<br>ratio=%{y}<extra></extra>",
         "legendgroup": "5",
         "marker": {
          "color": "#636efa"
         },
         "name": "5",
         "notched": false,
         "offsetgroup": "5",
         "orientation": "v",
         "showlegend": true,
         "type": "box",
         "x": [
          "16K",
          "1K",
          "2K",
          "4K"
         ],
         "x0": " ",
         "xaxis": "x",
         "y": [
          0,
          0,
          1.1538461538461537,
          2.0294117647058822
         ],
         "y0": " ",
         "yaxis": "y"
        },
        {
         "alignmentgroup": "True",
         "hovertemplate": "unchanged_counter=5<br>source_id=54<br>payload_size=%{x}<br>ratio=%{y}<extra></extra>",
         "legendgroup": "5",
         "marker": {
          "color": "#636efa"
         },
         "name": "5",
         "notched": false,
         "offsetgroup": "5",
         "orientation": "v",
         "showlegend": false,
         "type": "box",
         "x": [
          "16K",
          "1K",
          "2K",
          "4K"
         ],
         "x0": " ",
         "xaxis": "x2",
         "y": [
          7,
          1,
          0.35135135135135137,
          0.6229508196721312
         ],
         "y0": " ",
         "yaxis": "y2"
        },
        {
         "alignmentgroup": "True",
         "hovertemplate": "unchanged_counter=5<br>source_id=80<br>payload_size=%{x}<br>ratio=%{y}<extra></extra>",
         "legendgroup": "5",
         "marker": {
          "color": "#636efa"
         },
         "name": "5",
         "notched": false,
         "offsetgroup": "5",
         "orientation": "v",
         "showlegend": false,
         "type": "box",
         "x": [
          "16K",
          "1K",
          "2K",
          "4K"
         ],
         "x0": " ",
         "xaxis": "x3",
         "y": [
          0.8,
          1,
          0.6,
          2.193548387096774
         ],
         "y0": " ",
         "yaxis": "y3"
        },
        {
         "alignmentgroup": "True",
         "hovertemplate": "unchanged_counter=15<br>source_id=0<br>payload_size=%{x}<br>ratio=%{y}<extra></extra>",
         "legendgroup": "15",
         "marker": {
          "color": "#EF553B"
         },
         "name": "15",
         "notched": false,
         "offsetgroup": "15",
         "orientation": "v",
         "showlegend": true,
         "type": "box",
         "x": [
          "16K",
          "1K",
          "2K",
          "4K"
         ],
         "x0": " ",
         "xaxis": "x",
         "y": [
          1.4615384615384615,
          0,
          1.0757575757575757,
          0
         ],
         "y0": " ",
         "yaxis": "y"
        },
        {
         "alignmentgroup": "True",
         "hovertemplate": "unchanged_counter=15<br>source_id=54<br>payload_size=%{x}<br>ratio=%{y}<extra></extra>",
         "legendgroup": "15",
         "marker": {
          "color": "#EF553B"
         },
         "name": "15",
         "notched": false,
         "offsetgroup": "15",
         "orientation": "v",
         "showlegend": false,
         "type": "box",
         "x": [
          "16K",
          "1K",
          "2K",
          "4K"
         ],
         "x0": " ",
         "xaxis": "x2",
         "y": [
          2,
          1,
          1.042857142857143,
          4.7272727272727275
         ],
         "y0": " ",
         "yaxis": "y2"
        },
        {
         "alignmentgroup": "True",
         "hovertemplate": "unchanged_counter=15<br>source_id=80<br>payload_size=%{x}<br>ratio=%{y}<extra></extra>",
         "legendgroup": "15",
         "marker": {
          "color": "#EF553B"
         },
         "name": "15",
         "notched": false,
         "offsetgroup": "15",
         "orientation": "v",
         "showlegend": false,
         "type": "box",
         "x": [
          "16K",
          "1K",
          "2K",
          "4K"
         ],
         "x0": " ",
         "xaxis": "x3",
         "y": [
          0,
          1,
          0.527027027027027,
          1.105263157894737
         ],
         "y0": " ",
         "yaxis": "y3"
        },
        {
         "alignmentgroup": "True",
         "hovertemplate": "unchanged_counter=25<br>source_id=0<br>payload_size=%{x}<br>ratio=%{y}<extra></extra>",
         "legendgroup": "25",
         "marker": {
          "color": "#00cc96"
         },
         "name": "25",
         "notched": false,
         "offsetgroup": "25",
         "orientation": "v",
         "showlegend": true,
         "type": "box",
         "x": [
          "16K",
          "1K",
          "2K",
          "4K"
         ],
         "x0": " ",
         "xaxis": "x",
         "y": [
          0,
          1,
          0.527027027027027,
          0.1590909090909091
         ],
         "y0": " ",
         "yaxis": "y"
        },
        {
         "alignmentgroup": "True",
         "hovertemplate": "unchanged_counter=25<br>source_id=54<br>payload_size=%{x}<br>ratio=%{y}<extra></extra>",
         "legendgroup": "25",
         "marker": {
          "color": "#00cc96"
         },
         "name": "25",
         "notched": false,
         "offsetgroup": "25",
         "orientation": "v",
         "showlegend": false,
         "type": "box",
         "x": [
          "16K",
          "1K",
          "2K",
          "4K"
         ],
         "x0": " ",
         "xaxis": "x2",
         "y": [
          21,
          1,
          0.6891891891891891,
          1.6470588235294117
         ],
         "y0": " ",
         "yaxis": "y2"
        },
        {
         "alignmentgroup": "True",
         "hovertemplate": "unchanged_counter=25<br>source_id=80<br>payload_size=%{x}<br>ratio=%{y}<extra></extra>",
         "legendgroup": "25",
         "marker": {
          "color": "#00cc96"
         },
         "name": "25",
         "notched": false,
         "offsetgroup": "25",
         "orientation": "v",
         "showlegend": false,
         "type": "box",
         "x": [
          "16K",
          "1K",
          "2K",
          "4K"
         ],
         "x0": " ",
         "xaxis": "x3",
         "y": [
          0,
          0,
          1.3404255319148937,
          1.135135135135135
         ],
         "y0": " ",
         "yaxis": "y3"
        }
       ],
       "layout": {
        "annotations": [
         {
          "font": {},
          "showarrow": false,
          "text": "source_id=0",
          "x": 0.15999999999999998,
          "xanchor": "center",
          "xref": "paper",
          "y": 1,
          "yanchor": "bottom",
          "yref": "paper"
         },
         {
          "font": {},
          "showarrow": false,
          "text": "source_id=54",
          "x": 0.49999999999999994,
          "xanchor": "center",
          "xref": "paper",
          "y": 1,
          "yanchor": "bottom",
          "yref": "paper"
         },
         {
          "font": {},
          "showarrow": false,
          "text": "source_id=80",
          "x": 0.8399999999999999,
          "xanchor": "center",
          "xref": "paper",
          "y": 1,
          "yanchor": "bottom",
          "yref": "paper"
         }
        ],
        "boxmode": "group",
        "legend": {
         "title": {
          "text": "unchanged_counter"
         },
         "tracegroupgap": 0
        },
        "margin": {
         "t": 60
        },
        "template": {
         "data": {
          "bar": [
           {
            "error_x": {
             "color": "#2a3f5f"
            },
            "error_y": {
             "color": "#2a3f5f"
            },
            "marker": {
             "line": {
              "color": "#E5ECF6",
              "width": 0.5
             },
             "pattern": {
              "fillmode": "overlay",
              "size": 10,
              "solidity": 0.2
             }
            },
            "type": "bar"
           }
          ],
          "barpolar": [
           {
            "marker": {
             "line": {
              "color": "#E5ECF6",
              "width": 0.5
             },
             "pattern": {
              "fillmode": "overlay",
              "size": 10,
              "solidity": 0.2
             }
            },
            "type": "barpolar"
           }
          ],
          "carpet": [
           {
            "aaxis": {
             "endlinecolor": "#2a3f5f",
             "gridcolor": "white",
             "linecolor": "white",
             "minorgridcolor": "white",
             "startlinecolor": "#2a3f5f"
            },
            "baxis": {
             "endlinecolor": "#2a3f5f",
             "gridcolor": "white",
             "linecolor": "white",
             "minorgridcolor": "white",
             "startlinecolor": "#2a3f5f"
            },
            "type": "carpet"
           }
          ],
          "choropleth": [
           {
            "colorbar": {
             "outlinewidth": 0,
             "ticks": ""
            },
            "type": "choropleth"
           }
          ],
          "contour": [
           {
            "colorbar": {
             "outlinewidth": 0,
             "ticks": ""
            },
            "colorscale": [
             [
              0,
              "#0d0887"
             ],
             [
              0.1111111111111111,
              "#46039f"
             ],
             [
              0.2222222222222222,
              "#7201a8"
             ],
             [
              0.3333333333333333,
              "#9c179e"
             ],
             [
              0.4444444444444444,
              "#bd3786"
             ],
             [
              0.5555555555555556,
              "#d8576b"
             ],
             [
              0.6666666666666666,
              "#ed7953"
             ],
             [
              0.7777777777777778,
              "#fb9f3a"
             ],
             [
              0.8888888888888888,
              "#fdca26"
             ],
             [
              1,
              "#f0f921"
             ]
            ],
            "type": "contour"
           }
          ],
          "contourcarpet": [
           {
            "colorbar": {
             "outlinewidth": 0,
             "ticks": ""
            },
            "type": "contourcarpet"
           }
          ],
          "heatmap": [
           {
            "colorbar": {
             "outlinewidth": 0,
             "ticks": ""
            },
            "colorscale": [
             [
              0,
              "#0d0887"
             ],
             [
              0.1111111111111111,
              "#46039f"
             ],
             [
              0.2222222222222222,
              "#7201a8"
             ],
             [
              0.3333333333333333,
              "#9c179e"
             ],
             [
              0.4444444444444444,
              "#bd3786"
             ],
             [
              0.5555555555555556,
              "#d8576b"
             ],
             [
              0.6666666666666666,
              "#ed7953"
             ],
             [
              0.7777777777777778,
              "#fb9f3a"
             ],
             [
              0.8888888888888888,
              "#fdca26"
             ],
             [
              1,
              "#f0f921"
             ]
            ],
            "type": "heatmap"
           }
          ],
          "heatmapgl": [
           {
            "colorbar": {
             "outlinewidth": 0,
             "ticks": ""
            },
            "colorscale": [
             [
              0,
              "#0d0887"
             ],
             [
              0.1111111111111111,
              "#46039f"
             ],
             [
              0.2222222222222222,
              "#7201a8"
             ],
             [
              0.3333333333333333,
              "#9c179e"
             ],
             [
              0.4444444444444444,
              "#bd3786"
             ],
             [
              0.5555555555555556,
              "#d8576b"
             ],
             [
              0.6666666666666666,
              "#ed7953"
             ],
             [
              0.7777777777777778,
              "#fb9f3a"
             ],
             [
              0.8888888888888888,
              "#fdca26"
             ],
             [
              1,
              "#f0f921"
             ]
            ],
            "type": "heatmapgl"
           }
          ],
          "histogram": [
           {
            "marker": {
             "pattern": {
              "fillmode": "overlay",
              "size": 10,
              "solidity": 0.2
             }
            },
            "type": "histogram"
           }
          ],
          "histogram2d": [
           {
            "colorbar": {
             "outlinewidth": 0,
             "ticks": ""
            },
            "colorscale": [
             [
              0,
              "#0d0887"
             ],
             [
              0.1111111111111111,
              "#46039f"
             ],
             [
              0.2222222222222222,
              "#7201a8"
             ],
             [
              0.3333333333333333,
              "#9c179e"
             ],
             [
              0.4444444444444444,
              "#bd3786"
             ],
             [
              0.5555555555555556,
              "#d8576b"
             ],
             [
              0.6666666666666666,
              "#ed7953"
             ],
             [
              0.7777777777777778,
              "#fb9f3a"
             ],
             [
              0.8888888888888888,
              "#fdca26"
             ],
             [
              1,
              "#f0f921"
             ]
            ],
            "type": "histogram2d"
           }
          ],
          "histogram2dcontour": [
           {
            "colorbar": {
             "outlinewidth": 0,
             "ticks": ""
            },
            "colorscale": [
             [
              0,
              "#0d0887"
             ],
             [
              0.1111111111111111,
              "#46039f"
             ],
             [
              0.2222222222222222,
              "#7201a8"
             ],
             [
              0.3333333333333333,
              "#9c179e"
             ],
             [
              0.4444444444444444,
              "#bd3786"
             ],
             [
              0.5555555555555556,
              "#d8576b"
             ],
             [
              0.6666666666666666,
              "#ed7953"
             ],
             [
              0.7777777777777778,
              "#fb9f3a"
             ],
             [
              0.8888888888888888,
              "#fdca26"
             ],
             [
              1,
              "#f0f921"
             ]
            ],
            "type": "histogram2dcontour"
           }
          ],
          "mesh3d": [
           {
            "colorbar": {
             "outlinewidth": 0,
             "ticks": ""
            },
            "type": "mesh3d"
           }
          ],
          "parcoords": [
           {
            "line": {
             "colorbar": {
              "outlinewidth": 0,
              "ticks": ""
             }
            },
            "type": "parcoords"
           }
          ],
          "pie": [
           {
            "automargin": true,
            "type": "pie"
           }
          ],
          "scatter": [
           {
            "fillpattern": {
             "fillmode": "overlay",
             "size": 10,
             "solidity": 0.2
            },
            "type": "scatter"
           }
          ],
          "scatter3d": [
           {
            "line": {
             "colorbar": {
              "outlinewidth": 0,
              "ticks": ""
             }
            },
            "marker": {
             "colorbar": {
              "outlinewidth": 0,
              "ticks": ""
             }
            },
            "type": "scatter3d"
           }
          ],
          "scattercarpet": [
           {
            "marker": {
             "colorbar": {
              "outlinewidth": 0,
              "ticks": ""
             }
            },
            "type": "scattercarpet"
           }
          ],
          "scattergeo": [
           {
            "marker": {
             "colorbar": {
              "outlinewidth": 0,
              "ticks": ""
             }
            },
            "type": "scattergeo"
           }
          ],
          "scattergl": [
           {
            "marker": {
             "colorbar": {
              "outlinewidth": 0,
              "ticks": ""
             }
            },
            "type": "scattergl"
           }
          ],
          "scattermapbox": [
           {
            "marker": {
             "colorbar": {
              "outlinewidth": 0,
              "ticks": ""
             }
            },
            "type": "scattermapbox"
           }
          ],
          "scatterpolar": [
           {
            "marker": {
             "colorbar": {
              "outlinewidth": 0,
              "ticks": ""
             }
            },
            "type": "scatterpolar"
           }
          ],
          "scatterpolargl": [
           {
            "marker": {
             "colorbar": {
              "outlinewidth": 0,
              "ticks": ""
             }
            },
            "type": "scatterpolargl"
           }
          ],
          "scatterternary": [
           {
            "marker": {
             "colorbar": {
              "outlinewidth": 0,
              "ticks": ""
             }
            },
            "type": "scatterternary"
           }
          ],
          "surface": [
           {
            "colorbar": {
             "outlinewidth": 0,
             "ticks": ""
            },
            "colorscale": [
             [
              0,
              "#0d0887"
             ],
             [
              0.1111111111111111,
              "#46039f"
             ],
             [
              0.2222222222222222,
              "#7201a8"
             ],
             [
              0.3333333333333333,
              "#9c179e"
             ],
             [
              0.4444444444444444,
              "#bd3786"
             ],
             [
              0.5555555555555556,
              "#d8576b"
             ],
             [
              0.6666666666666666,
              "#ed7953"
             ],
             [
              0.7777777777777778,
              "#fb9f3a"
             ],
             [
              0.8888888888888888,
              "#fdca26"
             ],
             [
              1,
              "#f0f921"
             ]
            ],
            "type": "surface"
           }
          ],
          "table": [
           {
            "cells": {
             "fill": {
              "color": "#EBF0F8"
             },
             "line": {
              "color": "white"
             }
            },
            "header": {
             "fill": {
              "color": "#C8D4E3"
             },
             "line": {
              "color": "white"
             }
            },
            "type": "table"
           }
          ]
         },
         "layout": {
          "annotationdefaults": {
           "arrowcolor": "#2a3f5f",
           "arrowhead": 0,
           "arrowwidth": 1
          },
          "autotypenumbers": "strict",
          "coloraxis": {
           "colorbar": {
            "outlinewidth": 0,
            "ticks": ""
           }
          },
          "colorscale": {
           "diverging": [
            [
             0,
             "#8e0152"
            ],
            [
             0.1,
             "#c51b7d"
            ],
            [
             0.2,
             "#de77ae"
            ],
            [
             0.3,
             "#f1b6da"
            ],
            [
             0.4,
             "#fde0ef"
            ],
            [
             0.5,
             "#f7f7f7"
            ],
            [
             0.6,
             "#e6f5d0"
            ],
            [
             0.7,
             "#b8e186"
            ],
            [
             0.8,
             "#7fbc41"
            ],
            [
             0.9,
             "#4d9221"
            ],
            [
             1,
             "#276419"
            ]
           ],
           "sequential": [
            [
             0,
             "#0d0887"
            ],
            [
             0.1111111111111111,
             "#46039f"
            ],
            [
             0.2222222222222222,
             "#7201a8"
            ],
            [
             0.3333333333333333,
             "#9c179e"
            ],
            [
             0.4444444444444444,
             "#bd3786"
            ],
            [
             0.5555555555555556,
             "#d8576b"
            ],
            [
             0.6666666666666666,
             "#ed7953"
            ],
            [
             0.7777777777777778,
             "#fb9f3a"
            ],
            [
             0.8888888888888888,
             "#fdca26"
            ],
            [
             1,
             "#f0f921"
            ]
           ],
           "sequentialminus": [
            [
             0,
             "#0d0887"
            ],
            [
             0.1111111111111111,
             "#46039f"
            ],
            [
             0.2222222222222222,
             "#7201a8"
            ],
            [
             0.3333333333333333,
             "#9c179e"
            ],
            [
             0.4444444444444444,
             "#bd3786"
            ],
            [
             0.5555555555555556,
             "#d8576b"
            ],
            [
             0.6666666666666666,
             "#ed7953"
            ],
            [
             0.7777777777777778,
             "#fb9f3a"
            ],
            [
             0.8888888888888888,
             "#fdca26"
            ],
            [
             1,
             "#f0f921"
            ]
           ]
          },
          "colorway": [
           "#636efa",
           "#EF553B",
           "#00cc96",
           "#ab63fa",
           "#FFA15A",
           "#19d3f3",
           "#FF6692",
           "#B6E880",
           "#FF97FF",
           "#FECB52"
          ],
          "font": {
           "color": "#2a3f5f"
          },
          "geo": {
           "bgcolor": "white",
           "lakecolor": "white",
           "landcolor": "#E5ECF6",
           "showlakes": true,
           "showland": true,
           "subunitcolor": "white"
          },
          "hoverlabel": {
           "align": "left"
          },
          "hovermode": "closest",
          "mapbox": {
           "style": "light"
          },
          "paper_bgcolor": "white",
          "plot_bgcolor": "#E5ECF6",
          "polar": {
           "angularaxis": {
            "gridcolor": "white",
            "linecolor": "white",
            "ticks": ""
           },
           "bgcolor": "#E5ECF6",
           "radialaxis": {
            "gridcolor": "white",
            "linecolor": "white",
            "ticks": ""
           }
          },
          "scene": {
           "xaxis": {
            "backgroundcolor": "#E5ECF6",
            "gridcolor": "white",
            "gridwidth": 2,
            "linecolor": "white",
            "showbackground": true,
            "ticks": "",
            "zerolinecolor": "white"
           },
           "yaxis": {
            "backgroundcolor": "#E5ECF6",
            "gridcolor": "white",
            "gridwidth": 2,
            "linecolor": "white",
            "showbackground": true,
            "ticks": "",
            "zerolinecolor": "white"
           },
           "zaxis": {
            "backgroundcolor": "#E5ECF6",
            "gridcolor": "white",
            "gridwidth": 2,
            "linecolor": "white",
            "showbackground": true,
            "ticks": "",
            "zerolinecolor": "white"
           }
          },
          "shapedefaults": {
           "line": {
            "color": "#2a3f5f"
           }
          },
          "ternary": {
           "aaxis": {
            "gridcolor": "white",
            "linecolor": "white",
            "ticks": ""
           },
           "baxis": {
            "gridcolor": "white",
            "linecolor": "white",
            "ticks": ""
           },
           "bgcolor": "#E5ECF6",
           "caxis": {
            "gridcolor": "white",
            "linecolor": "white",
            "ticks": ""
           }
          },
          "title": {
           "x": 0.05
          },
          "xaxis": {
           "automargin": true,
           "gridcolor": "white",
           "linecolor": "white",
           "ticks": "",
           "title": {
            "standoff": 15
           },
           "zerolinecolor": "white",
           "zerolinewidth": 2
          },
          "yaxis": {
           "automargin": true,
           "gridcolor": "white",
           "linecolor": "white",
           "ticks": "",
           "title": {
            "standoff": 15
           },
           "zerolinecolor": "white",
           "zerolinewidth": 2
          }
         }
        },
        "xaxis": {
         "anchor": "y",
         "domain": [
          0,
          0.31999999999999995
         ],
         "title": {
          "text": "payload_size"
         }
        },
        "xaxis2": {
         "anchor": "y2",
         "domain": [
          0.33999999999999997,
          0.6599999999999999
         ],
         "matches": "x",
         "title": {
          "text": "payload_size"
         }
        },
        "xaxis3": {
         "anchor": "y3",
         "domain": [
          0.6799999999999999,
          0.9999999999999999
         ],
         "matches": "x",
         "title": {
          "text": "payload_size"
         }
        },
        "yaxis": {
         "anchor": "x",
         "domain": [
          0,
          1
         ],
         "title": {
          "text": "ratio"
         }
        },
        "yaxis2": {
         "anchor": "x2",
         "domain": [
          0,
          1
         ],
         "matches": "y",
         "showticklabels": false
        },
        "yaxis3": {
         "anchor": "x3",
         "domain": [
          0,
          1
         ],
         "matches": "y",
         "showticklabels": false
        }
       }
      }
     },
     "metadata": {},
     "output_type": "display_data"
    }
   ],
   "source": [
    "fig = px.box(\n",
    "    count_df,\n",
    "    x=\"payload_size\",\n",
    "    y=\"ratio\", \n",
    "    color=\"unchanged_counter\",\n",
    "    facet_col=\"source_id\"\n",
    ")\n",
    "fig"
   ]
  },
  {
   "cell_type": "markdown",
   "metadata": {},
   "source": [
    "# Prepare energy df"
   ]
  },
  {
   "cell_type": "code",
   "execution_count": 11,
   "metadata": {},
   "outputs": [
    {
     "ename": "TypeError",
     "evalue": "cannot convert the series to <class 'float'>",
     "output_type": "error",
     "traceback": [
      "\u001b[0;31m---------------------------------------------------------------------------\u001b[0m",
      "\u001b[0;31mTypeError\u001b[0m                                 Traceback (most recent call last)",
      "File \u001b[0;32m/usr/local/lib/python3.10/site-packages/pandas/core/groupby/groupby.py:1414\u001b[0m, in \u001b[0;36mGroupBy.apply\u001b[0;34m(self, func, *args, **kwargs)\u001b[0m\n\u001b[1;32m   1413\u001b[0m \u001b[39mtry\u001b[39;00m:\n\u001b[0;32m-> 1414\u001b[0m     result \u001b[39m=\u001b[39m \u001b[39mself\u001b[39;49m\u001b[39m.\u001b[39;49m_python_apply_general(f, \u001b[39mself\u001b[39;49m\u001b[39m.\u001b[39;49m_selected_obj)\n\u001b[1;32m   1415\u001b[0m \u001b[39mexcept\u001b[39;00m \u001b[39mTypeError\u001b[39;00m:\n\u001b[1;32m   1416\u001b[0m     \u001b[39m# gh-20949\u001b[39;00m\n\u001b[1;32m   1417\u001b[0m     \u001b[39m# try again, with .apply acting as a filtering\u001b[39;00m\n\u001b[0;32m   (...)\u001b[0m\n\u001b[1;32m   1421\u001b[0m     \u001b[39m# fails on *some* columns, e.g. a numeric operation\u001b[39;00m\n\u001b[1;32m   1422\u001b[0m     \u001b[39m# on a string grouper column\u001b[39;00m\n",
      "File \u001b[0;32m/usr/local/lib/python3.10/site-packages/pandas/core/groupby/groupby.py:1455\u001b[0m, in \u001b[0;36mGroupBy._python_apply_general\u001b[0;34m(self, f, data, not_indexed_same)\u001b[0m\n\u001b[1;32m   1436\u001b[0m \u001b[39m\"\"\"\u001b[39;00m\n\u001b[1;32m   1437\u001b[0m \u001b[39mApply function f in python space\u001b[39;00m\n\u001b[1;32m   1438\u001b[0m \n\u001b[0;32m   (...)\u001b[0m\n\u001b[1;32m   1453\u001b[0m \u001b[39m    data after applying f\u001b[39;00m\n\u001b[1;32m   1454\u001b[0m \u001b[39m\"\"\"\u001b[39;00m\n\u001b[0;32m-> 1455\u001b[0m values, mutated \u001b[39m=\u001b[39m \u001b[39mself\u001b[39;49m\u001b[39m.\u001b[39;49mgrouper\u001b[39m.\u001b[39;49mapply(f, data, \u001b[39mself\u001b[39;49m\u001b[39m.\u001b[39;49maxis)\n\u001b[1;32m   1457\u001b[0m \u001b[39mif\u001b[39;00m not_indexed_same \u001b[39mis\u001b[39;00m \u001b[39mNone\u001b[39;00m:\n",
      "File \u001b[0;32m/usr/local/lib/python3.10/site-packages/pandas/core/groupby/ops.py:761\u001b[0m, in \u001b[0;36mBaseGrouper.apply\u001b[0;34m(self, f, data, axis)\u001b[0m\n\u001b[1;32m    760\u001b[0m group_axes \u001b[39m=\u001b[39m group\u001b[39m.\u001b[39maxes\n\u001b[0;32m--> 761\u001b[0m res \u001b[39m=\u001b[39m f(group)\n\u001b[1;32m    762\u001b[0m \u001b[39mif\u001b[39;00m \u001b[39mnot\u001b[39;00m mutated \u001b[39mand\u001b[39;00m \u001b[39mnot\u001b[39;00m _is_indexed_like(res, group_axes, axis):\n",
      "\u001b[1;32m/Users/artur/Documents/broadcast-tree/experiments/eval/default.ipynb Zelle 12\u001b[0m in \u001b[0;36menergy_ratio\u001b[0;34m(x)\u001b[0m\n\u001b[1;32m      <a href='vscode-notebook-cell:/Users/artur/Documents/broadcast-tree/experiments/eval/default.ipynb#ch0000012?line=2'>3</a>\u001b[0m energy_protocol_df \u001b[39m=\u001b[39m x[x[\u001b[39m\"\u001b[39m\u001b[39mframe_type\u001b[39m\u001b[39m\"\u001b[39m] \u001b[39m==\u001b[39m \u001b[39m\"\u001b[39m\u001b[39mprotocol\u001b[39m\u001b[39m\"\u001b[39m]\n\u001b[0;32m----> <a href='vscode-notebook-cell:/Users/artur/Documents/broadcast-tree/experiments/eval/default.ipynb#ch0000012?line=4'>5</a>\u001b[0m energy_payload \u001b[39m=\u001b[39m \u001b[39mfloat\u001b[39;49m(energy_payload_df[\u001b[39m\"\u001b[39;49m\u001b[39mmWb_total\u001b[39;49m\u001b[39m\"\u001b[39;49m])\n\u001b[1;32m      <a href='vscode-notebook-cell:/Users/artur/Documents/broadcast-tree/experiments/eval/default.ipynb#ch0000012?line=6'>7</a>\u001b[0m \u001b[39mif\u001b[39;00m energy_protocol_df\u001b[39m.\u001b[39mempty:\n",
      "File \u001b[0;32m/usr/local/lib/python3.10/site-packages/pandas/core/series.py:191\u001b[0m, in \u001b[0;36m_coerce_method.<locals>.wrapper\u001b[0;34m(self)\u001b[0m\n\u001b[1;32m    190\u001b[0m     \u001b[39mreturn\u001b[39;00m converter(\u001b[39mself\u001b[39m\u001b[39m.\u001b[39miloc[\u001b[39m0\u001b[39m])\n\u001b[0;32m--> 191\u001b[0m \u001b[39mraise\u001b[39;00m \u001b[39mTypeError\u001b[39;00m(\u001b[39mf\u001b[39m\u001b[39m\"\u001b[39m\u001b[39mcannot convert the series to \u001b[39m\u001b[39m{\u001b[39;00mconverter\u001b[39m}\u001b[39;00m\u001b[39m\"\u001b[39m)\n",
      "\u001b[0;31mTypeError\u001b[0m: cannot convert the series to <class 'float'>",
      "\nDuring handling of the above exception, another exception occurred:\n",
      "\u001b[0;31mTypeError\u001b[0m                                 Traceback (most recent call last)",
      "\u001b[1;32m/Users/artur/Documents/broadcast-tree/experiments/eval/default.ipynb Zelle 12\u001b[0m in \u001b[0;36m<cell line: 31>\u001b[0;34m()\u001b[0m\n\u001b[1;32m     <a href='vscode-notebook-cell:/Users/artur/Documents/broadcast-tree/experiments/eval/default.ipynb#ch0000012?line=27'>28</a>\u001b[0m df\u001b[39m.\u001b[39mloc[(df[\u001b[39m\"\u001b[39m\u001b[39mevent\u001b[39m\u001b[39m\"\u001b[39m] \u001b[39m==\u001b[39m \u001b[39m\"\u001b[39m\u001b[39msend\u001b[39m\u001b[39m\"\u001b[39m) \u001b[39m&\u001b[39m ((df[\u001b[39m\"\u001b[39m\u001b[39mmessage\u001b[39m\u001b[39m\"\u001b[39m] \u001b[39m!=\u001b[39m \u001b[39m\"\u001b[39m\u001b[39mSuccessfully forwarded payload.\u001b[39m\u001b[39m\"\u001b[39m) \u001b[39m&\u001b[39m (df[\u001b[39m\"\u001b[39m\u001b[39mmessage\u001b[39m\u001b[39m\"\u001b[39m] \u001b[39m!=\u001b[39m \u001b[39m\"\u001b[39m\u001b[39mSuccessfully sent next chunk.\u001b[39m\u001b[39m\"\u001b[39m)), \u001b[39m\"\u001b[39m\u001b[39mframe_type\u001b[39m\u001b[39m\"\u001b[39m] \u001b[39m=\u001b[39m \u001b[39m\"\u001b[39m\u001b[39mprotocol\u001b[39m\u001b[39m\"\u001b[39m\n\u001b[1;32m     <a href='vscode-notebook-cell:/Users/artur/Documents/broadcast-tree/experiments/eval/default.ipynb#ch0000012?line=29'>30</a>\u001b[0m energy_df \u001b[39m=\u001b[39m df[df[\u001b[39m\"\u001b[39m\u001b[39mevent\u001b[39m\u001b[39m\"\u001b[39m] \u001b[39m==\u001b[39m \u001b[39m\"\u001b[39m\u001b[39msend\u001b[39m\u001b[39m\"\u001b[39m]\u001b[39m.\u001b[39mgroupby(EXPERIMENT_IDENTIFIER \u001b[39m+\u001b[39m [\u001b[39m\"\u001b[39m\u001b[39mframe_type\u001b[39m\u001b[39m\"\u001b[39m])[\u001b[39m\"\u001b[39m\u001b[39mmWb\u001b[39m\u001b[39m\"\u001b[39m]\u001b[39m.\u001b[39msum()\u001b[39m.\u001b[39mreset_index(name\u001b[39m=\u001b[39m\u001b[39m'\u001b[39m\u001b[39mmWb_total\u001b[39m\u001b[39m'\u001b[39m)\n\u001b[0;32m---> <a href='vscode-notebook-cell:/Users/artur/Documents/broadcast-tree/experiments/eval/default.ipynb#ch0000012?line=30'>31</a>\u001b[0m energy_df \u001b[39m=\u001b[39m energy_df\u001b[39m.\u001b[39;49mgroupby(EXPERIMENT_IDENTIFIER)\u001b[39m.\u001b[39;49mapply(energy_ratio)\n",
      "File \u001b[0;32m/usr/local/lib/python3.10/site-packages/pandas/core/groupby/groupby.py:1425\u001b[0m, in \u001b[0;36mGroupBy.apply\u001b[0;34m(self, func, *args, **kwargs)\u001b[0m\n\u001b[1;32m   1415\u001b[0m     \u001b[39mexcept\u001b[39;00m \u001b[39mTypeError\u001b[39;00m:\n\u001b[1;32m   1416\u001b[0m         \u001b[39m# gh-20949\u001b[39;00m\n\u001b[1;32m   1417\u001b[0m         \u001b[39m# try again, with .apply acting as a filtering\u001b[39;00m\n\u001b[0;32m   (...)\u001b[0m\n\u001b[1;32m   1421\u001b[0m         \u001b[39m# fails on *some* columns, e.g. a numeric operation\u001b[39;00m\n\u001b[1;32m   1422\u001b[0m         \u001b[39m# on a string grouper column\u001b[39;00m\n\u001b[1;32m   1424\u001b[0m         \u001b[39mwith\u001b[39;00m \u001b[39mself\u001b[39m\u001b[39m.\u001b[39m_group_selection_context():\n\u001b[0;32m-> 1425\u001b[0m             \u001b[39mreturn\u001b[39;00m \u001b[39mself\u001b[39;49m\u001b[39m.\u001b[39;49m_python_apply_general(f, \u001b[39mself\u001b[39;49m\u001b[39m.\u001b[39;49m_selected_obj)\n\u001b[1;32m   1427\u001b[0m \u001b[39mreturn\u001b[39;00m result\n",
      "File \u001b[0;32m/usr/local/lib/python3.10/site-packages/pandas/core/groupby/groupby.py:1455\u001b[0m, in \u001b[0;36mGroupBy._python_apply_general\u001b[0;34m(self, f, data, not_indexed_same)\u001b[0m\n\u001b[1;32m   1429\u001b[0m \u001b[39m@final\u001b[39m\n\u001b[1;32m   1430\u001b[0m \u001b[39mdef\u001b[39;00m \u001b[39m_python_apply_general\u001b[39m(\n\u001b[1;32m   1431\u001b[0m     \u001b[39mself\u001b[39m,\n\u001b[0;32m   (...)\u001b[0m\n\u001b[1;32m   1434\u001b[0m     not_indexed_same: \u001b[39mbool\u001b[39m \u001b[39m|\u001b[39m \u001b[39mNone\u001b[39;00m \u001b[39m=\u001b[39m \u001b[39mNone\u001b[39;00m,\n\u001b[1;32m   1435\u001b[0m ) \u001b[39m-\u001b[39m\u001b[39m>\u001b[39m DataFrame \u001b[39m|\u001b[39m Series:\n\u001b[1;32m   1436\u001b[0m     \u001b[39m\"\"\"\u001b[39;00m\n\u001b[1;32m   1437\u001b[0m \u001b[39m    Apply function f in python space\u001b[39;00m\n\u001b[1;32m   1438\u001b[0m \n\u001b[0;32m   (...)\u001b[0m\n\u001b[1;32m   1453\u001b[0m \u001b[39m        data after applying f\u001b[39;00m\n\u001b[1;32m   1454\u001b[0m \u001b[39m    \"\"\"\u001b[39;00m\n\u001b[0;32m-> 1455\u001b[0m     values, mutated \u001b[39m=\u001b[39m \u001b[39mself\u001b[39;49m\u001b[39m.\u001b[39;49mgrouper\u001b[39m.\u001b[39;49mapply(f, data, \u001b[39mself\u001b[39;49m\u001b[39m.\u001b[39;49maxis)\n\u001b[1;32m   1457\u001b[0m     \u001b[39mif\u001b[39;00m not_indexed_same \u001b[39mis\u001b[39;00m \u001b[39mNone\u001b[39;00m:\n\u001b[1;32m   1458\u001b[0m         not_indexed_same \u001b[39m=\u001b[39m mutated \u001b[39mor\u001b[39;00m \u001b[39mself\u001b[39m\u001b[39m.\u001b[39mmutated\n",
      "File \u001b[0;32m/usr/local/lib/python3.10/site-packages/pandas/core/groupby/ops.py:761\u001b[0m, in \u001b[0;36mBaseGrouper.apply\u001b[0;34m(self, f, data, axis)\u001b[0m\n\u001b[1;32m    759\u001b[0m \u001b[39m# group might be modified\u001b[39;00m\n\u001b[1;32m    760\u001b[0m group_axes \u001b[39m=\u001b[39m group\u001b[39m.\u001b[39maxes\n\u001b[0;32m--> 761\u001b[0m res \u001b[39m=\u001b[39m f(group)\n\u001b[1;32m    762\u001b[0m \u001b[39mif\u001b[39;00m \u001b[39mnot\u001b[39;00m mutated \u001b[39mand\u001b[39;00m \u001b[39mnot\u001b[39;00m _is_indexed_like(res, group_axes, axis):\n\u001b[1;32m    763\u001b[0m     mutated \u001b[39m=\u001b[39m \u001b[39mTrue\u001b[39;00m\n",
      "\u001b[1;32m/Users/artur/Documents/broadcast-tree/experiments/eval/default.ipynb Zelle 12\u001b[0m in \u001b[0;36menergy_ratio\u001b[0;34m(x)\u001b[0m\n\u001b[1;32m      <a href='vscode-notebook-cell:/Users/artur/Documents/broadcast-tree/experiments/eval/default.ipynb#ch0000012?line=1'>2</a>\u001b[0m energy_payload_df \u001b[39m=\u001b[39m x[x[\u001b[39m\"\u001b[39m\u001b[39mframe_type\u001b[39m\u001b[39m\"\u001b[39m] \u001b[39m==\u001b[39m \u001b[39m\"\u001b[39m\u001b[39mpayload\u001b[39m\u001b[39m\"\u001b[39m]\n\u001b[1;32m      <a href='vscode-notebook-cell:/Users/artur/Documents/broadcast-tree/experiments/eval/default.ipynb#ch0000012?line=2'>3</a>\u001b[0m energy_protocol_df \u001b[39m=\u001b[39m x[x[\u001b[39m\"\u001b[39m\u001b[39mframe_type\u001b[39m\u001b[39m\"\u001b[39m] \u001b[39m==\u001b[39m \u001b[39m\"\u001b[39m\u001b[39mprotocol\u001b[39m\u001b[39m\"\u001b[39m]\n\u001b[0;32m----> <a href='vscode-notebook-cell:/Users/artur/Documents/broadcast-tree/experiments/eval/default.ipynb#ch0000012?line=4'>5</a>\u001b[0m energy_payload \u001b[39m=\u001b[39m \u001b[39mfloat\u001b[39;49m(energy_payload_df[\u001b[39m\"\u001b[39;49m\u001b[39mmWb_total\u001b[39;49m\u001b[39m\"\u001b[39;49m])\n\u001b[1;32m      <a href='vscode-notebook-cell:/Users/artur/Documents/broadcast-tree/experiments/eval/default.ipynb#ch0000012?line=6'>7</a>\u001b[0m \u001b[39mif\u001b[39;00m energy_protocol_df\u001b[39m.\u001b[39mempty:\n\u001b[1;32m      <a href='vscode-notebook-cell:/Users/artur/Documents/broadcast-tree/experiments/eval/default.ipynb#ch0000012?line=7'>8</a>\u001b[0m     energy_protocol \u001b[39m=\u001b[39m \u001b[39m0\u001b[39m\n",
      "File \u001b[0;32m/usr/local/lib/python3.10/site-packages/pandas/core/series.py:191\u001b[0m, in \u001b[0;36m_coerce_method.<locals>.wrapper\u001b[0;34m(self)\u001b[0m\n\u001b[1;32m    189\u001b[0m \u001b[39mif\u001b[39;00m \u001b[39mlen\u001b[39m(\u001b[39mself\u001b[39m) \u001b[39m==\u001b[39m \u001b[39m1\u001b[39m:\n\u001b[1;32m    190\u001b[0m     \u001b[39mreturn\u001b[39;00m converter(\u001b[39mself\u001b[39m\u001b[39m.\u001b[39miloc[\u001b[39m0\u001b[39m])\n\u001b[0;32m--> 191\u001b[0m \u001b[39mraise\u001b[39;00m \u001b[39mTypeError\u001b[39;00m(\u001b[39mf\u001b[39m\u001b[39m\"\u001b[39m\u001b[39mcannot convert the series to \u001b[39m\u001b[39m{\u001b[39;00mconverter\u001b[39m}\u001b[39;00m\u001b[39m\"\u001b[39m)\n",
      "\u001b[0;31mTypeError\u001b[0m: cannot convert the series to <class 'float'>"
     ]
    }
   ],
   "source": [
    "def energy_ratio(x):\n",
    "    energy_payload_df = x[x[\"frame_type\"] == \"payload\"]\n",
    "    energy_protocol_df = x[x[\"frame_type\"] == \"protocol\"]\n",
    "    \n",
    "    energy_payload = float(energy_payload_df[\"mWb_total\"])\n",
    "    \n",
    "    if energy_protocol_df.empty:\n",
    "        energy_protocol = 0\n",
    "    else:\n",
    "        energy_protocol = float(energy_protocol_df[\"mWb_total\"])\n",
    "    \n",
    "    total_energy = energy_payload + energy_protocol\n",
    "    \n",
    "    payload_rel = energy_payload / total_energy\n",
    "    protocol_rel = energy_protocol / total_energy\n",
    "    \n",
    "    x.loc[x[\"frame_type\"] == \"payload\", \"mWb_rel\"] = payload_rel\n",
    "    x.loc[x[\"frame_type\"] == \"protocol\", \"mWb_rel\"] = protocol_rel\n",
    "    \n",
    "    return x\n",
    "    \n",
    "    \n",
    "\n",
    "df[\"mW\"] = 10**(df[\"tx_pwr\"]/10)\n",
    "df[\"mWb\"] = df[\"mW\"] * (df[\"data_len\"] + 34)\n",
    "\n",
    "df.loc[(df[\"event\"] == \"send\") & (df[\"message\"] == \"Successfully forwarded payload.\") | (df[\"message\"] == \"Successfully sent next chunk.\"), \"frame_type\"] = \"payload\"\n",
    "df.loc[(df[\"event\"] == \"send\") & ((df[\"message\"] != \"Successfully forwarded payload.\") & (df[\"message\"] != \"Successfully sent next chunk.\")), \"frame_type\"] = \"protocol\"\n",
    "\n",
    "energy_df = df[df[\"event\"] == \"send\"].groupby(EXPERIMENT_IDENTIFIER + [\"frame_type\"])[\"mWb\"].sum().reset_index(name='mWb_total')\n",
    "energy_df = energy_df.groupby(EXPERIMENT_IDENTIFIER).apply(energy_ratio)#.reset_index()\n"
   ]
  },
  {
   "cell_type": "markdown",
   "metadata": {},
   "source": [
    "# Comparison between flooding and BTP, energy wise"
   ]
  },
  {
   "cell_type": "code",
   "execution_count": 61,
   "metadata": {},
   "outputs": [
    {
     "name": "stderr",
     "output_type": "stream",
     "text": [
      "/var/folders/26/2pp7vp553ms3s26tctkklxzr0000gp/T/ipykernel_58304/242195146.py:5: RuntimeWarning:\n",
      "\n",
      "divide by zero encountered in double_scalars\n",
      "\n"
     ]
    }
   ],
   "source": [
    "def energy_ratio(x):\n",
    "    flooding = x[(x[\"flood\"] == True)].sum()\n",
    "    btp = x[(x[\"flood\"] == False)].sum()\n",
    "    \n",
    "    return btp[\"mWb_total\"] / flooding[\"mWb_total\"]\n",
    "\n",
    "energy_ratio_df = energy_df.groupby([\"payload_size\", \"source_id\", \"unchanged_counter\", \"iteration\"]).apply(energy_ratio).reset_index(name='ratio')"
   ]
  },
  {
   "cell_type": "code",
   "execution_count": 62,
   "metadata": {},
   "outputs": [
    {
     "data": {
      "application/vnd.plotly.v1+json": {
       "config": {
        "plotlyServerURL": "https://plot.ly"
       },
       "data": [
        {
         "alignmentgroup": "True",
         "hovertemplate": "unchanged_counter=5<br>source_id=0<br>payload_size=%{x}<br>ratio=%{y}<extra></extra>",
         "legendgroup": "5",
         "marker": {
          "color": "#636efa"
         },
         "name": "5",
         "notched": false,
         "offsetgroup": "5",
         "orientation": "v",
         "showlegend": true,
         "type": "box",
         "x": [
          "100K",
          "1K",
          "1M"
         ],
         "x0": " ",
         "xaxis": "x",
         "y": [
          142.0245505419783,
          null,
          null
         ],
         "y0": " ",
         "yaxis": "y"
        },
        {
         "alignmentgroup": "True",
         "hovertemplate": "unchanged_counter=5<br>source_id=54<br>payload_size=%{x}<br>ratio=%{y}<extra></extra>",
         "legendgroup": "5",
         "marker": {
          "color": "#636efa"
         },
         "name": "5",
         "notched": false,
         "offsetgroup": "5",
         "orientation": "v",
         "showlegend": false,
         "type": "box",
         "x": [
          "100K",
          "1K",
          "1M"
         ],
         "x0": " ",
         "xaxis": "x2",
         "y": [
          95.50930210958306,
          null,
          null
         ],
         "y0": " ",
         "yaxis": "y2"
        },
        {
         "alignmentgroup": "True",
         "hovertemplate": "unchanged_counter=5<br>source_id=80<br>payload_size=%{x}<br>ratio=%{y}<extra></extra>",
         "legendgroup": "5",
         "marker": {
          "color": "#636efa"
         },
         "name": "5",
         "notched": false,
         "offsetgroup": "5",
         "orientation": "v",
         "showlegend": false,
         "type": "box",
         "x": [
          "100K",
          "1K",
          "1M"
         ],
         "x0": " ",
         "xaxis": "x3",
         "y": [
          103.78429307143371,
          null,
          null
         ],
         "y0": " ",
         "yaxis": "y3"
        },
        {
         "alignmentgroup": "True",
         "hovertemplate": "unchanged_counter=15<br>source_id=0<br>payload_size=%{x}<br>ratio=%{y}<extra></extra>",
         "legendgroup": "15",
         "marker": {
          "color": "#EF553B"
         },
         "name": "15",
         "notched": false,
         "offsetgroup": "15",
         "orientation": "v",
         "showlegend": true,
         "type": "box",
         "x": [
          "100K",
          "1K",
          "1M"
         ],
         "x0": " ",
         "xaxis": "x",
         "y": [
          163.08844259048965,
          102.63902394696478,
          null
         ],
         "y0": " ",
         "yaxis": "y"
        },
        {
         "alignmentgroup": "True",
         "hovertemplate": "unchanged_counter=15<br>source_id=54<br>payload_size=%{x}<br>ratio=%{y}<extra></extra>",
         "legendgroup": "15",
         "marker": {
          "color": "#EF553B"
         },
         "name": "15",
         "notched": false,
         "offsetgroup": "15",
         "orientation": "v",
         "showlegend": false,
         "type": "box",
         "x": [
          "100K",
          "1K",
          "1M"
         ],
         "x0": " ",
         "xaxis": "x2",
         "y": [
          91.43581403835724,
          102.5864345210986,
          null
         ],
         "y0": " ",
         "yaxis": "y2"
        },
        {
         "alignmentgroup": "True",
         "hovertemplate": "unchanged_counter=15<br>source_id=80<br>payload_size=%{x}<br>ratio=%{y}<extra></extra>",
         "legendgroup": "15",
         "marker": {
          "color": "#EF553B"
         },
         "name": "15",
         "notched": false,
         "offsetgroup": "15",
         "orientation": "v",
         "showlegend": false,
         "type": "box",
         "x": [
          "100K",
          "1K",
          "1M"
         ],
         "x0": " ",
         "xaxis": "x3",
         "y": [
          null,
          136.85712855083344,
          1091.224769027087
         ],
         "y0": " ",
         "yaxis": "y3"
        },
        {
         "alignmentgroup": "True",
         "hovertemplate": "unchanged_counter=25<br>source_id=0<br>payload_size=%{x}<br>ratio=%{y}<extra></extra>",
         "legendgroup": "25",
         "marker": {
          "color": "#00cc96"
         },
         "name": "25",
         "notched": false,
         "offsetgroup": "25",
         "orientation": "v",
         "showlegend": true,
         "type": "box",
         "x": [
          "100K",
          "1K",
          "1M"
         ],
         "x0": " ",
         "xaxis": "x",
         "y": [
          null,
          199.64387534225102,
          1417.2417715171555
         ],
         "y0": " ",
         "yaxis": "y"
        },
        {
         "alignmentgroup": "True",
         "hovertemplate": "unchanged_counter=25<br>source_id=54<br>payload_size=%{x}<br>ratio=%{y}<extra></extra>",
         "legendgroup": "25",
         "marker": {
          "color": "#00cc96"
         },
         "name": "25",
         "notched": false,
         "offsetgroup": "25",
         "orientation": "v",
         "showlegend": false,
         "type": "box",
         "x": [
          "100K",
          "1K",
          "1M"
         ],
         "x0": " ",
         "xaxis": "x2",
         "y": [
          null,
          157.14568691811937,
          727.750339204981
         ],
         "y0": " ",
         "yaxis": "y2"
        },
        {
         "alignmentgroup": "True",
         "hovertemplate": "unchanged_counter=25<br>source_id=80<br>payload_size=%{x}<br>ratio=%{y}<extra></extra>",
         "legendgroup": "25",
         "marker": {
          "color": "#00cc96"
         },
         "name": "25",
         "notched": false,
         "offsetgroup": "25",
         "orientation": "v",
         "showlegend": false,
         "type": "box",
         "x": [
          "100K",
          "1K",
          "1M"
         ],
         "x0": " ",
         "xaxis": "x3",
         "y": [
          null,
          128.19524732603986,
          1129.628342750101
         ],
         "y0": " ",
         "yaxis": "y3"
        }
       ],
       "layout": {
        "annotations": [
         {
          "font": {},
          "showarrow": false,
          "text": "source_id=0",
          "x": 0.15999999999999998,
          "xanchor": "center",
          "xref": "paper",
          "y": 1,
          "yanchor": "bottom",
          "yref": "paper"
         },
         {
          "font": {},
          "showarrow": false,
          "text": "source_id=54",
          "x": 0.49999999999999994,
          "xanchor": "center",
          "xref": "paper",
          "y": 1,
          "yanchor": "bottom",
          "yref": "paper"
         },
         {
          "font": {},
          "showarrow": false,
          "text": "source_id=80",
          "x": 0.8399999999999999,
          "xanchor": "center",
          "xref": "paper",
          "y": 1,
          "yanchor": "bottom",
          "yref": "paper"
         }
        ],
        "boxmode": "group",
        "legend": {
         "title": {
          "text": "unchanged_counter"
         },
         "tracegroupgap": 0
        },
        "margin": {
         "t": 60
        },
        "template": {
         "data": {
          "bar": [
           {
            "error_x": {
             "color": "#2a3f5f"
            },
            "error_y": {
             "color": "#2a3f5f"
            },
            "marker": {
             "line": {
              "color": "#E5ECF6",
              "width": 0.5
             },
             "pattern": {
              "fillmode": "overlay",
              "size": 10,
              "solidity": 0.2
             }
            },
            "type": "bar"
           }
          ],
          "barpolar": [
           {
            "marker": {
             "line": {
              "color": "#E5ECF6",
              "width": 0.5
             },
             "pattern": {
              "fillmode": "overlay",
              "size": 10,
              "solidity": 0.2
             }
            },
            "type": "barpolar"
           }
          ],
          "carpet": [
           {
            "aaxis": {
             "endlinecolor": "#2a3f5f",
             "gridcolor": "white",
             "linecolor": "white",
             "minorgridcolor": "white",
             "startlinecolor": "#2a3f5f"
            },
            "baxis": {
             "endlinecolor": "#2a3f5f",
             "gridcolor": "white",
             "linecolor": "white",
             "minorgridcolor": "white",
             "startlinecolor": "#2a3f5f"
            },
            "type": "carpet"
           }
          ],
          "choropleth": [
           {
            "colorbar": {
             "outlinewidth": 0,
             "ticks": ""
            },
            "type": "choropleth"
           }
          ],
          "contour": [
           {
            "colorbar": {
             "outlinewidth": 0,
             "ticks": ""
            },
            "colorscale": [
             [
              0,
              "#0d0887"
             ],
             [
              0.1111111111111111,
              "#46039f"
             ],
             [
              0.2222222222222222,
              "#7201a8"
             ],
             [
              0.3333333333333333,
              "#9c179e"
             ],
             [
              0.4444444444444444,
              "#bd3786"
             ],
             [
              0.5555555555555556,
              "#d8576b"
             ],
             [
              0.6666666666666666,
              "#ed7953"
             ],
             [
              0.7777777777777778,
              "#fb9f3a"
             ],
             [
              0.8888888888888888,
              "#fdca26"
             ],
             [
              1,
              "#f0f921"
             ]
            ],
            "type": "contour"
           }
          ],
          "contourcarpet": [
           {
            "colorbar": {
             "outlinewidth": 0,
             "ticks": ""
            },
            "type": "contourcarpet"
           }
          ],
          "heatmap": [
           {
            "colorbar": {
             "outlinewidth": 0,
             "ticks": ""
            },
            "colorscale": [
             [
              0,
              "#0d0887"
             ],
             [
              0.1111111111111111,
              "#46039f"
             ],
             [
              0.2222222222222222,
              "#7201a8"
             ],
             [
              0.3333333333333333,
              "#9c179e"
             ],
             [
              0.4444444444444444,
              "#bd3786"
             ],
             [
              0.5555555555555556,
              "#d8576b"
             ],
             [
              0.6666666666666666,
              "#ed7953"
             ],
             [
              0.7777777777777778,
              "#fb9f3a"
             ],
             [
              0.8888888888888888,
              "#fdca26"
             ],
             [
              1,
              "#f0f921"
             ]
            ],
            "type": "heatmap"
           }
          ],
          "heatmapgl": [
           {
            "colorbar": {
             "outlinewidth": 0,
             "ticks": ""
            },
            "colorscale": [
             [
              0,
              "#0d0887"
             ],
             [
              0.1111111111111111,
              "#46039f"
             ],
             [
              0.2222222222222222,
              "#7201a8"
             ],
             [
              0.3333333333333333,
              "#9c179e"
             ],
             [
              0.4444444444444444,
              "#bd3786"
             ],
             [
              0.5555555555555556,
              "#d8576b"
             ],
             [
              0.6666666666666666,
              "#ed7953"
             ],
             [
              0.7777777777777778,
              "#fb9f3a"
             ],
             [
              0.8888888888888888,
              "#fdca26"
             ],
             [
              1,
              "#f0f921"
             ]
            ],
            "type": "heatmapgl"
           }
          ],
          "histogram": [
           {
            "marker": {
             "pattern": {
              "fillmode": "overlay",
              "size": 10,
              "solidity": 0.2
             }
            },
            "type": "histogram"
           }
          ],
          "histogram2d": [
           {
            "colorbar": {
             "outlinewidth": 0,
             "ticks": ""
            },
            "colorscale": [
             [
              0,
              "#0d0887"
             ],
             [
              0.1111111111111111,
              "#46039f"
             ],
             [
              0.2222222222222222,
              "#7201a8"
             ],
             [
              0.3333333333333333,
              "#9c179e"
             ],
             [
              0.4444444444444444,
              "#bd3786"
             ],
             [
              0.5555555555555556,
              "#d8576b"
             ],
             [
              0.6666666666666666,
              "#ed7953"
             ],
             [
              0.7777777777777778,
              "#fb9f3a"
             ],
             [
              0.8888888888888888,
              "#fdca26"
             ],
             [
              1,
              "#f0f921"
             ]
            ],
            "type": "histogram2d"
           }
          ],
          "histogram2dcontour": [
           {
            "colorbar": {
             "outlinewidth": 0,
             "ticks": ""
            },
            "colorscale": [
             [
              0,
              "#0d0887"
             ],
             [
              0.1111111111111111,
              "#46039f"
             ],
             [
              0.2222222222222222,
              "#7201a8"
             ],
             [
              0.3333333333333333,
              "#9c179e"
             ],
             [
              0.4444444444444444,
              "#bd3786"
             ],
             [
              0.5555555555555556,
              "#d8576b"
             ],
             [
              0.6666666666666666,
              "#ed7953"
             ],
             [
              0.7777777777777778,
              "#fb9f3a"
             ],
             [
              0.8888888888888888,
              "#fdca26"
             ],
             [
              1,
              "#f0f921"
             ]
            ],
            "type": "histogram2dcontour"
           }
          ],
          "mesh3d": [
           {
            "colorbar": {
             "outlinewidth": 0,
             "ticks": ""
            },
            "type": "mesh3d"
           }
          ],
          "parcoords": [
           {
            "line": {
             "colorbar": {
              "outlinewidth": 0,
              "ticks": ""
             }
            },
            "type": "parcoords"
           }
          ],
          "pie": [
           {
            "automargin": true,
            "type": "pie"
           }
          ],
          "scatter": [
           {
            "fillpattern": {
             "fillmode": "overlay",
             "size": 10,
             "solidity": 0.2
            },
            "type": "scatter"
           }
          ],
          "scatter3d": [
           {
            "line": {
             "colorbar": {
              "outlinewidth": 0,
              "ticks": ""
             }
            },
            "marker": {
             "colorbar": {
              "outlinewidth": 0,
              "ticks": ""
             }
            },
            "type": "scatter3d"
           }
          ],
          "scattercarpet": [
           {
            "marker": {
             "colorbar": {
              "outlinewidth": 0,
              "ticks": ""
             }
            },
            "type": "scattercarpet"
           }
          ],
          "scattergeo": [
           {
            "marker": {
             "colorbar": {
              "outlinewidth": 0,
              "ticks": ""
             }
            },
            "type": "scattergeo"
           }
          ],
          "scattergl": [
           {
            "marker": {
             "colorbar": {
              "outlinewidth": 0,
              "ticks": ""
             }
            },
            "type": "scattergl"
           }
          ],
          "scattermapbox": [
           {
            "marker": {
             "colorbar": {
              "outlinewidth": 0,
              "ticks": ""
             }
            },
            "type": "scattermapbox"
           }
          ],
          "scatterpolar": [
           {
            "marker": {
             "colorbar": {
              "outlinewidth": 0,
              "ticks": ""
             }
            },
            "type": "scatterpolar"
           }
          ],
          "scatterpolargl": [
           {
            "marker": {
             "colorbar": {
              "outlinewidth": 0,
              "ticks": ""
             }
            },
            "type": "scatterpolargl"
           }
          ],
          "scatterternary": [
           {
            "marker": {
             "colorbar": {
              "outlinewidth": 0,
              "ticks": ""
             }
            },
            "type": "scatterternary"
           }
          ],
          "surface": [
           {
            "colorbar": {
             "outlinewidth": 0,
             "ticks": ""
            },
            "colorscale": [
             [
              0,
              "#0d0887"
             ],
             [
              0.1111111111111111,
              "#46039f"
             ],
             [
              0.2222222222222222,
              "#7201a8"
             ],
             [
              0.3333333333333333,
              "#9c179e"
             ],
             [
              0.4444444444444444,
              "#bd3786"
             ],
             [
              0.5555555555555556,
              "#d8576b"
             ],
             [
              0.6666666666666666,
              "#ed7953"
             ],
             [
              0.7777777777777778,
              "#fb9f3a"
             ],
             [
              0.8888888888888888,
              "#fdca26"
             ],
             [
              1,
              "#f0f921"
             ]
            ],
            "type": "surface"
           }
          ],
          "table": [
           {
            "cells": {
             "fill": {
              "color": "#EBF0F8"
             },
             "line": {
              "color": "white"
             }
            },
            "header": {
             "fill": {
              "color": "#C8D4E3"
             },
             "line": {
              "color": "white"
             }
            },
            "type": "table"
           }
          ]
         },
         "layout": {
          "annotationdefaults": {
           "arrowcolor": "#2a3f5f",
           "arrowhead": 0,
           "arrowwidth": 1
          },
          "autotypenumbers": "strict",
          "coloraxis": {
           "colorbar": {
            "outlinewidth": 0,
            "ticks": ""
           }
          },
          "colorscale": {
           "diverging": [
            [
             0,
             "#8e0152"
            ],
            [
             0.1,
             "#c51b7d"
            ],
            [
             0.2,
             "#de77ae"
            ],
            [
             0.3,
             "#f1b6da"
            ],
            [
             0.4,
             "#fde0ef"
            ],
            [
             0.5,
             "#f7f7f7"
            ],
            [
             0.6,
             "#e6f5d0"
            ],
            [
             0.7,
             "#b8e186"
            ],
            [
             0.8,
             "#7fbc41"
            ],
            [
             0.9,
             "#4d9221"
            ],
            [
             1,
             "#276419"
            ]
           ],
           "sequential": [
            [
             0,
             "#0d0887"
            ],
            [
             0.1111111111111111,
             "#46039f"
            ],
            [
             0.2222222222222222,
             "#7201a8"
            ],
            [
             0.3333333333333333,
             "#9c179e"
            ],
            [
             0.4444444444444444,
             "#bd3786"
            ],
            [
             0.5555555555555556,
             "#d8576b"
            ],
            [
             0.6666666666666666,
             "#ed7953"
            ],
            [
             0.7777777777777778,
             "#fb9f3a"
            ],
            [
             0.8888888888888888,
             "#fdca26"
            ],
            [
             1,
             "#f0f921"
            ]
           ],
           "sequentialminus": [
            [
             0,
             "#0d0887"
            ],
            [
             0.1111111111111111,
             "#46039f"
            ],
            [
             0.2222222222222222,
             "#7201a8"
            ],
            [
             0.3333333333333333,
             "#9c179e"
            ],
            [
             0.4444444444444444,
             "#bd3786"
            ],
            [
             0.5555555555555556,
             "#d8576b"
            ],
            [
             0.6666666666666666,
             "#ed7953"
            ],
            [
             0.7777777777777778,
             "#fb9f3a"
            ],
            [
             0.8888888888888888,
             "#fdca26"
            ],
            [
             1,
             "#f0f921"
            ]
           ]
          },
          "colorway": [
           "#636efa",
           "#EF553B",
           "#00cc96",
           "#ab63fa",
           "#FFA15A",
           "#19d3f3",
           "#FF6692",
           "#B6E880",
           "#FF97FF",
           "#FECB52"
          ],
          "font": {
           "color": "#2a3f5f"
          },
          "geo": {
           "bgcolor": "white",
           "lakecolor": "white",
           "landcolor": "#E5ECF6",
           "showlakes": true,
           "showland": true,
           "subunitcolor": "white"
          },
          "hoverlabel": {
           "align": "left"
          },
          "hovermode": "closest",
          "mapbox": {
           "style": "light"
          },
          "paper_bgcolor": "white",
          "plot_bgcolor": "#E5ECF6",
          "polar": {
           "angularaxis": {
            "gridcolor": "white",
            "linecolor": "white",
            "ticks": ""
           },
           "bgcolor": "#E5ECF6",
           "radialaxis": {
            "gridcolor": "white",
            "linecolor": "white",
            "ticks": ""
           }
          },
          "scene": {
           "xaxis": {
            "backgroundcolor": "#E5ECF6",
            "gridcolor": "white",
            "gridwidth": 2,
            "linecolor": "white",
            "showbackground": true,
            "ticks": "",
            "zerolinecolor": "white"
           },
           "yaxis": {
            "backgroundcolor": "#E5ECF6",
            "gridcolor": "white",
            "gridwidth": 2,
            "linecolor": "white",
            "showbackground": true,
            "ticks": "",
            "zerolinecolor": "white"
           },
           "zaxis": {
            "backgroundcolor": "#E5ECF6",
            "gridcolor": "white",
            "gridwidth": 2,
            "linecolor": "white",
            "showbackground": true,
            "ticks": "",
            "zerolinecolor": "white"
           }
          },
          "shapedefaults": {
           "line": {
            "color": "#2a3f5f"
           }
          },
          "ternary": {
           "aaxis": {
            "gridcolor": "white",
            "linecolor": "white",
            "ticks": ""
           },
           "baxis": {
            "gridcolor": "white",
            "linecolor": "white",
            "ticks": ""
           },
           "bgcolor": "#E5ECF6",
           "caxis": {
            "gridcolor": "white",
            "linecolor": "white",
            "ticks": ""
           }
          },
          "title": {
           "x": 0.05
          },
          "xaxis": {
           "automargin": true,
           "gridcolor": "white",
           "linecolor": "white",
           "ticks": "",
           "title": {
            "standoff": 15
           },
           "zerolinecolor": "white",
           "zerolinewidth": 2
          },
          "yaxis": {
           "automargin": true,
           "gridcolor": "white",
           "linecolor": "white",
           "ticks": "",
           "title": {
            "standoff": 15
           },
           "zerolinecolor": "white",
           "zerolinewidth": 2
          }
         }
        },
        "xaxis": {
         "anchor": "y",
         "domain": [
          0,
          0.31999999999999995
         ],
         "title": {
          "text": "payload_size"
         }
        },
        "xaxis2": {
         "anchor": "y2",
         "domain": [
          0.33999999999999997,
          0.6599999999999999
         ],
         "matches": "x",
         "title": {
          "text": "payload_size"
         }
        },
        "xaxis3": {
         "anchor": "y3",
         "domain": [
          0.6799999999999999,
          0.9999999999999999
         ],
         "matches": "x",
         "title": {
          "text": "payload_size"
         }
        },
        "yaxis": {
         "anchor": "x",
         "domain": [
          0,
          1
         ],
         "title": {
          "text": "ratio"
         }
        },
        "yaxis2": {
         "anchor": "x2",
         "domain": [
          0,
          1
         ],
         "matches": "y",
         "showticklabels": false
        },
        "yaxis3": {
         "anchor": "x3",
         "domain": [
          0,
          1
         ],
         "matches": "y",
         "showticklabels": false
        }
       }
      }
     },
     "metadata": {},
     "output_type": "display_data"
    }
   ],
   "source": [
    "fig = px.box(\n",
    "    energy_ratio_df,\n",
    "    x=\"payload_size\",\n",
    "    y=\"ratio\", \n",
    "    color=\"unchanged_counter\",\n",
    "    facet_col=\"source_id\"\n",
    ")\n",
    "fig"
   ]
  },
  {
   "cell_type": "markdown",
   "metadata": {},
   "source": [
    "# What is BTP's overhead for building the tree"
   ]
  },
  {
   "cell_type": "code",
   "execution_count": 10,
   "metadata": {},
   "outputs": [
    {
     "data": {
      "application/vnd.plotly.v1+json": {
       "config": {
        "plotlyServerURL": "https://plot.ly"
       },
       "data": [
        {
         "alignmentgroup": "True",
         "hovertemplate": "frame_type=payload<br>source_id=80<br>unchanged_counter=15<br>payload_size=%{x}<br>mWb_rel=%{y}<extra></extra>",
         "legendgroup": "payload",
         "marker": {
          "color": "#636efa",
          "pattern": {
           "shape": ""
          }
         },
         "name": "payload",
         "offsetgroup": "payload",
         "orientation": "v",
         "showlegend": true,
         "textposition": "auto",
         "type": "bar",
         "x": [
          "1K",
          "1K",
          "1K",
          "1K",
          "1K",
          "1K",
          "1K",
          "1K",
          "1K",
          "1K"
         ],
         "xaxis": "x",
         "y": [
          0.6620398447327841,
          0.7669843023120082,
          0.6049065224938097,
          0.4698268617921613,
          0.4926618465006465,
          0.7604751709863429,
          0.6157491454515348,
          0.7657925706006091,
          0.8014792213299613,
          0.8172700096667538
         ],
         "yaxis": "y"
        },
        {
         "alignmentgroup": "True",
         "hovertemplate": "frame_type=protocol<br>source_id=80<br>unchanged_counter=15<br>payload_size=%{x}<br>mWb_rel=%{y}<extra></extra>",
         "legendgroup": "protocol",
         "marker": {
          "color": "#EF553B",
          "pattern": {
           "shape": ""
          }
         },
         "name": "protocol",
         "offsetgroup": "protocol",
         "orientation": "v",
         "showlegend": true,
         "textposition": "auto",
         "type": "bar",
         "x": [
          "1K",
          "1K",
          "1K",
          "1K",
          "1K",
          "1K",
          "1K",
          "1K",
          "1K",
          "1K"
         ],
         "xaxis": "x",
         "y": [
          0.3379601552672158,
          0.23301569768799174,
          0.3950934775061903,
          0.5301731382078386,
          0.5073381534993535,
          0.23952482901365701,
          0.3842508545484652,
          0.23420742939939088,
          0.1985207786700387,
          0.1827299903332462
         ],
         "yaxis": "y"
        }
       ],
       "layout": {
        "annotations": [
         {
          "font": {},
          "showarrow": false,
          "text": "unchanged_counter=15",
          "x": 0.49,
          "xanchor": "center",
          "xref": "paper",
          "y": 1,
          "yanchor": "bottom",
          "yref": "paper"
         },
         {
          "font": {},
          "showarrow": false,
          "text": "source_id=80",
          "textangle": 90,
          "x": 0.98,
          "xanchor": "left",
          "xref": "paper",
          "y": 0.5,
          "yanchor": "middle",
          "yref": "paper"
         }
        ],
        "barmode": "relative",
        "legend": {
         "title": {
          "text": "frame_type"
         },
         "tracegroupgap": 0
        },
        "margin": {
         "t": 60
        },
        "template": {
         "data": {
          "bar": [
           {
            "error_x": {
             "color": "#2a3f5f"
            },
            "error_y": {
             "color": "#2a3f5f"
            },
            "marker": {
             "line": {
              "color": "#E5ECF6",
              "width": 0.5
             },
             "pattern": {
              "fillmode": "overlay",
              "size": 10,
              "solidity": 0.2
             }
            },
            "type": "bar"
           }
          ],
          "barpolar": [
           {
            "marker": {
             "line": {
              "color": "#E5ECF6",
              "width": 0.5
             },
             "pattern": {
              "fillmode": "overlay",
              "size": 10,
              "solidity": 0.2
             }
            },
            "type": "barpolar"
           }
          ],
          "carpet": [
           {
            "aaxis": {
             "endlinecolor": "#2a3f5f",
             "gridcolor": "white",
             "linecolor": "white",
             "minorgridcolor": "white",
             "startlinecolor": "#2a3f5f"
            },
            "baxis": {
             "endlinecolor": "#2a3f5f",
             "gridcolor": "white",
             "linecolor": "white",
             "minorgridcolor": "white",
             "startlinecolor": "#2a3f5f"
            },
            "type": "carpet"
           }
          ],
          "choropleth": [
           {
            "colorbar": {
             "outlinewidth": 0,
             "ticks": ""
            },
            "type": "choropleth"
           }
          ],
          "contour": [
           {
            "colorbar": {
             "outlinewidth": 0,
             "ticks": ""
            },
            "colorscale": [
             [
              0,
              "#0d0887"
             ],
             [
              0.1111111111111111,
              "#46039f"
             ],
             [
              0.2222222222222222,
              "#7201a8"
             ],
             [
              0.3333333333333333,
              "#9c179e"
             ],
             [
              0.4444444444444444,
              "#bd3786"
             ],
             [
              0.5555555555555556,
              "#d8576b"
             ],
             [
              0.6666666666666666,
              "#ed7953"
             ],
             [
              0.7777777777777778,
              "#fb9f3a"
             ],
             [
              0.8888888888888888,
              "#fdca26"
             ],
             [
              1,
              "#f0f921"
             ]
            ],
            "type": "contour"
           }
          ],
          "contourcarpet": [
           {
            "colorbar": {
             "outlinewidth": 0,
             "ticks": ""
            },
            "type": "contourcarpet"
           }
          ],
          "heatmap": [
           {
            "colorbar": {
             "outlinewidth": 0,
             "ticks": ""
            },
            "colorscale": [
             [
              0,
              "#0d0887"
             ],
             [
              0.1111111111111111,
              "#46039f"
             ],
             [
              0.2222222222222222,
              "#7201a8"
             ],
             [
              0.3333333333333333,
              "#9c179e"
             ],
             [
              0.4444444444444444,
              "#bd3786"
             ],
             [
              0.5555555555555556,
              "#d8576b"
             ],
             [
              0.6666666666666666,
              "#ed7953"
             ],
             [
              0.7777777777777778,
              "#fb9f3a"
             ],
             [
              0.8888888888888888,
              "#fdca26"
             ],
             [
              1,
              "#f0f921"
             ]
            ],
            "type": "heatmap"
           }
          ],
          "heatmapgl": [
           {
            "colorbar": {
             "outlinewidth": 0,
             "ticks": ""
            },
            "colorscale": [
             [
              0,
              "#0d0887"
             ],
             [
              0.1111111111111111,
              "#46039f"
             ],
             [
              0.2222222222222222,
              "#7201a8"
             ],
             [
              0.3333333333333333,
              "#9c179e"
             ],
             [
              0.4444444444444444,
              "#bd3786"
             ],
             [
              0.5555555555555556,
              "#d8576b"
             ],
             [
              0.6666666666666666,
              "#ed7953"
             ],
             [
              0.7777777777777778,
              "#fb9f3a"
             ],
             [
              0.8888888888888888,
              "#fdca26"
             ],
             [
              1,
              "#f0f921"
             ]
            ],
            "type": "heatmapgl"
           }
          ],
          "histogram": [
           {
            "marker": {
             "pattern": {
              "fillmode": "overlay",
              "size": 10,
              "solidity": 0.2
             }
            },
            "type": "histogram"
           }
          ],
          "histogram2d": [
           {
            "colorbar": {
             "outlinewidth": 0,
             "ticks": ""
            },
            "colorscale": [
             [
              0,
              "#0d0887"
             ],
             [
              0.1111111111111111,
              "#46039f"
             ],
             [
              0.2222222222222222,
              "#7201a8"
             ],
             [
              0.3333333333333333,
              "#9c179e"
             ],
             [
              0.4444444444444444,
              "#bd3786"
             ],
             [
              0.5555555555555556,
              "#d8576b"
             ],
             [
              0.6666666666666666,
              "#ed7953"
             ],
             [
              0.7777777777777778,
              "#fb9f3a"
             ],
             [
              0.8888888888888888,
              "#fdca26"
             ],
             [
              1,
              "#f0f921"
             ]
            ],
            "type": "histogram2d"
           }
          ],
          "histogram2dcontour": [
           {
            "colorbar": {
             "outlinewidth": 0,
             "ticks": ""
            },
            "colorscale": [
             [
              0,
              "#0d0887"
             ],
             [
              0.1111111111111111,
              "#46039f"
             ],
             [
              0.2222222222222222,
              "#7201a8"
             ],
             [
              0.3333333333333333,
              "#9c179e"
             ],
             [
              0.4444444444444444,
              "#bd3786"
             ],
             [
              0.5555555555555556,
              "#d8576b"
             ],
             [
              0.6666666666666666,
              "#ed7953"
             ],
             [
              0.7777777777777778,
              "#fb9f3a"
             ],
             [
              0.8888888888888888,
              "#fdca26"
             ],
             [
              1,
              "#f0f921"
             ]
            ],
            "type": "histogram2dcontour"
           }
          ],
          "mesh3d": [
           {
            "colorbar": {
             "outlinewidth": 0,
             "ticks": ""
            },
            "type": "mesh3d"
           }
          ],
          "parcoords": [
           {
            "line": {
             "colorbar": {
              "outlinewidth": 0,
              "ticks": ""
             }
            },
            "type": "parcoords"
           }
          ],
          "pie": [
           {
            "automargin": true,
            "type": "pie"
           }
          ],
          "scatter": [
           {
            "fillpattern": {
             "fillmode": "overlay",
             "size": 10,
             "solidity": 0.2
            },
            "type": "scatter"
           }
          ],
          "scatter3d": [
           {
            "line": {
             "colorbar": {
              "outlinewidth": 0,
              "ticks": ""
             }
            },
            "marker": {
             "colorbar": {
              "outlinewidth": 0,
              "ticks": ""
             }
            },
            "type": "scatter3d"
           }
          ],
          "scattercarpet": [
           {
            "marker": {
             "colorbar": {
              "outlinewidth": 0,
              "ticks": ""
             }
            },
            "type": "scattercarpet"
           }
          ],
          "scattergeo": [
           {
            "marker": {
             "colorbar": {
              "outlinewidth": 0,
              "ticks": ""
             }
            },
            "type": "scattergeo"
           }
          ],
          "scattergl": [
           {
            "marker": {
             "colorbar": {
              "outlinewidth": 0,
              "ticks": ""
             }
            },
            "type": "scattergl"
           }
          ],
          "scattermapbox": [
           {
            "marker": {
             "colorbar": {
              "outlinewidth": 0,
              "ticks": ""
             }
            },
            "type": "scattermapbox"
           }
          ],
          "scatterpolar": [
           {
            "marker": {
             "colorbar": {
              "outlinewidth": 0,
              "ticks": ""
             }
            },
            "type": "scatterpolar"
           }
          ],
          "scatterpolargl": [
           {
            "marker": {
             "colorbar": {
              "outlinewidth": 0,
              "ticks": ""
             }
            },
            "type": "scatterpolargl"
           }
          ],
          "scatterternary": [
           {
            "marker": {
             "colorbar": {
              "outlinewidth": 0,
              "ticks": ""
             }
            },
            "type": "scatterternary"
           }
          ],
          "surface": [
           {
            "colorbar": {
             "outlinewidth": 0,
             "ticks": ""
            },
            "colorscale": [
             [
              0,
              "#0d0887"
             ],
             [
              0.1111111111111111,
              "#46039f"
             ],
             [
              0.2222222222222222,
              "#7201a8"
             ],
             [
              0.3333333333333333,
              "#9c179e"
             ],
             [
              0.4444444444444444,
              "#bd3786"
             ],
             [
              0.5555555555555556,
              "#d8576b"
             ],
             [
              0.6666666666666666,
              "#ed7953"
             ],
             [
              0.7777777777777778,
              "#fb9f3a"
             ],
             [
              0.8888888888888888,
              "#fdca26"
             ],
             [
              1,
              "#f0f921"
             ]
            ],
            "type": "surface"
           }
          ],
          "table": [
           {
            "cells": {
             "fill": {
              "color": "#EBF0F8"
             },
             "line": {
              "color": "white"
             }
            },
            "header": {
             "fill": {
              "color": "#C8D4E3"
             },
             "line": {
              "color": "white"
             }
            },
            "type": "table"
           }
          ]
         },
         "layout": {
          "annotationdefaults": {
           "arrowcolor": "#2a3f5f",
           "arrowhead": 0,
           "arrowwidth": 1
          },
          "autotypenumbers": "strict",
          "coloraxis": {
           "colorbar": {
            "outlinewidth": 0,
            "ticks": ""
           }
          },
          "colorscale": {
           "diverging": [
            [
             0,
             "#8e0152"
            ],
            [
             0.1,
             "#c51b7d"
            ],
            [
             0.2,
             "#de77ae"
            ],
            [
             0.3,
             "#f1b6da"
            ],
            [
             0.4,
             "#fde0ef"
            ],
            [
             0.5,
             "#f7f7f7"
            ],
            [
             0.6,
             "#e6f5d0"
            ],
            [
             0.7,
             "#b8e186"
            ],
            [
             0.8,
             "#7fbc41"
            ],
            [
             0.9,
             "#4d9221"
            ],
            [
             1,
             "#276419"
            ]
           ],
           "sequential": [
            [
             0,
             "#0d0887"
            ],
            [
             0.1111111111111111,
             "#46039f"
            ],
            [
             0.2222222222222222,
             "#7201a8"
            ],
            [
             0.3333333333333333,
             "#9c179e"
            ],
            [
             0.4444444444444444,
             "#bd3786"
            ],
            [
             0.5555555555555556,
             "#d8576b"
            ],
            [
             0.6666666666666666,
             "#ed7953"
            ],
            [
             0.7777777777777778,
             "#fb9f3a"
            ],
            [
             0.8888888888888888,
             "#fdca26"
            ],
            [
             1,
             "#f0f921"
            ]
           ],
           "sequentialminus": [
            [
             0,
             "#0d0887"
            ],
            [
             0.1111111111111111,
             "#46039f"
            ],
            [
             0.2222222222222222,
             "#7201a8"
            ],
            [
             0.3333333333333333,
             "#9c179e"
            ],
            [
             0.4444444444444444,
             "#bd3786"
            ],
            [
             0.5555555555555556,
             "#d8576b"
            ],
            [
             0.6666666666666666,
             "#ed7953"
            ],
            [
             0.7777777777777778,
             "#fb9f3a"
            ],
            [
             0.8888888888888888,
             "#fdca26"
            ],
            [
             1,
             "#f0f921"
            ]
           ]
          },
          "colorway": [
           "#636efa",
           "#EF553B",
           "#00cc96",
           "#ab63fa",
           "#FFA15A",
           "#19d3f3",
           "#FF6692",
           "#B6E880",
           "#FF97FF",
           "#FECB52"
          ],
          "font": {
           "color": "#2a3f5f"
          },
          "geo": {
           "bgcolor": "white",
           "lakecolor": "white",
           "landcolor": "#E5ECF6",
           "showlakes": true,
           "showland": true,
           "subunitcolor": "white"
          },
          "hoverlabel": {
           "align": "left"
          },
          "hovermode": "closest",
          "mapbox": {
           "style": "light"
          },
          "paper_bgcolor": "white",
          "plot_bgcolor": "#E5ECF6",
          "polar": {
           "angularaxis": {
            "gridcolor": "white",
            "linecolor": "white",
            "ticks": ""
           },
           "bgcolor": "#E5ECF6",
           "radialaxis": {
            "gridcolor": "white",
            "linecolor": "white",
            "ticks": ""
           }
          },
          "scene": {
           "xaxis": {
            "backgroundcolor": "#E5ECF6",
            "gridcolor": "white",
            "gridwidth": 2,
            "linecolor": "white",
            "showbackground": true,
            "ticks": "",
            "zerolinecolor": "white"
           },
           "yaxis": {
            "backgroundcolor": "#E5ECF6",
            "gridcolor": "white",
            "gridwidth": 2,
            "linecolor": "white",
            "showbackground": true,
            "ticks": "",
            "zerolinecolor": "white"
           },
           "zaxis": {
            "backgroundcolor": "#E5ECF6",
            "gridcolor": "white",
            "gridwidth": 2,
            "linecolor": "white",
            "showbackground": true,
            "ticks": "",
            "zerolinecolor": "white"
           }
          },
          "shapedefaults": {
           "line": {
            "color": "#2a3f5f"
           }
          },
          "ternary": {
           "aaxis": {
            "gridcolor": "white",
            "linecolor": "white",
            "ticks": ""
           },
           "baxis": {
            "gridcolor": "white",
            "linecolor": "white",
            "ticks": ""
           },
           "bgcolor": "#E5ECF6",
           "caxis": {
            "gridcolor": "white",
            "linecolor": "white",
            "ticks": ""
           }
          },
          "title": {
           "x": 0.05
          },
          "xaxis": {
           "automargin": true,
           "gridcolor": "white",
           "linecolor": "white",
           "ticks": "",
           "title": {
            "standoff": 15
           },
           "zerolinecolor": "white",
           "zerolinewidth": 2
          },
          "yaxis": {
           "automargin": true,
           "gridcolor": "white",
           "linecolor": "white",
           "ticks": "",
           "title": {
            "standoff": 15
           },
           "zerolinecolor": "white",
           "zerolinewidth": 2
          }
         }
        },
        "xaxis": {
         "anchor": "y",
         "domain": [
          0,
          0.98
         ],
         "title": {
          "text": "payload_size"
         }
        },
        "yaxis": {
         "anchor": "x",
         "domain": [
          0,
          1
         ],
         "title": {
          "text": "mWb_rel"
         }
        }
       }
      }
     },
     "metadata": {},
     "output_type": "display_data"
    }
   ],
   "source": [
    "btp_energy_df = energy_df[energy_df[\"flood\"] == False]\n",
    "\n",
    "fig = px.bar(\n",
    "    btp_energy_df,\n",
    "    x=\"payload_size\",\n",
    "    y=\"mWb_rel\",\n",
    "    color=\"frame_type\",\n",
    "    facet_col=\"unchanged_counter\",\n",
    "    facet_row=\"source_id\"\n",
    ")\n",
    "fig"
   ]
  },
  {
   "cell_type": "markdown",
   "metadata": {},
   "source": [
    "# Strain on Individual Nodes"
   ]
  },
  {
   "cell_type": "code",
   "execution_count": 11,
   "metadata": {},
   "outputs": [
    {
     "name": "stderr",
     "output_type": "stream",
     "text": [
      "/var/folders/26/2pp7vp553ms3s26tctkklxzr0000gp/T/ipykernel_92047/1837664311.py:11: FutureWarning:\n",
      "\n",
      "Dropping invalid columns in DataFrameGroupBy.agg is deprecated. In a future version, a TypeError will be raised. Before calling .agg, select only columns which should be valid for the function.\n",
      "\n"
     ]
    }
   ],
   "source": [
    "def sort_groups(x):\n",
    "    sorted_x = x.sort_values(by=\"amount\", ascending=False)\n",
    "    sorted_x['sorted'] = range(len(sorted_x))\n",
    "    \n",
    "    return sorted_x\n",
    "\n",
    "# strain_df = df.drop(df[df[\"flood\"] == True].index)\n",
    "\n",
    "strain_df = df.groupby(EXPERIMENT_IDENTIFIER + [\"node_id\"])[\"mWb\"].sum().reset_index(name=\"amount\")\n",
    "\n",
    "strain_df = strain_df.groupby(EXPERIMENT_IDENTIFIER).agg(sort_groups).reset_index(drop=True)\n",
    "\n",
    "strain_df[\"normalized\"] = (strain_df[\"amount\"] - strain_df[\"amount\"].min()) / (strain_df[\"amount\"].max() - strain_df[\"amount\"].min())"
   ]
  },
  {
   "cell_type": "code",
   "execution_count": 13,
   "metadata": {},
   "outputs": [
    {
     "data": {
      "application/vnd.plotly.v1+json": {
       "config": {
        "plotlyServerURL": "https://plot.ly"
       },
       "data": [
        {
         "hovertemplate": "flood=False<br>payload_size=1K<br>source_id=80<br>iteration=0<br>sorted=%{x}<br>normalized=%{y}<extra></extra>",
         "legendgroup": "False, 1K",
         "line": {
          "color": "#636efa",
          "dash": "solid"
         },
         "marker": {
          "symbol": "circle"
         },
         "mode": "lines",
         "name": "False, 1K",
         "orientation": "v",
         "showlegend": true,
         "type": "scatter",
         "x": [
          0,
          1,
          2,
          3,
          4,
          5,
          6,
          7,
          8,
          9,
          10,
          11,
          12,
          13,
          14,
          15,
          16,
          17,
          18,
          19,
          20,
          21,
          22,
          23,
          24,
          25,
          26,
          27,
          28,
          29,
          30,
          31,
          32,
          33,
          34,
          35,
          36,
          37,
          38,
          39,
          40,
          41,
          42,
          43,
          44,
          45,
          46,
          47,
          48,
          49,
          50,
          51,
          52,
          53,
          54,
          55,
          56,
          57,
          58,
          59,
          60,
          61,
          62,
          63,
          64,
          65,
          66,
          67,
          68,
          69,
          70,
          71,
          72,
          73,
          74,
          75
         ],
         "xaxis": "x",
         "y": [
          0.4242149483691044,
          0.22042662145602268,
          0.18645288238365423,
          0.18414168212279486,
          0.11994516931943157,
          0.11904165086184149,
          0.11206551780178195,
          0.10605764280961635,
          0.10218779888114396,
          0.0720765826486975,
          0.057870051747663895,
          0.04109022431287999,
          0.04107486210299458,
          0.03560238859701222,
          0.030540109004741856,
          0.02585148101536404,
          0.02281616976312982,
          0.022127137805333756,
          0.02104963009585034,
          0.01875014022738199,
          0.01782508712228682,
          0.017411081769144136,
          0.015030224498734897,
          0.014783595519606462,
          0.014572961959020778,
          0.014537527750402384,
          0.014449058191228456,
          0.014415525264506079,
          0.014354201889732698,
          0.014298173491782603,
          0.014291634900588875,
          0.014241170632972469,
          0.014214780249781588,
          0.014201413897651305,
          0.014181590737857587,
          0.014145058665756518,
          0.014114041266151053,
          0.014109986062519708,
          0.01409305540431474,
          0.014034052867903308,
          0.014031607713596971,
          0.014029826966297898,
          0.014009839707695319,
          0.013984972995591408,
          0.013955058439504698,
          0.013947413779874275,
          0.013923116858993993,
          0.013918781511754217,
          0.013910198760202643,
          0.013904386106106897,
          0.013888537303876293,
          0.01382676919411582,
          0.013796565432711544,
          0.013752377471681152,
          0.013699194823560724,
          0.013668274422556047,
          0.013664876729768719,
          0.013650434830445481,
          0.013627142909612703,
          0.013551454939050874,
          0.013519780988759644,
          0.01351225947910921,
          0.013489280026772604,
          0.01343327226998913,
          0.013194197794256604,
          0.012674866080380362,
          0.011918329347791662,
          0.00888217567366163,
          0.008418097751986452,
          0.00791795983052663,
          0.006878044521232822,
          0.006355161552015062,
          0.005689708238036738,
          0.00421495363931868,
          0.003199090706399644,
          0
         ],
         "yaxis": "y"
        },
        {
         "hovertemplate": "flood=False<br>payload_size=1K<br>source_id=80<br>iteration=1<br>sorted=%{x}<br>normalized=%{y}<extra></extra>",
         "legendgroup": "False, 1K",
         "line": {
          "color": "#636efa",
          "dash": "solid"
         },
         "marker": {
          "symbol": "circle"
         },
         "mode": "lines",
         "name": "False, 1K",
         "orientation": "v",
         "showlegend": false,
         "type": "scatter",
         "x": [
          0,
          1,
          2,
          3,
          4,
          5,
          6,
          7,
          8,
          9,
          10,
          11,
          12,
          13,
          14,
          15,
          16,
          17,
          18,
          19,
          20,
          21,
          22,
          23,
          24,
          25,
          26,
          27,
          28,
          29,
          30,
          31,
          32,
          33,
          34,
          35,
          36,
          37,
          38,
          39,
          40,
          41,
          42,
          43,
          44,
          45,
          46,
          47,
          48,
          49,
          50,
          51,
          52,
          53,
          54,
          55,
          56,
          57,
          58,
          59,
          60,
          61,
          62,
          63,
          64,
          65,
          66,
          67,
          68,
          69,
          70,
          71,
          72,
          73,
          74,
          75
         ],
         "xaxis": "x2",
         "y": [
          0.9886552776081508,
          0.4267539743206757,
          0.3885854920248867,
          0.24559551058999787,
          0.22496767386196945,
          0.20595390594583332,
          0.10888500788783123,
          0.07323455977626135,
          0.06873229263752464,
          0.06245588425233513,
          0.054380822075346176,
          0.03903383027197058,
          0.03817979292552804,
          0.03732301803850595,
          0.03651864002385141,
          0.02954969820714212,
          0.029487599621760122,
          0.025352689515997978,
          0.018606852400809608,
          0.017254980395027448,
          0.016771636013648394,
          0.01665653727222421,
          0.015299742736049855,
          0.015066461107580125,
          0.014905016042476047,
          0.014897728224560598,
          0.014836769481011383,
          0.014756890493448346,
          0.014652068878758823,
          0.014648516517340454,
          0.014579371865419386,
          0.014574766953622902,
          0.014562722225519987,
          0.014500508898884427,
          0.014482298531631084,
          0.014470275181729497,
          0.014394361914402548,
          0.01438467298358325,
          0.014344676792690879,
          0.014335800474410621,
          0.01425437439258683,
          0.014238540916891858,
          0.014220915746670474,
          0.014194263291510944,
          0.014166100522612366,
          0.014151710838191433,
          0.014098191814856019,
          0.014030433176489178,
          0.01402339877891711,
          0.013986864819654433,
          0.013952335250702498,
          0.013864101844384198,
          0.013858464837923872,
          0.013529651559263481,
          0.013444741760582399,
          0.01322836226384686,
          0.012982840242845368,
          0.012879287058481884,
          0.012771971621573898,
          0.012543034097310252,
          0.01189778742608908,
          0.011510524909993254,
          0.011060891831116665,
          0.010771946196064756,
          0.009699345227386438,
          0.009345736178695345,
          0.00856014069666892,
          0.008413743140122021,
          0.004695482372923647,
          0.0032365464208870707,
          0.0025404330798706495,
          0.0018486499224986172,
          0.0010535615565768742,
          0.0008599558128148958,
          0.0006148124882298797,
          0
         ],
         "yaxis": "y2"
        },
        {
         "hovertemplate": "flood=False<br>payload_size=1K<br>source_id=80<br>iteration=2<br>sorted=%{x}<br>normalized=%{y}<extra></extra>",
         "legendgroup": "False, 1K",
         "line": {
          "color": "#636efa",
          "dash": "solid"
         },
         "marker": {
          "symbol": "circle"
         },
         "mode": "lines",
         "name": "False, 1K",
         "orientation": "v",
         "showlegend": false,
         "type": "scatter",
         "x": [
          0,
          1,
          2,
          3,
          4,
          5,
          6,
          7,
          8,
          9,
          10,
          11,
          12,
          13,
          14,
          15,
          16,
          17,
          18,
          19,
          20,
          21,
          22,
          23,
          24,
          25,
          26,
          27,
          28,
          29,
          30,
          31,
          32,
          33,
          34,
          35,
          36,
          37,
          38,
          39,
          40,
          41,
          42,
          43,
          44,
          45,
          46,
          47,
          48,
          49,
          50,
          51,
          52,
          53,
          54,
          55,
          56,
          57,
          58,
          59,
          60,
          61,
          62,
          63,
          64,
          65,
          66,
          67,
          68,
          69,
          70,
          71,
          72,
          73,
          74,
          75
         ],
         "xaxis": "x3",
         "y": [
          0.5006470595044901,
          0.15774079110782382,
          0.1311592512110014,
          0.07465919999770802,
          0.07320919927649357,
          0.07230031657070285,
          0.0706083714711583,
          0.0611441680951702,
          0.04946241829310403,
          0.04914481614027321,
          0.039653893665029936,
          0.03341100960706271,
          0.03176225900324805,
          0.029560468853388505,
          0.02135479831761362,
          0.020894960601558852,
          0.016084094298691037,
          0.01528321171361381,
          0.015055771801064282,
          0.014482458499414598,
          0.014419578705441577,
          0.01440716402402964,
          0.014245584549440492,
          0.014116891078546214,
          0.014041478956802767,
          0.014029263255264502,
          0.014018740157654117,
          0.014004110269368751,
          0.014002500187134182,
          0.013955780518226659,
          0.013940666405404145,
          0.013896116647941152,
          0.01381701167810937,
          0.013812892976365041,
          0.013795580017620383,
          0.013770267227134484,
          0.013765961441402663,
          0.013722617603867185,
          0.013685210658048978,
          0.013564113968694728,
          0.013563452291793626,
          0.013500688347626898,
          0.013466912628460502,
          0.013432206330579401,
          0.013347679878301811,
          0.013346383262456924,
          0.013245332913648204,
          0.013211229673766494,
          0.013095867199967923,
          0.013010800293503686,
          0.012972563200769296,
          0.012847697513608243,
          0.012726438938820464,
          0.01263988586930676,
          0.012597383982531244,
          0.01208408322902683,
          0.011886907066764357,
          0.011222785685671512,
          0.01118113532192304,
          0.010388013690205205,
          0.009742969145375476,
          0.009449065005443342,
          0.009378918863270223,
          0.008606818793364536,
          0.0077538088972500556,
          0.0061098123477036255,
          0.004641859323524685,
          0.0029006843923141757,
          0.002509690792155768,
          0.0019344179514899685,
          0.0018154817824460612,
          0.0017599122920269059,
          0.001192614783518364,
          0.0011893172474744809,
          0.0010321878932187127,
          0
         ],
         "yaxis": "y3"
        },
        {
         "hovertemplate": "flood=False<br>payload_size=1K<br>source_id=80<br>iteration=3<br>sorted=%{x}<br>normalized=%{y}<extra></extra>",
         "legendgroup": "False, 1K",
         "line": {
          "color": "#636efa",
          "dash": "solid"
         },
         "marker": {
          "symbol": "circle"
         },
         "mode": "lines",
         "name": "False, 1K",
         "orientation": "v",
         "showlegend": false,
         "type": "scatter",
         "x": [
          0,
          1,
          2,
          3,
          4,
          5,
          6,
          7,
          8,
          9,
          10,
          11,
          12,
          13,
          14,
          15,
          16,
          17,
          18,
          19,
          20,
          21,
          22,
          23,
          24,
          25,
          26,
          27,
          28,
          29,
          30,
          31,
          32,
          33,
          34,
          35,
          36,
          37,
          38,
          39,
          40,
          41,
          42,
          43,
          44,
          45,
          46,
          47,
          48,
          49,
          50,
          51,
          52,
          53,
          54,
          55,
          56,
          57,
          58,
          59,
          60,
          61,
          62,
          63,
          64,
          65,
          66,
          67,
          68,
          69,
          70,
          71,
          72,
          73,
          74,
          75
         ],
         "xaxis": "x4",
         "y": [
          0.13057746125578726,
          0.10954529946664242,
          0.09125460462263446,
          0.08671753598210262,
          0.08405976792583236,
          0.0665069724084925,
          0.059281034353840696,
          0.047338911752292184,
          0.04291934695180415,
          0.03975869548914576,
          0.03946097417548899,
          0.03389835055428168,
          0.02283143623898803,
          0.01910513810571618,
          0.018601177852265317,
          0.018351235757142818,
          0.01827251260399769,
          0.017221826815050672,
          0.017207115116411705,
          0.01611778758473695,
          0.01507482717210755,
          0.014771569214021512,
          0.014741675454829383,
          0.014717510177819576,
          0.014656112684820944,
          0.014586247268418756,
          0.014576010956646098,
          0.014549226546529775,
          0.014543158648504997,
          0.014478976110156971,
          0.014424125275453153,
          0.014345819223064637,
          0.014335329973318609,
          0.014318874089349641,
          0.014291531569847754,
          0.014259630346798093,
          0.014236146304850813,
          0.014229842717618459,
          0.0142255596449834,
          0.014182768119868785,
          0.014176350610024863,
          0.01407994347544655,
          0.014061390228771039,
          0.013956937728612173,
          0.013896281259391017,
          0.013855090707576269,
          0.013847645848008674,
          0.013836702757361333,
          0.013759453447102702,
          0.013677695095317341,
          0.013649124039958339,
          0.013566376131232842,
          0.013449167314615006,
          0.013293668173753503,
          0.013232220586224135,
          0.01312991550626736,
          0.012963923970046216,
          0.012643787806696455,
          0.012529206077337313,
          0.012347910794735984,
          0.011860809072144096,
          0.011592443150245357,
          0.00904953407428347,
          0.008398833124236353,
          0.007525629023083919,
          0.0067993057654971685,
          0.006172631797564261,
          0.004614513957043148,
          0.0042016625878102745,
          0.003287960501253934,
          0.0014294727054606445,
          0.0008575853841292439,
          0.000606613297841844,
          0.00029827165123264026,
          0.0002459644061502401,
          0
         ],
         "yaxis": "y4"
        },
        {
         "hovertemplate": "flood=False<br>payload_size=1K<br>source_id=80<br>iteration=4<br>sorted=%{x}<br>normalized=%{y}<extra></extra>",
         "legendgroup": "False, 1K",
         "line": {
          "color": "#636efa",
          "dash": "solid"
         },
         "marker": {
          "symbol": "circle"
         },
         "mode": "lines",
         "name": "False, 1K",
         "orientation": "v",
         "showlegend": false,
         "type": "scatter",
         "x": [
          0,
          1,
          2,
          3,
          4,
          5,
          6,
          7,
          8,
          9,
          10,
          11,
          12,
          13,
          14,
          15,
          16,
          17,
          18,
          19,
          20,
          21,
          22,
          23,
          24,
          25,
          26,
          27,
          28,
          29,
          30,
          31,
          32,
          33,
          34,
          35,
          36,
          37,
          38,
          39,
          40,
          41,
          42,
          43,
          44,
          45,
          46,
          47,
          48,
          49,
          50,
          51,
          52,
          53,
          54,
          55,
          56,
          57,
          58,
          59,
          60,
          61,
          62,
          63,
          64,
          65,
          66,
          67,
          68,
          69,
          70,
          71,
          72,
          73,
          74,
          75
         ],
         "xaxis": "x5",
         "y": [
          0.23885840312930853,
          0.20110184735704595,
          0.12883228914511582,
          0.11391368381408201,
          0.06436931496666158,
          0.041258465791088925,
          0.04060494993113199,
          0.04056037587720019,
          0.03767277150836777,
          0.026568705809046987,
          0.024461177781181127,
          0.02241553301318816,
          0.01628455179509979,
          0.01489245337150437,
          0.014744603253983787,
          0.01463765915746751,
          0.014621178601621333,
          0.014565227138706107,
          0.014520426008209537,
          0.0144792214768029,
          0.014475188986094444,
          0.014436706345521567,
          0.014436602245433212,
          0.014431798561844483,
          0.014394954555224318,
          0.014376894994634582,
          0.0143688015291811,
          0.01432975616985864,
          0.014268170801364808,
          0.014258346481918774,
          0.014189342895595527,
          0.0141844859140567,
          0.01417854286927708,
          0.014159764337306152,
          0.01414793162908407,
          0.01414295014373276,
          0.014093229223074053,
          0.014091761265745923,
          0.014053401976325685,
          0.014031545956877075,
          0.014028392183161632,
          0.013951507867204668,
          0.013934622968393593,
          0.013931661837996092,
          0.013922258074607879,
          0.013875818115838304,
          0.013850796814654958,
          0.013849239382656142,
          0.013841680868237281,
          0.013809528415641478,
          0.013613686636121206,
          0.013560841068623044,
          0.01346072538516979,
          0.013401178921058826,
          0.013363162778643054,
          0.013238311596643886,
          0.013225954225879247,
          0.013125432284784577,
          0.013055060658596832,
          0.01302278233140705,
          0.01260334705550627,
          0.012560614354807587,
          0.012218591588983457,
          0.012085898648677134,
          0.011083393203452616,
          0.01036940230623768,
          0.008554012137681623,
          0.008149345808976171,
          0.006933454701823306,
          0.00648902246326534,
          0.004500645789641804,
          0.002524188787028148,
          0.0024597995053137513,
          0.002100998878919314,
          0.0019455362242535178,
          0
         ],
         "yaxis": "y5"
        },
        {
         "hovertemplate": "flood=False<br>payload_size=1K<br>source_id=80<br>iteration=5<br>sorted=%{x}<br>normalized=%{y}<extra></extra>",
         "legendgroup": "False, 1K",
         "line": {
          "color": "#636efa",
          "dash": "solid"
         },
         "marker": {
          "symbol": "circle"
         },
         "mode": "lines",
         "name": "False, 1K",
         "orientation": "v",
         "showlegend": false,
         "type": "scatter",
         "x": [
          0,
          1,
          2,
          3,
          4,
          5,
          6,
          7,
          8,
          9,
          10,
          11,
          12,
          13,
          14,
          15,
          16,
          17,
          18,
          19,
          20,
          21,
          22,
          23,
          24,
          25,
          26,
          27,
          28,
          29,
          30,
          31,
          32,
          33,
          34,
          35,
          36,
          37,
          38,
          39,
          40,
          41,
          42,
          43,
          44,
          45,
          46,
          47,
          48,
          49,
          50,
          51,
          52,
          53,
          54,
          55,
          56,
          57,
          58,
          59,
          60,
          61,
          62,
          63,
          64,
          65,
          66,
          67,
          68,
          69,
          70,
          71,
          72,
          73,
          74,
          75
         ],
         "xaxis": "x6",
         "y": [
          0.5971953138914474,
          0.4394257976219445,
          0.32441410064026893,
          0.18902590414703124,
          0.16480885976291898,
          0.1602143747203138,
          0.12711428448630666,
          0.08473991828912612,
          0.07775342880316641,
          0.07459708330861783,
          0.06383509782961641,
          0.0622342024692526,
          0.05540029873495496,
          0.05452153723509496,
          0.05133223765764739,
          0.047574340502694025,
          0.04522990986434612,
          0.03983491371171053,
          0.03167682304114544,
          0.03149158797885231,
          0.025151503986051697,
          0.023530876508973904,
          0.021591001621633465,
          0.01906368799305723,
          0.01818333093466709,
          0.017294287428312603,
          0.01628436807831783,
          0.016131365749069492,
          0.01612797096849544,
          0.014917888470626257,
          0.01489928620140843,
          0.014675653916715572,
          0.014587043325141344,
          0.014583486337669328,
          0.014576527202939704,
          0.014470446066909682,
          0.014437203746913908,
          0.014384454062453476,
          0.01425206345209098,
          0.014171123969122273,
          0.014134168558022943,
          0.014057583303395604,
          0.014016392469335491,
          0.013858634631078321,
          0.013806889423068453,
          0.013756613022171769,
          0.013747189469703106,
          0.013737643174047427,
          0.013568395943460052,
          0.013469157967102826,
          0.013440565291266065,
          0.013425014849511554,
          0.013383512573407155,
          0.013336194333565162,
          0.013230624307074413,
          0.012664001576419219,
          0.012661505871047639,
          0.012547216399032045,
          0.012509217223806827,
          0.012417720180609684,
          0.012031282115774727,
          0.011496231350368685,
          0.010699423384630424,
          0.010500542622643516,
          0.010488624963574998,
          0.009127336684588332,
          0.007638098345473183,
          0.0019872910513589036,
          0.0011966746233943594,
          0.0007761389587363076,
          0.0004846219579701966,
          0.0004576253819720106,
          0.00043899629707066075,
          0.00041524395941595107,
          0.0003490861733439897,
          0
         ],
         "yaxis": "y6"
        },
        {
         "hovertemplate": "flood=False<br>payload_size=1K<br>source_id=80<br>iteration=6<br>sorted=%{x}<br>normalized=%{y}<extra></extra>",
         "legendgroup": "False, 1K",
         "line": {
          "color": "#636efa",
          "dash": "solid"
         },
         "marker": {
          "symbol": "circle"
         },
         "mode": "lines",
         "name": "False, 1K",
         "orientation": "v",
         "showlegend": false,
         "type": "scatter",
         "x": [
          0,
          1,
          2,
          3,
          4,
          5,
          6,
          7,
          8,
          9,
          10,
          11,
          12,
          13,
          14,
          15,
          16,
          17,
          18,
          19,
          20,
          21,
          22,
          23,
          24,
          25,
          26,
          27,
          28,
          29,
          30,
          31,
          32,
          33,
          34,
          35,
          36,
          37,
          38,
          39,
          40,
          41,
          42,
          43,
          44,
          45,
          46,
          47,
          48,
          49,
          50,
          51,
          52,
          53,
          54,
          55,
          56,
          57,
          58,
          59,
          60,
          61,
          62,
          63,
          64,
          65,
          66,
          67,
          68,
          69,
          70,
          71,
          72,
          73,
          74,
          75
         ],
         "xaxis": "x7",
         "y": [
          0.3852413320074127,
          0.18467380586760004,
          0.16280959506167722,
          0.1295219579874394,
          0.11582541159681171,
          0.08310564385025103,
          0.08277923978484307,
          0.081563959376798,
          0.0608813547979272,
          0.053700434792510986,
          0.052365827810455595,
          0.04460173617968874,
          0.04357270599122747,
          0.03642354989655096,
          0.035685155600839576,
          0.02853264955075238,
          0.024919205949156323,
          0.022076356052381247,
          0.021309803438175186,
          0.01715270042553759,
          0.01491660508239938,
          0.014847899067452094,
          0.014768504226734862,
          0.014620631863362668,
          0.014464552165046236,
          0.014404217925838337,
          0.014395928063814002,
          0.01435190908753529,
          0.014279626612268361,
          0.014271015286560737,
          0.014125170038307806,
          0.013961323829010405,
          0.013930494748347773,
          0.013889886351336117,
          0.01388751921161072,
          0.013825703733159918,
          0.01378568191656148,
          0.013644045897694612,
          0.013558416101033149,
          0.01350938396476735,
          0.01344642513506633,
          0.013419784869498434,
          0.013419400490426095,
          0.013419135828348317,
          0.013395880926697204,
          0.01337949538315301,
          0.013364966373508832,
          0.013320941243673381,
          0.01319398338649319,
          0.013136764348123199,
          0.01312379278119262,
          0.013073367883014414,
          0.013070862803170194,
          0.013065197697606676,
          0.013056341044102096,
          0.01299794954247028,
          0.012959318455734925,
          0.012930081020206667,
          0.012920381092167072,
          0.012889989753046208,
          0.012721609560598967,
          0.012704616450854007,
          0.011774414028860482,
          0.011194589790089802,
          0.010605411047625572,
          0.009595645205338968,
          0.008509167740680876,
          0.008339720217980347,
          0.007736131703420372,
          0.007676550903426226,
          0.007605757888784692,
          0.007591933307533048,
          0.007186262697292496,
          0.003934988104389836,
          0.00018160317586298375,
          0
         ],
         "yaxis": "y7"
        },
        {
         "hovertemplate": "flood=False<br>payload_size=1K<br>source_id=80<br>iteration=7<br>sorted=%{x}<br>normalized=%{y}<extra></extra>",
         "legendgroup": "False, 1K",
         "line": {
          "color": "#636efa",
          "dash": "solid"
         },
         "marker": {
          "symbol": "circle"
         },
         "mode": "lines",
         "name": "False, 1K",
         "orientation": "v",
         "showlegend": false,
         "type": "scatter",
         "x": [
          0,
          1,
          2,
          3,
          4,
          5,
          6,
          7,
          8,
          9,
          10,
          11,
          12,
          13,
          14,
          15,
          16,
          17,
          18,
          19,
          20,
          21,
          22,
          23,
          24,
          25,
          26,
          27,
          28,
          29,
          30,
          31,
          32,
          33,
          34,
          35,
          36,
          37,
          38,
          39,
          40,
          41,
          42,
          43,
          44,
          45,
          46,
          47,
          48,
          49,
          50,
          51,
          52,
          53,
          54,
          55,
          56,
          57,
          58,
          59,
          60,
          61,
          62,
          63,
          64,
          65,
          66,
          67,
          68,
          69,
          70,
          71,
          72,
          73,
          74
         ],
         "xaxis": "x8",
         "y": [
          0.5044523130400902,
          0.3579371204074112,
          0.2834812636583111,
          0.24587055363352484,
          0.22197933792273397,
          0.1671147931249482,
          0.1538062580651208,
          0.1322341135120998,
          0.10039231136427049,
          0.0900740050417681,
          0.0884085972143515,
          0.07731581003422267,
          0.058276009495986617,
          0.03519951615027522,
          0.02757331003539526,
          0.02134843366047562,
          0.01835546121270957,
          0.01761491379271342,
          0.015994473594571033,
          0.015784610362588245,
          0.015437284174473053,
          0.015366981496622493,
          0.014881909873185436,
          0.014625541928906433,
          0.01440889172004558,
          0.014401430713837563,
          0.014389640082143404,
          0.0142936430324319,
          0.014237623866191798,
          0.014215667429623905,
          0.014088206842142549,
          0.014005095815279063,
          0.013973066852112555,
          0.013954219579623086,
          0.013954007666675193,
          0.013880207231993952,
          0.013836830298719096,
          0.013823080054288938,
          0.013820122720637106,
          0.013663140369266287,
          0.013620619738761329,
          0.013583452397867802,
          0.01354488821004955,
          0.013340534851727997,
          0.01330689854904414,
          0.0131602289500563,
          0.013147675030095448,
          0.012836512693892925,
          0.012720914644532344,
          0.012528013444072467,
          0.012455139958009946,
          0.012025602123397101,
          0.01177179233172284,
          0.011633001292373706,
          0.009981178610359659,
          0.008972643883223897,
          0.00885601908872115,
          0.008504021491588897,
          0.007432724650509838,
          0.0068250199912370055,
          0.006130418599599389,
          0.0060881349271852845,
          0.00571344382901653,
          0.005667075314497428,
          0.004665545706345393,
          0.003487837071283888,
          0.00338126967006337,
          0.0026815704532819297,
          0.0022460654923061856,
          0.0021496073028520195,
          0.001278745605502969,
          0.001262279003545778,
          0.0005897862693839441,
          0.00018575296029851575,
          0
         ],
         "yaxis": "y8"
        },
        {
         "hovertemplate": "flood=False<br>payload_size=1K<br>source_id=80<br>iteration=8<br>sorted=%{x}<br>normalized=%{y}<extra></extra>",
         "legendgroup": "False, 1K",
         "line": {
          "color": "#636efa",
          "dash": "solid"
         },
         "marker": {
          "symbol": "circle"
         },
         "mode": "lines",
         "name": "False, 1K",
         "orientation": "v",
         "showlegend": false,
         "type": "scatter",
         "x": [
          0,
          1,
          2,
          3,
          4,
          5,
          6,
          7,
          8,
          9,
          10,
          11,
          12,
          13,
          14,
          15,
          16,
          17,
          18,
          19,
          20,
          21,
          22,
          23,
          24,
          25,
          26,
          27,
          28,
          29,
          30,
          31,
          32,
          33,
          34,
          35,
          36,
          37,
          38,
          39,
          40,
          41,
          42,
          43,
          44,
          45,
          46,
          47,
          48,
          49,
          50,
          51,
          52,
          53,
          54,
          55,
          56,
          57,
          58,
          59,
          60,
          61,
          62,
          63,
          64,
          65,
          66,
          67,
          68,
          69,
          70,
          71,
          72,
          73,
          74,
          75
         ],
         "xaxis": "x9",
         "y": [
          1,
          0.5723002647220727,
          0.45666204593839343,
          0.2690932008567435,
          0.2517078159601413,
          0.19278864852863747,
          0.17613501938316442,
          0.1057217265349615,
          0.10366899038736957,
          0.08045730569960984,
          0.06181649214567616,
          0.052239483339449166,
          0.02204350331859088,
          0.021378809476075435,
          0.016490283358925457,
          0.01514638582484568,
          0.015063635152389128,
          0.014916219911336619,
          0.014717458246193197,
          0.014695172764880122,
          0.014657158662550525,
          0.014449735069049098,
          0.014423864790390479,
          0.01439569530115842,
          0.014334341770864251,
          0.014307775645358064,
          0.014278748197457012,
          0.014145063608358998,
          0.014042765140558883,
          0.014038227289096806,
          0.014032118198091572,
          0.014029109554334666,
          0.013962291265735003,
          0.013954258399455053,
          0.013923733906009568,
          0.013872680650390504,
          0.01385800391733099,
          0.013749668330171633,
          0.013738923619922802,
          0.013665299363546317,
          0.013599895733585613,
          0.01353373833903556,
          0.013475235145034039,
          0.013472429543614998,
          0.013469615146564756,
          0.01329685228246475,
          0.013279329124797701,
          0.012729869894298087,
          0.012591010152840426,
          0.012510874587232147,
          0.0123934205841909,
          0.011664218385610204,
          0.011166638504017553,
          0.010848081447930034,
          0.010402818009169208,
          0.009827677980804783,
          0.009693164865618824,
          0.008943858946789786,
          0.00805815244325405,
          0.007961105597092955,
          0.007860995270029906,
          0.00734815620007533,
          0.00722408414768933,
          0.007007437238743288,
          0.006816012155625619,
          0.005868971532370722,
          0.004775631998755524,
          0.004237602027520902,
          0.0035951572842783668,
          0.0023877234323075986,
          0.0019231687659013925,
          0.0018580935901836933,
          0.0007780611172889829,
          0.00032782113376861923,
          0.00031455867220885953,
          0
         ],
         "yaxis": "y9"
        },
        {
         "hovertemplate": "flood=False<br>payload_size=1K<br>source_id=80<br>iteration=9<br>sorted=%{x}<br>normalized=%{y}<extra></extra>",
         "legendgroup": "False, 1K",
         "line": {
          "color": "#636efa",
          "dash": "solid"
         },
         "marker": {
          "symbol": "circle"
         },
         "mode": "lines",
         "name": "False, 1K",
         "orientation": "v",
         "showlegend": false,
         "type": "scatter",
         "x": [
          0,
          1,
          2,
          3,
          4,
          5,
          6,
          7,
          8,
          9,
          10,
          11,
          12,
          13,
          14,
          15,
          16,
          17,
          18,
          19,
          20,
          21,
          22,
          23,
          24,
          25,
          26,
          27,
          28,
          29,
          30,
          31,
          32,
          33,
          34,
          35,
          36,
          37,
          38,
          39,
          40,
          41,
          42,
          43,
          44,
          45,
          46,
          47,
          48,
          49,
          50,
          51,
          52,
          53,
          54,
          55,
          56,
          57,
          58,
          59,
          60,
          61,
          62,
          63,
          64,
          65,
          66,
          67,
          68,
          69,
          70,
          71,
          72,
          73,
          74,
          75
         ],
         "xaxis": "x10",
         "y": [
          0.6389904013517406,
          0.5320734190352066,
          0.48805530971548094,
          0.4784253022517859,
          0.333377780970896,
          0.33096482205092026,
          0.32929493434767276,
          0.14620644472627783,
          0.11706200862052944,
          0.11508684485718332,
          0.11482833632450469,
          0.09226300776882636,
          0.08532001609552994,
          0.06804433261449348,
          0.039303032534829765,
          0.03344291660593812,
          0.031178986219770808,
          0.0282796149650413,
          0.02095199455974003,
          0.014989118427490357,
          0.014890847576618215,
          0.014688178429762111,
          0.01464812870428172,
          0.014642026832238291,
          0.01450487751014383,
          0.014488934011720588,
          0.014485190470832555,
          0.014465280272979634,
          0.014429503002616214,
          0.014407318171750283,
          0.014393389508933882,
          0.014351227894492485,
          0.014286694906781009,
          0.014269256462313848,
          0.014265079268847571,
          0.014151594335237666,
          0.014128081255135769,
          0.014102774103135193,
          0.014090103560752298,
          0.014075964407347109,
          0.014051182711727627,
          0.01399431199883241,
          0.013971047699364733,
          0.013946904227278442,
          0.013900383621879498,
          0.013880114498037116,
          0.013857543719489794,
          0.01384394165948826,
          0.013818226605860608,
          0.013721763636922416,
          0.013592688420971355,
          0.013424470450066945,
          0.013418368004185017,
          0.013372680872635651,
          0.013252523560914943,
          0.012811590982124203,
          0.012266447396638937,
          0.011469580603973328,
          0.011255221282448222,
          0.010701202000274858,
          0.010383214779887743,
          0.009858529560886464,
          0.009535850905779806,
          0.00953025039925352,
          0.008983857036688105,
          0.007454253595446044,
          0.007299894808216209,
          0.006895121290999815,
          0.00642834532814838,
          0.0063104298303939994,
          0.005640850100276499,
          0.0019942113063901486,
          0.0015707695774231161,
          0.0010131420330061346,
          0.00020559377624646826,
          0
         ],
         "yaxis": "y10"
        }
       ],
       "layout": {
        "annotations": [
         {
          "font": {},
          "showarrow": false,
          "text": "iteration=0",
          "x": 0.04000000000000001,
          "xanchor": "center",
          "xref": "paper",
          "y": 1,
          "yanchor": "bottom",
          "yref": "paper"
         },
         {
          "font": {},
          "showarrow": false,
          "text": "iteration=1",
          "x": 0.14000000000000004,
          "xanchor": "center",
          "xref": "paper",
          "y": 1,
          "yanchor": "bottom",
          "yref": "paper"
         },
         {
          "font": {},
          "showarrow": false,
          "text": "iteration=2",
          "x": 0.24000000000000005,
          "xanchor": "center",
          "xref": "paper",
          "y": 1,
          "yanchor": "bottom",
          "yref": "paper"
         },
         {
          "font": {},
          "showarrow": false,
          "text": "iteration=3",
          "x": 0.3400000000000001,
          "xanchor": "center",
          "xref": "paper",
          "y": 1,
          "yanchor": "bottom",
          "yref": "paper"
         },
         {
          "font": {},
          "showarrow": false,
          "text": "iteration=4",
          "x": 0.44000000000000006,
          "xanchor": "center",
          "xref": "paper",
          "y": 1,
          "yanchor": "bottom",
          "yref": "paper"
         },
         {
          "font": {},
          "showarrow": false,
          "text": "iteration=5",
          "x": 0.54,
          "xanchor": "center",
          "xref": "paper",
          "y": 1,
          "yanchor": "bottom",
          "yref": "paper"
         },
         {
          "font": {},
          "showarrow": false,
          "text": "iteration=6",
          "x": 0.6400000000000001,
          "xanchor": "center",
          "xref": "paper",
          "y": 1,
          "yanchor": "bottom",
          "yref": "paper"
         },
         {
          "font": {},
          "showarrow": false,
          "text": "iteration=7",
          "x": 0.74,
          "xanchor": "center",
          "xref": "paper",
          "y": 1,
          "yanchor": "bottom",
          "yref": "paper"
         },
         {
          "font": {},
          "showarrow": false,
          "text": "iteration=8",
          "x": 0.8400000000000001,
          "xanchor": "center",
          "xref": "paper",
          "y": 1,
          "yanchor": "bottom",
          "yref": "paper"
         },
         {
          "font": {},
          "showarrow": false,
          "text": "iteration=9",
          "x": 0.9400000000000002,
          "xanchor": "center",
          "xref": "paper",
          "y": 1,
          "yanchor": "bottom",
          "yref": "paper"
         },
         {
          "font": {},
          "showarrow": false,
          "text": "source_id=80",
          "textangle": 90,
          "x": 0.9800000000000002,
          "xanchor": "left",
          "xref": "paper",
          "y": 0.5,
          "yanchor": "middle",
          "yref": "paper"
         }
        ],
        "legend": {
         "title": {
          "text": "flood, payload_size"
         },
         "tracegroupgap": 0
        },
        "margin": {
         "t": 60
        },
        "template": {
         "data": {
          "bar": [
           {
            "error_x": {
             "color": "#2a3f5f"
            },
            "error_y": {
             "color": "#2a3f5f"
            },
            "marker": {
             "line": {
              "color": "#E5ECF6",
              "width": 0.5
             },
             "pattern": {
              "fillmode": "overlay",
              "size": 10,
              "solidity": 0.2
             }
            },
            "type": "bar"
           }
          ],
          "barpolar": [
           {
            "marker": {
             "line": {
              "color": "#E5ECF6",
              "width": 0.5
             },
             "pattern": {
              "fillmode": "overlay",
              "size": 10,
              "solidity": 0.2
             }
            },
            "type": "barpolar"
           }
          ],
          "carpet": [
           {
            "aaxis": {
             "endlinecolor": "#2a3f5f",
             "gridcolor": "white",
             "linecolor": "white",
             "minorgridcolor": "white",
             "startlinecolor": "#2a3f5f"
            },
            "baxis": {
             "endlinecolor": "#2a3f5f",
             "gridcolor": "white",
             "linecolor": "white",
             "minorgridcolor": "white",
             "startlinecolor": "#2a3f5f"
            },
            "type": "carpet"
           }
          ],
          "choropleth": [
           {
            "colorbar": {
             "outlinewidth": 0,
             "ticks": ""
            },
            "type": "choropleth"
           }
          ],
          "contour": [
           {
            "colorbar": {
             "outlinewidth": 0,
             "ticks": ""
            },
            "colorscale": [
             [
              0,
              "#0d0887"
             ],
             [
              0.1111111111111111,
              "#46039f"
             ],
             [
              0.2222222222222222,
              "#7201a8"
             ],
             [
              0.3333333333333333,
              "#9c179e"
             ],
             [
              0.4444444444444444,
              "#bd3786"
             ],
             [
              0.5555555555555556,
              "#d8576b"
             ],
             [
              0.6666666666666666,
              "#ed7953"
             ],
             [
              0.7777777777777778,
              "#fb9f3a"
             ],
             [
              0.8888888888888888,
              "#fdca26"
             ],
             [
              1,
              "#f0f921"
             ]
            ],
            "type": "contour"
           }
          ],
          "contourcarpet": [
           {
            "colorbar": {
             "outlinewidth": 0,
             "ticks": ""
            },
            "type": "contourcarpet"
           }
          ],
          "heatmap": [
           {
            "colorbar": {
             "outlinewidth": 0,
             "ticks": ""
            },
            "colorscale": [
             [
              0,
              "#0d0887"
             ],
             [
              0.1111111111111111,
              "#46039f"
             ],
             [
              0.2222222222222222,
              "#7201a8"
             ],
             [
              0.3333333333333333,
              "#9c179e"
             ],
             [
              0.4444444444444444,
              "#bd3786"
             ],
             [
              0.5555555555555556,
              "#d8576b"
             ],
             [
              0.6666666666666666,
              "#ed7953"
             ],
             [
              0.7777777777777778,
              "#fb9f3a"
             ],
             [
              0.8888888888888888,
              "#fdca26"
             ],
             [
              1,
              "#f0f921"
             ]
            ],
            "type": "heatmap"
           }
          ],
          "heatmapgl": [
           {
            "colorbar": {
             "outlinewidth": 0,
             "ticks": ""
            },
            "colorscale": [
             [
              0,
              "#0d0887"
             ],
             [
              0.1111111111111111,
              "#46039f"
             ],
             [
              0.2222222222222222,
              "#7201a8"
             ],
             [
              0.3333333333333333,
              "#9c179e"
             ],
             [
              0.4444444444444444,
              "#bd3786"
             ],
             [
              0.5555555555555556,
              "#d8576b"
             ],
             [
              0.6666666666666666,
              "#ed7953"
             ],
             [
              0.7777777777777778,
              "#fb9f3a"
             ],
             [
              0.8888888888888888,
              "#fdca26"
             ],
             [
              1,
              "#f0f921"
             ]
            ],
            "type": "heatmapgl"
           }
          ],
          "histogram": [
           {
            "marker": {
             "pattern": {
              "fillmode": "overlay",
              "size": 10,
              "solidity": 0.2
             }
            },
            "type": "histogram"
           }
          ],
          "histogram2d": [
           {
            "colorbar": {
             "outlinewidth": 0,
             "ticks": ""
            },
            "colorscale": [
             [
              0,
              "#0d0887"
             ],
             [
              0.1111111111111111,
              "#46039f"
             ],
             [
              0.2222222222222222,
              "#7201a8"
             ],
             [
              0.3333333333333333,
              "#9c179e"
             ],
             [
              0.4444444444444444,
              "#bd3786"
             ],
             [
              0.5555555555555556,
              "#d8576b"
             ],
             [
              0.6666666666666666,
              "#ed7953"
             ],
             [
              0.7777777777777778,
              "#fb9f3a"
             ],
             [
              0.8888888888888888,
              "#fdca26"
             ],
             [
              1,
              "#f0f921"
             ]
            ],
            "type": "histogram2d"
           }
          ],
          "histogram2dcontour": [
           {
            "colorbar": {
             "outlinewidth": 0,
             "ticks": ""
            },
            "colorscale": [
             [
              0,
              "#0d0887"
             ],
             [
              0.1111111111111111,
              "#46039f"
             ],
             [
              0.2222222222222222,
              "#7201a8"
             ],
             [
              0.3333333333333333,
              "#9c179e"
             ],
             [
              0.4444444444444444,
              "#bd3786"
             ],
             [
              0.5555555555555556,
              "#d8576b"
             ],
             [
              0.6666666666666666,
              "#ed7953"
             ],
             [
              0.7777777777777778,
              "#fb9f3a"
             ],
             [
              0.8888888888888888,
              "#fdca26"
             ],
             [
              1,
              "#f0f921"
             ]
            ],
            "type": "histogram2dcontour"
           }
          ],
          "mesh3d": [
           {
            "colorbar": {
             "outlinewidth": 0,
             "ticks": ""
            },
            "type": "mesh3d"
           }
          ],
          "parcoords": [
           {
            "line": {
             "colorbar": {
              "outlinewidth": 0,
              "ticks": ""
             }
            },
            "type": "parcoords"
           }
          ],
          "pie": [
           {
            "automargin": true,
            "type": "pie"
           }
          ],
          "scatter": [
           {
            "fillpattern": {
             "fillmode": "overlay",
             "size": 10,
             "solidity": 0.2
            },
            "type": "scatter"
           }
          ],
          "scatter3d": [
           {
            "line": {
             "colorbar": {
              "outlinewidth": 0,
              "ticks": ""
             }
            },
            "marker": {
             "colorbar": {
              "outlinewidth": 0,
              "ticks": ""
             }
            },
            "type": "scatter3d"
           }
          ],
          "scattercarpet": [
           {
            "marker": {
             "colorbar": {
              "outlinewidth": 0,
              "ticks": ""
             }
            },
            "type": "scattercarpet"
           }
          ],
          "scattergeo": [
           {
            "marker": {
             "colorbar": {
              "outlinewidth": 0,
              "ticks": ""
             }
            },
            "type": "scattergeo"
           }
          ],
          "scattergl": [
           {
            "marker": {
             "colorbar": {
              "outlinewidth": 0,
              "ticks": ""
             }
            },
            "type": "scattergl"
           }
          ],
          "scattermapbox": [
           {
            "marker": {
             "colorbar": {
              "outlinewidth": 0,
              "ticks": ""
             }
            },
            "type": "scattermapbox"
           }
          ],
          "scatterpolar": [
           {
            "marker": {
             "colorbar": {
              "outlinewidth": 0,
              "ticks": ""
             }
            },
            "type": "scatterpolar"
           }
          ],
          "scatterpolargl": [
           {
            "marker": {
             "colorbar": {
              "outlinewidth": 0,
              "ticks": ""
             }
            },
            "type": "scatterpolargl"
           }
          ],
          "scatterternary": [
           {
            "marker": {
             "colorbar": {
              "outlinewidth": 0,
              "ticks": ""
             }
            },
            "type": "scatterternary"
           }
          ],
          "surface": [
           {
            "colorbar": {
             "outlinewidth": 0,
             "ticks": ""
            },
            "colorscale": [
             [
              0,
              "#0d0887"
             ],
             [
              0.1111111111111111,
              "#46039f"
             ],
             [
              0.2222222222222222,
              "#7201a8"
             ],
             [
              0.3333333333333333,
              "#9c179e"
             ],
             [
              0.4444444444444444,
              "#bd3786"
             ],
             [
              0.5555555555555556,
              "#d8576b"
             ],
             [
              0.6666666666666666,
              "#ed7953"
             ],
             [
              0.7777777777777778,
              "#fb9f3a"
             ],
             [
              0.8888888888888888,
              "#fdca26"
             ],
             [
              1,
              "#f0f921"
             ]
            ],
            "type": "surface"
           }
          ],
          "table": [
           {
            "cells": {
             "fill": {
              "color": "#EBF0F8"
             },
             "line": {
              "color": "white"
             }
            },
            "header": {
             "fill": {
              "color": "#C8D4E3"
             },
             "line": {
              "color": "white"
             }
            },
            "type": "table"
           }
          ]
         },
         "layout": {
          "annotationdefaults": {
           "arrowcolor": "#2a3f5f",
           "arrowhead": 0,
           "arrowwidth": 1
          },
          "autotypenumbers": "strict",
          "coloraxis": {
           "colorbar": {
            "outlinewidth": 0,
            "ticks": ""
           }
          },
          "colorscale": {
           "diverging": [
            [
             0,
             "#8e0152"
            ],
            [
             0.1,
             "#c51b7d"
            ],
            [
             0.2,
             "#de77ae"
            ],
            [
             0.3,
             "#f1b6da"
            ],
            [
             0.4,
             "#fde0ef"
            ],
            [
             0.5,
             "#f7f7f7"
            ],
            [
             0.6,
             "#e6f5d0"
            ],
            [
             0.7,
             "#b8e186"
            ],
            [
             0.8,
             "#7fbc41"
            ],
            [
             0.9,
             "#4d9221"
            ],
            [
             1,
             "#276419"
            ]
           ],
           "sequential": [
            [
             0,
             "#0d0887"
            ],
            [
             0.1111111111111111,
             "#46039f"
            ],
            [
             0.2222222222222222,
             "#7201a8"
            ],
            [
             0.3333333333333333,
             "#9c179e"
            ],
            [
             0.4444444444444444,
             "#bd3786"
            ],
            [
             0.5555555555555556,
             "#d8576b"
            ],
            [
             0.6666666666666666,
             "#ed7953"
            ],
            [
             0.7777777777777778,
             "#fb9f3a"
            ],
            [
             0.8888888888888888,
             "#fdca26"
            ],
            [
             1,
             "#f0f921"
            ]
           ],
           "sequentialminus": [
            [
             0,
             "#0d0887"
            ],
            [
             0.1111111111111111,
             "#46039f"
            ],
            [
             0.2222222222222222,
             "#7201a8"
            ],
            [
             0.3333333333333333,
             "#9c179e"
            ],
            [
             0.4444444444444444,
             "#bd3786"
            ],
            [
             0.5555555555555556,
             "#d8576b"
            ],
            [
             0.6666666666666666,
             "#ed7953"
            ],
            [
             0.7777777777777778,
             "#fb9f3a"
            ],
            [
             0.8888888888888888,
             "#fdca26"
            ],
            [
             1,
             "#f0f921"
            ]
           ]
          },
          "colorway": [
           "#636efa",
           "#EF553B",
           "#00cc96",
           "#ab63fa",
           "#FFA15A",
           "#19d3f3",
           "#FF6692",
           "#B6E880",
           "#FF97FF",
           "#FECB52"
          ],
          "font": {
           "color": "#2a3f5f"
          },
          "geo": {
           "bgcolor": "white",
           "lakecolor": "white",
           "landcolor": "#E5ECF6",
           "showlakes": true,
           "showland": true,
           "subunitcolor": "white"
          },
          "hoverlabel": {
           "align": "left"
          },
          "hovermode": "closest",
          "mapbox": {
           "style": "light"
          },
          "paper_bgcolor": "white",
          "plot_bgcolor": "#E5ECF6",
          "polar": {
           "angularaxis": {
            "gridcolor": "white",
            "linecolor": "white",
            "ticks": ""
           },
           "bgcolor": "#E5ECF6",
           "radialaxis": {
            "gridcolor": "white",
            "linecolor": "white",
            "ticks": ""
           }
          },
          "scene": {
           "xaxis": {
            "backgroundcolor": "#E5ECF6",
            "gridcolor": "white",
            "gridwidth": 2,
            "linecolor": "white",
            "showbackground": true,
            "ticks": "",
            "zerolinecolor": "white"
           },
           "yaxis": {
            "backgroundcolor": "#E5ECF6",
            "gridcolor": "white",
            "gridwidth": 2,
            "linecolor": "white",
            "showbackground": true,
            "ticks": "",
            "zerolinecolor": "white"
           },
           "zaxis": {
            "backgroundcolor": "#E5ECF6",
            "gridcolor": "white",
            "gridwidth": 2,
            "linecolor": "white",
            "showbackground": true,
            "ticks": "",
            "zerolinecolor": "white"
           }
          },
          "shapedefaults": {
           "line": {
            "color": "#2a3f5f"
           }
          },
          "ternary": {
           "aaxis": {
            "gridcolor": "white",
            "linecolor": "white",
            "ticks": ""
           },
           "baxis": {
            "gridcolor": "white",
            "linecolor": "white",
            "ticks": ""
           },
           "bgcolor": "#E5ECF6",
           "caxis": {
            "gridcolor": "white",
            "linecolor": "white",
            "ticks": ""
           }
          },
          "title": {
           "x": 0.05
          },
          "xaxis": {
           "automargin": true,
           "gridcolor": "white",
           "linecolor": "white",
           "ticks": "",
           "title": {
            "standoff": 15
           },
           "zerolinecolor": "white",
           "zerolinewidth": 2
          },
          "yaxis": {
           "automargin": true,
           "gridcolor": "white",
           "linecolor": "white",
           "ticks": "",
           "title": {
            "standoff": 15
           },
           "zerolinecolor": "white",
           "zerolinewidth": 2
          }
         }
        },
        "xaxis": {
         "anchor": "y",
         "domain": [
          0,
          0.08000000000000002
         ],
         "title": {
          "text": "sorted"
         }
        },
        "xaxis10": {
         "anchor": "y10",
         "domain": [
          0.9000000000000001,
          0.9800000000000002
         ],
         "matches": "x",
         "title": {
          "text": "sorted"
         }
        },
        "xaxis2": {
         "anchor": "y2",
         "domain": [
          0.10000000000000002,
          0.18000000000000005
         ],
         "matches": "x",
         "title": {
          "text": "sorted"
         }
        },
        "xaxis3": {
         "anchor": "y3",
         "domain": [
          0.20000000000000004,
          0.28
         ],
         "matches": "x",
         "title": {
          "text": "sorted"
         }
        },
        "xaxis4": {
         "anchor": "y4",
         "domain": [
          0.30000000000000004,
          0.38000000000000006
         ],
         "matches": "x",
         "title": {
          "text": "sorted"
         }
        },
        "xaxis5": {
         "anchor": "y5",
         "domain": [
          0.4000000000000001,
          0.4800000000000001
         ],
         "matches": "x",
         "title": {
          "text": "sorted"
         }
        },
        "xaxis6": {
         "anchor": "y6",
         "domain": [
          0.5000000000000001,
          0.5800000000000001
         ],
         "matches": "x",
         "title": {
          "text": "sorted"
         }
        },
        "xaxis7": {
         "anchor": "y7",
         "domain": [
          0.6000000000000001,
          0.6800000000000002
         ],
         "matches": "x",
         "title": {
          "text": "sorted"
         }
        },
        "xaxis8": {
         "anchor": "y8",
         "domain": [
          0.7000000000000001,
          0.78
         ],
         "matches": "x",
         "title": {
          "text": "sorted"
         }
        },
        "xaxis9": {
         "anchor": "y9",
         "domain": [
          0.8000000000000002,
          0.8800000000000001
         ],
         "matches": "x",
         "title": {
          "text": "sorted"
         }
        },
        "yaxis": {
         "anchor": "x",
         "domain": [
          0,
          1
         ],
         "title": {
          "text": "normalized"
         }
        },
        "yaxis10": {
         "anchor": "x10",
         "domain": [
          0,
          1
         ],
         "matches": "y",
         "showticklabels": false
        },
        "yaxis2": {
         "anchor": "x2",
         "domain": [
          0,
          1
         ],
         "matches": "y",
         "showticklabels": false
        },
        "yaxis3": {
         "anchor": "x3",
         "domain": [
          0,
          1
         ],
         "matches": "y",
         "showticklabels": false
        },
        "yaxis4": {
         "anchor": "x4",
         "domain": [
          0,
          1
         ],
         "matches": "y",
         "showticklabels": false
        },
        "yaxis5": {
         "anchor": "x5",
         "domain": [
          0,
          1
         ],
         "matches": "y",
         "showticklabels": false
        },
        "yaxis6": {
         "anchor": "x6",
         "domain": [
          0,
          1
         ],
         "matches": "y",
         "showticklabels": false
        },
        "yaxis7": {
         "anchor": "x7",
         "domain": [
          0,
          1
         ],
         "matches": "y",
         "showticklabels": false
        },
        "yaxis8": {
         "anchor": "x8",
         "domain": [
          0,
          1
         ],
         "matches": "y",
         "showticklabels": false
        },
        "yaxis9": {
         "anchor": "x9",
         "domain": [
          0,
          1
         ],
         "matches": "y",
         "showticklabels": false
        }
       }
      }
     },
     "metadata": {},
     "output_type": "display_data"
    }
   ],
   "source": [
    "fig = px.line(\n",
    "    strain_df,\n",
    "    x=\"sorted\",\n",
    "    y=\"normalized\",\n",
    "    color=\"flood\",\n",
    "    facet_col=\"unchanged_counter\",\n",
    "    facet_row=\"source_id\",\n",
    "    line_dash=\"payload_size\"\n",
    ")\n",
    "fig"
   ]
  }
 ],
 "metadata": {
  "kernelspec": {
   "display_name": "Python 3.10.5 64-bit",
   "language": "python",
   "name": "python3"
  },
  "language_info": {
   "codemirror_mode": {
    "name": "ipython",
    "version": 3
   },
   "file_extension": ".py",
   "mimetype": "text/x-python",
   "name": "python",
   "nbconvert_exporter": "python",
   "pygments_lexer": "ipython3",
   "version": "3.10.5"
  },
  "orig_nbformat": 4,
  "vscode": {
   "interpreter": {
    "hash": "aee8b7b246df8f9039afb4144a1f6fd8d2ca17a180786b69acc140d282b71a49"
   }
  }
 },
 "nbformat": 4,
 "nbformat_minor": 2
}
