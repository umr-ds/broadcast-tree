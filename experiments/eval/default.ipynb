{
 "cells": [
  {
   "cell_type": "code",
   "execution_count": 1,
   "metadata": {},
   "outputs": [],
   "source": [
    "import glob\n",
    "import pathlib\n",
    "\n",
    "import pandas as pd\n",
    "import plotly.express as px\n",
    "\n",
    "from btree_analysis.log_parser import parse_experiment"
   ]
  },
  {
   "cell_type": "code",
   "execution_count": 20,
   "metadata": {},
   "outputs": [],
   "source": [
    "EXPERIMENT_PATH = \"/Users/artur/Documents/broadcast-tree/experiments/results/*\"\n",
    "EXPERIMENT_IDENTIFIER = [\"payload_size\", \"max_power\", \"unchanged_counter\", \"iteration\"]"
   ]
  },
  {
   "cell_type": "code",
   "execution_count": 2,
   "metadata": {},
   "outputs": [
    {
     "name": "stdout",
     "output_type": "stream",
     "text": [
      "Node 77 switched parents 1 times\n",
      "Node 1 switched parents 6 times\n",
      "Node 51 switched parents 1 times\n",
      "Node 8 switched parents 1 times\n",
      "Node 60 switched parents 0 times\n",
      "Node 44 switched parents 1 times\n",
      "Node 37 switched parents 1 times\n",
      "Node 23 switched parents 1 times\n",
      "Node 42 switched parents 0 times\n",
      "Node 50 switched parents 0 times\n",
      "Node 75 switched parents 1 times\n",
      "Node 58 switched parents 1 times\n",
      "Node 32 switched parents 1 times\n",
      "Node 26 switched parents 1 times\n",
      "Node 38 switched parents 1 times\n",
      "Node 45 switched parents 2 times\n",
      "Node 18 switched parents 2 times\n",
      "Node 79 switched parents 1 times\n",
      "Node 0 switched parents 0 times\n",
      "Node 68 switched parents 1 times\n",
      "Node 28 switched parents 1 times\n",
      "Node 72 switched parents 4 times\n",
      "Node 40 switched parents 2 times\n",
      "Node 41 switched parents 1 times\n",
      "Node 54 switched parents 1 times\n",
      "Node 83 switched parents 1 times\n",
      "Node 25 switched parents 0 times\n",
      "Node 49 switched parents 1 times\n",
      "Node 57 switched parents 1 times\n",
      "Node 76 switched parents 1 times\n",
      "Node 24 switched parents 1 times\n",
      "Node 43 switched parents 1 times\n",
      "Node 33 switched parents 0 times\n",
      "Node 13 switched parents 1 times\n",
      "Node 65 switched parents 1 times\n",
      "Node 12 switched parents 1 times\n",
      "Node 7 switched parents 1 times\n",
      "Node 55 switched parents 1 times\n",
      "Node 29 switched parents 1 times\n",
      "Node 67 switched parents 1 times\n",
      "Node 22 switched parents 3 times\n",
      "Node 2 switched parents 0 times\n",
      "Node 70 switched parents 1 times\n",
      "Node 47 switched parents 3 times\n",
      "Node 14 switched parents 1 times\n",
      "Node 48 switched parents 1 times\n",
      "Node 66 switched parents 1 times\n",
      "Node 61 switched parents 0 times\n",
      "Node 35 switched parents 1 times\n",
      "Node 64 switched parents 1 times\n",
      "Node 6 switched parents 1 times\n",
      "Node 52 switched parents 1 times\n",
      "Node 4 switched parents 1 times\n",
      "Node 59 switched parents 1 times\n",
      "Node 20 switched parents 1 times\n",
      "Node 3 switched parents 2 times\n",
      "Node 63 switched parents 1 times\n",
      "Node 15 switched parents 1 times\n",
      "Node 56 switched parents 1 times\n",
      "Node 78 switched parents 1 times\n",
      "Node 17 switched parents 1 times\n",
      "Node 5 switched parents 1 times\n",
      "Node 46 switched parents 1 times\n",
      "Node 36 switched parents 1 times\n",
      "Node 80 switched parents 1 times\n",
      "Node 30 switched parents 0 times\n",
      "Node 21 switched parents 0 times\n",
      "Node 39 switched parents 1 times\n",
      "Node 10 switched parents 1 times\n",
      "Node 31 switched parents 1 times\n",
      "Node 27 switched parents 1 times\n",
      "Node 9 switched parents 1 times\n",
      "Node 16 switched parents 1 times\n",
      "Node 62 switched parents 1 times\n",
      "Node 53 switched parents 1 times\n",
      "Node 19 switched parents 7 times\n",
      "Node 77 switched parents 2 times\n",
      "Node 1 switched parents 2 times\n",
      "Node 51 switched parents 2 times\n",
      "Node 8 switched parents 3 times\n",
      "Node 60 switched parents 0 times\n",
      "Node 44 switched parents 1 times\n",
      "Node 37 switched parents 0 times\n",
      "Node 23 switched parents 2 times\n",
      "Node 42 switched parents 3 times\n",
      "Node 50 switched parents 0 times\n",
      "Node 75 switched parents 1 times\n",
      "Node 58 switched parents 0 times\n",
      "Node 32 switched parents 0 times\n",
      "Node 26 switched parents 2 times\n",
      "Node 38 switched parents 1 times\n",
      "Node 45 switched parents 1 times\n",
      "Node 18 switched parents 1 times\n",
      "Node 79 switched parents 2 times\n",
      "Node 0 switched parents 0 times\n",
      "Node 68 switched parents 1 times\n",
      "Node 28 switched parents 0 times\n",
      "Node 72 switched parents 3 times\n",
      "Node 40 switched parents 3 times\n",
      "Node 41 switched parents 0 times\n",
      "Node 54 switched parents 0 times\n",
      "Node 83 switched parents 0 times\n",
      "Node 25 switched parents 2 times\n",
      "Node 49 switched parents 3 times\n",
      "Node 57 switched parents 1 times\n",
      "Node 76 switched parents 1 times\n",
      "Node 24 switched parents 0 times\n",
      "Node 43 switched parents 1 times\n",
      "Node 33 switched parents 1 times\n",
      "Node 13 switched parents 1 times\n",
      "Node 65 switched parents 1 times\n",
      "Node 12 switched parents 5 times\n",
      "Node 7 switched parents 3 times\n",
      "Node 55 switched parents 1 times\n",
      "Node 29 switched parents 0 times\n",
      "Node 67 switched parents 0 times\n",
      "Node 22 switched parents 2 times\n",
      "Node 2 switched parents 4 times\n",
      "Node 70 switched parents 1 times\n",
      "Node 47 switched parents 2 times\n",
      "Node 14 switched parents 3 times\n",
      "Node 48 switched parents 3 times\n",
      "Node 66 switched parents 3 times\n",
      "Node 61 switched parents 1 times\n",
      "Node 35 switched parents 2 times\n",
      "Node 64 switched parents 1 times\n",
      "Node 6 switched parents 2 times\n",
      "Node 52 switched parents 1 times\n",
      "Node 4 switched parents 1 times\n",
      "Node 59 switched parents 1 times\n",
      "Node 20 switched parents 3 times\n",
      "Node 3 switched parents 1 times\n",
      "Node 63 switched parents 3 times\n",
      "Node 15 switched parents 3 times\n",
      "Node 56 switched parents 1 times\n",
      "Node 78 switched parents 2 times\n",
      "Node 17 switched parents 1 times\n",
      "Node 5 switched parents 3 times\n",
      "Node 46 switched parents 0 times\n",
      "Node 36 switched parents 1 times\n",
      "Node 80 switched parents 1 times\n",
      "Node 30 switched parents 1 times\n",
      "Node 21 switched parents 3 times\n",
      "Node 39 switched parents 1 times\n",
      "Node 10 switched parents 6 times\n",
      "Node 31 switched parents 1 times\n",
      "Node 27 switched parents 0 times\n",
      "Node 9 switched parents 1 times\n",
      "Node 16 switched parents 1 times\n",
      "Node 62 switched parents 1 times\n",
      "Node 53 switched parents 1 times\n",
      "Node 19 switched parents 3 times\n",
      "Node 77 switched parents 1 times\n",
      "Node 1 switched parents 3 times\n",
      "Node 51 switched parents 0 times\n",
      "Node 8 switched parents 2 times\n",
      "Node 60 switched parents 1 times\n",
      "Node 44 switched parents 2 times\n",
      "Node 37 switched parents 1 times\n",
      "Node 23 switched parents 1 times\n",
      "Node 42 switched parents 1 times\n",
      "Node 50 switched parents 1 times\n",
      "Node 75 switched parents 2 times\n",
      "Node 58 switched parents 1 times\n",
      "Node 32 switched parents 0 times\n",
      "Node 26 switched parents 1 times\n",
      "Node 38 switched parents 1 times\n",
      "Node 45 switched parents 2 times\n",
      "Node 18 switched parents 1 times\n",
      "Node 79 switched parents 1 times\n",
      "Node 0 switched parents 0 times\n",
      "Node 68 switched parents 1 times\n",
      "Node 28 switched parents 1 times\n",
      "Node 72 switched parents 1 times\n",
      "Node 40 switched parents 1 times\n",
      "Node 41 switched parents 1 times\n",
      "Node 54 switched parents 3 times\n",
      "Node 83 switched parents 2 times\n",
      "Node 25 switched parents 2 times\n",
      "Node 49 switched parents 1 times\n",
      "Node 57 switched parents 1 times\n",
      "Node 76 switched parents 0 times\n",
      "Node 24 switched parents 1 times\n",
      "Node 43 switched parents 0 times\n",
      "Node 33 switched parents 3 times\n",
      "Node 13 switched parents 1 times\n",
      "Node 65 switched parents 0 times\n",
      "Node 12 switched parents 0 times\n",
      "Node 7 switched parents 0 times\n",
      "Node 55 switched parents 1 times\n",
      "Node 29 switched parents 1 times\n",
      "Node 67 switched parents 1 times\n",
      "Node 22 switched parents 4 times\n",
      "Node 2 switched parents 3 times\n",
      "Node 70 switched parents 1 times\n",
      "Node 47 switched parents 3 times\n",
      "Node 14 switched parents 3 times\n",
      "Node 48 switched parents 1 times\n",
      "Node 66 switched parents 1 times\n",
      "Node 61 switched parents 0 times\n",
      "Node 35 switched parents 1 times\n",
      "Node 64 switched parents 4 times\n",
      "Node 6 switched parents 1 times\n",
      "Node 52 switched parents 2 times\n",
      "Node 4 switched parents 1 times\n",
      "Node 59 switched parents 2 times\n",
      "Node 20 switched parents 1 times\n",
      "Node 3 switched parents 3 times\n",
      "Node 63 switched parents 1 times\n",
      "Node 15 switched parents 3 times\n",
      "Node 56 switched parents 3 times\n",
      "Node 78 switched parents 1 times\n",
      "Node 17 switched parents 1 times\n",
      "Node 5 switched parents 4 times\n",
      "Node 46 switched parents 0 times\n",
      "Node 36 switched parents 1 times\n",
      "Node 80 switched parents 1 times\n",
      "Node 30 switched parents 3 times\n",
      "Node 21 switched parents 1 times\n",
      "Node 39 switched parents 3 times\n",
      "Node 10 switched parents 1 times\n",
      "Node 31 switched parents 1 times\n",
      "Node 27 switched parents 3 times\n",
      "Node 9 switched parents 1 times\n",
      "Node 16 switched parents 1 times\n",
      "Node 62 switched parents 1 times\n",
      "Node 53 switched parents 1 times\n",
      "Node 19 switched parents 3 times\n",
      "Node 77 switched parents 2 times\n",
      "Node 1 switched parents 4 times\n",
      "Node 51 switched parents 3 times\n",
      "Node 8 switched parents 1 times\n",
      "Node 60 switched parents 7 times\n",
      "Node 44 switched parents 2 times\n",
      "Node 37 switched parents 3 times\n",
      "Node 23 switched parents 1 times\n",
      "Node 42 switched parents 6 times\n",
      "Node 50 switched parents 4 times\n",
      "Node 75 switched parents 1 times\n",
      "Node 58 switched parents 4 times\n",
      "Node 32 switched parents 1 times\n",
      "Node 26 switched parents 2 times\n",
      "Node 38 switched parents 3 times\n",
      "Node 45 switched parents 2 times\n",
      "Node 18 switched parents 1 times\n",
      "Node 79 switched parents 1 times\n",
      "Node 0 switched parents 0 times\n",
      "Node 68 switched parents 3 times\n",
      "Node 28 switched parents 1 times\n",
      "Node 72 switched parents 1 times\n",
      "Node 40 switched parents 6 times\n",
      "Node 41 switched parents 3 times\n",
      "Node 54 switched parents 1 times\n",
      "Node 83 switched parents 4 times\n",
      "Node 25 switched parents 1 times\n",
      "Node 49 switched parents 1 times\n",
      "Node 57 switched parents 1 times\n",
      "Node 76 switched parents 2 times\n",
      "Node 24 switched parents 2 times\n",
      "Node 43 switched parents 1 times\n",
      "Node 33 switched parents 0 times\n",
      "Node 13 switched parents 3 times\n",
      "Node 65 switched parents 3 times\n",
      "Node 12 switched parents 3 times\n",
      "Node 7 switched parents 1 times\n",
      "Node 55 switched parents 1 times\n",
      "Node 29 switched parents 3 times\n",
      "Node 67 switched parents 1 times\n",
      "Node 22 switched parents 4 times\n",
      "Node 2 switched parents 0 times\n",
      "Node 70 switched parents 5 times\n",
      "Node 47 switched parents 3 times\n",
      "Node 14 switched parents 2 times\n",
      "Node 48 switched parents 2 times\n",
      "Node 66 switched parents 7 times\n",
      "Node 61 switched parents 5 times\n",
      "Node 35 switched parents 4 times\n",
      "Node 64 switched parents 4 times\n",
      "Node 6 switched parents 1 times\n",
      "Node 52 switched parents 2 times\n",
      "Node 4 switched parents 2 times\n",
      "Node 59 switched parents 1 times\n",
      "Node 20 switched parents 1 times\n",
      "Node 3 switched parents 4 times\n",
      "Node 63 switched parents 4 times\n",
      "Node 15 switched parents 3 times\n",
      "Node 56 switched parents 1 times\n",
      "Node 78 switched parents 2 times\n",
      "Node 17 switched parents 1 times\n",
      "Node 5 switched parents 3 times\n",
      "Node 46 switched parents 4 times\n",
      "Node 36 switched parents 2 times\n",
      "Node 80 switched parents 1 times\n",
      "Node 30 switched parents 1 times\n",
      "Node 21 switched parents 1 times\n",
      "Node 39 switched parents 3 times\n",
      "Node 10 switched parents 4 times\n",
      "Node 31 switched parents 3 times\n",
      "Node 27 switched parents 3 times\n",
      "Node 9 switched parents 1 times\n",
      "Node 16 switched parents 3 times\n",
      "Node 62 switched parents 1 times\n",
      "Node 53 switched parents 2 times\n",
      "Node 19 switched parents 4 times\n",
      "Node 77 switched parents 2 times\n",
      "Node 1 switched parents 3 times\n",
      "Node 51 switched parents 2 times\n",
      "Node 8 switched parents 1 times\n",
      "Node 60 switched parents 3 times\n",
      "Node 44 switched parents 0 times\n",
      "Node 37 switched parents 4 times\n",
      "Node 23 switched parents 1 times\n",
      "Node 42 switched parents 2 times\n",
      "Node 50 switched parents 4 times\n",
      "Node 75 switched parents 1 times\n",
      "Node 58 switched parents 1 times\n",
      "Node 32 switched parents 1 times\n",
      "Node 26 switched parents 2 times\n",
      "Node 38 switched parents 3 times\n",
      "Node 45 switched parents 1 times\n",
      "Node 18 switched parents 1 times\n",
      "Node 79 switched parents 4 times\n",
      "Node 0 switched parents 0 times\n",
      "Node 68 switched parents 1 times\n",
      "Node 28 switched parents 2 times\n",
      "Node 72 switched parents 1 times\n",
      "Node 40 switched parents 1 times\n",
      "Node 41 switched parents 1 times\n",
      "Node 54 switched parents 1 times\n",
      "Node 83 switched parents 3 times\n",
      "Node 25 switched parents 2 times\n",
      "Node 49 switched parents 1 times\n",
      "Node 57 switched parents 2 times\n",
      "Node 76 switched parents 2 times\n",
      "Node 24 switched parents 2 times\n",
      "Node 43 switched parents 1 times\n",
      "Node 33 switched parents 1 times\n",
      "Node 13 switched parents 5 times\n",
      "Node 65 switched parents 1 times\n",
      "Node 12 switched parents 3 times\n",
      "Node 7 switched parents 3 times\n",
      "Node 55 switched parents 3 times\n",
      "Node 29 switched parents 2 times\n",
      "Node 67 switched parents 1 times\n",
      "Node 22 switched parents 1 times\n",
      "Node 2 switched parents 5 times\n",
      "Node 70 switched parents 1 times\n",
      "Node 47 switched parents 1 times\n",
      "Node 14 switched parents 2 times\n",
      "Node 48 switched parents 2 times\n",
      "Node 66 switched parents 2 times\n",
      "Node 61 switched parents 1 times\n",
      "Node 35 switched parents 4 times\n",
      "Node 64 switched parents 1 times\n",
      "Node 6 switched parents 1 times\n",
      "Node 52 switched parents 4 times\n",
      "Node 4 switched parents 4 times\n",
      "Node 59 switched parents 2 times\n",
      "Node 20 switched parents 2 times\n",
      "Node 3 switched parents 3 times\n",
      "Node 63 switched parents 3 times\n",
      "Node 15 switched parents 3 times\n",
      "Node 56 switched parents 1 times\n",
      "Node 78 switched parents 3 times\n",
      "Node 17 switched parents 1 times\n",
      "Node 5 switched parents 1 times\n",
      "Node 46 switched parents 2 times\n",
      "Node 36 switched parents 1 times\n",
      "Node 80 switched parents 0 times\n",
      "Node 30 switched parents 0 times\n",
      "Node 21 switched parents 3 times\n",
      "Node 39 switched parents 3 times\n",
      "Node 10 switched parents 2 times\n",
      "Node 31 switched parents 2 times\n",
      "Node 27 switched parents 1 times\n",
      "Node 9 switched parents 2 times\n",
      "Node 16 switched parents 1 times\n",
      "Node 62 switched parents 1 times\n",
      "Node 53 switched parents 3 times\n",
      "Node 19 switched parents 3 times\n",
      "Node 77 switched parents 0 times\n",
      "Node 1 switched parents 1 times\n",
      "Node 51 switched parents 0 times\n",
      "Node 8 switched parents 1 times\n",
      "Node 60 switched parents 0 times\n",
      "Node 44 switched parents 0 times\n",
      "Node 37 switched parents 1 times\n",
      "Node 23 switched parents 1 times\n",
      "Node 42 switched parents 1 times\n",
      "Node 50 switched parents 1 times\n",
      "Node 75 switched parents 1 times\n",
      "Node 58 switched parents 1 times\n",
      "Node 32 switched parents 1 times\n",
      "Node 26 switched parents 1 times\n",
      "Node 38 switched parents 1 times\n",
      "Node 45 switched parents 1 times\n",
      "Node 18 switched parents 1 times\n",
      "Node 79 switched parents 1 times\n",
      "Node 0 switched parents 0 times\n",
      "Node 68 switched parents 1 times\n",
      "Node 28 switched parents 0 times\n",
      "Node 72 switched parents 1 times\n",
      "Node 40 switched parents 1 times\n",
      "Node 41 switched parents 1 times\n",
      "Node 54 switched parents 1 times\n",
      "Node 83 switched parents 1 times\n",
      "Node 25 switched parents 1 times\n",
      "Node 49 switched parents 2 times\n",
      "Node 57 switched parents 1 times\n",
      "Node 76 switched parents 0 times\n",
      "Node 24 switched parents 0 times\n",
      "Node 43 switched parents 1 times\n",
      "Node 33 switched parents 1 times\n",
      "Node 13 switched parents 3 times\n",
      "Node 65 switched parents 1 times\n",
      "Node 12 switched parents 2 times\n",
      "Node 7 switched parents 1 times\n",
      "Node 55 switched parents 2 times\n",
      "Node 29 switched parents 1 times\n",
      "Node 67 switched parents 1 times\n",
      "Node 22 switched parents 3 times\n",
      "Node 2 switched parents 1 times\n",
      "Node 70 switched parents 1 times\n",
      "Node 47 switched parents 1 times\n",
      "Node 14 switched parents 3 times\n",
      "Node 48 switched parents 3 times\n",
      "Node 66 switched parents 1 times\n",
      "Node 61 switched parents 1 times\n",
      "Node 35 switched parents 3 times\n",
      "Node 64 switched parents 1 times\n",
      "Node 6 switched parents 1 times\n",
      "Node 52 switched parents 1 times\n",
      "Node 4 switched parents 1 times\n",
      "Node 59 switched parents 2 times\n",
      "Node 20 switched parents 1 times\n",
      "Node 3 switched parents 1 times\n",
      "Node 63 switched parents 1 times\n",
      "Node 15 switched parents 0 times\n",
      "Node 56 switched parents 1 times\n",
      "Node 78 switched parents 1 times\n",
      "Node 17 switched parents 1 times\n",
      "Node 5 switched parents 1 times\n",
      "Node 46 switched parents 0 times\n",
      "Node 36 switched parents 2 times\n",
      "Node 80 switched parents 1 times\n",
      "Node 30 switched parents 0 times\n",
      "Node 21 switched parents 1 times\n",
      "Node 39 switched parents 2 times\n",
      "Node 10 switched parents 4 times\n",
      "Node 31 switched parents 1 times\n",
      "Node 27 switched parents 1 times\n",
      "Node 9 switched parents 1 times\n",
      "Node 16 switched parents 1 times\n",
      "Node 62 switched parents 1 times\n",
      "Node 53 switched parents 1 times\n",
      "Node 19 switched parents 1 times\n",
      "Node 77 switched parents 2 times\n",
      "Node 1 switched parents 3 times\n",
      "Node 51 switched parents 2 times\n",
      "Node 8 switched parents 1 times\n",
      "Node 60 switched parents 2 times\n",
      "Node 44 switched parents 1 times\n",
      "Node 37 switched parents 4 times\n",
      "Node 23 switched parents 1 times\n",
      "Node 42 switched parents 1 times\n",
      "Node 50 switched parents 1 times\n",
      "Node 75 switched parents 2 times\n",
      "Node 58 switched parents 1 times\n",
      "Node 32 switched parents 2 times\n",
      "Node 26 switched parents 1 times\n",
      "Node 38 switched parents 2 times\n",
      "Node 45 switched parents 2 times\n",
      "Node 18 switched parents 1 times\n",
      "Node 79 switched parents 2 times\n",
      "Node 0 switched parents 0 times\n",
      "Node 68 switched parents 4 times\n",
      "Node 28 switched parents 1 times\n",
      "Node 72 switched parents 3 times\n",
      "Node 40 switched parents 1 times\n",
      "Node 41 switched parents 2 times\n",
      "Node 54 switched parents 2 times\n",
      "Node 83 switched parents 3 times\n",
      "Node 25 switched parents 1 times\n",
      "Node 49 switched parents 1 times\n",
      "Node 57 switched parents 1 times\n",
      "Node 76 switched parents 3 times\n",
      "Node 24 switched parents 2 times\n",
      "Node 43 switched parents 3 times\n",
      "Node 33 switched parents 3 times\n",
      "Node 13 switched parents 3 times\n",
      "Node 65 switched parents 4 times\n",
      "Node 12 switched parents 1 times\n",
      "Node 7 switched parents 2 times\n",
      "Node 55 switched parents 1 times\n",
      "Node 29 switched parents 2 times\n",
      "Node 67 switched parents 1 times\n",
      "Node 22 switched parents 2 times\n",
      "Node 2 switched parents 2 times\n",
      "Node 70 switched parents 1 times\n",
      "Node 47 switched parents 1 times\n",
      "Node 14 switched parents 1 times\n",
      "Node 48 switched parents 2 times\n",
      "Node 66 switched parents 1 times\n",
      "Node 61 switched parents 4 times\n",
      "Node 35 switched parents 1 times\n",
      "Node 64 switched parents 1 times\n",
      "Node 6 switched parents 3 times\n",
      "Node 52 switched parents 1 times\n",
      "Node 4 switched parents 2 times\n",
      "Node 59 switched parents 1 times\n",
      "Node 20 switched parents 1 times\n",
      "Node 3 switched parents 1 times\n",
      "Node 63 switched parents 2 times\n",
      "Node 15 switched parents 4 times\n",
      "Node 56 switched parents 2 times\n",
      "Node 78 switched parents 1 times\n",
      "Node 17 switched parents 1 times\n",
      "Node 5 switched parents 2 times\n",
      "Node 46 switched parents 1 times\n",
      "Node 36 switched parents 3 times\n",
      "Node 80 switched parents 3 times\n",
      "Node 30 switched parents 1 times\n",
      "Node 21 switched parents 2 times\n",
      "Node 39 switched parents 4 times\n",
      "Node 10 switched parents 2 times\n",
      "Node 31 switched parents 4 times\n",
      "Node 27 switched parents 1 times\n",
      "Node 9 switched parents 2 times\n",
      "Node 16 switched parents 4 times\n",
      "Node 62 switched parents 3 times\n",
      "Node 53 switched parents 1 times\n",
      "Node 19 switched parents 3 times\n",
      "Node 77 switched parents 10 times\n",
      "Node 1 switched parents 1 times\n",
      "Node 51 switched parents 1 times\n",
      "Node 8 switched parents 1 times\n",
      "Node 60 switched parents 1 times\n",
      "Node 44 switched parents 2 times\n",
      "Node 37 switched parents 5 times\n",
      "Node 23 switched parents 2 times\n",
      "Node 42 switched parents 2 times\n",
      "Node 50 switched parents 1 times\n",
      "Node 75 switched parents 1 times\n",
      "Node 58 switched parents 1 times\n",
      "Node 32 switched parents 3 times\n",
      "Node 26 switched parents 2 times\n",
      "Node 38 switched parents 4 times\n",
      "Node 45 switched parents 3 times\n",
      "Node 18 switched parents 1 times\n",
      "Node 79 switched parents 1 times\n",
      "Node 0 switched parents 0 times\n",
      "Node 68 switched parents 1 times\n",
      "Node 28 switched parents 1 times\n",
      "Node 72 switched parents 2 times\n",
      "Node 40 switched parents 1 times\n",
      "Node 41 switched parents 1 times\n",
      "Node 54 switched parents 1 times\n",
      "Node 83 switched parents 1 times\n",
      "Node 25 switched parents 1 times\n",
      "Node 49 switched parents 2 times\n",
      "Node 57 switched parents 1 times\n",
      "Node 76 switched parents 7 times\n",
      "Node 24 switched parents 0 times\n",
      "Node 43 switched parents 1 times\n",
      "Node 33 switched parents 5 times\n",
      "Node 13 switched parents 5 times\n",
      "Node 65 switched parents 2 times\n",
      "Node 12 switched parents 1 times\n",
      "Node 7 switched parents 1 times\n",
      "Node 55 switched parents 2 times\n",
      "Node 29 switched parents 1 times\n",
      "Node 67 switched parents 1 times\n",
      "Node 22 switched parents 2 times\n",
      "Node 2 switched parents 1 times\n",
      "Node 70 switched parents 2 times\n",
      "Node 47 switched parents 0 times\n",
      "Node 14 switched parents 7 times\n",
      "Node 48 switched parents 2 times\n",
      "Node 66 switched parents 1 times\n",
      "Node 61 switched parents 2 times\n",
      "Node 35 switched parents 7 times\n",
      "Node 64 switched parents 6 times\n",
      "Node 6 switched parents 6 times\n",
      "Node 52 switched parents 1 times\n",
      "Node 4 switched parents 1 times\n",
      "Node 59 switched parents 3 times\n",
      "Node 20 switched parents 2 times\n",
      "Node 3 switched parents 3 times\n",
      "Node 63 switched parents 3 times\n",
      "Node 15 switched parents 2 times\n",
      "Node 56 switched parents 2 times\n",
      "Node 78 switched parents 6 times\n",
      "Node 17 switched parents 1 times\n",
      "Node 5 switched parents 4 times\n",
      "Node 46 switched parents 1 times\n",
      "Node 36 switched parents 1 times\n",
      "Node 80 switched parents 1 times\n",
      "Node 30 switched parents 1 times\n",
      "Node 21 switched parents 2 times\n",
      "Node 39 switched parents 5 times\n",
      "Node 10 switched parents 2 times\n",
      "Node 31 switched parents 1 times\n",
      "Node 27 switched parents 3 times\n",
      "Node 9 switched parents 1 times\n",
      "Node 16 switched parents 3 times\n",
      "Node 62 switched parents 5 times\n",
      "Node 53 switched parents 3 times\n",
      "Node 19 switched parents 2 times\n",
      "Node 77 switched parents 2 times\n",
      "Node 1 switched parents 1 times\n",
      "Node 51 switched parents 2 times\n",
      "Node 8 switched parents 3 times\n",
      "Node 60 switched parents 0 times\n",
      "Node 44 switched parents 1 times\n",
      "Node 37 switched parents 1 times\n",
      "Node 23 switched parents 7 times\n",
      "Node 42 switched parents 2 times\n",
      "Node 50 switched parents 6 times\n",
      "Node 75 switched parents 1 times\n",
      "Node 58 switched parents 0 times\n",
      "Node 32 switched parents 4 times\n",
      "Node 26 switched parents 1 times\n",
      "Node 38 switched parents 2 times\n",
      "Node 45 switched parents 1 times\n",
      "Node 18 switched parents 6 times\n",
      "Node 79 switched parents 2 times\n",
      "Node 0 switched parents 0 times\n",
      "Node 68 switched parents 4 times\n",
      "Node 28 switched parents 2 times\n",
      "Node 72 switched parents 3 times\n",
      "Node 40 switched parents 1 times\n",
      "Node 41 switched parents 5 times\n",
      "Node 54 switched parents 2 times\n",
      "Node 83 switched parents 2 times\n",
      "Node 25 switched parents 2 times\n",
      "Node 49 switched parents 5 times\n",
      "Node 57 switched parents 3 times\n",
      "Node 76 switched parents 1 times\n",
      "Node 24 switched parents 1 times\n",
      "Node 43 switched parents 1 times\n",
      "Node 33 switched parents 1 times\n",
      "Node 13 switched parents 2 times\n",
      "Node 65 switched parents 2 times\n",
      "Node 12 switched parents 4 times\n",
      "Node 7 switched parents 3 times\n",
      "Node 55 switched parents 3 times\n",
      "Node 29 switched parents 1 times\n",
      "Node 67 switched parents 5 times\n",
      "Node 22 switched parents 1 times\n",
      "Node 2 switched parents 2 times\n",
      "Node 70 switched parents 0 times\n",
      "Node 47 switched parents 1 times\n",
      "Node 14 switched parents 5 times\n",
      "Node 48 switched parents 2 times\n",
      "Node 66 switched parents 1 times\n",
      "Node 61 switched parents 2 times\n",
      "Node 35 switched parents 4 times\n",
      "Node 64 switched parents 2 times\n",
      "Node 6 switched parents 4 times\n",
      "Node 52 switched parents 1 times\n",
      "Node 4 switched parents 3 times\n",
      "Node 59 switched parents 2 times\n",
      "Node 20 switched parents 1 times\n",
      "Node 3 switched parents 2 times\n",
      "Node 63 switched parents 1 times\n",
      "Node 15 switched parents 2 times\n",
      "Node 56 switched parents 1 times\n",
      "Node 78 switched parents 3 times\n",
      "Node 17 switched parents 1 times\n",
      "Node 5 switched parents 1 times\n",
      "Node 46 switched parents 2 times\n",
      "Node 36 switched parents 2 times\n",
      "Node 80 switched parents 2 times\n",
      "Node 30 switched parents 2 times\n",
      "Node 21 switched parents 4 times\n",
      "Node 39 switched parents 3 times\n",
      "Node 10 switched parents 1 times\n",
      "Node 31 switched parents 2 times\n",
      "Node 27 switched parents 3 times\n",
      "Node 9 switched parents 1 times\n",
      "Node 16 switched parents 4 times\n",
      "Node 62 switched parents 2 times\n",
      "Node 53 switched parents 1 times\n",
      "Node 19 switched parents 5 times\n",
      "Node 77 switched parents 8 times\n",
      "Node 1 switched parents 2 times\n",
      "Node 51 switched parents 9 times\n",
      "Node 8 switched parents 6 times\n",
      "Node 60 switched parents 1 times\n",
      "Node 44 switched parents 2 times\n",
      "Node 37 switched parents 1 times\n",
      "Node 23 switched parents 2 times\n",
      "Node 42 switched parents 5 times\n",
      "Node 50 switched parents 6 times\n",
      "Node 75 switched parents 2 times\n",
      "Node 58 switched parents 3 times\n",
      "Node 32 switched parents 2 times\n",
      "Node 26 switched parents 8 times\n",
      "Node 38 switched parents 4 times\n",
      "Node 45 switched parents 5 times\n",
      "Node 18 switched parents 6 times\n",
      "Node 79 switched parents 2 times\n",
      "Node 0 switched parents 0 times\n",
      "Node 68 switched parents 6 times\n",
      "Node 28 switched parents 1 times\n",
      "Node 72 switched parents 2 times\n",
      "Node 40 switched parents 3 times\n",
      "Node 41 switched parents 2 times\n",
      "Node 54 switched parents 6 times\n",
      "Node 83 switched parents 10 times\n",
      "Node 25 switched parents 3 times\n",
      "Node 49 switched parents 2 times\n",
      "Node 57 switched parents 2 times\n",
      "Node 76 switched parents 2 times\n",
      "Node 24 switched parents 6 times\n",
      "Node 43 switched parents 1 times\n",
      "Node 33 switched parents 2 times\n",
      "Node 13 switched parents 3 times\n",
      "Node 65 switched parents 4 times\n",
      "Node 12 switched parents 7 times\n",
      "Node 7 switched parents 7 times\n",
      "Node 55 switched parents 1 times\n",
      "Node 29 switched parents 1 times\n",
      "Node 67 switched parents 5 times\n",
      "Node 22 switched parents 2 times\n",
      "Node 2 switched parents 1 times\n",
      "Node 70 switched parents 5 times\n",
      "Node 47 switched parents 2 times\n",
      "Node 14 switched parents 2 times\n",
      "Node 48 switched parents 1 times\n",
      "Node 66 switched parents 2 times\n",
      "Node 61 switched parents 2 times\n",
      "Node 35 switched parents 1 times\n",
      "Node 64 switched parents 6 times\n",
      "Node 6 switched parents 8 times\n",
      "Node 52 switched parents 6 times\n",
      "Node 4 switched parents 2 times\n",
      "Node 59 switched parents 3 times\n",
      "Node 20 switched parents 7 times\n",
      "Node 3 switched parents 4 times\n",
      "Node 63 switched parents 5 times\n",
      "Node 15 switched parents 2 times\n",
      "Node 56 switched parents 4 times\n",
      "Node 78 switched parents 5 times\n",
      "Node 17 switched parents 2 times\n",
      "Node 5 switched parents 1 times\n",
      "Node 46 switched parents 8 times\n",
      "Node 36 switched parents 1 times\n",
      "Node 80 switched parents 2 times\n",
      "Node 30 switched parents 2 times\n",
      "Node 21 switched parents 5 times\n",
      "Node 39 switched parents 3 times\n",
      "Node 10 switched parents 4 times\n",
      "Node 31 switched parents 7 times\n",
      "Node 27 switched parents 0 times\n",
      "Node 9 switched parents 1 times\n",
      "Node 16 switched parents 6 times\n",
      "Node 62 switched parents 3 times\n",
      "Node 53 switched parents 2 times\n",
      "Node 19 switched parents 5 times\n",
      "Node 77 switched parents 1 times\n",
      "Node 1 switched parents 1 times\n",
      "Node 51 switched parents 0 times\n",
      "Node 8 switched parents 1 times\n",
      "Node 60 switched parents 0 times\n",
      "Node 44 switched parents 1 times\n",
      "Node 37 switched parents 0 times\n",
      "Node 23 switched parents 1 times\n",
      "Node 42 switched parents 2 times\n",
      "Node 50 switched parents 0 times\n",
      "Node 75 switched parents 1 times\n",
      "Node 58 switched parents 1 times\n",
      "Node 32 switched parents 1 times\n",
      "Node 26 switched parents 1 times\n",
      "Node 38 switched parents 1 times\n",
      "Node 45 switched parents 2 times\n",
      "Node 18 switched parents 1 times\n",
      "Node 79 switched parents 1 times\n",
      "Node 0 switched parents 0 times\n",
      "Node 68 switched parents 1 times\n",
      "Node 28 switched parents 0 times\n",
      "Node 72 switched parents 1 times\n",
      "Node 40 switched parents 0 times\n",
      "Node 41 switched parents 0 times\n",
      "Node 54 switched parents 1 times\n",
      "Node 83 switched parents 1 times\n",
      "Node 25 switched parents 1 times\n",
      "Node 49 switched parents 1 times\n",
      "Node 57 switched parents 0 times\n",
      "Node 76 switched parents 1 times\n",
      "Node 24 switched parents 1 times\n",
      "Node 43 switched parents 1 times\n",
      "Node 33 switched parents 1 times\n",
      "Node 13 switched parents 1 times\n",
      "Node 65 switched parents 1 times\n",
      "Node 12 switched parents 1 times\n",
      "Node 7 switched parents 1 times\n",
      "Node 55 switched parents 1 times\n",
      "Node 29 switched parents 1 times\n",
      "Node 67 switched parents 1 times\n",
      "Node 22 switched parents 2 times\n",
      "Node 2 switched parents 1 times\n",
      "Node 70 switched parents 1 times\n",
      "Node 47 switched parents 1 times\n",
      "Node 14 switched parents 1 times\n",
      "Node 48 switched parents 1 times\n",
      "Node 66 switched parents 1 times\n",
      "Node 61 switched parents 0 times\n",
      "Node 35 switched parents 1 times\n",
      "Node 64 switched parents 1 times\n",
      "Node 6 switched parents 2 times\n",
      "Node 52 switched parents 1 times\n",
      "Node 4 switched parents 1 times\n",
      "Node 59 switched parents 1 times\n",
      "Node 20 switched parents 0 times\n",
      "Node 3 switched parents 2 times\n",
      "Node 63 switched parents 1 times\n",
      "Node 15 switched parents 1 times\n",
      "Node 56 switched parents 1 times\n",
      "Node 78 switched parents 1 times\n",
      "Node 17 switched parents 1 times\n",
      "Node 5 switched parents 1 times\n",
      "Node 46 switched parents 1 times\n",
      "Node 36 switched parents 1 times\n",
      "Node 80 switched parents 1 times\n",
      "Node 30 switched parents 1 times\n",
      "Node 21 switched parents 1 times\n",
      "Node 39 switched parents 1 times\n",
      "Node 10 switched parents 1 times\n",
      "Node 31 switched parents 1 times\n",
      "Node 27 switched parents 2 times\n",
      "Node 9 switched parents 1 times\n",
      "Node 16 switched parents 1 times\n",
      "Node 62 switched parents 1 times\n",
      "Node 53 switched parents 1 times\n",
      "Node 19 switched parents 3 times\n",
      "Node 77 switched parents 2 times\n",
      "Node 1 switched parents 1 times\n",
      "Node 51 switched parents 1 times\n",
      "Node 8 switched parents 2 times\n",
      "Node 60 switched parents 4 times\n",
      "Node 44 switched parents 2 times\n",
      "Node 37 switched parents 1 times\n",
      "Node 23 switched parents 2 times\n",
      "Node 42 switched parents 3 times\n",
      "Node 50 switched parents 1 times\n",
      "Node 75 switched parents 2 times\n",
      "Node 58 switched parents 3 times\n",
      "Node 32 switched parents 3 times\n",
      "Node 26 switched parents 3 times\n",
      "Node 38 switched parents 1 times\n",
      "Node 45 switched parents 2 times\n",
      "Node 18 switched parents 1 times\n",
      "Node 79 switched parents 2 times\n",
      "Node 0 switched parents 0 times\n",
      "Node 68 switched parents 3 times\n",
      "Node 28 switched parents 3 times\n",
      "Node 72 switched parents 4 times\n",
      "Node 40 switched parents 2 times\n",
      "Node 41 switched parents 3 times\n",
      "Node 54 switched parents 1 times\n",
      "Node 83 switched parents 2 times\n",
      "Node 25 switched parents 1 times\n",
      "Node 49 switched parents 2 times\n",
      "Node 57 switched parents 2 times\n",
      "Node 76 switched parents 1 times\n",
      "Node 24 switched parents 1 times\n",
      "Node 43 switched parents 1 times\n",
      "Node 33 switched parents 7 times\n",
      "Node 13 switched parents 5 times\n",
      "Node 65 switched parents 2 times\n",
      "Node 12 switched parents 2 times\n",
      "Node 7 switched parents 1 times\n",
      "Node 55 switched parents 4 times\n",
      "Node 29 switched parents 5 times\n",
      "Node 67 switched parents 5 times\n",
      "Node 22 switched parents 3 times\n",
      "Node 2 switched parents 2 times\n",
      "Node 70 switched parents 3 times\n",
      "Node 47 switched parents 3 times\n",
      "Node 14 switched parents 3 times\n",
      "Node 48 switched parents 3 times\n",
      "Node 66 switched parents 6 times\n",
      "Node 61 switched parents 2 times\n",
      "Node 35 switched parents 4 times\n",
      "Node 64 switched parents 2 times\n",
      "Node 6 switched parents 1 times\n",
      "Node 52 switched parents 2 times\n",
      "Node 4 switched parents 2 times\n",
      "Node 59 switched parents 2 times\n",
      "Node 20 switched parents 1 times\n",
      "Node 3 switched parents 2 times\n",
      "Node 63 switched parents 3 times\n",
      "Node 15 switched parents 3 times\n",
      "Node 56 switched parents 4 times\n",
      "Node 78 switched parents 3 times\n",
      "Node 17 switched parents 3 times\n",
      "Node 5 switched parents 2 times\n",
      "Node 46 switched parents 2 times\n",
      "Node 36 switched parents 4 times\n",
      "Node 80 switched parents 2 times\n",
      "Node 30 switched parents 4 times\n",
      "Node 21 switched parents 2 times\n",
      "Node 39 switched parents 2 times\n",
      "Node 10 switched parents 3 times\n",
      "Node 31 switched parents 3 times\n",
      "Node 27 switched parents 2 times\n",
      "Node 9 switched parents 2 times\n",
      "Node 16 switched parents 3 times\n",
      "Node 62 switched parents 1 times\n",
      "Node 53 switched parents 3 times\n",
      "Node 19 switched parents 4 times\n",
      "Node 77 switched parents 7 times\n",
      "Node 1 switched parents 2 times\n",
      "Node 51 switched parents 5 times\n",
      "Node 8 switched parents 4 times\n",
      "Node 60 switched parents 1 times\n",
      "Node 44 switched parents 3 times\n",
      "Node 37 switched parents 1 times\n",
      "Node 23 switched parents 4 times\n",
      "Node 42 switched parents 2 times\n",
      "Node 50 switched parents 6 times\n",
      "Node 75 switched parents 1 times\n",
      "Node 58 switched parents 2 times\n",
      "Node 32 switched parents 1 times\n",
      "Node 26 switched parents 2 times\n",
      "Node 38 switched parents 5 times\n",
      "Node 45 switched parents 1 times\n",
      "Node 18 switched parents 5 times\n",
      "Node 79 switched parents 2 times\n",
      "Node 0 switched parents 0 times\n",
      "Node 68 switched parents 7 times\n",
      "Node 28 switched parents 0 times\n",
      "Node 72 switched parents 12 times\n",
      "Node 40 switched parents 1 times\n",
      "Node 41 switched parents 4 times\n",
      "Node 54 switched parents 3 times\n",
      "Node 83 switched parents 3 times\n",
      "Node 25 switched parents 6 times\n",
      "Node 49 switched parents 4 times\n",
      "Node 57 switched parents 1 times\n",
      "Node 76 switched parents 5 times\n",
      "Node 24 switched parents 1 times\n",
      "Node 43 switched parents 4 times\n",
      "Node 33 switched parents 1 times\n",
      "Node 13 switched parents 3 times\n",
      "Node 65 switched parents 2 times\n",
      "Node 12 switched parents 7 times\n",
      "Node 7 switched parents 3 times\n",
      "Node 55 switched parents 4 times\n",
      "Node 29 switched parents 1 times\n",
      "Node 67 switched parents 8 times\n",
      "Node 22 switched parents 1 times\n",
      "Node 2 switched parents 6 times\n",
      "Node 70 switched parents 2 times\n",
      "Node 47 switched parents 4 times\n",
      "Node 14 switched parents 4 times\n",
      "Node 48 switched parents 3 times\n",
      "Node 66 switched parents 3 times\n",
      "Node 61 switched parents 1 times\n",
      "Node 35 switched parents 3 times\n",
      "Node 64 switched parents 1 times\n",
      "Node 6 switched parents 2 times\n",
      "Node 52 switched parents 6 times\n",
      "Node 4 switched parents 8 times\n",
      "Node 59 switched parents 1 times\n",
      "Node 20 switched parents 2 times\n",
      "Node 3 switched parents 9 times\n",
      "Node 63 switched parents 1 times\n",
      "Node 15 switched parents 3 times\n",
      "Node 56 switched parents 1 times\n",
      "Node 78 switched parents 7 times\n",
      "Node 17 switched parents 3 times\n",
      "Node 5 switched parents 1 times\n",
      "Node 46 switched parents 5 times\n",
      "Node 36 switched parents 1 times\n",
      "Node 80 switched parents 4 times\n",
      "Node 30 switched parents 1 times\n",
      "Node 21 switched parents 9 times\n",
      "Node 39 switched parents 2 times\n",
      "Node 10 switched parents 2 times\n",
      "Node 31 switched parents 1 times\n",
      "Node 27 switched parents 1 times\n",
      "Node 9 switched parents 4 times\n",
      "Node 16 switched parents 3 times\n",
      "Node 62 switched parents 3 times\n",
      "Node 53 switched parents 7 times\n",
      "Node 19 switched parents 9 times\n",
      "Node 77 switched parents 1 times\n",
      "Node 1 switched parents 3 times\n",
      "Node 51 switched parents 3 times\n",
      "Node 8 switched parents 4 times\n",
      "Node 60 switched parents 0 times\n",
      "Node 44 switched parents 2 times\n",
      "Node 37 switched parents 1 times\n",
      "Node 23 switched parents 5 times\n",
      "Node 42 switched parents 1 times\n",
      "Node 50 switched parents 2 times\n",
      "Node 75 switched parents 2 times\n",
      "Node 58 switched parents 1 times\n",
      "Node 32 switched parents 1 times\n",
      "Node 26 switched parents 1 times\n",
      "Node 38 switched parents 3 times\n",
      "Node 45 switched parents 1 times\n",
      "Node 18 switched parents 1 times\n",
      "Node 79 switched parents 1 times\n",
      "Node 0 switched parents 0 times\n",
      "Node 68 switched parents 2 times\n",
      "Node 28 switched parents 1 times\n",
      "Node 72 switched parents 1 times\n",
      "Node 40 switched parents 3 times\n",
      "Node 41 switched parents 1 times\n",
      "Node 54 switched parents 1 times\n",
      "Node 83 switched parents 2 times\n",
      "Node 25 switched parents 1 times\n",
      "Node 49 switched parents 3 times\n",
      "Node 57 switched parents 1 times\n",
      "Node 76 switched parents 3 times\n",
      "Node 24 switched parents 3 times\n",
      "Node 43 switched parents 1 times\n",
      "Node 33 switched parents 0 times\n",
      "Node 13 switched parents 0 times\n",
      "Node 65 switched parents 2 times\n",
      "Node 12 switched parents 2 times\n",
      "Node 7 switched parents 2 times\n",
      "Node 55 switched parents 0 times\n",
      "Node 29 switched parents 1 times\n",
      "Node 67 switched parents 2 times\n",
      "Node 22 switched parents 2 times\n",
      "Node 2 switched parents 2 times\n",
      "Node 70 switched parents 2 times\n",
      "Node 47 switched parents 3 times\n",
      "Node 14 switched parents 1 times\n",
      "Node 48 switched parents 1 times\n",
      "Node 66 switched parents 1 times\n",
      "Node 61 switched parents 0 times\n",
      "Node 35 switched parents 1 times\n",
      "Node 64 switched parents 3 times\n",
      "Node 6 switched parents 1 times\n",
      "Node 52 switched parents 1 times\n",
      "Node 4 switched parents 1 times\n",
      "Node 59 switched parents 1 times\n",
      "Node 20 switched parents 3 times\n",
      "Node 3 switched parents 1 times\n",
      "Node 63 switched parents 3 times\n",
      "Node 15 switched parents 2 times\n",
      "Node 56 switched parents 4 times\n",
      "Node 78 switched parents 1 times\n",
      "Node 17 switched parents 1 times\n",
      "Node 5 switched parents 1 times\n",
      "Node 46 switched parents 1 times\n",
      "Node 36 switched parents 1 times\n",
      "Node 80 switched parents 0 times\n",
      "Node 30 switched parents 1 times\n",
      "Node 21 switched parents 1 times\n",
      "Node 39 switched parents 1 times\n",
      "Node 10 switched parents 1 times\n",
      "Node 31 switched parents 1 times\n",
      "Node 27 switched parents 2 times\n",
      "Node 9 switched parents 1 times\n",
      "Node 16 switched parents 1 times\n",
      "Node 62 switched parents 0 times\n",
      "Node 53 switched parents 1 times\n",
      "Node 19 switched parents 3 times\n",
      "Node 77 switched parents 2 times\n",
      "Node 1 switched parents 1 times\n",
      "Node 51 switched parents 3 times\n",
      "Node 8 switched parents 5 times\n",
      "Node 60 switched parents 3 times\n",
      "Node 44 switched parents 2 times\n",
      "Node 37 switched parents 1 times\n",
      "Node 23 switched parents 1 times\n",
      "Node 42 switched parents 3 times\n",
      "Node 50 switched parents 1 times\n",
      "Node 75 switched parents 2 times\n",
      "Node 58 switched parents 2 times\n",
      "Node 32 switched parents 0 times\n",
      "Node 26 switched parents 3 times\n",
      "Node 38 switched parents 1 times\n",
      "Node 45 switched parents 3 times\n",
      "Node 18 switched parents 1 times\n",
      "Node 79 switched parents 1 times\n",
      "Node 0 switched parents 0 times\n",
      "Node 68 switched parents 3 times\n",
      "Node 28 switched parents 3 times\n",
      "Node 72 switched parents 2 times\n",
      "Node 40 switched parents 2 times\n",
      "Node 41 switched parents 2 times\n",
      "Node 54 switched parents 2 times\n",
      "Node 83 switched parents 1 times\n",
      "Node 25 switched parents 5 times\n",
      "Node 49 switched parents 1 times\n",
      "Node 57 switched parents 1 times\n",
      "Node 76 switched parents 4 times\n",
      "Node 24 switched parents 0 times\n",
      "Node 43 switched parents 3 times\n",
      "Node 33 switched parents 1 times\n",
      "Node 13 switched parents 4 times\n",
      "Node 65 switched parents 1 times\n",
      "Node 12 switched parents 2 times\n",
      "Node 7 switched parents 3 times\n",
      "Node 55 switched parents 2 times\n",
      "Node 29 switched parents 2 times\n",
      "Node 67 switched parents 3 times\n",
      "Node 22 switched parents 0 times\n",
      "Node 2 switched parents 2 times\n",
      "Node 70 switched parents 4 times\n",
      "Node 47 switched parents 1 times\n",
      "Node 14 switched parents 3 times\n",
      "Node 48 switched parents 1 times\n",
      "Node 66 switched parents 3 times\n",
      "Node 61 switched parents 2 times\n",
      "Node 35 switched parents 1 times\n",
      "Node 64 switched parents 2 times\n",
      "Node 6 switched parents 0 times\n",
      "Node 52 switched parents 2 times\n",
      "Node 4 switched parents 1 times\n",
      "Node 59 switched parents 1 times\n",
      "Node 20 switched parents 2 times\n",
      "Node 3 switched parents 6 times\n",
      "Node 63 switched parents 3 times\n",
      "Node 15 switched parents 2 times\n",
      "Node 56 switched parents 3 times\n",
      "Node 78 switched parents 5 times\n",
      "Node 17 switched parents 3 times\n",
      "Node 5 switched parents 2 times\n",
      "Node 46 switched parents 1 times\n",
      "Node 36 switched parents 0 times\n",
      "Node 80 switched parents 2 times\n",
      "Node 30 switched parents 2 times\n",
      "Node 21 switched parents 4 times\n",
      "Node 39 switched parents 1 times\n",
      "Node 10 switched parents 4 times\n",
      "Node 31 switched parents 1 times\n",
      "Node 27 switched parents 2 times\n",
      "Node 9 switched parents 0 times\n",
      "Node 16 switched parents 4 times\n",
      "Node 62 switched parents 2 times\n",
      "Node 53 switched parents 1 times\n",
      "Node 19 switched parents 1 times\n",
      "Node 77 switched parents 1 times\n",
      "Node 1 switched parents 1 times\n",
      "Node 51 switched parents 1 times\n",
      "Node 8 switched parents 1 times\n",
      "Node 60 switched parents 1 times\n",
      "Node 44 switched parents 0 times\n",
      "Node 37 switched parents 1 times\n",
      "Node 23 switched parents 1 times\n",
      "Node 42 switched parents 2 times\n",
      "Node 50 switched parents 2 times\n",
      "Node 75 switched parents 1 times\n",
      "Node 58 switched parents 0 times\n",
      "Node 32 switched parents 1 times\n",
      "Node 26 switched parents 3 times\n",
      "Node 38 switched parents 1 times\n",
      "Node 45 switched parents 0 times\n",
      "Node 18 switched parents 1 times\n",
      "Node 79 switched parents 1 times\n",
      "Node 0 switched parents 0 times\n",
      "Node 68 switched parents 1 times\n",
      "Node 28 switched parents 1 times\n",
      "Node 72 switched parents 3 times\n",
      "Node 40 switched parents 1 times\n",
      "Node 41 switched parents 3 times\n",
      "Node 54 switched parents 1 times\n",
      "Node 83 switched parents 2 times\n",
      "Node 25 switched parents 0 times\n",
      "Node 49 switched parents 1 times\n",
      "Node 57 switched parents 1 times\n",
      "Node 76 switched parents 1 times\n",
      "Node 24 switched parents 0 times\n",
      "Node 43 switched parents 1 times\n",
      "Node 33 switched parents 0 times\n",
      "Node 13 switched parents 1 times\n",
      "Node 65 switched parents 1 times\n",
      "Node 12 switched parents 1 times\n",
      "Node 7 switched parents 1 times\n",
      "Node 55 switched parents 2 times\n",
      "Node 29 switched parents 0 times\n",
      "Node 67 switched parents 1 times\n",
      "Node 22 switched parents 1 times\n",
      "Node 2 switched parents 1 times\n",
      "Node 70 switched parents 1 times\n",
      "Node 47 switched parents 1 times\n",
      "Node 14 switched parents 2 times\n",
      "Node 48 switched parents 1 times\n",
      "Node 66 switched parents 1 times\n",
      "Node 61 switched parents 1 times\n",
      "Node 35 switched parents 1 times\n",
      "Node 64 switched parents 3 times\n",
      "Node 6 switched parents 2 times\n",
      "Node 52 switched parents 1 times\n",
      "Node 4 switched parents 1 times\n",
      "Node 59 switched parents 1 times\n",
      "Node 20 switched parents 0 times\n",
      "Node 3 switched parents 1 times\n",
      "Node 63 switched parents 1 times\n",
      "Node 15 switched parents 1 times\n",
      "Node 56 switched parents 1 times\n",
      "Node 78 switched parents 1 times\n",
      "Node 17 switched parents 1 times\n",
      "Node 5 switched parents 1 times\n",
      "Node 46 switched parents 1 times\n",
      "Node 36 switched parents 1 times\n",
      "Node 80 switched parents 1 times\n",
      "Node 30 switched parents 0 times\n",
      "Node 21 switched parents 1 times\n",
      "Node 39 switched parents 1 times\n",
      "Node 10 switched parents 1 times\n",
      "Node 31 switched parents 1 times\n",
      "Node 27 switched parents 1 times\n",
      "Node 9 switched parents 2 times\n",
      "Node 16 switched parents 1 times\n",
      "Node 62 switched parents 1 times\n",
      "Node 53 switched parents 1 times\n",
      "Node 19 switched parents 2 times\n",
      "Node 77 switched parents 1 times\n",
      "Node 1 switched parents 2 times\n",
      "Node 51 switched parents 2 times\n",
      "Node 8 switched parents 2 times\n",
      "Node 60 switched parents 1 times\n",
      "Node 44 switched parents 2 times\n",
      "Node 37 switched parents 1 times\n",
      "Node 23 switched parents 1 times\n",
      "Node 42 switched parents 1 times\n",
      "Node 50 switched parents 2 times\n",
      "Node 75 switched parents 1 times\n",
      "Node 58 switched parents 1 times\n",
      "Node 32 switched parents 2 times\n",
      "Node 26 switched parents 1 times\n",
      "Node 38 switched parents 2 times\n",
      "Node 45 switched parents 3 times\n",
      "Node 18 switched parents 1 times\n",
      "Node 79 switched parents 0 times\n",
      "Node 0 switched parents 0 times\n",
      "Node 68 switched parents 1 times\n",
      "Node 28 switched parents 1 times\n",
      "Node 72 switched parents 2 times\n",
      "Node 40 switched parents 1 times\n",
      "Node 41 switched parents 1 times\n",
      "Node 54 switched parents 2 times\n",
      "Node 83 switched parents 3 times\n",
      "Node 25 switched parents 4 times\n",
      "Node 49 switched parents 2 times\n",
      "Node 57 switched parents 0 times\n",
      "Node 76 switched parents 1 times\n",
      "Node 24 switched parents 2 times\n",
      "Node 43 switched parents 1 times\n",
      "Node 33 switched parents 3 times\n",
      "Node 13 switched parents 3 times\n",
      "Node 65 switched parents 0 times\n",
      "Node 12 switched parents 2 times\n",
      "Node 7 switched parents 2 times\n",
      "Node 55 switched parents 1 times\n",
      "Node 29 switched parents 1 times\n",
      "Node 67 switched parents 1 times\n",
      "Node 22 switched parents 1 times\n",
      "Node 2 switched parents 2 times\n",
      "Node 70 switched parents 2 times\n",
      "Node 47 switched parents 2 times\n",
      "Node 14 switched parents 5 times\n",
      "Node 48 switched parents 2 times\n",
      "Node 66 switched parents 1 times\n",
      "Node 61 switched parents 0 times\n",
      "Node 35 switched parents 2 times\n",
      "Node 64 switched parents 2 times\n",
      "Node 6 switched parents 3 times\n",
      "Node 52 switched parents 2 times\n",
      "Node 4 switched parents 3 times\n",
      "Node 59 switched parents 1 times\n",
      "Node 20 switched parents 1 times\n",
      "Node 3 switched parents 1 times\n",
      "Node 63 switched parents 1 times\n",
      "Node 15 switched parents 1 times\n",
      "Node 56 switched parents 2 times\n",
      "Node 78 switched parents 2 times\n",
      "Node 17 switched parents 1 times\n",
      "Node 5 switched parents 1 times\n",
      "Node 46 switched parents 3 times\n",
      "Node 36 switched parents 1 times\n",
      "Node 80 switched parents 1 times\n",
      "Node 30 switched parents 0 times\n",
      "Node 21 switched parents 1 times\n",
      "Node 39 switched parents 2 times\n",
      "Node 10 switched parents 4 times\n",
      "Node 31 switched parents 1 times\n",
      "Node 27 switched parents 0 times\n",
      "Node 9 switched parents 1 times\n",
      "Node 16 switched parents 1 times\n",
      "Node 62 switched parents 1 times\n",
      "Node 53 switched parents 1 times\n",
      "Node 19 switched parents 5 times\n",
      "Node 77 switched parents 9 times\n",
      "Node 1 switched parents 1 times\n",
      "Node 51 switched parents 4 times\n",
      "Node 8 switched parents 1 times\n",
      "Node 60 switched parents 2 times\n",
      "Node 44 switched parents 1 times\n",
      "Node 37 switched parents 0 times\n",
      "Node 23 switched parents 1 times\n",
      "Node 42 switched parents 10 times\n",
      "Node 50 switched parents 4 times\n",
      "Node 75 switched parents 2 times\n",
      "Node 58 switched parents 1 times\n",
      "Node 32 switched parents 3 times\n",
      "Node 26 switched parents 2 times\n",
      "Node 38 switched parents 1 times\n",
      "Node 45 switched parents 5 times\n",
      "Node 18 switched parents 1 times\n",
      "Node 79 switched parents 3 times\n",
      "Node 0 switched parents 0 times\n",
      "Node 68 switched parents 15 times\n",
      "Node 28 switched parents 1 times\n",
      "Node 72 switched parents 2 times\n",
      "Node 40 switched parents 4 times\n",
      "Node 41 switched parents 0 times\n",
      "Node 54 switched parents 2 times\n",
      "Node 83 switched parents 3 times\n",
      "Node 25 switched parents 2 times\n",
      "Node 49 switched parents 3 times\n",
      "Node 57 switched parents 0 times\n",
      "Node 76 switched parents 3 times\n",
      "Node 24 switched parents 2 times\n",
      "Node 43 switched parents 0 times\n",
      "Node 33 switched parents 3 times\n",
      "Node 13 switched parents 3 times\n",
      "Node 65 switched parents 1 times\n",
      "Node 12 switched parents 4 times\n",
      "Node 7 switched parents 1 times\n",
      "Node 55 switched parents 2 times\n",
      "Node 29 switched parents 8 times\n",
      "Node 67 switched parents 6 times\n",
      "Node 22 switched parents 7 times\n",
      "Node 2 switched parents 3 times\n",
      "Node 70 switched parents 5 times\n",
      "Node 47 switched parents 2 times\n",
      "Node 14 switched parents 5 times\n",
      "Node 48 switched parents 3 times\n",
      "Node 66 switched parents 2 times\n",
      "Node 61 switched parents 3 times\n",
      "Node 35 switched parents 3 times\n",
      "Node 64 switched parents 2 times\n",
      "Node 6 switched parents 1 times\n",
      "Node 52 switched parents 1 times\n",
      "Node 4 switched parents 2 times\n",
      "Node 59 switched parents 3 times\n",
      "Node 20 switched parents 2 times\n",
      "Node 3 switched parents 3 times\n",
      "Node 63 switched parents 2 times\n",
      "Node 15 switched parents 2 times\n",
      "Node 56 switched parents 4 times\n",
      "Node 78 switched parents 7 times\n",
      "Node 17 switched parents 6 times\n",
      "Node 5 switched parents 1 times\n",
      "Node 46 switched parents 1 times\n",
      "Node 36 switched parents 1 times\n",
      "Node 80 switched parents 1 times\n",
      "Node 30 switched parents 1 times\n",
      "Node 21 switched parents 8 times\n",
      "Node 39 switched parents 1 times\n",
      "Node 10 switched parents 4 times\n",
      "Node 31 switched parents 1 times\n",
      "Node 27 switched parents 5 times\n",
      "Node 9 switched parents 1 times\n",
      "Node 16 switched parents 11 times\n",
      "Node 62 switched parents 2 times\n",
      "Node 53 switched parents 1 times\n",
      "Node 19 switched parents 4 times\n"
     ]
    }
   ],
   "source": [
    "events = []\n",
    "for experiment in glob.glob(EXPERIMENT_PATH):\n",
    "    _events, _, _ = parse_experiment(pathlib.Path(experiment))\n",
    "    events += _events\n",
    "    \n",
    "df = pd.DataFrame(events)"
   ]
  },
  {
   "cell_type": "markdown",
   "metadata": {},
   "source": [
    "# Evaluation Metrics\n",
    "- [x] Table: How many nodes have received the entire payload?\n",
    "- [x] Plot: Percentage comparison of BTP vs. max_power w.r.t. to received payloads\n",
    "- [X] Plot: How many percent more or less energy does BTP need compared to max_power\n",
    "- [X] Plot: What is the overhead of the BTP protocol (i.e. payload energy vs. protocol energy)?\n",
    "- [] Plot: How are individual nodes strained?"
   ]
  },
  {
   "cell_type": "markdown",
   "metadata": {},
   "source": [
    "# Absolute Values of Received Payloads"
   ]
  },
  {
   "cell_type": "code",
   "execution_count": 21,
   "metadata": {},
   "outputs": [],
   "source": [
    "reception_df = df.groupby(EXPERIMENT_IDENTIFIER)[\"event\"].apply(lambda x: (x == 'receive').sum()).reset_index(name='count')"
   ]
  },
  {
   "cell_type": "code",
   "execution_count": 22,
   "metadata": {},
   "outputs": [
    {
     "data": {
      "text/html": [
       "<div>\n",
       "<style scoped>\n",
       "    .dataframe tbody tr th:only-of-type {\n",
       "        vertical-align: middle;\n",
       "    }\n",
       "\n",
       "    .dataframe tbody tr th {\n",
       "        vertical-align: top;\n",
       "    }\n",
       "\n",
       "    .dataframe thead th {\n",
       "        text-align: right;\n",
       "    }\n",
       "</style>\n",
       "<table border=\"1\" class=\"dataframe\">\n",
       "  <thead>\n",
       "    <tr style=\"text-align: right;\">\n",
       "      <th></th>\n",
       "      <th>payload_size</th>\n",
       "      <th>max_power</th>\n",
       "      <th>unchanged_counter</th>\n",
       "      <th>iteration</th>\n",
       "      <th>count</th>\n",
       "    </tr>\n",
       "  </thead>\n",
       "  <tbody>\n",
       "    <tr>\n",
       "      <th>0</th>\n",
       "      <td>100K</td>\n",
       "      <td>False</td>\n",
       "      <td>5</td>\n",
       "      <td>0</td>\n",
       "      <td>2</td>\n",
       "    </tr>\n",
       "    <tr>\n",
       "      <th>1</th>\n",
       "      <td>100K</td>\n",
       "      <td>False</td>\n",
       "      <td>15</td>\n",
       "      <td>0</td>\n",
       "      <td>2</td>\n",
       "    </tr>\n",
       "    <tr>\n",
       "      <th>2</th>\n",
       "      <td>100K</td>\n",
       "      <td>False</td>\n",
       "      <td>25</td>\n",
       "      <td>0</td>\n",
       "      <td>7</td>\n",
       "    </tr>\n",
       "    <tr>\n",
       "      <th>3</th>\n",
       "      <td>100K</td>\n",
       "      <td>True</td>\n",
       "      <td>5</td>\n",
       "      <td>0</td>\n",
       "      <td>14</td>\n",
       "    </tr>\n",
       "    <tr>\n",
       "      <th>4</th>\n",
       "      <td>100K</td>\n",
       "      <td>True</td>\n",
       "      <td>15</td>\n",
       "      <td>0</td>\n",
       "      <td>12</td>\n",
       "    </tr>\n",
       "    <tr>\n",
       "      <th>5</th>\n",
       "      <td>100K</td>\n",
       "      <td>True</td>\n",
       "      <td>25</td>\n",
       "      <td>0</td>\n",
       "      <td>12</td>\n",
       "    </tr>\n",
       "    <tr>\n",
       "      <th>6</th>\n",
       "      <td>1K</td>\n",
       "      <td>False</td>\n",
       "      <td>5</td>\n",
       "      <td>0</td>\n",
       "      <td>65</td>\n",
       "    </tr>\n",
       "    <tr>\n",
       "      <th>7</th>\n",
       "      <td>1K</td>\n",
       "      <td>False</td>\n",
       "      <td>15</td>\n",
       "      <td>0</td>\n",
       "      <td>73</td>\n",
       "    </tr>\n",
       "    <tr>\n",
       "      <th>8</th>\n",
       "      <td>1K</td>\n",
       "      <td>False</td>\n",
       "      <td>25</td>\n",
       "      <td>0</td>\n",
       "      <td>71</td>\n",
       "    </tr>\n",
       "    <tr>\n",
       "      <th>9</th>\n",
       "      <td>1K</td>\n",
       "      <td>True</td>\n",
       "      <td>5</td>\n",
       "      <td>0</td>\n",
       "      <td>65</td>\n",
       "    </tr>\n",
       "    <tr>\n",
       "      <th>10</th>\n",
       "      <td>1K</td>\n",
       "      <td>True</td>\n",
       "      <td>15</td>\n",
       "      <td>0</td>\n",
       "      <td>74</td>\n",
       "    </tr>\n",
       "    <tr>\n",
       "      <th>11</th>\n",
       "      <td>1K</td>\n",
       "      <td>True</td>\n",
       "      <td>25</td>\n",
       "      <td>0</td>\n",
       "      <td>71</td>\n",
       "    </tr>\n",
       "    <tr>\n",
       "      <th>12</th>\n",
       "      <td>1M</td>\n",
       "      <td>False</td>\n",
       "      <td>5</td>\n",
       "      <td>0</td>\n",
       "      <td>74</td>\n",
       "    </tr>\n",
       "    <tr>\n",
       "      <th>13</th>\n",
       "      <td>1M</td>\n",
       "      <td>False</td>\n",
       "      <td>15</td>\n",
       "      <td>0</td>\n",
       "      <td>72</td>\n",
       "    </tr>\n",
       "    <tr>\n",
       "      <th>14</th>\n",
       "      <td>1M</td>\n",
       "      <td>False</td>\n",
       "      <td>25</td>\n",
       "      <td>0</td>\n",
       "      <td>73</td>\n",
       "    </tr>\n",
       "    <tr>\n",
       "      <th>15</th>\n",
       "      <td>1M</td>\n",
       "      <td>True</td>\n",
       "      <td>5</td>\n",
       "      <td>0</td>\n",
       "      <td>63</td>\n",
       "    </tr>\n",
       "    <tr>\n",
       "      <th>16</th>\n",
       "      <td>1M</td>\n",
       "      <td>True</td>\n",
       "      <td>15</td>\n",
       "      <td>0</td>\n",
       "      <td>66</td>\n",
       "    </tr>\n",
       "    <tr>\n",
       "      <th>17</th>\n",
       "      <td>1M</td>\n",
       "      <td>True</td>\n",
       "      <td>25</td>\n",
       "      <td>0</td>\n",
       "      <td>67</td>\n",
       "    </tr>\n",
       "  </tbody>\n",
       "</table>\n",
       "</div>"
      ],
      "text/plain": [
       "   payload_size  max_power  unchanged_counter  iteration  count\n",
       "0          100K      False                  5          0      2\n",
       "1          100K      False                 15          0      2\n",
       "2          100K      False                 25          0      7\n",
       "3          100K       True                  5          0     14\n",
       "4          100K       True                 15          0     12\n",
       "5          100K       True                 25          0     12\n",
       "6            1K      False                  5          0     65\n",
       "7            1K      False                 15          0     73\n",
       "8            1K      False                 25          0     71\n",
       "9            1K       True                  5          0     65\n",
       "10           1K       True                 15          0     74\n",
       "11           1K       True                 25          0     71\n",
       "12           1M      False                  5          0     74\n",
       "13           1M      False                 15          0     72\n",
       "14           1M      False                 25          0     73\n",
       "15           1M       True                  5          0     63\n",
       "16           1M       True                 15          0     66\n",
       "17           1M       True                 25          0     67"
      ]
     },
     "execution_count": 22,
     "metadata": {},
     "output_type": "execute_result"
    }
   ],
   "source": [
    "reception_df"
   ]
  },
  {
   "cell_type": "code",
   "execution_count": 5,
   "metadata": {},
   "outputs": [
    {
     "data": {
      "application/vnd.plotly.v1+json": {
       "config": {
        "plotlyServerURL": "https://plot.ly"
       },
       "data": [
        {
         "alignmentgroup": "True",
         "hovertemplate": "unchanged_counter=5<br>max_power=False<br>payload_size=%{x}<br>count=%{y}<extra></extra>",
         "legendgroup": "5",
         "marker": {
          "color": "#636efa"
         },
         "name": "5",
         "notched": false,
         "offsetgroup": "5",
         "orientation": "v",
         "showlegend": true,
         "type": "box",
         "x": [
          "100K",
          "1K",
          "1M"
         ],
         "x0": " ",
         "xaxis": "x",
         "y": [
          2,
          65,
          74
         ],
         "y0": " ",
         "yaxis": "y"
        },
        {
         "alignmentgroup": "True",
         "hovertemplate": "unchanged_counter=5<br>max_power=True<br>payload_size=%{x}<br>count=%{y}<extra></extra>",
         "legendgroup": "5",
         "marker": {
          "color": "#636efa"
         },
         "name": "5",
         "notched": false,
         "offsetgroup": "5",
         "orientation": "v",
         "showlegend": false,
         "type": "box",
         "x": [
          "100K",
          "1K",
          "1M"
         ],
         "x0": " ",
         "xaxis": "x2",
         "y": [
          14,
          65,
          63
         ],
         "y0": " ",
         "yaxis": "y2"
        },
        {
         "alignmentgroup": "True",
         "hovertemplate": "unchanged_counter=15<br>max_power=False<br>payload_size=%{x}<br>count=%{y}<extra></extra>",
         "legendgroup": "15",
         "marker": {
          "color": "#EF553B"
         },
         "name": "15",
         "notched": false,
         "offsetgroup": "15",
         "orientation": "v",
         "showlegend": true,
         "type": "box",
         "x": [
          "100K",
          "1K",
          "1M"
         ],
         "x0": " ",
         "xaxis": "x",
         "y": [
          2,
          73,
          72
         ],
         "y0": " ",
         "yaxis": "y"
        },
        {
         "alignmentgroup": "True",
         "hovertemplate": "unchanged_counter=15<br>max_power=True<br>payload_size=%{x}<br>count=%{y}<extra></extra>",
         "legendgroup": "15",
         "marker": {
          "color": "#EF553B"
         },
         "name": "15",
         "notched": false,
         "offsetgroup": "15",
         "orientation": "v",
         "showlegend": false,
         "type": "box",
         "x": [
          "100K",
          "1K",
          "1M"
         ],
         "x0": " ",
         "xaxis": "x2",
         "y": [
          12,
          74,
          66
         ],
         "y0": " ",
         "yaxis": "y2"
        },
        {
         "alignmentgroup": "True",
         "hovertemplate": "unchanged_counter=25<br>max_power=False<br>payload_size=%{x}<br>count=%{y}<extra></extra>",
         "legendgroup": "25",
         "marker": {
          "color": "#00cc96"
         },
         "name": "25",
         "notched": false,
         "offsetgroup": "25",
         "orientation": "v",
         "showlegend": true,
         "type": "box",
         "x": [
          "100K",
          "1K",
          "1M"
         ],
         "x0": " ",
         "xaxis": "x",
         "y": [
          7,
          71,
          73
         ],
         "y0": " ",
         "yaxis": "y"
        },
        {
         "alignmentgroup": "True",
         "hovertemplate": "unchanged_counter=25<br>max_power=True<br>payload_size=%{x}<br>count=%{y}<extra></extra>",
         "legendgroup": "25",
         "marker": {
          "color": "#00cc96"
         },
         "name": "25",
         "notched": false,
         "offsetgroup": "25",
         "orientation": "v",
         "showlegend": false,
         "type": "box",
         "x": [
          "100K",
          "1K",
          "1M"
         ],
         "x0": " ",
         "xaxis": "x2",
         "y": [
          12,
          71,
          67
         ],
         "y0": " ",
         "yaxis": "y2"
        }
       ],
       "layout": {
        "annotations": [
         {
          "font": {},
          "showarrow": false,
          "text": "max_power=False",
          "x": 0.245,
          "xanchor": "center",
          "xref": "paper",
          "y": 1,
          "yanchor": "bottom",
          "yref": "paper"
         },
         {
          "font": {},
          "showarrow": false,
          "text": "max_power=True",
          "x": 0.755,
          "xanchor": "center",
          "xref": "paper",
          "y": 1,
          "yanchor": "bottom",
          "yref": "paper"
         }
        ],
        "boxmode": "group",
        "legend": {
         "title": {
          "text": "unchanged_counter"
         },
         "tracegroupgap": 0
        },
        "margin": {
         "t": 60
        },
        "template": {
         "data": {
          "bar": [
           {
            "error_x": {
             "color": "#2a3f5f"
            },
            "error_y": {
             "color": "#2a3f5f"
            },
            "marker": {
             "line": {
              "color": "#E5ECF6",
              "width": 0.5
             },
             "pattern": {
              "fillmode": "overlay",
              "size": 10,
              "solidity": 0.2
             }
            },
            "type": "bar"
           }
          ],
          "barpolar": [
           {
            "marker": {
             "line": {
              "color": "#E5ECF6",
              "width": 0.5
             },
             "pattern": {
              "fillmode": "overlay",
              "size": 10,
              "solidity": 0.2
             }
            },
            "type": "barpolar"
           }
          ],
          "carpet": [
           {
            "aaxis": {
             "endlinecolor": "#2a3f5f",
             "gridcolor": "white",
             "linecolor": "white",
             "minorgridcolor": "white",
             "startlinecolor": "#2a3f5f"
            },
            "baxis": {
             "endlinecolor": "#2a3f5f",
             "gridcolor": "white",
             "linecolor": "white",
             "minorgridcolor": "white",
             "startlinecolor": "#2a3f5f"
            },
            "type": "carpet"
           }
          ],
          "choropleth": [
           {
            "colorbar": {
             "outlinewidth": 0,
             "ticks": ""
            },
            "type": "choropleth"
           }
          ],
          "contour": [
           {
            "colorbar": {
             "outlinewidth": 0,
             "ticks": ""
            },
            "colorscale": [
             [
              0,
              "#0d0887"
             ],
             [
              0.1111111111111111,
              "#46039f"
             ],
             [
              0.2222222222222222,
              "#7201a8"
             ],
             [
              0.3333333333333333,
              "#9c179e"
             ],
             [
              0.4444444444444444,
              "#bd3786"
             ],
             [
              0.5555555555555556,
              "#d8576b"
             ],
             [
              0.6666666666666666,
              "#ed7953"
             ],
             [
              0.7777777777777778,
              "#fb9f3a"
             ],
             [
              0.8888888888888888,
              "#fdca26"
             ],
             [
              1,
              "#f0f921"
             ]
            ],
            "type": "contour"
           }
          ],
          "contourcarpet": [
           {
            "colorbar": {
             "outlinewidth": 0,
             "ticks": ""
            },
            "type": "contourcarpet"
           }
          ],
          "heatmap": [
           {
            "colorbar": {
             "outlinewidth": 0,
             "ticks": ""
            },
            "colorscale": [
             [
              0,
              "#0d0887"
             ],
             [
              0.1111111111111111,
              "#46039f"
             ],
             [
              0.2222222222222222,
              "#7201a8"
             ],
             [
              0.3333333333333333,
              "#9c179e"
             ],
             [
              0.4444444444444444,
              "#bd3786"
             ],
             [
              0.5555555555555556,
              "#d8576b"
             ],
             [
              0.6666666666666666,
              "#ed7953"
             ],
             [
              0.7777777777777778,
              "#fb9f3a"
             ],
             [
              0.8888888888888888,
              "#fdca26"
             ],
             [
              1,
              "#f0f921"
             ]
            ],
            "type": "heatmap"
           }
          ],
          "heatmapgl": [
           {
            "colorbar": {
             "outlinewidth": 0,
             "ticks": ""
            },
            "colorscale": [
             [
              0,
              "#0d0887"
             ],
             [
              0.1111111111111111,
              "#46039f"
             ],
             [
              0.2222222222222222,
              "#7201a8"
             ],
             [
              0.3333333333333333,
              "#9c179e"
             ],
             [
              0.4444444444444444,
              "#bd3786"
             ],
             [
              0.5555555555555556,
              "#d8576b"
             ],
             [
              0.6666666666666666,
              "#ed7953"
             ],
             [
              0.7777777777777778,
              "#fb9f3a"
             ],
             [
              0.8888888888888888,
              "#fdca26"
             ],
             [
              1,
              "#f0f921"
             ]
            ],
            "type": "heatmapgl"
           }
          ],
          "histogram": [
           {
            "marker": {
             "pattern": {
              "fillmode": "overlay",
              "size": 10,
              "solidity": 0.2
             }
            },
            "type": "histogram"
           }
          ],
          "histogram2d": [
           {
            "colorbar": {
             "outlinewidth": 0,
             "ticks": ""
            },
            "colorscale": [
             [
              0,
              "#0d0887"
             ],
             [
              0.1111111111111111,
              "#46039f"
             ],
             [
              0.2222222222222222,
              "#7201a8"
             ],
             [
              0.3333333333333333,
              "#9c179e"
             ],
             [
              0.4444444444444444,
              "#bd3786"
             ],
             [
              0.5555555555555556,
              "#d8576b"
             ],
             [
              0.6666666666666666,
              "#ed7953"
             ],
             [
              0.7777777777777778,
              "#fb9f3a"
             ],
             [
              0.8888888888888888,
              "#fdca26"
             ],
             [
              1,
              "#f0f921"
             ]
            ],
            "type": "histogram2d"
           }
          ],
          "histogram2dcontour": [
           {
            "colorbar": {
             "outlinewidth": 0,
             "ticks": ""
            },
            "colorscale": [
             [
              0,
              "#0d0887"
             ],
             [
              0.1111111111111111,
              "#46039f"
             ],
             [
              0.2222222222222222,
              "#7201a8"
             ],
             [
              0.3333333333333333,
              "#9c179e"
             ],
             [
              0.4444444444444444,
              "#bd3786"
             ],
             [
              0.5555555555555556,
              "#d8576b"
             ],
             [
              0.6666666666666666,
              "#ed7953"
             ],
             [
              0.7777777777777778,
              "#fb9f3a"
             ],
             [
              0.8888888888888888,
              "#fdca26"
             ],
             [
              1,
              "#f0f921"
             ]
            ],
            "type": "histogram2dcontour"
           }
          ],
          "mesh3d": [
           {
            "colorbar": {
             "outlinewidth": 0,
             "ticks": ""
            },
            "type": "mesh3d"
           }
          ],
          "parcoords": [
           {
            "line": {
             "colorbar": {
              "outlinewidth": 0,
              "ticks": ""
             }
            },
            "type": "parcoords"
           }
          ],
          "pie": [
           {
            "automargin": true,
            "type": "pie"
           }
          ],
          "scatter": [
           {
            "fillpattern": {
             "fillmode": "overlay",
             "size": 10,
             "solidity": 0.2
            },
            "type": "scatter"
           }
          ],
          "scatter3d": [
           {
            "line": {
             "colorbar": {
              "outlinewidth": 0,
              "ticks": ""
             }
            },
            "marker": {
             "colorbar": {
              "outlinewidth": 0,
              "ticks": ""
             }
            },
            "type": "scatter3d"
           }
          ],
          "scattercarpet": [
           {
            "marker": {
             "colorbar": {
              "outlinewidth": 0,
              "ticks": ""
             }
            },
            "type": "scattercarpet"
           }
          ],
          "scattergeo": [
           {
            "marker": {
             "colorbar": {
              "outlinewidth": 0,
              "ticks": ""
             }
            },
            "type": "scattergeo"
           }
          ],
          "scattergl": [
           {
            "marker": {
             "colorbar": {
              "outlinewidth": 0,
              "ticks": ""
             }
            },
            "type": "scattergl"
           }
          ],
          "scattermapbox": [
           {
            "marker": {
             "colorbar": {
              "outlinewidth": 0,
              "ticks": ""
             }
            },
            "type": "scattermapbox"
           }
          ],
          "scatterpolar": [
           {
            "marker": {
             "colorbar": {
              "outlinewidth": 0,
              "ticks": ""
             }
            },
            "type": "scatterpolar"
           }
          ],
          "scatterpolargl": [
           {
            "marker": {
             "colorbar": {
              "outlinewidth": 0,
              "ticks": ""
             }
            },
            "type": "scatterpolargl"
           }
          ],
          "scatterternary": [
           {
            "marker": {
             "colorbar": {
              "outlinewidth": 0,
              "ticks": ""
             }
            },
            "type": "scatterternary"
           }
          ],
          "surface": [
           {
            "colorbar": {
             "outlinewidth": 0,
             "ticks": ""
            },
            "colorscale": [
             [
              0,
              "#0d0887"
             ],
             [
              0.1111111111111111,
              "#46039f"
             ],
             [
              0.2222222222222222,
              "#7201a8"
             ],
             [
              0.3333333333333333,
              "#9c179e"
             ],
             [
              0.4444444444444444,
              "#bd3786"
             ],
             [
              0.5555555555555556,
              "#d8576b"
             ],
             [
              0.6666666666666666,
              "#ed7953"
             ],
             [
              0.7777777777777778,
              "#fb9f3a"
             ],
             [
              0.8888888888888888,
              "#fdca26"
             ],
             [
              1,
              "#f0f921"
             ]
            ],
            "type": "surface"
           }
          ],
          "table": [
           {
            "cells": {
             "fill": {
              "color": "#EBF0F8"
             },
             "line": {
              "color": "white"
             }
            },
            "header": {
             "fill": {
              "color": "#C8D4E3"
             },
             "line": {
              "color": "white"
             }
            },
            "type": "table"
           }
          ]
         },
         "layout": {
          "annotationdefaults": {
           "arrowcolor": "#2a3f5f",
           "arrowhead": 0,
           "arrowwidth": 1
          },
          "autotypenumbers": "strict",
          "coloraxis": {
           "colorbar": {
            "outlinewidth": 0,
            "ticks": ""
           }
          },
          "colorscale": {
           "diverging": [
            [
             0,
             "#8e0152"
            ],
            [
             0.1,
             "#c51b7d"
            ],
            [
             0.2,
             "#de77ae"
            ],
            [
             0.3,
             "#f1b6da"
            ],
            [
             0.4,
             "#fde0ef"
            ],
            [
             0.5,
             "#f7f7f7"
            ],
            [
             0.6,
             "#e6f5d0"
            ],
            [
             0.7,
             "#b8e186"
            ],
            [
             0.8,
             "#7fbc41"
            ],
            [
             0.9,
             "#4d9221"
            ],
            [
             1,
             "#276419"
            ]
           ],
           "sequential": [
            [
             0,
             "#0d0887"
            ],
            [
             0.1111111111111111,
             "#46039f"
            ],
            [
             0.2222222222222222,
             "#7201a8"
            ],
            [
             0.3333333333333333,
             "#9c179e"
            ],
            [
             0.4444444444444444,
             "#bd3786"
            ],
            [
             0.5555555555555556,
             "#d8576b"
            ],
            [
             0.6666666666666666,
             "#ed7953"
            ],
            [
             0.7777777777777778,
             "#fb9f3a"
            ],
            [
             0.8888888888888888,
             "#fdca26"
            ],
            [
             1,
             "#f0f921"
            ]
           ],
           "sequentialminus": [
            [
             0,
             "#0d0887"
            ],
            [
             0.1111111111111111,
             "#46039f"
            ],
            [
             0.2222222222222222,
             "#7201a8"
            ],
            [
             0.3333333333333333,
             "#9c179e"
            ],
            [
             0.4444444444444444,
             "#bd3786"
            ],
            [
             0.5555555555555556,
             "#d8576b"
            ],
            [
             0.6666666666666666,
             "#ed7953"
            ],
            [
             0.7777777777777778,
             "#fb9f3a"
            ],
            [
             0.8888888888888888,
             "#fdca26"
            ],
            [
             1,
             "#f0f921"
            ]
           ]
          },
          "colorway": [
           "#636efa",
           "#EF553B",
           "#00cc96",
           "#ab63fa",
           "#FFA15A",
           "#19d3f3",
           "#FF6692",
           "#B6E880",
           "#FF97FF",
           "#FECB52"
          ],
          "font": {
           "color": "#2a3f5f"
          },
          "geo": {
           "bgcolor": "white",
           "lakecolor": "white",
           "landcolor": "#E5ECF6",
           "showlakes": true,
           "showland": true,
           "subunitcolor": "white"
          },
          "hoverlabel": {
           "align": "left"
          },
          "hovermode": "closest",
          "mapbox": {
           "style": "light"
          },
          "paper_bgcolor": "white",
          "plot_bgcolor": "#E5ECF6",
          "polar": {
           "angularaxis": {
            "gridcolor": "white",
            "linecolor": "white",
            "ticks": ""
           },
           "bgcolor": "#E5ECF6",
           "radialaxis": {
            "gridcolor": "white",
            "linecolor": "white",
            "ticks": ""
           }
          },
          "scene": {
           "xaxis": {
            "backgroundcolor": "#E5ECF6",
            "gridcolor": "white",
            "gridwidth": 2,
            "linecolor": "white",
            "showbackground": true,
            "ticks": "",
            "zerolinecolor": "white"
           },
           "yaxis": {
            "backgroundcolor": "#E5ECF6",
            "gridcolor": "white",
            "gridwidth": 2,
            "linecolor": "white",
            "showbackground": true,
            "ticks": "",
            "zerolinecolor": "white"
           },
           "zaxis": {
            "backgroundcolor": "#E5ECF6",
            "gridcolor": "white",
            "gridwidth": 2,
            "linecolor": "white",
            "showbackground": true,
            "ticks": "",
            "zerolinecolor": "white"
           }
          },
          "shapedefaults": {
           "line": {
            "color": "#2a3f5f"
           }
          },
          "ternary": {
           "aaxis": {
            "gridcolor": "white",
            "linecolor": "white",
            "ticks": ""
           },
           "baxis": {
            "gridcolor": "white",
            "linecolor": "white",
            "ticks": ""
           },
           "bgcolor": "#E5ECF6",
           "caxis": {
            "gridcolor": "white",
            "linecolor": "white",
            "ticks": ""
           }
          },
          "title": {
           "x": 0.05
          },
          "xaxis": {
           "automargin": true,
           "gridcolor": "white",
           "linecolor": "white",
           "ticks": "",
           "title": {
            "standoff": 15
           },
           "zerolinecolor": "white",
           "zerolinewidth": 2
          },
          "yaxis": {
           "automargin": true,
           "gridcolor": "white",
           "linecolor": "white",
           "ticks": "",
           "title": {
            "standoff": 15
           },
           "zerolinecolor": "white",
           "zerolinewidth": 2
          }
         }
        },
        "xaxis": {
         "anchor": "y",
         "domain": [
          0,
          0.49
         ],
         "title": {
          "text": "payload_size"
         }
        },
        "xaxis2": {
         "anchor": "y2",
         "domain": [
          0.51,
          1
         ],
         "matches": "x",
         "title": {
          "text": "payload_size"
         }
        },
        "yaxis": {
         "anchor": "x",
         "domain": [
          0,
          1
         ],
         "title": {
          "text": "count"
         }
        },
        "yaxis2": {
         "anchor": "x2",
         "domain": [
          0,
          1
         ],
         "matches": "y",
         "showticklabels": false
        }
       }
      }
     },
     "metadata": {},
     "output_type": "display_data"
    }
   ],
   "source": [
    "fig = px.box(\n",
    "    reception_df,\n",
    "    x=\"payload_size\",\n",
    "    y=\"count\", \n",
    "    color=\"unchanged_counter\",\n",
    "    facet_col=\"max_power\",\n",
    ")\n",
    "fig"
   ]
  },
  {
   "cell_type": "markdown",
   "metadata": {},
   "source": [
    "# Relative Values of Received Payloads"
   ]
  },
  {
   "cell_type": "code",
   "execution_count": 44,
   "metadata": {},
   "outputs": [],
   "source": [
    "def reception_ratio(x):\n",
    "    flooding = x[x[\"max_power\"] == True]\n",
    "    btp = x[x[\"max_power\"] == False]\n",
    "    \n",
    "    return float(btp[\"count\"]) / flooding[\"count\"]\n",
    "\n",
    "count_df = reception_df.groupby([\"payload_size\", \"unchanged_counter\", \"iteration\"]).apply(reception_ratio).reset_index(name='ratio')"
   ]
  },
  {
   "cell_type": "code",
   "execution_count": 45,
   "metadata": {},
   "outputs": [
    {
     "data": {
      "application/vnd.plotly.v1+json": {
       "config": {
        "plotlyServerURL": "https://plot.ly"
       },
       "data": [
        {
         "alignmentgroup": "True",
         "hovertemplate": "unchanged_counter=5<br>payload_size=%{x}<br>ratio=%{y}<extra></extra>",
         "legendgroup": "5",
         "marker": {
          "color": "#636efa"
         },
         "name": "5",
         "notched": false,
         "offsetgroup": "5",
         "orientation": "v",
         "showlegend": true,
         "type": "box",
         "x": [
          "100K",
          "1K",
          "1M"
         ],
         "x0": " ",
         "xaxis": "x",
         "y": [
          0.14285714285714285,
          1,
          1.1746031746031746
         ],
         "y0": " ",
         "yaxis": "y"
        },
        {
         "alignmentgroup": "True",
         "hovertemplate": "unchanged_counter=15<br>payload_size=%{x}<br>ratio=%{y}<extra></extra>",
         "legendgroup": "15",
         "marker": {
          "color": "#EF553B"
         },
         "name": "15",
         "notched": false,
         "offsetgroup": "15",
         "orientation": "v",
         "showlegend": true,
         "type": "box",
         "x": [
          "100K",
          "1K",
          "1M"
         ],
         "x0": " ",
         "xaxis": "x",
         "y": [
          0.16666666666666666,
          0.9864864864864865,
          1.0909090909090908
         ],
         "y0": " ",
         "yaxis": "y"
        },
        {
         "alignmentgroup": "True",
         "hovertemplate": "unchanged_counter=25<br>payload_size=%{x}<br>ratio=%{y}<extra></extra>",
         "legendgroup": "25",
         "marker": {
          "color": "#00cc96"
         },
         "name": "25",
         "notched": false,
         "offsetgroup": "25",
         "orientation": "v",
         "showlegend": true,
         "type": "box",
         "x": [
          "100K",
          "1K",
          "1M"
         ],
         "x0": " ",
         "xaxis": "x",
         "y": [
          0.5833333333333334,
          1,
          1.0895522388059702
         ],
         "y0": " ",
         "yaxis": "y"
        }
       ],
       "layout": {
        "boxmode": "group",
        "legend": {
         "title": {
          "text": "unchanged_counter"
         },
         "tracegroupgap": 0
        },
        "margin": {
         "t": 60
        },
        "template": {
         "data": {
          "bar": [
           {
            "error_x": {
             "color": "#2a3f5f"
            },
            "error_y": {
             "color": "#2a3f5f"
            },
            "marker": {
             "line": {
              "color": "#E5ECF6",
              "width": 0.5
             },
             "pattern": {
              "fillmode": "overlay",
              "size": 10,
              "solidity": 0.2
             }
            },
            "type": "bar"
           }
          ],
          "barpolar": [
           {
            "marker": {
             "line": {
              "color": "#E5ECF6",
              "width": 0.5
             },
             "pattern": {
              "fillmode": "overlay",
              "size": 10,
              "solidity": 0.2
             }
            },
            "type": "barpolar"
           }
          ],
          "carpet": [
           {
            "aaxis": {
             "endlinecolor": "#2a3f5f",
             "gridcolor": "white",
             "linecolor": "white",
             "minorgridcolor": "white",
             "startlinecolor": "#2a3f5f"
            },
            "baxis": {
             "endlinecolor": "#2a3f5f",
             "gridcolor": "white",
             "linecolor": "white",
             "minorgridcolor": "white",
             "startlinecolor": "#2a3f5f"
            },
            "type": "carpet"
           }
          ],
          "choropleth": [
           {
            "colorbar": {
             "outlinewidth": 0,
             "ticks": ""
            },
            "type": "choropleth"
           }
          ],
          "contour": [
           {
            "colorbar": {
             "outlinewidth": 0,
             "ticks": ""
            },
            "colorscale": [
             [
              0,
              "#0d0887"
             ],
             [
              0.1111111111111111,
              "#46039f"
             ],
             [
              0.2222222222222222,
              "#7201a8"
             ],
             [
              0.3333333333333333,
              "#9c179e"
             ],
             [
              0.4444444444444444,
              "#bd3786"
             ],
             [
              0.5555555555555556,
              "#d8576b"
             ],
             [
              0.6666666666666666,
              "#ed7953"
             ],
             [
              0.7777777777777778,
              "#fb9f3a"
             ],
             [
              0.8888888888888888,
              "#fdca26"
             ],
             [
              1,
              "#f0f921"
             ]
            ],
            "type": "contour"
           }
          ],
          "contourcarpet": [
           {
            "colorbar": {
             "outlinewidth": 0,
             "ticks": ""
            },
            "type": "contourcarpet"
           }
          ],
          "heatmap": [
           {
            "colorbar": {
             "outlinewidth": 0,
             "ticks": ""
            },
            "colorscale": [
             [
              0,
              "#0d0887"
             ],
             [
              0.1111111111111111,
              "#46039f"
             ],
             [
              0.2222222222222222,
              "#7201a8"
             ],
             [
              0.3333333333333333,
              "#9c179e"
             ],
             [
              0.4444444444444444,
              "#bd3786"
             ],
             [
              0.5555555555555556,
              "#d8576b"
             ],
             [
              0.6666666666666666,
              "#ed7953"
             ],
             [
              0.7777777777777778,
              "#fb9f3a"
             ],
             [
              0.8888888888888888,
              "#fdca26"
             ],
             [
              1,
              "#f0f921"
             ]
            ],
            "type": "heatmap"
           }
          ],
          "heatmapgl": [
           {
            "colorbar": {
             "outlinewidth": 0,
             "ticks": ""
            },
            "colorscale": [
             [
              0,
              "#0d0887"
             ],
             [
              0.1111111111111111,
              "#46039f"
             ],
             [
              0.2222222222222222,
              "#7201a8"
             ],
             [
              0.3333333333333333,
              "#9c179e"
             ],
             [
              0.4444444444444444,
              "#bd3786"
             ],
             [
              0.5555555555555556,
              "#d8576b"
             ],
             [
              0.6666666666666666,
              "#ed7953"
             ],
             [
              0.7777777777777778,
              "#fb9f3a"
             ],
             [
              0.8888888888888888,
              "#fdca26"
             ],
             [
              1,
              "#f0f921"
             ]
            ],
            "type": "heatmapgl"
           }
          ],
          "histogram": [
           {
            "marker": {
             "pattern": {
              "fillmode": "overlay",
              "size": 10,
              "solidity": 0.2
             }
            },
            "type": "histogram"
           }
          ],
          "histogram2d": [
           {
            "colorbar": {
             "outlinewidth": 0,
             "ticks": ""
            },
            "colorscale": [
             [
              0,
              "#0d0887"
             ],
             [
              0.1111111111111111,
              "#46039f"
             ],
             [
              0.2222222222222222,
              "#7201a8"
             ],
             [
              0.3333333333333333,
              "#9c179e"
             ],
             [
              0.4444444444444444,
              "#bd3786"
             ],
             [
              0.5555555555555556,
              "#d8576b"
             ],
             [
              0.6666666666666666,
              "#ed7953"
             ],
             [
              0.7777777777777778,
              "#fb9f3a"
             ],
             [
              0.8888888888888888,
              "#fdca26"
             ],
             [
              1,
              "#f0f921"
             ]
            ],
            "type": "histogram2d"
           }
          ],
          "histogram2dcontour": [
           {
            "colorbar": {
             "outlinewidth": 0,
             "ticks": ""
            },
            "colorscale": [
             [
              0,
              "#0d0887"
             ],
             [
              0.1111111111111111,
              "#46039f"
             ],
             [
              0.2222222222222222,
              "#7201a8"
             ],
             [
              0.3333333333333333,
              "#9c179e"
             ],
             [
              0.4444444444444444,
              "#bd3786"
             ],
             [
              0.5555555555555556,
              "#d8576b"
             ],
             [
              0.6666666666666666,
              "#ed7953"
             ],
             [
              0.7777777777777778,
              "#fb9f3a"
             ],
             [
              0.8888888888888888,
              "#fdca26"
             ],
             [
              1,
              "#f0f921"
             ]
            ],
            "type": "histogram2dcontour"
           }
          ],
          "mesh3d": [
           {
            "colorbar": {
             "outlinewidth": 0,
             "ticks": ""
            },
            "type": "mesh3d"
           }
          ],
          "parcoords": [
           {
            "line": {
             "colorbar": {
              "outlinewidth": 0,
              "ticks": ""
             }
            },
            "type": "parcoords"
           }
          ],
          "pie": [
           {
            "automargin": true,
            "type": "pie"
           }
          ],
          "scatter": [
           {
            "fillpattern": {
             "fillmode": "overlay",
             "size": 10,
             "solidity": 0.2
            },
            "type": "scatter"
           }
          ],
          "scatter3d": [
           {
            "line": {
             "colorbar": {
              "outlinewidth": 0,
              "ticks": ""
             }
            },
            "marker": {
             "colorbar": {
              "outlinewidth": 0,
              "ticks": ""
             }
            },
            "type": "scatter3d"
           }
          ],
          "scattercarpet": [
           {
            "marker": {
             "colorbar": {
              "outlinewidth": 0,
              "ticks": ""
             }
            },
            "type": "scattercarpet"
           }
          ],
          "scattergeo": [
           {
            "marker": {
             "colorbar": {
              "outlinewidth": 0,
              "ticks": ""
             }
            },
            "type": "scattergeo"
           }
          ],
          "scattergl": [
           {
            "marker": {
             "colorbar": {
              "outlinewidth": 0,
              "ticks": ""
             }
            },
            "type": "scattergl"
           }
          ],
          "scattermapbox": [
           {
            "marker": {
             "colorbar": {
              "outlinewidth": 0,
              "ticks": ""
             }
            },
            "type": "scattermapbox"
           }
          ],
          "scatterpolar": [
           {
            "marker": {
             "colorbar": {
              "outlinewidth": 0,
              "ticks": ""
             }
            },
            "type": "scatterpolar"
           }
          ],
          "scatterpolargl": [
           {
            "marker": {
             "colorbar": {
              "outlinewidth": 0,
              "ticks": ""
             }
            },
            "type": "scatterpolargl"
           }
          ],
          "scatterternary": [
           {
            "marker": {
             "colorbar": {
              "outlinewidth": 0,
              "ticks": ""
             }
            },
            "type": "scatterternary"
           }
          ],
          "surface": [
           {
            "colorbar": {
             "outlinewidth": 0,
             "ticks": ""
            },
            "colorscale": [
             [
              0,
              "#0d0887"
             ],
             [
              0.1111111111111111,
              "#46039f"
             ],
             [
              0.2222222222222222,
              "#7201a8"
             ],
             [
              0.3333333333333333,
              "#9c179e"
             ],
             [
              0.4444444444444444,
              "#bd3786"
             ],
             [
              0.5555555555555556,
              "#d8576b"
             ],
             [
              0.6666666666666666,
              "#ed7953"
             ],
             [
              0.7777777777777778,
              "#fb9f3a"
             ],
             [
              0.8888888888888888,
              "#fdca26"
             ],
             [
              1,
              "#f0f921"
             ]
            ],
            "type": "surface"
           }
          ],
          "table": [
           {
            "cells": {
             "fill": {
              "color": "#EBF0F8"
             },
             "line": {
              "color": "white"
             }
            },
            "header": {
             "fill": {
              "color": "#C8D4E3"
             },
             "line": {
              "color": "white"
             }
            },
            "type": "table"
           }
          ]
         },
         "layout": {
          "annotationdefaults": {
           "arrowcolor": "#2a3f5f",
           "arrowhead": 0,
           "arrowwidth": 1
          },
          "autotypenumbers": "strict",
          "coloraxis": {
           "colorbar": {
            "outlinewidth": 0,
            "ticks": ""
           }
          },
          "colorscale": {
           "diverging": [
            [
             0,
             "#8e0152"
            ],
            [
             0.1,
             "#c51b7d"
            ],
            [
             0.2,
             "#de77ae"
            ],
            [
             0.3,
             "#f1b6da"
            ],
            [
             0.4,
             "#fde0ef"
            ],
            [
             0.5,
             "#f7f7f7"
            ],
            [
             0.6,
             "#e6f5d0"
            ],
            [
             0.7,
             "#b8e186"
            ],
            [
             0.8,
             "#7fbc41"
            ],
            [
             0.9,
             "#4d9221"
            ],
            [
             1,
             "#276419"
            ]
           ],
           "sequential": [
            [
             0,
             "#0d0887"
            ],
            [
             0.1111111111111111,
             "#46039f"
            ],
            [
             0.2222222222222222,
             "#7201a8"
            ],
            [
             0.3333333333333333,
             "#9c179e"
            ],
            [
             0.4444444444444444,
             "#bd3786"
            ],
            [
             0.5555555555555556,
             "#d8576b"
            ],
            [
             0.6666666666666666,
             "#ed7953"
            ],
            [
             0.7777777777777778,
             "#fb9f3a"
            ],
            [
             0.8888888888888888,
             "#fdca26"
            ],
            [
             1,
             "#f0f921"
            ]
           ],
           "sequentialminus": [
            [
             0,
             "#0d0887"
            ],
            [
             0.1111111111111111,
             "#46039f"
            ],
            [
             0.2222222222222222,
             "#7201a8"
            ],
            [
             0.3333333333333333,
             "#9c179e"
            ],
            [
             0.4444444444444444,
             "#bd3786"
            ],
            [
             0.5555555555555556,
             "#d8576b"
            ],
            [
             0.6666666666666666,
             "#ed7953"
            ],
            [
             0.7777777777777778,
             "#fb9f3a"
            ],
            [
             0.8888888888888888,
             "#fdca26"
            ],
            [
             1,
             "#f0f921"
            ]
           ]
          },
          "colorway": [
           "#636efa",
           "#EF553B",
           "#00cc96",
           "#ab63fa",
           "#FFA15A",
           "#19d3f3",
           "#FF6692",
           "#B6E880",
           "#FF97FF",
           "#FECB52"
          ],
          "font": {
           "color": "#2a3f5f"
          },
          "geo": {
           "bgcolor": "white",
           "lakecolor": "white",
           "landcolor": "#E5ECF6",
           "showlakes": true,
           "showland": true,
           "subunitcolor": "white"
          },
          "hoverlabel": {
           "align": "left"
          },
          "hovermode": "closest",
          "mapbox": {
           "style": "light"
          },
          "paper_bgcolor": "white",
          "plot_bgcolor": "#E5ECF6",
          "polar": {
           "angularaxis": {
            "gridcolor": "white",
            "linecolor": "white",
            "ticks": ""
           },
           "bgcolor": "#E5ECF6",
           "radialaxis": {
            "gridcolor": "white",
            "linecolor": "white",
            "ticks": ""
           }
          },
          "scene": {
           "xaxis": {
            "backgroundcolor": "#E5ECF6",
            "gridcolor": "white",
            "gridwidth": 2,
            "linecolor": "white",
            "showbackground": true,
            "ticks": "",
            "zerolinecolor": "white"
           },
           "yaxis": {
            "backgroundcolor": "#E5ECF6",
            "gridcolor": "white",
            "gridwidth": 2,
            "linecolor": "white",
            "showbackground": true,
            "ticks": "",
            "zerolinecolor": "white"
           },
           "zaxis": {
            "backgroundcolor": "#E5ECF6",
            "gridcolor": "white",
            "gridwidth": 2,
            "linecolor": "white",
            "showbackground": true,
            "ticks": "",
            "zerolinecolor": "white"
           }
          },
          "shapedefaults": {
           "line": {
            "color": "#2a3f5f"
           }
          },
          "ternary": {
           "aaxis": {
            "gridcolor": "white",
            "linecolor": "white",
            "ticks": ""
           },
           "baxis": {
            "gridcolor": "white",
            "linecolor": "white",
            "ticks": ""
           },
           "bgcolor": "#E5ECF6",
           "caxis": {
            "gridcolor": "white",
            "linecolor": "white",
            "ticks": ""
           }
          },
          "title": {
           "x": 0.05
          },
          "xaxis": {
           "automargin": true,
           "gridcolor": "white",
           "linecolor": "white",
           "ticks": "",
           "title": {
            "standoff": 15
           },
           "zerolinecolor": "white",
           "zerolinewidth": 2
          },
          "yaxis": {
           "automargin": true,
           "gridcolor": "white",
           "linecolor": "white",
           "ticks": "",
           "title": {
            "standoff": 15
           },
           "zerolinecolor": "white",
           "zerolinewidth": 2
          }
         }
        },
        "xaxis": {
         "anchor": "y",
         "domain": [
          0,
          1
         ],
         "title": {
          "text": "payload_size"
         }
        },
        "yaxis": {
         "anchor": "x",
         "domain": [
          0,
          1
         ],
         "title": {
          "text": "ratio"
         }
        }
       }
      }
     },
     "metadata": {},
     "output_type": "display_data"
    }
   ],
   "source": [
    "fig = px.box(\n",
    "    count_df,\n",
    "    x=\"payload_size\",\n",
    "    y=\"ratio\", \n",
    "    color=\"unchanged_counter\",\n",
    ")\n",
    "fig"
   ]
  },
  {
   "cell_type": "markdown",
   "metadata": {},
   "source": [
    "# Prepare energy df"
   ]
  },
  {
   "cell_type": "code",
   "execution_count": 90,
   "metadata": {},
   "outputs": [],
   "source": [
    "def energy_ratio(x):\n",
    "    energy_payload = x[x[\"frame_type\"] == \"payload\"]\n",
    "    energy_protocol = x[x[\"frame_type\"] == \"protocol\"]\n",
    "    \n",
    "    total_energy = float(energy_payload[\"mWb_total\"]) + float(energy_protocol[\"mWb_total\"])\n",
    "    \n",
    "    payload_rel = float(energy_payload[\"mWb_total\"]) / total_energy\n",
    "    protocol_rel = float(energy_protocol[\"mWb_total\"]) / total_energy\n",
    "    \n",
    "    \n",
    "    x.loc[x[\"frame_type\"] == \"payload\", \"mWb_rel\"] = payload_rel\n",
    "    x.loc[x[\"frame_type\"] == \"protocol\", \"mWb_rel\"] = protocol_rel\n",
    "    \n",
    "    return x\n",
    "    \n",
    "    \n",
    "\n",
    "df[\"mW\"] = 10**(df[\"tx_pwr\"]/10)\n",
    "df[\"mWb\"] = df[\"mW\"] * (df[\"data_len\"] + 34)\n",
    "\n",
    "df.loc[(df[\"event\"] == \"send\") & (df[\"message\"] == \"Successfully forwarded payload.\") | (df[\"message\"] == \"Successfully sent next chunk.\"), \"frame_type\"] = \"payload\"\n",
    "df.loc[(df[\"event\"] == \"send\") & ((df[\"message\"] != \"Successfully forwarded payload.\") & (df[\"message\"] != \"Successfully sent next chunk.\")), \"frame_type\"] = \"protocol\"\n",
    "\n",
    "energy_df = df[df[\"event\"] == \"send\"].groupby(EXPERIMENT_IDENTIFIER + [\"frame_type\"])[\"mWb\"].sum().reset_index(name='mWb_total')\n",
    "energy_df = energy_df.groupby(EXPERIMENT_IDENTIFIER).apply(energy_ratio).reset_index()\n"
   ]
  },
  {
   "cell_type": "markdown",
   "metadata": {},
   "source": [
    "# Comparison between flooding and BTP, energy wise"
   ]
  },
  {
   "cell_type": "code",
   "execution_count": 117,
   "metadata": {},
   "outputs": [],
   "source": [
    "def energy_ratio(x):    \n",
    "    flooding = x[(x[\"max_power\"] == True) & (x[\"frame_type\"] == \"payload\")]\n",
    "    btp = x[(x[\"max_power\"] == False)].sum()\n",
    "    \n",
    "    return btp[\"mWb_total\"] / flooding[\"mWb_total\"]\n",
    "\n",
    "energy_ratio_df = energy_df.groupby([\"payload_size\", \"unchanged_counter\", \"iteration\"]).apply(energy_ratio).reset_index(name='ratio')"
   ]
  },
  {
   "cell_type": "code",
   "execution_count": 118,
   "metadata": {},
   "outputs": [
    {
     "data": {
      "application/vnd.plotly.v1+json": {
       "config": {
        "plotlyServerURL": "https://plot.ly"
       },
       "data": [
        {
         "alignmentgroup": "True",
         "hovertemplate": "unchanged_counter=5<br>payload_size=%{x}<br>ratio=%{y}<extra></extra>",
         "legendgroup": "5",
         "marker": {
          "color": "#636efa"
         },
         "name": "5",
         "notched": false,
         "offsetgroup": "5",
         "orientation": "v",
         "showlegend": true,
         "type": "box",
         "x": [
          "100K",
          "1K",
          "1M"
         ],
         "x0": " ",
         "xaxis": "x",
         "y": [
          0.23298474590736987,
          0.13232318190589262,
          0.29173698935820125
         ],
         "y0": " ",
         "yaxis": "y"
        },
        {
         "alignmentgroup": "True",
         "hovertemplate": "unchanged_counter=15<br>payload_size=%{x}<br>ratio=%{y}<extra></extra>",
         "legendgroup": "15",
         "marker": {
          "color": "#EF553B"
         },
         "name": "15",
         "notched": false,
         "offsetgroup": "15",
         "orientation": "v",
         "showlegend": true,
         "type": "box",
         "x": [
          "100K",
          "1K",
          "1M"
         ],
         "x0": " ",
         "xaxis": "x",
         "y": [
          0.12827040750980215,
          0.26518611955079213,
          0.11442782388595257
         ],
         "y0": " ",
         "yaxis": "y"
        },
        {
         "alignmentgroup": "True",
         "hovertemplate": "unchanged_counter=25<br>payload_size=%{x}<br>ratio=%{y}<extra></extra>",
         "legendgroup": "25",
         "marker": {
          "color": "#00cc96"
         },
         "name": "25",
         "notched": false,
         "offsetgroup": "25",
         "orientation": "v",
         "showlegend": true,
         "type": "box",
         "x": [
          "100K",
          "1K",
          "1M"
         ],
         "x0": " ",
         "xaxis": "x",
         "y": [
          0.09050002537379037,
          0.19307808624893888,
          0.14759791161750987
         ],
         "y0": " ",
         "yaxis": "y"
        }
       ],
       "layout": {
        "boxmode": "group",
        "legend": {
         "title": {
          "text": "unchanged_counter"
         },
         "tracegroupgap": 0
        },
        "margin": {
         "t": 60
        },
        "template": {
         "data": {
          "bar": [
           {
            "error_x": {
             "color": "#2a3f5f"
            },
            "error_y": {
             "color": "#2a3f5f"
            },
            "marker": {
             "line": {
              "color": "#E5ECF6",
              "width": 0.5
             },
             "pattern": {
              "fillmode": "overlay",
              "size": 10,
              "solidity": 0.2
             }
            },
            "type": "bar"
           }
          ],
          "barpolar": [
           {
            "marker": {
             "line": {
              "color": "#E5ECF6",
              "width": 0.5
             },
             "pattern": {
              "fillmode": "overlay",
              "size": 10,
              "solidity": 0.2
             }
            },
            "type": "barpolar"
           }
          ],
          "carpet": [
           {
            "aaxis": {
             "endlinecolor": "#2a3f5f",
             "gridcolor": "white",
             "linecolor": "white",
             "minorgridcolor": "white",
             "startlinecolor": "#2a3f5f"
            },
            "baxis": {
             "endlinecolor": "#2a3f5f",
             "gridcolor": "white",
             "linecolor": "white",
             "minorgridcolor": "white",
             "startlinecolor": "#2a3f5f"
            },
            "type": "carpet"
           }
          ],
          "choropleth": [
           {
            "colorbar": {
             "outlinewidth": 0,
             "ticks": ""
            },
            "type": "choropleth"
           }
          ],
          "contour": [
           {
            "colorbar": {
             "outlinewidth": 0,
             "ticks": ""
            },
            "colorscale": [
             [
              0,
              "#0d0887"
             ],
             [
              0.1111111111111111,
              "#46039f"
             ],
             [
              0.2222222222222222,
              "#7201a8"
             ],
             [
              0.3333333333333333,
              "#9c179e"
             ],
             [
              0.4444444444444444,
              "#bd3786"
             ],
             [
              0.5555555555555556,
              "#d8576b"
             ],
             [
              0.6666666666666666,
              "#ed7953"
             ],
             [
              0.7777777777777778,
              "#fb9f3a"
             ],
             [
              0.8888888888888888,
              "#fdca26"
             ],
             [
              1,
              "#f0f921"
             ]
            ],
            "type": "contour"
           }
          ],
          "contourcarpet": [
           {
            "colorbar": {
             "outlinewidth": 0,
             "ticks": ""
            },
            "type": "contourcarpet"
           }
          ],
          "heatmap": [
           {
            "colorbar": {
             "outlinewidth": 0,
             "ticks": ""
            },
            "colorscale": [
             [
              0,
              "#0d0887"
             ],
             [
              0.1111111111111111,
              "#46039f"
             ],
             [
              0.2222222222222222,
              "#7201a8"
             ],
             [
              0.3333333333333333,
              "#9c179e"
             ],
             [
              0.4444444444444444,
              "#bd3786"
             ],
             [
              0.5555555555555556,
              "#d8576b"
             ],
             [
              0.6666666666666666,
              "#ed7953"
             ],
             [
              0.7777777777777778,
              "#fb9f3a"
             ],
             [
              0.8888888888888888,
              "#fdca26"
             ],
             [
              1,
              "#f0f921"
             ]
            ],
            "type": "heatmap"
           }
          ],
          "heatmapgl": [
           {
            "colorbar": {
             "outlinewidth": 0,
             "ticks": ""
            },
            "colorscale": [
             [
              0,
              "#0d0887"
             ],
             [
              0.1111111111111111,
              "#46039f"
             ],
             [
              0.2222222222222222,
              "#7201a8"
             ],
             [
              0.3333333333333333,
              "#9c179e"
             ],
             [
              0.4444444444444444,
              "#bd3786"
             ],
             [
              0.5555555555555556,
              "#d8576b"
             ],
             [
              0.6666666666666666,
              "#ed7953"
             ],
             [
              0.7777777777777778,
              "#fb9f3a"
             ],
             [
              0.8888888888888888,
              "#fdca26"
             ],
             [
              1,
              "#f0f921"
             ]
            ],
            "type": "heatmapgl"
           }
          ],
          "histogram": [
           {
            "marker": {
             "pattern": {
              "fillmode": "overlay",
              "size": 10,
              "solidity": 0.2
             }
            },
            "type": "histogram"
           }
          ],
          "histogram2d": [
           {
            "colorbar": {
             "outlinewidth": 0,
             "ticks": ""
            },
            "colorscale": [
             [
              0,
              "#0d0887"
             ],
             [
              0.1111111111111111,
              "#46039f"
             ],
             [
              0.2222222222222222,
              "#7201a8"
             ],
             [
              0.3333333333333333,
              "#9c179e"
             ],
             [
              0.4444444444444444,
              "#bd3786"
             ],
             [
              0.5555555555555556,
              "#d8576b"
             ],
             [
              0.6666666666666666,
              "#ed7953"
             ],
             [
              0.7777777777777778,
              "#fb9f3a"
             ],
             [
              0.8888888888888888,
              "#fdca26"
             ],
             [
              1,
              "#f0f921"
             ]
            ],
            "type": "histogram2d"
           }
          ],
          "histogram2dcontour": [
           {
            "colorbar": {
             "outlinewidth": 0,
             "ticks": ""
            },
            "colorscale": [
             [
              0,
              "#0d0887"
             ],
             [
              0.1111111111111111,
              "#46039f"
             ],
             [
              0.2222222222222222,
              "#7201a8"
             ],
             [
              0.3333333333333333,
              "#9c179e"
             ],
             [
              0.4444444444444444,
              "#bd3786"
             ],
             [
              0.5555555555555556,
              "#d8576b"
             ],
             [
              0.6666666666666666,
              "#ed7953"
             ],
             [
              0.7777777777777778,
              "#fb9f3a"
             ],
             [
              0.8888888888888888,
              "#fdca26"
             ],
             [
              1,
              "#f0f921"
             ]
            ],
            "type": "histogram2dcontour"
           }
          ],
          "mesh3d": [
           {
            "colorbar": {
             "outlinewidth": 0,
             "ticks": ""
            },
            "type": "mesh3d"
           }
          ],
          "parcoords": [
           {
            "line": {
             "colorbar": {
              "outlinewidth": 0,
              "ticks": ""
             }
            },
            "type": "parcoords"
           }
          ],
          "pie": [
           {
            "automargin": true,
            "type": "pie"
           }
          ],
          "scatter": [
           {
            "fillpattern": {
             "fillmode": "overlay",
             "size": 10,
             "solidity": 0.2
            },
            "type": "scatter"
           }
          ],
          "scatter3d": [
           {
            "line": {
             "colorbar": {
              "outlinewidth": 0,
              "ticks": ""
             }
            },
            "marker": {
             "colorbar": {
              "outlinewidth": 0,
              "ticks": ""
             }
            },
            "type": "scatter3d"
           }
          ],
          "scattercarpet": [
           {
            "marker": {
             "colorbar": {
              "outlinewidth": 0,
              "ticks": ""
             }
            },
            "type": "scattercarpet"
           }
          ],
          "scattergeo": [
           {
            "marker": {
             "colorbar": {
              "outlinewidth": 0,
              "ticks": ""
             }
            },
            "type": "scattergeo"
           }
          ],
          "scattergl": [
           {
            "marker": {
             "colorbar": {
              "outlinewidth": 0,
              "ticks": ""
             }
            },
            "type": "scattergl"
           }
          ],
          "scattermapbox": [
           {
            "marker": {
             "colorbar": {
              "outlinewidth": 0,
              "ticks": ""
             }
            },
            "type": "scattermapbox"
           }
          ],
          "scatterpolar": [
           {
            "marker": {
             "colorbar": {
              "outlinewidth": 0,
              "ticks": ""
             }
            },
            "type": "scatterpolar"
           }
          ],
          "scatterpolargl": [
           {
            "marker": {
             "colorbar": {
              "outlinewidth": 0,
              "ticks": ""
             }
            },
            "type": "scatterpolargl"
           }
          ],
          "scatterternary": [
           {
            "marker": {
             "colorbar": {
              "outlinewidth": 0,
              "ticks": ""
             }
            },
            "type": "scatterternary"
           }
          ],
          "surface": [
           {
            "colorbar": {
             "outlinewidth": 0,
             "ticks": ""
            },
            "colorscale": [
             [
              0,
              "#0d0887"
             ],
             [
              0.1111111111111111,
              "#46039f"
             ],
             [
              0.2222222222222222,
              "#7201a8"
             ],
             [
              0.3333333333333333,
              "#9c179e"
             ],
             [
              0.4444444444444444,
              "#bd3786"
             ],
             [
              0.5555555555555556,
              "#d8576b"
             ],
             [
              0.6666666666666666,
              "#ed7953"
             ],
             [
              0.7777777777777778,
              "#fb9f3a"
             ],
             [
              0.8888888888888888,
              "#fdca26"
             ],
             [
              1,
              "#f0f921"
             ]
            ],
            "type": "surface"
           }
          ],
          "table": [
           {
            "cells": {
             "fill": {
              "color": "#EBF0F8"
             },
             "line": {
              "color": "white"
             }
            },
            "header": {
             "fill": {
              "color": "#C8D4E3"
             },
             "line": {
              "color": "white"
             }
            },
            "type": "table"
           }
          ]
         },
         "layout": {
          "annotationdefaults": {
           "arrowcolor": "#2a3f5f",
           "arrowhead": 0,
           "arrowwidth": 1
          },
          "autotypenumbers": "strict",
          "coloraxis": {
           "colorbar": {
            "outlinewidth": 0,
            "ticks": ""
           }
          },
          "colorscale": {
           "diverging": [
            [
             0,
             "#8e0152"
            ],
            [
             0.1,
             "#c51b7d"
            ],
            [
             0.2,
             "#de77ae"
            ],
            [
             0.3,
             "#f1b6da"
            ],
            [
             0.4,
             "#fde0ef"
            ],
            [
             0.5,
             "#f7f7f7"
            ],
            [
             0.6,
             "#e6f5d0"
            ],
            [
             0.7,
             "#b8e186"
            ],
            [
             0.8,
             "#7fbc41"
            ],
            [
             0.9,
             "#4d9221"
            ],
            [
             1,
             "#276419"
            ]
           ],
           "sequential": [
            [
             0,
             "#0d0887"
            ],
            [
             0.1111111111111111,
             "#46039f"
            ],
            [
             0.2222222222222222,
             "#7201a8"
            ],
            [
             0.3333333333333333,
             "#9c179e"
            ],
            [
             0.4444444444444444,
             "#bd3786"
            ],
            [
             0.5555555555555556,
             "#d8576b"
            ],
            [
             0.6666666666666666,
             "#ed7953"
            ],
            [
             0.7777777777777778,
             "#fb9f3a"
            ],
            [
             0.8888888888888888,
             "#fdca26"
            ],
            [
             1,
             "#f0f921"
            ]
           ],
           "sequentialminus": [
            [
             0,
             "#0d0887"
            ],
            [
             0.1111111111111111,
             "#46039f"
            ],
            [
             0.2222222222222222,
             "#7201a8"
            ],
            [
             0.3333333333333333,
             "#9c179e"
            ],
            [
             0.4444444444444444,
             "#bd3786"
            ],
            [
             0.5555555555555556,
             "#d8576b"
            ],
            [
             0.6666666666666666,
             "#ed7953"
            ],
            [
             0.7777777777777778,
             "#fb9f3a"
            ],
            [
             0.8888888888888888,
             "#fdca26"
            ],
            [
             1,
             "#f0f921"
            ]
           ]
          },
          "colorway": [
           "#636efa",
           "#EF553B",
           "#00cc96",
           "#ab63fa",
           "#FFA15A",
           "#19d3f3",
           "#FF6692",
           "#B6E880",
           "#FF97FF",
           "#FECB52"
          ],
          "font": {
           "color": "#2a3f5f"
          },
          "geo": {
           "bgcolor": "white",
           "lakecolor": "white",
           "landcolor": "#E5ECF6",
           "showlakes": true,
           "showland": true,
           "subunitcolor": "white"
          },
          "hoverlabel": {
           "align": "left"
          },
          "hovermode": "closest",
          "mapbox": {
           "style": "light"
          },
          "paper_bgcolor": "white",
          "plot_bgcolor": "#E5ECF6",
          "polar": {
           "angularaxis": {
            "gridcolor": "white",
            "linecolor": "white",
            "ticks": ""
           },
           "bgcolor": "#E5ECF6",
           "radialaxis": {
            "gridcolor": "white",
            "linecolor": "white",
            "ticks": ""
           }
          },
          "scene": {
           "xaxis": {
            "backgroundcolor": "#E5ECF6",
            "gridcolor": "white",
            "gridwidth": 2,
            "linecolor": "white",
            "showbackground": true,
            "ticks": "",
            "zerolinecolor": "white"
           },
           "yaxis": {
            "backgroundcolor": "#E5ECF6",
            "gridcolor": "white",
            "gridwidth": 2,
            "linecolor": "white",
            "showbackground": true,
            "ticks": "",
            "zerolinecolor": "white"
           },
           "zaxis": {
            "backgroundcolor": "#E5ECF6",
            "gridcolor": "white",
            "gridwidth": 2,
            "linecolor": "white",
            "showbackground": true,
            "ticks": "",
            "zerolinecolor": "white"
           }
          },
          "shapedefaults": {
           "line": {
            "color": "#2a3f5f"
           }
          },
          "ternary": {
           "aaxis": {
            "gridcolor": "white",
            "linecolor": "white",
            "ticks": ""
           },
           "baxis": {
            "gridcolor": "white",
            "linecolor": "white",
            "ticks": ""
           },
           "bgcolor": "#E5ECF6",
           "caxis": {
            "gridcolor": "white",
            "linecolor": "white",
            "ticks": ""
           }
          },
          "title": {
           "x": 0.05
          },
          "xaxis": {
           "automargin": true,
           "gridcolor": "white",
           "linecolor": "white",
           "ticks": "",
           "title": {
            "standoff": 15
           },
           "zerolinecolor": "white",
           "zerolinewidth": 2
          },
          "yaxis": {
           "automargin": true,
           "gridcolor": "white",
           "linecolor": "white",
           "ticks": "",
           "title": {
            "standoff": 15
           },
           "zerolinecolor": "white",
           "zerolinewidth": 2
          }
         }
        },
        "xaxis": {
         "anchor": "y",
         "domain": [
          0,
          1
         ],
         "title": {
          "text": "payload_size"
         }
        },
        "yaxis": {
         "anchor": "x",
         "domain": [
          0,
          1
         ],
         "title": {
          "text": "ratio"
         }
        }
       }
      }
     },
     "metadata": {},
     "output_type": "display_data"
    }
   ],
   "source": [
    "fig = px.box(\n",
    "    energy_ratio_df,\n",
    "    x=\"payload_size\",\n",
    "    y=\"ratio\", \n",
    "    color=\"unchanged_counter\",\n",
    ")\n",
    "fig"
   ]
  },
  {
   "cell_type": "markdown",
   "metadata": {},
   "source": [
    "# What is BTP's overhead for building the tree"
   ]
  },
  {
   "cell_type": "code",
   "execution_count": 124,
   "metadata": {},
   "outputs": [
    {
     "data": {
      "application/vnd.plotly.v1+json": {
       "config": {
        "plotlyServerURL": "https://plot.ly"
       },
       "data": [
        {
         "alignmentgroup": "True",
         "hovertemplate": "frame_type=payload<br>unchanged_counter=5<br>payload_size=%{x}<br>mWb_rel=%{y}<extra></extra>",
         "legendgroup": "payload",
         "marker": {
          "color": "#636efa",
          "pattern": {
           "shape": ""
          }
         },
         "name": "payload",
         "offsetgroup": "payload",
         "orientation": "v",
         "showlegend": true,
         "textposition": "auto",
         "type": "bar",
         "x": [
          "100K",
          "1K",
          "1M"
         ],
         "xaxis": "x",
         "y": [
          0.8722645389499495,
          0.7015185366758864,
          0.8087263066019196
         ],
         "yaxis": "y"
        },
        {
         "alignmentgroup": "True",
         "hovertemplate": "frame_type=payload<br>unchanged_counter=15<br>payload_size=%{x}<br>mWb_rel=%{y}<extra></extra>",
         "legendgroup": "payload",
         "marker": {
          "color": "#636efa",
          "pattern": {
           "shape": ""
          }
         },
         "name": "payload",
         "offsetgroup": "payload",
         "orientation": "v",
         "showlegend": false,
         "textposition": "auto",
         "type": "bar",
         "x": [
          "100K",
          "1K",
          "1M"
         ],
         "xaxis": "x2",
         "y": [
          0.7753156512289309,
          0.7526292830516176,
          0.6926484517296113
         ],
         "yaxis": "y2"
        },
        {
         "alignmentgroup": "True",
         "hovertemplate": "frame_type=payload<br>unchanged_counter=25<br>payload_size=%{x}<br>mWb_rel=%{y}<extra></extra>",
         "legendgroup": "payload",
         "marker": {
          "color": "#636efa",
          "pattern": {
           "shape": ""
          }
         },
         "name": "payload",
         "offsetgroup": "payload",
         "orientation": "v",
         "showlegend": false,
         "textposition": "auto",
         "type": "bar",
         "x": [
          "100K",
          "1K",
          "1M"
         ],
         "xaxis": "x3",
         "y": [
          0.6738590867806941,
          0.7482009199667201,
          0.7396274036964574
         ],
         "yaxis": "y3"
        },
        {
         "alignmentgroup": "True",
         "hovertemplate": "frame_type=protocol<br>unchanged_counter=5<br>payload_size=%{x}<br>mWb_rel=%{y}<extra></extra>",
         "legendgroup": "protocol",
         "marker": {
          "color": "#EF553B",
          "pattern": {
           "shape": ""
          }
         },
         "name": "protocol",
         "offsetgroup": "protocol",
         "orientation": "v",
         "showlegend": true,
         "textposition": "auto",
         "type": "bar",
         "x": [
          "100K",
          "1K",
          "1M"
         ],
         "xaxis": "x",
         "y": [
          0.12773546105005046,
          0.29848146332411357,
          0.19127369339808048
         ],
         "yaxis": "y"
        },
        {
         "alignmentgroup": "True",
         "hovertemplate": "frame_type=protocol<br>unchanged_counter=15<br>payload_size=%{x}<br>mWb_rel=%{y}<extra></extra>",
         "legendgroup": "protocol",
         "marker": {
          "color": "#EF553B",
          "pattern": {
           "shape": ""
          }
         },
         "name": "protocol",
         "offsetgroup": "protocol",
         "orientation": "v",
         "showlegend": false,
         "textposition": "auto",
         "type": "bar",
         "x": [
          "100K",
          "1K",
          "1M"
         ],
         "xaxis": "x2",
         "y": [
          0.2246843487710691,
          0.24737071694838245,
          0.30735154827038863
         ],
         "yaxis": "y2"
        },
        {
         "alignmentgroup": "True",
         "hovertemplate": "frame_type=protocol<br>unchanged_counter=25<br>payload_size=%{x}<br>mWb_rel=%{y}<extra></extra>",
         "legendgroup": "protocol",
         "marker": {
          "color": "#EF553B",
          "pattern": {
           "shape": ""
          }
         },
         "name": "protocol",
         "offsetgroup": "protocol",
         "orientation": "v",
         "showlegend": false,
         "textposition": "auto",
         "type": "bar",
         "x": [
          "100K",
          "1K",
          "1M"
         ],
         "xaxis": "x3",
         "y": [
          0.3261409132193059,
          0.2517990800332799,
          0.26037259630354265
         ],
         "yaxis": "y3"
        }
       ],
       "layout": {
        "annotations": [
         {
          "font": {},
          "showarrow": false,
          "text": "unchanged_counter=5",
          "x": 0.15999999999999998,
          "xanchor": "center",
          "xref": "paper",
          "y": 1,
          "yanchor": "bottom",
          "yref": "paper"
         },
         {
          "font": {},
          "showarrow": false,
          "text": "unchanged_counter=15",
          "x": 0.49999999999999994,
          "xanchor": "center",
          "xref": "paper",
          "y": 1,
          "yanchor": "bottom",
          "yref": "paper"
         },
         {
          "font": {},
          "showarrow": false,
          "text": "unchanged_counter=25",
          "x": 0.8399999999999999,
          "xanchor": "center",
          "xref": "paper",
          "y": 1,
          "yanchor": "bottom",
          "yref": "paper"
         }
        ],
        "barmode": "relative",
        "legend": {
         "title": {
          "text": "frame_type"
         },
         "tracegroupgap": 0
        },
        "margin": {
         "t": 60
        },
        "template": {
         "data": {
          "bar": [
           {
            "error_x": {
             "color": "#2a3f5f"
            },
            "error_y": {
             "color": "#2a3f5f"
            },
            "marker": {
             "line": {
              "color": "#E5ECF6",
              "width": 0.5
             },
             "pattern": {
              "fillmode": "overlay",
              "size": 10,
              "solidity": 0.2
             }
            },
            "type": "bar"
           }
          ],
          "barpolar": [
           {
            "marker": {
             "line": {
              "color": "#E5ECF6",
              "width": 0.5
             },
             "pattern": {
              "fillmode": "overlay",
              "size": 10,
              "solidity": 0.2
             }
            },
            "type": "barpolar"
           }
          ],
          "carpet": [
           {
            "aaxis": {
             "endlinecolor": "#2a3f5f",
             "gridcolor": "white",
             "linecolor": "white",
             "minorgridcolor": "white",
             "startlinecolor": "#2a3f5f"
            },
            "baxis": {
             "endlinecolor": "#2a3f5f",
             "gridcolor": "white",
             "linecolor": "white",
             "minorgridcolor": "white",
             "startlinecolor": "#2a3f5f"
            },
            "type": "carpet"
           }
          ],
          "choropleth": [
           {
            "colorbar": {
             "outlinewidth": 0,
             "ticks": ""
            },
            "type": "choropleth"
           }
          ],
          "contour": [
           {
            "colorbar": {
             "outlinewidth": 0,
             "ticks": ""
            },
            "colorscale": [
             [
              0,
              "#0d0887"
             ],
             [
              0.1111111111111111,
              "#46039f"
             ],
             [
              0.2222222222222222,
              "#7201a8"
             ],
             [
              0.3333333333333333,
              "#9c179e"
             ],
             [
              0.4444444444444444,
              "#bd3786"
             ],
             [
              0.5555555555555556,
              "#d8576b"
             ],
             [
              0.6666666666666666,
              "#ed7953"
             ],
             [
              0.7777777777777778,
              "#fb9f3a"
             ],
             [
              0.8888888888888888,
              "#fdca26"
             ],
             [
              1,
              "#f0f921"
             ]
            ],
            "type": "contour"
           }
          ],
          "contourcarpet": [
           {
            "colorbar": {
             "outlinewidth": 0,
             "ticks": ""
            },
            "type": "contourcarpet"
           }
          ],
          "heatmap": [
           {
            "colorbar": {
             "outlinewidth": 0,
             "ticks": ""
            },
            "colorscale": [
             [
              0,
              "#0d0887"
             ],
             [
              0.1111111111111111,
              "#46039f"
             ],
             [
              0.2222222222222222,
              "#7201a8"
             ],
             [
              0.3333333333333333,
              "#9c179e"
             ],
             [
              0.4444444444444444,
              "#bd3786"
             ],
             [
              0.5555555555555556,
              "#d8576b"
             ],
             [
              0.6666666666666666,
              "#ed7953"
             ],
             [
              0.7777777777777778,
              "#fb9f3a"
             ],
             [
              0.8888888888888888,
              "#fdca26"
             ],
             [
              1,
              "#f0f921"
             ]
            ],
            "type": "heatmap"
           }
          ],
          "heatmapgl": [
           {
            "colorbar": {
             "outlinewidth": 0,
             "ticks": ""
            },
            "colorscale": [
             [
              0,
              "#0d0887"
             ],
             [
              0.1111111111111111,
              "#46039f"
             ],
             [
              0.2222222222222222,
              "#7201a8"
             ],
             [
              0.3333333333333333,
              "#9c179e"
             ],
             [
              0.4444444444444444,
              "#bd3786"
             ],
             [
              0.5555555555555556,
              "#d8576b"
             ],
             [
              0.6666666666666666,
              "#ed7953"
             ],
             [
              0.7777777777777778,
              "#fb9f3a"
             ],
             [
              0.8888888888888888,
              "#fdca26"
             ],
             [
              1,
              "#f0f921"
             ]
            ],
            "type": "heatmapgl"
           }
          ],
          "histogram": [
           {
            "marker": {
             "pattern": {
              "fillmode": "overlay",
              "size": 10,
              "solidity": 0.2
             }
            },
            "type": "histogram"
           }
          ],
          "histogram2d": [
           {
            "colorbar": {
             "outlinewidth": 0,
             "ticks": ""
            },
            "colorscale": [
             [
              0,
              "#0d0887"
             ],
             [
              0.1111111111111111,
              "#46039f"
             ],
             [
              0.2222222222222222,
              "#7201a8"
             ],
             [
              0.3333333333333333,
              "#9c179e"
             ],
             [
              0.4444444444444444,
              "#bd3786"
             ],
             [
              0.5555555555555556,
              "#d8576b"
             ],
             [
              0.6666666666666666,
              "#ed7953"
             ],
             [
              0.7777777777777778,
              "#fb9f3a"
             ],
             [
              0.8888888888888888,
              "#fdca26"
             ],
             [
              1,
              "#f0f921"
             ]
            ],
            "type": "histogram2d"
           }
          ],
          "histogram2dcontour": [
           {
            "colorbar": {
             "outlinewidth": 0,
             "ticks": ""
            },
            "colorscale": [
             [
              0,
              "#0d0887"
             ],
             [
              0.1111111111111111,
              "#46039f"
             ],
             [
              0.2222222222222222,
              "#7201a8"
             ],
             [
              0.3333333333333333,
              "#9c179e"
             ],
             [
              0.4444444444444444,
              "#bd3786"
             ],
             [
              0.5555555555555556,
              "#d8576b"
             ],
             [
              0.6666666666666666,
              "#ed7953"
             ],
             [
              0.7777777777777778,
              "#fb9f3a"
             ],
             [
              0.8888888888888888,
              "#fdca26"
             ],
             [
              1,
              "#f0f921"
             ]
            ],
            "type": "histogram2dcontour"
           }
          ],
          "mesh3d": [
           {
            "colorbar": {
             "outlinewidth": 0,
             "ticks": ""
            },
            "type": "mesh3d"
           }
          ],
          "parcoords": [
           {
            "line": {
             "colorbar": {
              "outlinewidth": 0,
              "ticks": ""
             }
            },
            "type": "parcoords"
           }
          ],
          "pie": [
           {
            "automargin": true,
            "type": "pie"
           }
          ],
          "scatter": [
           {
            "fillpattern": {
             "fillmode": "overlay",
             "size": 10,
             "solidity": 0.2
            },
            "type": "scatter"
           }
          ],
          "scatter3d": [
           {
            "line": {
             "colorbar": {
              "outlinewidth": 0,
              "ticks": ""
             }
            },
            "marker": {
             "colorbar": {
              "outlinewidth": 0,
              "ticks": ""
             }
            },
            "type": "scatter3d"
           }
          ],
          "scattercarpet": [
           {
            "marker": {
             "colorbar": {
              "outlinewidth": 0,
              "ticks": ""
             }
            },
            "type": "scattercarpet"
           }
          ],
          "scattergeo": [
           {
            "marker": {
             "colorbar": {
              "outlinewidth": 0,
              "ticks": ""
             }
            },
            "type": "scattergeo"
           }
          ],
          "scattergl": [
           {
            "marker": {
             "colorbar": {
              "outlinewidth": 0,
              "ticks": ""
             }
            },
            "type": "scattergl"
           }
          ],
          "scattermapbox": [
           {
            "marker": {
             "colorbar": {
              "outlinewidth": 0,
              "ticks": ""
             }
            },
            "type": "scattermapbox"
           }
          ],
          "scatterpolar": [
           {
            "marker": {
             "colorbar": {
              "outlinewidth": 0,
              "ticks": ""
             }
            },
            "type": "scatterpolar"
           }
          ],
          "scatterpolargl": [
           {
            "marker": {
             "colorbar": {
              "outlinewidth": 0,
              "ticks": ""
             }
            },
            "type": "scatterpolargl"
           }
          ],
          "scatterternary": [
           {
            "marker": {
             "colorbar": {
              "outlinewidth": 0,
              "ticks": ""
             }
            },
            "type": "scatterternary"
           }
          ],
          "surface": [
           {
            "colorbar": {
             "outlinewidth": 0,
             "ticks": ""
            },
            "colorscale": [
             [
              0,
              "#0d0887"
             ],
             [
              0.1111111111111111,
              "#46039f"
             ],
             [
              0.2222222222222222,
              "#7201a8"
             ],
             [
              0.3333333333333333,
              "#9c179e"
             ],
             [
              0.4444444444444444,
              "#bd3786"
             ],
             [
              0.5555555555555556,
              "#d8576b"
             ],
             [
              0.6666666666666666,
              "#ed7953"
             ],
             [
              0.7777777777777778,
              "#fb9f3a"
             ],
             [
              0.8888888888888888,
              "#fdca26"
             ],
             [
              1,
              "#f0f921"
             ]
            ],
            "type": "surface"
           }
          ],
          "table": [
           {
            "cells": {
             "fill": {
              "color": "#EBF0F8"
             },
             "line": {
              "color": "white"
             }
            },
            "header": {
             "fill": {
              "color": "#C8D4E3"
             },
             "line": {
              "color": "white"
             }
            },
            "type": "table"
           }
          ]
         },
         "layout": {
          "annotationdefaults": {
           "arrowcolor": "#2a3f5f",
           "arrowhead": 0,
           "arrowwidth": 1
          },
          "autotypenumbers": "strict",
          "coloraxis": {
           "colorbar": {
            "outlinewidth": 0,
            "ticks": ""
           }
          },
          "colorscale": {
           "diverging": [
            [
             0,
             "#8e0152"
            ],
            [
             0.1,
             "#c51b7d"
            ],
            [
             0.2,
             "#de77ae"
            ],
            [
             0.3,
             "#f1b6da"
            ],
            [
             0.4,
             "#fde0ef"
            ],
            [
             0.5,
             "#f7f7f7"
            ],
            [
             0.6,
             "#e6f5d0"
            ],
            [
             0.7,
             "#b8e186"
            ],
            [
             0.8,
             "#7fbc41"
            ],
            [
             0.9,
             "#4d9221"
            ],
            [
             1,
             "#276419"
            ]
           ],
           "sequential": [
            [
             0,
             "#0d0887"
            ],
            [
             0.1111111111111111,
             "#46039f"
            ],
            [
             0.2222222222222222,
             "#7201a8"
            ],
            [
             0.3333333333333333,
             "#9c179e"
            ],
            [
             0.4444444444444444,
             "#bd3786"
            ],
            [
             0.5555555555555556,
             "#d8576b"
            ],
            [
             0.6666666666666666,
             "#ed7953"
            ],
            [
             0.7777777777777778,
             "#fb9f3a"
            ],
            [
             0.8888888888888888,
             "#fdca26"
            ],
            [
             1,
             "#f0f921"
            ]
           ],
           "sequentialminus": [
            [
             0,
             "#0d0887"
            ],
            [
             0.1111111111111111,
             "#46039f"
            ],
            [
             0.2222222222222222,
             "#7201a8"
            ],
            [
             0.3333333333333333,
             "#9c179e"
            ],
            [
             0.4444444444444444,
             "#bd3786"
            ],
            [
             0.5555555555555556,
             "#d8576b"
            ],
            [
             0.6666666666666666,
             "#ed7953"
            ],
            [
             0.7777777777777778,
             "#fb9f3a"
            ],
            [
             0.8888888888888888,
             "#fdca26"
            ],
            [
             1,
             "#f0f921"
            ]
           ]
          },
          "colorway": [
           "#636efa",
           "#EF553B",
           "#00cc96",
           "#ab63fa",
           "#FFA15A",
           "#19d3f3",
           "#FF6692",
           "#B6E880",
           "#FF97FF",
           "#FECB52"
          ],
          "font": {
           "color": "#2a3f5f"
          },
          "geo": {
           "bgcolor": "white",
           "lakecolor": "white",
           "landcolor": "#E5ECF6",
           "showlakes": true,
           "showland": true,
           "subunitcolor": "white"
          },
          "hoverlabel": {
           "align": "left"
          },
          "hovermode": "closest",
          "mapbox": {
           "style": "light"
          },
          "paper_bgcolor": "white",
          "plot_bgcolor": "#E5ECF6",
          "polar": {
           "angularaxis": {
            "gridcolor": "white",
            "linecolor": "white",
            "ticks": ""
           },
           "bgcolor": "#E5ECF6",
           "radialaxis": {
            "gridcolor": "white",
            "linecolor": "white",
            "ticks": ""
           }
          },
          "scene": {
           "xaxis": {
            "backgroundcolor": "#E5ECF6",
            "gridcolor": "white",
            "gridwidth": 2,
            "linecolor": "white",
            "showbackground": true,
            "ticks": "",
            "zerolinecolor": "white"
           },
           "yaxis": {
            "backgroundcolor": "#E5ECF6",
            "gridcolor": "white",
            "gridwidth": 2,
            "linecolor": "white",
            "showbackground": true,
            "ticks": "",
            "zerolinecolor": "white"
           },
           "zaxis": {
            "backgroundcolor": "#E5ECF6",
            "gridcolor": "white",
            "gridwidth": 2,
            "linecolor": "white",
            "showbackground": true,
            "ticks": "",
            "zerolinecolor": "white"
           }
          },
          "shapedefaults": {
           "line": {
            "color": "#2a3f5f"
           }
          },
          "ternary": {
           "aaxis": {
            "gridcolor": "white",
            "linecolor": "white",
            "ticks": ""
           },
           "baxis": {
            "gridcolor": "white",
            "linecolor": "white",
            "ticks": ""
           },
           "bgcolor": "#E5ECF6",
           "caxis": {
            "gridcolor": "white",
            "linecolor": "white",
            "ticks": ""
           }
          },
          "title": {
           "x": 0.05
          },
          "xaxis": {
           "automargin": true,
           "gridcolor": "white",
           "linecolor": "white",
           "ticks": "",
           "title": {
            "standoff": 15
           },
           "zerolinecolor": "white",
           "zerolinewidth": 2
          },
          "yaxis": {
           "automargin": true,
           "gridcolor": "white",
           "linecolor": "white",
           "ticks": "",
           "title": {
            "standoff": 15
           },
           "zerolinecolor": "white",
           "zerolinewidth": 2
          }
         }
        },
        "xaxis": {
         "anchor": "y",
         "domain": [
          0,
          0.31999999999999995
         ],
         "title": {
          "text": "payload_size"
         }
        },
        "xaxis2": {
         "anchor": "y2",
         "domain": [
          0.33999999999999997,
          0.6599999999999999
         ],
         "matches": "x",
         "title": {
          "text": "payload_size"
         }
        },
        "xaxis3": {
         "anchor": "y3",
         "domain": [
          0.6799999999999999,
          0.9999999999999999
         ],
         "matches": "x",
         "title": {
          "text": "payload_size"
         }
        },
        "yaxis": {
         "anchor": "x",
         "domain": [
          0,
          1
         ],
         "title": {
          "text": "mWb_rel"
         }
        },
        "yaxis2": {
         "anchor": "x2",
         "domain": [
          0,
          1
         ],
         "matches": "y",
         "showticklabels": false
        },
        "yaxis3": {
         "anchor": "x3",
         "domain": [
          0,
          1
         ],
         "matches": "y",
         "showticklabels": false
        }
       }
      }
     },
     "metadata": {},
     "output_type": "display_data"
    }
   ],
   "source": [
    "btp_energy_df = energy_df[energy_df[\"max_power\"] == False]\n",
    "\n",
    "fig = px.bar(\n",
    "    btp_energy_df,\n",
    "    x=\"payload_size\",\n",
    "    y=\"mWb_rel\",\n",
    "    color=\"frame_type\",\n",
    "    facet_col=\"unchanged_counter\",\n",
    ")\n",
    "fig"
   ]
  },
  {
   "cell_type": "markdown",
   "metadata": {},
   "source": [
    "# Strain on Individual Nodes"
   ]
  },
  {
   "cell_type": "code",
   "execution_count": 187,
   "metadata": {},
   "outputs": [
    {
     "name": "stderr",
     "output_type": "stream",
     "text": [
      "/var/folders/26/2pp7vp553ms3s26tctkklxzr0000gp/T/ipykernel_39347/37051079.py:11: FutureWarning:\n",
      "\n",
      "Dropping invalid columns in DataFrameGroupBy.agg is deprecated. In a future version, a TypeError will be raised. Before calling .agg, select only columns which should be valid for the function.\n",
      "\n"
     ]
    }
   ],
   "source": [
    "def sort_groups(x):\n",
    "    sorted_x = x.sort_values(by=\"amount\", ascending=False)\n",
    "    sorted_x['sorted'] = range(len(sorted_x))\n",
    "    \n",
    "    return sorted_x\n",
    "\n",
    "strain_df = df.drop(df[(df[\"max_power\"] == True) & (df[\"frame_type\"] == \"protocol\")].index)\n",
    "\n",
    "strain_df = strain_df.groupby(EXPERIMENT_IDENTIFIER + [\"node_id\"])[\"mWb\"].sum().reset_index(name=\"amount\")\n",
    "\n",
    "strain_df = strain_df.groupby(EXPERIMENT_IDENTIFIER).agg(sort_groups).reset_index(drop=True)\n",
    "\n",
    "strain_df[\"normalized\"] = (strain_df[\"amount\"] - strain_df[\"amount\"].min()) / (strain_df[\"amount\"].max() - strain_df[\"amount\"].min())"
   ]
  },
  {
   "cell_type": "code",
   "execution_count": 188,
   "metadata": {},
   "outputs": [
    {
     "data": {
      "application/vnd.plotly.v1+json": {
       "config": {
        "plotlyServerURL": "https://plot.ly"
       },
       "data": [
        {
         "hovertemplate": "max_power=False<br>payload_size=100K<br>unchanged_counter=5<br>sorted=%{x}<br>normalized=%{y}<extra></extra>",
         "legendgroup": "False, 100K",
         "line": {
          "color": "#636efa",
          "dash": "solid"
         },
         "marker": {
          "symbol": "circle"
         },
         "mode": "lines",
         "name": "False, 100K",
         "showlegend": true,
         "type": "scattergl",
         "x": [
          0,
          1,
          2,
          3,
          4,
          5,
          6,
          7,
          8,
          9,
          10,
          11,
          12,
          13,
          14,
          15,
          16,
          17,
          18,
          19,
          20,
          21,
          22,
          23,
          24,
          25,
          26,
          27,
          28,
          29,
          30,
          31,
          32,
          33,
          34,
          35,
          36,
          37,
          38,
          39,
          40,
          41,
          42,
          43,
          44,
          45,
          46,
          47,
          48,
          49,
          50,
          51,
          52,
          53,
          54,
          55,
          56,
          57,
          58,
          59,
          60,
          61,
          62,
          63,
          64,
          65,
          66,
          67,
          68,
          69,
          70,
          71,
          72,
          73,
          74,
          75
         ],
         "xaxis": "x",
         "y": [
          0.38995884020006816,
          0.3493426587770314,
          0.2578231687640319,
          0.13276592710225962,
          0.11886852316155556,
          0.07177964350860909,
          0.062345297312377146,
          0.052397020657894304,
          0.04905210926126198,
          0.04311488971276988,
          0.022738003151740755,
          0.022024041482497685,
          0.018274312069092108,
          0.016905565105014085,
          0.016622348865792457,
          0.016482190420983794,
          0.011888564118241938,
          0.011619111872088238,
          0.011190024500823115,
          0.009035296975474557,
          0.00802283754260197,
          0.007771020182050911,
          0.007078544902784538,
          0.006958521168496383,
          0.0068852313519961175,
          0.006884076074662514,
          0.006745073094918191,
          0.006691885420847822,
          0.006644665411500236,
          0.006370710423161461,
          0.006006557800661373,
          0.005758493705391508,
          0.0053998743857427275,
          0.005399630941955617,
          0.00507771644123438,
          0.004855681282708158,
          0.004590542678007876,
          0.004261503985989138,
          0.003811897916980253,
          0.003753341208346245,
          0.003599138297559009,
          0.00345950431384989,
          0.003238634497382653,
          0.0031960618531258252,
          0.0031555646562269886,
          0.003114815006865139,
          0.0029540827361029943,
          0.002763364123266736,
          0.002709350171948936,
          0.0024977632493037192,
          0.0021850070916444022,
          0.0015811952168006962,
          0.0013964628343720816,
          0.001308825221482067,
          0.0012535881857126173,
          0.0010711775344945825,
          0.001012067941178437,
          0.0009801861628193197,
          0.000876474814121618,
          0.0007703576050782242,
          0.0007263435120725359,
          0.0005353949382667242,
          0.00047950056934182575,
          0.00047343900922927883,
          0.0004143995311715407,
          0.00032536926335618885,
          0.0003160372032119997,
          0.0003043865654304328,
          0.0002736102537138219,
          0.0002469597146709305,
          0.00021002879786881926,
          0.00019757652664398716,
          0.00017206819929224554,
          0.00015977578306936965,
          0.00014186276940269946,
          0.00012356547377999726
         ],
         "yaxis": "y"
        },
        {
         "hovertemplate": "max_power=False<br>payload_size=100K<br>unchanged_counter=15<br>sorted=%{x}<br>normalized=%{y}<extra></extra>",
         "legendgroup": "False, 100K",
         "line": {
          "color": "#636efa",
          "dash": "solid"
         },
         "marker": {
          "symbol": "circle"
         },
         "mode": "lines",
         "name": "False, 100K",
         "showlegend": false,
         "type": "scattergl",
         "x": [
          0,
          1,
          2,
          3,
          4,
          5,
          6,
          7,
          8,
          9,
          10,
          11,
          12,
          13,
          14,
          15,
          16,
          17,
          18,
          19,
          20,
          21,
          22,
          23,
          24,
          25,
          26,
          27,
          28,
          29,
          30,
          31,
          32,
          33,
          34,
          35,
          36,
          37,
          38,
          39,
          40,
          41,
          42,
          43,
          44,
          45,
          46,
          47,
          48,
          49,
          50,
          51,
          52,
          53,
          54,
          55,
          56,
          57,
          58,
          59,
          60,
          61,
          62,
          63,
          64,
          65,
          66,
          67,
          68,
          69,
          70,
          71,
          72,
          73,
          74,
          75
         ],
         "xaxis": "x2",
         "y": [
          0.2802104959884379,
          0.17067495050061332,
          0.12474779944570304,
          0.07707955645187123,
          0.05992893186792092,
          0.053358787077657024,
          0.04124740233027761,
          0.024197030286049182,
          0.02345463792671437,
          0.02291688513286211,
          0.01936545618523087,
          0.013387017746627448,
          0.011353455209931923,
          0.01042032211174168,
          0.007574246878821422,
          0.007015459989709179,
          0.006869083152776676,
          0.006848010407269,
          0.006844024456990751,
          0.006817785955999614,
          0.0067895297672356265,
          0.006731582929283185,
          0.006654713884708777,
          0.006581330380259893,
          0.0064407391154488606,
          0.006414664796241656,
          0.006413598604413846,
          0.006386351019319317,
          0.006374018653643397,
          0.0063310761547916376,
          0.006017747395532472,
          0.006014841095521483,
          0.005860404238480971,
          0.005666590519130984,
          0.005468084065808198,
          0.005458227827564731,
          0.005336024410364426,
          0.005226451974593915,
          0.00500799846963941,
          0.004690026708383365,
          0.004556774673933131,
          0.004463974982751794,
          0.004311486013821721,
          0.003840166867212027,
          0.003642389894171965,
          0.0035786046156060336,
          0.003397250692190479,
          0.0029752598093803376,
          0.0027025445144501963,
          0.0026966550913782917,
          0.002452281383045238,
          0.002432634490284537,
          0.0022602008721883675,
          0.002207406178674415,
          0.0013860399009090634,
          0.0013690498502157875,
          0.001296641503801197,
          0.0012478846866279122,
          0.001197609765717905,
          0.0010899140975929402,
          0.001023010635339989,
          0.0009642159771958312,
          0.0008893071958078308,
          0.0008850574061978778,
          0.0008414956983477508,
          0.0006667743600839884,
          0.0006176536882840348,
          0.0006019325022092608,
          0.0005846139757558192,
          0.0005577379064647499,
          0.0004869353419155923,
          0.00047616297459359146,
          0.00042153081141273625,
          0.0002875951583848598,
          0.00025416639051993606,
          0.00018810176355105252
         ],
         "yaxis": "y2"
        },
        {
         "hovertemplate": "max_power=False<br>payload_size=100K<br>unchanged_counter=25<br>sorted=%{x}<br>normalized=%{y}<extra></extra>",
         "legendgroup": "False, 100K",
         "line": {
          "color": "#636efa",
          "dash": "solid"
         },
         "marker": {
          "symbol": "circle"
         },
         "mode": "lines",
         "name": "False, 100K",
         "showlegend": false,
         "type": "scattergl",
         "x": [
          0,
          1,
          2,
          3,
          4,
          5,
          6,
          7,
          8,
          9,
          10,
          11,
          12,
          13,
          14,
          15,
          16,
          17,
          18,
          19,
          20,
          21,
          22,
          23,
          24,
          25,
          26,
          27,
          28,
          29,
          30,
          31,
          32,
          33,
          34,
          35,
          36,
          37,
          38,
          39,
          40,
          41,
          42,
          43,
          44,
          45,
          46,
          47,
          48,
          49,
          50,
          51,
          52,
          53,
          54,
          55,
          56,
          57,
          58,
          59,
          60,
          61,
          62,
          63,
          64,
          65,
          66,
          67,
          68,
          69,
          70,
          71,
          72,
          73,
          74,
          75
         ],
         "xaxis": "x3",
         "y": [
          0.211425883984414,
          0.1414238012224826,
          0.09653751904059471,
          0.02610978878511256,
          0.023435156501209812,
          0.022404483957489785,
          0.02066424697537536,
          0.018474230382428732,
          0.017179709839003778,
          0.016968248450489547,
          0.009971182476995858,
          0.009540613221070372,
          0.009376069854289132,
          0.008668829714186543,
          0.00741011318086421,
          0.0068465103264990276,
          0.006782250778390408,
          0.0067506641535221715,
          0.006668398083410378,
          0.006598352189160063,
          0.006580794941804233,
          0.006539010675139564,
          0.006538378041450766,
          0.006435140843353645,
          0.006389471316284031,
          0.006278053322447543,
          0.0062536765077267934,
          0.006214365508344576,
          0.0061962954253409145,
          0.006190233237740792,
          0.006160586065496604,
          0.006145094440228825,
          0.006036854966750309,
          0.006021988084976874,
          0.005853963535588088,
          0.005662391706463027,
          0.005564237235293455,
          0.005471223661174427,
          0.005457176440432696,
          0.00510248261990168,
          0.004807216402147241,
          0.004638265600143794,
          0.004310180034757097,
          0.0039113480420208185,
          0.003777278913312899,
          0.0036252649225715105,
          0.0035722605122055387,
          0.003552324172769044,
          0.003214411887772749,
          0.0031865356197202928,
          0.003157705076631517,
          0.0028278570711284274,
          0.002810846681941598,
          0.002771363663803065,
          0.0026264709283288575,
          0.0024902136642338283,
          0.0021516664263249675,
          0.0019007711142674934,
          0.0018540965180419747,
          0.0017300495157172551,
          0.0016924357787624126,
          0.0014557852402300507,
          0.0013954109503350376,
          0.001362692328875071,
          0.001138376614556391,
          0.0009723250277364308,
          0.0007666391759024289,
          0.0007487865561552143,
          0.0007283430088966572,
          0.0007166930824772477,
          0.0005328563802205989,
          0.000400594992647516,
          0.0002454384842743509,
          0.00022319242822525204,
          0.0002029278020958705,
          0.00014158736272005892
         ],
         "yaxis": "y3"
        },
        {
         "hovertemplate": "max_power=False<br>payload_size=1K<br>unchanged_counter=5<br>sorted=%{x}<br>normalized=%{y}<extra></extra>",
         "legendgroup": "False, 1K",
         "line": {
          "color": "#636efa",
          "dash": "dot"
         },
         "marker": {
          "symbol": "circle"
         },
         "mode": "lines",
         "name": "False, 1K",
         "showlegend": true,
         "type": "scattergl",
         "x": [
          0,
          1,
          2,
          3,
          4,
          5,
          6,
          7,
          8,
          9,
          10,
          11,
          12,
          13,
          14,
          15,
          16,
          17,
          18,
          19,
          20,
          21,
          22,
          23,
          24,
          25,
          26,
          27,
          28,
          29,
          30,
          31,
          32,
          33,
          34,
          35,
          36,
          37,
          38,
          39,
          40,
          41,
          42,
          43,
          44,
          45,
          46,
          47,
          48,
          49,
          50,
          51,
          52,
          53,
          54,
          55,
          56,
          57,
          58,
          59,
          60,
          61,
          62,
          63,
          64,
          65,
          66,
          67,
          68,
          69,
          70,
          71,
          72,
          73,
          74,
          75
         ],
         "xaxis": "x",
         "y": [
          0.19743659798879368,
          0.11793535794938602,
          0.11778102597999922,
          0.08760424313826938,
          0.05444048297868096,
          0.050814780128263966,
          0.028862335679384118,
          0.025708453752155074,
          0.02297010140410085,
          0.019133084420538286,
          0.015574770349635728,
          0.01253013751026101,
          0.010924976592519411,
          0.010398770602748523,
          0.009667192193359611,
          0.009410572681692346,
          0.00834163592991111,
          0.007845315332379007,
          0.007686614876608317,
          0.0071629836287687544,
          0.007105238907178317,
          0.006951417938723937,
          0.006787317424570668,
          0.006782942486741328,
          0.006755148487975771,
          0.006644312274830744,
          0.006637831172007679,
          0.00659936991561147,
          0.006533191966323055,
          0.006473886129626238,
          0.006451135498976124,
          0.006331609024279322,
          0.0062585741921637695,
          0.006224758284355307,
          0.0062216270312684605,
          0.006105830469407146,
          0.006009217560132184,
          0.005894498063474954,
          0.0058385417058192095,
          0.005612112496124172,
          0.0055916212125141345,
          0.005501393210578826,
          0.004870224725076829,
          0.0047071287137726995,
          0.004346321972619488,
          0.0038919580288688206,
          0.0038223950279500244,
          0.003811140967219735,
          0.0037923394516460136,
          0.003592094588332109,
          0.003372505324998541,
          0.003330761541700003,
          0.0021503554266686254,
          0.0018222515372287127,
          0.0017339470921180877,
          0.0016034404886016058,
          0.0013430692066865684,
          0.001294438939034068,
          0.0009912432296731023,
          0.0008635380126970203,
          0.0006750382161841561,
          0.0006026483976642851,
          0.0005490337577126811,
          0.0005360158915881224,
          0.0005245704935903658,
          0.0004811093527112897,
          0.00047316962227304934,
          0.0003788591243896392,
          0.0003040032932819373,
          0.00020799593464031237,
          0.00019677293591953415,
          0.00014300575385892407,
          0.00012434020027102578,
          0.00012355483675821114,
          0.00012093795182404815,
          0.000028694837798277863
         ],
         "yaxis": "y"
        },
        {
         "hovertemplate": "max_power=False<br>payload_size=1K<br>unchanged_counter=15<br>sorted=%{x}<br>normalized=%{y}<extra></extra>",
         "legendgroup": "False, 1K",
         "line": {
          "color": "#636efa",
          "dash": "dot"
         },
         "marker": {
          "symbol": "circle"
         },
         "mode": "lines",
         "name": "False, 1K",
         "showlegend": false,
         "type": "scattergl",
         "x": [
          0,
          1,
          2,
          3,
          4,
          5,
          6,
          7,
          8,
          9,
          10,
          11,
          12,
          13,
          14,
          15,
          16,
          17,
          18,
          19,
          20,
          21,
          22,
          23,
          24,
          25,
          26,
          27,
          28,
          29,
          30,
          31,
          32,
          33,
          34,
          35,
          36,
          37,
          38,
          39,
          40,
          41,
          42,
          43,
          44,
          45,
          46,
          47,
          48,
          49,
          50,
          51,
          52,
          53,
          54,
          55,
          56,
          57,
          58,
          59,
          60,
          61,
          62,
          63,
          64,
          65,
          66,
          67,
          68,
          69,
          70,
          71,
          72,
          73,
          74,
          75
         ],
         "xaxis": "x2",
         "y": [
          0.3258557004176743,
          0.1734597463583422,
          0.13432406460212937,
          0.1315623048822663,
          0.0567805046511964,
          0.053436961713660594,
          0.03909229145003432,
          0.030771419926449353,
          0.014664639512314366,
          0.012671943906975326,
          0.010704593618597465,
          0.0090769096599952,
          0.008588154736649416,
          0.008385549954948099,
          0.008134444486589633,
          0.007771941942156418,
          0.007604926381867528,
          0.007308175846743625,
          0.007285649466901907,
          0.007249427756798986,
          0.007213759339080692,
          0.007200263923857815,
          0.007114688626664562,
          0.007045633083586545,
          0.007029529384035504,
          0.006962821546078354,
          0.006938471198188945,
          0.006916544381005723,
          0.006719622247644428,
          0.006694201241483537,
          0.006618885688409674,
          0.006566285829669383,
          0.006553560492693715,
          0.006553016005818966,
          0.006527233351550879,
          0.00634889300577911,
          0.006269609483196404,
          0.006193833920981984,
          0.006085356925535522,
          0.006060824541923854,
          0.0059574613158523086,
          0.005846236597578286,
          0.005654653514432597,
          0.0054480757633401135,
          0.005211179962446552,
          0.005204710573066595,
          0.00503342249589414,
          0.004942347254926877,
          0.004585827964190842,
          0.004383679066601381,
          0.004368982674917241,
          0.003463623417534616,
          0.003404646132346889,
          0.0033150554384451065,
          0.0030276827315422563,
          0.0026284531043095673,
          0.00254754041760193,
          0.0025327808214366137,
          0.002472843026983441,
          0.0020582982307127055,
          0.001977461191760999,
          0.0018110213629794003,
          0.001688728214261551,
          0.0014438170851504674,
          0.001350515087839417,
          0.0010495144829492209,
          0.0008421008830738432,
          0.0007684623094595208,
          0.0007299018182117147,
          0.0006301402497931916,
          0.0006134220844098315,
          0.0006053638433348026,
          0.0005898683960227971,
          0.00041841888989248375,
          0.00040503138038642546,
          0.0002942419392446962
         ],
         "yaxis": "y2"
        },
        {
         "hovertemplate": "max_power=False<br>payload_size=1K<br>unchanged_counter=25<br>sorted=%{x}<br>normalized=%{y}<extra></extra>",
         "legendgroup": "False, 1K",
         "line": {
          "color": "#636efa",
          "dash": "dot"
         },
         "marker": {
          "symbol": "circle"
         },
         "mode": "lines",
         "name": "False, 1K",
         "showlegend": false,
         "type": "scattergl",
         "x": [
          0,
          1,
          2,
          3,
          4,
          5,
          6,
          7,
          8,
          9,
          10,
          11,
          12,
          13,
          14,
          15,
          16,
          17,
          18,
          19,
          20,
          21,
          22,
          23,
          24,
          25,
          26,
          27,
          28,
          29,
          30,
          31,
          32,
          33,
          34,
          35,
          36,
          37,
          38,
          39,
          40,
          41,
          42,
          43,
          44,
          45,
          46,
          47,
          48,
          49,
          50,
          51,
          52,
          53,
          54,
          55,
          56,
          57,
          58,
          59,
          60,
          61,
          62,
          63,
          64,
          65,
          66,
          67,
          68,
          69,
          70,
          71,
          72,
          73,
          74,
          75
         ],
         "xaxis": "x3",
         "y": [
          0.13982651749329353,
          0.10827525082759898,
          0.09807264861396116,
          0.09566515111610484,
          0.07706391587601982,
          0.04959838421266321,
          0.041644764433104255,
          0.031885596709348665,
          0.030487100914027235,
          0.029311694972449315,
          0.0251143884053542,
          0.01964146630184644,
          0.01956818833234436,
          0.01945550501985054,
          0.014936232454465416,
          0.014829387215062757,
          0.013321368338773322,
          0.012534494650379832,
          0.012151599064757603,
          0.012075863194842358,
          0.012071309098807093,
          0.011882200596151143,
          0.01098804776646182,
          0.01068635651639426,
          0.010407657422311197,
          0.009665143576138823,
          0.008795552461561055,
          0.008636696692845497,
          0.00804074238051334,
          0.007627121853329145,
          0.007079502790060476,
          0.007062894473202545,
          0.006927590888921153,
          0.00681210320533124,
          0.006671868558028591,
          0.006638506836314923,
          0.006139493182948433,
          0.005862669050915881,
          0.005632160198885294,
          0.005389369502987474,
          0.005123553754037019,
          0.004947130839381076,
          0.004658888185850294,
          0.004613525480085277,
          0.004541057434577741,
          0.0041811464825491414,
          0.004024064078433962,
          0.0038280686102522966,
          0.003776858259858756,
          0.0029964011284274923,
          0.002910226771278653,
          0.002627877335069856,
          0.002361438714313892,
          0.0022702577469060183,
          0.002209178681318177,
          0.0021620133952084935,
          0.002025953303461747,
          0.0020032424235191873,
          0.0018829658245473945,
          0.0018442256547167683,
          0.0010782376839040826,
          0.0009038335208308269,
          0.0007068202857133387,
          0.0006536635399826997,
          0.0006303968875537692,
          0.0005090668716029299,
          0.0004926035865142484,
          0.00048742290057237394,
          0.0004695697784957867,
          0.0004567870736899377,
          0.00037405325284438454,
          0.00036644716919034847,
          0.0003220925410836924,
          0.00030938515782379203,
          0.00027089998516453,
          0.00016815639058937013
         ],
         "yaxis": "y3"
        },
        {
         "hovertemplate": "max_power=False<br>payload_size=1M<br>unchanged_counter=5<br>sorted=%{x}<br>normalized=%{y}<extra></extra>",
         "legendgroup": "False, 1M",
         "line": {
          "color": "#636efa",
          "dash": "dash"
         },
         "marker": {
          "symbol": "circle"
         },
         "mode": "lines",
         "name": "False, 1M",
         "showlegend": true,
         "type": "scattergl",
         "x": [
          0,
          1,
          2,
          3,
          4,
          5,
          6,
          7,
          8,
          9,
          10,
          11,
          12,
          13,
          14,
          15,
          16,
          17,
          18,
          19,
          20,
          21,
          22,
          23,
          24,
          25,
          26,
          27,
          28,
          29,
          30,
          31,
          32,
          33,
          34,
          35,
          36,
          37,
          38,
          39,
          40,
          41,
          42,
          43,
          44,
          45,
          46,
          47,
          48,
          49,
          50,
          51,
          52,
          53,
          54,
          55,
          56,
          57,
          58,
          59,
          60,
          61,
          62,
          63,
          64,
          65,
          66,
          67,
          68,
          69,
          70,
          71,
          72,
          73,
          74,
          75
         ],
         "xaxis": "x",
         "y": [
          0.32241171246044087,
          0.2749322371062802,
          0.2692232063212381,
          0.0820841447787323,
          0.06755710461607187,
          0.04827658873025795,
          0.032315820661106553,
          0.03026874214986909,
          0.0244487467311951,
          0.024016643901796534,
          0.023893028236927388,
          0.023049877597524377,
          0.022472230879832772,
          0.020810038770706703,
          0.01951923662978439,
          0.01850797624001078,
          0.01707001805063267,
          0.01165364324267044,
          0.00823230611467013,
          0.006793480497356223,
          0.006749365649271057,
          0.006738732391833012,
          0.006727894925482305,
          0.006684686195424522,
          0.006589397053903498,
          0.006509569231137624,
          0.006307650391857313,
          0.006244303416481482,
          0.006191409843697321,
          0.0060821851026557966,
          0.0060052599221286865,
          0.005991903421026968,
          0.005844171377114996,
          0.005796646791872031,
          0.005779566380234573,
          0.005700831727090318,
          0.0056144280310178605,
          0.005508581599358852,
          0.005402294136807717,
          0.0052081671522018706,
          0.005195010761808346,
          0.0051032372641097055,
          0.0049706321745770455,
          0.004954923769414813,
          0.004888461486737213,
          0.004806418855290394,
          0.004634786118125498,
          0.004619455491789671,
          0.004585446372858877,
          0.004523832786963976,
          0.0045063405168407076,
          0.004214397667718608,
          0.0040208573539475935,
          0.003855559325054626,
          0.0035562281130684303,
          0.0032766439626069604,
          0.0032331383190492484,
          0.0031426357255477134,
          0.003113037610946476,
          0.00298247644141336,
          0.0029781105952713816,
          0.002392592446679827,
          0.0022640907608420355,
          0.002256742780795442,
          0.002226276062554086,
          0.0022190269144260343,
          0.002162943910625619,
          0.0020041723749544167,
          0.0016449292847490636,
          0.0015972408854297419,
          0.0015889506716479033,
          0.001533073028946754,
          0.0014736541463417443,
          0.0014245797175138847,
          0.0013933208457437888,
          0.0010706865463692213
         ],
         "yaxis": "y"
        },
        {
         "hovertemplate": "max_power=False<br>payload_size=1M<br>unchanged_counter=15<br>sorted=%{x}<br>normalized=%{y}<extra></extra>",
         "legendgroup": "False, 1M",
         "line": {
          "color": "#636efa",
          "dash": "dash"
         },
         "marker": {
          "symbol": "circle"
         },
         "mode": "lines",
         "name": "False, 1M",
         "showlegend": false,
         "type": "scattergl",
         "x": [
          0,
          1,
          2,
          3,
          4,
          5,
          6,
          7,
          8,
          9,
          10,
          11,
          12,
          13,
          14,
          15,
          16,
          17,
          18,
          19,
          20,
          21,
          22,
          23,
          24,
          25,
          26,
          27,
          28,
          29,
          30,
          31,
          32,
          33,
          34,
          35,
          36,
          37,
          38,
          39,
          40,
          41,
          42,
          43,
          44,
          45,
          46,
          47,
          48,
          49,
          50,
          51,
          52,
          53,
          54,
          55,
          56,
          57,
          58,
          59,
          60,
          61,
          62,
          63,
          64,
          65,
          66,
          67,
          68,
          69,
          70,
          71,
          72,
          73,
          74,
          75
         ],
         "xaxis": "x2",
         "y": [
          0.23791135496720148,
          0.1903590018948329,
          0.07015334757433826,
          0.02830840305662861,
          0.025555911596234764,
          0.025334736794296882,
          0.025219805095881082,
          0.018739628883529966,
          0.01579157541633345,
          0.012897161584318233,
          0.010571458547324792,
          0.009016556063208909,
          0.00823168689276115,
          0.007664080831434237,
          0.007364553598228633,
          0.007152230689673026,
          0.007029588277869162,
          0.0068839814258734285,
          0.00677433914761994,
          0.006737157810228903,
          0.006712214697527724,
          0.006708305823980636,
          0.006686351845888349,
          0.006591777949384754,
          0.006495231434274029,
          0.00643322747916278,
          0.006378533818014786,
          0.00636175557651584,
          0.0063435494467225075,
          0.006319585014097268,
          0.006266944912688591,
          0.006263008724254598,
          0.006253239014614008,
          0.006216963232595426,
          0.005893570825472057,
          0.005727859467444312,
          0.005694571391127309,
          0.005517798106839366,
          0.005135363137541662,
          0.005080016940087718,
          0.0050096692897894516,
          0.004621029314765843,
          0.004353290116161237,
          0.004254127760790382,
          0.00412282379219371,
          0.004049186259424692,
          0.0036161531028973052,
          0.003508221776277824,
          0.003217804172943702,
          0.0030828212235525084,
          0.0030049753891764385,
          0.002986707195299092,
          0.002707882989650172,
          0.002555268035516613,
          0.0025302874383489223,
          0.0022922488729707454,
          0.0019436645540554871,
          0.0019076768349798577,
          0.0018898246324364205,
          0.001837761772600951,
          0.0018238334841942068,
          0.0015955952022446013,
          0.0014272049271849625,
          0.0013935277058663641,
          0.000965127429782428,
          0.0009494423821117252,
          0.0009269459580902483,
          0.0008426441726374495,
          0.0007782876195971418,
          0.00046327041345954097,
          0.00044632810627446163,
          0.00039047984550625155,
          0.00032228938756503846,
          0.0003103100935016627,
          0.0003100764109613311,
          0.00024772560260907453
         ],
         "yaxis": "y2"
        },
        {
         "hovertemplate": "max_power=False<br>payload_size=1M<br>unchanged_counter=25<br>sorted=%{x}<br>normalized=%{y}<extra></extra>",
         "legendgroup": "False, 1M",
         "line": {
          "color": "#636efa",
          "dash": "dash"
         },
         "marker": {
          "symbol": "circle"
         },
         "mode": "lines",
         "name": "False, 1M",
         "showlegend": false,
         "type": "scattergl",
         "x": [
          0,
          1,
          2,
          3,
          4,
          5,
          6,
          7,
          8,
          9,
          10,
          11,
          12,
          13,
          14,
          15,
          16,
          17,
          18,
          19,
          20,
          21,
          22,
          23,
          24,
          25,
          26,
          27,
          28,
          29,
          30,
          31,
          32,
          33,
          34,
          35,
          36,
          37,
          38,
          39,
          40,
          41,
          42,
          43,
          44,
          45,
          46,
          47,
          48,
          49,
          50,
          51,
          52,
          53,
          54,
          55,
          56,
          57,
          58,
          59,
          60,
          61,
          62,
          63,
          64,
          65,
          66,
          67,
          68,
          69,
          70,
          71,
          72,
          73,
          74,
          75
         ],
         "xaxis": "x3",
         "y": [
          0.28748701640484026,
          0.21174115589161918,
          0.10899921337665312,
          0.07471952335042178,
          0.060103601499325275,
          0.04091217223812488,
          0.035649991889473244,
          0.02667638631651313,
          0.017976328709604035,
          0.0167722705078314,
          0.015372147883324498,
          0.015323256297529229,
          0.012981790104853615,
          0.007134749402439197,
          0.006962311596808701,
          0.0068498977393724805,
          0.00683745074368015,
          0.0067791004432782775,
          0.00669351823013355,
          0.006640900298141362,
          0.006614953310604824,
          0.006559020166394089,
          0.006529885839480484,
          0.006498315271792548,
          0.0064878407935581904,
          0.0063453492826319674,
          0.006340148144417065,
          0.006335085216590559,
          0.00615313357677789,
          0.006045617550564388,
          0.006011928191877892,
          0.005984701600341866,
          0.005964383459865657,
          0.005960820005571297,
          0.005944719497995341,
          0.005895659687221889,
          0.005873206574251948,
          0.005853527097014963,
          0.005728894447973319,
          0.005519534960200447,
          0.005199189764078277,
          0.005094144828474288,
          0.004933627242659314,
          0.004857820061894442,
          0.004736981997745052,
          0.004722998783409423,
          0.004381474751987801,
          0.004309304250519958,
          0.004210866273660062,
          0.0039451457473154644,
          0.003821676466984479,
          0.0037111782521802375,
          0.003672670036205662,
          0.0036554615943252392,
          0.002866048428659967,
          0.0028617785095251106,
          0.0026412715377230594,
          0.002381881346413765,
          0.0023247261375912353,
          0.0020298811775355074,
          0.0018974163299931262,
          0.0017598223755563908,
          0.0017368541272656482,
          0.0015260776755064804,
          0.0012410714692522426,
          0.0008953749841045756,
          0.0008392165075167514,
          0.0007525963776085256,
          0.0006608461097605341,
          0.00046344477668352005,
          0.0004422357515408884,
          0.0004006191094260996,
          0.000363146513501827,
          0.00033961750379658926,
          0.00019059429846677006,
          0.000053501389232234424
         ],
         "yaxis": "y3"
        },
        {
         "hovertemplate": "max_power=True<br>payload_size=100K<br>unchanged_counter=5<br>sorted=%{x}<br>normalized=%{y}<extra></extra>",
         "legendgroup": "True, 100K",
         "line": {
          "color": "#EF553B",
          "dash": "solid"
         },
         "marker": {
          "symbol": "circle"
         },
         "mode": "lines",
         "name": "True, 100K",
         "showlegend": true,
         "type": "scattergl",
         "x": [
          0,
          1,
          2,
          3,
          4,
          5,
          6,
          7,
          8,
          9,
          10,
          11,
          12,
          13,
          14,
          15,
          16,
          17,
          18,
          19,
          20,
          21,
          22,
          23,
          24,
          25,
          26,
          27,
          28,
          29,
          30,
          31,
          32,
          33,
          34,
          35,
          36,
          37,
          38,
          39,
          40,
          41,
          42,
          43,
          44,
          45,
          46,
          47,
          48,
          49,
          50,
          51,
          52,
          53,
          54,
          55,
          56,
          57,
          58,
          59,
          60,
          61,
          62,
          63,
          64,
          65,
          66,
          67,
          68,
          69,
          70,
          71,
          72,
          73,
          74,
          75
         ],
         "xaxis": "x",
         "y": [
          0.7303143775726167,
          0.4209798415872545,
          0.41993900217028773,
          0.4054820857021303,
          0.39825362746805154,
          0.39102516923397285,
          0.3690111670350055,
          0.36006875617282186,
          0.34430833523315785,
          0.3122224266565195,
          0.26884046713265564,
          0.26322232972935133,
          0.2564531991264017,
          0.2351049278648269,
          0.20994513962078357,
          0.2082484396008394,
          0.18518621571115965,
          0.18066412731373238,
          0.17907296646659665,
          0.1741749766397109,
          0.16625453938381063,
          0.16350084100892348,
          0.15564766446937267,
          0.14525758927529625,
          0.14043861711924377,
          0.13345564014511668,
          0.12338740470559642,
          0.10349363321456777,
          0.10301927416574619,
          0.07434985612195258,
          0.0704154243011189,
          0.056253703028146446,
          0.03786335265469807,
          0.03166753131120203,
          0.030634894420619348,
          0.023468501969513476,
          0.021685648119782307,
          0.020070125808286304,
          0.009657083540334477,
          0.007916882827800507,
          0.00763961861731778,
          0.004818972156052482,
          0.00035571622752280887,
          0.0003271631654492841,
          0.0003193516938867339,
          0.00029259491736076946,
          0.00025919983373683537,
          0.000254551735452525,
          0.000246349209068448,
          0.00015912901185109512,
          0.00012604548876865094,
          0.00010581259035459419,
          0.00010034423943187614,
          0.00009323538323234268,
          0.00008936832516130973,
          0.00008776703230962464,
          0.0000721822321798782,
          0.00006589362861875244,
          0.0000486683232121906,
          0.000047027817935375194,
          0.000016678470314290038,
          0.000016131635222018234,
          0.000013397459760659212,
          0.00001066328429930019,
          0.000004101263192038534,
          0,
          0,
          0,
          0,
          0,
          0,
          0,
          0,
          0,
          0,
          0
         ],
         "yaxis": "y"
        },
        {
         "hovertemplate": "max_power=True<br>payload_size=100K<br>unchanged_counter=15<br>sorted=%{x}<br>normalized=%{y}<extra></extra>",
         "legendgroup": "True, 100K",
         "line": {
          "color": "#EF553B",
          "dash": "solid"
         },
         "marker": {
          "symbol": "circle"
         },
         "mode": "lines",
         "name": "True, 100K",
         "showlegend": false,
         "type": "scattergl",
         "x": [
          0,
          1,
          2,
          3,
          4,
          5,
          6,
          7,
          8,
          9,
          10,
          11,
          12,
          13,
          14,
          15,
          16,
          17,
          18,
          19,
          20,
          21,
          22,
          23,
          24,
          25,
          26,
          27,
          28,
          29,
          30,
          31,
          32,
          33,
          34,
          35,
          36,
          37,
          38,
          39,
          40,
          41,
          42,
          43,
          44,
          45,
          46,
          47,
          48,
          49,
          50,
          51,
          52,
          53,
          54,
          55,
          56,
          57,
          58,
          59,
          60,
          61,
          62,
          63,
          64,
          65,
          66,
          67,
          68,
          69,
          70,
          71,
          72,
          73,
          74,
          75
         ],
         "xaxis": "x2",
         "y": [
          0.8498534292879338,
          0.45229495807521153,
          0.44024752768508035,
          0.38689058267467763,
          0.3689955822348758,
          0.36246402453844906,
          0.3518834665220127,
          0.3469659952357787,
          0.3363420868869027,
          0.3349185648456475,
          0.31403706575517504,
          0.30397336190388813,
          0.3011953293673949,
          0.2746814128949915,
          0.2657318931766083,
          0.2619816905380468,
          0.2546677341586051,
          0.2537585589414799,
          0.21434418357510474,
          0.20756112943271135,
          0.20688006635732603,
          0.20377532024692463,
          0.17382857700248092,
          0.17111288366650668,
          0.17085917257741676,
          0.16350084100892348,
          0.14215967860354822,
          0.124238759215746,
          0.1198288058623336,
          0.11671148254480992,
          0.1077988741951551,
          0.07547987771712301,
          0.07091538884463547,
          0.06746561018473475,
          0.04578023548249858,
          0.043272018367563087,
          0.039928626435863424,
          0.034421229686089155,
          0.029258045233175784,
          0.027536983748871327,
          0.0004073921437424944,
          0.00035763015034576015,
          0.00032044536407127745,
          0.0003200521703901981,
          0.00021846061936258592,
          0.00014354421172134868,
          0.0001197568852075252,
          0.00011264802900799174,
          0.00010007082188574023,
          0.00009842924717914854,
          0.00009132146040939136,
          0.00008776596287984835,
          0.00005249616885809324,
          0.000050855663581277824,
          0.00003827845645902632,
          0.00003445061081312369,
          0.00003171643535176466,
          0.00003116960025949286,
          0.000026794919521318423,
          0.000014491129945202821,
          0.000011210119391571993,
          0.000003007593007494925,
          0,
          0,
          0,
          0,
          0,
          0,
          0,
          0,
          0,
          0,
          0,
          0,
          0,
          0
         ],
         "yaxis": "y2"
        },
        {
         "hovertemplate": "max_power=True<br>payload_size=100K<br>unchanged_counter=25<br>sorted=%{x}<br>normalized=%{y}<extra></extra>",
         "legendgroup": "True, 100K",
         "line": {
          "color": "#EF553B",
          "dash": "solid"
         },
         "marker": {
          "symbol": "circle"
         },
         "mode": "lines",
         "name": "True, 100K",
         "showlegend": false,
         "type": "scattergl",
         "x": [
          0,
          1,
          2,
          3,
          4,
          5,
          6,
          7,
          8,
          9,
          10,
          11,
          12,
          13,
          14,
          15,
          16,
          17,
          18,
          19,
          20,
          21,
          22,
          23,
          24,
          25,
          26,
          27,
          28,
          29,
          30,
          31,
          32,
          33,
          34,
          35,
          36,
          37,
          38,
          39,
          40,
          41,
          42,
          43,
          44,
          45,
          46,
          47,
          48,
          49,
          50,
          51,
          52,
          53,
          54,
          55,
          56,
          57,
          58,
          59,
          60,
          61,
          62,
          63,
          64,
          65,
          66,
          67,
          68,
          69,
          70,
          71,
          72,
          73,
          74,
          75
         ],
         "xaxis": "x3",
         "y": [
          0.7622767556622251,
          0.4898264022226248,
          0.47053820980883876,
          0.46058312153694037,
          0.4368054047164714,
          0.41167790704562635,
          0.37828931425011986,
          0.361767124000797,
          0.360504905578757,
          0.35660393954788366,
          0.3415066176721376,
          0.28673212429567635,
          0.2812214465353484,
          0.2465536146163689,
          0.2447349430680939,
          0.2406448613025913,
          0.23936425509138762,
          0.22821302623631723,
          0.21768757550680434,
          0.20528559719688252,
          0.20136419366362157,
          0.199987344476178,
          0.19448404898959576,
          0.18174409274255077,
          0.1548955335874012,
          0.1431923154941309,
          0.12907961132283435,
          0.12426063916678187,
          0.11367700474376544,
          0.10844464565167967,
          0.10016577838651945,
          0.09839535138376038,
          0.0981721400024417,
          0.08433201273091843,
          0.08020146516858774,
          0.06122042332278407,
          0.06023715195065602,
          0.05094341993541195,
          0.05025499534169017,
          0.04922235845110749,
          0.04509181088877679,
          0.04268232481075055,
          0.03924020184214164,
          0.03717492806097629,
          0.03545386657667183,
          0.03409998446310368,
          0.02239539928210269,
          0.021734316442994495,
          0.01962010092107082,
          0.008308122942596773,
          0.0002982985428342694,
          0.00029611120246518215,
          0.00029365044454995903,
          0.00024552895643004027,
          0.0001079999307236814,
          0.00010717967808527369,
          0.00010717967808527369,
          0.00008749361476348873,
          0.0000612455303344421,
          0.0000596050250576267,
          0.00005878477241921899,
          0.000054410091681044554,
          0.00005386325658877275,
          0.000043746807381744365,
          0.000033356940628580076,
          0.00003007593007494925,
          0.000028982259890405642,
          0.000021053151052464475,
          0.000013670877306795114,
          0.000004921515830446241,
          0,
          0,
          0,
          0,
          0,
          0
         ],
         "yaxis": "y3"
        },
        {
         "hovertemplate": "max_power=True<br>payload_size=1K<br>unchanged_counter=5<br>sorted=%{x}<br>normalized=%{y}<extra></extra>",
         "legendgroup": "True, 1K",
         "line": {
          "color": "#EF553B",
          "dash": "dot"
         },
         "marker": {
          "symbol": "circle"
         },
         "mode": "lines",
         "name": "True, 1K",
         "showlegend": true,
         "type": "scattergl",
         "x": [
          0,
          1,
          2,
          3,
          4,
          5,
          6,
          7,
          8,
          9,
          10,
          11,
          12,
          13,
          14,
          15,
          16,
          17,
          18,
          19,
          20,
          21,
          22,
          23,
          24,
          25,
          26,
          27,
          28,
          29,
          30,
          31,
          32,
          33,
          34,
          35,
          36,
          37,
          38,
          39,
          40,
          41,
          42,
          43,
          44,
          45,
          46,
          47,
          48,
          49,
          50,
          51,
          52,
          53,
          54,
          55,
          56,
          57,
          58,
          59,
          60,
          61,
          62,
          63,
          64,
          65,
          66,
          67,
          68,
          69,
          70,
          71,
          72,
          73,
          74,
          75
         ],
         "xaxis": "x",
         "y": [
          0.5030575256819553,
          0.44890885049893986,
          0.39548437313517787,
          0.3768599581021382,
          0.3761275855616747,
          0.3727014128033429,
          0.35774976010090037,
          0.3462914296524423,
          0.34206573485799435,
          0.31022027076141356,
          0.3014022155705209,
          0.30040982355866147,
          0.27860407361358186,
          0.2582661829289377,
          0.2578025884897379,
          0.23180072845554142,
          0.21272653815487105,
          0.19504585607886993,
          0.19382964693240123,
          0.18013760725332756,
          0.18000293350715,
          0.1305476349183871,
          0.13035728069592817,
          0.12453567052632282,
          0.12153611132552698,
          0.1206441516028177,
          0.11835107832532071,
          0.08580457811958098,
          0.07645013454347666,
          0.06298210663523153,
          0.06150315311029693,
          0.05954289325020779,
          0.03258932017398204,
          0.025021355349279767,
          0.022788020873536312,
          0.02180789094349174,
          0.021317825978469453,
          0.02110161417397861,
          0.017397890166949013,
          0.01396685150313516,
          0.0038952315292378626,
          0.00035365401043754656,
          0.00033185475387782987,
          0.0003071359540288654,
          0.00029740414306470616,
          0.0002857259699077151,
          0.0002703497085843435,
          0.00026373207712871523,
          0.00024816117958606043,
          0.00022013356400928187,
          0.00019852894366884837,
          0.0001829580461261936,
          0.0001701120556535034,
          0.00016699787614497244,
          0.00016329978797859193,
          0.0001576553376193796,
          0.00013935953300676023,
          0.00013157408423543284,
          0.00012651354253407002,
          0.00010140547024653921,
          0.00008544530026531807,
          0.000042430695803734256,
          0.00003211497618172547,
          0.000014986988884805219,
          0.000002335634631398216,
          0,
          0,
          0,
          0,
          0,
          0,
          0,
          0,
          0,
          0,
          0
         ],
         "yaxis": "y"
        },
        {
         "hovertemplate": "max_power=True<br>payload_size=1K<br>unchanged_counter=15<br>sorted=%{x}<br>normalized=%{y}<extra></extra>",
         "legendgroup": "True, 1K",
         "line": {
          "color": "#EF553B",
          "dash": "dot"
         },
         "marker": {
          "symbol": "circle"
         },
         "mode": "lines",
         "name": "True, 1K",
         "showlegend": false,
         "type": "scattergl",
         "x": [
          0,
          1,
          2,
          3,
          4,
          5,
          6,
          7,
          8,
          9,
          10,
          11,
          12,
          13,
          14,
          15,
          16,
          17,
          18,
          19,
          20,
          21,
          22,
          23,
          24,
          25,
          26,
          27,
          28,
          29,
          30,
          31,
          32,
          33,
          34,
          35,
          36,
          37,
          38,
          39,
          40,
          41,
          42,
          43,
          44,
          45,
          46,
          47,
          48,
          49,
          50,
          51,
          52,
          53,
          54,
          55,
          56,
          57,
          58,
          59,
          60,
          61,
          62,
          63,
          64,
          65,
          66,
          67,
          68,
          69,
          70,
          71,
          72,
          73,
          74,
          75
         ],
         "xaxis": "x2",
         "y": [
          0.45036970285548106,
          0.3898466796752287,
          0.36485336645909217,
          0.28007212751023663,
          0.22346962405016255,
          0.2215093641900734,
          0.20190676558918197,
          0.19749618090398136,
          0.18671475167349105,
          0.16882738045017762,
          0.16098634100982104,
          0.1538803990169979,
          0.13256257303852845,
          0.12766192338830556,
          0.12570166352821643,
          0.11099971457754784,
          0.11050964961252556,
          0.1090394547174587,
          0.10438383754974698,
          0.0943375057667901,
          0.09213221342418981,
          0.08208588164123296,
          0.07865542688607695,
          0.06223825055783036,
          0.06223825055783036,
          0.05954289325020779,
          0.059052828285185495,
          0.05807269835514092,
          0.05782766587262978,
          0.05415217863496263,
          0.04410584685200577,
          0.03969526216680519,
          0.0340595150690489,
          0.03258932017398204,
          0.03136415776142632,
          0.029648930383848318,
          0.026218475628692315,
          0.023033053356047453,
          0.00035910382457747574,
          0.00034684174276263506,
          0.00032056585315940513,
          0.0003127804043880778,
          0.00031258576816879457,
          0.00030480031939746717,
          0.0003038271383010513,
          0.00029740414306470616,
          0.00029487387221402477,
          0.000291954328924777,
          0.00027346388809287446,
          0.0002475772709282109,
          0.00022305310729852962,
          0.00021624083962361817,
          0.00020028066964239703,
          0.00019132740355537052,
          0.00018451513588045907,
          0.0001815955925912113,
          0.00014948061640948583,
          0.00014909134397091947,
          0.0001294330858233178,
          0.00010763382926360112,
          0.0001041303773165038,
          0.0001004322891501233,
          0.00009926447183442418,
          0.00008272039319535348,
          0.0000749349444240261,
          0.000068511949187681,
          0.00006695485943341553,
          0.000057612320907822664,
          0.000037759426540937826,
          0.000034061338374557315,
          0.000033672065935990946,
          0.000029779341550327254,
          0.000027832979357495407,
          0.000026081253383946745,
          0.000012456718034123818,
          0
         ],
         "yaxis": "y2"
        },
        {
         "hovertemplate": "max_power=True<br>payload_size=1K<br>unchanged_counter=25<br>sorted=%{x}<br>normalized=%{y}<extra></extra>",
         "legendgroup": "True, 1K",
         "line": {
          "color": "#EF553B",
          "dash": "dot"
         },
         "marker": {
          "symbol": "circle"
         },
         "mode": "lines",
         "name": "True, 1K",
         "showlegend": false,
         "type": "scattergl",
         "x": [
          0,
          1,
          2,
          3,
          4,
          5,
          6,
          7,
          8,
          9,
          10,
          11,
          12,
          13,
          14,
          15,
          16,
          17,
          18,
          19,
          20,
          21,
          22,
          23,
          24,
          25,
          26,
          27,
          28,
          29,
          30,
          31,
          32,
          33,
          34,
          35,
          36,
          37,
          38,
          39,
          40,
          41,
          42,
          43,
          44,
          45,
          46,
          47,
          48,
          49,
          50,
          51,
          52,
          53,
          54,
          55,
          56,
          57,
          58,
          59,
          60,
          61,
          62,
          63,
          64,
          65,
          66,
          67,
          68,
          69,
          70,
          71,
          72,
          73,
          74,
          75
         ],
         "xaxis": "x3",
         "y": [
          0.528780097259047,
          0.4243962597092999,
          0.4177803826814991,
          0.397197654150563,
          0.33276754114926294,
          0.32221771450215325,
          0.24699274237123228,
          0.23670137810576428,
          0.23510857691011539,
          0.221671301524517,
          0.21714121020067656,
          0.21023786999456082,
          0.19685411956926532,
          0.1676022180376219,
          0.15461549646453132,
          0.15314530156946446,
          0.1374632226887513,
          0.12472153359817185,
          0.11761559160534871,
          0.112959974437637,
          0.07473490716589866,
          0.07424484220087638,
          0.06846449490975906,
          0.0641985104179195,
          0.06370844545289722,
          0.06076805566276349,
          0.06052302318025235,
          0.0532086403141433,
          0.04900649650222864,
          0.046801204159628344,
          0.045821074229583765,
          0.02891383293631489,
          0.026953573076225746,
          0.019847631083402595,
          0.007596006957845436,
          0.0003703927252959004,
          0.0003622180040860067,
          0.00034314365459625455,
          0.0003363313869213431,
          0.00032173367047510425,
          0.00031180722329166184,
          0.00030810913512528134,
          0.0002524431764102905,
          0.00024193282056899853,
          0.00023414737179767116,
          0.0001932737657482024,
          0.00019152203977465372,
          0.00016154806200504326,
          0.00015979633603149462,
          0.0001436415298309903,
          0.00013935953300676023,
          0.00010432501353578698,
          0.00009342538525592865,
          0.00007765985149399068,
          0.00007123685625764559,
          0.00006734413187198189,
          0.00006656558699484915,
          0.00006150504529348636,
          0.00005469277761857489,
          0.00004496096665441566,
          0.00004379314933871655,
          0.00003990042495305286,
          0.00003990042495305286,
          0.00003464524703240687,
          0.00003464524703240687,
          0.0000266651620417963,
          0.00002296707387541579,
          0.000022772437656132606,
          0.00002082607546330076,
          0.000018879713270468913,
          0.000008369357429176941,
          0.000007785448771327387,
          0,
          0,
          0,
          0
         ],
         "yaxis": "y3"
        },
        {
         "hovertemplate": "max_power=True<br>payload_size=1M<br>unchanged_counter=5<br>sorted=%{x}<br>normalized=%{y}<extra></extra>",
         "legendgroup": "True, 1M",
         "line": {
          "color": "#EF553B",
          "dash": "dash"
         },
         "marker": {
          "symbol": "circle"
         },
         "mode": "lines",
         "name": "True, 1M",
         "showlegend": true,
         "type": "scattergl",
         "x": [
          0,
          1,
          2,
          3,
          4,
          5,
          6,
          7,
          8,
          9,
          10,
          11,
          12,
          13,
          14,
          15,
          16,
          17,
          18,
          19,
          20,
          21,
          22,
          23,
          24,
          25,
          26,
          27,
          28,
          29,
          30,
          31,
          32,
          33,
          34,
          35,
          36,
          37,
          38,
          39,
          40,
          41,
          42,
          43,
          44,
          45,
          46,
          47,
          48,
          49,
          50,
          51,
          52,
          53,
          54,
          55,
          56,
          57,
          58,
          59,
          60,
          61,
          62,
          63,
          64,
          65,
          66,
          67,
          68,
          69,
          70,
          71,
          72,
          73,
          74,
          75
         ],
         "xaxis": "x",
         "y": [
          1,
          0.46434375555307345,
          0.41752951609226147,
          0.35076190011536323,
          0.296198109364986,
          0.26642359878088373,
          0.239933196217448,
          0.23750648483401518,
          0.2361296356465716,
          0.22753143708124887,
          0.1907931364477274,
          0.18071145585196807,
          0.17840384225293457,
          0.15214183521251406,
          0.15007656143134873,
          0.13871755563493932,
          0.10601902793843142,
          0.0898394094806927,
          0.07999220887380201,
          0.07572670530939614,
          0.05851609046635157,
          0.04681287237308125,
          0.045098099492337916,
          0.044406667305608646,
          0.025138981207782792,
          0.024454931294799188,
          0.02203970344830409,
          0.02156591162829899,
          0.01962010092107082,
          0.014130476311795388,
          0.013080067280713878,
          0.00894951971838318,
          0.00048422247420668295,
          0.0003841516523209427,
          0.00035161496433077033,
          0.0003445061081312369,
          0.00034204535021601376,
          0.0003290022281878957,
          0.00029447069718836674,
          0.00028408083043520246,
          0.0002761517215972613,
          0.00021654669653963461,
          0.00021435935617054739,
          0.00021244543334759608,
          0.00018619734891854944,
          0.00018318975591105453,
          0.0001820960857265109,
          0.0001810024155419673,
          0.00015803534166655152,
          0.00015420749602064888,
          0.00014245054153680508,
          0.00013834927834476655,
          0.00012905308177614587,
          0.00012768599404546635,
          0.00011893663256911749,
          0.000044020224927880265,
          0.00003964554418970583,
          0.00003390377572085188,
          0.00002788858970586203,
          0.000027341754613590227,
          0.000023787326513823497,
          0.000018318975591105453,
          0.000014764547491338723,
          0.000014764547491338723,
          0,
          0,
          0,
          0,
          0,
          0,
          0,
          0,
          0,
          0,
          0,
          0
         ],
         "yaxis": "y"
        },
        {
         "hovertemplate": "max_power=True<br>payload_size=1M<br>unchanged_counter=15<br>sorted=%{x}<br>normalized=%{y}<extra></extra>",
         "legendgroup": "True, 1M",
         "line": {
          "color": "#EF553B",
          "dash": "dash"
         },
         "marker": {
          "symbol": "circle"
         },
         "mode": "lines",
         "name": "True, 1M",
         "showlegend": false,
         "type": "scattergl",
         "x": [
          0,
          1,
          2,
          3,
          4,
          5,
          6,
          7,
          8,
          9,
          10,
          11,
          12,
          13,
          14,
          15,
          16,
          17,
          18,
          19,
          20,
          21,
          22,
          23,
          24,
          25,
          26,
          27,
          28,
          29,
          30,
          31,
          32,
          33,
          34,
          35,
          36,
          37,
          38,
          39,
          40,
          41,
          42,
          43,
          44,
          45,
          46,
          47,
          48,
          49,
          50,
          51,
          52,
          53,
          54,
          55,
          56,
          57,
          58,
          59,
          60,
          61,
          62,
          63,
          64,
          65,
          66,
          67,
          68,
          69,
          70,
          71,
          72,
          73,
          74,
          75
         ],
         "xaxis": "x2",
         "y": [
          0.8105813642475169,
          0.49119094762049226,
          0.3528176042824139,
          0.3356069894393693,
          0.31048249936153166,
          0.3098929396537951,
          0.30738158109677616,
          0.29813104905382154,
          0.2740225173962524,
          0.25854663491481905,
          0.24654459183734642,
          0.22890117741249288,
          0.2261783752203191,
          0.22478949566084558,
          0.21188906370794297,
          0.2113463502725874,
          0.20103037123351386,
          0.18587464030488146,
          0.18491582615175547,
          0.1735655697168224,
          0.17141772383672402,
          0.16625453938381063,
          0.16567493497345093,
          0.16418926560264527,
          0.14456916468157446,
          0.13907735273192995,
          0.1308006728071388,
          0.13026180761115336,
          0.12804697443225166,
          0.11359005796409423,
          0.0981005046053541,
          0.09534680623046697,
          0.08918734942060699,
          0.08613646656679434,
          0.07916882827800506,
          0.06333506262240406,
          0.050299015566618054,
          0.04130875663386062,
          0.03958441413900253,
          0.036142291170393616,
          0.029602257530036678,
          0.025815922264566867,
          0.024793401823191223,
          0.01962010092107082,
          0.018931676327349035,
          0.00763036163317429,
          0.00047027817935375193,
          0.00028025298478929984,
          0.0002736909636820382,
          0.0002649416022056893,
          0.00024388845115322482,
          0.00018318975591105453,
          0.00014627838718270773,
          0.0001326075098759126,
          0.0001306935870529613,
          0.00009460247096302219,
          0.00008749361476348873,
          0.00007710374801032444,
          0.000056870849596267676,
          0.00004921515830446241,
          0.00004456706002015207,
          0.00003445061081312369,
          0.00001913922822951316,
          0.00001804555804496955,
          0.000011756954483843799,
          0.000007929108837941165,
          0.0000024607579152231205,
          0,
          0,
          0,
          0,
          0,
          0,
          0,
          0,
          0
         ],
         "yaxis": "y2"
        },
        {
         "hovertemplate": "max_power=True<br>payload_size=1M<br>unchanged_counter=25<br>sorted=%{x}<br>normalized=%{y}<extra></extra>",
         "legendgroup": "True, 1M",
         "line": {
          "color": "#EF553B",
          "dash": "dash"
         },
         "marker": {
          "symbol": "circle"
         },
         "mode": "lines",
         "name": "True, 1M",
         "showlegend": false,
         "type": "scattergl",
         "x": [
          0,
          1,
          2,
          3,
          4,
          5,
          6,
          7,
          8,
          9,
          10,
          11,
          12,
          13,
          14,
          15,
          16,
          17,
          18,
          19,
          20,
          21,
          22,
          23,
          24,
          25,
          26,
          27,
          28,
          29,
          30,
          31,
          32,
          33,
          34,
          35,
          36,
          37,
          38,
          39,
          40,
          41,
          42,
          43,
          44,
          45,
          46,
          47,
          48,
          49,
          50,
          51,
          52,
          53,
          54,
          55,
          56,
          57,
          58,
          59,
          60,
          61,
          62,
          63,
          64,
          65,
          66,
          67,
          68,
          69,
          70,
          71,
          72,
          73,
          74,
          75
         ],
         "xaxis": "x3",
         "y": [
          0.8367414988089447,
          0.5355943339155473,
          0.4863719754644398,
          0.4550486564500987,
          0.3975652028743298,
          0.39451267951524027,
          0.3521548809380289,
          0.33250907876762126,
          0.3318209275914456,
          0.2760754873878416,
          0.2622897702079994,
          0.2548067806321923,
          0.2516191890053117,
          0.22995131302602828,
          0.21547689783491814,
          0.1996431321793171,
          0.19826983741997334,
          0.16833266378964437,
          0.15258791998836768,
          0.14284810319727,
          0.13630806955691308,
          0.12942382361969523,
          0.12495152451841886,
          0.12219536538561651,
          0.10901005274336452,
          0.0974120800116323,
          0.0936257447461625,
          0.08742992340266646,
          0.08433201273091843,
          0.07848040368428327,
          0.06608876099729118,
          0.06608876099729118,
          0.057139241278908,
          0.05268854216377637,
          0.04578023548249858,
          0.039928626435863424,
          0.03786335265469807,
          0.030009082444962688,
          0.029946469826897568,
          0.026848559155149544,
          0.020391371031271782,
          0.008605307421522289,
          0.008261095124661397,
          0.00028162007251997934,
          0.0002288504861157502,
          0.00022092137727780905,
          0.0002157264439012269,
          0.00020752391751714983,
          0.0002047897420557908,
          0.00019768088585625734,
          0.00018674418401082126,
          0.00017744798744220058,
          0.00010499233771618648,
          0.00010253157980096336,
          0.00008995437267871185,
          0.00008585310948667331,
          0.00007436957254896542,
          0.00005386325658877275,
          0.000051402498673549625,
          0.0000486683232121906,
          0.00004538731265855978,
          0.00003718478627448271,
          0.0000358176985438032,
          0.00003198985289790057,
          0.00003171643535176466,
          0.00002980251252881335,
          0.000015037965037474625,
          2.7341754613590227e-7,
          0,
          0,
          0,
          0,
          0,
          0,
          0,
          0
         ],
         "yaxis": "y3"
        }
       ],
       "layout": {
        "annotations": [
         {
          "font": {},
          "showarrow": false,
          "text": "unchanged_counter=5",
          "x": 0.15999999999999998,
          "xanchor": "center",
          "xref": "paper",
          "y": 1,
          "yanchor": "bottom",
          "yref": "paper"
         },
         {
          "font": {},
          "showarrow": false,
          "text": "unchanged_counter=15",
          "x": 0.49999999999999994,
          "xanchor": "center",
          "xref": "paper",
          "y": 1,
          "yanchor": "bottom",
          "yref": "paper"
         },
         {
          "font": {},
          "showarrow": false,
          "text": "unchanged_counter=25",
          "x": 0.8399999999999999,
          "xanchor": "center",
          "xref": "paper",
          "y": 1,
          "yanchor": "bottom",
          "yref": "paper"
         }
        ],
        "legend": {
         "title": {
          "text": "max_power, payload_size"
         },
         "tracegroupgap": 0
        },
        "margin": {
         "t": 60
        },
        "template": {
         "data": {
          "bar": [
           {
            "error_x": {
             "color": "#2a3f5f"
            },
            "error_y": {
             "color": "#2a3f5f"
            },
            "marker": {
             "line": {
              "color": "#E5ECF6",
              "width": 0.5
             },
             "pattern": {
              "fillmode": "overlay",
              "size": 10,
              "solidity": 0.2
             }
            },
            "type": "bar"
           }
          ],
          "barpolar": [
           {
            "marker": {
             "line": {
              "color": "#E5ECF6",
              "width": 0.5
             },
             "pattern": {
              "fillmode": "overlay",
              "size": 10,
              "solidity": 0.2
             }
            },
            "type": "barpolar"
           }
          ],
          "carpet": [
           {
            "aaxis": {
             "endlinecolor": "#2a3f5f",
             "gridcolor": "white",
             "linecolor": "white",
             "minorgridcolor": "white",
             "startlinecolor": "#2a3f5f"
            },
            "baxis": {
             "endlinecolor": "#2a3f5f",
             "gridcolor": "white",
             "linecolor": "white",
             "minorgridcolor": "white",
             "startlinecolor": "#2a3f5f"
            },
            "type": "carpet"
           }
          ],
          "choropleth": [
           {
            "colorbar": {
             "outlinewidth": 0,
             "ticks": ""
            },
            "type": "choropleth"
           }
          ],
          "contour": [
           {
            "colorbar": {
             "outlinewidth": 0,
             "ticks": ""
            },
            "colorscale": [
             [
              0,
              "#0d0887"
             ],
             [
              0.1111111111111111,
              "#46039f"
             ],
             [
              0.2222222222222222,
              "#7201a8"
             ],
             [
              0.3333333333333333,
              "#9c179e"
             ],
             [
              0.4444444444444444,
              "#bd3786"
             ],
             [
              0.5555555555555556,
              "#d8576b"
             ],
             [
              0.6666666666666666,
              "#ed7953"
             ],
             [
              0.7777777777777778,
              "#fb9f3a"
             ],
             [
              0.8888888888888888,
              "#fdca26"
             ],
             [
              1,
              "#f0f921"
             ]
            ],
            "type": "contour"
           }
          ],
          "contourcarpet": [
           {
            "colorbar": {
             "outlinewidth": 0,
             "ticks": ""
            },
            "type": "contourcarpet"
           }
          ],
          "heatmap": [
           {
            "colorbar": {
             "outlinewidth": 0,
             "ticks": ""
            },
            "colorscale": [
             [
              0,
              "#0d0887"
             ],
             [
              0.1111111111111111,
              "#46039f"
             ],
             [
              0.2222222222222222,
              "#7201a8"
             ],
             [
              0.3333333333333333,
              "#9c179e"
             ],
             [
              0.4444444444444444,
              "#bd3786"
             ],
             [
              0.5555555555555556,
              "#d8576b"
             ],
             [
              0.6666666666666666,
              "#ed7953"
             ],
             [
              0.7777777777777778,
              "#fb9f3a"
             ],
             [
              0.8888888888888888,
              "#fdca26"
             ],
             [
              1,
              "#f0f921"
             ]
            ],
            "type": "heatmap"
           }
          ],
          "heatmapgl": [
           {
            "colorbar": {
             "outlinewidth": 0,
             "ticks": ""
            },
            "colorscale": [
             [
              0,
              "#0d0887"
             ],
             [
              0.1111111111111111,
              "#46039f"
             ],
             [
              0.2222222222222222,
              "#7201a8"
             ],
             [
              0.3333333333333333,
              "#9c179e"
             ],
             [
              0.4444444444444444,
              "#bd3786"
             ],
             [
              0.5555555555555556,
              "#d8576b"
             ],
             [
              0.6666666666666666,
              "#ed7953"
             ],
             [
              0.7777777777777778,
              "#fb9f3a"
             ],
             [
              0.8888888888888888,
              "#fdca26"
             ],
             [
              1,
              "#f0f921"
             ]
            ],
            "type": "heatmapgl"
           }
          ],
          "histogram": [
           {
            "marker": {
             "pattern": {
              "fillmode": "overlay",
              "size": 10,
              "solidity": 0.2
             }
            },
            "type": "histogram"
           }
          ],
          "histogram2d": [
           {
            "colorbar": {
             "outlinewidth": 0,
             "ticks": ""
            },
            "colorscale": [
             [
              0,
              "#0d0887"
             ],
             [
              0.1111111111111111,
              "#46039f"
             ],
             [
              0.2222222222222222,
              "#7201a8"
             ],
             [
              0.3333333333333333,
              "#9c179e"
             ],
             [
              0.4444444444444444,
              "#bd3786"
             ],
             [
              0.5555555555555556,
              "#d8576b"
             ],
             [
              0.6666666666666666,
              "#ed7953"
             ],
             [
              0.7777777777777778,
              "#fb9f3a"
             ],
             [
              0.8888888888888888,
              "#fdca26"
             ],
             [
              1,
              "#f0f921"
             ]
            ],
            "type": "histogram2d"
           }
          ],
          "histogram2dcontour": [
           {
            "colorbar": {
             "outlinewidth": 0,
             "ticks": ""
            },
            "colorscale": [
             [
              0,
              "#0d0887"
             ],
             [
              0.1111111111111111,
              "#46039f"
             ],
             [
              0.2222222222222222,
              "#7201a8"
             ],
             [
              0.3333333333333333,
              "#9c179e"
             ],
             [
              0.4444444444444444,
              "#bd3786"
             ],
             [
              0.5555555555555556,
              "#d8576b"
             ],
             [
              0.6666666666666666,
              "#ed7953"
             ],
             [
              0.7777777777777778,
              "#fb9f3a"
             ],
             [
              0.8888888888888888,
              "#fdca26"
             ],
             [
              1,
              "#f0f921"
             ]
            ],
            "type": "histogram2dcontour"
           }
          ],
          "mesh3d": [
           {
            "colorbar": {
             "outlinewidth": 0,
             "ticks": ""
            },
            "type": "mesh3d"
           }
          ],
          "parcoords": [
           {
            "line": {
             "colorbar": {
              "outlinewidth": 0,
              "ticks": ""
             }
            },
            "type": "parcoords"
           }
          ],
          "pie": [
           {
            "automargin": true,
            "type": "pie"
           }
          ],
          "scatter": [
           {
            "fillpattern": {
             "fillmode": "overlay",
             "size": 10,
             "solidity": 0.2
            },
            "type": "scatter"
           }
          ],
          "scatter3d": [
           {
            "line": {
             "colorbar": {
              "outlinewidth": 0,
              "ticks": ""
             }
            },
            "marker": {
             "colorbar": {
              "outlinewidth": 0,
              "ticks": ""
             }
            },
            "type": "scatter3d"
           }
          ],
          "scattercarpet": [
           {
            "marker": {
             "colorbar": {
              "outlinewidth": 0,
              "ticks": ""
             }
            },
            "type": "scattercarpet"
           }
          ],
          "scattergeo": [
           {
            "marker": {
             "colorbar": {
              "outlinewidth": 0,
              "ticks": ""
             }
            },
            "type": "scattergeo"
           }
          ],
          "scattergl": [
           {
            "marker": {
             "colorbar": {
              "outlinewidth": 0,
              "ticks": ""
             }
            },
            "type": "scattergl"
           }
          ],
          "scattermapbox": [
           {
            "marker": {
             "colorbar": {
              "outlinewidth": 0,
              "ticks": ""
             }
            },
            "type": "scattermapbox"
           }
          ],
          "scatterpolar": [
           {
            "marker": {
             "colorbar": {
              "outlinewidth": 0,
              "ticks": ""
             }
            },
            "type": "scatterpolar"
           }
          ],
          "scatterpolargl": [
           {
            "marker": {
             "colorbar": {
              "outlinewidth": 0,
              "ticks": ""
             }
            },
            "type": "scatterpolargl"
           }
          ],
          "scatterternary": [
           {
            "marker": {
             "colorbar": {
              "outlinewidth": 0,
              "ticks": ""
             }
            },
            "type": "scatterternary"
           }
          ],
          "surface": [
           {
            "colorbar": {
             "outlinewidth": 0,
             "ticks": ""
            },
            "colorscale": [
             [
              0,
              "#0d0887"
             ],
             [
              0.1111111111111111,
              "#46039f"
             ],
             [
              0.2222222222222222,
              "#7201a8"
             ],
             [
              0.3333333333333333,
              "#9c179e"
             ],
             [
              0.4444444444444444,
              "#bd3786"
             ],
             [
              0.5555555555555556,
              "#d8576b"
             ],
             [
              0.6666666666666666,
              "#ed7953"
             ],
             [
              0.7777777777777778,
              "#fb9f3a"
             ],
             [
              0.8888888888888888,
              "#fdca26"
             ],
             [
              1,
              "#f0f921"
             ]
            ],
            "type": "surface"
           }
          ],
          "table": [
           {
            "cells": {
             "fill": {
              "color": "#EBF0F8"
             },
             "line": {
              "color": "white"
             }
            },
            "header": {
             "fill": {
              "color": "#C8D4E3"
             },
             "line": {
              "color": "white"
             }
            },
            "type": "table"
           }
          ]
         },
         "layout": {
          "annotationdefaults": {
           "arrowcolor": "#2a3f5f",
           "arrowhead": 0,
           "arrowwidth": 1
          },
          "autotypenumbers": "strict",
          "coloraxis": {
           "colorbar": {
            "outlinewidth": 0,
            "ticks": ""
           }
          },
          "colorscale": {
           "diverging": [
            [
             0,
             "#8e0152"
            ],
            [
             0.1,
             "#c51b7d"
            ],
            [
             0.2,
             "#de77ae"
            ],
            [
             0.3,
             "#f1b6da"
            ],
            [
             0.4,
             "#fde0ef"
            ],
            [
             0.5,
             "#f7f7f7"
            ],
            [
             0.6,
             "#e6f5d0"
            ],
            [
             0.7,
             "#b8e186"
            ],
            [
             0.8,
             "#7fbc41"
            ],
            [
             0.9,
             "#4d9221"
            ],
            [
             1,
             "#276419"
            ]
           ],
           "sequential": [
            [
             0,
             "#0d0887"
            ],
            [
             0.1111111111111111,
             "#46039f"
            ],
            [
             0.2222222222222222,
             "#7201a8"
            ],
            [
             0.3333333333333333,
             "#9c179e"
            ],
            [
             0.4444444444444444,
             "#bd3786"
            ],
            [
             0.5555555555555556,
             "#d8576b"
            ],
            [
             0.6666666666666666,
             "#ed7953"
            ],
            [
             0.7777777777777778,
             "#fb9f3a"
            ],
            [
             0.8888888888888888,
             "#fdca26"
            ],
            [
             1,
             "#f0f921"
            ]
           ],
           "sequentialminus": [
            [
             0,
             "#0d0887"
            ],
            [
             0.1111111111111111,
             "#46039f"
            ],
            [
             0.2222222222222222,
             "#7201a8"
            ],
            [
             0.3333333333333333,
             "#9c179e"
            ],
            [
             0.4444444444444444,
             "#bd3786"
            ],
            [
             0.5555555555555556,
             "#d8576b"
            ],
            [
             0.6666666666666666,
             "#ed7953"
            ],
            [
             0.7777777777777778,
             "#fb9f3a"
            ],
            [
             0.8888888888888888,
             "#fdca26"
            ],
            [
             1,
             "#f0f921"
            ]
           ]
          },
          "colorway": [
           "#636efa",
           "#EF553B",
           "#00cc96",
           "#ab63fa",
           "#FFA15A",
           "#19d3f3",
           "#FF6692",
           "#B6E880",
           "#FF97FF",
           "#FECB52"
          ],
          "font": {
           "color": "#2a3f5f"
          },
          "geo": {
           "bgcolor": "white",
           "lakecolor": "white",
           "landcolor": "#E5ECF6",
           "showlakes": true,
           "showland": true,
           "subunitcolor": "white"
          },
          "hoverlabel": {
           "align": "left"
          },
          "hovermode": "closest",
          "mapbox": {
           "style": "light"
          },
          "paper_bgcolor": "white",
          "plot_bgcolor": "#E5ECF6",
          "polar": {
           "angularaxis": {
            "gridcolor": "white",
            "linecolor": "white",
            "ticks": ""
           },
           "bgcolor": "#E5ECF6",
           "radialaxis": {
            "gridcolor": "white",
            "linecolor": "white",
            "ticks": ""
           }
          },
          "scene": {
           "xaxis": {
            "backgroundcolor": "#E5ECF6",
            "gridcolor": "white",
            "gridwidth": 2,
            "linecolor": "white",
            "showbackground": true,
            "ticks": "",
            "zerolinecolor": "white"
           },
           "yaxis": {
            "backgroundcolor": "#E5ECF6",
            "gridcolor": "white",
            "gridwidth": 2,
            "linecolor": "white",
            "showbackground": true,
            "ticks": "",
            "zerolinecolor": "white"
           },
           "zaxis": {
            "backgroundcolor": "#E5ECF6",
            "gridcolor": "white",
            "gridwidth": 2,
            "linecolor": "white",
            "showbackground": true,
            "ticks": "",
            "zerolinecolor": "white"
           }
          },
          "shapedefaults": {
           "line": {
            "color": "#2a3f5f"
           }
          },
          "ternary": {
           "aaxis": {
            "gridcolor": "white",
            "linecolor": "white",
            "ticks": ""
           },
           "baxis": {
            "gridcolor": "white",
            "linecolor": "white",
            "ticks": ""
           },
           "bgcolor": "#E5ECF6",
           "caxis": {
            "gridcolor": "white",
            "linecolor": "white",
            "ticks": ""
           }
          },
          "title": {
           "x": 0.05
          },
          "xaxis": {
           "automargin": true,
           "gridcolor": "white",
           "linecolor": "white",
           "ticks": "",
           "title": {
            "standoff": 15
           },
           "zerolinecolor": "white",
           "zerolinewidth": 2
          },
          "yaxis": {
           "automargin": true,
           "gridcolor": "white",
           "linecolor": "white",
           "ticks": "",
           "title": {
            "standoff": 15
           },
           "zerolinecolor": "white",
           "zerolinewidth": 2
          }
         }
        },
        "xaxis": {
         "anchor": "y",
         "domain": [
          0,
          0.31999999999999995
         ],
         "title": {
          "text": "sorted"
         }
        },
        "xaxis2": {
         "anchor": "y2",
         "domain": [
          0.33999999999999997,
          0.6599999999999999
         ],
         "matches": "x",
         "title": {
          "text": "sorted"
         }
        },
        "xaxis3": {
         "anchor": "y3",
         "domain": [
          0.6799999999999999,
          0.9999999999999999
         ],
         "matches": "x",
         "title": {
          "text": "sorted"
         }
        },
        "yaxis": {
         "anchor": "x",
         "domain": [
          0,
          1
         ],
         "title": {
          "text": "normalized"
         }
        },
        "yaxis2": {
         "anchor": "x2",
         "domain": [
          0,
          1
         ],
         "matches": "y",
         "showticklabels": false
        },
        "yaxis3": {
         "anchor": "x3",
         "domain": [
          0,
          1
         ],
         "matches": "y",
         "showticklabels": false
        }
       }
      }
     },
     "metadata": {},
     "output_type": "display_data"
    }
   ],
   "source": [
    "fig = px.line(\n",
    "    strain_df,\n",
    "    x=\"sorted\",\n",
    "    y=\"normalized\",\n",
    "    color=\"max_power\",\n",
    "    facet_col=\"unchanged_counter\",\n",
    "    line_dash=\"payload_size\"\n",
    ")\n",
    "fig"
   ]
  }
 ],
 "metadata": {
  "kernelspec": {
   "display_name": "Python 3.10.5 64-bit",
   "language": "python",
   "name": "python3"
  },
  "language_info": {
   "codemirror_mode": {
    "name": "ipython",
    "version": 3
   },
   "file_extension": ".py",
   "mimetype": "text/x-python",
   "name": "python",
   "nbconvert_exporter": "python",
   "pygments_lexer": "ipython3",
   "version": "3.10.5"
  },
  "orig_nbformat": 4,
  "vscode": {
   "interpreter": {
    "hash": "aee8b7b246df8f9039afb4144a1f6fd8d2ca17a180786b69acc140d282b71a49"
   }
  }
 },
 "nbformat": 4,
 "nbformat_minor": 2
}
