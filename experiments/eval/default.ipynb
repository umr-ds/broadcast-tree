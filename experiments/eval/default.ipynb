{
 "cells": [
  {
   "cell_type": "code",
   "execution_count": null,
   "metadata": {},
   "outputs": [],
   "source": [
    "import glob\n",
    "import pathlib\n",
    "import math\n",
    "\n",
    "import pandas as pd\n",
    "pd.set_option(\"display.max_columns\", 100)\n",
    "pd.set_option('display.max_rows', 500)\n",
    "import plotly.express as px\n",
    "\n",
    "from btree_analysis.log_parser import parse_experiment"
   ]
  },
  {
   "cell_type": "code",
   "execution_count": null,
   "metadata": {},
   "outputs": [],
   "source": [
    "EXPERIMENT_PATH = \"/tank/btp/testbed/*\"\n",
    "EXPERIMENT_IDENTIFIER = [\"payload_size\", \"flood\", \"unchanged_counter\", \"source_id\", \"iteration\"]"
   ]
  },
  {
   "cell_type": "code",
   "execution_count": null,
   "metadata": {},
   "outputs": [],
   "source": [
    "def nextpow2(N):\n",
    "    \"\"\" Function for finding the next power of 2 (see https://gist.github.com/lppier/a59adc18bcf32d8545f7) \"\"\"\n",
    "    n = 1\n",
    "    while n < N: n *= 2\n",
    "    return n\n",
    "\n",
    "# Return how long the frame (in bytes) is sent in seconds\n",
    "def frame_duration(frame_size):\n",
    "    if pd.isnull(frame_size):\n",
    "        frame_size = 0\n",
    "    signal_ext = 6e-6 # For the signal extension (aSignalExtension) of 6 µs in the 2.4 GHz band see IEEE 802.11-2016 10.3.8 and 19.4.4 Table 19-25.\n",
    "    ofdm_sym_duration = 4e-6 # For 20 MHz channels\n",
    "    mcs = 7 # Index of used Modulation (see https://wireless.wiki.kernel.org/en/developers/Documentation/ieee80211/802.11n#mcs_rates)\n",
    "    \n",
    "    num_fcs_bytes = 4\n",
    "    num_service_bits = 16\n",
    "    num_tail_bits = 6\n",
    "    # See IEEE 802.11-2020 Table 19-27 - 19-30\n",
    "    mcs_to_num_data_bits_per_symbol  = [26, 52, 78, 104, 156, 208, 234, 260, 52, 104, 156, 208, 312, 416, 468, 520, 78, 156, 234, 312, 468, 624, 702, 780, 104, 208, 312, 416, 624, 832, 936, 1040]\n",
    "    ndbps = mcs_to_num_data_bits_per_symbol[mcs]\n",
    "    \n",
    "    num_psdu_bytes = frame_size + num_fcs_bytes\n",
    "    num_data_bits = num_service_bits + (8 * num_psdu_bytes) + num_tail_bits\n",
    "    num_coded_ofdm_syms = math.ceil(num_data_bits / ndbps)\n",
    "    \n",
    "    num_ss = math.ceil((mcs + 1) / 8)\n",
    "    num_phy_header_ofdm_syms = 5 + 2 + 1 + 2^nextpow2(num_ss); # + HT-SIG 2 OFDM syms, HT-STF 1 OFDM sym, HT-LTF 1 OFDM sym * (1, 2, 4, 4)\n",
    "    \n",
    "    num_ofdm_syms = num_phy_header_ofdm_syms + num_coded_ofdm_syms\n",
    "    \n",
    "    return num_ofdm_syms * ofdm_sym_duration + signal_ext"
   ]
  },
  {
   "cell_type": "code",
   "execution_count": null,
   "metadata": {},
   "outputs": [],
   "source": [
    "events = []"
   ]
  },
  {
   "cell_type": "code",
   "execution_count": null,
   "metadata": {},
   "outputs": [],
   "source": [
    "dirs = glob.glob(EXPERIMENT_PATH)\n",
    "num_dirs = len(dirs)\n",
    "for count, experiment in zip(range(0, num_dirs), dirs):\n",
    "    print(f\"Parsing experiment {experiment} ({count + 1}/{num_dirs})\")\n",
    "    _events, _, _ = parse_experiment(pathlib.Path(experiment))\n",
    "    events += _events\n",
    "\n",
    "df = pd.DataFrame(events)"
   ]
  },
  {
   "cell_type": "code",
   "execution_count": null,
   "metadata": {},
   "outputs": [],
   "source": [
    "df[\"mW\"] = 10**(df[\"tx_pwr\"]/10)\n",
    "df[\"frame_size\"] = (df[\"data_len\"] + 34) # Add BTP and Ethernet header\n",
    "df[\"mWb\"] = df[\"mW\"] * df[\"frame_size\"]\n",
    "df[\"mJ\"] = df[\"mW\"] * df[\"frame_size\"].apply(frame_duration)\n",
    "\n",
    "df.loc[(df[\"event\"] == \"send\") & (df[\"message\"] == \"Successfully forwarded payload.\") | (df[\"message\"] == \"Successfully sent next chunk.\"), \"frame_type\"] = \"Data\"\n",
    "df.loc[(df[\"event\"] == \"send\") & ((df[\"message\"] != \"Successfully forwarded payload.\") & (df[\"message\"] != \"Successfully sent next chunk.\")), \"frame_type\"] = \"Construction\""
   ]
  },
  {
   "cell_type": "code",
   "execution_count": null,
   "metadata": {},
   "outputs": [],
   "source": [
    "df_tx_0 = df[df[\"tx_pwr_threshold\"] == 0]\n",
    "df_tx_0 = df_tx_0.drop([\"tx_pwr_threshold\"], axis=1)\n",
    "\n",
    "df_tx_0.loc[df_tx_0[\"flood\"] == True, \"counter_protocol\"] = \"SBP\"\n",
    "df_tx_0.loc[df_tx_0[\"flood\"] == False, \"counter_protocol\"] = df_tx_0[\"unchanged_counter\"]\n",
    "\n",
    "df_tx_0.loc[df_tx_0[\"flood\"] == True, \"protocol\"] = \"SBP\"\n",
    "df_tx_0.loc[df_tx_0[\"flood\"] == False, \"protocol\"] = \"BTP\"\n",
    "\n",
    "df_tx_0.loc[df_tx_0[\"payload_size\"] == \"1K\", \"payload_size\"] = \"1 KiB\"\n",
    "df_tx_0.loc[df_tx_0[\"payload_size\"] == \"4k\", \"payload_size\"] = \"4 KiB\"\n",
    "df_tx_0.loc[df_tx_0[\"payload_size\"] == \"16K\", \"payload_size\"] = \"16 KiB\""
   ]
  },
  {
   "cell_type": "markdown",
   "metadata": {},
   "source": [
    "# Absolute Values of Received Payloads"
   ]
  },
  {
   "cell_type": "code",
   "execution_count": null,
   "metadata": {},
   "outputs": [],
   "source": [
    "reception_ratio_df = df_tx_0.groupby([\"payload_size\", \"flood\", \"counter_protocol\", \"source_id\", \"iteration\"])[\"event\"].apply(lambda x: (x == 'receive').sum()).reset_index(name='count')\n",
    "reception_ratio_df.loc[reception_ratio_df[\"counter_protocol\"] == \"SBP\", \"count\"] = reception_ratio_df[\"count\"] / 3"
   ]
  },
  {
   "cell_type": "code",
   "execution_count": null,
   "metadata": {},
   "outputs": [],
   "source": [
    "fig = px.box(\n",
    "    reception_ratio_df,\n",
    "    x=\"payload_size\",\n",
    "    y=(reception_ratio_df[\"count\"] / 73) * 100, \n",
    "    color=\"counter_protocol\",\n",
    "    category_orders={\n",
    "        \"payload_size\": [\"1 KiB\", \"4 KiB\", \"16 KiB\"]\n",
    "    },\n",
    "    labels={\n",
    "        \"payload_size\": \"Data Size\",\n",
    "        \"y\": \"Successful Recipients (%)\",\n",
    "        \"counter_protocol\": \"Unchanged Counter\",\n",
    "    }\n",
    ")\n",
    "\n",
    "fig.update_layout(\n",
    "    margin=dict(l=0, r=0, t=0, b=0),\n",
    ")\n",
    "\n",
    "fig.write_image(\"/tank/btp/testbed/success_receptions.pdf\", width=500, height=220)\n",
    "fig"
   ]
  },
  {
   "cell_type": "code",
   "execution_count": null,
   "metadata": {},
   "outputs": [],
   "source": [
    "for name, group in reception_ratio_df.groupby([\"payload_size\", \"counter_protocol\"]):\n",
    "    print(f\"### {name}\")\n",
    "    print(group.describe())"
   ]
  },
  {
   "cell_type": "markdown",
   "metadata": {},
   "source": [
    "# [Obsolete] Relative Values of Received Payloads"
   ]
  },
  {
   "cell_type": "code",
   "execution_count": null,
   "metadata": {},
   "outputs": [],
   "source": [
    "def reception_ratio(x):\n",
    "    flooding = x[x[\"flood\"] == True]\n",
    "    btp = x[x[\"flood\"] == False]\n",
    "    \n",
    "    return float(btp[\"count\"]) / flooding[\"count\"]\n",
    "\n",
    "reception_count_df = df_tx_0.groupby(EXPERIMENT_IDENTIFIER)[\"event\"].apply(lambda x: (x == 'receive').sum()).reset_index(name='count')\n",
    "reception_count_df = reception_count_df.groupby([\"payload_size\", \"source_id\", \"unchanged_counter\", \"iteration\"]).apply(reception_ratio).reset_index(name='ratio')"
   ]
  },
  {
   "cell_type": "code",
   "execution_count": null,
   "metadata": {},
   "outputs": [],
   "source": [
    "fig = px.box(\n",
    "    reception_count_df,\n",
    "    x=\"payload_size\",\n",
    "    y=\"ratio\", \n",
    "    color=\"unchanged_counter\",\n",
    "    category_orders={\n",
    "        \"payload_size\": [\"1 KiB\", \"4 KiB\", \"16 KiB\"]\n",
    "    },\n",
    "    labels={\n",
    "        \"payload_size\": \"Data Size\",\n",
    "        \"ratio\": \"Delivery Compared to SBP\",\n",
    "        \"unchanged_counter\": \"Unchanged Counter\",\n",
    "    }\n",
    ")\n",
    "\n",
    "fig.update_layout(\n",
    "    margin=dict(l=0, r=0, t=0, b=0),\n",
    ")\n",
    "\n",
    "fig.write_image(\"/tank/btp/testbed/delivery_ratio.pdf\", width=500, height=220)\n",
    "fig"
   ]
  },
  {
   "cell_type": "markdown",
   "metadata": {},
   "source": [
    "# Prepare energy df"
   ]
  },
  {
   "cell_type": "code",
   "execution_count": null,
   "metadata": {},
   "outputs": [],
   "source": [
    "def energy_ratio_count(x):\n",
    "    energy_payload_df = x[x[\"frame_type\"] == \"Data\"]\n",
    "    energy_protocol_df = x[x[\"frame_type\"] == \"Construction\"]\n",
    "    \n",
    "    if energy_payload_df.empty:\n",
    "        energy_payload = 0\n",
    "    else:\n",
    "        energy_payload = float(energy_payload_df[\"mJ_total\"])\n",
    "    \n",
    "    if energy_protocol_df.empty:\n",
    "        energy_protocol = 0\n",
    "    else:\n",
    "        energy_protocol = float(energy_protocol_df[\"mJ_total\"])\n",
    "    \n",
    "    total_energy = energy_payload + energy_protocol\n",
    "    \n",
    "    payload_rel = energy_payload / total_energy\n",
    "    protocol_rel = energy_protocol / total_energy\n",
    "    \n",
    "    x.loc[x[\"frame_type\"] == \"Data\", \"mJ_rel\"] = payload_rel\n",
    "    x.loc[x[\"frame_type\"] == \"Construction\", \"mJ_rel\"] = protocol_rel\n",
    "    \n",
    "    return x\n",
    "\n",
    "energy_count_df = df_tx_0[df_tx_0[\"event\"] == \"send\"].groupby([\"payload_size\", \"flood\", \"counter_protocol\", \"source_id\", \"iteration\", \"frame_type\"])[\"mJ\"].sum().reset_index(name='mJ_total')\n",
    "energy_count_df = energy_count_df.groupby([\"payload_size\", \"flood\", \"counter_protocol\", \"source_id\", \"iteration\"]).apply(energy_ratio_count)\n",
    "\n",
    "energy_count_df.loc[energy_count_df[\"counter_protocol\"] == \"SBP\", \"mJ_total\"] = energy_count_df[\"mJ_total\"] / 3"
   ]
  },
  {
   "cell_type": "code",
   "execution_count": null,
   "metadata": {},
   "outputs": [],
   "source": [
    "fig = px.box(\n",
    "    energy_count_df,\n",
    "    x=\"payload_size\",\n",
    "    y=energy_count_df[\"mJ_total\"],\n",
    "    color=\"counter_protocol\",\n",
    "    category_orders={\n",
    "        \"payload_size\": [\"1 KiB\", \"4 KiB\", \"16 KiB\"]\n",
    "    },\n",
    "    labels={\n",
    "        \"payload_size\": \"Data Size\",\n",
    "        \"mJ_total\": \"Total Energy (mJ)\",\n",
    "        \"counter_protocol\": \"Unchanged Counter\",\n",
    "    }\n",
    ")\n",
    "\n",
    "fig.update_layout(\n",
    "    margin=dict(l=0, r=0, t=0, b=0),\n",
    ")\n",
    "\n",
    "fig.write_image(\"/tank/btp/testbed/total_energy.pdf\", width=500, height=220)\n",
    "fig"
   ]
  },
  {
   "cell_type": "code",
   "execution_count": null,
   "metadata": {},
   "outputs": [],
   "source": [
    "for name, group in energy_count_df.groupby([\"payload_size\", \"counter_protocol\"]):\n",
    "    print(f\"### {name}\")\n",
    "    print(group.describe())"
   ]
  },
  {
   "cell_type": "markdown",
   "metadata": {},
   "source": [
    "# Comparison between flooding and BTP, energy wise"
   ]
  },
  {
   "cell_type": "code",
   "execution_count": null,
   "metadata": {},
   "outputs": [],
   "source": [
    "def energy_ratio_rel(x):\n",
    "    flooding = x[(x[\"flood\"] == True)].sum()\n",
    "    btp = x[(x[\"flood\"] == False)].sum()\n",
    "\n",
    "    return btp[\"mJ_total\"] / flooding[\"mJ_total\"]\n",
    "\n",
    "energy_ratio_df = df_tx_0[df_tx_0[\"event\"] == \"send\"].groupby(EXPERIMENT_IDENTIFIER + [\"frame_type\"])[\"mJ\"].sum().reset_index(name='mJ_total')\n",
    "energy_ratio_df = energy_ratio_df.groupby(EXPERIMENT_IDENTIFIER).apply(energy_ratio_count)\n",
    "\n",
    "energy_ratio_df = energy_ratio_df.groupby([\"payload_size\", \"source_id\", \"unchanged_counter\", \"iteration\"]).apply(energy_ratio_rel).reset_index(name='ratio')"
   ]
  },
  {
   "cell_type": "code",
   "execution_count": null,
   "metadata": {},
   "outputs": [],
   "source": [
    "fig = px.box(\n",
    "    energy_ratio_df,\n",
    "    x=\"payload_size\",\n",
    "    y=(energy_ratio_df[\"ratio\"]) * 100, \n",
    "    color=\"unchanged_counter\",\n",
    "    category_orders={\n",
    "        \"payload_size\": [\"1 KiB\", \"4 KiB\", \"16 KiB\"]\n",
    "    },\n",
    "    labels={\n",
    "        \"payload_size\": \"Data Size\",\n",
    "        \"y\": \"Energy Compared to SBP (%)\",\n",
    "        \"unchanged_counter\": \"Unchanged Counter\",\n",
    "    }\n",
    ")\n",
    "\n",
    "fig.update_layout(\n",
    "    margin=dict(l=0, r=0, t=0, b=0),\n",
    ")\n",
    "\n",
    "fig.write_image(\"/tank/btp/testbed/energy_reduction.pdf\", width=500, height=220)\n",
    "fig"
   ]
  },
  {
   "cell_type": "markdown",
   "metadata": {},
   "source": [
    "# What is BTP's overhead for building the tree"
   ]
  },
  {
   "cell_type": "code",
   "execution_count": null,
   "metadata": {},
   "outputs": [],
   "source": [
    "btp_energy_df = df_tx_0[(df_tx_0[\"event\"] == \"send\") & (df_tx_0[\"flood\"] == False)].groupby(EXPERIMENT_IDENTIFIER + [\"frame_type\"])[\"mJ\"].sum().reset_index(name='mJ_total')"
   ]
  },
  {
   "cell_type": "code",
   "execution_count": null,
   "metadata": {},
   "outputs": [],
   "source": [
    "def fill_missing(x):\n",
    "    if len(x) < 2:\n",
    "        payload_row = x.iloc[0]\n",
    "        payload_row[\"frame_type\"] = \"Data\"\n",
    "        payload_row[\"mJ_total\"] = 0\n",
    "        \n",
    "        new_df = x.append(payload_row, ignore_index=True)\n",
    "        \n",
    "        return new_df\n",
    "    \n",
    "    else:\n",
    "        return x\n",
    "\n",
    "\n",
    "\n",
    "btp_energy_df = btp_energy_df.groupby(EXPERIMENT_IDENTIFIER).apply(fill_missing).reset_index(drop=True)\n",
    "btp_energy_df = btp_energy_df.groupby(EXPERIMENT_IDENTIFIER).apply(energy_ratio_count)\n",
    "btp_energy_df = btp_energy_df.groupby([\"payload_size\", \"frame_type\"]).mean().reset_index()"
   ]
  },
  {
   "cell_type": "code",
   "execution_count": null,
   "metadata": {},
   "outputs": [],
   "source": [
    "fig = px.bar(\n",
    "    btp_energy_df,\n",
    "    x=\"payload_size\",\n",
    "    y=btp_energy_df[\"mJ_rel\"] * 100,\n",
    "    color=\"frame_type\",\n",
    "    category_orders={\n",
    "        \"payload_size\": [\"1 KiB\", \"4 KiB\", \"16 KiB\"],\n",
    "        \"frame_type\": [\"Data\", \"Construction\"]\n",
    "    },\n",
    "    labels={\n",
    "        \"payload_size\": \"Data Size\",\n",
    "        \"y\": \"Payload and Construction Energy (%)\",\n",
    "        \"frame_type\": \"Phase\",\n",
    "    }\n",
    ")\n",
    "\n",
    "fig.update_layout(\n",
    "    margin=dict(l=0, r=0, t=0, b=0),\n",
    ")\n",
    "\n",
    "fig.write_image(\"/tank/btp/testbed/overhead_relative.pdf\", width=500, height=220)\n",
    "fig"
   ]
  },
  {
   "cell_type": "code",
   "execution_count": null,
   "metadata": {},
   "outputs": [],
   "source": [
    "fig = px.bar(\n",
    "    btp_energy_df,\n",
    "    x=\"payload_size\",\n",
    "    y=btp_energy_df[\"mJ_total\"],\n",
    "    color=\"frame_type\",\n",
    "    category_orders={\n",
    "        \"payload_size\": [\"1 KiB\", \"4 KiB\", \"16 KiB\"],\n",
    "        \"frame_type\": [\"Data\", \"Construction\"]\n",
    "    },\n",
    "    labels={\n",
    "        \"payload_size\": \"Data Size\",\n",
    "        \"mJ_total\": \"Payload and Construction Energy (mJ)\",\n",
    "        \"frame_type\": \"Phase\",\n",
    "    }\n",
    ")\n",
    "\n",
    "fig.update_layout(\n",
    "    margin=dict(l=0, r=0, t=0, b=0),\n",
    ")\n",
    "\n",
    "fig.write_image(\"/tank/btp/testbed/overhead_absolute.pdf\", width=500, height=220)\n",
    "fig"
   ]
  },
  {
   "cell_type": "code",
   "execution_count": null,
   "metadata": {},
   "outputs": [],
   "source": [
    "fig = px.box(\n",
    "    df_tx_0[(df_tx_0[\"event\"] == \"send\") & (df_tx_0[\"flood\"] == False)].groupby(EXPERIMENT_IDENTIFIER + [\"frame_type\"]).sum().reset_index(),\n",
    "    x=\"payload_size\",\n",
    "    y=\"mJ\",\n",
    "    color=\"frame_type\",\n",
    "    category_orders={\n",
    "        \"payload_size\": [\"1 KiB\", \"4 KiB\", \"16 KiB\"],\n",
    "        \"frame_type\": [\"Data\", \"Construction\"]\n",
    "    },\n",
    "    labels={\n",
    "        \"payload_size\": \"Data Size\",\n",
    "        \"mJ\": \"Energy Consumption (mJ)\",\n",
    "        \"frame_type\": \"Phase\",\n",
    "    }\n",
    ")\n",
    "\n",
    "fig.update_layout(\n",
    "    margin=dict(l=0, r=0, t=0, b=0),\n",
    ")\n",
    "\n",
    "fig.write_image(\"/tank/btp/testbed/ratio.pdf\", width=500, height=220)\n",
    "fig"
   ]
  },
  {
   "cell_type": "code",
   "execution_count": null,
   "metadata": {},
   "outputs": [],
   "source": [
    "for name, group in df_tx_0[(df_tx_0[\"event\"] == \"send\") & (df_tx_0[\"flood\"] == False)].groupby([\"payload_size\", \"unchanged_counter\", \"frame_type\"]):\n",
    "    print(f'### {name}: {group[\"data_len\"].sum() / 1024 / 1024}')"
   ]
  },
  {
   "cell_type": "markdown",
   "metadata": {},
   "source": [
    "# Strain on Individual Nodes"
   ]
  },
  {
   "cell_type": "code",
   "execution_count": null,
   "metadata": {},
   "outputs": [],
   "source": [
    "def sort_groups(x):\n",
    "    sorted_x = x.sort_values(by=\"amount\", ascending=False)\n",
    "    sorted_x['sorted'] = range(len(sorted_x))\n",
    "    \n",
    "    return sorted_x\n",
    "\n",
    "strain_df = df_tx_0.groupby([\"payload_size\", \"protocol\", \"unchanged_counter\", \"source_id\", \"iteration\", \"node_id\"])[\"mJ\"].sum().reset_index(name=\"amount\")\n",
    "strain_df = strain_df.groupby([\"payload_size\", \"protocol\", \"unchanged_counter\", \"source_id\", \"iteration\"]).agg(sort_groups).reset_index(drop=True)\n",
    "strain_df[\"normalized\"] = (strain_df[\"amount\"] - strain_df[\"amount\"].min()) / (strain_df[\"amount\"].max() - strain_df[\"amount\"].min())"
   ]
  },
  {
   "cell_type": "code",
   "execution_count": null,
   "metadata": {},
   "outputs": [],
   "source": [
    "fig = px.scatter(\n",
    "    strain_df,\n",
    "    x=\"sorted\",\n",
    "    y=strain_df[\"normalized\"] * 100,\n",
    "    color=\"protocol\",\n",
    "    facet_row=\"protocol\",\n",
    "    labels={\n",
    "        \"sorted\": \"Node\",\n",
    "        \"y\": \"\",\n",
    "        \"protocol\": \"Protocol\",\n",
    "    },\n",
    "    opacity=.3,\n",
    "    trendline=\"lowess\",\n",
    ")\n",
    "\n",
    "fig.update_traces(\n",
    "    marker=dict(size=2, opacity=1),\n",
    "    selector=dict(mode=\"markers\"),\n",
    ")\n",
    "\n",
    "fig.for_each_annotation(lambda a: a.update(text=a.text.replace(\"Protocol=\", \"\")))\n",
    "\n",
    "fig.update_layout(showlegend=False, margin=dict(l=60, r=10, t=0, b=0))\n",
    "\n",
    "fig.add_annotation(x=-0.1, y=0.3,\n",
    "                   text=\"Load per Node (%)\",\n",
    "                   textangle=-90,\n",
    "                   xref=\"paper\",\n",
    "                   yref=\"paper\",\n",
    "                   font=dict(size=14)\n",
    "                   )\n",
    "\n",
    "fig.write_image(\"/tank/btp/testbed/node_strain.pdf\", width=500, height=220)\n",
    "fig"
   ]
  },
  {
   "cell_type": "code",
   "execution_count": null,
   "metadata": {},
   "outputs": [],
   "source": [
    "def calc_timestamps(x):\n",
    "    start_events = x[x[\"event\"] == \"start\"]\n",
    "    receive_events = x[x[\"event\"] == \"receive\"]\n",
    "    finish_events = x[x[\"message\"] == \"Successfully sent next chunk.\"]        \n",
    "    \n",
    "    source_node = start_events[\"source_id\"].iloc[0]\n",
    "    start = start_events[start_events[\"node_id\"] == source_node][\"timestamp\"].max()\n",
    "    \n",
    "    if finish_events.empty:\n",
    "        last_finish = start\n",
    "    else:\n",
    "        last_finish = finish_events[\"timestamp\"].min()\n",
    "        \n",
    "    if receive_events.empty:\n",
    "        last_receive = start\n",
    "    else:\n",
    "        last_receive = receive_events[\"timestamp\"].max()\n",
    "\n",
    "    finish_time = last_finish - start if last_finish >= start else start - start\n",
    "    receive_time = last_receive - start\n",
    "    \n",
    "    x[\"finish_time\"] = finish_time\n",
    "    x[\"receive_time\"] = receive_time\n",
    "    \n",
    "    return x\n",
    "\n",
    "times_df = df_tx_0[\n",
    "    (df_tx_0[\"event\"] == \"start\") |\n",
    "    (df_tx_0[\"event\"] == \"receive\") |\n",
    "    (df_tx_0[\"message\"] == \"Successfully sent next chunk.\")\n",
    "].groupby(EXPERIMENT_IDENTIFIER).apply(calc_timestamps)"
   ]
  },
  {
   "cell_type": "code",
   "execution_count": null,
   "metadata": {},
   "outputs": [],
   "source": [
    "fig = px.box(\n",
    "    times_df,\n",
    "    x=\"payload_size\",\n",
    "    y=times_df[\"finish_time\"].dt.total_seconds(),\n",
    "    color=\"counter_protocol\",\n",
    "    category_orders={\n",
    "        \"payload_size\": [\"1 KiB\", \"4 KiB\", \"16 KiB\"],\n",
    "        \"counter_protocol\": [5, 15, 25, \"SBP\"]\n",
    "    },\n",
    "    labels={\n",
    "        \"payload_size\": \"Data Size\",\n",
    "        \"y\": \"Construction Time (s)\",\n",
    "        \"counter_protocol\": \"Unchanged Counter\",\n",
    "    }\n",
    ")\n",
    "\n",
    "fig.update_layout(\n",
    "    margin=dict(l=0, r=0, t=0, b=0),\n",
    ")\n",
    "\n",
    "fig.write_image(\"/tank/btp/testbed/time_to_build.pdf\", width=500, height=220)\n",
    "fig"
   ]
  },
  {
   "cell_type": "code",
   "execution_count": null,
   "metadata": {},
   "outputs": [],
   "source": [
    "fig = px.box(\n",
    "    times_df,\n",
    "    x=\"payload_size\",\n",
    "    y=times_df[\"receive_time\"].dt.total_seconds(),\n",
    "    color=\"counter_protocol\",\n",
    "    category_orders={\n",
    "        \"payload_size\": [\"1 KiB\", \"4 KiB\", \"16 KiB\"],\n",
    "        \"counter_protocol\": [5, 15, 25, \"SBP\"]\n",
    "    },\n",
    "    labels={\n",
    "        \"payload_size\": \"Data size\",\n",
    "        \"y\": \"Data Dissemination Time (s)\",\n",
    "        \"counter_protocol\": \"Unchanged Counter\",\n",
    "    }\n",
    ")\n",
    "\n",
    "fig.update_layout(\n",
    "    margin=dict(l=0, r=0, t=0, b=0),\n",
    ")\n",
    "\n",
    "fig.write_image(\"/tank/btp/testbed/time_last_received.pdf\", width=500, height=220)\n",
    "fig"
   ]
  }
 ],
 "metadata": {
  "kernelspec": {
   "display_name": "Python 3",
   "language": "python",
   "name": "python3"
  },
  "language_info": {
   "codemirror_mode": {
    "name": "ipython",
    "version": 3
   },
   "file_extension": ".py",
   "mimetype": "text/x-python",
   "name": "python",
   "nbconvert_exporter": "python",
   "pygments_lexer": "ipython3",
   "version": "3.10.12"
  },
  "orig_nbformat": 4,
  "vscode": {
   "interpreter": {
    "hash": "31f2aee4e71d21fbe5cf8b01ff0e069b9275f58929596ceb00d14d90e3e16cd6"
   }
  }
 },
 "nbformat": 4,
 "nbformat_minor": 2
}
